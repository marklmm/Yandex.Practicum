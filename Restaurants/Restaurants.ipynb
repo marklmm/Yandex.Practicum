{
 "cells": [
  {
   "cell_type": "markdown",
   "metadata": {},
   "source": [
    "# Рынок заведений общественного питания Москвы"
   ]
  },
  {
   "cell_type": "markdown",
   "metadata": {},
   "source": [
    "Мы решили открыть небольшое кафе в Москве. Оно оригинальное — гостей должны обслуживать роботы. Проект многообещающий, но дорогой. Вместе с партнёрами мы решились обратиться к инвесторам. Их интересует текущее положение дел на рынке — сможем ли мы снискать популярность на долгое время, когда все зеваки насмотрятся на роботов-официантов?\n",
    "Мы — гуру аналитики, и партнёры просят нас подготовить исследование рынка. У нас есть открытые данные о заведениях общественного питания в Москве.\n",
    "<br>\n",
    "<br>\n",
    "План проекта:\n",
    "<br>\n",
    "1 Изучение и предобработка данных\n",
    "<br>\n",
    "2 Анализ данных\n",
    "<br>\n",
    "2.1 Виды объектов общественного питания\n",
    "<br>\n",
    "2.2 Посадочные места\n",
    "<br>\n",
    "2.3 Расположение\n",
    "<br>\n",
    "3 Общий вывод\n",
    "<br>\n",
    "<br>\n",
    "Описание данных:\n",
    "<br>\n",
    "Таблица rest_data:\n",
    "<br>\n",
    "id — идентификатор объекта;\n",
    "<br>\n",
    "object_name — название объекта общественного питания;\n",
    "<br>\n",
    "chain — сетевой ресторан;\n",
    "<br>\n",
    "object_type — тип объекта общественного питания;\n",
    "<br>\n",
    "address — адрес;\n",
    "<br>\n",
    "number — количество посадочных мест.\n",
    "<br>"
   ]
  },
  {
   "cell_type": "markdown",
   "metadata": {},
   "source": [
    "## Изучение и предобработка данных"
   ]
  },
  {
   "cell_type": "code",
   "execution_count": 1,
   "metadata": {},
   "outputs": [],
   "source": [
    "import pandas as pd\n",
    "import numpy as np\n",
    "import seaborn as sns\n",
    "import numpy as np\n",
    "import matplotlib.pyplot as plt\n",
    "from matplotlib.pyplot import figure\n",
    "from pylab import rcParams\n",
    "import plotly.express as px\n",
    "from plotly import graph_objects as go\n",
    "\n",
    "pd.options.display.max_colwidth = 210"
   ]
  },
  {
   "cell_type": "code",
   "execution_count": 2,
   "metadata": {
    "scrolled": true
   },
   "outputs": [
    {
     "data": {
      "text/html": [
       "<div>\n",
       "<style scoped>\n",
       "    .dataframe tbody tr th:only-of-type {\n",
       "        vertical-align: middle;\n",
       "    }\n",
       "\n",
       "    .dataframe tbody tr th {\n",
       "        vertical-align: top;\n",
       "    }\n",
       "\n",
       "    .dataframe thead th {\n",
       "        text-align: right;\n",
       "    }\n",
       "</style>\n",
       "<table border=\"1\" class=\"dataframe\">\n",
       "  <thead>\n",
       "    <tr style=\"text-align: right;\">\n",
       "      <th></th>\n",
       "      <th>id</th>\n",
       "      <th>object_name</th>\n",
       "      <th>chain</th>\n",
       "      <th>object_type</th>\n",
       "      <th>address</th>\n",
       "      <th>number</th>\n",
       "    </tr>\n",
       "  </thead>\n",
       "  <tbody>\n",
       "    <tr>\n",
       "      <th>0</th>\n",
       "      <td>151635</td>\n",
       "      <td>СМЕТАНА</td>\n",
       "      <td>нет</td>\n",
       "      <td>кафе</td>\n",
       "      <td>город Москва, улица Егора Абакумова, дом 9</td>\n",
       "      <td>48</td>\n",
       "    </tr>\n",
       "    <tr>\n",
       "      <th>1</th>\n",
       "      <td>77874</td>\n",
       "      <td>Родник</td>\n",
       "      <td>нет</td>\n",
       "      <td>кафе</td>\n",
       "      <td>город Москва, улица Талалихина, дом 2/1, корпус 1</td>\n",
       "      <td>35</td>\n",
       "    </tr>\n",
       "    <tr>\n",
       "      <th>2</th>\n",
       "      <td>24309</td>\n",
       "      <td>Кафе «Академия»</td>\n",
       "      <td>нет</td>\n",
       "      <td>кафе</td>\n",
       "      <td>город Москва, Абельмановская улица, дом 6</td>\n",
       "      <td>95</td>\n",
       "    </tr>\n",
       "  </tbody>\n",
       "</table>\n",
       "</div>"
      ],
      "text/plain": [
       "       id      object_name chain object_type  \\\n",
       "0  151635          СМЕТАНА   нет        кафе   \n",
       "1   77874           Родник   нет        кафе   \n",
       "2   24309  Кафе «Академия»   нет        кафе   \n",
       "\n",
       "                                             address  number  \n",
       "0         город Москва, улица Егора Абакумова, дом 9      48  \n",
       "1  город Москва, улица Талалихина, дом 2/1, корпус 1      35  \n",
       "2          город Москва, Абельмановская улица, дом 6      95  "
      ]
     },
     "execution_count": 2,
     "metadata": {},
     "output_type": "execute_result"
    }
   ],
   "source": [
    "url = 'https://drive.google.com/file/d/1ETs3F7tssP9vRsEHCDMHEYWiZn21ZmN6/view?usp=share_link'\n",
    "path = 'https://drive.google.com/uc?export=download&id=' + url.split('/')[-2]\n",
    "data = pd.read_csv(path)\n",
    "data.head(3)"
   ]
  },
  {
   "cell_type": "markdown",
   "metadata": {},
   "source": [
    "В данных нет пропусков - это здорово. Рассмотрим столбцы 'object_name', 'object_type' и 'address' на предмет явных и неявных дубликатов:"
   ]
  },
  {
   "cell_type": "code",
   "execution_count": 3,
   "metadata": {},
   "outputs": [
    {
     "data": {
      "text/plain": [
       "171"
      ]
     },
     "execution_count": 3,
     "metadata": {},
     "output_type": "execute_result"
    }
   ],
   "source": [
    "data.duplicated(subset=['object_name', 'object_type', 'address']).sum()"
   ]
  },
  {
   "cell_type": "code",
   "execution_count": 4,
   "metadata": {},
   "outputs": [
    {
     "name": "stdout",
     "output_type": "stream",
     "text": [
      "До удаления дубликатов: 15366\n",
      "После удаления: 15195\n"
     ]
    }
   ],
   "source": [
    "print('До удаления дубликатов:', len(data))\n",
    "data = data.drop_duplicates(subset=['object_name', 'object_type', 'address']).reset_index()\n",
    "print('После удаления:', len(data))"
   ]
  },
  {
   "cell_type": "code",
   "execution_count": 5,
   "metadata": {},
   "outputs": [
    {
     "data": {
      "text/plain": [
       "кафе                                 6017\n",
       "столовая                             2575\n",
       "ресторан                             2275\n",
       "предприятие быстрого обслуживания    1891\n",
       "бар                                   853\n",
       "буфет                                 571\n",
       "кафетерий                             393\n",
       "закусочная                            348\n",
       "магазин (отдел кулинарии)             272\n",
       "Name: object_type, dtype: int64"
      ]
     },
     "execution_count": 5,
     "metadata": {},
     "output_type": "execute_result"
    }
   ],
   "source": [
    "data['object_type'].value_counts()"
   ]
  },
  {
   "cell_type": "code",
   "execution_count": 6,
   "metadata": {},
   "outputs": [
    {
     "data": {
      "text/plain": [
       "столовая                    320\n",
       "кафе                        242\n",
       "шаурма                      241\n",
       "шоколадница                 156\n",
       "kfc                         155\n",
       "макдоналдс                  148\n",
       "бургер кинг                 136\n",
       "теремок                      94\n",
       "домино'с пицца               90\n",
       "крошка картошка              90\n",
       "пекарня                      80\n",
       "буфет                        75\n",
       "милти                        72\n",
       "суши wok                     72\n",
       "папа джонс                   51\n",
       "додо пицца                   49\n",
       "школьно-базовая столовая     44\n",
       "кофе с собой                 43\n",
       "чайхона №1                   42\n",
       "донер кебаб                  41\n",
       "Name: object_name, dtype: int64"
      ]
     },
     "execution_count": 6,
     "metadata": {},
     "output_type": "execute_result"
    }
   ],
   "source": [
    "# Приведем названия заведений к нижнему регистру:\n",
    "data['object_name'] = data['object_name'].str.lower()\n",
    "data['object_name'].value_counts().head(20)"
   ]
  },
  {
   "cell_type": "markdown",
   "metadata": {},
   "source": [
    "Названия заведений заполнялись не по регламенту, есть некоторое количество неявных дубликатов, типа 'кафе \"kfc\"' и 'ростикс \"kfc\"', но названия не интересуют нас в рамках нашего исследования, только типы, так что оставим их как есть."
   ]
  },
  {
   "cell_type": "markdown",
   "metadata": {},
   "source": [
    "## Анализ данных"
   ]
  },
  {
   "cell_type": "markdown",
   "metadata": {},
   "source": [
    "### Виды объектов общественного питания"
   ]
  },
  {
   "cell_type": "markdown",
   "metadata": {},
   "source": [
    "Посмотрим на соотношение видов объектов общественного питания по количеству:"
   ]
  },
  {
   "cell_type": "code",
   "execution_count": 7,
   "metadata": {},
   "outputs": [
    {
     "data": {
      "text/plain": [
       "кафе                                 6017\n",
       "столовая                             2575\n",
       "ресторан                             2275\n",
       "предприятие быстрого обслуживания    1891\n",
       "бар                                   853\n",
       "буфет                                 571\n",
       "кафетерий                             393\n",
       "закусочная                            348\n",
       "магазин (отдел кулинарии)             272\n",
       "Name: object_type, dtype: int64"
      ]
     },
     "execution_count": 7,
     "metadata": {},
     "output_type": "execute_result"
    }
   ],
   "source": [
    "data['object_type'].value_counts()"
   ]
  },
  {
   "cell_type": "code",
   "execution_count": 28,
   "metadata": {},
   "outputs": [
    {
     "data": {
      "image/png": "[encoded data removed]"
     },
     "metadata": {},
     "output_type": "display_data"
    }
   ],
   "source": [
    "colors = ['#f6d437', '#f49644', '#ec7c4c', '#cd4e74', '#97149f', '#7e23ac', '#9900cc', '#730aa1', '#30077c']\n",
    "\n",
    "fig = go.Figure(data=[go.Pie(labels=data['object_type'].value_counts().index, marker=dict(colors=colors), values=data['object_type'].value_counts(), textinfo='label+percent', title='Соотношение видов объектов общественного питания по количеству')])\n",
    "\n",
    "fig.update_traces(textposition='inside')\n",
    "fig.update_layout(uniformtext_minsize=12, uniformtext_mode='hide', margin=dict(l=0, r=0, b=0, t=0))\n",
    "fig.show('png')\n"
   ]
  },
  {
   "cell_type": "markdown",
   "metadata": {},
   "source": [
    "В Москве большую часть рынка общественного питания занимают кафе — 40%. На втором месте столовые, на третьем — рестораны. Фастфуды занимают только 12% от рынка, а бары — 5%."
   ]
  },
  {
   "cell_type": "markdown",
   "metadata": {},
   "source": [
    "Исследуем соотношение количества сетевых и несетевых заведений:"
   ]
  },
  {
   "cell_type": "code",
   "execution_count": 9,
   "metadata": {},
   "outputs": [
    {
     "data": {
      "text/plain": [
       "нет    12245\n",
       "да      2950\n",
       "Name: chain, dtype: int64"
      ]
     },
     "execution_count": 9,
     "metadata": {},
     "output_type": "execute_result"
    }
   ],
   "source": [
    "data['chain'].value_counts()"
   ]
  },
  {
   "cell_type": "code",
   "execution_count": 27,
   "metadata": {},
   "outputs": [
    {
     "data": {
      "image/png": "[encoded data removed]"
     },
     "metadata": {},
     "output_type": "display_data"
    }
   ],
   "source": [
    "colors = ['#f6d437', '#ec7c4c']\n",
    "\n",
    "labels = ['Не сетевой тип объекта','Cетевой тип объекта']\n",
    "\n",
    "fig = go.Figure(data=[go.Pie(labels=labels, values=data['chain'].value_counts(), marker=dict(colors=colors), textinfo='label+percent', title='Соотношение сетевых и несетевых заведений по количеству')])\n",
    "\n",
    "fig.update_traces(textposition='inside')\n",
    "fig.update_layout(uniformtext_minsize=12, uniformtext_mode='hide', width=950, height=650)\n",
    "fig.show('png')\n"
   ]
  },
  {
   "cell_type": "markdown",
   "metadata": {},
   "source": [
    "Удивительно, но в Москве преобладают единичные кафе и рестораны — 12 тысяч заведений против 3 тысяч сетевых."
   ]
  },
  {
   "cell_type": "markdown",
   "metadata": {},
   "source": [
    "Выясним для какого вида объекта общественного питания характерно сетевое распространение:"
   ]
  },
  {
   "cell_type": "code",
   "execution_count": 11,
   "metadata": {},
   "outputs": [
    {
     "data": {
      "text/html": [
       "<div>\n",
       "<style scoped>\n",
       "    .dataframe tbody tr th:only-of-type {\n",
       "        vertical-align: middle;\n",
       "    }\n",
       "\n",
       "    .dataframe tbody tr th {\n",
       "        vertical-align: top;\n",
       "    }\n",
       "\n",
       "    .dataframe thead th {\n",
       "        text-align: right;\n",
       "    }\n",
       "</style>\n",
       "<table border=\"1\" class=\"dataframe\">\n",
       "  <thead>\n",
       "    <tr style=\"text-align: right;\">\n",
       "      <th></th>\n",
       "      <th>object_type</th>\n",
       "      <th>chain</th>\n",
       "      <th>chain_count</th>\n",
       "    </tr>\n",
       "  </thead>\n",
       "  <tbody>\n",
       "    <tr>\n",
       "      <th>7</th>\n",
       "      <td>кафе</td>\n",
       "      <td>нет</td>\n",
       "      <td>4628</td>\n",
       "    </tr>\n",
       "    <tr>\n",
       "      <th>17</th>\n",
       "      <td>столовая</td>\n",
       "      <td>нет</td>\n",
       "      <td>2572</td>\n",
       "    </tr>\n",
       "    <tr>\n",
       "      <th>15</th>\n",
       "      <td>ресторан</td>\n",
       "      <td>нет</td>\n",
       "      <td>1734</td>\n",
       "    </tr>\n",
       "    <tr>\n",
       "      <th>6</th>\n",
       "      <td>кафе</td>\n",
       "      <td>да</td>\n",
       "      <td>1389</td>\n",
       "    </tr>\n",
       "    <tr>\n",
       "      <th>13</th>\n",
       "      <td>предприятие быстрого обслуживания</td>\n",
       "      <td>нет</td>\n",
       "      <td>1107</td>\n",
       "    </tr>\n",
       "    <tr>\n",
       "      <th>1</th>\n",
       "      <td>бар</td>\n",
       "      <td>нет</td>\n",
       "      <td>816</td>\n",
       "    </tr>\n",
       "    <tr>\n",
       "      <th>12</th>\n",
       "      <td>предприятие быстрого обслуживания</td>\n",
       "      <td>да</td>\n",
       "      <td>784</td>\n",
       "    </tr>\n",
       "    <tr>\n",
       "      <th>3</th>\n",
       "      <td>буфет</td>\n",
       "      <td>нет</td>\n",
       "      <td>560</td>\n",
       "    </tr>\n",
       "    <tr>\n",
       "      <th>14</th>\n",
       "      <td>ресторан</td>\n",
       "      <td>да</td>\n",
       "      <td>541</td>\n",
       "    </tr>\n",
       "    <tr>\n",
       "      <th>9</th>\n",
       "      <td>кафетерий</td>\n",
       "      <td>нет</td>\n",
       "      <td>342</td>\n",
       "    </tr>\n",
       "    <tr>\n",
       "      <th>5</th>\n",
       "      <td>закусочная</td>\n",
       "      <td>нет</td>\n",
       "      <td>292</td>\n",
       "    </tr>\n",
       "    <tr>\n",
       "      <th>11</th>\n",
       "      <td>магазин (отдел кулинарии)</td>\n",
       "      <td>нет</td>\n",
       "      <td>194</td>\n",
       "    </tr>\n",
       "    <tr>\n",
       "      <th>10</th>\n",
       "      <td>магазин (отдел кулинарии)</td>\n",
       "      <td>да</td>\n",
       "      <td>78</td>\n",
       "    </tr>\n",
       "    <tr>\n",
       "      <th>4</th>\n",
       "      <td>закусочная</td>\n",
       "      <td>да</td>\n",
       "      <td>56</td>\n",
       "    </tr>\n",
       "    <tr>\n",
       "      <th>8</th>\n",
       "      <td>кафетерий</td>\n",
       "      <td>да</td>\n",
       "      <td>51</td>\n",
       "    </tr>\n",
       "    <tr>\n",
       "      <th>0</th>\n",
       "      <td>бар</td>\n",
       "      <td>да</td>\n",
       "      <td>37</td>\n",
       "    </tr>\n",
       "    <tr>\n",
       "      <th>2</th>\n",
       "      <td>буфет</td>\n",
       "      <td>да</td>\n",
       "      <td>11</td>\n",
       "    </tr>\n",
       "    <tr>\n",
       "      <th>16</th>\n",
       "      <td>столовая</td>\n",
       "      <td>да</td>\n",
       "      <td>3</td>\n",
       "    </tr>\n",
       "  </tbody>\n",
       "</table>\n",
       "</div>"
      ],
      "text/plain": [
       "                          object_type chain  chain_count\n",
       "7                                кафе   нет         4628\n",
       "17                           столовая   нет         2572\n",
       "15                           ресторан   нет         1734\n",
       "6                                кафе    да         1389\n",
       "13  предприятие быстрого обслуживания   нет         1107\n",
       "1                                 бар   нет          816\n",
       "12  предприятие быстрого обслуживания    да          784\n",
       "3                               буфет   нет          560\n",
       "14                           ресторан    да          541\n",
       "9                           кафетерий   нет          342\n",
       "5                          закусочная   нет          292\n",
       "11          магазин (отдел кулинарии)   нет          194\n",
       "10          магазин (отдел кулинарии)    да           78\n",
       "4                          закусочная    да           56\n",
       "8                           кафетерий    да           51\n",
       "0                                 бар    да           37\n",
       "2                               буфет    да           11\n",
       "16                           столовая    да            3"
      ]
     },
     "execution_count": 11,
     "metadata": {},
     "output_type": "execute_result"
    }
   ],
   "source": [
    "data_chain_type = data.groupby(['object_type', 'chain'])['chain'].count().reset_index(name=\"chain_count\")\n",
    "data_chain_type.sort_values(by='chain_count', ascending=False)"
   ]
  },
  {
   "cell_type": "code",
   "execution_count": 29,
   "metadata": {},
   "outputs": [
    {
     "data": {
      "image/png": "[encoded data removed]"
     },
     "metadata": {},
     "output_type": "display_data"
    }
   ],
   "source": [
    "data_chain_type_yes = data_chain_type.query('chain == \"да\"')\n",
    "data_chain_type_no = data_chain_type.query('chain == \"нет\"')\n",
    "\n",
    "fig = go.Figure()\n",
    "fig.add_trace(go.Bar(\n",
    "    x=data_chain_type_yes[\"object_type\"],\n",
    "    y=data_chain_type_yes[\"chain_count\"],\n",
    "    name='Сетевой тип объекта',\n",
    "    marker_color='#730aa1'\n",
    "))\n",
    "fig.add_trace(go.Bar(\n",
    "    x=data_chain_type_no[\"object_type\"],\n",
    "    y=data_chain_type_no[\"chain_count\"],\n",
    "    name='Не сетевой тип объекта',\n",
    "    marker_color='#ec7c4c'\n",
    "))\n",
    "\n",
    "fig.update_layout(title='Сетевое распространение по видам объекта общественного питания', xaxis_tickangle=-30, width=1000, height=650)\n",
    "fig.show('png')\n"
   ]
  },
  {
   "cell_type": "markdown",
   "metadata": {},
   "source": [
    "Сетевое распространение характерно для кафе, фастфудов и ресторанов."
   ]
  },
  {
   "cell_type": "markdown",
   "metadata": {},
   "source": [
    "### Посадочные места"
   ]
  },
  {
   "cell_type": "markdown",
   "metadata": {},
   "source": [
    "Что характерно для сетевых заведений: много заведений с небольшим числом посадочных мест в каждом или мало заведений с большим количеством посадочных мест?"
   ]
  },
  {
   "cell_type": "code",
   "execution_count": 13,
   "metadata": {},
   "outputs": [
    {
     "data": {
      "text/html": [
       "<div>\n",
       "<style scoped>\n",
       "    .dataframe tbody tr th:only-of-type {\n",
       "        vertical-align: middle;\n",
       "    }\n",
       "\n",
       "    .dataframe tbody tr th {\n",
       "        vertical-align: top;\n",
       "    }\n",
       "\n",
       "    .dataframe thead th {\n",
       "        text-align: right;\n",
       "    }\n",
       "</style>\n",
       "<table border=\"1\" class=\"dataframe\">\n",
       "  <thead>\n",
       "    <tr style=\"text-align: right;\">\n",
       "      <th></th>\n",
       "      <th>object_name</th>\n",
       "      <th>chain</th>\n",
       "      <th>number</th>\n",
       "    </tr>\n",
       "  </thead>\n",
       "  <tbody>\n",
       "    <tr>\n",
       "      <th>562</th>\n",
       "      <td>шоколадница</td>\n",
       "      <td>155</td>\n",
       "      <td>57.729032</td>\n",
       "    </tr>\n",
       "    <tr>\n",
       "      <th>25</th>\n",
       "      <td>kfc</td>\n",
       "      <td>155</td>\n",
       "      <td>55.341935</td>\n",
       "    </tr>\n",
       "    <tr>\n",
       "      <th>330</th>\n",
       "      <td>макдоналдс</td>\n",
       "      <td>148</td>\n",
       "      <td>88.378378</td>\n",
       "    </tr>\n",
       "    <tr>\n",
       "      <th>109</th>\n",
       "      <td>бургер кинг</td>\n",
       "      <td>136</td>\n",
       "      <td>46.889706</td>\n",
       "    </tr>\n",
       "    <tr>\n",
       "      <th>520</th>\n",
       "      <td>теремок</td>\n",
       "      <td>94</td>\n",
       "      <td>25.606383</td>\n",
       "    </tr>\n",
       "    <tr>\n",
       "      <th>...</th>\n",
       "      <td>...</td>\n",
       "      <td>...</td>\n",
       "      <td>...</td>\n",
       "    </tr>\n",
       "    <tr>\n",
       "      <th>240</th>\n",
       "      <td>кафе «торнадо»</td>\n",
       "      <td>1</td>\n",
       "      <td>80.000000</td>\n",
       "    </tr>\n",
       "    <tr>\n",
       "      <th>237</th>\n",
       "      <td>кафе «тапчан»</td>\n",
       "      <td>1</td>\n",
       "      <td>70.000000</td>\n",
       "    </tr>\n",
       "    <tr>\n",
       "      <th>236</th>\n",
       "      <td>кафе «тануки»</td>\n",
       "      <td>1</td>\n",
       "      <td>150.000000</td>\n",
       "    </tr>\n",
       "    <tr>\n",
       "      <th>235</th>\n",
       "      <td>кафе «суши сет»</td>\n",
       "      <td>1</td>\n",
       "      <td>7.000000</td>\n",
       "    </tr>\n",
       "    <tr>\n",
       "      <th>288</th>\n",
       "      <td>кофе с собой gate 42</td>\n",
       "      <td>1</td>\n",
       "      <td>4.000000</td>\n",
       "    </tr>\n",
       "  </tbody>\n",
       "</table>\n",
       "<p>576 rows × 3 columns</p>\n",
       "</div>"
      ],
      "text/plain": [
       "              object_name  chain      number\n",
       "562           шоколадница    155   57.729032\n",
       "25                    kfc    155   55.341935\n",
       "330            макдоналдс    148   88.378378\n",
       "109           бургер кинг    136   46.889706\n",
       "520               теремок     94   25.606383\n",
       "..                    ...    ...         ...\n",
       "240        кафе «торнадо»      1   80.000000\n",
       "237         кафе «тапчан»      1   70.000000\n",
       "236         кафе «тануки»      1  150.000000\n",
       "235       кафе «суши сет»      1    7.000000\n",
       "288  кофе с собой gate 42      1    4.000000\n",
       "\n",
       "[576 rows x 3 columns]"
      ]
     },
     "execution_count": 13,
     "metadata": {},
     "output_type": "execute_result"
    }
   ],
   "source": [
    "data_chain = data.query('chain == \"да\"')\n",
    "\n",
    "data_chain_seats = data_chain.groupby('object_name').agg({'chain':'count' ,'number':'mean'}).reset_index()\n",
    "data_chain_seats.sort_values(by='chain', ascending=False)\n",
    "\n"
   ]
  },
  {
   "cell_type": "code",
   "execution_count": 14,
   "metadata": {},
   "outputs": [
    {
     "data": {
      "text/html": [
       "<div>\n",
       "<style scoped>\n",
       "    .dataframe tbody tr th:only-of-type {\n",
       "        vertical-align: middle;\n",
       "    }\n",
       "\n",
       "    .dataframe tbody tr th {\n",
       "        vertical-align: top;\n",
       "    }\n",
       "\n",
       "    .dataframe thead th {\n",
       "        text-align: right;\n",
       "    }\n",
       "</style>\n",
       "<table border=\"1\" class=\"dataframe\">\n",
       "  <thead>\n",
       "    <tr style=\"text-align: right;\">\n",
       "      <th></th>\n",
       "      <th>chain</th>\n",
       "      <th>number</th>\n",
       "    </tr>\n",
       "  </thead>\n",
       "  <tbody>\n",
       "    <tr>\n",
       "      <th>count</th>\n",
       "      <td>576.000000</td>\n",
       "      <td>576.000000</td>\n",
       "    </tr>\n",
       "    <tr>\n",
       "      <th>mean</th>\n",
       "      <td>5.121528</td>\n",
       "      <td>59.096423</td>\n",
       "    </tr>\n",
       "    <tr>\n",
       "      <th>std</th>\n",
       "      <td>15.444796</td>\n",
       "      <td>54.570319</td>\n",
       "    </tr>\n",
       "    <tr>\n",
       "      <th>min</th>\n",
       "      <td>1.000000</td>\n",
       "      <td>0.000000</td>\n",
       "    </tr>\n",
       "    <tr>\n",
       "      <th>25%</th>\n",
       "      <td>1.000000</td>\n",
       "      <td>20.000000</td>\n",
       "    </tr>\n",
       "    <tr>\n",
       "      <th>50%</th>\n",
       "      <td>1.000000</td>\n",
       "      <td>43.500000</td>\n",
       "    </tr>\n",
       "    <tr>\n",
       "      <th>75%</th>\n",
       "      <td>3.000000</td>\n",
       "      <td>83.297619</td>\n",
       "    </tr>\n",
       "    <tr>\n",
       "      <th>max</th>\n",
       "      <td>155.000000</td>\n",
       "      <td>306.000000</td>\n",
       "    </tr>\n",
       "  </tbody>\n",
       "</table>\n",
       "</div>"
      ],
      "text/plain": [
       "            chain      number\n",
       "count  576.000000  576.000000\n",
       "mean     5.121528   59.096423\n",
       "std     15.444796   54.570319\n",
       "min      1.000000    0.000000\n",
       "25%      1.000000   20.000000\n",
       "50%      1.000000   43.500000\n",
       "75%      3.000000   83.297619\n",
       "max    155.000000  306.000000"
      ]
     },
     "execution_count": 14,
     "metadata": {},
     "output_type": "execute_result"
    }
   ],
   "source": [
    "data_chain_seats.describe()"
   ]
  },
  {
   "cell_type": "code",
   "execution_count": 30,
   "metadata": {},
   "outputs": [
    {
     "data": {
      "image/png": "[encoded data removed]"
     },
     "metadata": {},
     "output_type": "display_data"
    }
   ],
   "source": [
    "fig = px.scatter(data_chain_seats, x=\"number\", y=\"chain\", color='number')\n",
    "\n",
    "fig.update_layout(title='Зависимость количества мест от количества точек в сетевых заведениях', uniformtext_minsize=10, uniformtext_mode='hide', width=900, height=550, xaxis_title=\"Количество мест\", yaxis_title=\"Количество заведений\", font=dict(size=11, color=\"black\"))\n",
    "\n",
    "fig.show('png')\n"
   ]
  },
  {
   "cell_type": "markdown",
   "metadata": {},
   "source": [
    "На графике хорошо видно, что для сетевых заведений характерно меньшее количество заведений (1-3) с небольшим количеством (50, в среднем) посадочных мест."
   ]
  },
  {
   "cell_type": "markdown",
   "metadata": {},
   "source": [
    "Построим график среднего количества посадочных мест для каждого вида объекта общественного питания:"
   ]
  },
  {
   "cell_type": "code",
   "execution_count": 16,
   "metadata": {},
   "outputs": [],
   "source": [
    "data_type_seats = data.groupby('object_type').agg({'number':'mean'}).reset_index()\n",
    "data_type_seats.sort_values(by='number', ascending=False, inplace=True)"
   ]
  },
  {
   "cell_type": "code",
   "execution_count": 31,
   "metadata": {},
   "outputs": [
    {
     "data": {
      "image/png": "[encoded data removed]"
     },
     "metadata": {},
     "output_type": "display_data"
    }
   ],
   "source": [
    "fig = px.bar(data_type_seats, x=\"number\", y=\"object_type\", color='number')\n",
    "\n",
    "fig.update_layout(title='Количество посадочных мест по видам объекта общественного питания', uniformtext_minsize=10, uniformtext_mode='hide', width=1000, height=550, xaxis_title=\"Вид объекта\", yaxis_title=\"Количество мест\", font=dict(size=11, color=\"black\"))\n",
    "fig.show('png')\n"
   ]
  },
  {
   "cell_type": "markdown",
   "metadata": {},
   "source": [
    "В среднем, наибольшее количество посадочных мест в столовых — 130. В ресторанах чуть меньше — почти 100. Третье место, с небольшими отрывами, делят буфеты, бары и кафе — 50, 43 и 40 посадочных мест соответственно. Наименьшее количество столиков в кулинариях."
   ]
  },
  {
   "cell_type": "markdown",
   "metadata": {},
   "source": [
    "### Расположение"
   ]
  },
  {
   "cell_type": "markdown",
   "metadata": {},
   "source": [
    "Выделим улицы, на которых расположены наши заведения общественного питания, в отдельный столбец:"
   ]
  },
  {
   "cell_type": "code",
   "execution_count": 18,
   "metadata": {},
   "outputs": [],
   "source": [
    "street_def = ['улица', 'ул.', 'переулок', 'пер.''проезд', 'пр.', 'прзд.', 'проспект', 'пр.', 'шоссе', 'ш.', 'микрорайон', 'мкр.', 'площадь', 'пл.', 'аллея', 'бульвар', 'набережная','наб.','тупик','линия']\n",
    "\n",
    "def get_street(row):\n",
    "    for e in row.split(','):\n",
    "        for i in street_def:\n",
    "            if i in e.lower():\n",
    "                return e\n"
   ]
  },
  {
   "cell_type": "code",
   "execution_count": 19,
   "metadata": {},
   "outputs": [
    {
     "data": {
      "text/html": [
       "<div>\n",
       "<style scoped>\n",
       "    .dataframe tbody tr th:only-of-type {\n",
       "        vertical-align: middle;\n",
       "    }\n",
       "\n",
       "    .dataframe tbody tr th {\n",
       "        vertical-align: top;\n",
       "    }\n",
       "\n",
       "    .dataframe thead th {\n",
       "        text-align: right;\n",
       "    }\n",
       "</style>\n",
       "<table border=\"1\" class=\"dataframe\">\n",
       "  <thead>\n",
       "    <tr style=\"text-align: right;\">\n",
       "      <th></th>\n",
       "      <th>index</th>\n",
       "      <th>id</th>\n",
       "      <th>object_name</th>\n",
       "      <th>chain</th>\n",
       "      <th>object_type</th>\n",
       "      <th>address</th>\n",
       "      <th>number</th>\n",
       "      <th>street</th>\n",
       "    </tr>\n",
       "  </thead>\n",
       "  <tbody>\n",
       "    <tr>\n",
       "      <th>0</th>\n",
       "      <td>0</td>\n",
       "      <td>151635</td>\n",
       "      <td>сметана</td>\n",
       "      <td>нет</td>\n",
       "      <td>кафе</td>\n",
       "      <td>город Москва, улица Егора Абакумова, дом 9</td>\n",
       "      <td>48</td>\n",
       "      <td>улица Егора Абакумова</td>\n",
       "    </tr>\n",
       "    <tr>\n",
       "      <th>1</th>\n",
       "      <td>1</td>\n",
       "      <td>77874</td>\n",
       "      <td>родник</td>\n",
       "      <td>нет</td>\n",
       "      <td>кафе</td>\n",
       "      <td>город Москва, улица Талалихина, дом 2/1, корпус 1</td>\n",
       "      <td>35</td>\n",
       "      <td>улица Талалихина</td>\n",
       "    </tr>\n",
       "    <tr>\n",
       "      <th>2</th>\n",
       "      <td>2</td>\n",
       "      <td>24309</td>\n",
       "      <td>кафе «академия»</td>\n",
       "      <td>нет</td>\n",
       "      <td>кафе</td>\n",
       "      <td>город Москва, Абельмановская улица, дом 6</td>\n",
       "      <td>95</td>\n",
       "      <td>Абельмановская улица</td>\n",
       "    </tr>\n",
       "    <tr>\n",
       "      <th>3</th>\n",
       "      <td>3</td>\n",
       "      <td>21894</td>\n",
       "      <td>пиццетория</td>\n",
       "      <td>да</td>\n",
       "      <td>кафе</td>\n",
       "      <td>город Москва, Абрамцевская улица, дом 1</td>\n",
       "      <td>40</td>\n",
       "      <td>Абрамцевская улица</td>\n",
       "    </tr>\n",
       "    <tr>\n",
       "      <th>4</th>\n",
       "      <td>4</td>\n",
       "      <td>119365</td>\n",
       "      <td>кафе «вишневая метель»</td>\n",
       "      <td>нет</td>\n",
       "      <td>кафе</td>\n",
       "      <td>город Москва, Абрамцевская улица, дом 9, корпус 1</td>\n",
       "      <td>50</td>\n",
       "      <td>Абрамцевская улица</td>\n",
       "    </tr>\n",
       "    <tr>\n",
       "      <th>...</th>\n",
       "      <td>...</td>\n",
       "      <td>...</td>\n",
       "      <td>...</td>\n",
       "      <td>...</td>\n",
       "      <td>...</td>\n",
       "      <td>...</td>\n",
       "      <td>...</td>\n",
       "      <td>...</td>\n",
       "    </tr>\n",
       "    <tr>\n",
       "      <th>15190</th>\n",
       "      <td>15359</td>\n",
       "      <td>222077</td>\n",
       "      <td>кофейня «шоколадница»</td>\n",
       "      <td>да</td>\n",
       "      <td>кафе</td>\n",
       "      <td>город Москва, Кантемировская улица, дом 47</td>\n",
       "      <td>72</td>\n",
       "      <td>Кантемировская улица</td>\n",
       "    </tr>\n",
       "    <tr>\n",
       "      <th>15191</th>\n",
       "      <td>15360</td>\n",
       "      <td>219759</td>\n",
       "      <td>шоколадница</td>\n",
       "      <td>да</td>\n",
       "      <td>кафе</td>\n",
       "      <td>город Москва, улица Вавилова, дом 3</td>\n",
       "      <td>36</td>\n",
       "      <td>улица Вавилова</td>\n",
       "    </tr>\n",
       "    <tr>\n",
       "      <th>15192</th>\n",
       "      <td>15361</td>\n",
       "      <td>208537</td>\n",
       "      <td>шоколадница</td>\n",
       "      <td>да</td>\n",
       "      <td>кафе</td>\n",
       "      <td>город Москва, 3-й Крутицкий переулок, дом 18</td>\n",
       "      <td>50</td>\n",
       "      <td>3-й Крутицкий переулок</td>\n",
       "    </tr>\n",
       "    <tr>\n",
       "      <th>15193</th>\n",
       "      <td>15362</td>\n",
       "      <td>209264</td>\n",
       "      <td>шоколадница</td>\n",
       "      <td>да</td>\n",
       "      <td>кафе</td>\n",
       "      <td>город Москва, улица Земляной Вал, дом 33</td>\n",
       "      <td>10</td>\n",
       "      <td>улица Земляной Вал</td>\n",
       "    </tr>\n",
       "    <tr>\n",
       "      <th>15194</th>\n",
       "      <td>15364</td>\n",
       "      <td>221900</td>\n",
       "      <td>шоколадница</td>\n",
       "      <td>да</td>\n",
       "      <td>кафе</td>\n",
       "      <td>город Москва, поселение Московский, Киевское шоссе, 22-й километр, домовладение 4, строение 1</td>\n",
       "      <td>36</td>\n",
       "      <td>Киевское шоссе</td>\n",
       "    </tr>\n",
       "  </tbody>\n",
       "</table>\n",
       "<p>15195 rows × 8 columns</p>\n",
       "</div>"
      ],
      "text/plain": [
       "       index      id             object_name chain object_type  \\\n",
       "0          0  151635                 сметана   нет        кафе   \n",
       "1          1   77874                  родник   нет        кафе   \n",
       "2          2   24309         кафе «академия»   нет        кафе   \n",
       "3          3   21894              пиццетория    да        кафе   \n",
       "4          4  119365  кафе «вишневая метель»   нет        кафе   \n",
       "...      ...     ...                     ...   ...         ...   \n",
       "15190  15359  222077   кофейня «шоколадница»    да        кафе   \n",
       "15191  15360  219759             шоколадница    да        кафе   \n",
       "15192  15361  208537             шоколадница    да        кафе   \n",
       "15193  15362  209264             шоколадница    да        кафе   \n",
       "15194  15364  221900             шоколадница    да        кафе   \n",
       "\n",
       "                                                                                             address  \\\n",
       "0                                                         город Москва, улица Егора Абакумова, дом 9   \n",
       "1                                                  город Москва, улица Талалихина, дом 2/1, корпус 1   \n",
       "2                                                          город Москва, Абельмановская улица, дом 6   \n",
       "3                                                            город Москва, Абрамцевская улица, дом 1   \n",
       "4                                                  город Москва, Абрамцевская улица, дом 9, корпус 1   \n",
       "...                                                                                              ...   \n",
       "15190                                                     город Москва, Кантемировская улица, дом 47   \n",
       "15191                                                            город Москва, улица Вавилова, дом 3   \n",
       "15192                                                   город Москва, 3-й Крутицкий переулок, дом 18   \n",
       "15193                                                       город Москва, улица Земляной Вал, дом 33   \n",
       "15194  город Москва, поселение Московский, Киевское шоссе, 22-й километр, домовладение 4, строение 1   \n",
       "\n",
       "       number                  street  \n",
       "0          48   улица Егора Абакумова  \n",
       "1          35        улица Талалихина  \n",
       "2          95    Абельмановская улица  \n",
       "3          40      Абрамцевская улица  \n",
       "4          50      Абрамцевская улица  \n",
       "...       ...                     ...  \n",
       "15190      72    Кантемировская улица  \n",
       "15191      36          улица Вавилова  \n",
       "15192      50  3-й Крутицкий переулок  \n",
       "15193      10      улица Земляной Вал  \n",
       "15194      36          Киевское шоссе  \n",
       "\n",
       "[15195 rows x 8 columns]"
      ]
     },
     "execution_count": 19,
     "metadata": {},
     "output_type": "execute_result"
    }
   ],
   "source": [
    "data['street'] = data['address'].apply(get_street)\n",
    "\n",
    "data['street'] = data['street'].str.strip()\n",
    "\n",
    "data"
   ]
  },
  {
   "cell_type": "markdown",
   "metadata": {},
   "source": [
    "Теперь выделим улицы, которые особенно полюбились рестораторам:"
   ]
  },
  {
   "cell_type": "code",
   "execution_count": 20,
   "metadata": {},
   "outputs": [
    {
     "data": {
      "text/html": [
       "<div>\n",
       "<style scoped>\n",
       "    .dataframe tbody tr th:only-of-type {\n",
       "        vertical-align: middle;\n",
       "    }\n",
       "\n",
       "    .dataframe tbody tr th {\n",
       "        vertical-align: top;\n",
       "    }\n",
       "\n",
       "    .dataframe thead th {\n",
       "        text-align: right;\n",
       "    }\n",
       "</style>\n",
       "<table border=\"1\" class=\"dataframe\">\n",
       "  <thead>\n",
       "    <tr style=\"text-align: right;\">\n",
       "      <th></th>\n",
       "      <th>streetname</th>\n",
       "      <th>count</th>\n",
       "    </tr>\n",
       "  </thead>\n",
       "  <tbody>\n",
       "    <tr>\n",
       "      <th>0</th>\n",
       "      <td>проспект Мира</td>\n",
       "      <td>197</td>\n",
       "    </tr>\n",
       "    <tr>\n",
       "      <th>1</th>\n",
       "      <td>Профсоюзная улица</td>\n",
       "      <td>181</td>\n",
       "    </tr>\n",
       "    <tr>\n",
       "      <th>2</th>\n",
       "      <td>Ленинградский проспект</td>\n",
       "      <td>172</td>\n",
       "    </tr>\n",
       "    <tr>\n",
       "      <th>3</th>\n",
       "      <td>Пресненская набережная</td>\n",
       "      <td>165</td>\n",
       "    </tr>\n",
       "    <tr>\n",
       "      <th>4</th>\n",
       "      <td>Варшавское шоссе</td>\n",
       "      <td>164</td>\n",
       "    </tr>\n",
       "    <tr>\n",
       "      <th>5</th>\n",
       "      <td>Ленинский проспект</td>\n",
       "      <td>148</td>\n",
       "    </tr>\n",
       "    <tr>\n",
       "      <th>6</th>\n",
       "      <td>проспект Вернадского</td>\n",
       "      <td>127</td>\n",
       "    </tr>\n",
       "    <tr>\n",
       "      <th>7</th>\n",
       "      <td>Кутузовский проспект</td>\n",
       "      <td>114</td>\n",
       "    </tr>\n",
       "    <tr>\n",
       "      <th>8</th>\n",
       "      <td>Каширское шоссе</td>\n",
       "      <td>110</td>\n",
       "    </tr>\n",
       "    <tr>\n",
       "      <th>9</th>\n",
       "      <td>Кировоградская улица</td>\n",
       "      <td>107</td>\n",
       "    </tr>\n",
       "  </tbody>\n",
       "</table>\n",
       "</div>"
      ],
      "text/plain": [
       "               streetname  count\n",
       "0           проспект Мира    197\n",
       "1       Профсоюзная улица    181\n",
       "2  Ленинградский проспект    172\n",
       "3  Пресненская набережная    165\n",
       "4        Варшавское шоссе    164\n",
       "5      Ленинский проспект    148\n",
       "6    проспект Вернадского    127\n",
       "7    Кутузовский проспект    114\n",
       "8         Каширское шоссе    110\n",
       "9    Кировоградская улица    107"
      ]
     },
     "execution_count": 20,
     "metadata": {},
     "output_type": "execute_result"
    }
   ],
   "source": [
    "top_streets = data['street'].value_counts().head(10).reset_index()\n",
    "top_streets.columns = ['streetname', 'count']\n",
    "top_streets"
   ]
  },
  {
   "cell_type": "code",
   "execution_count": 32,
   "metadata": {},
   "outputs": [
    {
     "data": {
      "image/png": "[encoded data removed]"
     },
     "metadata": {},
     "output_type": "display_data"
    }
   ],
   "source": [
    "fig = px.bar(top_streets, x=\"streetname\", y=\"count\", color='count')\n",
    "\n",
    "fig.update_layout(title='Топ-10 улиц по количеству объектов общественного питания', uniformtext_minsize=10, uniformtext_mode='hide', width=1000, height=550, xaxis_title=\"Улица\", yaxis_title=\"Количество объектов\", font=dict(size=11, color=\"black\"))\n",
    "fig.show('png')\n"
   ]
  },
  {
   "cell_type": "markdown",
   "metadata": {},
   "source": [
    "Проспект Мира становится улицей с самым большим числом кафе, ресторанов, столовых и фастфудов — почти 200 заведений общественного питания. Ненамного отстают улицы Профсоюзная, Лениндградский проспект, Пресненская набережная и Варшавское шоссе. Все эти улицы и проспекты отличаются большой протяженностью, и неудивительно, что они становятся лидерами, ведь они могут вместить огромное количество заведений."
   ]
  },
  {
   "cell_type": "markdown",
   "metadata": {},
   "source": [
    "Теперь посмотрим в каких районах располагаются наши улицы:"
   ]
  },
  {
   "cell_type": "code",
   "execution_count": 22,
   "metadata": {},
   "outputs": [
    {
     "data": {
      "text/html": [
       "<div>\n",
       "<style scoped>\n",
       "    .dataframe tbody tr th:only-of-type {\n",
       "        vertical-align: middle;\n",
       "    }\n",
       "\n",
       "    .dataframe tbody tr th {\n",
       "        vertical-align: top;\n",
       "    }\n",
       "\n",
       "    .dataframe thead th {\n",
       "        text-align: right;\n",
       "    }\n",
       "</style>\n",
       "<table border=\"1\" class=\"dataframe\">\n",
       "  <thead>\n",
       "    <tr style=\"text-align: right;\">\n",
       "      <th></th>\n",
       "      <th>streetname</th>\n",
       "      <th>areaid</th>\n",
       "      <th>okrug</th>\n",
       "      <th>area</th>\n",
       "    </tr>\n",
       "  </thead>\n",
       "  <tbody>\n",
       "    <tr>\n",
       "      <th>0</th>\n",
       "      <td>Выставочный переулок</td>\n",
       "      <td>17</td>\n",
       "      <td>ЦАО</td>\n",
       "      <td>Пресненский район</td>\n",
       "    </tr>\n",
       "    <tr>\n",
       "      <th>1</th>\n",
       "      <td>улица Гашека</td>\n",
       "      <td>17</td>\n",
       "      <td>ЦАО</td>\n",
       "      <td>Пресненский район</td>\n",
       "    </tr>\n",
       "    <tr>\n",
       "      <th>2</th>\n",
       "      <td>Большая Никитская улица</td>\n",
       "      <td>17</td>\n",
       "      <td>ЦАО</td>\n",
       "      <td>Пресненский район</td>\n",
       "    </tr>\n",
       "    <tr>\n",
       "      <th>3</th>\n",
       "      <td>Глубокий переулок</td>\n",
       "      <td>17</td>\n",
       "      <td>ЦАО</td>\n",
       "      <td>Пресненский район</td>\n",
       "    </tr>\n",
       "    <tr>\n",
       "      <th>4</th>\n",
       "      <td>Большой Гнездниковский переулок</td>\n",
       "      <td>17</td>\n",
       "      <td>ЦАО</td>\n",
       "      <td>Пресненский район</td>\n",
       "    </tr>\n",
       "    <tr>\n",
       "      <th>...</th>\n",
       "      <td>...</td>\n",
       "      <td>...</td>\n",
       "      <td>...</td>\n",
       "      <td>...</td>\n",
       "    </tr>\n",
       "    <tr>\n",
       "      <th>4393</th>\n",
       "      <td>Вознесенский проезд</td>\n",
       "      <td>17</td>\n",
       "      <td>ЦАО</td>\n",
       "      <td>Пресненский район</td>\n",
       "    </tr>\n",
       "    <tr>\n",
       "      <th>4394</th>\n",
       "      <td>Волков переулок</td>\n",
       "      <td>17</td>\n",
       "      <td>ЦАО</td>\n",
       "      <td>Пресненский район</td>\n",
       "    </tr>\n",
       "    <tr>\n",
       "      <th>4395</th>\n",
       "      <td>Поварская улица</td>\n",
       "      <td>17</td>\n",
       "      <td>ЦАО</td>\n",
       "      <td>Пресненский район</td>\n",
       "    </tr>\n",
       "    <tr>\n",
       "      <th>4396</th>\n",
       "      <td>Кудринская площадь</td>\n",
       "      <td>17</td>\n",
       "      <td>ЦАО</td>\n",
       "      <td>Пресненский район</td>\n",
       "    </tr>\n",
       "    <tr>\n",
       "      <th>4397</th>\n",
       "      <td>Вспольный переулок</td>\n",
       "      <td>17</td>\n",
       "      <td>ЦАО</td>\n",
       "      <td>Пресненский район</td>\n",
       "    </tr>\n",
       "  </tbody>\n",
       "</table>\n",
       "<p>4398 rows × 4 columns</p>\n",
       "</div>"
      ],
      "text/plain": [
       "                           streetname  areaid okrug               area\n",
       "0                Выставочный переулок      17   ЦАО  Пресненский район\n",
       "1                        улица Гашека      17   ЦАО  Пресненский район\n",
       "2             Большая Никитская улица      17   ЦАО  Пресненский район\n",
       "3                   Глубокий переулок      17   ЦАО  Пресненский район\n",
       "4     Большой Гнездниковский переулок      17   ЦАО  Пресненский район\n",
       "...                               ...     ...   ...                ...\n",
       "4393              Вознесенский проезд      17   ЦАО  Пресненский район\n",
       "4394                  Волков переулок      17   ЦАО  Пресненский район\n",
       "4395                  Поварская улица      17   ЦАО  Пресненский район\n",
       "4396               Кудринская площадь      17   ЦАО  Пресненский район\n",
       "4397               Вспольный переулок      17   ЦАО  Пресненский район\n",
       "\n",
       "[4398 rows x 4 columns]"
      ]
     },
     "execution_count": 22,
     "metadata": {},
     "output_type": "execute_result"
    }
   ],
   "source": [
    "# Загрузим данные с московскими улыцами и районами:\n",
    "url = 'https://drive.google.com/file/d/1uyI2utKKzDpei4uODpv1hIPP3NIguULZ/view?usp=share_link'\n",
    "path = 'https://drive.google.com/uc?export=download&id=' + url.split('/')[-2]\n",
    "mosgaz_data = pd.read_csv(path)    \n",
    "\n",
    "mosgaz_data"
   ]
  },
  {
   "cell_type": "code",
   "execution_count": 23,
   "metadata": {},
   "outputs": [
    {
     "data": {
      "text/html": [
       "<div>\n",
       "<style scoped>\n",
       "    .dataframe tbody tr th:only-of-type {\n",
       "        vertical-align: middle;\n",
       "    }\n",
       "\n",
       "    .dataframe tbody tr th {\n",
       "        vertical-align: top;\n",
       "    }\n",
       "\n",
       "    .dataframe thead th {\n",
       "        text-align: right;\n",
       "    }\n",
       "</style>\n",
       "<table border=\"1\" class=\"dataframe\">\n",
       "  <thead>\n",
       "    <tr style=\"text-align: right;\">\n",
       "      <th></th>\n",
       "      <th>streetname</th>\n",
       "      <th>count</th>\n",
       "      <th>areaid</th>\n",
       "      <th>okrug</th>\n",
       "      <th>area</th>\n",
       "    </tr>\n",
       "  </thead>\n",
       "  <tbody>\n",
       "    <tr>\n",
       "      <th>0</th>\n",
       "      <td>проспект Мира</td>\n",
       "      <td>197</td>\n",
       "      <td>70</td>\n",
       "      <td>СВАО</td>\n",
       "      <td>Алексеевский район</td>\n",
       "    </tr>\n",
       "    <tr>\n",
       "      <th>1</th>\n",
       "      <td>проспект Мира</td>\n",
       "      <td>197</td>\n",
       "      <td>86</td>\n",
       "      <td>СВАО</td>\n",
       "      <td>Ярославский Район</td>\n",
       "    </tr>\n",
       "    <tr>\n",
       "      <th>2</th>\n",
       "      <td>проспект Мира</td>\n",
       "      <td>197</td>\n",
       "      <td>78</td>\n",
       "      <td>СВАО</td>\n",
       "      <td>Район Марьина роща</td>\n",
       "    </tr>\n",
       "    <tr>\n",
       "      <th>3</th>\n",
       "      <td>проспект Мира</td>\n",
       "      <td>197</td>\n",
       "      <td>79</td>\n",
       "      <td>СВАО</td>\n",
       "      <td>Останкинский район</td>\n",
       "    </tr>\n",
       "    <tr>\n",
       "      <th>4</th>\n",
       "      <td>проспект Мира</td>\n",
       "      <td>197</td>\n",
       "      <td>81</td>\n",
       "      <td>СВАО</td>\n",
       "      <td>Район Ростокино</td>\n",
       "    </tr>\n",
       "    <tr>\n",
       "      <th>5</th>\n",
       "      <td>проспект Мира</td>\n",
       "      <td>197</td>\n",
       "      <td>82</td>\n",
       "      <td>СВАО</td>\n",
       "      <td>Район Свиблово</td>\n",
       "    </tr>\n",
       "    <tr>\n",
       "      <th>6</th>\n",
       "      <td>проспект Мира</td>\n",
       "      <td>197</td>\n",
       "      <td>16</td>\n",
       "      <td>ЦАО</td>\n",
       "      <td>Мещанский район</td>\n",
       "    </tr>\n",
       "  </tbody>\n",
       "</table>\n",
       "</div>"
      ],
      "text/plain": [
       "      streetname  count  areaid okrug                area\n",
       "0  проспект Мира    197      70  СВАО  Алексеевский район\n",
       "1  проспект Мира    197      86  СВАО   Ярославский Район\n",
       "2  проспект Мира    197      78  СВАО  Район Марьина роща\n",
       "3  проспект Мира    197      79  СВАО  Останкинский район\n",
       "4  проспект Мира    197      81  СВАО     Район Ростокино\n",
       "5  проспект Мира    197      82  СВАО      Район Свиблово\n",
       "6  проспект Мира    197      16   ЦАО     Мещанский район"
      ]
     },
     "execution_count": 23,
     "metadata": {},
     "output_type": "execute_result"
    }
   ],
   "source": [
    "top_streets = top_streets.merge(mosgaz_data, on='streetname', how='left')\n",
    "top_streets.head(7)"
   ]
  },
  {
   "cell_type": "markdown",
   "metadata": {},
   "source": [
    "Как и было отмечено раннее, улицы с наибольшим количеством заведений очень длинные (проспекты и шоссе, в основном) и входят сразу в несколько районов. Вот несколько районов, расположенных ближе к центру: Мещанский район, Пресненский район и Район Якиманка."
   ]
  },
  {
   "cell_type": "markdown",
   "metadata": {},
   "source": [
    "Найдем число улиц с одним объектом общественного питания:"
   ]
  },
  {
   "cell_type": "code",
   "execution_count": 24,
   "metadata": {},
   "outputs": [
    {
     "data": {
      "text/html": [
       "<div>\n",
       "<style scoped>\n",
       "    .dataframe tbody tr th:only-of-type {\n",
       "        vertical-align: middle;\n",
       "    }\n",
       "\n",
       "    .dataframe tbody tr th {\n",
       "        vertical-align: top;\n",
       "    }\n",
       "\n",
       "    .dataframe thead th {\n",
       "        text-align: right;\n",
       "    }\n",
       "</style>\n",
       "<table border=\"1\" class=\"dataframe\">\n",
       "  <thead>\n",
       "    <tr style=\"text-align: right;\">\n",
       "      <th></th>\n",
       "      <th>streetname</th>\n",
       "      <th>count</th>\n",
       "    </tr>\n",
       "  </thead>\n",
       "  <tbody>\n",
       "    <tr>\n",
       "      <th>0</th>\n",
       "      <td>1-й Балтийский переулок</td>\n",
       "      <td>1</td>\n",
       "    </tr>\n",
       "    <tr>\n",
       "      <th>1</th>\n",
       "      <td>1-й Басманный переулок</td>\n",
       "      <td>1</td>\n",
       "    </tr>\n",
       "    <tr>\n",
       "      <th>2</th>\n",
       "      <td>1-й Голутвинский переулок</td>\n",
       "      <td>1</td>\n",
       "    </tr>\n",
       "    <tr>\n",
       "      <th>4</th>\n",
       "      <td>1-й Заречный переулок</td>\n",
       "      <td>1</td>\n",
       "    </tr>\n",
       "    <tr>\n",
       "      <th>5</th>\n",
       "      <td>1-й Зачатьевский переулок</td>\n",
       "      <td>1</td>\n",
       "    </tr>\n",
       "    <tr>\n",
       "      <th>...</th>\n",
       "      <td>...</td>\n",
       "      <td>...</td>\n",
       "    </tr>\n",
       "    <tr>\n",
       "      <th>1682</th>\n",
       "      <td>улица Шумилова</td>\n",
       "      <td>1</td>\n",
       "    </tr>\n",
       "    <tr>\n",
       "      <th>1683</th>\n",
       "      <td>улица Шумкина</td>\n",
       "      <td>1</td>\n",
       "    </tr>\n",
       "    <tr>\n",
       "      <th>1687</th>\n",
       "      <td>улица Щорса</td>\n",
       "      <td>1</td>\n",
       "    </tr>\n",
       "    <tr>\n",
       "      <th>1688</th>\n",
       "      <td>улица Энгельса</td>\n",
       "      <td>1</td>\n",
       "    </tr>\n",
       "    <tr>\n",
       "      <th>1693</th>\n",
       "      <td>шоссе Фрезер</td>\n",
       "      <td>1</td>\n",
       "    </tr>\n",
       "  </tbody>\n",
       "</table>\n",
       "<p>457 rows × 2 columns</p>\n",
       "</div>"
      ],
      "text/plain": [
       "                     streetname  count\n",
       "0       1-й Балтийский переулок      1\n",
       "1        1-й Басманный переулок      1\n",
       "2     1-й Голутвинский переулок      1\n",
       "4         1-й Заречный переулок      1\n",
       "5     1-й Зачатьевский переулок      1\n",
       "...                         ...    ...\n",
       "1682             улица Шумилова      1\n",
       "1683              улица Шумкина      1\n",
       "1687                улица Щорса      1\n",
       "1688             улица Энгельса      1\n",
       "1693               шоссе Фрезер      1\n",
       "\n",
       "[457 rows x 2 columns]"
      ]
     },
     "execution_count": 24,
     "metadata": {},
     "output_type": "execute_result"
    }
   ],
   "source": [
    "one_rest_street = data.groupby('street').agg({'id':'count'}).reset_index()\n",
    "one_rest_street = one_rest_street.query('id == 1')\n",
    "one_rest_street.columns = ['streetname', 'count']\n",
    "one_rest_street\n"
   ]
  },
  {
   "cell_type": "markdown",
   "metadata": {},
   "source": [
    "Узнаем в каких районах они находятся:"
   ]
  },
  {
   "cell_type": "code",
   "execution_count": 25,
   "metadata": {},
   "outputs": [
    {
     "data": {
      "text/html": [
       "<div>\n",
       "<style scoped>\n",
       "    .dataframe tbody tr th:only-of-type {\n",
       "        vertical-align: middle;\n",
       "    }\n",
       "\n",
       "    .dataframe tbody tr th {\n",
       "        vertical-align: top;\n",
       "    }\n",
       "\n",
       "    .dataframe thead th {\n",
       "        text-align: right;\n",
       "    }\n",
       "</style>\n",
       "<table border=\"1\" class=\"dataframe\">\n",
       "  <thead>\n",
       "    <tr style=\"text-align: right;\">\n",
       "      <th></th>\n",
       "      <th>streetname</th>\n",
       "      <th>count</th>\n",
       "      <th>areaid</th>\n",
       "      <th>okrug</th>\n",
       "      <th>area</th>\n",
       "    </tr>\n",
       "  </thead>\n",
       "  <tbody>\n",
       "    <tr>\n",
       "      <th>0</th>\n",
       "      <td>1-й Балтийский переулок</td>\n",
       "      <td>1</td>\n",
       "      <td>54.0</td>\n",
       "      <td>САО</td>\n",
       "      <td>Район Аэропорт</td>\n",
       "    </tr>\n",
       "    <tr>\n",
       "      <th>1</th>\n",
       "      <td>1-й Басманный переулок</td>\n",
       "      <td>1</td>\n",
       "      <td>13.0</td>\n",
       "      <td>ЦАО</td>\n",
       "      <td>Басманный район</td>\n",
       "    </tr>\n",
       "    <tr>\n",
       "      <th>2</th>\n",
       "      <td>1-й Басманный переулок</td>\n",
       "      <td>1</td>\n",
       "      <td>15.0</td>\n",
       "      <td>ЦАО</td>\n",
       "      <td>Красносельский район</td>\n",
       "    </tr>\n",
       "    <tr>\n",
       "      <th>3</th>\n",
       "      <td>1-й Голутвинский переулок</td>\n",
       "      <td>1</td>\n",
       "      <td>21.0</td>\n",
       "      <td>ЦАО</td>\n",
       "      <td>Район Якиманка</td>\n",
       "    </tr>\n",
       "    <tr>\n",
       "      <th>4</th>\n",
       "      <td>1-й Заречный переулок</td>\n",
       "      <td>1</td>\n",
       "      <td>NaN</td>\n",
       "      <td>NaN</td>\n",
       "      <td>NaN</td>\n",
       "    </tr>\n",
       "    <tr>\n",
       "      <th>...</th>\n",
       "      <td>...</td>\n",
       "      <td>...</td>\n",
       "      <td>...</td>\n",
       "      <td>...</td>\n",
       "      <td>...</td>\n",
       "    </tr>\n",
       "    <tr>\n",
       "      <th>494</th>\n",
       "      <td>улица Шумилова</td>\n",
       "      <td>1</td>\n",
       "      <td>113.0</td>\n",
       "      <td>ЮВАО</td>\n",
       "      <td>Район Кузьминки</td>\n",
       "    </tr>\n",
       "    <tr>\n",
       "      <th>495</th>\n",
       "      <td>улица Шумкина</td>\n",
       "      <td>1</td>\n",
       "      <td>26.0</td>\n",
       "      <td>ВАО</td>\n",
       "      <td>Район Сокольники</td>\n",
       "    </tr>\n",
       "    <tr>\n",
       "      <th>496</th>\n",
       "      <td>улица Щорса</td>\n",
       "      <td>1</td>\n",
       "      <td>46.0</td>\n",
       "      <td>ЗАО</td>\n",
       "      <td>Район Солнцево</td>\n",
       "    </tr>\n",
       "    <tr>\n",
       "      <th>497</th>\n",
       "      <td>улица Энгельса</td>\n",
       "      <td>1</td>\n",
       "      <td>NaN</td>\n",
       "      <td>NaN</td>\n",
       "      <td>NaN</td>\n",
       "    </tr>\n",
       "    <tr>\n",
       "      <th>498</th>\n",
       "      <td>шоссе Фрезер</td>\n",
       "      <td>1</td>\n",
       "      <td>117.0</td>\n",
       "      <td>ЮВАО</td>\n",
       "      <td>Нижегородский район</td>\n",
       "    </tr>\n",
       "  </tbody>\n",
       "</table>\n",
       "<p>499 rows × 5 columns</p>\n",
       "</div>"
      ],
      "text/plain": [
       "                    streetname  count  areaid okrug                  area\n",
       "0      1-й Балтийский переулок      1    54.0   САО        Район Аэропорт\n",
       "1       1-й Басманный переулок      1    13.0   ЦАО       Басманный район\n",
       "2       1-й Басманный переулок      1    15.0   ЦАО  Красносельский район\n",
       "3    1-й Голутвинский переулок      1    21.0   ЦАО        Район Якиманка\n",
       "4        1-й Заречный переулок      1     NaN   NaN                   NaN\n",
       "..                         ...    ...     ...   ...                   ...\n",
       "494             улица Шумилова      1   113.0  ЮВАО       Район Кузьминки\n",
       "495              улица Шумкина      1    26.0   ВАО      Район Сокольники\n",
       "496                улица Щорса      1    46.0   ЗАО        Район Солнцево\n",
       "497             улица Энгельса      1     NaN   NaN                   NaN\n",
       "498               шоссе Фрезер      1   117.0  ЮВАО   Нижегородский район\n",
       "\n",
       "[499 rows x 5 columns]"
      ]
     },
     "execution_count": 25,
     "metadata": {},
     "output_type": "execute_result"
    }
   ],
   "source": [
    "one_rest_street = one_rest_street.merge(mosgaz_data, on='streetname', how='left')\n",
    "\n",
    "one_rest_street"
   ]
  },
  {
   "cell_type": "code",
   "execution_count": 26,
   "metadata": {},
   "outputs": [
    {
     "data": {
      "text/html": [
       "<div>\n",
       "<style scoped>\n",
       "    .dataframe tbody tr th:only-of-type {\n",
       "        vertical-align: middle;\n",
       "    }\n",
       "\n",
       "    .dataframe tbody tr th {\n",
       "        vertical-align: top;\n",
       "    }\n",
       "\n",
       "    .dataframe thead th {\n",
       "        text-align: right;\n",
       "    }\n",
       "</style>\n",
       "<table border=\"1\" class=\"dataframe\">\n",
       "  <thead>\n",
       "    <tr style=\"text-align: right;\">\n",
       "      <th></th>\n",
       "      <th>area</th>\n",
       "      <th>streetname</th>\n",
       "    </tr>\n",
       "  </thead>\n",
       "  <tbody>\n",
       "    <tr>\n",
       "      <th>90</th>\n",
       "      <td>Таганский район</td>\n",
       "      <td>26</td>\n",
       "    </tr>\n",
       "    <tr>\n",
       "      <th>3</th>\n",
       "      <td>Басманный район</td>\n",
       "      <td>24</td>\n",
       "    </tr>\n",
       "    <tr>\n",
       "      <th>77</th>\n",
       "      <td>Район Хамовники</td>\n",
       "      <td>24</td>\n",
       "    </tr>\n",
       "    <tr>\n",
       "      <th>91</th>\n",
       "      <td>Тверской район</td>\n",
       "      <td>20</td>\n",
       "    </tr>\n",
       "    <tr>\n",
       "      <th>20</th>\n",
       "      <td>Пресненский район</td>\n",
       "      <td>19</td>\n",
       "    </tr>\n",
       "    <tr>\n",
       "      <th>21</th>\n",
       "      <td>Район Арбат</td>\n",
       "      <td>18</td>\n",
       "    </tr>\n",
       "    <tr>\n",
       "      <th>13</th>\n",
       "      <td>Мещанский район</td>\n",
       "      <td>15</td>\n",
       "    </tr>\n",
       "    <tr>\n",
       "      <th>71</th>\n",
       "      <td>Район Соколиная Гора</td>\n",
       "      <td>12</td>\n",
       "    </tr>\n",
       "    <tr>\n",
       "      <th>33</th>\n",
       "      <td>Район Замоскворечье</td>\n",
       "      <td>11</td>\n",
       "    </tr>\n",
       "    <tr>\n",
       "      <th>86</th>\n",
       "      <td>Район Якиманка</td>\n",
       "      <td>10</td>\n",
       "    </tr>\n",
       "  </tbody>\n",
       "</table>\n",
       "</div>"
      ],
      "text/plain": [
       "                    area  streetname\n",
       "90       Таганский район          26\n",
       "3        Басманный район          24\n",
       "77       Район Хамовники          24\n",
       "91        Тверской район          20\n",
       "20     Пресненский район          19\n",
       "21           Район Арбат          18\n",
       "13       Мещанский район          15\n",
       "71  Район Соколиная Гора          12\n",
       "33   Район Замоскворечье          11\n",
       "86        Район Якиманка          10"
      ]
     },
     "execution_count": 26,
     "metadata": {},
     "output_type": "execute_result"
    }
   ],
   "source": [
    "one_rest_street_area = one_rest_street.groupby('area').agg({'streetname':'count'}).reset_index()\n",
    "one_rest_street_area.sort_values(by='streetname', ascending=False).head(10)"
   ]
  },
  {
   "cell_type": "markdown",
   "metadata": {},
   "source": [
    "В Москве примерно 500 улиц с одним заведением, причем большинство из них находятся в самом центре — Хамовники, Тверской, Арбат. Предположу, что такая картина сложилась из-за того, что в этих районах очень много небольших переулков, а стоимость аренды в историческом центре очень большая — отсюда и ситуация, что позволить себе открыть здесь кафе или ресторан могут лишь единицы."
   ]
  },
  {
   "cell_type": "markdown",
   "metadata": {},
   "source": [
    "# Общий вывод"
   ]
  },
  {
   "cell_type": "markdown",
   "metadata": {},
   "source": [
    "Анализ данных о рынке московского общественного питания мы начали с предобработки: избавились от явных дубликатов, привели данные к нижнему регистру. В наименованиях заведений были неявные дубликаты, но они не интересовали нас в плоскости анализа — их мы оставили без изменений. Мы также добавили дополнительный столбец с названиями улиц. На их основе был произведен анализ месторасположения заведений.\n",
    "<br>\n",
    "<br>\n",
    "Мы пришли к следующим выводам:\n",
    "   - в Москве большую часть рынка общественного питания занимают кафе — 40%, на втором месте столовые, на третьем — рестораны;\n",
    "   - в Москве преобладают единичные кафе и рестораны — 12 тысяч, сетевых — 3 тысячи;\n",
    "   - сетевое распространение характерно для кафе, фастфудов и ресторанов, также для сетевых заведений характерно малое количество заведений с небольшим количеством посадочных мест;\n",
    "   - наибольшее количество посадочных мест в столовых — 130 в среднем, в ресторанах чуть меньше — почти 100, на третьем месте буфеты, бары и кафе, а наименьшее количество столиков в кулинариях;\n",
    "   - проспект Мира становится улицей с самым большим числом кафе, ресторанов, столовых и фастфудов, ненамного отстают улицы Прфсоюзная, Лениндградский проспект, Пресненская набережная и Варшавское шоссе — все эти улицы и проспекты отличаются большой протяженностью и входят сразу в несколько районов;\n",
    "   - в Москве примерно 500 улиц с одним заведением, причем большинство из них находятся в самом центре — Хамовники, Тверской, Арбат. В этих районах очень много небольших переулков, а стоимость аренды в историческом центре очень большая —  позволить себе открыть здесь кафе или ресторан могут лишь единицы.\n",
    "\n",
    " \n",
    "<br>\n",
    "Предположив, что самые распространенные модели построения бизнеса в Москве являются самыми успешными и конкурентно способными, к коммерческому успеху может привести открытие несетевого кафе с максимальным количеством посадочным мест в 40 штук. Для определения района рекомендуется провести дополнительное исследование расположения с учетом картографических данных, доступности от метро и проходимости. В перспективе кафе можно развить в сеть, ведь эта ниша не так занята — только 20% заведений Москвы являются сетевыми и только 23% из числа всех кафе являются сетевыми."
   ]
  }
 ],
 "metadata": {
  "ExecuteTimeLog": [
   {
    "duration": 44,
    "start_time": "2022-07-19T15:28:21.885Z"
   },
   {
    "duration": 723,
    "start_time": "2022-07-19T15:28:25.196Z"
   },
   {
    "duration": 137,
    "start_time": "2022-07-19T15:28:27.374Z"
   },
   {
    "duration": 78,
    "start_time": "2022-07-19T15:28:45.626Z"
   },
   {
    "duration": 83,
    "start_time": "2022-07-19T15:30:20.291Z"
   },
   {
    "duration": 8,
    "start_time": "2022-07-19T15:40:16.789Z"
   },
   {
    "duration": 7,
    "start_time": "2022-07-19T15:40:32.269Z"
   },
   {
    "duration": 6,
    "start_time": "2022-07-19T15:40:37.974Z"
   },
   {
    "duration": 5,
    "start_time": "2022-07-19T15:42:28.269Z"
   },
   {
    "duration": 7,
    "start_time": "2022-07-19T15:42:39.492Z"
   },
   {
    "duration": 9,
    "start_time": "2022-07-19T15:42:49.412Z"
   },
   {
    "duration": 11,
    "start_time": "2022-07-19T15:43:58.222Z"
   },
   {
    "duration": 10,
    "start_time": "2022-07-19T15:44:23.262Z"
   },
   {
    "duration": 9,
    "start_time": "2022-07-19T15:44:33.718Z"
   },
   {
    "duration": 10,
    "start_time": "2022-07-19T15:45:55.400Z"
   },
   {
    "duration": 22,
    "start_time": "2022-07-19T15:46:30.796Z"
   },
   {
    "duration": 26,
    "start_time": "2022-07-19T15:47:09.425Z"
   },
   {
    "duration": 11,
    "start_time": "2022-07-19T15:47:37.798Z"
   },
   {
    "duration": 12,
    "start_time": "2022-07-19T15:49:22.512Z"
   },
   {
    "duration": 16,
    "start_time": "2022-07-19T15:49:49.775Z"
   },
   {
    "duration": 20,
    "start_time": "2022-07-19T15:53:14.621Z"
   },
   {
    "duration": 6,
    "start_time": "2022-07-19T16:03:33.280Z"
   },
   {
    "duration": 12,
    "start_time": "2022-07-19T16:15:44.808Z"
   },
   {
    "duration": 20,
    "start_time": "2022-07-19T16:16:48.252Z"
   },
   {
    "duration": 16,
    "start_time": "2022-07-19T16:25:43.142Z"
   },
   {
    "duration": 16,
    "start_time": "2022-07-19T16:26:28.022Z"
   },
   {
    "duration": 9,
    "start_time": "2022-07-19T16:26:31.496Z"
   },
   {
    "duration": 16,
    "start_time": "2022-07-19T16:29:08.908Z"
   },
   {
    "duration": 14,
    "start_time": "2022-07-19T16:29:37.106Z"
   },
   {
    "duration": 6,
    "start_time": "2022-07-19T16:30:25.734Z"
   },
   {
    "duration": 10,
    "start_time": "2022-07-19T16:32:34.814Z"
   },
   {
    "duration": 45,
    "start_time": "2022-07-19T16:32:49.141Z"
   },
   {
    "duration": 23,
    "start_time": "2022-07-19T16:33:07.981Z"
   },
   {
    "duration": 21,
    "start_time": "2022-07-19T16:33:31.315Z"
   },
   {
    "duration": 556,
    "start_time": "2022-07-19T16:33:42.241Z"
   },
   {
    "duration": 81,
    "start_time": "2022-07-19T16:33:42.799Z"
   },
   {
    "duration": 14,
    "start_time": "2022-07-19T16:33:42.882Z"
   },
   {
    "duration": 20,
    "start_time": "2022-07-19T16:33:42.898Z"
   },
   {
    "duration": 9,
    "start_time": "2022-07-19T16:33:42.919Z"
   },
   {
    "duration": 22,
    "start_time": "2022-07-19T16:33:57.465Z"
   },
   {
    "duration": 86,
    "start_time": "2022-07-19T16:34:25.221Z"
   },
   {
    "duration": 620,
    "start_time": "2022-07-19T16:34:33.037Z"
   },
   {
    "duration": 80,
    "start_time": "2022-07-19T16:34:33.660Z"
   },
   {
    "duration": 13,
    "start_time": "2022-07-19T16:34:33.742Z"
   },
   {
    "duration": 14,
    "start_time": "2022-07-19T16:34:33.757Z"
   },
   {
    "duration": 8,
    "start_time": "2022-07-19T16:34:33.773Z"
   },
   {
    "duration": 16,
    "start_time": "2022-07-19T16:35:26.765Z"
   },
   {
    "duration": 686,
    "start_time": "2022-07-19T16:35:33.650Z"
   },
   {
    "duration": 85,
    "start_time": "2022-07-19T16:35:34.337Z"
   },
   {
    "duration": 18,
    "start_time": "2022-07-19T16:35:34.424Z"
   },
   {
    "duration": 15,
    "start_time": "2022-07-19T16:35:34.444Z"
   },
   {
    "duration": 10,
    "start_time": "2022-07-19T16:35:34.461Z"
   },
   {
    "duration": 50,
    "start_time": "2022-07-19T16:36:14.483Z"
   },
   {
    "duration": 17,
    "start_time": "2022-07-19T16:36:31.528Z"
   },
   {
    "duration": 16,
    "start_time": "2022-07-19T16:36:47.798Z"
   },
   {
    "duration": 16,
    "start_time": "2022-07-19T16:36:56.504Z"
   },
   {
    "duration": 52,
    "start_time": "2022-07-20T08:39:22.404Z"
   },
   {
    "duration": 781,
    "start_time": "2022-07-20T08:39:35.466Z"
   },
   {
    "duration": 138,
    "start_time": "2022-07-20T08:39:36.249Z"
   },
   {
    "duration": 20,
    "start_time": "2022-07-20T08:39:36.389Z"
   },
   {
    "duration": 18,
    "start_time": "2022-07-20T08:39:36.412Z"
   },
   {
    "duration": 20,
    "start_time": "2022-07-20T08:39:36.431Z"
   },
   {
    "duration": 9,
    "start_time": "2022-07-20T08:44:49.871Z"
   },
   {
    "duration": 78,
    "start_time": "2022-07-20T08:53:39.312Z"
   },
   {
    "duration": 1279,
    "start_time": "2022-07-20T08:53:51.125Z"
   },
   {
    "duration": 97,
    "start_time": "2022-07-20T08:53:52.406Z"
   },
   {
    "duration": 16,
    "start_time": "2022-07-20T08:53:52.505Z"
   },
   {
    "duration": 16,
    "start_time": "2022-07-20T08:53:52.523Z"
   },
   {
    "duration": 20,
    "start_time": "2022-07-20T08:53:52.541Z"
   },
   {
    "duration": 9,
    "start_time": "2022-07-20T08:53:52.563Z"
   },
   {
    "duration": 143,
    "start_time": "2022-07-20T08:53:52.574Z"
   },
   {
    "duration": 17,
    "start_time": "2022-07-20T08:55:10.506Z"
   },
   {
    "duration": 9,
    "start_time": "2022-07-20T08:56:12.051Z"
   },
   {
    "duration": 4,
    "start_time": "2022-07-20T08:56:45.836Z"
   },
   {
    "duration": 1252,
    "start_time": "2022-07-20T08:56:50.962Z"
   },
   {
    "duration": 95,
    "start_time": "2022-07-20T08:56:52.216Z"
   },
   {
    "duration": 18,
    "start_time": "2022-07-20T08:56:52.313Z"
   },
   {
    "duration": 16,
    "start_time": "2022-07-20T08:56:52.333Z"
   },
   {
    "duration": 19,
    "start_time": "2022-07-20T08:56:52.351Z"
   },
   {
    "duration": 41,
    "start_time": "2022-07-20T08:56:52.371Z"
   },
   {
    "duration": 115,
    "start_time": "2022-07-20T08:56:52.415Z"
   },
   {
    "duration": 9,
    "start_time": "2022-07-20T08:57:02.602Z"
   },
   {
    "duration": 21,
    "start_time": "2022-07-20T08:59:04.166Z"
   },
   {
    "duration": 16,
    "start_time": "2022-07-20T08:59:37.147Z"
   },
   {
    "duration": 254,
    "start_time": "2022-07-20T09:11:52.475Z"
   },
   {
    "duration": 8,
    "start_time": "2022-07-20T09:12:47.105Z"
   },
   {
    "duration": 99,
    "start_time": "2022-07-20T09:13:26.826Z"
   },
   {
    "duration": 13,
    "start_time": "2022-07-20T09:13:57.380Z"
   },
   {
    "duration": 77,
    "start_time": "2022-07-20T09:14:16.225Z"
   },
   {
    "duration": 18,
    "start_time": "2022-07-20T09:15:02.609Z"
   },
   {
    "duration": 7,
    "start_time": "2022-07-20T09:15:27.540Z"
   },
   {
    "duration": 34,
    "start_time": "2022-07-20T09:16:06.744Z"
   },
   {
    "duration": 78,
    "start_time": "2022-07-20T09:16:17.186Z"
   },
   {
    "duration": 5,
    "start_time": "2022-07-20T09:16:59.777Z"
   },
   {
    "duration": 1423,
    "start_time": "2022-07-20T09:17:12.714Z"
   },
   {
    "duration": 6,
    "start_time": "2022-07-20T09:17:29.436Z"
   },
   {
    "duration": 4,
    "start_time": "2022-07-20T09:17:38.221Z"
   },
   {
    "duration": 1371,
    "start_time": "2022-07-20T09:17:41.129Z"
   },
   {
    "duration": 5,
    "start_time": "2022-07-20T09:17:47.080Z"
   },
   {
    "duration": 1310,
    "start_time": "2022-07-20T09:18:09.387Z"
   },
   {
    "duration": 101,
    "start_time": "2022-07-20T09:18:10.699Z"
   },
   {
    "duration": 23,
    "start_time": "2022-07-20T09:18:10.802Z"
   },
   {
    "duration": 18,
    "start_time": "2022-07-20T09:18:10.827Z"
   },
   {
    "duration": 7,
    "start_time": "2022-07-20T09:18:10.847Z"
   },
   {
    "duration": 22,
    "start_time": "2022-07-20T09:18:10.857Z"
   },
   {
    "duration": 32,
    "start_time": "2022-07-20T09:18:10.881Z"
   },
   {
    "duration": 1388,
    "start_time": "2022-07-20T09:18:10.915Z"
   },
   {
    "duration": 8,
    "start_time": "2022-07-20T09:19:26.441Z"
   },
   {
    "duration": 260,
    "start_time": "2022-07-20T09:19:37.560Z"
   },
   {
    "duration": 19,
    "start_time": "2022-07-20T09:25:06.232Z"
   },
   {
    "duration": 14,
    "start_time": "2022-07-20T09:25:17.005Z"
   },
   {
    "duration": 18,
    "start_time": "2022-07-20T09:27:17.757Z"
   },
   {
    "duration": 19,
    "start_time": "2022-07-20T09:27:29.829Z"
   },
   {
    "duration": 14,
    "start_time": "2022-07-20T09:27:39.291Z"
   },
   {
    "duration": 20,
    "start_time": "2022-07-20T09:28:21.783Z"
   },
   {
    "duration": 15,
    "start_time": "2022-07-20T09:28:37.687Z"
   },
   {
    "duration": 15,
    "start_time": "2022-07-20T09:29:00.927Z"
   },
   {
    "duration": 19,
    "start_time": "2022-07-20T09:29:52.009Z"
   },
   {
    "duration": 15,
    "start_time": "2022-07-20T09:30:46.989Z"
   },
   {
    "duration": 16,
    "start_time": "2022-07-20T09:32:11.086Z"
   },
   {
    "duration": 5,
    "start_time": "2022-07-20T09:34:20.665Z"
   },
   {
    "duration": 20,
    "start_time": "2022-07-20T09:34:26.061Z"
   },
   {
    "duration": 18,
    "start_time": "2022-07-20T09:35:02.272Z"
   },
   {
    "duration": 17,
    "start_time": "2022-07-20T09:35:45.524Z"
   },
   {
    "duration": 17,
    "start_time": "2022-07-20T09:36:27.495Z"
   },
   {
    "duration": 17,
    "start_time": "2022-07-20T09:36:41.178Z"
   },
   {
    "duration": 32,
    "start_time": "2022-07-20T09:40:00.903Z"
   },
   {
    "duration": 19,
    "start_time": "2022-07-20T09:40:38.618Z"
   },
   {
    "duration": 7,
    "start_time": "2022-07-20T09:42:23.030Z"
   },
   {
    "duration": 17,
    "start_time": "2022-07-20T09:44:49.595Z"
   },
   {
    "duration": 23,
    "start_time": "2022-07-20T09:47:11.554Z"
   },
   {
    "duration": 28,
    "start_time": "2022-07-20T09:47:24.359Z"
   },
   {
    "duration": 23,
    "start_time": "2022-07-20T09:47:33.805Z"
   },
   {
    "duration": 23,
    "start_time": "2022-07-20T09:50:50.916Z"
   },
   {
    "duration": 16,
    "start_time": "2022-07-20T09:51:05.250Z"
   },
   {
    "duration": 29,
    "start_time": "2022-07-20T09:51:24.729Z"
   },
   {
    "duration": 50,
    "start_time": "2022-07-20T09:51:33.018Z"
   },
   {
    "duration": 16,
    "start_time": "2022-07-20T09:51:49.687Z"
   },
   {
    "duration": 16,
    "start_time": "2022-07-20T09:51:56.304Z"
   },
   {
    "duration": 16,
    "start_time": "2022-07-20T09:52:03.853Z"
   },
   {
    "duration": 19,
    "start_time": "2022-07-20T09:59:38.931Z"
   },
   {
    "duration": 17,
    "start_time": "2022-07-20T09:59:47.076Z"
   },
   {
    "duration": 21,
    "start_time": "2022-07-20T10:00:21.951Z"
   },
   {
    "duration": 15,
    "start_time": "2022-07-20T10:00:27.276Z"
   },
   {
    "duration": 15,
    "start_time": "2022-07-20T10:00:34.253Z"
   },
   {
    "duration": 25,
    "start_time": "2022-07-20T10:13:03.415Z"
   },
   {
    "duration": 22,
    "start_time": "2022-07-20T10:13:12.424Z"
   },
   {
    "duration": 16,
    "start_time": "2022-07-20T10:13:23.282Z"
   },
   {
    "duration": 16,
    "start_time": "2022-07-20T10:13:35.197Z"
   },
   {
    "duration": 18,
    "start_time": "2022-07-20T10:13:53.812Z"
   },
   {
    "duration": 24,
    "start_time": "2022-07-20T10:14:25.137Z"
   },
   {
    "duration": 15,
    "start_time": "2022-07-20T10:20:09.475Z"
   },
   {
    "duration": 18,
    "start_time": "2022-07-20T10:22:19.084Z"
   },
   {
    "duration": 17,
    "start_time": "2022-07-20T10:23:42.245Z"
   },
   {
    "duration": 15,
    "start_time": "2022-07-20T10:23:56.245Z"
   },
   {
    "duration": 23,
    "start_time": "2022-07-20T10:27:42.187Z"
   },
   {
    "duration": 34,
    "start_time": "2022-07-20T10:38:51.000Z"
   },
   {
    "duration": 18,
    "start_time": "2022-07-20T10:39:03.130Z"
   },
   {
    "duration": 16,
    "start_time": "2022-07-20T10:39:11.021Z"
   },
   {
    "duration": 16,
    "start_time": "2022-07-20T10:40:06.528Z"
   },
   {
    "duration": 17,
    "start_time": "2022-07-20T10:40:47.094Z"
   },
   {
    "duration": 23,
    "start_time": "2022-07-20T10:41:04.026Z"
   },
   {
    "duration": 670,
    "start_time": "2022-07-20T10:46:34.967Z"
   },
   {
    "duration": 148,
    "start_time": "2022-07-20T10:48:14.791Z"
   },
   {
    "duration": 556,
    "start_time": "2022-07-20T10:48:29.142Z"
   },
   {
    "duration": 490,
    "start_time": "2022-07-20T10:49:18.722Z"
   },
   {
    "duration": 485,
    "start_time": "2022-07-20T10:50:00.803Z"
   },
   {
    "duration": 14,
    "start_time": "2022-07-20T10:52:38.729Z"
   },
   {
    "duration": 469,
    "start_time": "2022-07-20T10:52:48.690Z"
   },
   {
    "duration": 437,
    "start_time": "2022-07-20T10:53:41.338Z"
   },
   {
    "duration": 440,
    "start_time": "2022-07-20T10:53:48.942Z"
   },
   {
    "duration": 455,
    "start_time": "2022-07-20T10:53:55.703Z"
   },
   {
    "duration": 22,
    "start_time": "2022-07-20T10:54:03.582Z"
   },
   {
    "duration": 491,
    "start_time": "2022-07-20T10:54:22.366Z"
   },
   {
    "duration": 461,
    "start_time": "2022-07-20T10:54:36.316Z"
   },
   {
    "duration": 523,
    "start_time": "2022-07-20T10:56:03.652Z"
   },
   {
    "duration": 522,
    "start_time": "2022-07-20T10:56:12.003Z"
   },
   {
    "duration": 610,
    "start_time": "2022-07-20T10:57:30.755Z"
   },
   {
    "duration": 512,
    "start_time": "2022-07-20T10:58:17.759Z"
   },
   {
    "duration": 1388,
    "start_time": "2022-07-20T10:58:33.911Z"
   },
   {
    "duration": 97,
    "start_time": "2022-07-20T10:58:35.301Z"
   },
   {
    "duration": 18,
    "start_time": "2022-07-20T10:58:35.400Z"
   },
   {
    "duration": 17,
    "start_time": "2022-07-20T10:58:35.421Z"
   },
   {
    "duration": 7,
    "start_time": "2022-07-20T10:58:35.440Z"
   },
   {
    "duration": 28,
    "start_time": "2022-07-20T10:58:35.449Z"
   },
   {
    "duration": 14,
    "start_time": "2022-07-20T10:58:35.479Z"
   },
   {
    "duration": 188,
    "start_time": "2022-07-20T10:58:35.510Z"
   },
   {
    "duration": 8,
    "start_time": "2022-07-20T10:58:35.699Z"
   },
   {
    "duration": 22,
    "start_time": "2022-07-20T10:58:35.710Z"
   },
   {
    "duration": 20,
    "start_time": "2022-07-20T10:58:35.734Z"
   },
   {
    "duration": 556,
    "start_time": "2022-07-20T10:58:35.756Z"
   },
   {
    "duration": 487,
    "start_time": "2022-07-20T10:59:30.630Z"
   },
   {
    "duration": 565,
    "start_time": "2022-07-20T10:59:41.633Z"
   },
   {
    "duration": 1326,
    "start_time": "2022-07-20T11:01:05.049Z"
   },
   {
    "duration": 103,
    "start_time": "2022-07-20T11:01:06.378Z"
   },
   {
    "duration": 20,
    "start_time": "2022-07-20T11:01:06.483Z"
   },
   {
    "duration": 18,
    "start_time": "2022-07-20T11:01:06.512Z"
   },
   {
    "duration": 8,
    "start_time": "2022-07-20T11:01:06.532Z"
   },
   {
    "duration": 22,
    "start_time": "2022-07-20T11:01:06.541Z"
   },
   {
    "duration": 7,
    "start_time": "2022-07-20T11:01:06.565Z"
   },
   {
    "duration": 204,
    "start_time": "2022-07-20T11:01:06.574Z"
   },
   {
    "duration": 7,
    "start_time": "2022-07-20T11:01:06.780Z"
   },
   {
    "duration": 33,
    "start_time": "2022-07-20T11:01:06.790Z"
   },
   {
    "duration": 18,
    "start_time": "2022-07-20T11:01:06.825Z"
   },
   {
    "duration": 642,
    "start_time": "2022-07-20T11:01:06.845Z"
   },
   {
    "duration": 20,
    "start_time": "2022-07-20T11:01:26.431Z"
   },
   {
    "duration": 498,
    "start_time": "2022-07-20T11:02:15.316Z"
   },
   {
    "duration": 504,
    "start_time": "2022-07-20T11:02:21.251Z"
   },
   {
    "duration": 531,
    "start_time": "2022-07-20T11:02:26.473Z"
   },
   {
    "duration": 10,
    "start_time": "2022-07-20T11:03:01.604Z"
   },
   {
    "duration": 1369,
    "start_time": "2022-07-20T11:03:09.992Z"
   },
   {
    "duration": 92,
    "start_time": "2022-07-20T11:03:11.363Z"
   },
   {
    "duration": 23,
    "start_time": "2022-07-20T11:03:11.457Z"
   },
   {
    "duration": 32,
    "start_time": "2022-07-20T11:03:11.483Z"
   },
   {
    "duration": 7,
    "start_time": "2022-07-20T11:03:11.517Z"
   },
   {
    "duration": 20,
    "start_time": "2022-07-20T11:03:11.526Z"
   },
   {
    "duration": 6,
    "start_time": "2022-07-20T11:03:11.548Z"
   },
   {
    "duration": 205,
    "start_time": "2022-07-20T11:03:11.555Z"
   },
   {
    "duration": 7,
    "start_time": "2022-07-20T11:03:11.761Z"
   },
   {
    "duration": 45,
    "start_time": "2022-07-20T11:03:11.770Z"
   },
   {
    "duration": 34,
    "start_time": "2022-07-20T11:03:11.816Z"
   },
   {
    "duration": 570,
    "start_time": "2022-07-20T11:03:11.852Z"
   },
   {
    "duration": 497,
    "start_time": "2022-07-20T11:03:26.255Z"
   },
   {
    "duration": 492,
    "start_time": "2022-07-20T11:03:33.595Z"
   },
   {
    "duration": 507,
    "start_time": "2022-07-20T11:03:37.890Z"
   },
   {
    "duration": 528,
    "start_time": "2022-07-20T11:03:55.185Z"
   },
   {
    "duration": 535,
    "start_time": "2022-07-20T11:04:03.696Z"
   },
   {
    "duration": 120,
    "start_time": "2022-07-20T11:04:25.523Z"
   },
   {
    "duration": 643,
    "start_time": "2022-07-20T11:05:04.898Z"
   },
   {
    "duration": 499,
    "start_time": "2022-07-20T11:05:26.114Z"
   },
   {
    "duration": 478,
    "start_time": "2022-07-20T11:07:02.521Z"
   },
   {
    "duration": 529,
    "start_time": "2022-07-20T11:07:23.507Z"
   },
   {
    "duration": 486,
    "start_time": "2022-07-20T11:07:33.322Z"
   },
   {
    "duration": 542,
    "start_time": "2022-07-20T11:07:42.146Z"
   },
   {
    "duration": 506,
    "start_time": "2022-07-20T11:09:37.623Z"
   },
   {
    "duration": 570,
    "start_time": "2022-07-20T11:09:46.126Z"
   },
   {
    "duration": 550,
    "start_time": "2022-07-20T11:09:50.970Z"
   },
   {
    "duration": 519,
    "start_time": "2022-07-20T11:10:22.523Z"
   },
   {
    "duration": 584,
    "start_time": "2022-07-20T11:11:13.021Z"
   },
   {
    "duration": 677,
    "start_time": "2022-07-20T11:11:20.296Z"
   },
   {
    "duration": 567,
    "start_time": "2022-07-20T11:11:25.631Z"
   },
   {
    "duration": 543,
    "start_time": "2022-07-20T11:11:43.032Z"
   },
   {
    "duration": 555,
    "start_time": "2022-07-20T11:11:50.988Z"
   },
   {
    "duration": 603,
    "start_time": "2022-07-20T11:11:59.856Z"
   },
   {
    "duration": 595,
    "start_time": "2022-07-20T11:12:45.258Z"
   },
   {
    "duration": 592,
    "start_time": "2022-07-20T11:13:54.853Z"
   },
   {
    "duration": 579,
    "start_time": "2022-07-20T11:41:05.306Z"
   },
   {
    "duration": 561,
    "start_time": "2022-07-20T11:41:19.199Z"
   },
   {
    "duration": 570,
    "start_time": "2022-07-20T11:41:36.566Z"
   },
   {
    "duration": 583,
    "start_time": "2022-07-20T11:41:43.877Z"
   },
   {
    "duration": 724,
    "start_time": "2022-07-20T11:41:51.322Z"
   },
   {
    "duration": 591,
    "start_time": "2022-07-20T11:42:01.729Z"
   },
   {
    "duration": 581,
    "start_time": "2022-07-20T11:42:13.204Z"
   },
   {
    "duration": 624,
    "start_time": "2022-07-20T11:42:18.308Z"
   },
   {
    "duration": 583,
    "start_time": "2022-07-20T11:42:26.849Z"
   },
   {
    "duration": 570,
    "start_time": "2022-07-20T11:42:36.010Z"
   },
   {
    "duration": 559,
    "start_time": "2022-07-20T11:43:16.229Z"
   },
   {
    "duration": 18,
    "start_time": "2022-07-20T11:44:01.660Z"
   },
   {
    "duration": 1380,
    "start_time": "2022-07-21T07:59:39.209Z"
   },
   {
    "duration": 280,
    "start_time": "2022-07-21T07:59:40.591Z"
   },
   {
    "duration": 16,
    "start_time": "2022-07-21T07:59:40.873Z"
   },
   {
    "duration": 15,
    "start_time": "2022-07-21T07:59:40.891Z"
   },
   {
    "duration": 18,
    "start_time": "2022-07-21T07:59:40.908Z"
   },
   {
    "duration": 21,
    "start_time": "2022-07-21T07:59:40.928Z"
   },
   {
    "duration": 7,
    "start_time": "2022-07-21T07:59:40.950Z"
   },
   {
    "duration": 206,
    "start_time": "2022-07-21T07:59:40.958Z"
   },
   {
    "duration": 6,
    "start_time": "2022-07-21T07:59:41.166Z"
   },
   {
    "duration": 21,
    "start_time": "2022-07-21T07:59:41.174Z"
   },
   {
    "duration": 30,
    "start_time": "2022-07-21T07:59:41.197Z"
   },
   {
    "duration": 615,
    "start_time": "2022-07-21T07:59:41.229Z"
   },
   {
    "duration": 18,
    "start_time": "2022-07-21T07:59:41.846Z"
   },
   {
    "duration": 17,
    "start_time": "2022-07-21T08:00:24.906Z"
   },
   {
    "duration": 16,
    "start_time": "2022-07-21T08:00:38.985Z"
   },
   {
    "duration": 16,
    "start_time": "2022-07-21T08:00:54.170Z"
   },
   {
    "duration": 118,
    "start_time": "2022-07-21T08:06:08.856Z"
   },
   {
    "duration": 1216,
    "start_time": "2022-07-21T08:06:21.229Z"
   },
   {
    "duration": 93,
    "start_time": "2022-07-21T08:06:22.447Z"
   },
   {
    "duration": 17,
    "start_time": "2022-07-21T08:06:22.541Z"
   },
   {
    "duration": 16,
    "start_time": "2022-07-21T08:06:22.560Z"
   },
   {
    "duration": 6,
    "start_time": "2022-07-21T08:06:22.578Z"
   },
   {
    "duration": 42,
    "start_time": "2022-07-21T08:06:22.586Z"
   },
   {
    "duration": 7,
    "start_time": "2022-07-21T08:06:22.629Z"
   },
   {
    "duration": 172,
    "start_time": "2022-07-21T08:06:22.637Z"
   },
   {
    "duration": 7,
    "start_time": "2022-07-21T08:06:22.810Z"
   },
   {
    "duration": 18,
    "start_time": "2022-07-21T08:06:22.818Z"
   },
   {
    "duration": 14,
    "start_time": "2022-07-21T08:06:22.838Z"
   },
   {
    "duration": 569,
    "start_time": "2022-07-21T08:06:22.854Z"
   },
   {
    "duration": 115,
    "start_time": "2022-07-21T08:06:23.425Z"
   },
   {
    "duration": 14,
    "start_time": "2022-07-21T08:06:46.798Z"
   },
   {
    "duration": 15,
    "start_time": "2022-07-21T08:06:52.596Z"
   },
   {
    "duration": 16,
    "start_time": "2022-07-21T08:08:06.228Z"
   },
   {
    "duration": 16,
    "start_time": "2022-07-21T08:09:02.313Z"
   },
   {
    "duration": 10,
    "start_time": "2022-07-21T08:09:29.629Z"
   },
   {
    "duration": 17,
    "start_time": "2022-07-21T08:10:43.474Z"
   },
   {
    "duration": 14,
    "start_time": "2022-07-21T08:10:49.038Z"
   },
   {
    "duration": 10,
    "start_time": "2022-07-21T08:11:11.500Z"
   },
   {
    "duration": 12,
    "start_time": "2022-07-21T08:11:21.744Z"
   },
   {
    "duration": 10,
    "start_time": "2022-07-21T08:11:41.659Z"
   },
   {
    "duration": 21,
    "start_time": "2022-07-21T08:15:25.696Z"
   },
   {
    "duration": 519,
    "start_time": "2022-07-21T08:15:39.514Z"
   },
   {
    "duration": 23,
    "start_time": "2022-07-21T08:16:27.217Z"
   },
   {
    "duration": 1265,
    "start_time": "2022-07-21T08:16:46.490Z"
   },
   {
    "duration": 92,
    "start_time": "2022-07-21T08:16:47.757Z"
   },
   {
    "duration": 17,
    "start_time": "2022-07-21T08:16:47.850Z"
   },
   {
    "duration": 15,
    "start_time": "2022-07-21T08:16:47.869Z"
   },
   {
    "duration": 7,
    "start_time": "2022-07-21T08:16:47.885Z"
   },
   {
    "duration": 46,
    "start_time": "2022-07-21T08:16:47.893Z"
   },
   {
    "duration": 6,
    "start_time": "2022-07-21T08:16:47.941Z"
   },
   {
    "duration": 168,
    "start_time": "2022-07-21T08:16:47.948Z"
   },
   {
    "duration": 7,
    "start_time": "2022-07-21T08:16:48.118Z"
   },
   {
    "duration": 18,
    "start_time": "2022-07-21T08:16:48.128Z"
   },
   {
    "duration": 16,
    "start_time": "2022-07-21T08:16:48.147Z"
   },
   {
    "duration": 575,
    "start_time": "2022-07-21T08:16:48.165Z"
   },
   {
    "duration": 111,
    "start_time": "2022-07-21T08:16:48.742Z"
   },
   {
    "duration": 17,
    "start_time": "2022-07-21T08:17:17.203Z"
   },
   {
    "duration": 16,
    "start_time": "2022-07-21T08:19:00.011Z"
   },
   {
    "duration": 14,
    "start_time": "2022-07-21T08:19:34.240Z"
   },
   {
    "duration": 16,
    "start_time": "2022-07-21T08:19:46.758Z"
   },
   {
    "duration": 20,
    "start_time": "2022-07-21T08:20:31.631Z"
   },
   {
    "duration": 26,
    "start_time": "2022-07-21T08:21:07.249Z"
   },
   {
    "duration": 19,
    "start_time": "2022-07-21T08:22:28.253Z"
   },
   {
    "duration": 41,
    "start_time": "2022-07-21T08:28:31.510Z"
   },
   {
    "duration": 257,
    "start_time": "2022-07-21T08:29:30.196Z"
   },
   {
    "duration": 46,
    "start_time": "2022-07-21T08:29:50.700Z"
   },
   {
    "duration": 125,
    "start_time": "2022-07-21T08:30:16.009Z"
   },
   {
    "duration": 45,
    "start_time": "2022-07-21T08:32:12.441Z"
   },
   {
    "duration": 153,
    "start_time": "2022-07-21T08:32:37.592Z"
   },
   {
    "duration": 44,
    "start_time": "2022-07-21T08:35:52.452Z"
   },
   {
    "duration": 46,
    "start_time": "2022-07-21T08:36:58.880Z"
   },
   {
    "duration": 69,
    "start_time": "2022-07-21T08:37:07.276Z"
   },
   {
    "duration": 58,
    "start_time": "2022-07-21T08:39:06.019Z"
   },
   {
    "duration": 51,
    "start_time": "2022-07-21T08:39:20.066Z"
   },
   {
    "duration": 57,
    "start_time": "2022-07-21T08:39:28.171Z"
   },
   {
    "duration": 57,
    "start_time": "2022-07-21T08:39:33.573Z"
   },
   {
    "duration": 54,
    "start_time": "2022-07-21T08:39:49.692Z"
   },
   {
    "duration": 45,
    "start_time": "2022-07-21T08:39:56.087Z"
   },
   {
    "duration": 50,
    "start_time": "2022-07-21T08:40:16.029Z"
   },
   {
    "duration": 67,
    "start_time": "2022-07-21T08:43:49.707Z"
   },
   {
    "duration": 58,
    "start_time": "2022-07-21T08:44:51.989Z"
   },
   {
    "duration": 53,
    "start_time": "2022-07-21T08:45:21.768Z"
   },
   {
    "duration": 59,
    "start_time": "2022-07-21T08:46:49.629Z"
   },
   {
    "duration": 53,
    "start_time": "2022-07-21T08:46:57.064Z"
   },
   {
    "duration": 49,
    "start_time": "2022-07-21T08:47:02.180Z"
   },
   {
    "duration": 61,
    "start_time": "2022-07-21T08:47:30.320Z"
   },
   {
    "duration": 53,
    "start_time": "2022-07-21T08:47:39.794Z"
   },
   {
    "duration": 71,
    "start_time": "2022-07-21T08:47:52.740Z"
   },
   {
    "duration": 58,
    "start_time": "2022-07-21T08:56:17.945Z"
   },
   {
    "duration": 11,
    "start_time": "2022-07-21T08:57:39.012Z"
   },
   {
    "duration": 17,
    "start_time": "2022-07-21T08:57:54.639Z"
   },
   {
    "duration": 17,
    "start_time": "2022-07-21T08:58:37.345Z"
   },
   {
    "duration": 19,
    "start_time": "2022-07-21T08:59:19.001Z"
   },
   {
    "duration": 12,
    "start_time": "2022-07-21T08:59:25.277Z"
   },
   {
    "duration": 13,
    "start_time": "2022-07-21T08:59:41.621Z"
   },
   {
    "duration": 23,
    "start_time": "2022-07-21T09:00:27.489Z"
   },
   {
    "duration": 62,
    "start_time": "2022-07-21T09:00:48.270Z"
   },
   {
    "duration": 173,
    "start_time": "2022-07-21T09:06:18.260Z"
   },
   {
    "duration": 148,
    "start_time": "2022-07-21T09:09:05.956Z"
   },
   {
    "duration": 173,
    "start_time": "2022-07-21T09:10:35.921Z"
   },
   {
    "duration": 167,
    "start_time": "2022-07-21T09:11:05.807Z"
   },
   {
    "duration": 154,
    "start_time": "2022-07-21T09:11:11.807Z"
   },
   {
    "duration": 223,
    "start_time": "2022-07-21T09:11:39.292Z"
   },
   {
    "duration": 113,
    "start_time": "2022-07-21T09:12:21.244Z"
   },
   {
    "duration": 151,
    "start_time": "2022-07-21T09:12:28.376Z"
   },
   {
    "duration": 160,
    "start_time": "2022-07-21T09:15:23.084Z"
   },
   {
    "duration": 165,
    "start_time": "2022-07-21T09:15:50.017Z"
   },
   {
    "duration": 150,
    "start_time": "2022-07-21T09:16:10.748Z"
   },
   {
    "duration": 26,
    "start_time": "2022-07-21T09:16:27.081Z"
   },
   {
    "duration": 491,
    "start_time": "2022-07-21T09:16:32.210Z"
   },
   {
    "duration": 497,
    "start_time": "2022-07-21T09:16:37.479Z"
   },
   {
    "duration": 470,
    "start_time": "2022-07-21T09:16:42.532Z"
   },
   {
    "duration": 160,
    "start_time": "2022-07-21T09:17:13.152Z"
   },
   {
    "duration": 180,
    "start_time": "2022-07-21T09:18:16.626Z"
   },
   {
    "duration": 514,
    "start_time": "2022-07-21T09:19:34.286Z"
   },
   {
    "duration": 197,
    "start_time": "2022-07-21T09:19:42.587Z"
   },
   {
    "duration": 218,
    "start_time": "2022-07-21T09:19:52.692Z"
   },
   {
    "duration": 210,
    "start_time": "2022-07-21T09:20:00.063Z"
   },
   {
    "duration": 249,
    "start_time": "2022-07-21T09:20:19.522Z"
   },
   {
    "duration": 216,
    "start_time": "2022-07-21T09:20:26.344Z"
   },
   {
    "duration": 211,
    "start_time": "2022-07-21T09:20:32.989Z"
   },
   {
    "duration": 212,
    "start_time": "2022-07-21T09:20:37.937Z"
   },
   {
    "duration": 207,
    "start_time": "2022-07-21T09:20:53.440Z"
   },
   {
    "duration": 216,
    "start_time": "2022-07-21T09:21:00.913Z"
   },
   {
    "duration": 250,
    "start_time": "2022-07-21T09:21:08.811Z"
   },
   {
    "duration": 370,
    "start_time": "2022-07-21T09:21:47.099Z"
   },
   {
    "duration": 233,
    "start_time": "2022-07-21T09:22:00.594Z"
   },
   {
    "duration": 225,
    "start_time": "2022-07-21T09:22:06.309Z"
   },
   {
    "duration": 20,
    "start_time": "2022-07-21T09:25:47.990Z"
   },
   {
    "duration": 47,
    "start_time": "2022-07-21T09:26:05.794Z"
   },
   {
    "duration": 50,
    "start_time": "2022-07-21T09:26:34.467Z"
   },
   {
    "duration": 45,
    "start_time": "2022-07-21T09:26:46.251Z"
   },
   {
    "duration": 55,
    "start_time": "2022-07-21T09:26:57.052Z"
   },
   {
    "duration": 60,
    "start_time": "2022-07-21T09:29:00.566Z"
   },
   {
    "duration": 19,
    "start_time": "2022-07-21T09:31:36.270Z"
   },
   {
    "duration": 51,
    "start_time": "2022-07-21T09:31:59.736Z"
   },
   {
    "duration": 122,
    "start_time": "2022-07-21T09:32:47.477Z"
   },
   {
    "duration": 61,
    "start_time": "2022-07-21T09:33:23.668Z"
   },
   {
    "duration": 64,
    "start_time": "2022-07-21T09:33:53.621Z"
   },
   {
    "duration": 70,
    "start_time": "2022-07-21T09:34:46.273Z"
   },
   {
    "duration": 16,
    "start_time": "2022-07-21T09:38:15.105Z"
   },
   {
    "duration": 56,
    "start_time": "2022-07-21T09:38:23.499Z"
   },
   {
    "duration": 57,
    "start_time": "2022-07-21T09:39:03.442Z"
   },
   {
    "duration": 56,
    "start_time": "2022-07-21T09:42:44.931Z"
   },
   {
    "duration": 54,
    "start_time": "2022-07-21T09:43:00.549Z"
   },
   {
    "duration": 13,
    "start_time": "2022-07-21T09:43:34.136Z"
   },
   {
    "duration": 51,
    "start_time": "2022-07-21T09:46:46.849Z"
   },
   {
    "duration": 57,
    "start_time": "2022-07-21T09:47:08.339Z"
   },
   {
    "duration": 60,
    "start_time": "2022-07-21T09:47:25.950Z"
   },
   {
    "duration": 53,
    "start_time": "2022-07-21T09:52:11.226Z"
   },
   {
    "duration": 55,
    "start_time": "2022-07-21T09:52:37.726Z"
   },
   {
    "duration": 55,
    "start_time": "2022-07-21T09:52:50.224Z"
   },
   {
    "duration": 50,
    "start_time": "2022-07-21T09:53:39.164Z"
   },
   {
    "duration": 56,
    "start_time": "2022-07-21T09:54:21.579Z"
   },
   {
    "duration": 52,
    "start_time": "2022-07-21T09:54:40.856Z"
   },
   {
    "duration": 55,
    "start_time": "2022-07-21T09:55:04.318Z"
   },
   {
    "duration": 51,
    "start_time": "2022-07-21T09:55:46.542Z"
   },
   {
    "duration": 53,
    "start_time": "2022-07-21T09:56:05.876Z"
   },
   {
    "duration": 92,
    "start_time": "2022-07-21T09:57:27.108Z"
   },
   {
    "duration": 53,
    "start_time": "2022-07-21T09:58:04.051Z"
   },
   {
    "duration": 24,
    "start_time": "2022-07-21T10:00:52.869Z"
   },
   {
    "duration": 21,
    "start_time": "2022-07-21T10:02:04.411Z"
   },
   {
    "duration": 20,
    "start_time": "2022-07-21T10:03:33.996Z"
   },
   {
    "duration": 69,
    "start_time": "2022-07-21T10:07:23.399Z"
   },
   {
    "duration": 68,
    "start_time": "2022-07-21T10:07:39.695Z"
   },
   {
    "duration": 21,
    "start_time": "2022-07-21T10:10:27.976Z"
   },
   {
    "duration": 26,
    "start_time": "2022-07-21T10:10:56.925Z"
   },
   {
    "duration": 51,
    "start_time": "2022-07-21T10:11:56.437Z"
   },
   {
    "duration": 34,
    "start_time": "2022-07-21T10:12:40.098Z"
   },
   {
    "duration": 54,
    "start_time": "2022-07-21T10:13:02.439Z"
   },
   {
    "duration": 50,
    "start_time": "2022-07-21T10:13:20.236Z"
   },
   {
    "duration": 164,
    "start_time": "2022-07-21T10:13:53.625Z"
   },
   {
    "duration": 50,
    "start_time": "2022-07-21T10:20:39.448Z"
   },
   {
    "duration": 54,
    "start_time": "2022-07-21T10:21:16.263Z"
   },
   {
    "duration": 50,
    "start_time": "2022-07-21T10:21:39.532Z"
   },
   {
    "duration": 12,
    "start_time": "2022-07-21T10:27:32.218Z"
   },
   {
    "duration": 54,
    "start_time": "2022-07-21T10:27:51.120Z"
   },
   {
    "duration": 72,
    "start_time": "2022-07-21T10:30:55.814Z"
   },
   {
    "duration": 60,
    "start_time": "2022-07-21T10:31:15.054Z"
   },
   {
    "duration": 53,
    "start_time": "2022-07-21T10:31:32.577Z"
   },
   {
    "duration": 69,
    "start_time": "2022-07-21T10:38:46.522Z"
   },
   {
    "duration": 72,
    "start_time": "2022-07-21T10:43:15.872Z"
   },
   {
    "duration": 61,
    "start_time": "2022-07-21T10:44:36.197Z"
   },
   {
    "duration": 64,
    "start_time": "2022-07-21T10:45:07.633Z"
   },
   {
    "duration": 64,
    "start_time": "2022-07-21T10:45:34.313Z"
   },
   {
    "duration": 1662,
    "start_time": "2022-07-21T12:23:31.355Z"
   },
   {
    "duration": 360,
    "start_time": "2022-07-21T12:23:33.019Z"
   },
   {
    "duration": 16,
    "start_time": "2022-07-21T12:23:33.381Z"
   },
   {
    "duration": 14,
    "start_time": "2022-07-21T12:23:33.399Z"
   },
   {
    "duration": 6,
    "start_time": "2022-07-21T12:23:33.415Z"
   },
   {
    "duration": 20,
    "start_time": "2022-07-21T12:23:33.422Z"
   },
   {
    "duration": 31,
    "start_time": "2022-07-21T12:23:33.444Z"
   },
   {
    "duration": 272,
    "start_time": "2022-07-21T12:23:33.479Z"
   },
   {
    "duration": 7,
    "start_time": "2022-07-21T12:23:33.753Z"
   },
   {
    "duration": 28,
    "start_time": "2022-07-21T12:23:33.762Z"
   },
   {
    "duration": 14,
    "start_time": "2022-07-21T12:23:33.792Z"
   },
   {
    "duration": 823,
    "start_time": "2022-07-21T12:23:33.808Z"
   },
   {
    "duration": 19,
    "start_time": "2022-07-21T12:23:34.633Z"
   },
   {
    "duration": 138,
    "start_time": "2022-07-21T12:23:34.654Z"
   },
   {
    "duration": 16,
    "start_time": "2022-07-21T12:23:34.794Z"
   },
   {
    "duration": 67,
    "start_time": "2022-07-21T12:23:34.812Z"
   },
   {
    "duration": 148,
    "start_time": "2022-07-21T12:35:28.506Z"
   },
   {
    "duration": 12,
    "start_time": "2022-07-21T12:35:40.981Z"
   },
   {
    "duration": 3,
    "start_time": "2022-07-21T12:35:56.226Z"
   },
   {
    "duration": 10,
    "start_time": "2022-07-21T12:35:58.496Z"
   },
   {
    "duration": 3,
    "start_time": "2022-07-21T12:36:05.650Z"
   },
   {
    "duration": 358,
    "start_time": "2022-07-21T12:36:06.721Z"
   },
   {
    "duration": 271,
    "start_time": "2022-07-21T12:36:08.958Z"
   },
   {
    "duration": 247,
    "start_time": "2022-07-21T12:36:27.592Z"
   },
   {
    "duration": 5,
    "start_time": "2022-07-21T12:38:34.831Z"
   },
   {
    "duration": 42,
    "start_time": "2022-07-21T12:38:37.877Z"
   },
   {
    "duration": 25,
    "start_time": "2022-07-21T12:41:21.605Z"
   },
   {
    "duration": 15,
    "start_time": "2022-07-21T12:41:48.224Z"
   },
   {
    "duration": 27,
    "start_time": "2022-07-21T12:41:53.737Z"
   },
   {
    "duration": 6,
    "start_time": "2022-07-21T12:43:22.262Z"
   },
   {
    "duration": 121,
    "start_time": "2022-07-21T12:43:27.183Z"
   },
   {
    "duration": 13,
    "start_time": "2022-07-21T12:54:41.436Z"
   },
   {
    "duration": 1360,
    "start_time": "2022-07-22T12:05:58.563Z"
   },
   {
    "duration": 289,
    "start_time": "2022-07-22T12:05:59.925Z"
   },
   {
    "duration": 15,
    "start_time": "2022-07-22T12:06:00.215Z"
   },
   {
    "duration": 39,
    "start_time": "2022-07-22T12:06:00.232Z"
   },
   {
    "duration": 9,
    "start_time": "2022-07-22T12:06:00.273Z"
   },
   {
    "duration": 32,
    "start_time": "2022-07-22T12:06:00.284Z"
   },
   {
    "duration": 11,
    "start_time": "2022-07-22T12:06:00.318Z"
   },
   {
    "duration": 194,
    "start_time": "2022-07-22T12:06:00.330Z"
   },
   {
    "duration": 7,
    "start_time": "2022-07-22T12:06:00.525Z"
   },
   {
    "duration": 32,
    "start_time": "2022-07-22T12:06:00.534Z"
   },
   {
    "duration": 88,
    "start_time": "2022-07-22T12:06:00.567Z"
   },
   {
    "duration": 221,
    "start_time": "2022-07-22T12:06:00.660Z"
   },
   {
    "duration": 20,
    "start_time": "2022-07-22T12:06:00.883Z"
   },
   {
    "duration": 74,
    "start_time": "2022-07-22T12:06:00.905Z"
   },
   {
    "duration": 14,
    "start_time": "2022-07-22T12:06:00.981Z"
   },
   {
    "duration": 71,
    "start_time": "2022-07-22T12:06:00.996Z"
   },
   {
    "duration": 4,
    "start_time": "2022-07-22T12:06:01.069Z"
   },
   {
    "duration": 161,
    "start_time": "2022-07-22T12:06:01.075Z"
   },
   {
    "duration": 23,
    "start_time": "2022-07-22T12:06:01.238Z"
   },
   {
    "duration": 49,
    "start_time": "2022-07-22T12:10:02.137Z"
   },
   {
    "duration": 215,
    "start_time": "2022-07-22T12:18:31.388Z"
   },
   {
    "duration": 165,
    "start_time": "2022-07-22T12:22:53.045Z"
   },
   {
    "duration": 17,
    "start_time": "2022-07-22T12:23:06.796Z"
   },
   {
    "duration": 12,
    "start_time": "2022-07-22T12:24:53.364Z"
   },
   {
    "duration": 138,
    "start_time": "2022-07-22T12:25:11.904Z"
   },
   {
    "duration": 17,
    "start_time": "2022-07-22T12:25:23.309Z"
   },
   {
    "duration": 8,
    "start_time": "2022-07-22T12:40:59.829Z"
   },
   {
    "duration": 8,
    "start_time": "2022-07-22T12:41:06.367Z"
   },
   {
    "duration": 34,
    "start_time": "2022-07-22T12:42:17.344Z"
   },
   {
    "duration": 28,
    "start_time": "2022-07-22T12:42:36.393Z"
   },
   {
    "duration": 35,
    "start_time": "2022-07-22T12:52:16.120Z"
   },
   {
    "duration": 23,
    "start_time": "2022-07-22T12:52:23.571Z"
   },
   {
    "duration": 36,
    "start_time": "2022-07-22T12:54:07.029Z"
   },
   {
    "duration": 32,
    "start_time": "2022-07-22T12:55:41.834Z"
   },
   {
    "duration": 19,
    "start_time": "2022-07-22T12:56:04.834Z"
   },
   {
    "duration": 23,
    "start_time": "2022-07-22T12:57:46.894Z"
   },
   {
    "duration": 25,
    "start_time": "2022-07-22T12:58:21.076Z"
   },
   {
    "duration": 15,
    "start_time": "2022-07-22T12:59:13.284Z"
   },
   {
    "duration": 22,
    "start_time": "2022-07-22T13:00:50.665Z"
   },
   {
    "duration": 55,
    "start_time": "2022-07-22T13:00:59.776Z"
   },
   {
    "duration": 19,
    "start_time": "2022-07-22T13:01:12.189Z"
   },
   {
    "duration": 191,
    "start_time": "2022-07-22T13:01:15.174Z"
   },
   {
    "duration": 70,
    "start_time": "2022-07-22T13:01:30.198Z"
   },
   {
    "duration": 98,
    "start_time": "2022-07-22T13:01:35.611Z"
   },
   {
    "duration": 24,
    "start_time": "2022-07-22T13:01:45.994Z"
   },
   {
    "duration": 19,
    "start_time": "2022-07-22T13:03:13.371Z"
   },
   {
    "duration": 27,
    "start_time": "2022-07-22T13:03:22.114Z"
   },
   {
    "duration": 28,
    "start_time": "2022-07-22T13:03:57.774Z"
   },
   {
    "duration": 62,
    "start_time": "2022-07-22T13:04:29.315Z"
   },
   {
    "duration": 39,
    "start_time": "2022-07-22T13:04:40.506Z"
   },
   {
    "duration": 1348,
    "start_time": "2022-07-22T13:04:48.476Z"
   },
   {
    "duration": 106,
    "start_time": "2022-07-22T13:04:49.826Z"
   },
   {
    "duration": 40,
    "start_time": "2022-07-22T13:04:49.934Z"
   },
   {
    "duration": 26,
    "start_time": "2022-07-22T13:04:49.992Z"
   },
   {
    "duration": 47,
    "start_time": "2022-07-22T13:04:50.020Z"
   },
   {
    "duration": 85,
    "start_time": "2022-07-22T13:04:50.069Z"
   },
   {
    "duration": 62,
    "start_time": "2022-07-22T13:04:50.168Z"
   },
   {
    "duration": 252,
    "start_time": "2022-07-22T13:04:50.232Z"
   },
   {
    "duration": 12,
    "start_time": "2022-07-22T13:04:50.485Z"
   },
   {
    "duration": 59,
    "start_time": "2022-07-22T13:04:50.499Z"
   },
   {
    "duration": 28,
    "start_time": "2022-07-22T13:04:50.572Z"
   },
   {
    "duration": 284,
    "start_time": "2022-07-22T13:04:50.602Z"
   },
   {
    "duration": 22,
    "start_time": "2022-07-22T13:04:50.887Z"
   },
   {
    "duration": 89,
    "start_time": "2022-07-22T13:04:50.911Z"
   },
   {
    "duration": 14,
    "start_time": "2022-07-22T13:04:51.002Z"
   },
   {
    "duration": 80,
    "start_time": "2022-07-22T13:04:51.017Z"
   },
   {
    "duration": 7,
    "start_time": "2022-07-22T13:04:51.099Z"
   },
   {
    "duration": 146,
    "start_time": "2022-07-22T13:04:51.107Z"
   },
   {
    "duration": 42,
    "start_time": "2022-07-22T13:04:51.254Z"
   },
   {
    "duration": 72,
    "start_time": "2022-07-22T13:04:51.298Z"
   },
   {
    "duration": 306,
    "start_time": "2022-07-22T13:04:51.372Z"
   },
   {
    "duration": 22,
    "start_time": "2022-07-22T13:04:51.680Z"
   },
   {
    "duration": 55,
    "start_time": "2022-07-22T13:04:51.704Z"
   },
   {
    "duration": 57,
    "start_time": "2022-07-22T13:04:51.760Z"
   },
   {
    "duration": 60,
    "start_time": "2022-07-22T18:19:12.861Z"
   },
   {
    "duration": 1380,
    "start_time": "2022-07-22T18:19:18.963Z"
   },
   {
    "duration": 133,
    "start_time": "2022-07-22T18:19:20.345Z"
   },
   {
    "duration": 25,
    "start_time": "2022-07-22T18:19:20.480Z"
   },
   {
    "duration": 16,
    "start_time": "2022-07-22T18:19:20.508Z"
   },
   {
    "duration": 6,
    "start_time": "2022-07-22T18:19:20.526Z"
   },
   {
    "duration": 36,
    "start_time": "2022-07-22T18:19:20.534Z"
   },
   {
    "duration": 11,
    "start_time": "2022-07-22T18:19:20.571Z"
   },
   {
    "duration": 209,
    "start_time": "2022-07-22T18:19:20.583Z"
   },
   {
    "duration": 9,
    "start_time": "2022-07-22T18:19:20.794Z"
   },
   {
    "duration": 49,
    "start_time": "2022-07-22T18:19:20.807Z"
   },
   {
    "duration": 23,
    "start_time": "2022-07-22T18:19:20.858Z"
   },
   {
    "duration": 273,
    "start_time": "2022-07-22T18:19:20.884Z"
   },
   {
    "duration": 20,
    "start_time": "2022-07-22T18:19:21.159Z"
   },
   {
    "duration": 74,
    "start_time": "2022-07-22T18:19:21.180Z"
   },
   {
    "duration": 14,
    "start_time": "2022-07-22T18:19:21.256Z"
   },
   {
    "duration": 52,
    "start_time": "2022-07-22T18:19:21.271Z"
   },
   {
    "duration": 4,
    "start_time": "2022-07-22T18:19:21.324Z"
   },
   {
    "duration": 116,
    "start_time": "2022-07-22T18:19:21.352Z"
   },
   {
    "duration": 10,
    "start_time": "2022-07-22T18:19:21.470Z"
   },
   {
    "duration": 50,
    "start_time": "2022-07-22T18:19:21.482Z"
   },
   {
    "duration": 251,
    "start_time": "2022-07-22T18:19:21.553Z"
   },
   {
    "duration": 16,
    "start_time": "2022-07-22T18:19:21.806Z"
   },
   {
    "duration": 18,
    "start_time": "2022-07-22T18:19:21.824Z"
   },
   {
    "duration": 16,
    "start_time": "2022-07-22T18:19:21.844Z"
   },
   {
    "duration": 23,
    "start_time": "2022-07-22T18:20:06.089Z"
   },
   {
    "duration": 28,
    "start_time": "2022-07-22T18:21:29.527Z"
   },
   {
    "duration": 1168,
    "start_time": "2022-07-22T18:21:36.073Z"
   },
   {
    "duration": 84,
    "start_time": "2022-07-22T18:21:37.243Z"
   },
   {
    "duration": 16,
    "start_time": "2022-07-22T18:21:37.328Z"
   },
   {
    "duration": 14,
    "start_time": "2022-07-22T18:21:37.346Z"
   },
   {
    "duration": 7,
    "start_time": "2022-07-22T18:21:37.362Z"
   },
   {
    "duration": 22,
    "start_time": "2022-07-22T18:21:37.371Z"
   },
   {
    "duration": 6,
    "start_time": "2022-07-22T18:21:37.395Z"
   },
   {
    "duration": 196,
    "start_time": "2022-07-22T18:21:37.403Z"
   },
   {
    "duration": 7,
    "start_time": "2022-07-22T18:21:37.601Z"
   },
   {
    "duration": 18,
    "start_time": "2022-07-22T18:21:37.610Z"
   },
   {
    "duration": 15,
    "start_time": "2022-07-22T18:21:37.651Z"
   },
   {
    "duration": 256,
    "start_time": "2022-07-22T18:21:37.668Z"
   },
   {
    "duration": 29,
    "start_time": "2022-07-22T18:21:37.926Z"
   },
   {
    "duration": 60,
    "start_time": "2022-07-22T18:21:37.957Z"
   },
   {
    "duration": 34,
    "start_time": "2022-07-22T18:21:38.019Z"
   },
   {
    "duration": 52,
    "start_time": "2022-07-22T18:21:38.054Z"
   },
   {
    "duration": 4,
    "start_time": "2022-07-22T18:21:38.107Z"
   },
   {
    "duration": 133,
    "start_time": "2022-07-22T18:21:38.113Z"
   },
   {
    "duration": 12,
    "start_time": "2022-07-22T18:21:38.251Z"
   },
   {
    "duration": 54,
    "start_time": "2022-07-22T18:21:38.264Z"
   },
   {
    "duration": 245,
    "start_time": "2022-07-22T18:21:38.320Z"
   },
   {
    "duration": 16,
    "start_time": "2022-07-22T18:21:38.567Z"
   },
   {
    "duration": 20,
    "start_time": "2022-07-22T18:21:38.585Z"
   },
   {
    "duration": 19,
    "start_time": "2022-07-22T18:21:38.607Z"
   },
   {
    "duration": 1206,
    "start_time": "2022-07-22T18:40:39.887Z"
   },
   {
    "duration": 90,
    "start_time": "2022-07-22T18:40:41.095Z"
   },
   {
    "duration": 17,
    "start_time": "2022-07-22T18:40:41.186Z"
   },
   {
    "duration": 16,
    "start_time": "2022-07-22T18:40:41.205Z"
   },
   {
    "duration": 29,
    "start_time": "2022-07-22T18:40:41.223Z"
   },
   {
    "duration": 19,
    "start_time": "2022-07-22T18:40:41.254Z"
   },
   {
    "duration": 7,
    "start_time": "2022-07-22T18:40:41.275Z"
   },
   {
    "duration": 207,
    "start_time": "2022-07-22T18:40:41.284Z"
   },
   {
    "duration": 6,
    "start_time": "2022-07-22T18:40:41.493Z"
   },
   {
    "duration": 18,
    "start_time": "2022-07-22T18:40:41.501Z"
   },
   {
    "duration": 34,
    "start_time": "2022-07-22T18:40:41.521Z"
   },
   {
    "duration": 258,
    "start_time": "2022-07-22T18:40:41.557Z"
   },
   {
    "duration": 22,
    "start_time": "2022-07-22T18:40:41.816Z"
   },
   {
    "duration": 69,
    "start_time": "2022-07-22T18:40:41.851Z"
   },
   {
    "duration": 32,
    "start_time": "2022-07-22T18:40:41.922Z"
   },
   {
    "duration": 51,
    "start_time": "2022-07-22T18:40:41.955Z"
   },
   {
    "duration": 4,
    "start_time": "2022-07-22T18:40:42.008Z"
   },
   {
    "duration": 149,
    "start_time": "2022-07-22T18:40:42.014Z"
   },
   {
    "duration": 12,
    "start_time": "2022-07-22T18:40:42.164Z"
   },
   {
    "duration": 55,
    "start_time": "2022-07-22T18:40:42.178Z"
   },
   {
    "duration": 280,
    "start_time": "2022-07-22T18:40:42.253Z"
   },
   {
    "duration": 15,
    "start_time": "2022-07-22T18:40:42.534Z"
   },
   {
    "duration": 16,
    "start_time": "2022-07-22T18:40:42.551Z"
   },
   {
    "duration": 16,
    "start_time": "2022-07-22T18:40:42.568Z"
   },
   {
    "duration": 175,
    "start_time": "2022-07-22T18:41:06.630Z"
   },
   {
    "duration": 18,
    "start_time": "2022-07-22T18:44:49.453Z"
   },
   {
    "duration": 101,
    "start_time": "2022-07-22T18:52:05.271Z"
   },
   {
    "duration": 75,
    "start_time": "2022-07-22T18:52:54.160Z"
   },
   {
    "duration": 23,
    "start_time": "2022-07-22T18:53:34.337Z"
   },
   {
    "duration": 18,
    "start_time": "2022-07-22T18:54:30.053Z"
   },
   {
    "duration": 19,
    "start_time": "2022-07-22T18:59:51.220Z"
   },
   {
    "duration": 285,
    "start_time": "2022-07-22T19:00:16.152Z"
   },
   {
    "duration": 273,
    "start_time": "2022-07-22T19:00:43.625Z"
   },
   {
    "duration": 331,
    "start_time": "2022-07-22T19:02:08.194Z"
   },
   {
    "duration": 1287,
    "start_time": "2022-07-22T19:53:18.292Z"
   },
   {
    "duration": 89,
    "start_time": "2022-07-22T19:53:19.581Z"
   },
   {
    "duration": 17,
    "start_time": "2022-07-22T19:53:19.672Z"
   },
   {
    "duration": 15,
    "start_time": "2022-07-22T19:53:19.692Z"
   },
   {
    "duration": 6,
    "start_time": "2022-07-22T19:53:19.709Z"
   },
   {
    "duration": 47,
    "start_time": "2022-07-22T19:53:19.717Z"
   },
   {
    "duration": 7,
    "start_time": "2022-07-22T19:53:19.765Z"
   },
   {
    "duration": 197,
    "start_time": "2022-07-22T19:53:19.774Z"
   },
   {
    "duration": 381,
    "start_time": "2022-07-22T19:53:19.973Z"
   },
   {
    "duration": 9,
    "start_time": "2022-07-22T19:53:20.358Z"
   },
   {
    "duration": 16,
    "start_time": "2022-07-22T19:53:20.369Z"
   },
   {
    "duration": 15,
    "start_time": "2022-07-22T19:53:20.386Z"
   },
   {
    "duration": 270,
    "start_time": "2022-07-22T19:53:20.403Z"
   },
   {
    "duration": 22,
    "start_time": "2022-07-22T19:53:20.674Z"
   },
   {
    "duration": 159,
    "start_time": "2022-07-22T19:53:20.698Z"
   },
   {
    "duration": 14,
    "start_time": "2022-07-22T19:53:20.859Z"
   },
   {
    "duration": 50,
    "start_time": "2022-07-22T19:53:20.875Z"
   },
   {
    "duration": 27,
    "start_time": "2022-07-22T19:53:20.926Z"
   },
   {
    "duration": 120,
    "start_time": "2022-07-22T19:53:20.954Z"
   },
   {
    "duration": 16,
    "start_time": "2022-07-22T19:53:21.076Z"
   },
   {
    "duration": 66,
    "start_time": "2022-07-22T19:53:21.094Z"
   },
   {
    "duration": 278,
    "start_time": "2022-07-22T19:53:21.162Z"
   },
   {
    "duration": 28,
    "start_time": "2022-07-22T19:53:21.443Z"
   },
   {
    "duration": 26,
    "start_time": "2022-07-22T19:53:21.473Z"
   },
   {
    "duration": 18,
    "start_time": "2022-07-22T19:53:21.501Z"
   },
   {
    "duration": 1364,
    "start_time": "2022-07-23T10:21:08.064Z"
   },
   {
    "duration": 270,
    "start_time": "2022-07-23T10:21:09.430Z"
   },
   {
    "duration": 15,
    "start_time": "2022-07-23T10:21:09.702Z"
   },
   {
    "duration": 14,
    "start_time": "2022-07-23T10:21:09.719Z"
   },
   {
    "duration": 6,
    "start_time": "2022-07-23T10:21:09.735Z"
   },
   {
    "duration": 24,
    "start_time": "2022-07-23T10:21:09.742Z"
   },
   {
    "duration": 6,
    "start_time": "2022-07-23T10:21:09.768Z"
   },
   {
    "duration": 182,
    "start_time": "2022-07-23T10:21:09.775Z"
   },
   {
    "duration": 436,
    "start_time": "2022-07-23T10:21:09.959Z"
   },
   {
    "duration": 7,
    "start_time": "2022-07-23T10:21:10.397Z"
   },
   {
    "duration": 23,
    "start_time": "2022-07-23T10:21:10.405Z"
   },
   {
    "duration": 18,
    "start_time": "2022-07-23T10:21:10.430Z"
   },
   {
    "duration": 252,
    "start_time": "2022-07-23T10:21:10.449Z"
   },
   {
    "duration": 29,
    "start_time": "2022-07-23T10:21:10.705Z"
   },
   {
    "duration": 128,
    "start_time": "2022-07-23T10:21:10.736Z"
   },
   {
    "duration": 15,
    "start_time": "2022-07-23T10:21:10.865Z"
   },
   {
    "duration": 57,
    "start_time": "2022-07-23T10:21:10.881Z"
   },
   {
    "duration": 3,
    "start_time": "2022-07-23T10:21:10.940Z"
   },
   {
    "duration": 113,
    "start_time": "2022-07-23T10:21:10.944Z"
   },
   {
    "duration": 11,
    "start_time": "2022-07-23T10:21:11.059Z"
   },
   {
    "duration": 146,
    "start_time": "2022-07-23T10:21:11.072Z"
   },
   {
    "duration": 233,
    "start_time": "2022-07-23T10:21:11.220Z"
   },
   {
    "duration": 16,
    "start_time": "2022-07-23T10:21:11.455Z"
   },
   {
    "duration": 17,
    "start_time": "2022-07-23T10:21:11.473Z"
   },
   {
    "duration": 16,
    "start_time": "2022-07-23T10:21:11.492Z"
   },
   {
    "duration": 52,
    "start_time": "2022-07-23T11:02:30.237Z"
   },
   {
    "duration": 54,
    "start_time": "2022-07-23T11:03:24.780Z"
   },
   {
    "duration": 52,
    "start_time": "2022-07-23T11:04:00.087Z"
   },
   {
    "duration": 52,
    "start_time": "2022-07-23T11:04:53.808Z"
   },
   {
    "duration": 1292,
    "start_time": "2022-07-25T08:40:08.576Z"
   },
   {
    "duration": 143,
    "start_time": "2022-07-25T08:40:09.870Z"
   },
   {
    "duration": 15,
    "start_time": "2022-07-25T08:40:10.014Z"
   },
   {
    "duration": 14,
    "start_time": "2022-07-25T08:40:10.031Z"
   },
   {
    "duration": 6,
    "start_time": "2022-07-25T08:40:10.053Z"
   },
   {
    "duration": 22,
    "start_time": "2022-07-25T08:40:10.060Z"
   },
   {
    "duration": 6,
    "start_time": "2022-07-25T08:40:10.083Z"
   },
   {
    "duration": 196,
    "start_time": "2022-07-25T08:40:10.090Z"
   },
   {
    "duration": 374,
    "start_time": "2022-07-25T08:40:10.288Z"
   },
   {
    "duration": 6,
    "start_time": "2022-07-25T08:40:10.664Z"
   },
   {
    "duration": 16,
    "start_time": "2022-07-25T08:40:10.671Z"
   },
   {
    "duration": 14,
    "start_time": "2022-07-25T08:40:10.689Z"
   },
   {
    "duration": 245,
    "start_time": "2022-07-25T08:40:10.704Z"
   },
   {
    "duration": 20,
    "start_time": "2022-07-25T08:40:10.951Z"
   },
   {
    "duration": 148,
    "start_time": "2022-07-25T08:40:10.972Z"
   },
   {
    "duration": 31,
    "start_time": "2022-07-25T08:40:11.122Z"
   },
   {
    "duration": 46,
    "start_time": "2022-07-25T08:40:11.155Z"
   },
   {
    "duration": 5,
    "start_time": "2022-07-25T08:40:11.202Z"
   },
   {
    "duration": 130,
    "start_time": "2022-07-25T08:40:11.208Z"
   },
   {
    "duration": 13,
    "start_time": "2022-07-25T08:40:11.340Z"
   },
   {
    "duration": 57,
    "start_time": "2022-07-25T08:40:11.355Z"
   },
   {
    "duration": 292,
    "start_time": "2022-07-25T08:40:11.413Z"
   },
   {
    "duration": 15,
    "start_time": "2022-07-25T08:40:11.707Z"
   },
   {
    "duration": 19,
    "start_time": "2022-07-25T08:40:11.724Z"
   },
   {
    "duration": 19,
    "start_time": "2022-07-25T08:40:11.744Z"
   },
   {
    "duration": 6,
    "start_time": "2022-07-25T09:24:20.240Z"
   },
   {
    "duration": 5,
    "start_time": "2022-07-25T09:24:45.341Z"
   },
   {
    "duration": 1198,
    "start_time": "2022-07-25T09:26:03.843Z"
   },
   {
    "duration": 87,
    "start_time": "2022-07-25T09:26:05.043Z"
   },
   {
    "duration": 15,
    "start_time": "2022-07-25T09:26:05.132Z"
   },
   {
    "duration": 14,
    "start_time": "2022-07-25T09:26:05.149Z"
   },
   {
    "duration": 12,
    "start_time": "2022-07-25T09:26:05.164Z"
   },
   {
    "duration": 19,
    "start_time": "2022-07-25T09:26:05.177Z"
   },
   {
    "duration": 5,
    "start_time": "2022-07-25T09:26:05.198Z"
   },
   {
    "duration": 178,
    "start_time": "2022-07-25T09:26:05.204Z"
   },
   {
    "duration": 354,
    "start_time": "2022-07-25T09:26:05.384Z"
   },
   {
    "duration": 7,
    "start_time": "2022-07-25T09:26:05.751Z"
   },
   {
    "duration": 16,
    "start_time": "2022-07-25T09:26:05.759Z"
   },
   {
    "duration": 14,
    "start_time": "2022-07-25T09:26:05.776Z"
   },
   {
    "duration": 221,
    "start_time": "2022-07-25T09:26:05.792Z"
   },
   {
    "duration": 24,
    "start_time": "2022-07-25T09:26:06.016Z"
   },
   {
    "duration": 73,
    "start_time": "2022-07-25T09:26:06.052Z"
   },
   {
    "duration": 32,
    "start_time": "2022-07-25T09:26:06.127Z"
   },
   {
    "duration": 58,
    "start_time": "2022-07-25T09:26:06.162Z"
   },
   {
    "duration": 3,
    "start_time": "2022-07-25T09:26:06.222Z"
   },
   {
    "duration": 112,
    "start_time": "2022-07-25T09:26:06.253Z"
   },
   {
    "duration": 12,
    "start_time": "2022-07-25T09:26:06.366Z"
   },
   {
    "duration": 140,
    "start_time": "2022-07-25T09:26:06.380Z"
   },
   {
    "duration": 230,
    "start_time": "2022-07-25T09:26:06.522Z"
   },
   {
    "duration": 25,
    "start_time": "2022-07-25T09:26:06.754Z"
   },
   {
    "duration": 19,
    "start_time": "2022-07-25T09:26:06.781Z"
   },
   {
    "duration": 23,
    "start_time": "2022-07-25T09:26:06.802Z"
   },
   {
    "duration": 27,
    "start_time": "2022-07-25T09:26:06.826Z"
   },
   {
    "duration": 16,
    "start_time": "2022-07-25T09:26:25.213Z"
   },
   {
    "duration": 189,
    "start_time": "2022-07-25T09:26:48.246Z"
   },
   {
    "duration": 18,
    "start_time": "2022-07-25T09:27:01.851Z"
   },
   {
    "duration": 15,
    "start_time": "2022-07-25T09:27:06.945Z"
   },
   {
    "duration": 14,
    "start_time": "2022-07-25T09:27:10.460Z"
   },
   {
    "duration": 16,
    "start_time": "2022-07-25T09:27:31.343Z"
   },
   {
    "duration": 18,
    "start_time": "2022-07-25T09:27:42.254Z"
   },
   {
    "duration": 12,
    "start_time": "2022-07-25T09:27:55.145Z"
   },
   {
    "duration": 16,
    "start_time": "2022-07-25T09:29:00.013Z"
   },
   {
    "duration": 16,
    "start_time": "2022-07-25T09:29:42.416Z"
   },
   {
    "duration": 1465,
    "start_time": "2022-07-25T12:34:16.005Z"
   },
   {
    "duration": 285,
    "start_time": "2022-07-25T12:34:17.472Z"
   },
   {
    "duration": 17,
    "start_time": "2022-07-25T12:34:17.759Z"
   },
   {
    "duration": 15,
    "start_time": "2022-07-25T12:34:17.777Z"
   },
   {
    "duration": 6,
    "start_time": "2022-07-25T12:34:17.794Z"
   },
   {
    "duration": 38,
    "start_time": "2022-07-25T12:34:17.802Z"
   },
   {
    "duration": 9,
    "start_time": "2022-07-25T12:34:17.842Z"
   },
   {
    "duration": 190,
    "start_time": "2022-07-25T12:34:17.852Z"
   },
   {
    "duration": 6,
    "start_time": "2022-07-25T12:34:18.044Z"
   },
   {
    "duration": 16,
    "start_time": "2022-07-25T12:34:18.051Z"
   },
   {
    "duration": 15,
    "start_time": "2022-07-25T12:34:18.069Z"
   },
   {
    "duration": 264,
    "start_time": "2022-07-25T12:34:18.126Z"
   },
   {
    "duration": 43,
    "start_time": "2022-07-25T12:34:18.392Z"
   },
   {
    "duration": 61,
    "start_time": "2022-07-25T12:34:18.440Z"
   },
   {
    "duration": 11,
    "start_time": "2022-07-25T12:34:18.503Z"
   },
   {
    "duration": 60,
    "start_time": "2022-07-25T12:34:18.516Z"
   },
   {
    "duration": 3,
    "start_time": "2022-07-25T12:34:18.578Z"
   },
   {
    "duration": 133,
    "start_time": "2022-07-25T12:34:18.582Z"
   },
   {
    "duration": 21,
    "start_time": "2022-07-25T12:34:18.717Z"
   },
   {
    "duration": 52,
    "start_time": "2022-07-25T12:34:18.740Z"
   },
   {
    "duration": 218,
    "start_time": "2022-07-25T12:34:18.794Z"
   },
   {
    "duration": 23,
    "start_time": "2022-07-25T12:34:19.014Z"
   },
   {
    "duration": 20,
    "start_time": "2022-07-25T12:34:19.039Z"
   },
   {
    "duration": 16,
    "start_time": "2022-07-25T12:34:19.061Z"
   },
   {
    "duration": 10,
    "start_time": "2022-07-25T12:34:19.079Z"
   },
   {
    "duration": 16,
    "start_time": "2022-07-25T12:34:38.405Z"
   },
   {
    "duration": 170,
    "start_time": "2022-07-25T12:36:24.410Z"
   },
   {
    "duration": 86,
    "start_time": "2022-07-25T12:36:58.059Z"
   },
   {
    "duration": 33,
    "start_time": "2022-07-25T12:41:27.017Z"
   },
   {
    "duration": 91,
    "start_time": "2022-07-25T12:57:12.453Z"
   },
   {
    "duration": 21,
    "start_time": "2022-07-25T13:01:47.461Z"
   },
   {
    "duration": 17,
    "start_time": "2022-07-25T13:10:00.703Z"
   },
   {
    "duration": 16,
    "start_time": "2022-07-25T13:12:41.252Z"
   },
   {
    "duration": 17,
    "start_time": "2022-07-25T13:13:03.219Z"
   },
   {
    "duration": 53,
    "start_time": "2022-07-25T13:13:48.790Z"
   },
   {
    "duration": 5,
    "start_time": "2022-07-25T14:16:07.673Z"
   },
   {
    "duration": 149,
    "start_time": "2022-07-25T14:16:15.056Z"
   },
   {
    "duration": 25,
    "start_time": "2022-07-25T14:16:28.368Z"
   },
   {
    "duration": 81,
    "start_time": "2022-07-25T14:16:51.939Z"
   },
   {
    "duration": 49,
    "start_time": "2022-07-25T14:17:13.664Z"
   },
   {
    "duration": 17,
    "start_time": "2022-07-25T14:17:27.973Z"
   },
   {
    "duration": 16,
    "start_time": "2022-07-25T14:22:53.172Z"
   },
   {
    "duration": 16,
    "start_time": "2022-07-25T14:23:04.981Z"
   },
   {
    "duration": 37,
    "start_time": "2022-07-25T14:24:07.202Z"
   },
   {
    "duration": 23,
    "start_time": "2022-07-25T14:24:19.819Z"
   },
   {
    "duration": 57,
    "start_time": "2022-07-25T14:24:34.421Z"
   },
   {
    "duration": 63,
    "start_time": "2022-07-25T14:24:41.776Z"
   },
   {
    "duration": 69,
    "start_time": "2022-07-25T14:25:02.683Z"
   },
   {
    "duration": 70,
    "start_time": "2022-07-25T14:25:07.299Z"
   },
   {
    "duration": 67,
    "start_time": "2022-07-25T14:25:18.496Z"
   },
   {
    "duration": 82,
    "start_time": "2022-07-25T14:25:27.862Z"
   },
   {
    "duration": 64,
    "start_time": "2022-07-25T14:25:38.889Z"
   },
   {
    "duration": 51,
    "start_time": "2022-07-25T14:25:57.649Z"
   },
   {
    "duration": 47,
    "start_time": "2022-07-25T14:26:10.466Z"
   },
   {
    "duration": 56,
    "start_time": "2022-07-25T14:26:16.080Z"
   },
   {
    "duration": 53,
    "start_time": "2022-07-25T14:35:03.645Z"
   },
   {
    "duration": 77,
    "start_time": "2022-07-25T14:35:12.475Z"
   },
   {
    "duration": 1224,
    "start_time": "2022-07-26T18:52:07.556Z"
   },
   {
    "duration": 89,
    "start_time": "2022-07-26T18:52:10.441Z"
   },
   {
    "duration": 18,
    "start_time": "2022-07-26T18:52:19.225Z"
   },
   {
    "duration": 16,
    "start_time": "2022-07-26T18:52:23.433Z"
   },
   {
    "duration": 6,
    "start_time": "2022-07-26T18:52:26.289Z"
   },
   {
    "duration": 17,
    "start_time": "2022-07-26T18:52:28.968Z"
   },
   {
    "duration": 7,
    "start_time": "2022-07-26T18:59:44.204Z"
   },
   {
    "duration": 367,
    "start_time": "2022-07-26T18:59:48.708Z"
   },
   {
    "duration": 7,
    "start_time": "2022-07-26T19:05:39.585Z"
   },
   {
    "duration": 15,
    "start_time": "2022-07-26T19:05:45.126Z"
   },
   {
    "duration": 15,
    "start_time": "2022-07-26T19:13:33.231Z"
   },
   {
    "duration": 218,
    "start_time": "2022-07-26T19:13:37.340Z"
   },
   {
    "duration": 50,
    "start_time": "2022-07-26T19:52:49.392Z"
   },
   {
    "duration": 88,
    "start_time": "2022-07-26T19:52:57.502Z"
   },
   {
    "duration": 13,
    "start_time": "2022-07-26T21:47:11.320Z"
   },
   {
    "duration": 54,
    "start_time": "2022-07-26T21:47:14.796Z"
   },
   {
    "duration": 4,
    "start_time": "2022-07-26T22:02:57.917Z"
   },
   {
    "duration": 108,
    "start_time": "2022-07-26T22:02:58.807Z"
   },
   {
    "duration": 14,
    "start_time": "2022-07-26T22:11:34.493Z"
   },
   {
    "duration": 49,
    "start_time": "2022-07-26T22:11:35.259Z"
   },
   {
    "duration": 185,
    "start_time": "2022-07-26T22:26:43.703Z"
   },
   {
    "duration": 15,
    "start_time": "2022-07-26T22:28:11.771Z"
   },
   {
    "duration": 17,
    "start_time": "2022-07-26T22:28:26.114Z"
   },
   {
    "duration": 16,
    "start_time": "2022-07-26T22:28:29.638Z"
   },
   {
    "duration": 11,
    "start_time": "2022-07-26T22:28:33.356Z"
   },
   {
    "duration": 1296,
    "start_time": "2022-07-26T23:00:18.695Z"
   },
   {
    "duration": 91,
    "start_time": "2022-07-26T23:00:19.993Z"
   },
   {
    "duration": 17,
    "start_time": "2022-07-26T23:00:20.086Z"
   },
   {
    "duration": 15,
    "start_time": "2022-07-26T23:00:20.105Z"
   },
   {
    "duration": 11,
    "start_time": "2022-07-26T23:00:20.122Z"
   },
   {
    "duration": 27,
    "start_time": "2022-07-26T23:00:20.134Z"
   },
   {
    "duration": 6,
    "start_time": "2022-07-26T23:00:20.162Z"
   },
   {
    "duration": 312,
    "start_time": "2022-07-26T23:00:20.169Z"
   },
   {
    "duration": 7,
    "start_time": "2022-07-26T23:00:20.482Z"
   },
   {
    "duration": 15,
    "start_time": "2022-07-26T23:00:20.498Z"
   },
   {
    "duration": 22,
    "start_time": "2022-07-26T23:00:20.514Z"
   },
   {
    "duration": 288,
    "start_time": "2022-07-26T23:00:20.538Z"
   },
   {
    "duration": 20,
    "start_time": "2022-07-26T23:00:20.828Z"
   },
   {
    "duration": 76,
    "start_time": "2022-07-26T23:00:20.852Z"
   },
   {
    "duration": 13,
    "start_time": "2022-07-26T23:00:20.930Z"
   },
   {
    "duration": 71,
    "start_time": "2022-07-26T23:00:20.945Z"
   },
   {
    "duration": 3,
    "start_time": "2022-07-26T23:00:21.018Z"
   },
   {
    "duration": 124,
    "start_time": "2022-07-26T23:00:21.022Z"
   },
   {
    "duration": 10,
    "start_time": "2022-07-26T23:00:21.148Z"
   },
   {
    "duration": 60,
    "start_time": "2022-07-26T23:00:21.160Z"
   },
   {
    "duration": 269,
    "start_time": "2022-07-26T23:00:21.221Z"
   },
   {
    "duration": 15,
    "start_time": "2022-07-26T23:00:21.492Z"
   },
   {
    "duration": 15,
    "start_time": "2022-07-26T23:00:21.509Z"
   },
   {
    "duration": 16,
    "start_time": "2022-07-26T23:00:21.526Z"
   },
   {
    "duration": 9,
    "start_time": "2022-07-26T23:00:21.544Z"
   },
   {
    "duration": 1154,
    "start_time": "2022-07-26T23:07:59.454Z"
   },
   {
    "duration": 95,
    "start_time": "2022-07-26T23:08:00.611Z"
   },
   {
    "duration": 18,
    "start_time": "2022-07-26T23:08:00.708Z"
   },
   {
    "duration": 34,
    "start_time": "2022-07-26T23:08:00.729Z"
   },
   {
    "duration": 7,
    "start_time": "2022-07-26T23:08:00.765Z"
   },
   {
    "duration": 38,
    "start_time": "2022-07-26T23:08:00.774Z"
   },
   {
    "duration": 18,
    "start_time": "2022-07-26T23:08:00.814Z"
   },
   {
    "duration": 299,
    "start_time": "2022-07-26T23:08:00.834Z"
   },
   {
    "duration": 7,
    "start_time": "2022-07-26T23:08:01.134Z"
   },
   {
    "duration": 66,
    "start_time": "2022-07-26T23:08:01.143Z"
   },
   {
    "duration": 27,
    "start_time": "2022-07-26T23:08:01.211Z"
   },
   {
    "duration": 259,
    "start_time": "2022-07-26T23:08:01.240Z"
   },
   {
    "duration": 20,
    "start_time": "2022-07-26T23:08:01.501Z"
   },
   {
    "duration": 79,
    "start_time": "2022-07-26T23:08:01.522Z"
   },
   {
    "duration": 12,
    "start_time": "2022-07-26T23:08:01.602Z"
   },
   {
    "duration": 74,
    "start_time": "2022-07-26T23:08:01.616Z"
   },
   {
    "duration": 18,
    "start_time": "2022-07-26T23:08:01.691Z"
   },
   {
    "duration": 128,
    "start_time": "2022-07-26T23:08:01.711Z"
   },
   {
    "duration": 11,
    "start_time": "2022-07-26T23:08:01.840Z"
   },
   {
    "duration": 76,
    "start_time": "2022-07-26T23:08:01.853Z"
   },
   {
    "duration": 216,
    "start_time": "2022-07-26T23:08:01.932Z"
   },
   {
    "duration": 17,
    "start_time": "2022-07-26T23:08:02.150Z"
   },
   {
    "duration": 17,
    "start_time": "2022-07-26T23:08:02.169Z"
   },
   {
    "duration": 17,
    "start_time": "2022-07-26T23:08:02.187Z"
   },
   {
    "duration": 10,
    "start_time": "2022-07-26T23:08:02.205Z"
   },
   {
    "duration": 1258,
    "start_time": "2022-07-27T13:23:31.920Z"
   },
   {
    "duration": 246,
    "start_time": "2022-07-27T13:23:33.180Z"
   },
   {
    "duration": 14,
    "start_time": "2022-07-27T13:23:33.427Z"
   },
   {
    "duration": 12,
    "start_time": "2022-07-27T13:23:33.443Z"
   },
   {
    "duration": 7,
    "start_time": "2022-07-27T13:23:33.458Z"
   },
   {
    "duration": 17,
    "start_time": "2022-07-27T13:23:33.472Z"
   },
   {
    "duration": 6,
    "start_time": "2022-07-27T13:23:33.491Z"
   },
   {
    "duration": 153,
    "start_time": "2022-07-27T13:23:33.498Z"
   },
   {
    "duration": 6,
    "start_time": "2022-07-27T13:23:33.652Z"
   },
   {
    "duration": 18,
    "start_time": "2022-07-27T13:23:33.660Z"
   },
   {
    "duration": 13,
    "start_time": "2022-07-27T13:23:33.679Z"
   },
   {
    "duration": 267,
    "start_time": "2022-07-27T13:23:33.694Z"
   },
   {
    "duration": 24,
    "start_time": "2022-07-27T13:23:33.963Z"
   },
   {
    "duration": 51,
    "start_time": "2022-07-27T13:23:33.989Z"
   },
   {
    "duration": 11,
    "start_time": "2022-07-27T13:23:34.042Z"
   },
   {
    "duration": 59,
    "start_time": "2022-07-27T13:23:34.055Z"
   },
   {
    "duration": 3,
    "start_time": "2022-07-27T13:23:34.115Z"
   },
   {
    "duration": 109,
    "start_time": "2022-07-27T13:23:34.120Z"
   },
   {
    "duration": 10,
    "start_time": "2022-07-27T13:23:34.231Z"
   },
   {
    "duration": 57,
    "start_time": "2022-07-27T13:23:34.242Z"
   },
   {
    "duration": 190,
    "start_time": "2022-07-27T13:23:34.301Z"
   },
   {
    "duration": 14,
    "start_time": "2022-07-27T13:23:34.493Z"
   },
   {
    "duration": 16,
    "start_time": "2022-07-27T13:23:34.508Z"
   },
   {
    "duration": 15,
    "start_time": "2022-07-27T13:23:34.525Z"
   },
   {
    "duration": 32,
    "start_time": "2022-07-27T13:23:34.542Z"
   },
   {
    "duration": 158,
    "start_time": "2022-07-27T13:55:41.797Z"
   },
   {
    "duration": 19,
    "start_time": "2022-07-27T13:58:22.415Z"
   },
   {
    "duration": 16,
    "start_time": "2022-07-27T14:00:08.624Z"
   },
   {
    "duration": 48,
    "start_time": "2022-07-27T14:19:43.890Z"
   },
   {
    "duration": 19,
    "start_time": "2022-07-27T14:19:57.253Z"
   },
   {
    "duration": 0,
    "start_time": "2022-07-27T14:23:00.998Z"
   },
   {
    "duration": 23,
    "start_time": "2022-07-27T14:23:11.129Z"
   },
   {
    "duration": 14,
    "start_time": "2022-07-27T14:23:32.520Z"
   },
   {
    "duration": 27,
    "start_time": "2022-07-27T14:26:49.537Z"
   },
   {
    "duration": 11,
    "start_time": "2022-07-27T14:27:14.609Z"
   },
   {
    "duration": 10,
    "start_time": "2022-07-27T14:27:29.537Z"
   },
   {
    "duration": 102,
    "start_time": "2022-07-27T14:28:00.316Z"
   },
   {
    "duration": 15,
    "start_time": "2022-07-27T14:28:39.882Z"
   },
   {
    "duration": 16,
    "start_time": "2022-07-27T14:29:53.083Z"
   },
   {
    "duration": 16,
    "start_time": "2022-07-27T14:30:32.005Z"
   },
   {
    "duration": 15,
    "start_time": "2022-07-27T14:31:01.123Z"
   },
   {
    "duration": 16,
    "start_time": "2022-07-27T14:31:25.445Z"
   },
   {
    "duration": 51,
    "start_time": "2022-07-27T14:31:55.119Z"
   },
   {
    "duration": 16,
    "start_time": "2022-07-27T14:32:01.655Z"
   },
   {
    "duration": 16,
    "start_time": "2022-07-27T14:32:10.051Z"
   },
   {
    "duration": 15,
    "start_time": "2022-07-27T14:32:16.256Z"
   },
   {
    "duration": 16,
    "start_time": "2022-07-27T14:32:23.090Z"
   },
   {
    "duration": 17,
    "start_time": "2022-07-27T14:32:36.527Z"
   },
   {
    "duration": 14,
    "start_time": "2022-07-27T14:35:57.280Z"
   },
   {
    "duration": 14,
    "start_time": "2022-07-27T14:40:08.114Z"
   },
   {
    "duration": 53,
    "start_time": "2022-07-27T15:08:58.928Z"
   },
   {
    "duration": 9,
    "start_time": "2022-07-27T15:33:27.406Z"
   },
   {
    "duration": 56,
    "start_time": "2022-07-27T15:33:32.945Z"
   },
   {
    "duration": 53,
    "start_time": "2022-07-27T15:34:11.539Z"
   },
   {
    "duration": 45,
    "start_time": "2022-07-27T15:38:05.237Z"
   },
   {
    "duration": 16,
    "start_time": "2022-07-27T15:40:56.575Z"
   },
   {
    "duration": 18,
    "start_time": "2022-07-27T15:41:22.965Z"
   },
   {
    "duration": 46,
    "start_time": "2022-07-27T15:41:37.731Z"
   },
   {
    "duration": 183,
    "start_time": "2022-07-27T15:45:25.544Z"
   },
   {
    "duration": 6,
    "start_time": "2022-07-27T15:54:45.668Z"
   },
   {
    "duration": 5,
    "start_time": "2022-07-27T15:54:53.007Z"
   },
   {
    "duration": 47,
    "start_time": "2022-07-27T15:56:53.344Z"
   },
   {
    "duration": 14,
    "start_time": "2022-07-27T15:57:43.525Z"
   },
   {
    "duration": 1228,
    "start_time": "2022-07-28T16:02:06.824Z"
   },
   {
    "duration": 89,
    "start_time": "2022-07-28T16:02:08.054Z"
   },
   {
    "duration": 15,
    "start_time": "2022-07-28T16:02:08.147Z"
   },
   {
    "duration": 16,
    "start_time": "2022-07-28T16:02:08.612Z"
   },
   {
    "duration": 6,
    "start_time": "2022-07-28T16:02:09.556Z"
   },
   {
    "duration": 18,
    "start_time": "2022-07-28T16:02:10.115Z"
   },
   {
    "duration": 7,
    "start_time": "2022-07-28T16:02:14.574Z"
   },
   {
    "duration": 213,
    "start_time": "2022-07-28T16:02:16.487Z"
   },
   {
    "duration": 9,
    "start_time": "2022-07-28T16:02:21.088Z"
   },
   {
    "duration": 15,
    "start_time": "2022-07-28T16:02:21.825Z"
   },
   {
    "duration": 14,
    "start_time": "2022-07-28T16:02:30.240Z"
   },
   {
    "duration": 218,
    "start_time": "2022-07-28T16:02:32.668Z"
   },
   {
    "duration": 17,
    "start_time": "2022-07-28T16:02:55.361Z"
   },
   {
    "duration": 146,
    "start_time": "2022-07-28T16:03:11.688Z"
   },
   {
    "duration": 174,
    "start_time": "2022-07-28T16:03:31.594Z"
   },
   {
    "duration": 26,
    "start_time": "2022-07-28T16:03:59.339Z"
   },
   {
    "duration": 245,
    "start_time": "2022-07-28T16:04:22.893Z"
   },
   {
    "duration": 170,
    "start_time": "2022-07-28T16:04:27.387Z"
   },
   {
    "duration": 180,
    "start_time": "2022-07-28T16:04:29.899Z"
   },
   {
    "duration": 200,
    "start_time": "2022-07-28T16:04:40.337Z"
   },
   {
    "duration": 210,
    "start_time": "2022-07-28T16:05:07.696Z"
   },
   {
    "duration": 173,
    "start_time": "2022-07-28T16:28:15.691Z"
   },
   {
    "duration": 22,
    "start_time": "2022-07-28T16:28:24.301Z"
   },
   {
    "duration": 18,
    "start_time": "2022-07-28T16:30:35.362Z"
   },
   {
    "duration": 14,
    "start_time": "2022-07-28T16:30:38.208Z"
   },
   {
    "duration": 103,
    "start_time": "2022-07-28T16:30:38.915Z"
   },
   {
    "duration": 7,
    "start_time": "2022-07-28T16:36:06.818Z"
   },
   {
    "duration": 54,
    "start_time": "2022-07-28T16:36:07.741Z"
   },
   {
    "duration": 54,
    "start_time": "2022-07-28T16:36:28.698Z"
   },
   {
    "duration": 3,
    "start_time": "2022-07-28T16:37:49.506Z"
   },
   {
    "duration": 108,
    "start_time": "2022-07-28T16:38:01.102Z"
   },
   {
    "duration": 12,
    "start_time": "2022-07-28T16:38:12.570Z"
   },
   {
    "duration": 47,
    "start_time": "2022-07-28T16:38:13.357Z"
   },
   {
    "duration": 203,
    "start_time": "2022-07-28T16:38:16.204Z"
   },
   {
    "duration": 16,
    "start_time": "2022-07-28T16:38:18.235Z"
   },
   {
    "duration": 16,
    "start_time": "2022-07-28T16:38:19.606Z"
   },
   {
    "duration": 17,
    "start_time": "2022-07-28T16:38:20.580Z"
   },
   {
    "duration": 10,
    "start_time": "2022-07-28T16:38:21.037Z"
   },
   {
    "duration": 1633,
    "start_time": "2022-07-28T16:51:28.157Z"
   },
   {
    "duration": 145,
    "start_time": "2022-07-28T16:51:29.793Z"
   },
   {
    "duration": 18,
    "start_time": "2022-07-28T16:51:29.940Z"
   },
   {
    "duration": 19,
    "start_time": "2022-07-28T16:51:29.961Z"
   },
   {
    "duration": 31,
    "start_time": "2022-07-28T16:51:29.982Z"
   },
   {
    "duration": 27,
    "start_time": "2022-07-28T16:51:30.014Z"
   },
   {
    "duration": 26,
    "start_time": "2022-07-28T16:51:30.043Z"
   },
   {
    "duration": 363,
    "start_time": "2022-07-28T16:51:30.070Z"
   },
   {
    "duration": 7,
    "start_time": "2022-07-28T16:51:30.435Z"
   },
   {
    "duration": 28,
    "start_time": "2022-07-28T16:51:30.445Z"
   },
   {
    "duration": 16,
    "start_time": "2022-07-28T16:51:30.509Z"
   },
   {
    "duration": 2547,
    "start_time": "2022-07-28T16:51:30.527Z"
   },
   {
    "duration": 29,
    "start_time": "2022-07-28T16:51:33.076Z"
   },
   {
    "duration": 26,
    "start_time": "2022-07-28T16:51:33.107Z"
   },
   {
    "duration": 22,
    "start_time": "2022-07-28T16:51:33.135Z"
   },
   {
    "duration": 157,
    "start_time": "2022-07-28T16:51:33.159Z"
   },
   {
    "duration": 11,
    "start_time": "2022-07-28T16:51:33.318Z"
   },
   {
    "duration": 104,
    "start_time": "2022-07-28T16:51:33.331Z"
   },
   {
    "duration": 4,
    "start_time": "2022-07-28T16:51:33.438Z"
   },
   {
    "duration": 150,
    "start_time": "2022-07-28T16:51:33.444Z"
   },
   {
    "duration": 24,
    "start_time": "2022-07-28T16:51:33.596Z"
   },
   {
    "duration": 68,
    "start_time": "2022-07-28T16:51:33.622Z"
   },
   {
    "duration": 261,
    "start_time": "2022-07-28T16:51:33.691Z"
   },
   {
    "duration": 19,
    "start_time": "2022-07-28T16:51:33.953Z"
   },
   {
    "duration": 22,
    "start_time": "2022-07-28T16:51:33.973Z"
   },
   {
    "duration": 22,
    "start_time": "2022-07-28T16:51:33.997Z"
   },
   {
    "duration": 13,
    "start_time": "2022-07-28T16:51:34.021Z"
   },
   {
    "duration": 1386,
    "start_time": "2022-07-28T18:23:28.685Z"
   },
   {
    "duration": 125,
    "start_time": "2022-07-28T18:23:30.073Z"
   },
   {
    "duration": 19,
    "start_time": "2022-07-28T18:23:30.204Z"
   },
   {
    "duration": 18,
    "start_time": "2022-07-28T18:23:30.225Z"
   },
   {
    "duration": 8,
    "start_time": "2022-07-28T18:23:30.246Z"
   },
   {
    "duration": 30,
    "start_time": "2022-07-28T18:23:30.256Z"
   },
   {
    "duration": 28,
    "start_time": "2022-07-28T18:23:30.288Z"
   },
   {
    "duration": 214,
    "start_time": "2022-07-28T18:23:30.318Z"
   },
   {
    "duration": 10,
    "start_time": "2022-07-28T18:23:30.535Z"
   },
   {
    "duration": 25,
    "start_time": "2022-07-28T18:23:30.547Z"
   },
   {
    "duration": 17,
    "start_time": "2022-07-28T18:23:30.610Z"
   },
   {
    "duration": 342,
    "start_time": "2022-07-28T18:23:30.628Z"
   },
   {
    "duration": 21,
    "start_time": "2022-07-28T18:23:30.972Z"
   },
   {
    "duration": 60,
    "start_time": "2022-07-28T18:23:30.995Z"
   },
   {
    "duration": 40,
    "start_time": "2022-07-28T18:23:31.057Z"
   },
   {
    "duration": 89,
    "start_time": "2022-07-28T18:23:31.099Z"
   },
   {
    "duration": 8,
    "start_time": "2022-07-28T18:23:31.190Z"
   },
   {
    "duration": 72,
    "start_time": "2022-07-28T18:23:31.200Z"
   },
   {
    "duration": 3,
    "start_time": "2022-07-28T18:23:31.274Z"
   },
   {
    "duration": 136,
    "start_time": "2022-07-28T18:23:31.279Z"
   },
   {
    "duration": 16,
    "start_time": "2022-07-28T18:23:31.417Z"
   },
   {
    "duration": 55,
    "start_time": "2022-07-28T18:23:31.435Z"
   },
   {
    "duration": 283,
    "start_time": "2022-07-28T18:23:31.492Z"
   },
   {
    "duration": 18,
    "start_time": "2022-07-28T18:23:31.776Z"
   },
   {
    "duration": 20,
    "start_time": "2022-07-28T18:23:31.796Z"
   },
   {
    "duration": 22,
    "start_time": "2022-07-28T18:23:31.818Z"
   },
   {
    "duration": 14,
    "start_time": "2022-07-28T18:23:31.845Z"
   },
   {
    "duration": 32,
    "start_time": "2022-07-28T18:37:32.675Z"
   },
   {
    "duration": 15,
    "start_time": "2022-07-28T18:37:47.226Z"
   },
   {
    "duration": 184,
    "start_time": "2022-07-28T18:47:39.233Z"
   },
   {
    "duration": 24,
    "start_time": "2022-07-28T18:48:05.231Z"
   },
   {
    "duration": 19,
    "start_time": "2022-07-28T18:48:17.029Z"
   },
   {
    "duration": 20,
    "start_time": "2022-07-28T18:48:59.683Z"
   },
   {
    "duration": 37,
    "start_time": "2022-07-28T18:49:15.711Z"
   },
   {
    "duration": 28,
    "start_time": "2022-07-28T18:50:03.130Z"
   },
   {
    "duration": 24,
    "start_time": "2022-07-28T18:50:28.598Z"
   },
   {
    "duration": 37,
    "start_time": "2022-07-28T18:52:54.795Z"
   },
   {
    "duration": 49,
    "start_time": "2022-07-28T18:53:14.649Z"
   },
   {
    "duration": 28,
    "start_time": "2022-07-28T18:53:32.644Z"
   },
   {
    "duration": 422,
    "start_time": "2022-07-28T18:54:29.012Z"
   },
   {
    "duration": 57,
    "start_time": "2022-07-28T18:54:56.027Z"
   },
   {
    "duration": 75,
    "start_time": "2022-07-28T18:59:39.565Z"
   },
   {
    "duration": 300,
    "start_time": "2022-07-28T18:59:46.092Z"
   },
   {
    "duration": 292,
    "start_time": "2022-07-28T18:59:53.461Z"
   },
   {
    "duration": 63,
    "start_time": "2022-07-28T19:04:25.356Z"
   },
   {
    "duration": 15,
    "start_time": "2022-07-28T19:07:27.173Z"
   },
   {
    "duration": 27,
    "start_time": "2022-07-28T19:08:21.988Z"
   },
   {
    "duration": 1633,
    "start_time": "2022-07-29T07:55:54.905Z"
   },
   {
    "duration": 289,
    "start_time": "2022-07-29T07:55:56.543Z"
   },
   {
    "duration": 25,
    "start_time": "2022-07-29T07:55:56.834Z"
   },
   {
    "duration": 62,
    "start_time": "2022-07-29T07:55:56.861Z"
   },
   {
    "duration": 24,
    "start_time": "2022-07-29T07:55:56.926Z"
   },
   {
    "duration": 47,
    "start_time": "2022-07-29T07:55:56.952Z"
   },
   {
    "duration": 8,
    "start_time": "2022-07-29T07:55:57.001Z"
   },
   {
    "duration": 223,
    "start_time": "2022-07-29T07:55:57.012Z"
   },
   {
    "duration": 8,
    "start_time": "2022-07-29T07:55:57.237Z"
   },
   {
    "duration": 18,
    "start_time": "2022-07-29T07:55:57.247Z"
   },
   {
    "duration": 46,
    "start_time": "2022-07-29T07:55:57.266Z"
   },
   {
    "duration": 405,
    "start_time": "2022-07-29T07:55:57.314Z"
   },
   {
    "duration": 29,
    "start_time": "2022-07-29T07:55:57.721Z"
   },
   {
    "duration": 28,
    "start_time": "2022-07-29T07:55:57.752Z"
   },
   {
    "duration": 40,
    "start_time": "2022-07-29T07:55:57.782Z"
   },
   {
    "duration": 94,
    "start_time": "2022-07-29T07:55:57.824Z"
   },
   {
    "duration": 444,
    "start_time": "2022-07-29T07:55:57.922Z"
   },
   {
    "duration": 14,
    "start_time": "2022-07-29T07:55:58.369Z"
   },
   {
    "duration": 183,
    "start_time": "2022-07-29T07:55:58.385Z"
   },
   {
    "duration": 5,
    "start_time": "2022-07-29T07:55:58.570Z"
   },
   {
    "duration": 155,
    "start_time": "2022-07-29T07:55:58.577Z"
   },
   {
    "duration": 25,
    "start_time": "2022-07-29T07:55:58.733Z"
   },
   {
    "duration": 68,
    "start_time": "2022-07-29T07:55:58.761Z"
   },
   {
    "duration": 254,
    "start_time": "2022-07-29T07:55:58.831Z"
   },
   {
    "duration": 26,
    "start_time": "2022-07-29T07:55:59.087Z"
   },
   {
    "duration": 28,
    "start_time": "2022-07-29T07:55:59.115Z"
   },
   {
    "duration": 20,
    "start_time": "2022-07-29T07:55:59.144Z"
   },
   {
    "duration": 43,
    "start_time": "2022-07-29T07:55:59.169Z"
   },
   {
    "duration": 1338,
    "start_time": "2023-01-16T07:38:12.641Z"
   },
   {
    "duration": 136,
    "start_time": "2023-01-16T07:38:13.981Z"
   },
   {
    "duration": 17,
    "start_time": "2023-01-16T07:38:14.119Z"
   },
   {
    "duration": 19,
    "start_time": "2023-01-16T07:38:14.138Z"
   },
   {
    "duration": 6,
    "start_time": "2023-01-16T07:38:14.159Z"
   },
   {
    "duration": 21,
    "start_time": "2023-01-16T07:38:14.166Z"
   },
   {
    "duration": 6,
    "start_time": "2023-01-16T07:38:14.214Z"
   },
   {
    "duration": 187,
    "start_time": "2023-01-16T07:38:14.222Z"
   },
   {
    "duration": 7,
    "start_time": "2023-01-16T07:38:14.410Z"
   },
   {
    "duration": 14,
    "start_time": "2023-01-16T07:38:14.420Z"
   },
   {
    "duration": 14,
    "start_time": "2023-01-16T07:38:14.436Z"
   },
   {
    "duration": 323,
    "start_time": "2023-01-16T07:38:14.451Z"
   },
   {
    "duration": 20,
    "start_time": "2023-01-16T07:38:14.775Z"
   },
   {
    "duration": 32,
    "start_time": "2023-01-16T07:38:14.796Z"
   },
   {
    "duration": 25,
    "start_time": "2023-01-16T07:38:14.829Z"
   },
   {
    "duration": 64,
    "start_time": "2023-01-16T07:38:14.856Z"
   },
   {
    "duration": 328,
    "start_time": "2023-01-16T07:38:14.921Z"
   },
   {
    "duration": 7,
    "start_time": "2023-01-16T07:38:15.251Z"
   },
   {
    "duration": 159,
    "start_time": "2023-01-16T07:38:15.260Z"
   },
   {
    "duration": 4,
    "start_time": "2023-01-16T07:38:15.420Z"
   },
   {
    "duration": 140,
    "start_time": "2023-01-16T07:38:15.425Z"
   },
   {
    "duration": 10,
    "start_time": "2023-01-16T07:38:15.567Z"
   },
   {
    "duration": 64,
    "start_time": "2023-01-16T07:38:15.579Z"
   },
   {
    "duration": 253,
    "start_time": "2023-01-16T07:38:15.645Z"
   },
   {
    "duration": 0,
    "start_time": "2023-01-16T07:38:15.900Z"
   },
   {
    "duration": 0,
    "start_time": "2023-01-16T07:38:15.901Z"
   },
   {
    "duration": 0,
    "start_time": "2023-01-16T07:38:15.902Z"
   },
   {
    "duration": 0,
    "start_time": "2023-01-16T07:38:15.903Z"
   }
  ],
  "kernelspec": {
   "display_name": "Python 3 (ipykernel)",
   "language": "python",
   "name": "python3"
  },
  "language_info": {
   "codemirror_mode": {
    "name": "ipython",
    "version": 3
   },
   "file_extension": ".py",
   "mimetype": "text/x-python",
   "name": "python",
   "nbconvert_exporter": "python",
   "pygments_lexer": "ipython3",
   "version": "3.9.12"
  },
  "toc": {
   "base_numbering": 1,
   "nav_menu": {},
   "number_sections": true,
   "sideBar": true,
   "skip_h1_title": true,
   "title_cell": "Table of Contents",
   "title_sidebar": "Contents",
   "toc_cell": false,
   "toc_position": {},
   "toc_section_display": true,
   "toc_window_display": false
  }
 },
 "nbformat": 4,
 "nbformat_minor": 2
}
