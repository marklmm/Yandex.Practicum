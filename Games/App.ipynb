{
 "cells": [
  {
   "cell_type": "markdown",
   "metadata": {},
   "source": [
    "# Воронка событий и A/A/B-тест на примере данных приложения e-commerce"
   ]
  },
  {
   "cell_type": "markdown",
   "metadata": {},
   "source": [
    "Мы работаем в стартапе, который продаёт продукты питания. Нужно разобраться, как ведут себя пользователи нашего мобильного приложения.\n",
    "Изучим воронку продаж. Узнаем, как пользователи доходят до покупки. Сколько пользователей доходит до покупки, а сколько — «застревает» на предыдущих шагах? На каких именно?\n",
    "<br>\n",
    "После этого исследуем результаты A/A/B-эксперимента. Дизайнеры захотели поменять шрифты во всём приложении, а менеджеры испугались, что пользователям будет непривычно. Договорились принять решение по результатам A/A/B-теста. Пользователей разбили на 3 группы: 2 контрольные со старыми шрифтами и одну экспериментальную — с новыми. Выясним, какой шрифт лучше.\n",
    "<br>\n",
    "Создание двух групп A вместо одной имеет определённые преимущества. Если две контрольные группы окажутся равны, вы можете быть уверены в точности проведенного тестирования. Если же между значениями A и A будут существенные различия, это поможет обнаружить факторы, которые привели к искажению результатов. Сравнение контрольных групп также помогает понять, сколько времени и данных потребуется для дальнейших тестов.\n",
    "<br>\n",
    "<br>\n",
    "План проекта:\n",
    "<br>\n",
    "1 Предобработка данных\n",
    "<br>\n",
    "2 Изучение данных\n",
    "<br>\n",
    "3 Изучение воронки событий\n",
    "<br>\n",
    "4 Проведение и изучение результатов эксперимента\n",
    "<br>\n",
    "5 Общий вывод\n",
    "<br>\n",
    "<br>\n",
    "Описание данных\n",
    "<br>\n",
    "EventName — название события;\n",
    "<br>Изучение результатов эксперимента\n",
    "DeviceIDHash — уникальный идентификатор пользователя;\n",
    "<br>\n",
    "EventTimestamp — время события;\n",
    "<br>\n",
    "ExpId — номер эксперимента: 246 и 247 — контрольные группы, а 248 — экспериментальная.\n",
    "<br>\n"
   ]
  },
  {
   "cell_type": "markdown",
   "metadata": {},
   "source": [
    "## Предобработка данных"
   ]
  },
  {
   "cell_type": "code",
   "execution_count": 1,
   "metadata": {},
   "outputs": [],
   "source": [
    "import pandas as pd\n",
    "\n",
    "import numpy as np\n",
    "import seaborn as sns\n",
    "from scipy import stats as st\n",
    "import math as mth\n",
    "\n",
    "import matplotlib.pyplot as plt\n",
    "import plotly.express as px\n",
    "from plotly import graph_objects as go\n",
    "\n",
    "import datetime as dt"
   ]
  },
  {
   "cell_type": "code",
   "execution_count": 2,
   "metadata": {
    "scrolled": false
   },
   "outputs": [
    {
     "name": "stdout",
     "output_type": "stream",
     "text": [
      "<class 'pandas.core.frame.DataFrame'>\n",
      "RangeIndex: 244126 entries, 0 to 244125\n",
      "Data columns (total 4 columns):\n",
      " #   Column          Non-Null Count   Dtype \n",
      "---  ------          --------------   ----- \n",
      " 0   EventName       244126 non-null  object\n",
      " 1   DeviceIDHash    244126 non-null  int64 \n",
      " 2   EventTimestamp  244126 non-null  int64 \n",
      " 3   ExpId           244126 non-null  int64 \n",
      "dtypes: int64(3), object(1)\n",
      "memory usage: 7.5+ MB\n"
     ]
    },
    {
     "data": {
      "text/html": [
       "<div>\n",
       "<style scoped>\n",
       "    .dataframe tbody tr th:only-of-type {\n",
       "        vertical-align: middle;\n",
       "    }\n",
       "\n",
       "    .dataframe tbody tr th {\n",
       "        vertical-align: top;\n",
       "    }\n",
       "\n",
       "    .dataframe thead th {\n",
       "        text-align: right;\n",
       "    }\n",
       "</style>\n",
       "<table border=\"1\" class=\"dataframe\">\n",
       "  <thead>\n",
       "    <tr style=\"text-align: right;\">\n",
       "      <th></th>\n",
       "      <th>EventName</th>\n",
       "      <th>DeviceIDHash</th>\n",
       "      <th>EventTimestamp</th>\n",
       "      <th>ExpId</th>\n",
       "    </tr>\n",
       "  </thead>\n",
       "  <tbody>\n",
       "    <tr>\n",
       "      <th>0</th>\n",
       "      <td>MainScreenAppear</td>\n",
       "      <td>4575588528974610257</td>\n",
       "      <td>1564029816</td>\n",
       "      <td>246</td>\n",
       "    </tr>\n",
       "    <tr>\n",
       "      <th>1</th>\n",
       "      <td>MainScreenAppear</td>\n",
       "      <td>7416695313311560658</td>\n",
       "      <td>1564053102</td>\n",
       "      <td>246</td>\n",
       "    </tr>\n",
       "    <tr>\n",
       "      <th>2</th>\n",
       "      <td>PaymentScreenSuccessful</td>\n",
       "      <td>3518123091307005509</td>\n",
       "      <td>1564054127</td>\n",
       "      <td>248</td>\n",
       "    </tr>\n",
       "  </tbody>\n",
       "</table>\n",
       "</div>"
      ],
      "text/plain": [
       "                 EventName         DeviceIDHash  EventTimestamp  ExpId\n",
       "0         MainScreenAppear  4575588528974610257      1564029816    246\n",
       "1         MainScreenAppear  7416695313311560658      1564053102    246\n",
       "2  PaymentScreenSuccessful  3518123091307005509      1564054127    248"
      ]
     },
     "execution_count": 2,
     "metadata": {},
     "output_type": "execute_result"
    }
   ],
   "source": [
    "url = 'https://drive.google.com/file/d/1dswUbdRhrtNuaYN7ZHVd7mU-UPYxo-bo/view?usp=share_link'\n",
    "path = 'https://drive.google.com/uc?export=download&id=' + url.split('/')[-2]\n",
    "data = pd.read_csv(path, sep='\\t')\n",
    "\n",
    "data.info()\n",
    "data.head(3)"
   ]
  },
  {
   "cell_type": "markdown",
   "metadata": {},
   "source": [
    "Посмотрим о каких операциях у нас есть данные:"
   ]
  },
  {
   "cell_type": "code",
   "execution_count": 3,
   "metadata": {},
   "outputs": [
    {
     "data": {
      "text/plain": [
       "array(['MainScreenAppear', 'PaymentScreenSuccessful', 'CartScreenAppear',\n",
       "       'OffersScreenAppear', 'Tutorial'], dtype=object)"
      ]
     },
     "execution_count": 3,
     "metadata": {},
     "output_type": "execute_result"
    }
   ],
   "source": [
    "data['EventName'].unique()"
   ]
  },
  {
   "cell_type": "markdown",
   "metadata": {},
   "source": [
    "Будем считать, что:\n",
    "<br>\n",
    "'MainScreenAppear' — \"Главвный экран\"\n",
    "<br>\n",
    "'PaymentScreenSuccessful' — \"Оплата совершена\"\n",
    "<br>\n",
    "'CartScreenAppear' — \"Окно Корзины\"\n",
    "<br>\n",
    "'OffersScreenAppear' — \"Рекомендации\"\n",
    "<br>\n",
    "'Tutorial' — \"Руководство\""
   ]
  },
  {
   "cell_type": "markdown",
   "metadata": {},
   "source": [
    "Заменим названия столбцов:"
   ]
  },
  {
   "cell_type": "code",
   "execution_count": 4,
   "metadata": {},
   "outputs": [
    {
     "data": {
      "text/html": [
       "<div>\n",
       "<style scoped>\n",
       "    .dataframe tbody tr th:only-of-type {\n",
       "        vertical-align: middle;\n",
       "    }\n",
       "\n",
       "    .dataframe tbody tr th {\n",
       "        vertical-align: top;\n",
       "    }\n",
       "\n",
       "    .dataframe thead th {\n",
       "        text-align: right;\n",
       "    }\n",
       "</style>\n",
       "<table border=\"1\" class=\"dataframe\">\n",
       "  <thead>\n",
       "    <tr style=\"text-align: right;\">\n",
       "      <th></th>\n",
       "      <th>event_name</th>\n",
       "      <th>user_id</th>\n",
       "      <th>timestamp</th>\n",
       "      <th>group_id</th>\n",
       "    </tr>\n",
       "  </thead>\n",
       "  <tbody>\n",
       "    <tr>\n",
       "      <th>0</th>\n",
       "      <td>MainScreenAppear</td>\n",
       "      <td>4575588528974610257</td>\n",
       "      <td>1564029816</td>\n",
       "      <td>246</td>\n",
       "    </tr>\n",
       "    <tr>\n",
       "      <th>1</th>\n",
       "      <td>MainScreenAppear</td>\n",
       "      <td>7416695313311560658</td>\n",
       "      <td>1564053102</td>\n",
       "      <td>246</td>\n",
       "    </tr>\n",
       "    <tr>\n",
       "      <th>2</th>\n",
       "      <td>PaymentScreenSuccessful</td>\n",
       "      <td>3518123091307005509</td>\n",
       "      <td>1564054127</td>\n",
       "      <td>248</td>\n",
       "    </tr>\n",
       "    <tr>\n",
       "      <th>3</th>\n",
       "      <td>CartScreenAppear</td>\n",
       "      <td>3518123091307005509</td>\n",
       "      <td>1564054127</td>\n",
       "      <td>248</td>\n",
       "    </tr>\n",
       "    <tr>\n",
       "      <th>4</th>\n",
       "      <td>PaymentScreenSuccessful</td>\n",
       "      <td>6217807653094995999</td>\n",
       "      <td>1564055322</td>\n",
       "      <td>248</td>\n",
       "    </tr>\n",
       "  </tbody>\n",
       "</table>\n",
       "</div>"
      ],
      "text/plain": [
       "                event_name              user_id   timestamp  group_id\n",
       "0         MainScreenAppear  4575588528974610257  1564029816       246\n",
       "1         MainScreenAppear  7416695313311560658  1564053102       246\n",
       "2  PaymentScreenSuccessful  3518123091307005509  1564054127       248\n",
       "3         CartScreenAppear  3518123091307005509  1564054127       248\n",
       "4  PaymentScreenSuccessful  6217807653094995999  1564055322       248"
      ]
     },
     "execution_count": 4,
     "metadata": {},
     "output_type": "execute_result"
    }
   ],
   "source": [
    "data_columns = ['event_name', 'user_id', 'timestamp', 'group_id']\n",
    "data.columns = data_columns\n",
    "data.head(5)"
   ]
  },
  {
   "cell_type": "markdown",
   "metadata": {},
   "source": [
    "Добавим столбцы с временем и датой:"
   ]
  },
  {
   "cell_type": "code",
   "execution_count": 5,
   "metadata": {},
   "outputs": [
    {
     "data": {
      "text/html": [
       "<div>\n",
       "<style scoped>\n",
       "    .dataframe tbody tr th:only-of-type {\n",
       "        vertical-align: middle;\n",
       "    }\n",
       "\n",
       "    .dataframe tbody tr th {\n",
       "        vertical-align: top;\n",
       "    }\n",
       "\n",
       "    .dataframe thead th {\n",
       "        text-align: right;\n",
       "    }\n",
       "</style>\n",
       "<table border=\"1\" class=\"dataframe\">\n",
       "  <thead>\n",
       "    <tr style=\"text-align: right;\">\n",
       "      <th></th>\n",
       "      <th>event_name</th>\n",
       "      <th>user_id</th>\n",
       "      <th>timestamp</th>\n",
       "      <th>group_id</th>\n",
       "      <th>datetime</th>\n",
       "      <th>date</th>\n",
       "    </tr>\n",
       "  </thead>\n",
       "  <tbody>\n",
       "    <tr>\n",
       "      <th>0</th>\n",
       "      <td>MainScreenAppear</td>\n",
       "      <td>4575588528974610257</td>\n",
       "      <td>1564029816</td>\n",
       "      <td>246</td>\n",
       "      <td>2019-07-25 04:43:36</td>\n",
       "      <td>2019-07-25</td>\n",
       "    </tr>\n",
       "    <tr>\n",
       "      <th>1</th>\n",
       "      <td>MainScreenAppear</td>\n",
       "      <td>7416695313311560658</td>\n",
       "      <td>1564053102</td>\n",
       "      <td>246</td>\n",
       "      <td>2019-07-25 11:11:42</td>\n",
       "      <td>2019-07-25</td>\n",
       "    </tr>\n",
       "    <tr>\n",
       "      <th>2</th>\n",
       "      <td>PaymentScreenSuccessful</td>\n",
       "      <td>3518123091307005509</td>\n",
       "      <td>1564054127</td>\n",
       "      <td>248</td>\n",
       "      <td>2019-07-25 11:28:47</td>\n",
       "      <td>2019-07-25</td>\n",
       "    </tr>\n",
       "    <tr>\n",
       "      <th>3</th>\n",
       "      <td>CartScreenAppear</td>\n",
       "      <td>3518123091307005509</td>\n",
       "      <td>1564054127</td>\n",
       "      <td>248</td>\n",
       "      <td>2019-07-25 11:28:47</td>\n",
       "      <td>2019-07-25</td>\n",
       "    </tr>\n",
       "    <tr>\n",
       "      <th>4</th>\n",
       "      <td>PaymentScreenSuccessful</td>\n",
       "      <td>6217807653094995999</td>\n",
       "      <td>1564055322</td>\n",
       "      <td>248</td>\n",
       "      <td>2019-07-25 11:48:42</td>\n",
       "      <td>2019-07-25</td>\n",
       "    </tr>\n",
       "  </tbody>\n",
       "</table>\n",
       "</div>"
      ],
      "text/plain": [
       "                event_name              user_id   timestamp  group_id  \\\n",
       "0         MainScreenAppear  4575588528974610257  1564029816       246   \n",
       "1         MainScreenAppear  7416695313311560658  1564053102       246   \n",
       "2  PaymentScreenSuccessful  3518123091307005509  1564054127       248   \n",
       "3         CartScreenAppear  3518123091307005509  1564054127       248   \n",
       "4  PaymentScreenSuccessful  6217807653094995999  1564055322       248   \n",
       "\n",
       "             datetime       date  \n",
       "0 2019-07-25 04:43:36 2019-07-25  \n",
       "1 2019-07-25 11:11:42 2019-07-25  \n",
       "2 2019-07-25 11:28:47 2019-07-25  \n",
       "3 2019-07-25 11:28:47 2019-07-25  \n",
       "4 2019-07-25 11:48:42 2019-07-25  "
      ]
     },
     "execution_count": 5,
     "metadata": {},
     "output_type": "execute_result"
    }
   ],
   "source": [
    "data['datetime'] = pd.to_datetime(data['timestamp'], unit='s')\n",
    "data['date'] = data['datetime'].dt.date\n",
    "data['date'] = data['date'].astype('datetime64')\n",
    "\n",
    "data.head(5)"
   ]
  },
  {
   "cell_type": "markdown",
   "metadata": {},
   "source": [
    "Проверим данные на наличие пропусков:"
   ]
  },
  {
   "cell_type": "code",
   "execution_count": 6,
   "metadata": {},
   "outputs": [
    {
     "data": {
      "text/plain": [
       "event_name    0\n",
       "user_id       0\n",
       "timestamp     0\n",
       "group_id      0\n",
       "datetime      0\n",
       "date          0\n",
       "dtype: int64"
      ]
     },
     "execution_count": 6,
     "metadata": {},
     "output_type": "execute_result"
    }
   ],
   "source": [
    "data.isna().sum()"
   ]
  },
  {
   "cell_type": "markdown",
   "metadata": {},
   "source": [
    "Проверим данные на наличие дубликатов:"
   ]
  },
  {
   "cell_type": "code",
   "execution_count": 7,
   "metadata": {},
   "outputs": [
    {
     "data": {
      "text/plain": [
       "413"
      ]
     },
     "execution_count": 7,
     "metadata": {},
     "output_type": "execute_result"
    }
   ],
   "source": [
    "data.duplicated().sum()"
   ]
  },
  {
   "cell_type": "code",
   "execution_count": 8,
   "metadata": {},
   "outputs": [
    {
     "data": {
      "text/html": [
       "<div>\n",
       "<style scoped>\n",
       "    .dataframe tbody tr th:only-of-type {\n",
       "        vertical-align: middle;\n",
       "    }\n",
       "\n",
       "    .dataframe tbody tr th {\n",
       "        vertical-align: top;\n",
       "    }\n",
       "\n",
       "    .dataframe thead th {\n",
       "        text-align: right;\n",
       "    }\n",
       "</style>\n",
       "<table border=\"1\" class=\"dataframe\">\n",
       "  <thead>\n",
       "    <tr style=\"text-align: right;\">\n",
       "      <th></th>\n",
       "      <th>event_name</th>\n",
       "      <th>user_id</th>\n",
       "      <th>timestamp</th>\n",
       "      <th>group_id</th>\n",
       "      <th>datetime</th>\n",
       "      <th>date</th>\n",
       "    </tr>\n",
       "  </thead>\n",
       "  <tbody>\n",
       "    <tr>\n",
       "      <th>0</th>\n",
       "      <td>MainScreenAppear</td>\n",
       "      <td>4575588528974610257</td>\n",
       "      <td>1564029816</td>\n",
       "      <td>246</td>\n",
       "      <td>2019-07-25 04:43:36</td>\n",
       "      <td>2019-07-25</td>\n",
       "    </tr>\n",
       "    <tr>\n",
       "      <th>1</th>\n",
       "      <td>MainScreenAppear</td>\n",
       "      <td>7416695313311560658</td>\n",
       "      <td>1564053102</td>\n",
       "      <td>246</td>\n",
       "      <td>2019-07-25 11:11:42</td>\n",
       "      <td>2019-07-25</td>\n",
       "    </tr>\n",
       "    <tr>\n",
       "      <th>2</th>\n",
       "      <td>PaymentScreenSuccessful</td>\n",
       "      <td>3518123091307005509</td>\n",
       "      <td>1564054127</td>\n",
       "      <td>248</td>\n",
       "      <td>2019-07-25 11:28:47</td>\n",
       "      <td>2019-07-25</td>\n",
       "    </tr>\n",
       "    <tr>\n",
       "      <th>3</th>\n",
       "      <td>CartScreenAppear</td>\n",
       "      <td>3518123091307005509</td>\n",
       "      <td>1564054127</td>\n",
       "      <td>248</td>\n",
       "      <td>2019-07-25 11:28:47</td>\n",
       "      <td>2019-07-25</td>\n",
       "    </tr>\n",
       "    <tr>\n",
       "      <th>4</th>\n",
       "      <td>PaymentScreenSuccessful</td>\n",
       "      <td>6217807653094995999</td>\n",
       "      <td>1564055322</td>\n",
       "      <td>248</td>\n",
       "      <td>2019-07-25 11:48:42</td>\n",
       "      <td>2019-07-25</td>\n",
       "    </tr>\n",
       "    <tr>\n",
       "      <th>...</th>\n",
       "      <td>...</td>\n",
       "      <td>...</td>\n",
       "      <td>...</td>\n",
       "      <td>...</td>\n",
       "      <td>...</td>\n",
       "      <td>...</td>\n",
       "    </tr>\n",
       "    <tr>\n",
       "      <th>243708</th>\n",
       "      <td>MainScreenAppear</td>\n",
       "      <td>4599628364049201812</td>\n",
       "      <td>1565212345</td>\n",
       "      <td>247</td>\n",
       "      <td>2019-08-07 21:12:25</td>\n",
       "      <td>2019-08-07</td>\n",
       "    </tr>\n",
       "    <tr>\n",
       "      <th>243709</th>\n",
       "      <td>MainScreenAppear</td>\n",
       "      <td>5849806612437486590</td>\n",
       "      <td>1565212439</td>\n",
       "      <td>246</td>\n",
       "      <td>2019-08-07 21:13:59</td>\n",
       "      <td>2019-08-07</td>\n",
       "    </tr>\n",
       "    <tr>\n",
       "      <th>243710</th>\n",
       "      <td>MainScreenAppear</td>\n",
       "      <td>5746969938801999050</td>\n",
       "      <td>1565212483</td>\n",
       "      <td>246</td>\n",
       "      <td>2019-08-07 21:14:43</td>\n",
       "      <td>2019-08-07</td>\n",
       "    </tr>\n",
       "    <tr>\n",
       "      <th>243711</th>\n",
       "      <td>MainScreenAppear</td>\n",
       "      <td>5746969938801999050</td>\n",
       "      <td>1565212498</td>\n",
       "      <td>246</td>\n",
       "      <td>2019-08-07 21:14:58</td>\n",
       "      <td>2019-08-07</td>\n",
       "    </tr>\n",
       "    <tr>\n",
       "      <th>243712</th>\n",
       "      <td>OffersScreenAppear</td>\n",
       "      <td>5746969938801999050</td>\n",
       "      <td>1565212517</td>\n",
       "      <td>246</td>\n",
       "      <td>2019-08-07 21:15:17</td>\n",
       "      <td>2019-08-07</td>\n",
       "    </tr>\n",
       "  </tbody>\n",
       "</table>\n",
       "<p>243713 rows × 6 columns</p>\n",
       "</div>"
      ],
      "text/plain": [
       "                     event_name              user_id   timestamp  group_id  \\\n",
       "0              MainScreenAppear  4575588528974610257  1564029816       246   \n",
       "1              MainScreenAppear  7416695313311560658  1564053102       246   \n",
       "2       PaymentScreenSuccessful  3518123091307005509  1564054127       248   \n",
       "3              CartScreenAppear  3518123091307005509  1564054127       248   \n",
       "4       PaymentScreenSuccessful  6217807653094995999  1564055322       248   \n",
       "...                         ...                  ...         ...       ...   \n",
       "243708         MainScreenAppear  4599628364049201812  1565212345       247   \n",
       "243709         MainScreenAppear  5849806612437486590  1565212439       246   \n",
       "243710         MainScreenAppear  5746969938801999050  1565212483       246   \n",
       "243711         MainScreenAppear  5746969938801999050  1565212498       246   \n",
       "243712       OffersScreenAppear  5746969938801999050  1565212517       246   \n",
       "\n",
       "                  datetime       date  \n",
       "0      2019-07-25 04:43:36 2019-07-25  \n",
       "1      2019-07-25 11:11:42 2019-07-25  \n",
       "2      2019-07-25 11:28:47 2019-07-25  \n",
       "3      2019-07-25 11:28:47 2019-07-25  \n",
       "4      2019-07-25 11:48:42 2019-07-25  \n",
       "...                    ...        ...  \n",
       "243708 2019-08-07 21:12:25 2019-08-07  \n",
       "243709 2019-08-07 21:13:59 2019-08-07  \n",
       "243710 2019-08-07 21:14:43 2019-08-07  \n",
       "243711 2019-08-07 21:14:58 2019-08-07  \n",
       "243712 2019-08-07 21:15:17 2019-08-07  \n",
       "\n",
       "[243713 rows x 6 columns]"
      ]
     },
     "execution_count": 8,
     "metadata": {},
     "output_type": "execute_result"
    }
   ],
   "source": [
    "data = data.drop_duplicates().reset_index(drop=True)\n",
    "data"
   ]
  },
  {
   "cell_type": "markdown",
   "metadata": {},
   "source": [
    "Итак, в данных не было обнаружено пропусков, но были обнаружены дубликаты — мы избавились от них. Мы также переименовали названия столбцов и добавили столбцы с временем и датой для дальшейших вычеслений."
   ]
  },
  {
   "cell_type": "markdown",
   "metadata": {},
   "source": [
    "## Изучение данных"
   ]
  },
  {
   "cell_type": "markdown",
   "metadata": {},
   "source": [
    "Узнаем сколько всего событий в логе, cколько всего пользователей в логе и сколько в среднем событий приходится на пользователя:"
   ]
  },
  {
   "cell_type": "code",
   "execution_count": 9,
   "metadata": {},
   "outputs": [
    {
     "name": "stdout",
     "output_type": "stream",
     "text": [
      "Число  событий: 243713\n",
      "Число уникальных событий:\n"
     ]
    },
    {
     "data": {
      "text/html": [
       "<div>\n",
       "<style scoped>\n",
       "    .dataframe tbody tr th:only-of-type {\n",
       "        vertical-align: middle;\n",
       "    }\n",
       "\n",
       "    .dataframe tbody tr th {\n",
       "        vertical-align: top;\n",
       "    }\n",
       "\n",
       "    .dataframe thead th {\n",
       "        text-align: right;\n",
       "    }\n",
       "</style>\n",
       "<table border=\"1\" class=\"dataframe\">\n",
       "  <thead>\n",
       "    <tr style=\"text-align: right;\">\n",
       "      <th></th>\n",
       "      <th>event_name</th>\n",
       "      <th>user_id</th>\n",
       "    </tr>\n",
       "  </thead>\n",
       "  <tbody>\n",
       "    <tr>\n",
       "      <th>0</th>\n",
       "      <td>CartScreenAppear</td>\n",
       "      <td>42668</td>\n",
       "    </tr>\n",
       "    <tr>\n",
       "      <th>1</th>\n",
       "      <td>MainScreenAppear</td>\n",
       "      <td>119101</td>\n",
       "    </tr>\n",
       "    <tr>\n",
       "      <th>2</th>\n",
       "      <td>OffersScreenAppear</td>\n",
       "      <td>46808</td>\n",
       "    </tr>\n",
       "    <tr>\n",
       "      <th>3</th>\n",
       "      <td>PaymentScreenSuccessful</td>\n",
       "      <td>34118</td>\n",
       "    </tr>\n",
       "    <tr>\n",
       "      <th>4</th>\n",
       "      <td>Tutorial</td>\n",
       "      <td>1018</td>\n",
       "    </tr>\n",
       "  </tbody>\n",
       "</table>\n",
       "</div>"
      ],
      "text/plain": [
       "                event_name  user_id\n",
       "0         CartScreenAppear    42668\n",
       "1         MainScreenAppear   119101\n",
       "2       OffersScreenAppear    46808\n",
       "3  PaymentScreenSuccessful    34118\n",
       "4                 Tutorial     1018"
      ]
     },
     "execution_count": 9,
     "metadata": {},
     "output_type": "execute_result"
    }
   ],
   "source": [
    "print('Число  событий: 243713')\n",
    "print('Число уникальных событий:')\n",
    "\n",
    "data_per_event = data.groupby('event_name').agg({'user_id':'count'}).reset_index()\n",
    "\n",
    "data_per_event"
   ]
  },
  {
   "cell_type": "code",
   "execution_count": 10,
   "metadata": {},
   "outputs": [
    {
     "name": "stdout",
     "output_type": "stream",
     "text": [
      "Число уникальных пользователей: 7551\n"
     ]
    }
   ],
   "source": [
    "print('Число уникальных пользователей:', data['user_id'].nunique())"
   ]
  },
  {
   "cell_type": "code",
   "execution_count": 11,
   "metadata": {},
   "outputs": [
    {
     "name": "stdout",
     "output_type": "stream",
     "text": [
      "Среднее число событий на одного пользователя: 32\n"
     ]
    }
   ],
   "source": [
    "print('Среднее число событий на одного пользователя:', round(data['event_name'].count() / data['user_id'].nunique()))"
   ]
  },
  {
   "cell_type": "markdown",
   "metadata": {},
   "source": [
    "Посмотрим на распределение событий поближе:"
   ]
  },
  {
   "cell_type": "code",
   "execution_count": 12,
   "metadata": {},
   "outputs": [],
   "source": [
    "event_count = data.groupby('event_name').agg({'event_name':'count'})\n",
    "event_count.columns = ['event_count']\n",
    "event_count = event_count.reset_index()\n",
    "\n",
    "event_by_users = data.groupby('user_id').agg({'event_name':'count'})"
   ]
  },
  {
   "cell_type": "code",
   "execution_count": 13,
   "metadata": {},
   "outputs": [
    {
     "data": {
      "image/png": "[encoded data removed]"
     },
     "metadata": {},
     "output_type": "display_data"
    }
   ],
   "source": [
    "fig=px.histogram(event_by_users, x=\"event_name\")\n",
    "\n",
    "fig.update_layout(title='Распределение количества событий',\n",
    "                  xaxis_title=\"Количество событий\",\n",
    "                  yaxis_title=\"Количество пользователей\",\n",
    "                  margin=dict(l=0, r=0, t=30, b=0),\n",
    "                  width=900,\n",
    "                  height=500)\n",
    "fig.update_xaxes(range=[0, 100])\n",
    "\n",
    "fig.show('png')"
   ]
  },
  {
   "cell_type": "code",
   "execution_count": 14,
   "metadata": {},
   "outputs": [
    {
     "data": {
      "image/png": "[encoded data removed]",
      "text/plain": [
       "<Figure size 1152x504 with 1 Axes>"
      ]
     },
     "metadata": {
      "needs_background": "light"
     },
     "output_type": "display_data"
    }
   ],
   "source": [
    "fig = plt.figure(figsize=(16, 7))\n",
    "\n",
    "sns.set(style='darkgrid')\n",
    "\n",
    "sns.barplot(y='event_name', x='event_count', data=event_count, alpha = 0.7)\n",
    "\n",
    "plt.title('Распределение событий по типу', fontsize=(18))\n",
    "plt.xticks(fontsize=(12))\n",
    "plt.yticks(fontsize=(12))\n",
    "\n",
    "plt.show()"
   ]
  },
  {
   "cell_type": "markdown",
   "metadata": {},
   "source": [
    "Узнаем данными за какой период мы располагаем:"
   ]
  },
  {
   "cell_type": "code",
   "execution_count": 15,
   "metadata": {},
   "outputs": [
    {
     "name": "stdout",
     "output_type": "stream",
     "text": [
      "Самая ранняя дата: 2019-07-25 04:43:36\n",
      "Самая поздняя дата: 2019-08-07 21:15:17\n"
     ]
    }
   ],
   "source": [
    "print('Самая ранняя дата:', data['datetime'].min())\n",
    "print('Самая поздняя дата:', data['datetime'].max())"
   ]
  },
  {
   "cell_type": "markdown",
   "metadata": {},
   "source": [
    "Построим гистограмму с пользовательской активностью за исследуемый период:"
   ]
  },
  {
   "cell_type": "code",
   "execution_count": 16,
   "metadata": {
    "scrolled": true
   },
   "outputs": [
    {
     "data": {
      "image/png": "[encoded data removed]",
      "text/plain": [
       "<Figure size 1152x504 with 1 Axes>"
      ]
     },
     "metadata": {},
     "output_type": "display_data"
    }
   ],
   "source": [
    "plt.figure(figsize=(16,7))\n",
    "\n",
    "sns.set(style='darkgrid')\n",
    "\n",
    "sns.histplot(data=data, x='datetime', bins=320)\n",
    "plt.xlabel('Дата')\n",
    "plt.ylabel('Кол-во событий')\n",
    "plt.title('Гистограмма времени событий', fontsize=(18))\n",
    "\n",
    "plt.show()"
   ]
  },
  {
   "cell_type": "code",
   "execution_count": 17,
   "metadata": {},
   "outputs": [
    {
     "data": {
      "image/png": "[encoded data removed]",
      "text/plain": [
       "<Figure size 1152x504 with 1 Axes>"
      ]
     },
     "metadata": {},
     "output_type": "display_data"
    }
   ],
   "source": [
    "plt.figure(figsize=(16,7))\n",
    "\n",
    "sns.set(style='darkgrid')\n",
    "\n",
    "plt.hist(data=data, x='datetime', bins=220, range=('2019-07-31 00:00:00','2019-08-01 23:59:00'))\n",
    "plt.xlabel('Дата')\n",
    "plt.ylabel('Кол-во событий')\n",
    "plt.title('Гистограмма событий за 31.07 и 01.08', fontsize=(18))\n",
    "\n",
    "plt.show()"
   ]
  },
  {
   "cell_type": "markdown",
   "metadata": {},
   "source": [
    "Итак, дата начала сбора данных — 25 июля 2019, дата окончания - 7 августа 2019. Похоже, что мы обладаем данными за 2 недели. Но гистограмма показывает, что до конца июля в приложении практически не происходит активности — она начинаются только с 31 июля (примерно в 5 часов утра), и имеет весьма периодичный повторяющийся характер: пик приходится на день, затем ночью следует спад."
   ]
  },
  {
   "cell_type": "markdown",
   "metadata": {},
   "source": [
    "Отбросим первую \"пассивную\" неделю и посмотрим на \"очищенные\" данные:"
   ]
  },
  {
   "cell_type": "code",
   "execution_count": 18,
   "metadata": {},
   "outputs": [
    {
     "data": {
      "text/html": [
       "<div>\n",
       "<style scoped>\n",
       "    .dataframe tbody tr th:only-of-type {\n",
       "        vertical-align: middle;\n",
       "    }\n",
       "\n",
       "    .dataframe tbody tr th {\n",
       "        vertical-align: top;\n",
       "    }\n",
       "\n",
       "    .dataframe thead th {\n",
       "        text-align: right;\n",
       "    }\n",
       "</style>\n",
       "<table border=\"1\" class=\"dataframe\">\n",
       "  <thead>\n",
       "    <tr style=\"text-align: right;\">\n",
       "      <th></th>\n",
       "      <th>event_name</th>\n",
       "      <th>user_id</th>\n",
       "      <th>timestamp</th>\n",
       "      <th>group_id</th>\n",
       "      <th>datetime</th>\n",
       "      <th>date</th>\n",
       "    </tr>\n",
       "  </thead>\n",
       "  <tbody>\n",
       "    <tr>\n",
       "      <th>0</th>\n",
       "      <td>MainScreenAppear</td>\n",
       "      <td>3670880358399219515</td>\n",
       "      <td>1564535506</td>\n",
       "      <td>247</td>\n",
       "      <td>2019-07-31 01:11:46</td>\n",
       "      <td>2019-07-31</td>\n",
       "    </tr>\n",
       "    <tr>\n",
       "      <th>1</th>\n",
       "      <td>OffersScreenAppear</td>\n",
       "      <td>3799109751993694887</td>\n",
       "      <td>1564536064</td>\n",
       "      <td>248</td>\n",
       "      <td>2019-07-31 01:21:04</td>\n",
       "      <td>2019-07-31</td>\n",
       "    </tr>\n",
       "    <tr>\n",
       "      <th>2</th>\n",
       "      <td>Tutorial</td>\n",
       "      <td>1126021718529336913</td>\n",
       "      <td>1564536731</td>\n",
       "      <td>247</td>\n",
       "      <td>2019-07-31 01:32:11</td>\n",
       "      <td>2019-07-31</td>\n",
       "    </tr>\n",
       "    <tr>\n",
       "      <th>3</th>\n",
       "      <td>MainScreenAppear</td>\n",
       "      <td>4293428370257583636</td>\n",
       "      <td>1564539558</td>\n",
       "      <td>248</td>\n",
       "      <td>2019-07-31 02:19:18</td>\n",
       "      <td>2019-07-31</td>\n",
       "    </tr>\n",
       "    <tr>\n",
       "      <th>4</th>\n",
       "      <td>MainScreenAppear</td>\n",
       "      <td>4567464647598975872</td>\n",
       "      <td>1564540410</td>\n",
       "      <td>247</td>\n",
       "      <td>2019-07-31 02:33:30</td>\n",
       "      <td>2019-07-31</td>\n",
       "    </tr>\n",
       "  </tbody>\n",
       "</table>\n",
       "</div>"
      ],
      "text/plain": [
       "           event_name              user_id   timestamp  group_id  \\\n",
       "0    MainScreenAppear  3670880358399219515  1564535506       247   \n",
       "1  OffersScreenAppear  3799109751993694887  1564536064       248   \n",
       "2            Tutorial  1126021718529336913  1564536731       247   \n",
       "3    MainScreenAppear  4293428370257583636  1564539558       248   \n",
       "4    MainScreenAppear  4567464647598975872  1564540410       247   \n",
       "\n",
       "             datetime       date  \n",
       "0 2019-07-31 01:11:46 2019-07-31  \n",
       "1 2019-07-31 01:21:04 2019-07-31  \n",
       "2 2019-07-31 01:32:11 2019-07-31  \n",
       "3 2019-07-31 02:19:18 2019-07-31  \n",
       "4 2019-07-31 02:33:30 2019-07-31  "
      ]
     },
     "execution_count": 18,
     "metadata": {},
     "output_type": "execute_result"
    }
   ],
   "source": [
    "data_active = data.query('date > \"2019-07-30\"').reset_index(drop=True)\n",
    "data_active.head(5)"
   ]
  },
  {
   "cell_type": "code",
   "execution_count": 19,
   "metadata": {},
   "outputs": [
    {
     "name": "stdout",
     "output_type": "stream",
     "text": [
      "Потеря в пользователях: 0.1 %\n",
      "Потеря в событиях: 0.3 %\n"
     ]
    }
   ],
   "source": [
    "\n",
    "print('Потеря в пользователях:', round((data['user_id'].nunique() - data_active['user_id'].nunique()) / data['user_id'].nunique(), 3) * 100, '%')\n",
    "\n",
    "print('Потеря в событиях:', round((data['event_name'].count() - data_active['event_name'].count()) / data['event_name'].count(), 3) *100, '%')\n",
    "\n",
    "\n"
   ]
  },
  {
   "cell_type": "code",
   "execution_count": 20,
   "metadata": {},
   "outputs": [
    {
     "data": {
      "text/plain": [
       "group_id\n",
       "246    2485\n",
       "247    2517\n",
       "248    2540\n",
       "Name: user_id, dtype: int64"
      ]
     },
     "execution_count": 20,
     "metadata": {},
     "output_type": "execute_result"
    }
   ],
   "source": [
    "data_active.groupby('group_id')['user_id'].nunique()"
   ]
  },
  {
   "cell_type": "markdown",
   "metadata": {},
   "source": [
    "Мы потеряли совершенно незначительное кол-во данных, и все пользователи из групп A, A и B на месте."
   ]
  },
  {
   "cell_type": "markdown",
   "metadata": {},
   "source": [
    "## Изучение воронки событий"
   ]
  },
  {
   "cell_type": "markdown",
   "metadata": {},
   "source": [
    "Посмотрим какие события встречаются чаще всего:"
   ]
  },
  {
   "cell_type": "code",
   "execution_count": 21,
   "metadata": {},
   "outputs": [
    {
     "data": {
      "text/plain": [
       "MainScreenAppear           119101\n",
       "OffersScreenAppear          46808\n",
       "CartScreenAppear            42668\n",
       "PaymentScreenSuccessful     34118\n",
       "Tutorial                     1018\n",
       "Name: event_name, dtype: int64"
      ]
     },
     "execution_count": 21,
     "metadata": {},
     "output_type": "execute_result"
    }
   ],
   "source": [
    "data['event_name'].value_counts()"
   ]
  },
  {
   "cell_type": "code",
   "execution_count": 22,
   "metadata": {},
   "outputs": [
    {
     "data": {
      "text/html": [
       "<div>\n",
       "<style scoped>\n",
       "    .dataframe tbody tr th:only-of-type {\n",
       "        vertical-align: middle;\n",
       "    }\n",
       "\n",
       "    .dataframe tbody tr th {\n",
       "        vertical-align: top;\n",
       "    }\n",
       "\n",
       "    .dataframe thead th {\n",
       "        text-align: right;\n",
       "    }\n",
       "</style>\n",
       "<table border=\"1\" class=\"dataframe\">\n",
       "  <thead>\n",
       "    <tr style=\"text-align: right;\">\n",
       "      <th></th>\n",
       "      <th>event_name</th>\n",
       "      <th>user_id</th>\n",
       "    </tr>\n",
       "  </thead>\n",
       "  <tbody>\n",
       "    <tr>\n",
       "      <th>1</th>\n",
       "      <td>MainScreenAppear</td>\n",
       "      <td>119101</td>\n",
       "    </tr>\n",
       "    <tr>\n",
       "      <th>2</th>\n",
       "      <td>OffersScreenAppear</td>\n",
       "      <td>46808</td>\n",
       "    </tr>\n",
       "    <tr>\n",
       "      <th>0</th>\n",
       "      <td>CartScreenAppear</td>\n",
       "      <td>42668</td>\n",
       "    </tr>\n",
       "    <tr>\n",
       "      <th>3</th>\n",
       "      <td>PaymentScreenSuccessful</td>\n",
       "      <td>34118</td>\n",
       "    </tr>\n",
       "  </tbody>\n",
       "</table>\n",
       "</div>"
      ],
      "text/plain": [
       "                event_name  user_id\n",
       "1         MainScreenAppear   119101\n",
       "2       OffersScreenAppear    46808\n",
       "0         CartScreenAppear    42668\n",
       "3  PaymentScreenSuccessful    34118"
      ]
     },
     "execution_count": 22,
     "metadata": {},
     "output_type": "execute_result"
    }
   ],
   "source": [
    "data_events = data.groupby('event_name').agg({'user_id':'count'}).reset_index()\n",
    "data_events = data_events.query('event_name != \"Tutorial\"')\n",
    "data_events.sort_values(by='user_id', ascending=False)"
   ]
  },
  {
   "cell_type": "markdown",
   "metadata": {},
   "source": [
    "Мы уже предположили, что названия событий переводятся так:\n",
    "<br>\n",
    "'MainScreenAppear' — \"Главвный экран\"\n",
    "<br>\n",
    "'PaymentScreenSuccessful' — \"Оплата совешена\"\n",
    "<br>\n",
    "'CartScreenAppear' — \"Окно Корзины\"\n",
    "<br>\n",
    "'OffersScreenAppear' — \"Рекомендации\"\n",
    "<br>\n",
    "'Tutorial' — \"Руководство\"\n",
    "<br>\n",
    "<br>\n",
    "Последовательность такая: \"Руководство\", \"Главвный экран\", \"Рекомендации\", \"Окно Корзины\", \"Оплата совершена\". \"Руководство\" вряд ли стоит учитывать при расчете воронки, а этап 'MainScreenAppear' становится самым популярным."
   ]
  },
  {
   "cell_type": "code",
   "execution_count": 23,
   "metadata": {
    "scrolled": false
   },
   "outputs": [
    {
     "data": {
      "image/png": "[encoded data removed]"
     },
     "metadata": {},
     "output_type": "display_data"
    }
   ],
   "source": [
    "colors = ['#B3D7E6', '#72B5CF', '#3D91B3', '#2B677D', '#124B63']\n",
    "\n",
    "fig = go.Figure(data=[go.Pie(labels=data['event_name'].value_counts().index, marker=dict(colors=colors), values=data['event_name'].value_counts(), textinfo='label+percent', title='Частота событий')])\n",
    "\n",
    "fig.update_traces(textposition='inside')\n",
    "fig.update_layout(uniformtext_minsize=14, uniformtext_mode='hide', margin=dict(l=0, r=0, b=0, t=0))\n",
    "fig.show('png')\n"
   ]
  },
  {
   "cell_type": "markdown",
   "metadata": {},
   "source": [
    "Посчитаем сколько пользователей совершали каждое из этих событий, а также долю пользователей, которые хоть раз совершали какое-либо событие:"
   ]
  },
  {
   "cell_type": "code",
   "execution_count": 24,
   "metadata": {},
   "outputs": [
    {
     "data": {
      "text/html": [
       "<div>\n",
       "<style scoped>\n",
       "    .dataframe tbody tr th:only-of-type {\n",
       "        vertical-align: middle;\n",
       "    }\n",
       "\n",
       "    .dataframe tbody tr th {\n",
       "        vertical-align: top;\n",
       "    }\n",
       "\n",
       "    .dataframe thead th {\n",
       "        text-align: right;\n",
       "    }\n",
       "</style>\n",
       "<table border=\"1\" class=\"dataframe\">\n",
       "  <thead>\n",
       "    <tr style=\"text-align: right;\">\n",
       "      <th></th>\n",
       "      <th>event_name</th>\n",
       "      <th>events</th>\n",
       "      <th>unique_users</th>\n",
       "      <th>share</th>\n",
       "    </tr>\n",
       "  </thead>\n",
       "  <tbody>\n",
       "    <tr>\n",
       "      <th>0</th>\n",
       "      <td>MainScreenAppear</td>\n",
       "      <td>118578</td>\n",
       "      <td>7429</td>\n",
       "      <td>99.0</td>\n",
       "    </tr>\n",
       "    <tr>\n",
       "      <th>1</th>\n",
       "      <td>OffersScreenAppear</td>\n",
       "      <td>46707</td>\n",
       "      <td>4606</td>\n",
       "      <td>61.0</td>\n",
       "    </tr>\n",
       "    <tr>\n",
       "      <th>2</th>\n",
       "      <td>CartScreenAppear</td>\n",
       "      <td>42560</td>\n",
       "      <td>3742</td>\n",
       "      <td>50.0</td>\n",
       "    </tr>\n",
       "    <tr>\n",
       "      <th>3</th>\n",
       "      <td>PaymentScreenSuccessful</td>\n",
       "      <td>34058</td>\n",
       "      <td>3542</td>\n",
       "      <td>47.0</td>\n",
       "    </tr>\n",
       "  </tbody>\n",
       "</table>\n",
       "</div>"
      ],
      "text/plain": [
       "                event_name  events  unique_users  share\n",
       "0         MainScreenAppear  118578          7429   99.0\n",
       "1       OffersScreenAppear   46707          4606   61.0\n",
       "2         CartScreenAppear   42560          3742   50.0\n",
       "3  PaymentScreenSuccessful   34058          3542   47.0"
      ]
     },
     "execution_count": 24,
     "metadata": {},
     "output_type": "execute_result"
    }
   ],
   "source": [
    "users_event = data_active.groupby('event_name').agg({'event_name':'count', 'user_id':'nunique'}).sort_values(by='user_id', ascending=False)\n",
    "users_event.columns = ['events', 'unique_users']\n",
    "users_event = users_event.reset_index()\n",
    "\n",
    "users_event['share'] = round((users_event['unique_users'] / data_active['user_id'].nunique()) * 100)\n",
    "users_event = users_event.query('event_name != \"Tutorial\"')\n",
    "\n",
    "users_event"
   ]
  },
  {
   "cell_type": "markdown",
   "metadata": {},
   "source": [
    "Построим воронку:"
   ]
  },
  {
   "cell_type": "code",
   "execution_count": 25,
   "metadata": {
    "scrolled": false
   },
   "outputs": [
    {
     "data": {
      "image/png": "[encoded data removed]"
     },
     "metadata": {},
     "output_type": "display_data"
    }
   ],
   "source": [
    "fig = go.Figure(go.Funnel(x=users_event['unique_users'], y=users_event['event_name'], textinfo=\"value+percent initial+percent previous\", marker={\"color\": ['#B3D7E6', '#72B5CF', '#3D91B3', '#2B677D', '#124B63']}))\n",
    "\n",
    "fig.update_layout(title='Воронка продаж', margin=dict(l=0, r=0, t=50, b=0))\n",
    "\n",
    "fig.show('png')\n"
   ]
  },
  {
   "cell_type": "markdown",
   "metadata": {},
   "source": [
    "Итак, воронка выглядит неплохо: 48% пользователей, в итоге, оплачивают товар, причем почти всем нравятся предложенные товары и с оплатой проблем не возникает. Но до предложенных товаров доходят далеко не все — только 62% пользователей. Потеря в 40% уже на первом этапе воронки (\"Главный экран\") сведетельствует о серьезной проблеме в приложении. Раздел с руководством о том как пользоваться приложением, скорее всего, просто пролистывают, и в воронке продаж этот этап не учавствует."
   ]
  },
  {
   "cell_type": "markdown",
   "metadata": {},
   "source": [
    "## Изучение результатов эксперимента"
   ]
  },
  {
   "cell_type": "markdown",
   "metadata": {},
   "source": [
    "Еще раз посмотрим на количество пользователей в каждой группе:"
   ]
  },
  {
   "cell_type": "code",
   "execution_count": 26,
   "metadata": {},
   "outputs": [
    {
     "data": {
      "text/plain": [
       "group_id\n",
       "246        2485\n",
       "247        2517\n",
       "248        2540\n",
       "246+247    5002\n",
       "Name: user_id, dtype: int64"
      ]
     },
     "execution_count": 26,
     "metadata": {},
     "output_type": "execute_result"
    }
   ],
   "source": [
    "data_groups = data_active.groupby('group_id')['user_id'].nunique()\n",
    "data_groups['246+247'] = data_groups[246] + data_groups[247]\n",
    "data_groups"
   ]
  },
  {
   "cell_type": "code",
   "execution_count": 27,
   "metadata": {},
   "outputs": [
    {
     "data": {
      "text/html": [
       "<div>\n",
       "<style scoped>\n",
       "    .dataframe tbody tr th:only-of-type {\n",
       "        vertical-align: middle;\n",
       "    }\n",
       "\n",
       "    .dataframe tbody tr th {\n",
       "        vertical-align: top;\n",
       "    }\n",
       "\n",
       "    .dataframe thead th {\n",
       "        text-align: right;\n",
       "    }\n",
       "</style>\n",
       "<table border=\"1\" class=\"dataframe\">\n",
       "  <thead>\n",
       "    <tr style=\"text-align: right;\">\n",
       "      <th>group_id</th>\n",
       "      <th>event_name</th>\n",
       "      <th>246</th>\n",
       "      <th>247</th>\n",
       "      <th>248</th>\n",
       "      <th>246+247</th>\n",
       "      <th>share_246</th>\n",
       "      <th>share_247</th>\n",
       "      <th>share_248</th>\n",
       "      <th>share_246+247</th>\n",
       "    </tr>\n",
       "  </thead>\n",
       "  <tbody>\n",
       "    <tr>\n",
       "      <th>0</th>\n",
       "      <td>CartScreenAppear</td>\n",
       "      <td>1267</td>\n",
       "      <td>1239</td>\n",
       "      <td>1236</td>\n",
       "      <td>2506</td>\n",
       "      <td>51.0</td>\n",
       "      <td>49.0</td>\n",
       "      <td>49.0</td>\n",
       "      <td>50.0</td>\n",
       "    </tr>\n",
       "    <tr>\n",
       "      <th>1</th>\n",
       "      <td>MainScreenAppear</td>\n",
       "      <td>2452</td>\n",
       "      <td>2479</td>\n",
       "      <td>2498</td>\n",
       "      <td>4931</td>\n",
       "      <td>99.0</td>\n",
       "      <td>98.0</td>\n",
       "      <td>98.0</td>\n",
       "      <td>99.0</td>\n",
       "    </tr>\n",
       "    <tr>\n",
       "      <th>2</th>\n",
       "      <td>OffersScreenAppear</td>\n",
       "      <td>1544</td>\n",
       "      <td>1526</td>\n",
       "      <td>1536</td>\n",
       "      <td>3070</td>\n",
       "      <td>62.0</td>\n",
       "      <td>61.0</td>\n",
       "      <td>60.0</td>\n",
       "      <td>61.0</td>\n",
       "    </tr>\n",
       "    <tr>\n",
       "      <th>3</th>\n",
       "      <td>PaymentScreenSuccessful</td>\n",
       "      <td>1200</td>\n",
       "      <td>1159</td>\n",
       "      <td>1183</td>\n",
       "      <td>2359</td>\n",
       "      <td>48.0</td>\n",
       "      <td>46.0</td>\n",
       "      <td>47.0</td>\n",
       "      <td>47.0</td>\n",
       "    </tr>\n",
       "  </tbody>\n",
       "</table>\n",
       "</div>"
      ],
      "text/plain": [
       "group_id               event_name   246   247   248  246+247  share_246  \\\n",
       "0                CartScreenAppear  1267  1239  1236     2506       51.0   \n",
       "1                MainScreenAppear  2452  2479  2498     4931       99.0   \n",
       "2              OffersScreenAppear  1544  1526  1536     3070       62.0   \n",
       "3         PaymentScreenSuccessful  1200  1159  1183     2359       48.0   \n",
       "\n",
       "group_id  share_247  share_248  share_246+247  \n",
       "0              49.0       49.0           50.0  \n",
       "1              98.0       98.0           99.0  \n",
       "2              61.0       60.0           61.0  \n",
       "3              46.0       47.0           47.0  "
      ]
     },
     "execution_count": 27,
     "metadata": {},
     "output_type": "execute_result"
    }
   ],
   "source": [
    "data_groups_events = data_active.pivot_table(index='event_name', columns='group_id', values='user_id', aggfunc='nunique')\n",
    "data_groups_events = data_groups_events.reset_index()\n",
    "\n",
    "data_groups_events['246+247'] = data_groups_events[246] + data_groups_events[247]\n",
    "data_groups_events['share_246'] = round((data_groups_events[246] / data_groups[246]) * 100)\n",
    "data_groups_events['share_247'] = round((data_groups_events[247] / data_groups[247]) * 100)\n",
    "data_groups_events['share_248'] = round((data_groups_events[248] / data_groups[248]) * 100)\n",
    "data_groups_events['share_246+247'] = round(((data_groups_events[246] + data_groups_events[247]) / (data_groups[246] + data_groups[247])) * 100)\n",
    "data_groups_events = data_groups_events.query('event_name != \"Tutorial\"')\n",
    "\n",
    "data_groups_events"
   ]
  },
  {
   "cell_type": "markdown",
   "metadata": {},
   "source": [
    "Прведем z-тест для сравнения долей наших групп по всем событиям: 246, 247 и 248. \n",
    "<br>\n",
    "Сформулируем гипотезы:\n",
    "<br>\n",
    "H0 - \"Группы равны\"\n",
    "<br>\n",
    "H1 - \"Группы не равны\"\n",
    " "
   ]
  },
  {
   "cell_type": "code",
   "execution_count": 28,
   "metadata": {},
   "outputs": [],
   "source": [
    "# Напишем функцию:\n",
    "alpha = 0.05\n",
    "alpha_bonferroni = 0.05 / 16\n",
    "\n",
    "def z_test(group_1, group_2, alpha):\n",
    "    for i in data_groups_events.index:\n",
    "        p1 = data_groups_events[group_1][i] / data_groups[group_1]\n",
    "        p2 = data_groups_events[group_2][i] / data_groups[group_2]\n",
    "        \n",
    "        p_combined = ((data_groups_events[group_1][i] + data_groups_events[group_2][i]) / (data_groups[group_1] + data_groups[group_2]))\n",
    "        difference = p1 - p2\n",
    "\n",
    "        z_value = difference / mth.sqrt(p_combined * (1 - p_combined) * (1/data_groups[group_1] + 1/data_groups[group_2]))\n",
    "\n",
    "        distr = st.norm(0, 1) \n",
    "        \n",
    "        p_value = round((1 - distr.cdf(abs(z_value))) * 2, 2)\n",
    "        \n",
    "        print('{} p-значение: {}'.format(data_groups_events['event_name'][i], p_value))\n",
    "        if (p_value < alpha):\n",
    "            print(\"Отвергаем нулевую гипотезу: между долями есть значимая разница\")\n",
    "        else:\n",
    "            print(\"Не получилось отвергнуть нулевую гипотезу, нет оснований считать доли разными\")\n",
    "            print('')\n"
   ]
  },
  {
   "cell_type": "code",
   "execution_count": 29,
   "metadata": {},
   "outputs": [
    {
     "name": "stdout",
     "output_type": "stream",
     "text": [
      "CartScreenAppear p-значение: 0.21\n",
      "Не получилось отвергнуть нулевую гипотезу, нет оснований считать доли разными\n",
      "\n",
      "MainScreenAppear p-значение: 0.59\n",
      "Не получилось отвергнуть нулевую гипотезу, нет оснований считать доли разными\n",
      "\n",
      "OffersScreenAppear p-значение: 0.27\n",
      "Не получилось отвергнуть нулевую гипотезу, нет оснований считать доли разными\n",
      "\n",
      "PaymentScreenSuccessful p-значение: 0.11\n",
      "Не получилось отвергнуть нулевую гипотезу, нет оснований считать доли разными\n",
      "\n"
     ]
    }
   ],
   "source": [
    "# 246 и 247:\n",
    "z_test(246, 247, alpha_bonferroni)"
   ]
  },
  {
   "cell_type": "markdown",
   "metadata": {},
   "source": [
    "Группы 246 и 247 — это наши 2 контрольные группы для А/А-эксперимента выше. Как видим, разницы между контрольными группами нет, они разделены корректно."
   ]
  },
  {
   "cell_type": "code",
   "execution_count": 30,
   "metadata": {},
   "outputs": [
    {
     "name": "stdout",
     "output_type": "stream",
     "text": [
      "CartScreenAppear p-значение: 0.1\n",
      "Не получилось отвергнуть нулевую гипотезу, нет оснований считать доли разными\n",
      "\n",
      "MainScreenAppear p-значение: 0.34\n",
      "Не получилось отвергнуть нулевую гипотезу, нет оснований считать доли разными\n",
      "\n",
      "OffersScreenAppear p-значение: 0.23\n",
      "Не получилось отвергнуть нулевую гипотезу, нет оснований считать доли разными\n",
      "\n",
      "PaymentScreenSuccessful p-значение: 0.22\n",
      "Не получилось отвергнуть нулевую гипотезу, нет оснований считать доли разными\n",
      "\n"
     ]
    }
   ],
   "source": [
    "# 246 и 248:\n",
    "z_test(246, 248, alpha_bonferroni)"
   ]
  },
  {
   "cell_type": "markdown",
   "metadata": {},
   "source": [
    "Группа 248 — это наша группа с измененным шрифтом. Z-тест не выявил разницу между контрольной группой и эксперементальной."
   ]
  },
  {
   "cell_type": "code",
   "execution_count": 31,
   "metadata": {},
   "outputs": [
    {
     "name": "stdout",
     "output_type": "stream",
     "text": [
      "CartScreenAppear p-значение: 0.69\n",
      "Не получилось отвергнуть нулевую гипотезу, нет оснований считать доли разными\n",
      "\n",
      "MainScreenAppear p-значение: 0.68\n",
      "Не получилось отвергнуть нулевую гипотезу, нет оснований считать доли разными\n",
      "\n",
      "OffersScreenAppear p-значение: 0.91\n",
      "Не получилось отвергнуть нулевую гипотезу, нет оснований считать доли разными\n",
      "\n",
      "PaymentScreenSuccessful p-значение: 0.71\n",
      "Не получилось отвергнуть нулевую гипотезу, нет оснований считать доли разными\n",
      "\n"
     ]
    }
   ],
   "source": [
    "# 247 и 248:\n",
    "z_test(247, 248, alpha_bonferroni)"
   ]
  },
  {
   "cell_type": "markdown",
   "metadata": {},
   "source": [
    "Как и ожидалось, разницы нет и между второй контрольной группой и эксперементальной."
   ]
  },
  {
   "cell_type": "code",
   "execution_count": 32,
   "metadata": {},
   "outputs": [
    {
     "name": "stdout",
     "output_type": "stream",
     "text": [
      "CartScreenAppear p-значение: 0.24\n",
      "Не получилось отвергнуть нулевую гипотезу, нет оснований считать доли разными\n",
      "\n",
      "MainScreenAppear p-значение: 0.43\n",
      "Не получилось отвергнуть нулевую гипотезу, нет оснований считать доли разными\n",
      "\n",
      "OffersScreenAppear p-значение: 0.45\n",
      "Не получилось отвергнуть нулевую гипотезу, нет оснований считать доли разными\n",
      "\n",
      "PaymentScreenSuccessful p-значение: 0.63\n",
      "Не получилось отвергнуть нулевую гипотезу, нет оснований считать доли разными\n",
      "\n"
     ]
    }
   ],
   "source": [
    "# 246 + 247 и 248:\n",
    "z_test('246+247', 248, alpha_bonferroni)"
   ]
  },
  {
   "cell_type": "markdown",
   "metadata": {},
   "source": [
    "Такие же выводы и с объединённой контрольной группой."
   ]
  },
  {
   "cell_type": "markdown",
   "metadata": {},
   "source": [
    "Итак, для всех групп и по всем событиям разница выборок не значительна при параметре alpha = 0.05. Применив поправку Бонферонни дабы избежать ошибки первого рода (получить значимые различия там, где их нет), мы уменьшили значение alpha пропорционально числу проверяемых гипотез (16). Мы получили такие же выводы, и тем самым еще раз подтвердили прежний результат."
   ]
  },
  {
   "cell_type": "markdown",
   "metadata": {},
   "source": [
    "## Общий вывод"
   ]
  },
  {
   "cell_type": "markdown",
   "metadata": {},
   "source": [
    "Анализ данных о продажах в приложении мы начали с предобработки: избавились от дубликатов, переименовали столбцы, добавили дополнительные столбцы с временем и датой, — на их основе был проанализирован период, за который были собраны данные.\n",
    "<br>\n",
    "<br>\n",
    "Мы пришли к следующим выводам:\n",
    "   - мы обладаем данными за 2 недели (25 июля - 7 августа 2019), но, при более подробном рассмотрении, гистограмма показала, что до конца июля в приложении практически не происходит активности — она начинаются только с 31 июля;\n",
    "   - отбросив первую \"пассивную\" неделю, мы обнаружили, что потеряли совершенно незначительное кол-во данных, и все пользователи из групп 246, 247 и 248 на месте;\n",
    "   - самое часто встречающееся событие 'MainScreenAppear' — \"Главный экран\";\n",
    "   - построив воронку продаж по этапам, мы увидели, что 48% пользователей, в итоге, оплачивают товар, причем почти всем нравятся предложенные товары и с оплатой проблем не возникает, но до предложенных товаров доходят далеко не все — только 62% пользователей;\n",
    "   - потеря в 40% уже на первом этапе воронки (\"Главный экран\") сведетельствует о серьезной проблеме в приложении.\n",
    " \n",
    "<br>\n",
    "Нами также был проведен z-тест чтобы узнать есть ли разница в пропорциях наших групп и является ли она статистически значимой. Мы сравнивали и контрольные группы 246 и 247 между собой (А/А-тест), и каждую из контрольный групп с эксперементальной 248 по всем этапам воронки. Произведенные расчеты демонстрируют, что разница между группами не значительна, на пользователей из эксперементальной группы с новым шрифтом не повлияли изменения в той степени, чтобы продажи упали или, наоборот, улучшились. Дополнительно, при построении воронки, был обнаружен большой отток пользователей после этапа просмотра главной страницы — 40% пользователей \"отвалились\". Рекомендуется передать эту информацию разработчикам, — возможно, дело в интерфейсе.\n"
   ]
  }
 ],
 "metadata": {
  "ExecuteTimeLog": [
   {
    "duration": 1611,
    "start_time": "2022-07-29T08:31:58.999Z"
   },
   {
    "duration": 696,
    "start_time": "2022-07-29T08:32:01.205Z"
   },
   {
    "duration": 9,
    "start_time": "2022-07-29T08:43:11.119Z"
   },
   {
    "duration": 1398,
    "start_time": "2022-07-29T08:43:32.922Z"
   },
   {
    "duration": 18,
    "start_time": "2022-07-29T08:43:47.774Z"
   },
   {
    "duration": 21,
    "start_time": "2022-07-29T08:45:09.624Z"
   },
   {
    "duration": 1453,
    "start_time": "2022-07-29T10:45:43.143Z"
   },
   {
    "duration": 655,
    "start_time": "2022-07-29T10:45:44.597Z"
   },
   {
    "duration": 25,
    "start_time": "2022-07-29T10:45:45.255Z"
   },
   {
    "duration": 34,
    "start_time": "2022-07-29T10:45:45.290Z"
   },
   {
    "duration": 207,
    "start_time": "2022-07-29T10:46:15.489Z"
   },
   {
    "duration": 199,
    "start_time": "2022-07-29T10:46:24.187Z"
   },
   {
    "duration": 1652,
    "start_time": "2022-07-29T10:46:44.766Z"
   },
   {
    "duration": 1329,
    "start_time": "2022-07-29T10:46:55.039Z"
   },
   {
    "duration": 247,
    "start_time": "2022-07-29T10:46:56.373Z"
   },
   {
    "duration": 9,
    "start_time": "2022-07-29T10:46:56.622Z"
   },
   {
    "duration": 61,
    "start_time": "2022-07-29T10:46:56.633Z"
   },
   {
    "duration": 19,
    "start_time": "2022-07-29T10:47:15.291Z"
   },
   {
    "duration": 95,
    "start_time": "2022-07-29T10:51:43.443Z"
   },
   {
    "duration": 200,
    "start_time": "2022-07-29T10:52:23.749Z"
   },
   {
    "duration": 170,
    "start_time": "2022-07-29T10:52:32.548Z"
   },
   {
    "duration": 137,
    "start_time": "2022-07-29T10:52:39.685Z"
   },
   {
    "duration": 163,
    "start_time": "2022-07-29T10:52:45.955Z"
   },
   {
    "duration": 155,
    "start_time": "2022-07-29T10:52:51.550Z"
   },
   {
    "duration": 101,
    "start_time": "2022-07-29T10:56:32.089Z"
   },
   {
    "duration": 242,
    "start_time": "2022-07-29T10:57:49.244Z"
   },
   {
    "duration": 188,
    "start_time": "2022-07-29T10:58:15.041Z"
   },
   {
    "duration": 116,
    "start_time": "2022-07-29T11:01:15.492Z"
   },
   {
    "duration": 15,
    "start_time": "2022-07-29T11:03:44.393Z"
   },
   {
    "duration": 16,
    "start_time": "2022-07-29T11:04:45.880Z"
   },
   {
    "duration": 360,
    "start_time": "2022-07-29T11:05:25.942Z"
   },
   {
    "duration": 451,
    "start_time": "2022-07-29T11:05:36.544Z"
   },
   {
    "duration": 149,
    "start_time": "2022-07-29T11:05:43.564Z"
   },
   {
    "duration": 832,
    "start_time": "2022-07-29T11:06:50.948Z"
   },
   {
    "duration": 19,
    "start_time": "2022-07-29T11:07:08.345Z"
   },
   {
    "duration": 1324,
    "start_time": "2022-07-29T11:11:12.785Z"
   },
   {
    "duration": 190,
    "start_time": "2022-07-29T11:11:14.110Z"
   },
   {
    "duration": 20,
    "start_time": "2022-07-29T11:11:14.302Z"
   },
   {
    "duration": 9,
    "start_time": "2022-07-29T11:11:14.324Z"
   },
   {
    "duration": 178,
    "start_time": "2022-07-29T11:11:14.335Z"
   },
   {
    "duration": 14,
    "start_time": "2022-07-29T11:11:14.515Z"
   },
   {
    "duration": 101,
    "start_time": "2022-07-29T11:11:14.531Z"
   },
   {
    "duration": 139,
    "start_time": "2022-07-29T11:11:14.634Z"
   },
   {
    "duration": 107,
    "start_time": "2022-07-29T11:33:43.943Z"
   },
   {
    "duration": 22,
    "start_time": "2022-07-29T11:34:15.858Z"
   },
   {
    "duration": 8,
    "start_time": "2022-07-29T11:34:35.051Z"
   },
   {
    "duration": 25,
    "start_time": "2022-07-29T11:36:31.143Z"
   },
   {
    "duration": 7,
    "start_time": "2022-07-29T11:37:10.648Z"
   },
   {
    "duration": 17,
    "start_time": "2022-07-29T11:42:12.047Z"
   },
   {
    "duration": 18,
    "start_time": "2022-07-29T11:42:43.282Z"
   },
   {
    "duration": 7,
    "start_time": "2022-07-29T11:52:47.810Z"
   },
   {
    "duration": 7,
    "start_time": "2022-07-29T11:53:45.658Z"
   },
   {
    "duration": 274,
    "start_time": "2022-07-29T11:54:13.946Z"
   },
   {
    "duration": 257,
    "start_time": "2022-07-29T11:54:28.247Z"
   },
   {
    "duration": 370,
    "start_time": "2022-07-29T11:54:33.512Z"
   },
   {
    "duration": 678,
    "start_time": "2022-07-29T11:54:40.855Z"
   },
   {
    "duration": 48,
    "start_time": "2022-07-29T11:56:16.040Z"
   },
   {
    "duration": 561,
    "start_time": "2022-07-29T11:56:20.653Z"
   },
   {
    "duration": 546,
    "start_time": "2022-07-29T11:56:31.420Z"
   },
   {
    "duration": 706,
    "start_time": "2022-07-29T11:57:04.259Z"
   },
   {
    "duration": 126,
    "start_time": "2022-07-29T11:59:11.670Z"
   },
   {
    "duration": 613,
    "start_time": "2022-07-29T11:59:57.186Z"
   },
   {
    "duration": 572,
    "start_time": "2022-07-29T12:02:57.876Z"
   },
   {
    "duration": 820,
    "start_time": "2022-07-29T12:03:09.864Z"
   },
   {
    "duration": 569,
    "start_time": "2022-07-29T12:03:58.399Z"
   },
   {
    "duration": 278,
    "start_time": "2022-07-29T12:04:13.107Z"
   },
   {
    "duration": 333,
    "start_time": "2022-07-29T12:04:24.864Z"
   },
   {
    "duration": 512,
    "start_time": "2022-07-29T12:04:30.665Z"
   },
   {
    "duration": 540,
    "start_time": "2022-07-29T12:04:37.176Z"
   },
   {
    "duration": 544,
    "start_time": "2022-07-29T12:10:19.569Z"
   },
   {
    "duration": 716,
    "start_time": "2022-07-29T12:11:40.888Z"
   },
   {
    "duration": 1674,
    "start_time": "2022-07-29T12:13:10.770Z"
   },
   {
    "duration": 1669,
    "start_time": "2022-07-29T12:13:25.469Z"
   },
   {
    "duration": 350,
    "start_time": "2022-07-29T12:13:48.284Z"
   },
   {
    "duration": 724,
    "start_time": "2022-07-29T12:13:53.785Z"
   },
   {
    "duration": 699,
    "start_time": "2022-07-29T12:14:20.659Z"
   },
   {
    "duration": 844,
    "start_time": "2022-07-29T12:14:35.057Z"
   },
   {
    "duration": 719,
    "start_time": "2022-07-29T12:14:54.961Z"
   },
   {
    "duration": 456,
    "start_time": "2022-07-29T12:16:52.559Z"
   },
   {
    "duration": 654,
    "start_time": "2022-07-29T12:17:12.454Z"
   },
   {
    "duration": 688,
    "start_time": "2022-07-29T12:18:44.945Z"
   },
   {
    "duration": 859,
    "start_time": "2022-07-29T12:19:18.200Z"
   },
   {
    "duration": 16,
    "start_time": "2022-07-29T12:20:19.230Z"
   },
   {
    "duration": 15,
    "start_time": "2022-07-29T12:20:53.311Z"
   },
   {
    "duration": 696,
    "start_time": "2022-07-29T12:21:18.296Z"
   },
   {
    "duration": 809,
    "start_time": "2022-07-29T12:21:33.235Z"
   },
   {
    "duration": 642,
    "start_time": "2022-07-29T12:21:43.868Z"
   },
   {
    "duration": 732,
    "start_time": "2022-07-29T12:21:49.959Z"
   },
   {
    "duration": 918,
    "start_time": "2022-07-29T12:23:23.792Z"
   },
   {
    "duration": 17,
    "start_time": "2022-07-29T12:34:24.911Z"
   },
   {
    "duration": 16,
    "start_time": "2022-07-29T12:34:55.870Z"
   },
   {
    "duration": 10,
    "start_time": "2022-07-29T12:37:13.738Z"
   },
   {
    "duration": 71,
    "start_time": "2022-07-29T12:39:30.543Z"
   },
   {
    "duration": 106,
    "start_time": "2022-07-29T12:40:01.992Z"
   },
   {
    "duration": 27,
    "start_time": "2022-07-29T12:40:21.894Z"
   },
   {
    "duration": 26,
    "start_time": "2022-07-29T12:40:39.473Z"
   },
   {
    "duration": 24,
    "start_time": "2022-07-29T12:42:35.864Z"
   },
   {
    "duration": 64,
    "start_time": "2022-07-29T12:47:00.122Z"
   },
   {
    "duration": 39,
    "start_time": "2022-07-29T12:47:17.748Z"
   },
   {
    "duration": 27,
    "start_time": "2022-07-29T12:48:29.823Z"
   },
   {
    "duration": 34,
    "start_time": "2022-07-29T12:48:45.261Z"
   },
   {
    "duration": 39,
    "start_time": "2022-07-29T12:49:38.956Z"
   },
   {
    "duration": 47,
    "start_time": "2022-07-29T12:50:57.136Z"
   },
   {
    "duration": 37,
    "start_time": "2022-07-29T12:51:14.043Z"
   },
   {
    "duration": 18,
    "start_time": "2022-07-29T12:53:43.683Z"
   },
   {
    "duration": 27,
    "start_time": "2022-07-29T12:53:53.658Z"
   },
   {
    "duration": 50,
    "start_time": "2022-07-29T12:57:40.803Z"
   },
   {
    "duration": 76,
    "start_time": "2022-07-29T12:57:47.150Z"
   },
   {
    "duration": 43,
    "start_time": "2022-07-29T12:58:01.802Z"
   },
   {
    "duration": 71,
    "start_time": "2022-07-29T12:58:27.244Z"
   },
   {
    "duration": 46,
    "start_time": "2022-07-29T13:02:41.642Z"
   },
   {
    "duration": 19,
    "start_time": "2022-07-29T13:04:48.925Z"
   },
   {
    "duration": 128,
    "start_time": "2022-07-29T13:11:01.387Z"
   },
   {
    "duration": 3,
    "start_time": "2022-07-29T13:12:42.293Z"
   },
   {
    "duration": 43,
    "start_time": "2022-07-29T13:13:27.285Z"
   },
   {
    "duration": 44,
    "start_time": "2022-07-29T13:13:56.688Z"
   },
   {
    "duration": 57,
    "start_time": "2022-07-29T13:18:17.280Z"
   },
   {
    "duration": 77,
    "start_time": "2022-07-29T13:18:46.212Z"
   },
   {
    "duration": 51,
    "start_time": "2022-07-29T13:19:26.762Z"
   },
   {
    "duration": 56,
    "start_time": "2022-07-29T13:19:33.958Z"
   },
   {
    "duration": 6,
    "start_time": "2022-07-29T13:21:44.435Z"
   },
   {
    "duration": 31,
    "start_time": "2022-07-29T13:22:27.495Z"
   },
   {
    "duration": 15,
    "start_time": "2022-07-29T13:22:30.663Z"
   },
   {
    "duration": 2015,
    "start_time": "2022-07-29T18:50:01.784Z"
   },
   {
    "duration": 917,
    "start_time": "2022-07-29T18:50:03.802Z"
   },
   {
    "duration": 43,
    "start_time": "2022-07-29T18:50:04.721Z"
   },
   {
    "duration": 35,
    "start_time": "2022-07-29T18:50:04.768Z"
   },
   {
    "duration": 189,
    "start_time": "2022-07-29T18:50:04.805Z"
   },
   {
    "duration": 25,
    "start_time": "2022-07-29T18:50:04.997Z"
   },
   {
    "duration": 106,
    "start_time": "2022-07-29T18:50:05.024Z"
   },
   {
    "duration": 136,
    "start_time": "2022-07-29T18:50:05.132Z"
   },
   {
    "duration": 30,
    "start_time": "2022-07-29T18:50:05.273Z"
   },
   {
    "duration": 26,
    "start_time": "2022-07-29T18:50:05.304Z"
   },
   {
    "duration": 40,
    "start_time": "2022-07-29T18:50:05.331Z"
   },
   {
    "duration": 35,
    "start_time": "2022-07-29T18:50:05.373Z"
   },
   {
    "duration": 813,
    "start_time": "2022-07-29T18:50:05.410Z"
   },
   {
    "duration": 57,
    "start_time": "2022-07-29T18:50:06.226Z"
   },
   {
    "duration": 70,
    "start_time": "2022-07-29T18:50:06.290Z"
   },
   {
    "duration": 39,
    "start_time": "2022-07-29T18:50:06.362Z"
   },
   {
    "duration": 45,
    "start_time": "2022-07-29T18:50:45.264Z"
   },
   {
    "duration": 69,
    "start_time": "2022-07-29T18:50:54.692Z"
   },
   {
    "duration": 74,
    "start_time": "2022-07-29T18:51:15.719Z"
   },
   {
    "duration": 26,
    "start_time": "2022-07-29T18:53:03.472Z"
   },
   {
    "duration": 314,
    "start_time": "2022-07-29T18:59:29.492Z"
   },
   {
    "duration": 43,
    "start_time": "2022-07-29T19:04:21.184Z"
   },
   {
    "duration": 76,
    "start_time": "2022-07-29T19:08:14.195Z"
   },
   {
    "duration": 286,
    "start_time": "2022-07-29T19:08:37.008Z"
   },
   {
    "duration": 46,
    "start_time": "2022-07-29T19:08:51.277Z"
   },
   {
    "duration": 46,
    "start_time": "2022-07-29T19:09:10.253Z"
   },
   {
    "duration": 58,
    "start_time": "2022-07-29T19:09:21.412Z"
   },
   {
    "duration": 45,
    "start_time": "2022-07-29T19:09:28.386Z"
   },
   {
    "duration": 50,
    "start_time": "2022-07-29T19:09:35.058Z"
   },
   {
    "duration": 54,
    "start_time": "2022-07-29T19:09:41.718Z"
   },
   {
    "duration": 60,
    "start_time": "2022-07-29T19:09:51.429Z"
   },
   {
    "duration": 44,
    "start_time": "2022-07-29T19:10:03.871Z"
   },
   {
    "duration": 50,
    "start_time": "2022-07-29T19:10:46.302Z"
   },
   {
    "duration": 49,
    "start_time": "2022-07-29T19:10:51.246Z"
   },
   {
    "duration": 48,
    "start_time": "2022-07-29T19:11:09.445Z"
   },
   {
    "duration": 771,
    "start_time": "2022-07-29T19:24:14.906Z"
   },
   {
    "duration": 49,
    "start_time": "2022-07-29T19:27:35.001Z"
   },
   {
    "duration": 66,
    "start_time": "2022-07-29T19:27:41.566Z"
   },
   {
    "duration": 49,
    "start_time": "2022-07-29T19:27:49.501Z"
   },
   {
    "duration": 780,
    "start_time": "2022-07-29T19:28:00.074Z"
   },
   {
    "duration": 1440,
    "start_time": "2022-07-30T07:31:46.985Z"
   },
   {
    "duration": 693,
    "start_time": "2022-07-30T07:31:48.427Z"
   },
   {
    "duration": 22,
    "start_time": "2022-07-30T07:31:49.122Z"
   },
   {
    "duration": 9,
    "start_time": "2022-07-30T07:31:49.147Z"
   },
   {
    "duration": 159,
    "start_time": "2022-07-30T07:31:49.158Z"
   },
   {
    "duration": 15,
    "start_time": "2022-07-30T07:31:49.319Z"
   },
   {
    "duration": 104,
    "start_time": "2022-07-30T07:31:49.336Z"
   },
   {
    "duration": 117,
    "start_time": "2022-07-30T07:31:49.442Z"
   },
   {
    "duration": 24,
    "start_time": "2022-07-30T07:31:49.560Z"
   },
   {
    "duration": 24,
    "start_time": "2022-07-30T07:31:49.587Z"
   },
   {
    "duration": 15,
    "start_time": "2022-07-30T07:31:49.613Z"
   },
   {
    "duration": 6,
    "start_time": "2022-07-30T07:31:49.630Z"
   },
   {
    "duration": 876,
    "start_time": "2022-07-30T07:31:49.638Z"
   },
   {
    "duration": 33,
    "start_time": "2022-07-30T07:31:50.516Z"
   },
   {
    "duration": 57,
    "start_time": "2022-07-30T07:31:50.552Z"
   },
   {
    "duration": 33,
    "start_time": "2022-07-30T07:31:50.610Z"
   },
   {
    "duration": 22,
    "start_time": "2022-07-30T07:31:50.645Z"
   },
   {
    "duration": 328,
    "start_time": "2022-07-30T07:31:50.669Z"
   },
   {
    "duration": 874,
    "start_time": "2022-07-30T07:31:50.999Z"
   },
   {
    "duration": 112,
    "start_time": "2022-07-30T07:38:42.469Z"
   },
   {
    "duration": 70,
    "start_time": "2022-07-30T07:39:16.358Z"
   },
   {
    "duration": 65,
    "start_time": "2022-07-30T07:44:40.655Z"
   },
   {
    "duration": 82,
    "start_time": "2022-07-30T07:46:39.402Z"
   },
   {
    "duration": 86,
    "start_time": "2022-07-30T07:47:15.342Z"
   },
   {
    "duration": 1409,
    "start_time": "2022-07-30T07:56:42.951Z"
   },
   {
    "duration": 1431,
    "start_time": "2022-07-30T07:57:34.055Z"
   },
   {
    "duration": 1220,
    "start_time": "2022-07-30T07:58:03.277Z"
   },
   {
    "duration": 1209,
    "start_time": "2022-07-30T07:58:25.567Z"
   },
   {
    "duration": 1293,
    "start_time": "2022-07-30T07:59:49.495Z"
   },
   {
    "duration": 362,
    "start_time": "2022-07-30T08:00:32.752Z"
   },
   {
    "duration": 77,
    "start_time": "2022-07-30T08:00:42.622Z"
   },
   {
    "duration": 74,
    "start_time": "2022-07-30T08:01:51.168Z"
   },
   {
    "duration": 13,
    "start_time": "2022-07-30T08:01:56.412Z"
   },
   {
    "duration": 15,
    "start_time": "2022-07-30T08:02:23.718Z"
   },
   {
    "duration": 75,
    "start_time": "2022-07-30T08:06:22.722Z"
   },
   {
    "duration": 114,
    "start_time": "2022-07-30T08:06:42.125Z"
   },
   {
    "duration": 39,
    "start_time": "2022-07-30T08:07:22.620Z"
   },
   {
    "duration": 17,
    "start_time": "2022-07-30T08:07:54.186Z"
   },
   {
    "duration": 13,
    "start_time": "2022-07-30T08:08:54.461Z"
   },
   {
    "duration": 14,
    "start_time": "2022-07-30T08:09:34.555Z"
   },
   {
    "duration": 83,
    "start_time": "2022-07-30T08:12:57.246Z"
   },
   {
    "duration": 15,
    "start_time": "2022-07-30T08:13:03.536Z"
   },
   {
    "duration": 15,
    "start_time": "2022-07-30T08:13:35.837Z"
   },
   {
    "duration": 13,
    "start_time": "2022-07-30T08:13:42.510Z"
   },
   {
    "duration": 15,
    "start_time": "2022-07-30T08:13:53.024Z"
   },
   {
    "duration": 71,
    "start_time": "2022-07-30T08:14:45.870Z"
   },
   {
    "duration": 14,
    "start_time": "2022-07-30T08:14:52.873Z"
   },
   {
    "duration": 34,
    "start_time": "2022-07-30T08:49:10.628Z"
   },
   {
    "duration": 2,
    "start_time": "2022-07-30T08:49:55.898Z"
   },
   {
    "duration": 2,
    "start_time": "2022-07-30T08:50:57.206Z"
   },
   {
    "duration": 30,
    "start_time": "2022-07-30T08:59:58.315Z"
   },
   {
    "duration": 30,
    "start_time": "2022-07-30T09:03:04.056Z"
   },
   {
    "duration": 33,
    "start_time": "2022-07-30T09:03:17.227Z"
   },
   {
    "duration": 70,
    "start_time": "2022-07-30T09:07:58.191Z"
   },
   {
    "duration": 990,
    "start_time": "2022-07-30T09:08:56.550Z"
   },
   {
    "duration": 1011,
    "start_time": "2022-07-30T09:09:00.841Z"
   },
   {
    "duration": 988,
    "start_time": "2022-07-30T09:10:15.429Z"
   },
   {
    "duration": 72,
    "start_time": "2022-07-30T09:10:28.333Z"
   },
   {
    "duration": 75,
    "start_time": "2022-07-30T09:11:07.772Z"
   },
   {
    "duration": 985,
    "start_time": "2022-07-30T09:11:13.680Z"
   },
   {
    "duration": 76,
    "start_time": "2022-07-30T09:11:45.906Z"
   },
   {
    "duration": 1247,
    "start_time": "2022-07-30T09:12:06.576Z"
   },
   {
    "duration": 1378,
    "start_time": "2022-07-30T09:13:14.939Z"
   },
   {
    "duration": 87,
    "start_time": "2022-07-30T09:13:55.338Z"
   },
   {
    "duration": 79,
    "start_time": "2022-07-30T09:14:01.676Z"
   },
   {
    "duration": 1321,
    "start_time": "2022-07-30T09:14:24.725Z"
   },
   {
    "duration": 71,
    "start_time": "2022-07-30T09:15:29.885Z"
   },
   {
    "duration": 1298,
    "start_time": "2022-07-30T09:17:42.877Z"
   },
   {
    "duration": 76,
    "start_time": "2022-07-30T09:21:00.929Z"
   },
   {
    "duration": 81,
    "start_time": "2022-07-30T09:22:54.629Z"
   },
   {
    "duration": 108,
    "start_time": "2022-07-30T09:23:16.702Z"
   },
   {
    "duration": 95,
    "start_time": "2022-07-30T09:24:57.742Z"
   },
   {
    "duration": 79,
    "start_time": "2022-07-30T09:26:53.290Z"
   },
   {
    "duration": 79,
    "start_time": "2022-07-30T09:29:32.814Z"
   },
   {
    "duration": 85,
    "start_time": "2022-07-30T09:30:09.338Z"
   },
   {
    "duration": 78,
    "start_time": "2022-07-30T09:32:38.872Z"
   },
   {
    "duration": 1192,
    "start_time": "2022-07-30T09:34:44.122Z"
   },
   {
    "duration": 178,
    "start_time": "2022-07-30T09:34:45.316Z"
   },
   {
    "duration": 22,
    "start_time": "2022-07-30T09:34:45.496Z"
   },
   {
    "duration": 8,
    "start_time": "2022-07-30T09:34:45.521Z"
   },
   {
    "duration": 156,
    "start_time": "2022-07-30T09:34:45.531Z"
   },
   {
    "duration": 17,
    "start_time": "2022-07-30T09:34:45.688Z"
   },
   {
    "duration": 75,
    "start_time": "2022-07-30T09:34:45.706Z"
   },
   {
    "duration": 112,
    "start_time": "2022-07-30T09:34:45.783Z"
   },
   {
    "duration": 20,
    "start_time": "2022-07-30T09:34:45.903Z"
   },
   {
    "duration": 10,
    "start_time": "2022-07-30T09:34:45.926Z"
   },
   {
    "duration": 14,
    "start_time": "2022-07-30T09:34:45.937Z"
   },
   {
    "duration": 5,
    "start_time": "2022-07-30T09:34:45.952Z"
   },
   {
    "duration": 928,
    "start_time": "2022-07-30T09:34:45.959Z"
   },
   {
    "duration": 40,
    "start_time": "2022-07-30T09:34:46.889Z"
   },
   {
    "duration": 34,
    "start_time": "2022-07-30T09:34:46.931Z"
   },
   {
    "duration": 48,
    "start_time": "2022-07-30T09:34:46.967Z"
   },
   {
    "duration": 19,
    "start_time": "2022-07-30T09:34:47.017Z"
   },
   {
    "duration": 267,
    "start_time": "2022-07-30T09:34:47.038Z"
   },
   {
    "duration": 130,
    "start_time": "2022-07-30T09:34:47.306Z"
   },
   {
    "duration": 18,
    "start_time": "2022-07-30T09:34:47.438Z"
   },
   {
    "duration": 64,
    "start_time": "2022-07-30T09:34:47.458Z"
   },
   {
    "duration": 84,
    "start_time": "2022-07-30T09:34:47.524Z"
   },
   {
    "duration": 2,
    "start_time": "2022-07-30T09:34:47.610Z"
   },
   {
    "duration": 9,
    "start_time": "2022-07-30T09:34:47.614Z"
   },
   {
    "duration": 13,
    "start_time": "2022-07-30T09:34:47.624Z"
   },
   {
    "duration": 9,
    "start_time": "2022-07-30T09:34:47.639Z"
   },
   {
    "duration": 8,
    "start_time": "2022-07-30T09:34:47.650Z"
   },
   {
    "duration": 83,
    "start_time": "2022-07-30T09:43:42.941Z"
   },
   {
    "duration": 179,
    "start_time": "2022-07-30T09:45:34.842Z"
   },
   {
    "duration": 87,
    "start_time": "2022-07-30T09:45:40.590Z"
   },
   {
    "duration": 80,
    "start_time": "2022-07-30T09:46:09.366Z"
   },
   {
    "duration": 87,
    "start_time": "2022-07-30T09:46:15.669Z"
   },
   {
    "duration": 87,
    "start_time": "2022-07-30T09:46:34.305Z"
   },
   {
    "duration": 84,
    "start_time": "2022-07-30T09:46:40.998Z"
   },
   {
    "duration": 94,
    "start_time": "2022-07-30T09:47:08.129Z"
   },
   {
    "duration": 79,
    "start_time": "2022-07-30T09:47:20.799Z"
   },
   {
    "duration": 90,
    "start_time": "2022-07-30T09:47:31.299Z"
   },
   {
    "duration": 1123,
    "start_time": "2022-07-30T10:06:16.643Z"
   },
   {
    "duration": 36,
    "start_time": "2022-07-30T10:06:29.220Z"
   },
   {
    "duration": 89,
    "start_time": "2022-07-30T10:06:46.154Z"
   },
   {
    "duration": 5,
    "start_time": "2022-07-30T10:10:56.002Z"
   },
   {
    "duration": 11,
    "start_time": "2022-07-30T10:11:41.454Z"
   },
   {
    "duration": 14,
    "start_time": "2022-07-30T10:15:54.844Z"
   },
   {
    "duration": 13,
    "start_time": "2022-07-30T10:15:58.969Z"
   },
   {
    "duration": 1254,
    "start_time": "2022-07-30T10:17:07.665Z"
   },
   {
    "duration": 12,
    "start_time": "2022-07-30T10:17:16.149Z"
   },
   {
    "duration": 7,
    "start_time": "2022-07-30T10:20:11.820Z"
   },
   {
    "duration": 9,
    "start_time": "2022-07-30T10:20:17.273Z"
   },
   {
    "duration": 11,
    "start_time": "2022-07-30T10:20:20.725Z"
   },
   {
    "duration": 11,
    "start_time": "2022-07-30T10:20:23.525Z"
   },
   {
    "duration": 15,
    "start_time": "2022-07-30T10:20:26.718Z"
   },
   {
    "duration": 7,
    "start_time": "2022-07-30T10:20:35.503Z"
   },
   {
    "duration": 11,
    "start_time": "2022-07-30T10:20:36.985Z"
   },
   {
    "duration": 10,
    "start_time": "2022-07-30T10:20:39.885Z"
   },
   {
    "duration": 10,
    "start_time": "2022-07-30T10:20:43.722Z"
   },
   {
    "duration": 11,
    "start_time": "2022-07-30T10:20:48.088Z"
   },
   {
    "duration": 13,
    "start_time": "2022-07-30T10:20:50.694Z"
   },
   {
    "duration": 5,
    "start_time": "2022-07-30T10:21:10.560Z"
   },
   {
    "duration": 9,
    "start_time": "2022-07-30T10:21:12.637Z"
   },
   {
    "duration": 6,
    "start_time": "2022-07-30T10:21:44.230Z"
   },
   {
    "duration": 10,
    "start_time": "2022-07-30T10:21:45.927Z"
   },
   {
    "duration": 21,
    "start_time": "2022-07-30T10:22:05.798Z"
   },
   {
    "duration": 10,
    "start_time": "2022-07-30T10:22:14.028Z"
   },
   {
    "duration": 12,
    "start_time": "2022-07-30T10:22:22.719Z"
   },
   {
    "duration": 5,
    "start_time": "2022-07-30T10:24:17.042Z"
   },
   {
    "duration": 16,
    "start_time": "2022-07-30T10:24:19.894Z"
   },
   {
    "duration": 7,
    "start_time": "2022-07-30T10:24:45.301Z"
   },
   {
    "duration": 10,
    "start_time": "2022-07-30T10:24:47.620Z"
   },
   {
    "duration": 6,
    "start_time": "2022-07-30T10:25:09.658Z"
   },
   {
    "duration": 11,
    "start_time": "2022-07-30T10:25:11.830Z"
   },
   {
    "duration": 11,
    "start_time": "2022-07-30T10:25:17.010Z"
   },
   {
    "duration": 211,
    "start_time": "2022-07-30T10:44:38.886Z"
   },
   {
    "duration": 199,
    "start_time": "2022-07-30T10:45:00.746Z"
   },
   {
    "duration": 193,
    "start_time": "2022-07-30T10:45:14.453Z"
   },
   {
    "duration": 193,
    "start_time": "2022-07-30T10:45:21.594Z"
   },
   {
    "duration": 49,
    "start_time": "2022-07-30T10:45:36.334Z"
   },
   {
    "duration": 49,
    "start_time": "2022-07-30T10:47:13.854Z"
   },
   {
    "duration": 42,
    "start_time": "2022-07-30T10:47:51.927Z"
   },
   {
    "duration": 46,
    "start_time": "2022-07-30T10:47:57.769Z"
   },
   {
    "duration": 49,
    "start_time": "2022-07-30T10:48:05.485Z"
   },
   {
    "duration": 47,
    "start_time": "2022-07-30T10:48:12.063Z"
   },
   {
    "duration": 76,
    "start_time": "2022-07-30T10:49:03.110Z"
   },
   {
    "duration": 53,
    "start_time": "2022-07-30T10:49:15.662Z"
   },
   {
    "duration": 17,
    "start_time": "2022-07-30T10:50:07.265Z"
   },
   {
    "duration": 91,
    "start_time": "2022-07-30T10:50:32.794Z"
   },
   {
    "duration": 17,
    "start_time": "2022-07-30T10:50:38.941Z"
   },
   {
    "duration": 15,
    "start_time": "2022-07-30T10:50:52.817Z"
   },
   {
    "duration": 1119,
    "start_time": "2022-07-30T11:33:39.777Z"
   },
   {
    "duration": 179,
    "start_time": "2022-07-30T11:33:40.898Z"
   },
   {
    "duration": 20,
    "start_time": "2022-07-30T11:33:41.082Z"
   },
   {
    "duration": 7,
    "start_time": "2022-07-30T11:33:41.104Z"
   },
   {
    "duration": 157,
    "start_time": "2022-07-30T11:33:41.112Z"
   },
   {
    "duration": 15,
    "start_time": "2022-07-30T11:33:41.270Z"
   },
   {
    "duration": 87,
    "start_time": "2022-07-30T11:33:41.286Z"
   },
   {
    "duration": 106,
    "start_time": "2022-07-30T11:33:41.375Z"
   },
   {
    "duration": 22,
    "start_time": "2022-07-30T11:33:41.483Z"
   },
   {
    "duration": 7,
    "start_time": "2022-07-30T11:33:41.507Z"
   },
   {
    "duration": 29,
    "start_time": "2022-07-30T11:33:41.516Z"
   },
   {
    "duration": 6,
    "start_time": "2022-07-30T11:33:41.546Z"
   },
   {
    "duration": 713,
    "start_time": "2022-07-30T11:33:41.554Z"
   },
   {
    "duration": 27,
    "start_time": "2022-07-30T11:33:42.269Z"
   },
   {
    "duration": 56,
    "start_time": "2022-07-30T11:33:42.298Z"
   },
   {
    "duration": 28,
    "start_time": "2022-07-30T11:33:42.356Z"
   },
   {
    "duration": 23,
    "start_time": "2022-07-30T11:33:42.385Z"
   },
   {
    "duration": 306,
    "start_time": "2022-07-30T11:33:42.409Z"
   },
   {
    "duration": 68,
    "start_time": "2022-07-30T11:33:42.717Z"
   },
   {
    "duration": 18,
    "start_time": "2022-07-30T11:33:42.837Z"
   },
   {
    "duration": 37,
    "start_time": "2022-07-30T11:33:42.857Z"
   },
   {
    "duration": 102,
    "start_time": "2022-07-30T11:33:42.896Z"
   },
   {
    "duration": 5,
    "start_time": "2022-07-30T11:33:43.000Z"
   },
   {
    "duration": 17,
    "start_time": "2022-07-30T11:33:43.007Z"
   },
   {
    "duration": 10,
    "start_time": "2022-07-30T11:33:43.036Z"
   },
   {
    "duration": 15,
    "start_time": "2022-07-30T11:33:43.047Z"
   },
   {
    "duration": 11,
    "start_time": "2022-07-30T11:33:43.064Z"
   },
   {
    "duration": 1179,
    "start_time": "2022-07-30T11:45:43.859Z"
   },
   {
    "duration": 183,
    "start_time": "2022-07-30T11:45:45.040Z"
   },
   {
    "duration": 21,
    "start_time": "2022-07-30T11:45:45.224Z"
   },
   {
    "duration": 8,
    "start_time": "2022-07-30T11:45:45.246Z"
   },
   {
    "duration": 138,
    "start_time": "2022-07-30T11:45:45.255Z"
   },
   {
    "duration": 15,
    "start_time": "2022-07-30T11:45:45.395Z"
   },
   {
    "duration": 90,
    "start_time": "2022-07-30T11:45:45.412Z"
   },
   {
    "duration": 106,
    "start_time": "2022-07-30T11:45:45.504Z"
   },
   {
    "duration": 27,
    "start_time": "2022-07-30T11:45:45.611Z"
   },
   {
    "duration": 6,
    "start_time": "2022-07-30T11:45:45.641Z"
   },
   {
    "duration": 15,
    "start_time": "2022-07-30T11:45:45.649Z"
   },
   {
    "duration": 5,
    "start_time": "2022-07-30T11:45:45.665Z"
   },
   {
    "duration": 753,
    "start_time": "2022-07-30T11:45:45.672Z"
   },
   {
    "duration": 34,
    "start_time": "2022-07-30T11:45:46.426Z"
   },
   {
    "duration": 39,
    "start_time": "2022-07-30T11:45:46.462Z"
   },
   {
    "duration": 43,
    "start_time": "2022-07-30T11:45:46.502Z"
   },
   {
    "duration": 22,
    "start_time": "2022-07-30T11:45:46.547Z"
   },
   {
    "duration": 304,
    "start_time": "2022-07-30T11:45:46.571Z"
   },
   {
    "duration": 100,
    "start_time": "2022-07-30T11:45:46.876Z"
   },
   {
    "duration": 59,
    "start_time": "2022-07-30T11:45:46.978Z"
   },
   {
    "duration": 31,
    "start_time": "2022-07-30T11:45:47.038Z"
   },
   {
    "duration": 92,
    "start_time": "2022-07-30T11:45:47.071Z"
   },
   {
    "duration": 5,
    "start_time": "2022-07-30T11:45:47.165Z"
   },
   {
    "duration": 15,
    "start_time": "2022-07-30T11:45:47.171Z"
   },
   {
    "duration": 13,
    "start_time": "2022-07-30T11:45:47.188Z"
   },
   {
    "duration": 12,
    "start_time": "2022-07-30T11:45:47.203Z"
   },
   {
    "duration": 28,
    "start_time": "2022-07-30T11:45:47.216Z"
   },
   {
    "duration": 60,
    "start_time": "2022-07-30T13:54:47.272Z"
   },
   {
    "duration": 1455,
    "start_time": "2022-07-30T13:54:53.712Z"
   },
   {
    "duration": 677,
    "start_time": "2022-07-30T13:54:55.169Z"
   },
   {
    "duration": 20,
    "start_time": "2022-07-30T13:54:55.848Z"
   },
   {
    "duration": 12,
    "start_time": "2022-07-30T13:54:55.870Z"
   },
   {
    "duration": 156,
    "start_time": "2022-07-30T13:54:55.884Z"
   },
   {
    "duration": 16,
    "start_time": "2022-07-30T13:54:56.042Z"
   },
   {
    "duration": 96,
    "start_time": "2022-07-30T13:54:56.059Z"
   },
   {
    "duration": 115,
    "start_time": "2022-07-30T13:54:56.157Z"
   },
   {
    "duration": 24,
    "start_time": "2022-07-30T13:54:56.274Z"
   },
   {
    "duration": 24,
    "start_time": "2022-07-30T13:54:56.300Z"
   },
   {
    "duration": 17,
    "start_time": "2022-07-30T13:54:56.326Z"
   },
   {
    "duration": 133,
    "start_time": "2022-07-30T13:54:56.345Z"
   },
   {
    "duration": 0,
    "start_time": "2022-07-30T13:54:56.480Z"
   },
   {
    "duration": 0,
    "start_time": "2022-07-30T13:54:56.482Z"
   },
   {
    "duration": 0,
    "start_time": "2022-07-30T13:54:56.483Z"
   },
   {
    "duration": 0,
    "start_time": "2022-07-30T13:54:56.484Z"
   },
   {
    "duration": 0,
    "start_time": "2022-07-30T13:54:56.486Z"
   },
   {
    "duration": 0,
    "start_time": "2022-07-30T13:54:56.487Z"
   },
   {
    "duration": 0,
    "start_time": "2022-07-30T13:54:56.488Z"
   },
   {
    "duration": 0,
    "start_time": "2022-07-30T13:54:56.489Z"
   },
   {
    "duration": 0,
    "start_time": "2022-07-30T13:54:56.490Z"
   },
   {
    "duration": 0,
    "start_time": "2022-07-30T13:54:56.491Z"
   },
   {
    "duration": 0,
    "start_time": "2022-07-30T13:54:56.493Z"
   },
   {
    "duration": 0,
    "start_time": "2022-07-30T13:54:56.494Z"
   },
   {
    "duration": 0,
    "start_time": "2022-07-30T13:54:56.495Z"
   },
   {
    "duration": 0,
    "start_time": "2022-07-30T13:54:56.496Z"
   },
   {
    "duration": 0,
    "start_time": "2022-07-30T13:54:56.524Z"
   },
   {
    "duration": 0,
    "start_time": "2022-07-30T13:54:56.525Z"
   },
   {
    "duration": 10,
    "start_time": "2022-07-30T13:55:18.315Z"
   },
   {
    "duration": 86,
    "start_time": "2022-07-30T13:57:06.650Z"
   },
   {
    "duration": 143,
    "start_time": "2022-07-30T13:57:13.641Z"
   },
   {
    "duration": 12,
    "start_time": "2022-07-30T13:58:26.660Z"
   },
   {
    "duration": 252,
    "start_time": "2022-07-30T13:58:52.247Z"
   },
   {
    "duration": 257,
    "start_time": "2022-07-30T14:01:06.048Z"
   },
   {
    "duration": 25,
    "start_time": "2022-07-30T14:03:41.572Z"
   },
   {
    "duration": 25,
    "start_time": "2022-07-30T14:04:49.253Z"
   },
   {
    "duration": 24,
    "start_time": "2022-07-30T14:05:38.664Z"
   },
   {
    "duration": 12,
    "start_time": "2022-07-30T14:06:00.541Z"
   },
   {
    "duration": 24,
    "start_time": "2022-07-30T14:06:23.773Z"
   },
   {
    "duration": 26,
    "start_time": "2022-07-30T14:06:27.650Z"
   },
   {
    "duration": 22,
    "start_time": "2022-07-30T14:06:37.771Z"
   },
   {
    "duration": 26,
    "start_time": "2022-07-30T14:06:41.440Z"
   },
   {
    "duration": 26,
    "start_time": "2022-07-30T14:06:50.619Z"
   },
   {
    "duration": 259,
    "start_time": "2022-07-30T14:07:09.036Z"
   },
   {
    "duration": 21,
    "start_time": "2022-07-30T14:07:24.074Z"
   },
   {
    "duration": 26,
    "start_time": "2022-07-30T14:07:27.425Z"
   },
   {
    "duration": 23,
    "start_time": "2022-07-30T14:07:45.622Z"
   },
   {
    "duration": 32,
    "start_time": "2022-07-30T14:07:52.631Z"
   },
   {
    "duration": 251,
    "start_time": "2022-07-30T14:08:09.128Z"
   },
   {
    "duration": 28,
    "start_time": "2022-07-30T14:08:16.940Z"
   },
   {
    "duration": 16,
    "start_time": "2022-07-30T14:08:45.435Z"
   },
   {
    "duration": 27,
    "start_time": "2022-07-30T14:11:11.934Z"
   },
   {
    "duration": 15,
    "start_time": "2022-07-30T14:11:20.290Z"
   },
   {
    "duration": 183,
    "start_time": "2022-07-30T14:11:35.521Z"
   },
   {
    "duration": 1228,
    "start_time": "2022-07-30T14:11:44.275Z"
   },
   {
    "duration": 185,
    "start_time": "2022-07-30T14:11:45.505Z"
   },
   {
    "duration": 32,
    "start_time": "2022-07-30T14:11:45.692Z"
   },
   {
    "duration": 8,
    "start_time": "2022-07-30T14:11:45.726Z"
   },
   {
    "duration": 134,
    "start_time": "2022-07-30T14:11:45.736Z"
   },
   {
    "duration": 16,
    "start_time": "2022-07-30T14:11:45.872Z"
   },
   {
    "duration": 93,
    "start_time": "2022-07-30T14:11:45.890Z"
   },
   {
    "duration": 115,
    "start_time": "2022-07-30T14:11:45.985Z"
   },
   {
    "duration": 36,
    "start_time": "2022-07-30T14:11:46.102Z"
   },
   {
    "duration": 8,
    "start_time": "2022-07-30T14:11:46.141Z"
   },
   {
    "duration": 23,
    "start_time": "2022-07-30T14:11:46.151Z"
   },
   {
    "duration": 213,
    "start_time": "2022-07-30T14:11:46.176Z"
   },
   {
    "duration": 6,
    "start_time": "2022-07-30T14:11:46.390Z"
   },
   {
    "duration": 707,
    "start_time": "2022-07-30T14:11:46.397Z"
   },
   {
    "duration": 35,
    "start_time": "2022-07-30T14:11:47.105Z"
   },
   {
    "duration": 146,
    "start_time": "2022-07-30T14:11:47.142Z"
   },
   {
    "duration": 44,
    "start_time": "2022-07-30T14:11:47.290Z"
   },
   {
    "duration": 28,
    "start_time": "2022-07-30T14:11:47.336Z"
   },
   {
    "duration": 239,
    "start_time": "2022-07-30T14:11:47.366Z"
   },
   {
    "duration": 123,
    "start_time": "2022-07-30T14:11:47.606Z"
   },
   {
    "duration": 17,
    "start_time": "2022-07-30T14:11:47.730Z"
   },
   {
    "duration": 29,
    "start_time": "2022-07-30T14:11:47.749Z"
   },
   {
    "duration": 111,
    "start_time": "2022-07-30T14:11:47.781Z"
   },
   {
    "duration": 5,
    "start_time": "2022-07-30T14:11:47.894Z"
   },
   {
    "duration": 24,
    "start_time": "2022-07-30T14:11:47.900Z"
   },
   {
    "duration": 10,
    "start_time": "2022-07-30T14:11:47.925Z"
   },
   {
    "duration": 11,
    "start_time": "2022-07-30T14:11:47.936Z"
   },
   {
    "duration": 10,
    "start_time": "2022-07-30T14:11:47.950Z"
   },
   {
    "duration": 191,
    "start_time": "2022-07-30T14:12:48.024Z"
   },
   {
    "duration": 188,
    "start_time": "2022-07-30T14:13:19.585Z"
   },
   {
    "duration": 263,
    "start_time": "2022-07-30T14:13:53.984Z"
   },
   {
    "duration": 182,
    "start_time": "2022-07-30T14:14:10.935Z"
   },
   {
    "duration": 178,
    "start_time": "2022-07-30T14:14:45.113Z"
   },
   {
    "duration": 184,
    "start_time": "2022-07-30T14:14:56.494Z"
   },
   {
    "duration": 201,
    "start_time": "2022-07-30T14:15:04.350Z"
   },
   {
    "duration": 53,
    "start_time": "2022-07-30T14:15:45.892Z"
   },
   {
    "duration": 183,
    "start_time": "2022-07-30T14:15:51.935Z"
   },
   {
    "duration": 1227,
    "start_time": "2022-07-30T14:16:01.912Z"
   },
   {
    "duration": 190,
    "start_time": "2022-07-30T14:16:03.141Z"
   },
   {
    "duration": 19,
    "start_time": "2022-07-30T14:16:03.333Z"
   },
   {
    "duration": 8,
    "start_time": "2022-07-30T14:16:03.354Z"
   },
   {
    "duration": 150,
    "start_time": "2022-07-30T14:16:03.364Z"
   },
   {
    "duration": 20,
    "start_time": "2022-07-30T14:16:03.515Z"
   },
   {
    "duration": 91,
    "start_time": "2022-07-30T14:16:03.536Z"
   },
   {
    "duration": 107,
    "start_time": "2022-07-30T14:16:03.629Z"
   },
   {
    "duration": 55,
    "start_time": "2022-07-30T14:16:03.737Z"
   },
   {
    "duration": 6,
    "start_time": "2022-07-30T14:16:03.795Z"
   },
   {
    "duration": 33,
    "start_time": "2022-07-30T14:16:03.802Z"
   },
   {
    "duration": 188,
    "start_time": "2022-07-30T14:16:03.837Z"
   },
   {
    "duration": 6,
    "start_time": "2022-07-30T14:16:04.027Z"
   },
   {
    "duration": 776,
    "start_time": "2022-07-30T14:16:04.034Z"
   },
   {
    "duration": 38,
    "start_time": "2022-07-30T14:16:04.811Z"
   },
   {
    "duration": 124,
    "start_time": "2022-07-30T14:16:04.851Z"
   },
   {
    "duration": 29,
    "start_time": "2022-07-30T14:16:04.977Z"
   },
   {
    "duration": 36,
    "start_time": "2022-07-30T14:16:05.008Z"
   },
   {
    "duration": 200,
    "start_time": "2022-07-30T14:16:05.045Z"
   },
   {
    "duration": 103,
    "start_time": "2022-07-30T14:16:05.247Z"
   },
   {
    "duration": 20,
    "start_time": "2022-07-30T14:16:05.352Z"
   },
   {
    "duration": 75,
    "start_time": "2022-07-30T14:16:05.373Z"
   },
   {
    "duration": 88,
    "start_time": "2022-07-30T14:16:05.450Z"
   },
   {
    "duration": 5,
    "start_time": "2022-07-30T14:16:05.539Z"
   },
   {
    "duration": 17,
    "start_time": "2022-07-30T14:16:05.546Z"
   },
   {
    "duration": 14,
    "start_time": "2022-07-30T14:16:05.564Z"
   },
   {
    "duration": 13,
    "start_time": "2022-07-30T14:16:05.580Z"
   },
   {
    "duration": 30,
    "start_time": "2022-07-30T14:16:05.597Z"
   },
   {
    "duration": 25,
    "start_time": "2022-07-30T14:19:42.373Z"
   },
   {
    "duration": 181,
    "start_time": "2022-07-30T14:19:46.821Z"
   },
   {
    "duration": 172,
    "start_time": "2022-07-30T14:19:57.775Z"
   },
   {
    "duration": 174,
    "start_time": "2022-07-30T14:20:07.816Z"
   },
   {
    "duration": 144,
    "start_time": "2022-07-30T14:22:16.015Z"
   },
   {
    "duration": 177,
    "start_time": "2022-07-30T14:22:21.021Z"
   },
   {
    "duration": 176,
    "start_time": "2022-07-30T14:23:45.427Z"
   },
   {
    "duration": 179,
    "start_time": "2022-07-30T14:24:44.078Z"
   },
   {
    "duration": 174,
    "start_time": "2022-07-30T14:24:49.458Z"
   },
   {
    "duration": 41,
    "start_time": "2022-07-30T14:25:40.812Z"
   },
   {
    "duration": 139,
    "start_time": "2022-07-30T14:25:45.087Z"
   },
   {
    "duration": 39,
    "start_time": "2022-07-30T14:25:51.748Z"
   },
   {
    "duration": 177,
    "start_time": "2022-07-30T14:25:56.930Z"
   },
   {
    "duration": 190,
    "start_time": "2022-07-30T14:26:29.438Z"
   },
   {
    "duration": 116,
    "start_time": "2022-07-30T14:26:33.266Z"
   },
   {
    "duration": 182,
    "start_time": "2022-07-30T14:26:46.136Z"
   },
   {
    "duration": 1050,
    "start_time": "2022-07-30T14:33:34.152Z"
   },
   {
    "duration": 643,
    "start_time": "2022-07-30T14:33:42.551Z"
   },
   {
    "duration": 365,
    "start_time": "2022-07-30T14:37:24.134Z"
   },
   {
    "duration": 254,
    "start_time": "2022-07-30T14:39:27.501Z"
   },
   {
    "duration": 295,
    "start_time": "2022-07-30T14:40:59.380Z"
   },
   {
    "duration": 657,
    "start_time": "2022-07-30T14:42:38.957Z"
   },
   {
    "duration": 938,
    "start_time": "2022-07-30T14:43:03.929Z"
   },
   {
    "duration": 390,
    "start_time": "2022-07-30T14:43:10.687Z"
   },
   {
    "duration": 526,
    "start_time": "2022-07-30T14:43:31.065Z"
   },
   {
    "duration": 408,
    "start_time": "2022-07-30T14:44:08.691Z"
   },
   {
    "duration": 382,
    "start_time": "2022-07-30T14:44:34.747Z"
   },
   {
    "duration": 382,
    "start_time": "2022-07-30T14:44:53.523Z"
   },
   {
    "duration": 718,
    "start_time": "2022-07-30T14:45:02.234Z"
   },
   {
    "duration": 500,
    "start_time": "2022-07-30T14:45:08.314Z"
   },
   {
    "duration": 503,
    "start_time": "2022-07-30T14:49:42.311Z"
   },
   {
    "duration": 55,
    "start_time": "2022-07-30T14:51:10.547Z"
   },
   {
    "duration": 12,
    "start_time": "2022-07-30T14:54:53.357Z"
   },
   {
    "duration": 24,
    "start_time": "2022-07-30T14:55:18.054Z"
   },
   {
    "duration": 25,
    "start_time": "2022-07-30T14:57:59.937Z"
   },
   {
    "duration": 27,
    "start_time": "2022-07-30T14:58:42.305Z"
   },
   {
    "duration": 28,
    "start_time": "2022-07-30T14:58:50.121Z"
   },
   {
    "duration": 46,
    "start_time": "2022-07-30T14:59:32.225Z"
   },
   {
    "duration": 37,
    "start_time": "2022-07-30T15:00:01.311Z"
   },
   {
    "duration": 48,
    "start_time": "2022-07-30T15:02:14.342Z"
   },
   {
    "duration": 70,
    "start_time": "2022-07-30T15:09:57.917Z"
   },
   {
    "duration": 14,
    "start_time": "2022-07-30T15:10:01.074Z"
   },
   {
    "duration": 100,
    "start_time": "2022-07-30T15:26:32.713Z"
   },
   {
    "duration": 5,
    "start_time": "2022-07-30T15:26:36.539Z"
   },
   {
    "duration": 12,
    "start_time": "2022-07-30T15:26:41.496Z"
   },
   {
    "duration": 10,
    "start_time": "2022-07-30T15:26:59.099Z"
   },
   {
    "duration": 10,
    "start_time": "2022-07-30T15:27:01.305Z"
   },
   {
    "duration": 9,
    "start_time": "2022-07-30T15:27:04.155Z"
   },
   {
    "duration": 1369,
    "start_time": "2022-07-30T18:22:26.358Z"
   },
   {
    "duration": 628,
    "start_time": "2022-07-30T18:22:27.729Z"
   },
   {
    "duration": 19,
    "start_time": "2022-07-30T18:22:28.358Z"
   },
   {
    "duration": 8,
    "start_time": "2022-07-30T18:22:28.379Z"
   },
   {
    "duration": 148,
    "start_time": "2022-07-30T18:22:28.388Z"
   },
   {
    "duration": 18,
    "start_time": "2022-07-30T18:22:28.537Z"
   },
   {
    "duration": 93,
    "start_time": "2022-07-30T18:22:28.556Z"
   },
   {
    "duration": 104,
    "start_time": "2022-07-30T18:22:28.651Z"
   },
   {
    "duration": 28,
    "start_time": "2022-07-30T18:22:28.756Z"
   },
   {
    "duration": 8,
    "start_time": "2022-07-30T18:22:28.797Z"
   },
   {
    "duration": 32,
    "start_time": "2022-07-30T18:22:28.806Z"
   },
   {
    "duration": 190,
    "start_time": "2022-07-30T18:22:28.840Z"
   },
   {
    "duration": 5,
    "start_time": "2022-07-30T18:22:29.031Z"
   },
   {
    "duration": 745,
    "start_time": "2022-07-30T18:22:29.037Z"
   },
   {
    "duration": 582,
    "start_time": "2022-07-30T18:22:29.784Z"
   },
   {
    "duration": 32,
    "start_time": "2022-07-30T18:22:30.367Z"
   },
   {
    "duration": 112,
    "start_time": "2022-07-30T18:22:30.401Z"
   },
   {
    "duration": 61,
    "start_time": "2022-07-30T18:22:30.514Z"
   },
   {
    "duration": 28,
    "start_time": "2022-07-30T18:22:30.577Z"
   },
   {
    "duration": 76,
    "start_time": "2022-07-30T18:22:30.607Z"
   },
   {
    "duration": 335,
    "start_time": "2022-07-30T18:22:30.685Z"
   },
   {
    "duration": 123,
    "start_time": "2022-07-30T18:22:31.023Z"
   },
   {
    "duration": 66,
    "start_time": "2022-07-30T18:22:31.149Z"
   },
   {
    "duration": 37,
    "start_time": "2022-07-30T18:22:31.216Z"
   },
   {
    "duration": 105,
    "start_time": "2022-07-30T18:22:31.255Z"
   },
   {
    "duration": 5,
    "start_time": "2022-07-30T18:22:31.362Z"
   },
   {
    "duration": 23,
    "start_time": "2022-07-30T18:22:31.369Z"
   },
   {
    "duration": 44,
    "start_time": "2022-07-30T18:22:31.394Z"
   },
   {
    "duration": 18,
    "start_time": "2022-07-30T18:22:31.439Z"
   },
   {
    "duration": 32,
    "start_time": "2022-07-30T18:22:31.459Z"
   },
   {
    "duration": 148,
    "start_time": "2022-07-30T18:23:57.789Z"
   },
   {
    "duration": 180,
    "start_time": "2022-07-30T18:24:02.038Z"
   },
   {
    "duration": 13,
    "start_time": "2022-07-30T18:25:51.355Z"
   },
   {
    "duration": 606,
    "start_time": "2022-07-30T18:25:56.253Z"
   },
   {
    "duration": 1221,
    "start_time": "2022-07-30T18:26:24.681Z"
   },
   {
    "duration": 190,
    "start_time": "2022-07-30T18:26:25.904Z"
   },
   {
    "duration": 34,
    "start_time": "2022-07-30T18:26:26.096Z"
   },
   {
    "duration": 8,
    "start_time": "2022-07-30T18:26:26.132Z"
   },
   {
    "duration": 197,
    "start_time": "2022-07-30T18:26:26.141Z"
   },
   {
    "duration": 14,
    "start_time": "2022-07-30T18:26:26.340Z"
   },
   {
    "duration": 106,
    "start_time": "2022-07-30T18:26:26.356Z"
   },
   {
    "duration": 122,
    "start_time": "2022-07-30T18:26:26.463Z"
   },
   {
    "duration": 47,
    "start_time": "2022-07-30T18:26:26.587Z"
   },
   {
    "duration": 6,
    "start_time": "2022-07-30T18:26:26.637Z"
   },
   {
    "duration": 13,
    "start_time": "2022-07-30T18:26:26.644Z"
   },
   {
    "duration": 197,
    "start_time": "2022-07-30T18:26:26.659Z"
   },
   {
    "duration": 591,
    "start_time": "2022-07-30T18:26:26.857Z"
   },
   {
    "duration": 5,
    "start_time": "2022-07-30T18:26:27.450Z"
   },
   {
    "duration": 727,
    "start_time": "2022-07-30T18:26:27.457Z"
   },
   {
    "duration": 490,
    "start_time": "2022-07-30T18:26:28.185Z"
   },
   {
    "duration": 33,
    "start_time": "2022-07-30T18:26:28.676Z"
   },
   {
    "duration": 36,
    "start_time": "2022-07-30T18:26:28.711Z"
   },
   {
    "duration": 29,
    "start_time": "2022-07-30T18:26:28.749Z"
   },
   {
    "duration": 36,
    "start_time": "2022-07-30T18:26:28.780Z"
   },
   {
    "duration": 46,
    "start_time": "2022-07-30T18:26:28.818Z"
   },
   {
    "duration": 234,
    "start_time": "2022-07-30T18:26:28.866Z"
   },
   {
    "duration": 133,
    "start_time": "2022-07-30T18:26:29.101Z"
   },
   {
    "duration": 16,
    "start_time": "2022-07-30T18:26:29.235Z"
   },
   {
    "duration": 73,
    "start_time": "2022-07-30T18:26:29.252Z"
   },
   {
    "duration": 118,
    "start_time": "2022-07-30T18:26:29.327Z"
   },
   {
    "duration": 7,
    "start_time": "2022-07-30T18:26:29.447Z"
   },
   {
    "duration": 15,
    "start_time": "2022-07-30T18:26:29.457Z"
   },
   {
    "duration": 8,
    "start_time": "2022-07-30T18:26:29.473Z"
   },
   {
    "duration": 16,
    "start_time": "2022-07-30T18:26:29.483Z"
   },
   {
    "duration": 11,
    "start_time": "2022-07-30T18:26:29.501Z"
   },
   {
    "duration": 130,
    "start_time": "2022-07-30T18:29:02.511Z"
   },
   {
    "duration": 15,
    "start_time": "2022-07-30T18:29:18.100Z"
   },
   {
    "duration": 354,
    "start_time": "2022-07-30T18:29:35.269Z"
   },
   {
    "duration": 103,
    "start_time": "2022-07-30T18:29:38.833Z"
   },
   {
    "duration": 142,
    "start_time": "2022-07-30T18:30:02.948Z"
   },
   {
    "duration": 15,
    "start_time": "2022-07-30T18:36:54.469Z"
   },
   {
    "duration": 13,
    "start_time": "2022-07-30T18:37:05.308Z"
   },
   {
    "duration": 1438,
    "start_time": "2022-07-30T18:47:47.670Z"
   },
   {
    "duration": 750,
    "start_time": "2022-07-30T18:47:49.112Z"
   },
   {
    "duration": 22,
    "start_time": "2022-07-30T18:47:49.864Z"
   },
   {
    "duration": 10,
    "start_time": "2022-07-30T18:47:49.888Z"
   },
   {
    "duration": 160,
    "start_time": "2022-07-30T18:47:49.903Z"
   },
   {
    "duration": 25,
    "start_time": "2022-07-30T18:47:50.066Z"
   },
   {
    "duration": 136,
    "start_time": "2022-07-30T18:47:50.107Z"
   },
   {
    "duration": 137,
    "start_time": "2022-07-30T18:47:50.246Z"
   },
   {
    "duration": 38,
    "start_time": "2022-07-30T18:47:50.385Z"
   },
   {
    "duration": 9,
    "start_time": "2022-07-30T18:47:50.430Z"
   },
   {
    "duration": 17,
    "start_time": "2022-07-30T18:47:50.442Z"
   },
   {
    "duration": 274,
    "start_time": "2022-07-30T18:47:50.461Z"
   },
   {
    "duration": 537,
    "start_time": "2022-07-30T18:47:50.737Z"
   },
   {
    "duration": 214,
    "start_time": "2022-07-30T18:47:51.276Z"
   },
   {
    "duration": 24,
    "start_time": "2022-07-30T18:47:51.491Z"
   },
   {
    "duration": 837,
    "start_time": "2022-07-30T18:47:51.516Z"
   },
   {
    "duration": 568,
    "start_time": "2022-07-30T18:47:52.355Z"
   },
   {
    "duration": 27,
    "start_time": "2022-07-30T18:47:52.925Z"
   },
   {
    "duration": 55,
    "start_time": "2022-07-30T18:47:52.954Z"
   },
   {
    "duration": 34,
    "start_time": "2022-07-30T18:47:53.011Z"
   },
   {
    "duration": 22,
    "start_time": "2022-07-30T18:47:53.047Z"
   },
   {
    "duration": 162,
    "start_time": "2022-07-30T18:47:53.071Z"
   },
   {
    "duration": 52,
    "start_time": "2022-07-30T18:47:53.235Z"
   },
   {
    "duration": 75,
    "start_time": "2022-07-30T18:47:53.304Z"
   },
   {
    "duration": 34,
    "start_time": "2022-07-30T18:47:53.381Z"
   },
   {
    "duration": 34,
    "start_time": "2022-07-30T18:47:53.419Z"
   },
   {
    "duration": 95,
    "start_time": "2022-07-30T18:47:53.454Z"
   },
   {
    "duration": 5,
    "start_time": "2022-07-30T18:47:53.552Z"
   },
   {
    "duration": 15,
    "start_time": "2022-07-30T18:47:53.558Z"
   },
   {
    "duration": 8,
    "start_time": "2022-07-30T18:47:53.574Z"
   },
   {
    "duration": 33,
    "start_time": "2022-07-30T18:47:53.584Z"
   },
   {
    "duration": 17,
    "start_time": "2022-07-30T18:47:53.618Z"
   },
   {
    "duration": 12,
    "start_time": "2022-07-30T18:54:01.780Z"
   },
   {
    "duration": 4,
    "start_time": "2022-07-30T19:11:56.652Z"
   },
   {
    "duration": 12,
    "start_time": "2022-07-30T19:12:31.518Z"
   },
   {
    "duration": 10,
    "start_time": "2022-07-30T19:12:41.417Z"
   },
   {
    "duration": 5,
    "start_time": "2022-07-30T19:13:09.797Z"
   },
   {
    "duration": 10,
    "start_time": "2022-07-30T19:13:13.676Z"
   },
   {
    "duration": 9,
    "start_time": "2022-07-30T19:13:17.271Z"
   },
   {
    "duration": 10,
    "start_time": "2022-07-30T19:13:24.484Z"
   },
   {
    "duration": 9,
    "start_time": "2022-07-30T19:13:29.891Z"
   },
   {
    "duration": 6,
    "start_time": "2022-07-30T19:13:45.964Z"
   },
   {
    "duration": 8,
    "start_time": "2022-07-30T19:13:50.668Z"
   },
   {
    "duration": 6,
    "start_time": "2022-07-30T19:14:17.122Z"
   },
   {
    "duration": 21,
    "start_time": "2022-07-30T19:14:26.715Z"
   },
   {
    "duration": 10,
    "start_time": "2022-07-30T19:14:52.581Z"
   },
   {
    "duration": 1539,
    "start_time": "2022-07-30T21:02:12.904Z"
   },
   {
    "duration": 1077,
    "start_time": "2022-07-30T21:02:14.445Z"
   },
   {
    "duration": 34,
    "start_time": "2022-07-30T21:02:15.528Z"
   },
   {
    "duration": 23,
    "start_time": "2022-07-30T21:02:15.566Z"
   },
   {
    "duration": 187,
    "start_time": "2022-07-30T21:02:15.590Z"
   },
   {
    "duration": 18,
    "start_time": "2022-07-30T21:02:15.780Z"
   },
   {
    "duration": 133,
    "start_time": "2022-07-30T21:02:15.801Z"
   },
   {
    "duration": 135,
    "start_time": "2022-07-30T21:02:15.935Z"
   },
   {
    "duration": 44,
    "start_time": "2022-07-30T21:02:16.072Z"
   },
   {
    "duration": 15,
    "start_time": "2022-07-30T21:02:16.120Z"
   },
   {
    "duration": 30,
    "start_time": "2022-07-30T21:02:16.138Z"
   },
   {
    "duration": 283,
    "start_time": "2022-07-30T21:02:16.170Z"
   },
   {
    "duration": 889,
    "start_time": "2022-07-30T21:02:16.456Z"
   },
   {
    "duration": 316,
    "start_time": "2022-07-30T21:02:17.347Z"
   },
   {
    "duration": 6,
    "start_time": "2022-07-30T21:02:17.665Z"
   },
   {
    "duration": 937,
    "start_time": "2022-07-30T21:02:17.673Z"
   },
   {
    "duration": 620,
    "start_time": "2022-07-30T21:02:18.617Z"
   },
   {
    "duration": 32,
    "start_time": "2022-07-30T21:02:19.239Z"
   },
   {
    "duration": 78,
    "start_time": "2022-07-30T21:02:19.273Z"
   },
   {
    "duration": 35,
    "start_time": "2022-07-30T21:02:19.353Z"
   },
   {
    "duration": 51,
    "start_time": "2022-07-30T21:02:19.390Z"
   },
   {
    "duration": 183,
    "start_time": "2022-07-30T21:02:19.443Z"
   },
   {
    "duration": 97,
    "start_time": "2022-07-30T21:02:19.628Z"
   },
   {
    "duration": 95,
    "start_time": "2022-07-30T21:02:19.729Z"
   },
   {
    "duration": 18,
    "start_time": "2022-07-30T21:02:19.826Z"
   },
   {
    "duration": 37,
    "start_time": "2022-07-30T21:02:19.846Z"
   },
   {
    "duration": 146,
    "start_time": "2022-07-30T21:02:19.885Z"
   },
   {
    "duration": 7,
    "start_time": "2022-07-30T21:02:20.036Z"
   },
   {
    "duration": 21,
    "start_time": "2022-07-30T21:02:20.045Z"
   },
   {
    "duration": 16,
    "start_time": "2022-07-30T21:02:20.069Z"
   },
   {
    "duration": 35,
    "start_time": "2022-07-30T21:02:20.087Z"
   },
   {
    "duration": 34,
    "start_time": "2022-07-30T21:02:20.125Z"
   },
   {
    "duration": 1250,
    "start_time": "2022-07-30T21:09:41.233Z"
   },
   {
    "duration": 503,
    "start_time": "2022-07-30T21:09:42.485Z"
   },
   {
    "duration": 18,
    "start_time": "2022-07-30T21:09:42.990Z"
   },
   {
    "duration": 7,
    "start_time": "2022-07-30T21:09:43.009Z"
   },
   {
    "duration": 129,
    "start_time": "2022-07-30T21:09:43.018Z"
   },
   {
    "duration": 13,
    "start_time": "2022-07-30T21:09:43.148Z"
   },
   {
    "duration": 80,
    "start_time": "2022-07-30T21:09:43.162Z"
   },
   {
    "duration": 103,
    "start_time": "2022-07-30T21:09:43.243Z"
   },
   {
    "duration": 30,
    "start_time": "2022-07-30T21:09:43.347Z"
   },
   {
    "duration": 6,
    "start_time": "2022-07-30T21:09:43.379Z"
   },
   {
    "duration": 12,
    "start_time": "2022-07-30T21:09:43.386Z"
   },
   {
    "duration": 174,
    "start_time": "2022-07-30T21:09:43.399Z"
   },
   {
    "duration": 452,
    "start_time": "2022-07-30T21:09:43.575Z"
   },
   {
    "duration": 192,
    "start_time": "2022-07-30T21:09:44.030Z"
   },
   {
    "duration": 5,
    "start_time": "2022-07-30T21:09:44.223Z"
   },
   {
    "duration": 653,
    "start_time": "2022-07-30T21:09:44.229Z"
   },
   {
    "duration": 455,
    "start_time": "2022-07-30T21:09:44.884Z"
   },
   {
    "duration": 35,
    "start_time": "2022-07-30T21:09:45.341Z"
   },
   {
    "duration": 32,
    "start_time": "2022-07-30T21:09:45.378Z"
   },
   {
    "duration": 29,
    "start_time": "2022-07-30T21:09:45.411Z"
   },
   {
    "duration": 36,
    "start_time": "2022-07-30T21:09:45.442Z"
   },
   {
    "duration": 155,
    "start_time": "2022-07-30T21:09:45.480Z"
   },
   {
    "duration": 62,
    "start_time": "2022-07-30T21:09:45.637Z"
   },
   {
    "duration": 59,
    "start_time": "2022-07-30T21:09:45.701Z"
   },
   {
    "duration": 18,
    "start_time": "2022-07-30T21:09:45.762Z"
   },
   {
    "duration": 28,
    "start_time": "2022-07-30T21:09:45.781Z"
   },
   {
    "duration": 86,
    "start_time": "2022-07-30T21:09:45.811Z"
   },
   {
    "duration": 5,
    "start_time": "2022-07-30T21:09:45.899Z"
   },
   {
    "duration": 12,
    "start_time": "2022-07-30T21:09:45.905Z"
   },
   {
    "duration": 8,
    "start_time": "2022-07-30T21:09:45.919Z"
   },
   {
    "duration": 8,
    "start_time": "2022-07-30T21:09:45.928Z"
   },
   {
    "duration": 7,
    "start_time": "2022-07-30T21:09:45.937Z"
   },
   {
    "duration": 1178,
    "start_time": "2022-10-27T18:06:49.161Z"
   },
   {
    "duration": 569,
    "start_time": "2022-10-27T18:06:50.341Z"
   },
   {
    "duration": 26,
    "start_time": "2022-10-27T18:06:50.912Z"
   },
   {
    "duration": 28,
    "start_time": "2022-10-27T18:06:50.941Z"
   },
   {
    "duration": 141,
    "start_time": "2022-10-27T18:06:50.971Z"
   },
   {
    "duration": 23,
    "start_time": "2022-10-27T18:06:51.113Z"
   },
   {
    "duration": 105,
    "start_time": "2022-10-27T18:06:51.138Z"
   },
   {
    "duration": 105,
    "start_time": "2022-10-27T18:06:51.244Z"
   },
   {
    "duration": 25,
    "start_time": "2022-10-27T18:06:51.350Z"
   },
   {
    "duration": 28,
    "start_time": "2022-10-27T18:06:51.377Z"
   },
   {
    "duration": 46,
    "start_time": "2022-10-27T18:06:51.407Z"
   },
   {
    "duration": 197,
    "start_time": "2022-10-27T18:06:51.455Z"
   },
   {
    "duration": 478,
    "start_time": "2022-10-27T18:06:51.653Z"
   },
   {
    "duration": 237,
    "start_time": "2022-10-27T18:06:52.133Z"
   },
   {
    "duration": 5,
    "start_time": "2022-10-27T18:06:52.372Z"
   },
   {
    "duration": 789,
    "start_time": "2022-10-27T18:06:52.378Z"
   },
   {
    "duration": 542,
    "start_time": "2022-10-27T18:06:53.169Z"
   },
   {
    "duration": 34,
    "start_time": "2022-10-27T18:06:53.713Z"
   },
   {
    "duration": 33,
    "start_time": "2022-10-27T18:06:53.749Z"
   },
   {
    "duration": 51,
    "start_time": "2022-10-27T18:06:53.784Z"
   },
   {
    "duration": 19,
    "start_time": "2022-10-27T18:06:53.837Z"
   },
   {
    "duration": 173,
    "start_time": "2022-10-27T18:06:53.858Z"
   },
   {
    "duration": 57,
    "start_time": "2022-10-27T18:06:54.033Z"
   },
   {
    "duration": 70,
    "start_time": "2022-10-27T18:06:54.092Z"
   },
   {
    "duration": 14,
    "start_time": "2022-10-27T18:06:54.164Z"
   },
   {
    "duration": 53,
    "start_time": "2022-10-27T18:06:54.180Z"
   },
   {
    "duration": 77,
    "start_time": "2022-10-27T18:06:54.235Z"
   },
   {
    "duration": 14,
    "start_time": "2022-10-27T18:06:54.322Z"
   },
   {
    "duration": 16,
    "start_time": "2022-10-27T18:06:54.338Z"
   },
   {
    "duration": 17,
    "start_time": "2022-10-27T18:06:54.356Z"
   },
   {
    "duration": 11,
    "start_time": "2022-10-27T18:06:54.375Z"
   },
   {
    "duration": 8,
    "start_time": "2022-10-27T18:06:54.388Z"
   }
  ],
  "kernelspec": {
   "display_name": "Python 3 (ipykernel)",
   "language": "python",
   "name": "python3"
  },
  "language_info": {
   "codemirror_mode": {
    "name": "ipython",
    "version": 3
   },
   "file_extension": ".py",
   "mimetype": "text/x-python",
   "name": "python",
   "nbconvert_exporter": "python",
   "pygments_lexer": "ipython3",
   "version": "3.9.12"
  },
  "toc": {
   "base_numbering": 1,
   "nav_menu": {},
   "number_sections": true,
   "sideBar": true,
   "skip_h1_title": true,
   "title_cell": "Table of Contents",
   "title_sidebar": "Contents",
   "toc_cell": false,
   "toc_position": {
    "height": "calc(100% - 180px)",
    "left": "10px",
    "top": "150px",
    "width": "165px"
   },
   "toc_section_display": true,
   "toc_window_display": true
  }
 },
 "nbformat": 4,
 "nbformat_minor": 2
}
