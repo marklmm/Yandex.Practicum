{
 "cells": [
  {
   "cell_type": "markdown",
   "metadata": {},
   "source": [
    "# Исследование закономерностей определяющих успешность игры"
   ]
  },
  {
   "cell_type": "markdown",
   "metadata": {},
   "source": [
    "Мы работаем в интернет-магазине, который продаёт компьютерные игры по всему миру. Из открытых источников нам доступны данные (до 2016 года) о продажах игр, оценки пользователей и экспертов, жанры и платформы. Нам нужно выявить определяющие успешность игры закономерности. Это позволит сделать ставку на потенциально популярный продукт в 2017 году и спланировать рекламные кампании.\n",
    "<br>\n",
    "<br>\n",
    "Анализ выполнен в несколько этапов:\n",
    "<br>\n",
    "1. Подготовка данных\n",
    "<br>\n",
    "2. Исследовательский анализ данных\n",
    "<br>\n",
    "3. Портрет пользователя каждого региона\n",
    "<br>\n",
    "4. Проверка гипотез\n",
    "<br>\n",
    "5. Общий вывод\n"
   ]
  },
  {
   "cell_type": "markdown",
   "metadata": {},
   "source": [
    "## Изучение данных из файла"
   ]
  },
  {
   "cell_type": "code",
   "execution_count": 1,
   "metadata": {},
   "outputs": [],
   "source": [
    "import pandas as pd\n",
    "import matplotlib.pyplot as plt\n",
    "import numpy as np\n",
    "from scipy import stats as st\n",
    "import seaborn as sns\n",
    "import warnings\n",
    "warnings.filterwarnings(\"ignore\", category=FutureWarning) "
   ]
  },
  {
   "cell_type": "code",
   "execution_count": 2,
   "metadata": {},
   "outputs": [
    {
     "name": "stdout",
     "output_type": "stream",
     "text": [
      "<class 'pandas.core.frame.DataFrame'>\n",
      "RangeIndex: 16715 entries, 0 to 16714\n",
      "Data columns (total 11 columns):\n",
      " #   Column           Non-Null Count  Dtype  \n",
      "---  ------           --------------  -----  \n",
      " 0   Name             16713 non-null  object \n",
      " 1   Platform         16715 non-null  object \n",
      " 2   Year_of_Release  16446 non-null  float64\n",
      " 3   Genre            16713 non-null  object \n",
      " 4   NA_sales         16715 non-null  float64\n",
      " 5   EU_sales         16715 non-null  float64\n",
      " 6   JP_sales         16715 non-null  float64\n",
      " 7   Other_sales      16715 non-null  float64\n",
      " 8   Critic_Score     8137 non-null   float64\n",
      " 9   User_Score       10014 non-null  object \n",
      " 10  Rating           9949 non-null   object \n",
      "dtypes: float64(6), object(5)\n",
      "memory usage: 1.4+ MB\n"
     ]
    },
    {
     "data": {
      "text/html": [
       "<div>\n",
       "<style scoped>\n",
       "    .dataframe tbody tr th:only-of-type {\n",
       "        vertical-align: middle;\n",
       "    }\n",
       "\n",
       "    .dataframe tbody tr th {\n",
       "        vertical-align: top;\n",
       "    }\n",
       "\n",
       "    .dataframe thead th {\n",
       "        text-align: right;\n",
       "    }\n",
       "</style>\n",
       "<table border=\"1\" class=\"dataframe\">\n",
       "  <thead>\n",
       "    <tr style=\"text-align: right;\">\n",
       "      <th></th>\n",
       "      <th>Name</th>\n",
       "      <th>Platform</th>\n",
       "      <th>Year_of_Release</th>\n",
       "      <th>Genre</th>\n",
       "      <th>NA_sales</th>\n",
       "      <th>EU_sales</th>\n",
       "      <th>JP_sales</th>\n",
       "      <th>Other_sales</th>\n",
       "      <th>Critic_Score</th>\n",
       "      <th>User_Score</th>\n",
       "      <th>Rating</th>\n",
       "    </tr>\n",
       "  </thead>\n",
       "  <tbody>\n",
       "    <tr>\n",
       "      <th>0</th>\n",
       "      <td>Wii Sports</td>\n",
       "      <td>Wii</td>\n",
       "      <td>2006.0</td>\n",
       "      <td>Sports</td>\n",
       "      <td>41.36</td>\n",
       "      <td>28.96</td>\n",
       "      <td>3.77</td>\n",
       "      <td>8.45</td>\n",
       "      <td>76.0</td>\n",
       "      <td>8</td>\n",
       "      <td>E</td>\n",
       "    </tr>\n",
       "    <tr>\n",
       "      <th>1</th>\n",
       "      <td>Super Mario Bros.</td>\n",
       "      <td>NES</td>\n",
       "      <td>1985.0</td>\n",
       "      <td>Platform</td>\n",
       "      <td>29.08</td>\n",
       "      <td>3.58</td>\n",
       "      <td>6.81</td>\n",
       "      <td>0.77</td>\n",
       "      <td>NaN</td>\n",
       "      <td>NaN</td>\n",
       "      <td>NaN</td>\n",
       "    </tr>\n",
       "    <tr>\n",
       "      <th>2</th>\n",
       "      <td>Mario Kart Wii</td>\n",
       "      <td>Wii</td>\n",
       "      <td>2008.0</td>\n",
       "      <td>Racing</td>\n",
       "      <td>15.68</td>\n",
       "      <td>12.76</td>\n",
       "      <td>3.79</td>\n",
       "      <td>3.29</td>\n",
       "      <td>82.0</td>\n",
       "      <td>8.3</td>\n",
       "      <td>E</td>\n",
       "    </tr>\n",
       "    <tr>\n",
       "      <th>3</th>\n",
       "      <td>Wii Sports Resort</td>\n",
       "      <td>Wii</td>\n",
       "      <td>2009.0</td>\n",
       "      <td>Sports</td>\n",
       "      <td>15.61</td>\n",
       "      <td>10.93</td>\n",
       "      <td>3.28</td>\n",
       "      <td>2.95</td>\n",
       "      <td>80.0</td>\n",
       "      <td>8</td>\n",
       "      <td>E</td>\n",
       "    </tr>\n",
       "    <tr>\n",
       "      <th>4</th>\n",
       "      <td>Pokemon Red/Pokemon Blue</td>\n",
       "      <td>GB</td>\n",
       "      <td>1996.0</td>\n",
       "      <td>Role-Playing</td>\n",
       "      <td>11.27</td>\n",
       "      <td>8.89</td>\n",
       "      <td>10.22</td>\n",
       "      <td>1.00</td>\n",
       "      <td>NaN</td>\n",
       "      <td>NaN</td>\n",
       "      <td>NaN</td>\n",
       "    </tr>\n",
       "  </tbody>\n",
       "</table>\n",
       "</div>"
      ],
      "text/plain": [
       "                       Name Platform  Year_of_Release         Genre  NA_sales  \\\n",
       "0                Wii Sports      Wii           2006.0        Sports     41.36   \n",
       "1         Super Mario Bros.      NES           1985.0      Platform     29.08   \n",
       "2            Mario Kart Wii      Wii           2008.0        Racing     15.68   \n",
       "3         Wii Sports Resort      Wii           2009.0        Sports     15.61   \n",
       "4  Pokemon Red/Pokemon Blue       GB           1996.0  Role-Playing     11.27   \n",
       "\n",
       "   EU_sales  JP_sales  Other_sales  Critic_Score User_Score Rating  \n",
       "0     28.96      3.77         8.45          76.0          8      E  \n",
       "1      3.58      6.81         0.77           NaN        NaN    NaN  \n",
       "2     12.76      3.79         3.29          82.0        8.3      E  \n",
       "3     10.93      3.28         2.95          80.0          8      E  \n",
       "4      8.89     10.22         1.00           NaN        NaN    NaN  "
      ]
     },
     "execution_count": 2,
     "metadata": {},
     "output_type": "execute_result"
    }
   ],
   "source": [
    "data = pd.read_csv('/Users/paulaschultz/Desktop/Yandex.Practicum Portfolio/games.csv')\n",
    "data.info()\n",
    "data.head(5)"
   ]
  },
  {
   "cell_type": "code",
   "execution_count": 3,
   "metadata": {},
   "outputs": [
    {
     "data": {
      "text/plain": [
       "0"
      ]
     },
     "execution_count": 3,
     "metadata": {},
     "output_type": "execute_result"
    }
   ],
   "source": [
    "data.duplicated().sum()"
   ]
  },
  {
   "cell_type": "markdown",
   "metadata": {},
   "source": [
    "При первом знакомстве с данными обнаружены пропуски: в случае с незначительным количеством (например, 2 в столбце Name) - их можно удалить, в случае с большим количеством пропущенных значений в Critic_Score и User_Score мы оставим данные без изменений. Мы также переименуем названия столбцов, и переведем некоторые столбцы в другие типы. Для дальнейшего анализа нам потребуется столбец с расчетом суммарных продаж - добавим и его.\n",
    "<br>\n",
    "Также в столбце User_Score нам встретилось значение 'tbd' - 'to be determined', а это предполагает, что пользователям только предстоит оценить игру, и, по сути, это тот же NaN, им и заменим.\n"
   ]
  },
  {
   "cell_type": "markdown",
   "metadata": {},
   "source": [
    "## Предобработка данных"
   ]
  },
  {
   "cell_type": "markdown",
   "metadata": {},
   "source": [
    "Приведем названия столбцов к нижнему регистру:"
   ]
  },
  {
   "cell_type": "code",
   "execution_count": 4,
   "metadata": {},
   "outputs": [
    {
     "data": {
      "text/html": [
       "<div>\n",
       "<style scoped>\n",
       "    .dataframe tbody tr th:only-of-type {\n",
       "        vertical-align: middle;\n",
       "    }\n",
       "\n",
       "    .dataframe tbody tr th {\n",
       "        vertical-align: top;\n",
       "    }\n",
       "\n",
       "    .dataframe thead th {\n",
       "        text-align: right;\n",
       "    }\n",
       "</style>\n",
       "<table border=\"1\" class=\"dataframe\">\n",
       "  <thead>\n",
       "    <tr style=\"text-align: right;\">\n",
       "      <th></th>\n",
       "      <th>name</th>\n",
       "      <th>platform</th>\n",
       "      <th>year_of_release</th>\n",
       "      <th>genre</th>\n",
       "      <th>NA_sales</th>\n",
       "      <th>EU_sales</th>\n",
       "      <th>JP_sales</th>\n",
       "      <th>other_sales</th>\n",
       "      <th>critic_score</th>\n",
       "      <th>user_score</th>\n",
       "      <th>rating</th>\n",
       "    </tr>\n",
       "  </thead>\n",
       "  <tbody>\n",
       "    <tr>\n",
       "      <th>0</th>\n",
       "      <td>Wii Sports</td>\n",
       "      <td>Wii</td>\n",
       "      <td>2006.0</td>\n",
       "      <td>Sports</td>\n",
       "      <td>41.36</td>\n",
       "      <td>28.96</td>\n",
       "      <td>3.77</td>\n",
       "      <td>8.45</td>\n",
       "      <td>76.0</td>\n",
       "      <td>8</td>\n",
       "      <td>E</td>\n",
       "    </tr>\n",
       "    <tr>\n",
       "      <th>1</th>\n",
       "      <td>Super Mario Bros.</td>\n",
       "      <td>NES</td>\n",
       "      <td>1985.0</td>\n",
       "      <td>Platform</td>\n",
       "      <td>29.08</td>\n",
       "      <td>3.58</td>\n",
       "      <td>6.81</td>\n",
       "      <td>0.77</td>\n",
       "      <td>NaN</td>\n",
       "      <td>NaN</td>\n",
       "      <td>NaN</td>\n",
       "    </tr>\n",
       "    <tr>\n",
       "      <th>2</th>\n",
       "      <td>Mario Kart Wii</td>\n",
       "      <td>Wii</td>\n",
       "      <td>2008.0</td>\n",
       "      <td>Racing</td>\n",
       "      <td>15.68</td>\n",
       "      <td>12.76</td>\n",
       "      <td>3.79</td>\n",
       "      <td>3.29</td>\n",
       "      <td>82.0</td>\n",
       "      <td>8.3</td>\n",
       "      <td>E</td>\n",
       "    </tr>\n",
       "    <tr>\n",
       "      <th>3</th>\n",
       "      <td>Wii Sports Resort</td>\n",
       "      <td>Wii</td>\n",
       "      <td>2009.0</td>\n",
       "      <td>Sports</td>\n",
       "      <td>15.61</td>\n",
       "      <td>10.93</td>\n",
       "      <td>3.28</td>\n",
       "      <td>2.95</td>\n",
       "      <td>80.0</td>\n",
       "      <td>8</td>\n",
       "      <td>E</td>\n",
       "    </tr>\n",
       "    <tr>\n",
       "      <th>4</th>\n",
       "      <td>Pokemon Red/Pokemon Blue</td>\n",
       "      <td>GB</td>\n",
       "      <td>1996.0</td>\n",
       "      <td>Role-Playing</td>\n",
       "      <td>11.27</td>\n",
       "      <td>8.89</td>\n",
       "      <td>10.22</td>\n",
       "      <td>1.00</td>\n",
       "      <td>NaN</td>\n",
       "      <td>NaN</td>\n",
       "      <td>NaN</td>\n",
       "    </tr>\n",
       "  </tbody>\n",
       "</table>\n",
       "</div>"
      ],
      "text/plain": [
       "                       name platform  year_of_release         genre  NA_sales  \\\n",
       "0                Wii Sports      Wii           2006.0        Sports     41.36   \n",
       "1         Super Mario Bros.      NES           1985.0      Platform     29.08   \n",
       "2            Mario Kart Wii      Wii           2008.0        Racing     15.68   \n",
       "3         Wii Sports Resort      Wii           2009.0        Sports     15.61   \n",
       "4  Pokemon Red/Pokemon Blue       GB           1996.0  Role-Playing     11.27   \n",
       "\n",
       "   EU_sales  JP_sales  other_sales  critic_score user_score rating  \n",
       "0     28.96      3.77         8.45          76.0          8      E  \n",
       "1      3.58      6.81         0.77           NaN        NaN    NaN  \n",
       "2     12.76      3.79         3.29          82.0        8.3      E  \n",
       "3     10.93      3.28         2.95          80.0          8      E  \n",
       "4      8.89     10.22         1.00           NaN        NaN    NaN  "
      ]
     },
     "execution_count": 4,
     "metadata": {},
     "output_type": "execute_result"
    }
   ],
   "source": [
    "data_columns = ['name', 'platform', 'year_of_release', 'genre', 'NA_sales', 'EU_sales', 'JP_sales', 'other_sales', 'critic_score', 'user_score', 'rating']\n",
    "data.columns = data_columns\n",
    "data.head(5)"
   ]
  },
  {
   "cell_type": "markdown",
   "metadata": {},
   "source": [
    "Удалим 2 строки, где нам неизвестно название игры:"
   ]
  },
  {
   "cell_type": "code",
   "execution_count": 5,
   "metadata": {},
   "outputs": [
    {
     "name": "stdout",
     "output_type": "stream",
     "text": [
      "<class 'pandas.core.frame.DataFrame'>\n",
      "RangeIndex: 16713 entries, 0 to 16712\n",
      "Data columns (total 11 columns):\n",
      " #   Column           Non-Null Count  Dtype  \n",
      "---  ------           --------------  -----  \n",
      " 0   name             16713 non-null  object \n",
      " 1   platform         16713 non-null  object \n",
      " 2   year_of_release  16444 non-null  float64\n",
      " 3   genre            16713 non-null  object \n",
      " 4   NA_sales         16713 non-null  float64\n",
      " 5   EU_sales         16713 non-null  float64\n",
      " 6   JP_sales         16713 non-null  float64\n",
      " 7   other_sales      16713 non-null  float64\n",
      " 8   critic_score     8137 non-null   float64\n",
      " 9   user_score       10014 non-null  object \n",
      " 10  rating           9949 non-null   object \n",
      "dtypes: float64(6), object(5)\n",
      "memory usage: 1.4+ MB\n"
     ]
    }
   ],
   "source": [
    "data.dropna(subset=['name'], inplace=True)\n",
    "data.reset_index(inplace=True,drop=True)\n",
    "data.info()"
   ]
  },
  {
   "cell_type": "markdown",
   "metadata": {},
   "source": [
    "Преобразуем тип данных:"
   ]
  },
  {
   "cell_type": "code",
   "execution_count": 6,
   "metadata": {},
   "outputs": [
    {
     "name": "stdout",
     "output_type": "stream",
     "text": [
      "<class 'pandas.core.frame.DataFrame'>\n",
      "RangeIndex: 16713 entries, 0 to 16712\n",
      "Data columns (total 11 columns):\n",
      " #   Column           Non-Null Count  Dtype  \n",
      "---  ------           --------------  -----  \n",
      " 0   name             16713 non-null  object \n",
      " 1   platform         16713 non-null  object \n",
      " 2   year_of_release  16444 non-null  float64\n",
      " 3   genre            16713 non-null  object \n",
      " 4   NA_sales         16713 non-null  float64\n",
      " 5   EU_sales         16713 non-null  float64\n",
      " 6   JP_sales         16713 non-null  float64\n",
      " 7   other_sales      16713 non-null  float64\n",
      " 8   critic_score     8137 non-null   float64\n",
      " 9   user_score       7590 non-null   float64\n",
      " 10  rating           9949 non-null   object \n",
      "dtypes: float64(7), object(4)\n",
      "memory usage: 1.4+ MB\n"
     ]
    }
   ],
   "source": [
    "data['user_score'] = data['user_score'].replace(\"tbd\", np.NaN)\n",
    "\n",
    "data['user_score'] = data['user_score'].astype('float64')\n",
    "\n",
    "#data['year_of_release'] = data['year_of_release'].astype('Int64')\n",
    "\n",
    "data['critic_score'] = data['critic_score'].astype('float64')\n",
    "\n",
    "data.info()"
   ]
  },
  {
   "cell_type": "markdown",
   "metadata": {},
   "source": [
    "Добавим столбец с суммарными продажами:"
   ]
  },
  {
   "cell_type": "code",
   "execution_count": 7,
   "metadata": {},
   "outputs": [
    {
     "data": {
      "text/html": [
       "<div>\n",
       "<style scoped>\n",
       "    .dataframe tbody tr th:only-of-type {\n",
       "        vertical-align: middle;\n",
       "    }\n",
       "\n",
       "    .dataframe tbody tr th {\n",
       "        vertical-align: top;\n",
       "    }\n",
       "\n",
       "    .dataframe thead th {\n",
       "        text-align: right;\n",
       "    }\n",
       "</style>\n",
       "<table border=\"1\" class=\"dataframe\">\n",
       "  <thead>\n",
       "    <tr style=\"text-align: right;\">\n",
       "      <th></th>\n",
       "      <th>name</th>\n",
       "      <th>platform</th>\n",
       "      <th>year_of_release</th>\n",
       "      <th>genre</th>\n",
       "      <th>NA_sales</th>\n",
       "      <th>EU_sales</th>\n",
       "      <th>JP_sales</th>\n",
       "      <th>other_sales</th>\n",
       "      <th>critic_score</th>\n",
       "      <th>user_score</th>\n",
       "      <th>rating</th>\n",
       "      <th>total_sales</th>\n",
       "    </tr>\n",
       "  </thead>\n",
       "  <tbody>\n",
       "    <tr>\n",
       "      <th>0</th>\n",
       "      <td>Wii Sports</td>\n",
       "      <td>Wii</td>\n",
       "      <td>2006.0</td>\n",
       "      <td>Sports</td>\n",
       "      <td>41.36</td>\n",
       "      <td>28.96</td>\n",
       "      <td>3.77</td>\n",
       "      <td>8.45</td>\n",
       "      <td>76.0</td>\n",
       "      <td>8.0</td>\n",
       "      <td>E</td>\n",
       "      <td>82.54</td>\n",
       "    </tr>\n",
       "    <tr>\n",
       "      <th>1</th>\n",
       "      <td>Super Mario Bros.</td>\n",
       "      <td>NES</td>\n",
       "      <td>1985.0</td>\n",
       "      <td>Platform</td>\n",
       "      <td>29.08</td>\n",
       "      <td>3.58</td>\n",
       "      <td>6.81</td>\n",
       "      <td>0.77</td>\n",
       "      <td>NaN</td>\n",
       "      <td>NaN</td>\n",
       "      <td>NaN</td>\n",
       "      <td>40.24</td>\n",
       "    </tr>\n",
       "    <tr>\n",
       "      <th>2</th>\n",
       "      <td>Mario Kart Wii</td>\n",
       "      <td>Wii</td>\n",
       "      <td>2008.0</td>\n",
       "      <td>Racing</td>\n",
       "      <td>15.68</td>\n",
       "      <td>12.76</td>\n",
       "      <td>3.79</td>\n",
       "      <td>3.29</td>\n",
       "      <td>82.0</td>\n",
       "      <td>8.3</td>\n",
       "      <td>E</td>\n",
       "      <td>35.52</td>\n",
       "    </tr>\n",
       "  </tbody>\n",
       "</table>\n",
       "</div>"
      ],
      "text/plain": [
       "                name platform  year_of_release     genre  NA_sales  EU_sales  \\\n",
       "0         Wii Sports      Wii           2006.0    Sports     41.36     28.96   \n",
       "1  Super Mario Bros.      NES           1985.0  Platform     29.08      3.58   \n",
       "2     Mario Kart Wii      Wii           2008.0    Racing     15.68     12.76   \n",
       "\n",
       "   JP_sales  other_sales  critic_score  user_score rating  total_sales  \n",
       "0      3.77         8.45          76.0         8.0      E        82.54  \n",
       "1      6.81         0.77           NaN         NaN    NaN        40.24  \n",
       "2      3.79         3.29          82.0         8.3      E        35.52  "
      ]
     },
     "execution_count": 7,
     "metadata": {},
     "output_type": "execute_result"
    }
   ],
   "source": [
    "data['total_sales'] = data[['NA_sales','EU_sales','JP_sales', 'other_sales']].sum(axis = 1)\n",
    "data.head(3)"
   ]
  },
  {
   "cell_type": "code",
   "execution_count": 8,
   "metadata": {},
   "outputs": [
    {
     "name": "stdout",
     "output_type": "stream",
     "text": [
      "<class 'pandas.core.frame.DataFrame'>\n",
      "RangeIndex: 16444 entries, 0 to 16443\n",
      "Data columns (total 12 columns):\n",
      " #   Column           Non-Null Count  Dtype  \n",
      "---  ------           --------------  -----  \n",
      " 0   name             16444 non-null  object \n",
      " 1   platform         16444 non-null  object \n",
      " 2   year_of_release  16444 non-null  float64\n",
      " 3   genre            16444 non-null  object \n",
      " 4   NA_sales         16444 non-null  float64\n",
      " 5   EU_sales         16444 non-null  float64\n",
      " 6   JP_sales         16444 non-null  float64\n",
      " 7   other_sales      16444 non-null  float64\n",
      " 8   critic_score     7983 non-null   float64\n",
      " 9   user_score       7463 non-null   float64\n",
      " 10  rating           9768 non-null   object \n",
      " 11  total_sales      16444 non-null  float64\n",
      "dtypes: float64(8), object(4)\n",
      "memory usage: 1.5+ MB\n"
     ]
    }
   ],
   "source": [
    "data.dropna(subset=['year_of_release'], inplace=True)\n",
    "data.reset_index(inplace=True,drop=True)\n",
    "data.info()"
   ]
  },
  {
   "cell_type": "markdown",
   "metadata": {},
   "source": [
    "Сделаем \"заглушку\" для пропусков в столбце rating, т.к. рейтинг ESRB (Entertainment Software Rating Board — ассоциация, определяющая возрастной рейтинг компьютерных игр), который используется в наших данных, действует, в основном, в США и Канаде, а в Японии и Европе рейтинг назначают организации CERO и PEGI соответственно."
   ]
  },
  {
   "cell_type": "code",
   "execution_count": 9,
   "metadata": {},
   "outputs": [
    {
     "data": {
      "text/plain": [
       "0"
      ]
     },
     "execution_count": 9,
     "metadata": {},
     "output_type": "execute_result"
    }
   ],
   "source": [
    "data['rating'] = data['rating'].fillna('W')\n",
    "data['rating'].isna().sum()"
   ]
  },
  {
   "cell_type": "markdown",
   "metadata": {},
   "source": [
    "## Исследовательский анализ данных"
   ]
  },
  {
   "cell_type": "markdown",
   "metadata": {},
   "source": [
    "### Продажи по годам"
   ]
  },
  {
   "cell_type": "code",
   "execution_count": 10,
   "metadata": {},
   "outputs": [
    {
     "data": {
      "image/png": "[encoded data removed]",
      "text/plain": [
       "<Figure size 1008x360 with 1 Axes>"
      ]
     },
     "metadata": {
      "needs_background": "light"
     },
     "output_type": "display_data"
    }
   ],
   "source": [
    "release_year = data.groupby('year_of_release')['name'].count()\n",
    "release_year.columns = ['year_of_release', 'game_count']\n",
    "\n",
    "release_year.plot(x='year_of_release', y='game_count', kind='bar', figsize=(14, 5), grid=True)\n",
    "\n",
    "plt.ylabel(\"Кол-во релизов\")\n",
    "plt.title('Количество игровых релизов по годам')\n",
    "\n",
    "plt.show()"
   ]
  },
  {
   "cell_type": "markdown",
   "metadata": {},
   "source": [
    "На графике мы можем увидеть, что игровая индустрия переживала несколько периодов расцвета:\n",
    "<br>\n",
    "- в 1994 году суммарные релизы достигли отметки в примерно 100 игр и продолжили расти; \n",
    "- в 2002 году происходит слудующий резкий скачок в индустрии и количество реализуемых игр перешагивает через 800 игр в год;\n",
    "- следующий пик в релизах мы наблюдаем в 2008-2009 годах, когда количество игр достигает отметки 1400."
   ]
  },
  {
   "cell_type": "markdown",
   "metadata": {},
   "source": [
    "### Продажи по платформам"
   ]
  },
  {
   "cell_type": "markdown",
   "metadata": {},
   "source": [
    "Определим топ платформ с лучшими показателями продаж:"
   ]
  },
  {
   "cell_type": "code",
   "execution_count": 11,
   "metadata": {},
   "outputs": [
    {
     "data": {
      "text/plain": [
       "platform\n",
       "PS2     1233.56\n",
       "X360     961.24\n",
       "PS3      931.34\n",
       "Wii      891.18\n",
       "DS       802.78\n",
       "PS       727.58\n",
       "Name: total_sales, dtype: float64"
      ]
     },
     "execution_count": 11,
     "metadata": {},
     "output_type": "execute_result"
    }
   ],
   "source": [
    "best_data = data.groupby('platform')['total_sales'].sum().sort_values(ascending=False)\n",
    "best_data.head(6)"
   ]
  },
  {
   "cell_type": "code",
   "execution_count": 12,
   "metadata": {},
   "outputs": [],
   "source": [
    "# Создадим список с лучшими платформами:\n",
    "best_platforms = ('PS2', 'X360', 'PS3', 'Wii', 'DS', 'PS')"
   ]
  },
  {
   "cell_type": "code",
   "execution_count": 13,
   "metadata": {},
   "outputs": [
    {
     "data": {
      "image/png": "[encoded data removed]",
      "text/plain": [
       "<Figure size 1080x432 with 1 Axes>"
      ]
     },
     "metadata": {
      "needs_background": "light"
     },
     "output_type": "display_data"
    }
   ],
   "source": [
    "data[data['platform'].isin(best_platforms)].groupby(['platform', 'year_of_release'])['total_sales'].sum().unstack('platform').plot(figsize=(15,6), grid=True)\n",
    "\n",
    "plt.title('Продажи по платформам')\n",
    "plt.show()"
   ]
  },
  {
   "cell_type": "markdown",
   "metadata": {},
   "source": [
    "Очевидно, что средний \"жизненный цикл\" платформы составляет, в среднем, 10 лет. Также платформы оставляют за собой небольшой \"хвостик\" в жизненном цикле следующей платформы, который составляет, в среднем, 3 года. "
   ]
  },
  {
   "cell_type": "markdown",
   "metadata": {},
   "source": [
    "### Продажи за актуальный период"
   ]
  },
  {
   "cell_type": "markdown",
   "metadata": {},
   "source": [
    "Для прогноза на 2017 год, актуальным периодом будем считать три года 2014-2016 гг., т.к. в предыдущих пунктах мы установили периоды роста игровых релизов и срок появления и исчезновения новых платформ. Также учитываем тот факт, что разработка игр - динамично развивающаяся сфера, а на разработку игр даже в крупных студиях уходит от 3 лет (https://en.wikipedia.org/wiki/Video_game_development#:~:text=Most%20modern%20PC%20or%20console,platform%20and%20number%20of%20assets)."
   ]
  },
  {
   "cell_type": "code",
   "execution_count": 14,
   "metadata": {},
   "outputs": [],
   "source": [
    "good_data = data.query('year_of_release >= 2014')"
   ]
  },
  {
   "cell_type": "markdown",
   "metadata": {},
   "source": [
    "### Лидеры продаж"
   ]
  },
  {
   "cell_type": "code",
   "execution_count": 15,
   "metadata": {},
   "outputs": [
    {
     "data": {
      "image/png": "[encoded data removed]",
      "text/plain": [
       "<Figure size 1080x432 with 1 Axes>"
      ]
     },
     "metadata": {
      "needs_background": "light"
     },
     "output_type": "display_data"
    }
   ],
   "source": [
    "good_data.pivot_table(index=['platform', 'year_of_release'], values='total_sales', aggfunc='sum').unstack('platform').plot(figsize=(15, 6))\n",
    "\n",
    "plt.title('Продажи по платформам за актуальный период')\n",
    "\n",
    "plt.show()"
   ]
  },
  {
   "cell_type": "markdown",
   "metadata": {},
   "source": [
    "В отобранный нами период самыми прибыльными платформами являются PlayStation 4, Xbox One и Nintendo 3DS. При этом с 2015 года наблюдается падение продаж у всех трех компаний. У остальных платформ продажи находятся на довольно низком уровне и в них также наблюдается отрицательная динамика."
   ]
  },
  {
   "cell_type": "markdown",
   "metadata": {},
   "source": [
    "### Глобальные продажи по платформам"
   ]
  },
  {
   "cell_type": "code",
   "execution_count": 16,
   "metadata": {},
   "outputs": [
    {
     "data": {
      "image/png": "[encoded data removed]",
      "text/plain": [
       "<Figure size 1080x432 with 1 Axes>"
      ]
     },
     "metadata": {
      "needs_background": "light"
     },
     "output_type": "display_data"
    }
   ],
   "source": [
    "# Диаграмма размаха с данными за весь период анализа:\n",
    "plt.figure(figsize=(15,6))\n",
    "sns.boxplot(data=data, y='total_sales', x='platform').set(ylim=(0, 3))\n",
    "\n",
    "plt.title('Продажи по платформам за все время')\n",
    "\n",
    "plt.show()"
   ]
  },
  {
   "cell_type": "code",
   "execution_count": 17,
   "metadata": {},
   "outputs": [
    {
     "data": {
      "image/png": "[encoded data removed]",
      "text/plain": [
       "<Figure size 1080x432 with 1 Axes>"
      ]
     },
     "metadata": {
      "needs_background": "light"
     },
     "output_type": "display_data"
    }
   ],
   "source": [
    "# За актуальный период:\n",
    "\n",
    "plt.figure(figsize=(15,6))\n",
    "sns.boxplot(data=good_data, y='total_sales', x='platform').set(ylim=(0, 2))\n",
    "\n",
    "plt.title('Продажи по платформам за актуальный период')\n",
    "\n",
    "plt.show()"
   ]
  },
  {
   "cell_type": "markdown",
   "metadata": {},
   "source": [
    "В продажах по миру за все время лидируют японские Nintendo и Game Boy. \n",
    "<br>\n",
    "В продажах за актуальный период лидируют платформы PlayStation 4,  Xbox One, Nintendo Wii U, Xbox 360 и Nintendo Wii - у них самые большие медианные значения и \"усы\"."
   ]
  },
  {
   "cell_type": "markdown",
   "metadata": {},
   "source": [
    "### Влияние отзывов на продажи"
   ]
  },
  {
   "cell_type": "markdown",
   "metadata": {},
   "source": [
    "Выявим корреляцию между отзывами и продажами на примере самых популярных платформ за последние 3 года в рамках нашего анализа:"
   ]
  },
  {
   "cell_type": "code",
   "execution_count": 18,
   "metadata": {},
   "outputs": [
    {
     "data": {
      "text/html": [
       "<div>\n",
       "<style scoped>\n",
       "    .dataframe tbody tr th:only-of-type {\n",
       "        vertical-align: middle;\n",
       "    }\n",
       "\n",
       "    .dataframe tbody tr th {\n",
       "        vertical-align: top;\n",
       "    }\n",
       "\n",
       "    .dataframe thead th {\n",
       "        text-align: right;\n",
       "    }\n",
       "</style>\n",
       "<table border=\"1\" class=\"dataframe\">\n",
       "  <thead>\n",
       "    <tr style=\"text-align: right;\">\n",
       "      <th></th>\n",
       "      <th>total_sales</th>\n",
       "      <th>critic_score</th>\n",
       "      <th>user_score</th>\n",
       "    </tr>\n",
       "  </thead>\n",
       "  <tbody>\n",
       "    <tr>\n",
       "      <th>total_sales</th>\n",
       "      <td>1.000000</td>\n",
       "      <td>0.401903</td>\n",
       "      <td>-0.043186</td>\n",
       "    </tr>\n",
       "    <tr>\n",
       "      <th>critic_score</th>\n",
       "      <td>0.401903</td>\n",
       "      <td>1.000000</td>\n",
       "      <td>0.546434</td>\n",
       "    </tr>\n",
       "    <tr>\n",
       "      <th>user_score</th>\n",
       "      <td>-0.043186</td>\n",
       "      <td>0.546434</td>\n",
       "      <td>1.000000</td>\n",
       "    </tr>\n",
       "  </tbody>\n",
       "</table>\n",
       "</div>"
      ],
      "text/plain": [
       "              total_sales  critic_score  user_score\n",
       "total_sales      1.000000      0.401903   -0.043186\n",
       "critic_score     0.401903      1.000000    0.546434\n",
       "user_score      -0.043186      0.546434    1.000000"
      ]
     },
     "execution_count": 18,
     "metadata": {},
     "output_type": "execute_result"
    }
   ],
   "source": [
    "# PlayStation 4:\n",
    "\n",
    "ps4_corr = good_data.query('platform == \"PS4\"')[['total_sales', 'critic_score', 'user_score']].dropna().reset_index(drop=True)\n",
    "\n",
    "ps4_corr.corr()"
   ]
  },
  {
   "cell_type": "code",
   "execution_count": 19,
   "metadata": {},
   "outputs": [
    {
     "data": {
      "text/plain": [
       "Text(0.5, 1.0, 'Зависимость продаж от отзывов пользователей PS4')"
      ]
     },
     "execution_count": 19,
     "metadata": {},
     "output_type": "execute_result"
    },
    {
     "data": {
      "image/png": "[encoded data removed]",
      "text/plain": [
       "<Figure size 864x216 with 1 Axes>"
      ]
     },
     "metadata": {
      "needs_background": "light"
     },
     "output_type": "display_data"
    },
    {
     "data": {
      "image/png": "[encoded data removed]",
      "text/plain": [
       "<Figure size 864x216 with 1 Axes>"
      ]
     },
     "metadata": {
      "needs_background": "light"
     },
     "output_type": "display_data"
    }
   ],
   "source": [
    "ps4_corr.plot(x='critic_score',y='total_sales',kind='scatter',figsize=(12,3), alpha=0.7)\n",
    "plt.title('Зависимость продаж от отзывов критиков PS4')\n",
    "\n",
    "ps4_corr.plot(x='user_score',y='total_sales',kind='scatter',figsize=(12,3), alpha=0.7)\n",
    "plt.title('Зависимость продаж от отзывов пользователей PS4')"
   ]
  },
  {
   "cell_type": "markdown",
   "metadata": {},
   "source": [
    "В то время как отзывы критиков действительно влияют на продажи игр (коэффициент корреляции Пирсона составляет 0.4), отзывы пользователей ни играют никакой роли в продажах (коэффициент -0.04)."
   ]
  },
  {
   "cell_type": "code",
   "execution_count": 20,
   "metadata": {},
   "outputs": [
    {
     "data": {
      "text/html": [
       "<div>\n",
       "<style scoped>\n",
       "    .dataframe tbody tr th:only-of-type {\n",
       "        vertical-align: middle;\n",
       "    }\n",
       "\n",
       "    .dataframe tbody tr th {\n",
       "        vertical-align: top;\n",
       "    }\n",
       "\n",
       "    .dataframe thead th {\n",
       "        text-align: right;\n",
       "    }\n",
       "</style>\n",
       "<table border=\"1\" class=\"dataframe\">\n",
       "  <thead>\n",
       "    <tr style=\"text-align: right;\">\n",
       "      <th></th>\n",
       "      <th>total_sales</th>\n",
       "      <th>critic_score</th>\n",
       "      <th>user_score</th>\n",
       "    </tr>\n",
       "  </thead>\n",
       "  <tbody>\n",
       "    <tr>\n",
       "      <th>total_sales</th>\n",
       "      <td>1.000000</td>\n",
       "      <td>0.422112</td>\n",
       "      <td>-0.091734</td>\n",
       "    </tr>\n",
       "    <tr>\n",
       "      <th>critic_score</th>\n",
       "      <td>0.422112</td>\n",
       "      <td>1.000000</td>\n",
       "      <td>0.440977</td>\n",
       "    </tr>\n",
       "    <tr>\n",
       "      <th>user_score</th>\n",
       "      <td>-0.091734</td>\n",
       "      <td>0.440977</td>\n",
       "      <td>1.000000</td>\n",
       "    </tr>\n",
       "  </tbody>\n",
       "</table>\n",
       "</div>"
      ],
      "text/plain": [
       "              total_sales  critic_score  user_score\n",
       "total_sales      1.000000      0.422112   -0.091734\n",
       "critic_score     0.422112      1.000000    0.440977\n",
       "user_score      -0.091734      0.440977    1.000000"
      ]
     },
     "execution_count": 20,
     "metadata": {},
     "output_type": "execute_result"
    }
   ],
   "source": [
    "# Xbox One:\n",
    "\n",
    "xone_corr = good_data.query('platform == \"XOne\"')[['total_sales', 'critic_score', 'user_score']].dropna().reset_index(drop=True)\n",
    "\n",
    "xone_corr.corr()"
   ]
  },
  {
   "cell_type": "code",
   "execution_count": 21,
   "metadata": {},
   "outputs": [
    {
     "data": {
      "text/plain": [
       "Text(0.5, 1.0, 'Зависимость продаж от отзывов пользователей XOne')"
      ]
     },
     "execution_count": 21,
     "metadata": {},
     "output_type": "execute_result"
    },
    {
     "data": {
      "image/png": "[encoded data removed]",
      "text/plain": [
       "<Figure size 864x216 with 1 Axes>"
      ]
     },
     "metadata": {
      "needs_background": "light"
     },
     "output_type": "display_data"
    },
    {
     "data": {
      "image/png": "[encoded data removed]",
      "text/plain": [
       "<Figure size 864x216 with 1 Axes>"
      ]
     },
     "metadata": {
      "needs_background": "light"
     },
     "output_type": "display_data"
    }
   ],
   "source": [
    "xone_corr.plot(x='critic_score',y='total_sales',kind='scatter',figsize=(12,3), alpha=0.7)\n",
    "plt.title('Зависимость продаж от отзывов критиков XOne')\n",
    "\n",
    "xone_corr.plot(x='user_score',y='total_sales',kind='scatter',figsize=(12,3), alpha=0.7)\n",
    "plt.title('Зависимость продаж от отзывов пользователей XOne')"
   ]
  },
  {
   "cell_type": "markdown",
   "metadata": {},
   "source": [
    "У платформы Xbox One практически идентичная ситуация: отзывы критиков и самих игроков не равнозначны, и не в пользу самих пользователей."
   ]
  },
  {
   "cell_type": "code",
   "execution_count": 22,
   "metadata": {},
   "outputs": [
    {
     "data": {
      "text/html": [
       "<div>\n",
       "<style scoped>\n",
       "    .dataframe tbody tr th:only-of-type {\n",
       "        vertical-align: middle;\n",
       "    }\n",
       "\n",
       "    .dataframe tbody tr th {\n",
       "        vertical-align: top;\n",
       "    }\n",
       "\n",
       "    .dataframe thead th {\n",
       "        text-align: right;\n",
       "    }\n",
       "</style>\n",
       "<table border=\"1\" class=\"dataframe\">\n",
       "  <thead>\n",
       "    <tr style=\"text-align: right;\">\n",
       "      <th></th>\n",
       "      <th>total_sales</th>\n",
       "      <th>critic_score</th>\n",
       "      <th>user_score</th>\n",
       "    </tr>\n",
       "  </thead>\n",
       "  <tbody>\n",
       "    <tr>\n",
       "      <th>total_sales</th>\n",
       "      <td>1.000000</td>\n",
       "      <td>0.375640</td>\n",
       "      <td>0.411451</td>\n",
       "    </tr>\n",
       "    <tr>\n",
       "      <th>critic_score</th>\n",
       "      <td>0.375640</td>\n",
       "      <td>1.000000</td>\n",
       "      <td>0.763536</td>\n",
       "    </tr>\n",
       "    <tr>\n",
       "      <th>user_score</th>\n",
       "      <td>0.411451</td>\n",
       "      <td>0.763536</td>\n",
       "      <td>1.000000</td>\n",
       "    </tr>\n",
       "  </tbody>\n",
       "</table>\n",
       "</div>"
      ],
      "text/plain": [
       "              total_sales  critic_score  user_score\n",
       "total_sales      1.000000      0.375640    0.411451\n",
       "critic_score     0.375640      1.000000    0.763536\n",
       "user_score       0.411451      0.763536    1.000000"
      ]
     },
     "execution_count": 22,
     "metadata": {},
     "output_type": "execute_result"
    }
   ],
   "source": [
    "# Nintendo Wii U:\n",
    "\n",
    "wiiu_corr = good_data.query('platform == \"WiiU\"')[['total_sales', 'critic_score', 'user_score']].dropna().reset_index(drop=True)\n",
    "\n",
    "wiiu_corr.corr()"
   ]
  },
  {
   "cell_type": "code",
   "execution_count": 23,
   "metadata": {},
   "outputs": [
    {
     "data": {
      "text/plain": [
       "Text(0.5, 1.0, 'Зависимость продаж от отзывов пользователей WiiU')"
      ]
     },
     "execution_count": 23,
     "metadata": {},
     "output_type": "execute_result"
    },
    {
     "data": {
      "image/png": "[encoded data removed]",
      "text/plain": [
       "<Figure size 864x216 with 1 Axes>"
      ]
     },
     "metadata": {
      "needs_background": "light"
     },
     "output_type": "display_data"
    },
    {
     "data": {
      "image/png": "[encoded data removed]",
      "text/plain": [
       "<Figure size 864x216 with 1 Axes>"
      ]
     },
     "metadata": {
      "needs_background": "light"
     },
     "output_type": "display_data"
    }
   ],
   "source": [
    "wiiu_corr.plot(x='critic_score',y='total_sales',kind='scatter',figsize=(12,3), alpha=0.7)\n",
    "plt.title('Зависимость продаж от отзывов критиков WiiU')\n",
    "\n",
    "wiiu_corr.plot(x='user_score',y='total_sales',kind='scatter',figsize=(12,3), alpha=0.7)\n",
    "plt.title('Зависимость продаж от отзывов пользователей WiiU')"
   ]
  },
  {
   "cell_type": "markdown",
   "metadata": {},
   "source": [
    "А вот у платформы Nintendo Wii U картина уже другая: здесь отзывы игроков начинают влиять на продажи, и даже больше чем критиков. Возможно, это связано с тем, что большое кол-во игроков Nintendo находятся в Японии, а этот рынок имеет свои особенности и отличия от американского и европейского."
   ]
  },
  {
   "cell_type": "code",
   "execution_count": 24,
   "metadata": {},
   "outputs": [
    {
     "data": {
      "text/html": [
       "<div>\n",
       "<style scoped>\n",
       "    .dataframe tbody tr th:only-of-type {\n",
       "        vertical-align: middle;\n",
       "    }\n",
       "\n",
       "    .dataframe tbody tr th {\n",
       "        vertical-align: top;\n",
       "    }\n",
       "\n",
       "    .dataframe thead th {\n",
       "        text-align: right;\n",
       "    }\n",
       "</style>\n",
       "<table border=\"1\" class=\"dataframe\">\n",
       "  <thead>\n",
       "    <tr style=\"text-align: right;\">\n",
       "      <th></th>\n",
       "      <th>total_sales</th>\n",
       "      <th>critic_score</th>\n",
       "      <th>user_score</th>\n",
       "    </tr>\n",
       "  </thead>\n",
       "  <tbody>\n",
       "    <tr>\n",
       "      <th>total_sales</th>\n",
       "      <td>1.000000</td>\n",
       "      <td>0.525723</td>\n",
       "      <td>0.336514</td>\n",
       "    </tr>\n",
       "    <tr>\n",
       "      <th>critic_score</th>\n",
       "      <td>0.525723</td>\n",
       "      <td>1.000000</td>\n",
       "      <td>0.625309</td>\n",
       "    </tr>\n",
       "    <tr>\n",
       "      <th>user_score</th>\n",
       "      <td>0.336514</td>\n",
       "      <td>0.625309</td>\n",
       "      <td>1.000000</td>\n",
       "    </tr>\n",
       "  </tbody>\n",
       "</table>\n",
       "</div>"
      ],
      "text/plain": [
       "              total_sales  critic_score  user_score\n",
       "total_sales      1.000000      0.525723    0.336514\n",
       "critic_score     0.525723      1.000000    0.625309\n",
       "user_score       0.336514      0.625309    1.000000"
      ]
     },
     "execution_count": 24,
     "metadata": {},
     "output_type": "execute_result"
    }
   ],
   "source": [
    "# Xbox 360:\n",
    "\n",
    "x360_corr = good_data.query('platform == \"X360\"')[['total_sales', 'critic_score', 'user_score']].dropna().reset_index(drop=True)\n",
    "\n",
    "x360_corr.corr()"
   ]
  },
  {
   "cell_type": "code",
   "execution_count": 25,
   "metadata": {},
   "outputs": [
    {
     "data": {
      "text/plain": [
       "Text(0.5, 1.0, 'Зависимость продаж от отзывов пользователей X360')"
      ]
     },
     "execution_count": 25,
     "metadata": {},
     "output_type": "execute_result"
    },
    {
     "data": {
      "image/png": "[encoded data removed]",
      "text/plain": [
       "<Figure size 864x216 with 1 Axes>"
      ]
     },
     "metadata": {
      "needs_background": "light"
     },
     "output_type": "display_data"
    },
    {
     "data": {
      "image/png": "[encoded data removed]",
      "text/plain": [
       "<Figure size 864x216 with 1 Axes>"
      ]
     },
     "metadata": {
      "needs_background": "light"
     },
     "output_type": "display_data"
    }
   ],
   "source": [
    "x360_corr.plot(x='critic_score',y='total_sales',kind='scatter',figsize=(12, 3), alpha=0.7)\n",
    "plt.title('Зависимость продаж от отзывов критиков X360')\n",
    "\n",
    "x360_corr.plot(x='user_score',y='total_sales',kind='scatter',figsize=(12, 3), alpha=0.7)\n",
    "plt.title('Зависимость продаж от отзывов пользователей X360')"
   ]
  },
  {
   "cell_type": "markdown",
   "metadata": {},
   "source": [
    "Тенденции PlayStation 4 сохраняются и в картине по Xbox 360: отзывы критиков влияют на продажи в большей степени чем отзывы игроков."
   ]
  },
  {
   "cell_type": "code",
   "execution_count": 26,
   "metadata": {},
   "outputs": [
    {
     "data": {
      "text/html": [
       "<div>\n",
       "<style scoped>\n",
       "    .dataframe tbody tr th:only-of-type {\n",
       "        vertical-align: middle;\n",
       "    }\n",
       "\n",
       "    .dataframe tbody tr th {\n",
       "        vertical-align: top;\n",
       "    }\n",
       "\n",
       "    .dataframe thead th {\n",
       "        text-align: right;\n",
       "    }\n",
       "</style>\n",
       "<table border=\"1\" class=\"dataframe\">\n",
       "  <thead>\n",
       "    <tr style=\"text-align: right;\">\n",
       "      <th></th>\n",
       "      <th>total_sales</th>\n",
       "      <th>critic_score</th>\n",
       "      <th>user_score</th>\n",
       "    </tr>\n",
       "  </thead>\n",
       "  <tbody>\n",
       "    <tr>\n",
       "      <th>total_sales</th>\n",
       "      <td>1.000000</td>\n",
       "      <td>0.284686</td>\n",
       "      <td>0.279850</td>\n",
       "    </tr>\n",
       "    <tr>\n",
       "      <th>critic_score</th>\n",
       "      <td>0.284686</td>\n",
       "      <td>1.000000</td>\n",
       "      <td>0.862485</td>\n",
       "    </tr>\n",
       "    <tr>\n",
       "      <th>user_score</th>\n",
       "      <td>0.279850</td>\n",
       "      <td>0.862485</td>\n",
       "      <td>1.000000</td>\n",
       "    </tr>\n",
       "  </tbody>\n",
       "</table>\n",
       "</div>"
      ],
      "text/plain": [
       "              total_sales  critic_score  user_score\n",
       "total_sales      1.000000      0.284686    0.279850\n",
       "critic_score     0.284686      1.000000    0.862485\n",
       "user_score       0.279850      0.862485    1.000000"
      ]
     },
     "execution_count": 26,
     "metadata": {},
     "output_type": "execute_result"
    }
   ],
   "source": [
    "# Nintendo DS:\n",
    "\n",
    "ds_corr = good_data.query('platform == \"3DS\"')[['total_sales', 'critic_score', 'user_score']].dropna().reset_index(drop=True)\n",
    "\n",
    "ds_corr.corr()"
   ]
  },
  {
   "cell_type": "code",
   "execution_count": 27,
   "metadata": {},
   "outputs": [
    {
     "data": {
      "text/plain": [
       "Text(0.5, 1.0, 'Зависимость продаж от отзывов пользователей 3DS')"
      ]
     },
     "execution_count": 27,
     "metadata": {},
     "output_type": "execute_result"
    },
    {
     "data": {
      "image/png": "[encoded data removed]",
      "text/plain": [
       "<Figure size 864x216 with 1 Axes>"
      ]
     },
     "metadata": {
      "needs_background": "light"
     },
     "output_type": "display_data"
    },
    {
     "data": {
      "image/png": "[encoded data removed]",
      "text/plain": [
       "<Figure size 864x216 with 1 Axes>"
      ]
     },
     "metadata": {
      "needs_background": "light"
     },
     "output_type": "display_data"
    }
   ],
   "source": [
    "ds_corr.plot(x='critic_score',y='total_sales',kind='scatter',figsize=(12,3), alpha=0.7)\n",
    "plt.title('Зависимость продаж от отзывов критиков 3DS')\n",
    "\n",
    "ds_corr.plot(x='user_score',y='total_sales',kind='scatter',figsize=(12,3), alpha=0.7)\n",
    "plt.title('Зависимость продаж от отзывов пользователей 3DS')"
   ]
  },
  {
   "cell_type": "markdown",
   "metadata": {},
   "source": [
    "В случае с платофрмой Nintendo DS выводы отличаются: отзывы критиков и игроков равнозначны."
   ]
  },
  {
   "cell_type": "markdown",
   "metadata": {},
   "source": [
    "### Жанры игр"
   ]
  },
  {
   "cell_type": "markdown",
   "metadata": {},
   "source": [
    "Посмотрим на какие жанры разработчики делали ставки больше всего:"
   ]
  },
  {
   "cell_type": "code",
   "execution_count": 28,
   "metadata": {},
   "outputs": [
    {
     "data": {
      "text/plain": [
       "genre\n",
       "Action          619\n",
       "Role-Playing    221\n",
       "Adventure       185\n",
       "Sports          161\n",
       "Shooter         128\n",
       "Name: name, dtype: int64"
      ]
     },
     "execution_count": 28,
     "metadata": {},
     "output_type": "execute_result"
    }
   ],
   "source": [
    "genres = good_data.groupby('genre')['name'].count().sort_values(ascending=False)\n",
    "genres.head(5)"
   ]
  },
  {
   "cell_type": "code",
   "execution_count": 29,
   "metadata": {},
   "outputs": [
    {
     "data": {
      "image/png": "[encoded data removed]",
      "text/plain": [
       "<Figure size 1440x576 with 1 Axes>"
      ]
     },
     "metadata": {},
     "output_type": "display_data"
    }
   ],
   "source": [
    "myexplode = [0.1, 0.1, 0.1, 0.1, 0.1, 0.0, 0.0, 0.0, 0.0, 0.0, 0.0, 0.]\n",
    "plt.figure(figsize=(20,8))\n",
    "plt.pie(labels=genres.index, x=genres, explode=myexplode, autopct=\"%.1f\")\n",
    "\n",
    "plt.title('Самые популярные жанры')\n",
    "\n",
    "plt.show()"
   ]
  },
  {
   "cell_type": "markdown",
   "metadata": {},
   "source": [
    "По диаграмме распределения можно выделить 5 жанров, вмещающих в себя большинство игр: Action, Role-Playng, Adventure, Sports, Role-Shooter. Двумя самыми малочисленными жанрами стали стратегии и пазлы."
   ]
  },
  {
   "cell_type": "markdown",
   "metadata": {},
   "source": [
    "А теперь узнаем какой жанр игр пользовался наибольшей популярностью у пользователей и принес рвзработчикам больше всего продаж:"
   ]
  },
  {
   "cell_type": "code",
   "execution_count": 30,
   "metadata": {},
   "outputs": [
    {
     "data": {
      "text/html": [
       "<div>\n",
       "<style scoped>\n",
       "    .dataframe tbody tr th:only-of-type {\n",
       "        vertical-align: middle;\n",
       "    }\n",
       "\n",
       "    .dataframe tbody tr th {\n",
       "        vertical-align: top;\n",
       "    }\n",
       "\n",
       "    .dataframe thead th {\n",
       "        text-align: right;\n",
       "    }\n",
       "</style>\n",
       "<table border=\"1\" class=\"dataframe\">\n",
       "  <thead>\n",
       "    <tr style=\"text-align: right;\">\n",
       "      <th></th>\n",
       "      <th>sum</th>\n",
       "      <th>median</th>\n",
       "    </tr>\n",
       "    <tr>\n",
       "      <th>genre</th>\n",
       "      <th></th>\n",
       "      <th></th>\n",
       "    </tr>\n",
       "  </thead>\n",
       "  <tbody>\n",
       "    <tr>\n",
       "      <th>Shooter</th>\n",
       "      <td>170.94</td>\n",
       "      <td>0.515</td>\n",
       "    </tr>\n",
       "    <tr>\n",
       "      <th>Sports</th>\n",
       "      <td>109.48</td>\n",
       "      <td>0.180</td>\n",
       "    </tr>\n",
       "    <tr>\n",
       "      <th>Platform</th>\n",
       "      <td>18.09</td>\n",
       "      <td>0.140</td>\n",
       "    </tr>\n",
       "    <tr>\n",
       "      <th>Fighting</th>\n",
       "      <td>28.22</td>\n",
       "      <td>0.125</td>\n",
       "    </tr>\n",
       "    <tr>\n",
       "      <th>Role-Playing</th>\n",
       "      <td>101.44</td>\n",
       "      <td>0.110</td>\n",
       "    </tr>\n",
       "  </tbody>\n",
       "</table>\n",
       "</div>"
      ],
      "text/plain": [
       "                 sum  median\n",
       "genre                       \n",
       "Shooter       170.94   0.515\n",
       "Sports        109.48   0.180\n",
       "Platform       18.09   0.140\n",
       "Fighting       28.22   0.125\n",
       "Role-Playing  101.44   0.110"
      ]
     },
     "execution_count": 30,
     "metadata": {},
     "output_type": "execute_result"
    }
   ],
   "source": [
    "genre_sales = good_data.groupby('genre')['total_sales'].agg(['sum', 'median']).sort_values(by='median', ascending=False)\n",
    "genre_sales.head(5)"
   ]
  },
  {
   "cell_type": "code",
   "execution_count": 31,
   "metadata": {},
   "outputs": [
    {
     "ename": "NameError",
     "evalue": "name 'y' is not defined",
     "output_type": "error",
     "traceback": [
      "\u001b[0;31m---------------------------------------------------------------------------\u001b[0m",
      "\u001b[0;31mNameError\u001b[0m                                 Traceback (most recent call last)",
      "Input \u001b[0;32mIn [31]\u001b[0m, in \u001b[0;36m<cell line: 3>\u001b[0;34m()\u001b[0m\n\u001b[1;32m      1\u001b[0m plt\u001b[38;5;241m.\u001b[39mfigure(figsize\u001b[38;5;241m=\u001b[39m(\u001b[38;5;241m15\u001b[39m, \u001b[38;5;241m6\u001b[39m))\n\u001b[0;32m----> 3\u001b[0m sns\u001b[38;5;241m.\u001b[39mboxplot(data\u001b[38;5;241m=\u001b[39mgood_data, y\u001b[38;5;241m=\u001b[39m\u001b[43my\u001b[49m, x\u001b[38;5;241m=\u001b[39m\u001b[38;5;124m'\u001b[39m\u001b[38;5;124mgenre\u001b[39m\u001b[38;5;124m'\u001b[39m)\u001b[38;5;241m.\u001b[39mset(ylim\u001b[38;5;241m=\u001b[39m(\u001b[38;5;241m0\u001b[39m, \u001b[38;5;241m2.5\u001b[39m))\n\u001b[1;32m      5\u001b[0m plt\u001b[38;5;241m.\u001b[39mtitle(\u001b[38;5;124m'\u001b[39m\u001b[38;5;124mПродажи по жанрам\u001b[39m\u001b[38;5;124m'\u001b[39m)\n\u001b[1;32m      7\u001b[0m plt\u001b[38;5;241m.\u001b[39mshow()\n",
      "\u001b[0;31mNameError\u001b[0m: name 'y' is not defined"
     ]
    },
    {
     "data": {
      "text/plain": [
       "<Figure size 1080x432 with 0 Axes>"
      ]
     },
     "metadata": {},
     "output_type": "display_data"
    }
   ],
   "source": [
    "plt.figure(figsize=(15, 6))\n",
    "\n",
    "sns.boxplot(data=good_data, y=y, x='genre').set(ylim=(0, 2.5))\n",
    "\n",
    "plt.title('Продажи по жанрам')\n",
    "\n",
    "plt.show()"
   ]
  },
  {
   "cell_type": "markdown",
   "metadata": {},
   "source": [
    "Лидером рынка становятся жанр Shooter, или \"стрелялка\"."
   ]
  },
  {
   "cell_type": "markdown",
   "metadata": {},
   "source": [
    "## Портрет пользователя каждого региона"
   ]
  },
  {
   "cell_type": "markdown",
   "metadata": {},
   "source": [
    "### Северная Америка"
   ]
  },
  {
   "cell_type": "code",
   "execution_count": null,
   "metadata": {},
   "outputs": [],
   "source": [
    "NA_sales_platform = good_data.groupby('platform')['NA_sales'].sum().sort_values(ascending=False)\n",
    "NA_sales_genre = good_data.groupby('genre')['NA_sales'].sum().sort_values(ascending=False)\n",
    "NA_sales_rating = good_data.groupby('rating')['NA_sales'].sum().sort_values(ascending=False)\n",
    "\n",
    "plt.figure(0)\n",
    "plt.figure(figsize=(8,8))\n",
    "plt.pie(labels=NA_sales_platform.index, x=NA_sales_platform, autopct=\"%.1f\")\n",
    "plt.title('Платформы NA')\n",
    "\n",
    "plt.figure(1)\n",
    "plt.figure(figsize=(8,8))\n",
    "plt.pie(labels=NA_sales_genre.index, x=NA_sales_genre, autopct=\"%.1f\")\n",
    "plt.title('Жанры NA')\n",
    "\n",
    "plt.figure(2)\n",
    "plt.figure(figsize=(8,8))\n",
    "plt.pie(labels=NA_sales_rating.index, x=NA_sales_rating, autopct=\"%.1f\")\n",
    "plt.title('Рейтинг NA')\n",
    "\n",
    "plt.show()"
   ]
  },
  {
   "cell_type": "markdown",
   "metadata": {},
   "source": [
    "По платформам в Северной Америке лидируют PlayStation 4,  Xbox One, Xbox 360, Nintendo 3DS и PlayStation 3. По жанрам игр картина не отличается от общей по миру: в лидерах все те же Shooter, Action, Sports и Role-Playing. Популярнее всего в странах Северной Америки игры с рейтингом «М» («Mature»). \n",
    "<br>\n",
    "Необходимо отметить, что более 20% информации по рейтингу отмечено как \"W\", а это наша \"заглушка\" для пропущенных значений, хотя рейтинг ESRB как раз используется для стран Северной Америки, поэтому из всего этого можно сделать вывод, что данные по рейтингу были собраны плохо, и в других странах количество пропусков, возможно, будет только увеличиваться, т.к. там существуют свои рейтинги."
   ]
  },
  {
   "cell_type": "markdown",
   "metadata": {},
   "source": [
    "### Европа"
   ]
  },
  {
   "cell_type": "code",
   "execution_count": null,
   "metadata": {},
   "outputs": [],
   "source": [
    "EU_sales_platform = good_data.groupby('platform')['EU_sales'].sum().sort_values(ascending=False)\n",
    "EU_sales_genre = good_data.groupby('genre')['EU_sales'].sum().sort_values(ascending=False)\n",
    "EU_sales_rating = good_data.groupby('rating')['EU_sales'].sum().sort_values(ascending=False)\n",
    "\n",
    "plt.figure(0)\n",
    "plt.figure(figsize=(8,8))\n",
    "plt.pie(labels=EU_sales_platform.index, x=EU_sales_platform, autopct=\"%.1f\")\n",
    "plt.title('Платформы EU')\n",
    "\n",
    "plt.figure(1)\n",
    "plt.figure(figsize=(8,8))\n",
    "plt.pie(labels=EU_sales_genre.index, x=EU_sales_genre, autopct=\"%.1f\")\n",
    "plt.title('Жанры EU')\n",
    "\n",
    "plt.figure(2)\n",
    "plt.figure(figsize=(8,8))\n",
    "plt.pie(labels=EU_sales_rating.index, x=EU_sales_rating, autopct=\"%.1f\")\n",
    "plt.title('Рейтинг EU')\n",
    "\n",
    "plt.show()"
   ]
  },
  {
   "cell_type": "markdown",
   "metadata": {},
   "source": [
    "Европейский рынок не сильно отличается от западного: в Европе лидируют  платформы PlayStation 4, Xbox One, PlayStation 3, PlayStation и Nintendo 3DS. По жанрам игр и рейтингу картина также остается неизменной. "
   ]
  },
  {
   "cell_type": "markdown",
   "metadata": {},
   "source": [
    "### Япония"
   ]
  },
  {
   "cell_type": "code",
   "execution_count": null,
   "metadata": {},
   "outputs": [],
   "source": [
    "JP_sales_platform = good_data.groupby('platform')['JP_sales'].sum().sort_values(ascending=False)\n",
    "JP_sales_genre = good_data.groupby('genre')['JP_sales'].sum().sort_values(ascending=False)\n",
    "JP_sales_rating = good_data.groupby('rating')['JP_sales'].sum().sort_values(ascending=False)\n",
    "\n",
    "plt.figure(0)\n",
    "plt.figure(figsize=(8,8))\n",
    "plt.pie(labels=JP_sales_platform.index, x=JP_sales_platform, autopct=\"%.1f\")\n",
    "plt.title('Платформы JP')\n",
    "\n",
    "plt.figure(1)\n",
    "plt.figure(figsize=(8,8))\n",
    "plt.pie(labels=JP_sales_genre.index, x=JP_sales_genre, autopct=\"%.1f\")\n",
    "plt.title('Жанры JP')\n",
    "\n",
    "plt.figure(2)\n",
    "plt.figure(figsize=(8,8))\n",
    "plt.pie(labels=JP_sales_rating.index, x=JP_sales_rating, autopct=\"%.1f\")\n",
    "plt.title('Рейтинг JP')\n",
    "\n",
    "plt.show()"
   ]
  },
  {
   "cell_type": "markdown",
   "metadata": {},
   "source": [
    "А вот картина по Японии уже существенно отличается от мировой: здесь со значительным перевесом лидирует платофрма Nintendo 3DS (японская компания), а уже за ней платформы семейства  PlayStation. По игровым жанрам в лидеры вырывается RPG. \n",
    "<br>\n",
    "Т.к. рейтинг ESRB не предназначен для Японии, самый популярный рейтинг в Японии из имеющихся данных - «T» («Teen»), затем «E» («Everyone»), и «М» («Mature»), но нам не следует полностью полагаться на этот вывод, ведь более 60% \"местных\" данных по рейтингу не были собраны."
   ]
  },
  {
   "cell_type": "markdown",
   "metadata": {},
   "source": [
    "## Проверка гипотез"
   ]
  },
  {
   "cell_type": "markdown",
   "metadata": {},
   "source": [
    "### Пользовательские рейтинги платформ Xbox One и PC "
   ]
  },
  {
   "cell_type": "markdown",
   "metadata": {},
   "source": [
    "Выдвенем нулевую и альтернативную гипотезы для первого утверждения «Средние пользовательские рейтинги платформ Xbox One и PC одинаковые»:\n",
    "<br>\n",
    "H0 - «Средние рейтинги платформ Xbox One и PC одинаковые»\n",
    "<br>\n",
    "H1 - «Средние рейтинги платформ Xbox One и PC различаются»\n",
    "<br>\n",
    "Наши две генеральные совокупности по двум платформам никак не зависят друг от друга, поэтому выбираем метод ttest_ind."
   ]
  },
  {
   "cell_type": "code",
   "execution_count": null,
   "metadata": {},
   "outputs": [],
   "source": [
    "# Избавимся от пропусков перед проведением теста:\n",
    "data_xone = good_data[good_data['platform']==\"XOne\"]['user_score'].dropna() \n",
    "data_pc = good_data[good_data['platform']==\"PC\"]['user_score'].dropna()\n",
    "\n",
    "# Узнаем размеры совокупностей:\n",
    "print(good_data.query('platform == \"XOne\"')['user_score'].count())\n",
    "print(good_data.query('platform == \"PC\"')['user_score'].count())\n"
   ]
  },
  {
   "cell_type": "markdown",
   "metadata": {},
   "source": [
    "И так как данные не сильно различаются по размеру, устанавливаем параметр equal_var = True."
   ]
  },
  {
   "cell_type": "code",
   "execution_count": null,
   "metadata": {},
   "outputs": [],
   "source": [
    "alpha = 0.05\n",
    "\n",
    "results = st.ttest_ind(\n",
    "    data_xone, \n",
    "    data_pc, equal_var = True)\n",
    "\n",
    "print('p-значение:', results.pvalue)\n",
    "\n",
    "if results.pvalue < alpha:\n",
    "    print(\"Отвергаем нулевую гипотезу\")\n",
    "else:\n",
    "    print(\"Не получилось отвергнуть нулевую гипотезу\") \n"
   ]
  },
  {
   "cell_type": "markdown",
   "metadata": {},
   "source": [
    "###  Пользовательские рейтинги жанров Action и Sports"
   ]
  },
  {
   "cell_type": "markdown",
   "metadata": {},
   "source": [
    "Выдвенем нулевую и альтернативную гипотезы для второго утверждения «Средние пользовательские рейтинги жанров Action и Sports разные»:\n",
    "<br>\n",
    "H0 - «Средние  рейтинги жанров Action и Sports одинаковы»\n",
    "<br>\n",
    "H1 - «Средние  рейтинги жанров Action и Sports разные»\n",
    "<br>\n",
    "Наши две генеральные совокупности по двум платформам никак не зависят друг от друга, поэтому выбираем метод ttest_ind."
   ]
  },
  {
   "cell_type": "code",
   "execution_count": null,
   "metadata": {},
   "outputs": [],
   "source": [
    "# Избавимся от пропусков перед проведением теста:\n",
    "data_action = good_data[good_data['genre']==\"Action\"]['user_score'].dropna() \n",
    "data_sports = good_data[good_data['genre']==\"Sports\"]['user_score'].dropna()\n",
    "\n",
    "# Узнаем размеры совокупностей:\n",
    "print(good_data.query('genre == \"Action\"')['user_score'].count())\n",
    "print(good_data.query('genre == \"Sports\"')['user_score'].count())\n"
   ]
  },
  {
   "cell_type": "markdown",
   "metadata": {},
   "source": [
    "Данные сильно различаются по размеру, устанавливаем параметр equal_var = False."
   ]
  },
  {
   "cell_type": "code",
   "execution_count": null,
   "metadata": {},
   "outputs": [],
   "source": [
    "alpha = 0.05\n",
    "\n",
    "results = st.ttest_ind(\n",
    "    data_action, \n",
    "    data_sports, equal_var = False)\n",
    "\n",
    "print('p-значение:', results.pvalue)\n",
    "\n",
    "if results.pvalue < alpha:\n",
    "    print(\"Отвергаем нулевую гипотезу\")\n",
    "else:\n",
    "    print(\"Не получилось отвергнуть нулевую гипотезу\") \n"
   ]
  },
  {
   "cell_type": "markdown",
   "metadata": {},
   "source": [
    "## Общий вывод"
   ]
  },
  {
   "cell_type": "markdown",
   "metadata": {},
   "source": [
    "Анализ данных о продаже игр мы начали с предобработки: переименовали столбцы, изменили тип некоторых данных, удалили несколько строк с пропусками, добавили дополнительный столбец с расчетами. На их основе был произведен сравнительный анализ показателей.\n",
    "<br>\n",
    "Мы пришли к следующим выводам:\n",
    "   - проанализировав периоды роста игровых релизов и срок появления и исчезновения новых платформ, мы пришли к заключению, что актуальный период для анализа игрового рынка на 2017 год - 3 года (2014, 2015, 2016);\n",
    "   - самыми прибыльными платформами являются PlayStation 4, Xbox One и Nintendo 3DS. При этом с 2015 года наблюдается падение продаж у всех трех компаний;\n",
    "   - в то время как отзывы критиков имеют влияние на игровые продажи, отзывы самих игроков практически не влияют на коммерческий успех релиза;\n",
    "   - жанр Shooter является наиболее прибыльным;\n",
    "   - мы также составили портреты пользователей трех регионов продаж: Северной Америки, Европы и Японии. Игроки из Японии сильно отличаются от остальных регоионов в своих предподчетиниях по всем параметрам, в то время как покупатели из Северной Америки и Европы практически идентичны.\n",
    "   \n",
    "<br>\n",
    "Нами также было проверено 2 утверждения: «Средние рейтинги платформ Xbox One и PC одинаковые» и «Средние  рейтинги жанров Action и Sports одинаковые». Первое утверждение можно считать верными, второе  - не подтвердилось.\n",
    "<br>\n",
    "<br>\n",
    "Итогом нашего исследования стало понимание, что в 2017 году к коммерческому успеху приведут продажи платформ PlayStation 4 и Xbox One. Маркетологам стоит сконцентрироваться на беспроигрышных \"стрелялках\", либо, если компания готова рискнуть, на  \"платформерых\" или спортивных симуляторах с рейтингом \"M\". Внимание стоит обратить на отзывы экспертов; отзывы пользователей не критичны для продаж.  Для японского рынка картина чуть другая: лидером по платформам останется Nintendo 3DS, и наиболее прибыльными станет жанр Role-Playing. Здесть поработать придется и с отзывами игроков, и критиков.\n"
   ]
  }
 ],
 "metadata": {
  "ExecuteTimeLog": [
   {
    "duration": 1279,
    "start_time": "2022-06-27T11:24:50.395Z"
   },
   {
    "duration": 49,
    "start_time": "2022-06-27T11:25:19.259Z"
   },
   {
    "duration": 63,
    "start_time": "2022-06-27T11:25:43.118Z"
   },
   {
    "duration": 5,
    "start_time": "2022-06-27T11:35:58.694Z"
   },
   {
    "duration": 95,
    "start_time": "2022-06-27T11:36:05.609Z"
   },
   {
    "duration": 7,
    "start_time": "2022-06-27T11:37:04.359Z"
   },
   {
    "duration": 10,
    "start_time": "2022-06-27T11:37:19.254Z"
   },
   {
    "duration": 13,
    "start_time": "2022-06-27T11:38:02.906Z"
   },
   {
    "duration": 10,
    "start_time": "2022-06-27T11:41:50.529Z"
   },
   {
    "duration": 5,
    "start_time": "2022-06-27T11:41:56.672Z"
   },
   {
    "duration": 22,
    "start_time": "2022-06-27T11:43:07.294Z"
   },
   {
    "duration": 27,
    "start_time": "2022-06-27T11:43:11.127Z"
   },
   {
    "duration": 11,
    "start_time": "2022-06-27T11:46:38.816Z"
   },
   {
    "duration": 12,
    "start_time": "2022-06-27T12:18:44.772Z"
   },
   {
    "duration": 14,
    "start_time": "2022-06-27T12:27:25.779Z"
   },
   {
    "duration": 1497,
    "start_time": "2022-06-29T08:25:25.817Z"
   },
   {
    "duration": 8,
    "start_time": "2022-06-29T08:25:31.466Z"
   },
   {
    "duration": 14,
    "start_time": "2022-06-29T08:25:35.390Z"
   },
   {
    "duration": 26,
    "start_time": "2022-06-29T08:32:30.696Z"
   },
   {
    "duration": 112,
    "start_time": "2022-06-29T08:44:16.358Z"
   },
   {
    "duration": 10,
    "start_time": "2022-06-29T08:45:57.817Z"
   },
   {
    "duration": 20,
    "start_time": "2022-06-29T08:46:14.275Z"
   },
   {
    "duration": 39,
    "start_time": "2022-06-29T08:47:16.735Z"
   },
   {
    "duration": 50,
    "start_time": "2022-06-29T08:47:44.399Z"
   },
   {
    "duration": 18,
    "start_time": "2022-06-29T08:48:30.734Z"
   },
   {
    "duration": 26,
    "start_time": "2022-06-29T08:52:31.445Z"
   },
   {
    "duration": 9,
    "start_time": "2022-06-29T09:10:16.294Z"
   },
   {
    "duration": 0,
    "start_time": "2022-06-29T09:24:42.397Z"
   },
   {
    "duration": 16,
    "start_time": "2022-06-29T09:25:02.673Z"
   },
   {
    "duration": 13,
    "start_time": "2022-06-29T09:25:05.243Z"
   },
   {
    "duration": 7,
    "start_time": "2022-06-29T09:25:20.720Z"
   },
   {
    "duration": 9,
    "start_time": "2022-06-29T09:26:03.388Z"
   },
   {
    "duration": 8,
    "start_time": "2022-06-29T09:26:31.132Z"
   },
   {
    "duration": 15,
    "start_time": "2022-06-29T09:26:38.382Z"
   },
   {
    "duration": 9,
    "start_time": "2022-06-29T09:26:50.586Z"
   },
   {
    "duration": 1153,
    "start_time": "2022-06-29T09:26:58.708Z"
   },
   {
    "duration": 7,
    "start_time": "2022-06-29T09:26:59.863Z"
   },
   {
    "duration": 17,
    "start_time": "2022-06-29T09:26:59.871Z"
   },
   {
    "duration": 20,
    "start_time": "2022-06-29T09:26:59.890Z"
   },
   {
    "duration": 37,
    "start_time": "2022-06-29T09:26:59.912Z"
   },
   {
    "duration": 17,
    "start_time": "2022-06-29T09:26:59.950Z"
   },
   {
    "duration": 9,
    "start_time": "2022-06-29T09:26:59.968Z"
   },
   {
    "duration": 8,
    "start_time": "2022-06-29T09:27:31.079Z"
   },
   {
    "duration": 100,
    "start_time": "2022-06-29T09:27:47.855Z"
   },
   {
    "duration": 85,
    "start_time": "2022-06-29T09:31:22.149Z"
   },
   {
    "duration": 324,
    "start_time": "2022-06-29T09:31:39.629Z"
   },
   {
    "duration": 403,
    "start_time": "2022-06-29T09:33:56.576Z"
   },
   {
    "duration": 8,
    "start_time": "2022-06-29T09:50:53.062Z"
   },
   {
    "duration": 12,
    "start_time": "2022-06-29T09:51:08.591Z"
   },
   {
    "duration": 9,
    "start_time": "2022-06-29T09:51:57.308Z"
   },
   {
    "duration": 7,
    "start_time": "2022-06-29T09:52:10.019Z"
   },
   {
    "duration": 7,
    "start_time": "2022-06-29T09:52:38.865Z"
   },
   {
    "duration": 7,
    "start_time": "2022-06-29T09:59:10.490Z"
   },
   {
    "duration": 7,
    "start_time": "2022-06-29T09:59:17.471Z"
   },
   {
    "duration": 11,
    "start_time": "2022-06-29T10:02:21.071Z"
   },
   {
    "duration": 11,
    "start_time": "2022-06-29T10:02:48.304Z"
   },
   {
    "duration": 16,
    "start_time": "2022-06-29T10:12:22.278Z"
   },
   {
    "duration": 460,
    "start_time": "2022-06-29T10:12:42.637Z"
   },
   {
    "duration": 12,
    "start_time": "2022-06-29T10:12:58.284Z"
   },
   {
    "duration": 3,
    "start_time": "2022-06-29T10:18:02.079Z"
   },
   {
    "duration": 2,
    "start_time": "2022-06-29T10:18:08.968Z"
   },
   {
    "duration": 19,
    "start_time": "2022-06-29T10:19:50.186Z"
   },
   {
    "duration": 1369,
    "start_time": "2022-06-29T10:20:17.335Z"
   },
   {
    "duration": 8,
    "start_time": "2022-06-29T10:20:18.706Z"
   },
   {
    "duration": 27,
    "start_time": "2022-06-29T10:20:18.716Z"
   },
   {
    "duration": 21,
    "start_time": "2022-06-29T10:20:18.746Z"
   },
   {
    "duration": 19,
    "start_time": "2022-06-29T10:20:18.769Z"
   },
   {
    "duration": 17,
    "start_time": "2022-06-29T10:20:18.789Z"
   },
   {
    "duration": 417,
    "start_time": "2022-06-29T10:20:18.807Z"
   },
   {
    "duration": 17,
    "start_time": "2022-06-29T10:20:19.226Z"
   },
   {
    "duration": 3,
    "start_time": "2022-06-29T10:20:19.245Z"
   },
   {
    "duration": 124,
    "start_time": "2022-06-29T10:20:19.250Z"
   },
   {
    "duration": 17,
    "start_time": "2022-06-29T10:22:43.802Z"
   },
   {
    "duration": 20,
    "start_time": "2022-06-29T10:23:22.018Z"
   },
   {
    "duration": 9,
    "start_time": "2022-06-29T10:23:37.847Z"
   },
   {
    "duration": 3,
    "start_time": "2022-06-29T10:23:41.776Z"
   },
   {
    "duration": 16,
    "start_time": "2022-06-29T10:23:44.793Z"
   },
   {
    "duration": 155,
    "start_time": "2022-06-29T10:24:17.008Z"
   },
   {
    "duration": 95,
    "start_time": "2022-06-29T10:24:26.504Z"
   },
   {
    "duration": 273,
    "start_time": "2022-06-29T10:24:59.389Z"
   },
   {
    "duration": 226,
    "start_time": "2022-06-29T10:42:49.331Z"
   },
   {
    "duration": 12,
    "start_time": "2022-06-29T11:26:39.979Z"
   },
   {
    "duration": 6,
    "start_time": "2022-06-29T11:26:55.458Z"
   },
   {
    "duration": 82,
    "start_time": "2022-06-29T11:30:01.488Z"
   },
   {
    "duration": 7,
    "start_time": "2022-06-29T11:30:35.612Z"
   },
   {
    "duration": 78,
    "start_time": "2022-06-29T11:30:38.065Z"
   },
   {
    "duration": 161,
    "start_time": "2022-06-29T11:32:02.122Z"
   },
   {
    "duration": 28,
    "start_time": "2022-06-29T11:32:22.284Z"
   },
   {
    "duration": 13,
    "start_time": "2022-06-29T11:44:01.970Z"
   },
   {
    "duration": 345,
    "start_time": "2022-06-29T11:44:26.708Z"
   },
   {
    "duration": 301,
    "start_time": "2022-06-29T11:46:24.913Z"
   },
   {
    "duration": 284,
    "start_time": "2022-06-29T11:47:15.075Z"
   },
   {
    "duration": 397,
    "start_time": "2022-06-29T11:47:39.007Z"
   },
   {
    "duration": 108,
    "start_time": "2022-06-29T12:03:50.306Z"
   },
   {
    "duration": 9,
    "start_time": "2022-06-29T12:06:34.578Z"
   },
   {
    "duration": 1143,
    "start_time": "2022-06-29T12:07:05.489Z"
   },
   {
    "duration": 6,
    "start_time": "2022-06-29T12:07:06.634Z"
   },
   {
    "duration": 27,
    "start_time": "2022-06-29T12:07:06.642Z"
   },
   {
    "duration": 35,
    "start_time": "2022-06-29T12:07:06.671Z"
   },
   {
    "duration": 16,
    "start_time": "2022-06-29T12:07:06.708Z"
   },
   {
    "duration": 15,
    "start_time": "2022-06-29T12:07:06.725Z"
   },
   {
    "duration": 361,
    "start_time": "2022-06-29T12:07:06.742Z"
   },
   {
    "duration": 9,
    "start_time": "2022-06-29T12:07:07.105Z"
   },
   {
    "duration": 9,
    "start_time": "2022-06-29T12:07:07.116Z"
   },
   {
    "duration": 304,
    "start_time": "2022-06-29T12:07:07.141Z"
   },
   {
    "duration": 7,
    "start_time": "2022-06-29T12:07:07.448Z"
   },
   {
    "duration": 323,
    "start_time": "2022-06-29T12:07:07.457Z"
   },
   {
    "duration": 108,
    "start_time": "2022-06-29T12:07:07.782Z"
   },
   {
    "duration": 1221,
    "start_time": "2022-06-29T12:08:10.969Z"
   },
   {
    "duration": 7,
    "start_time": "2022-06-29T12:08:12.192Z"
   },
   {
    "duration": 23,
    "start_time": "2022-06-29T12:08:12.200Z"
   },
   {
    "duration": 28,
    "start_time": "2022-06-29T12:08:12.225Z"
   },
   {
    "duration": 20,
    "start_time": "2022-06-29T12:08:12.255Z"
   },
   {
    "duration": 17,
    "start_time": "2022-06-29T12:08:12.276Z"
   },
   {
    "duration": 382,
    "start_time": "2022-06-29T12:08:12.295Z"
   },
   {
    "duration": 8,
    "start_time": "2022-06-29T12:08:12.679Z"
   },
   {
    "duration": 14,
    "start_time": "2022-06-29T12:08:12.690Z"
   },
   {
    "duration": 258,
    "start_time": "2022-06-29T12:08:12.707Z"
   },
   {
    "duration": 8,
    "start_time": "2022-06-29T12:08:12.967Z"
   },
   {
    "duration": 299,
    "start_time": "2022-06-29T12:08:12.977Z"
   },
   {
    "duration": 247,
    "start_time": "2022-06-29T12:08:13.277Z"
   },
   {
    "duration": 112,
    "start_time": "2022-06-29T12:09:00.446Z"
   },
   {
    "duration": 219,
    "start_time": "2022-06-29T12:09:25.842Z"
   },
   {
    "duration": 311,
    "start_time": "2022-06-29T12:09:34.737Z"
   },
   {
    "duration": 195,
    "start_time": "2022-06-29T12:09:56.425Z"
   },
   {
    "duration": 125,
    "start_time": "2022-06-29T12:10:25.942Z"
   },
   {
    "duration": 225,
    "start_time": "2022-06-29T12:10:33.110Z"
   },
   {
    "duration": 219,
    "start_time": "2022-06-29T12:10:56.090Z"
   },
   {
    "duration": 102,
    "start_time": "2022-06-29T12:13:53.890Z"
   },
   {
    "duration": 258,
    "start_time": "2022-06-29T12:14:01.700Z"
   },
   {
    "duration": 349,
    "start_time": "2022-06-29T12:14:16.053Z"
   },
   {
    "duration": 16,
    "start_time": "2022-06-29T12:30:38.472Z"
   },
   {
    "duration": 1829,
    "start_time": "2022-06-29T12:33:18.966Z"
   },
   {
    "duration": 14,
    "start_time": "2022-06-29T12:33:42.652Z"
   },
   {
    "duration": 171,
    "start_time": "2022-06-29T12:34:00.792Z"
   },
   {
    "duration": 187,
    "start_time": "2022-06-29T12:34:07.850Z"
   },
   {
    "duration": 183,
    "start_time": "2022-06-29T12:34:21.185Z"
   },
   {
    "duration": 180,
    "start_time": "2022-06-29T12:34:33.703Z"
   },
   {
    "duration": 178,
    "start_time": "2022-06-29T12:34:52.088Z"
   },
   {
    "duration": 176,
    "start_time": "2022-06-29T12:35:00.674Z"
   },
   {
    "duration": 198,
    "start_time": "2022-06-29T12:36:43.434Z"
   },
   {
    "duration": 184,
    "start_time": "2022-06-29T12:36:48.577Z"
   },
   {
    "duration": 17,
    "start_time": "2022-06-29T12:42:23.932Z"
   },
   {
    "duration": 1197,
    "start_time": "2022-06-29T12:52:10.516Z"
   },
   {
    "duration": 7,
    "start_time": "2022-06-29T12:52:11.714Z"
   },
   {
    "duration": 19,
    "start_time": "2022-06-29T12:52:11.723Z"
   },
   {
    "duration": 16,
    "start_time": "2022-06-29T12:52:11.744Z"
   },
   {
    "duration": 17,
    "start_time": "2022-06-29T12:52:11.762Z"
   },
   {
    "duration": 15,
    "start_time": "2022-06-29T12:52:11.781Z"
   },
   {
    "duration": 352,
    "start_time": "2022-06-29T12:52:11.798Z"
   },
   {
    "duration": 8,
    "start_time": "2022-06-29T12:52:12.152Z"
   },
   {
    "duration": 8,
    "start_time": "2022-06-29T12:52:12.161Z"
   },
   {
    "duration": 234,
    "start_time": "2022-06-29T12:52:12.171Z"
   },
   {
    "duration": 7,
    "start_time": "2022-06-29T12:52:12.407Z"
   },
   {
    "duration": 291,
    "start_time": "2022-06-29T12:52:12.416Z"
   },
   {
    "duration": 265,
    "start_time": "2022-06-29T12:52:12.708Z"
   },
   {
    "duration": 15,
    "start_time": "2022-06-29T12:52:12.975Z"
   },
   {
    "duration": 170,
    "start_time": "2022-06-29T12:52:12.991Z"
   },
   {
    "duration": 157,
    "start_time": "2022-06-29T12:52:13.162Z"
   },
   {
    "duration": 21,
    "start_time": "2022-06-29T12:52:13.321Z"
   },
   {
    "duration": 15,
    "start_time": "2022-06-29T12:53:33.986Z"
   },
   {
    "duration": 13,
    "start_time": "2022-06-29T12:54:27.653Z"
   },
   {
    "duration": 12,
    "start_time": "2022-06-29T12:55:09.949Z"
   },
   {
    "duration": 12,
    "start_time": "2022-06-29T12:56:01.917Z"
   },
   {
    "duration": 13,
    "start_time": "2022-06-29T12:56:49.365Z"
   },
   {
    "duration": 107,
    "start_time": "2022-06-29T12:58:04.017Z"
   },
   {
    "duration": 76,
    "start_time": "2022-06-29T12:58:10.988Z"
   },
   {
    "duration": 14,
    "start_time": "2022-06-29T12:58:27.486Z"
   },
   {
    "duration": 5,
    "start_time": "2022-06-29T13:05:24.231Z"
   },
   {
    "duration": 6,
    "start_time": "2022-06-29T13:06:06.339Z"
   },
   {
    "duration": 5,
    "start_time": "2022-06-29T13:06:14.708Z"
   },
   {
    "duration": 4,
    "start_time": "2022-06-29T13:06:43.580Z"
   },
   {
    "duration": 5,
    "start_time": "2022-06-29T13:06:54.447Z"
   },
   {
    "duration": 63,
    "start_time": "2022-06-29T13:07:05.363Z"
   },
   {
    "duration": 1207,
    "start_time": "2022-06-29T13:07:12.093Z"
   },
   {
    "duration": 7,
    "start_time": "2022-06-29T13:07:13.302Z"
   },
   {
    "duration": 16,
    "start_time": "2022-06-29T13:07:13.311Z"
   },
   {
    "duration": 27,
    "start_time": "2022-06-29T13:07:13.330Z"
   },
   {
    "duration": 18,
    "start_time": "2022-06-29T13:07:13.358Z"
   },
   {
    "duration": 23,
    "start_time": "2022-06-29T13:07:13.377Z"
   },
   {
    "duration": 391,
    "start_time": "2022-06-29T13:07:13.401Z"
   },
   {
    "duration": 8,
    "start_time": "2022-06-29T13:07:13.793Z"
   },
   {
    "duration": 6,
    "start_time": "2022-06-29T13:07:13.803Z"
   },
   {
    "duration": 261,
    "start_time": "2022-06-29T13:07:13.812Z"
   },
   {
    "duration": 8,
    "start_time": "2022-06-29T13:07:14.075Z"
   },
   {
    "duration": 302,
    "start_time": "2022-06-29T13:07:14.085Z"
   },
   {
    "duration": 267,
    "start_time": "2022-06-29T13:07:14.388Z"
   },
   {
    "duration": 14,
    "start_time": "2022-06-29T13:07:14.657Z"
   },
   {
    "duration": 171,
    "start_time": "2022-06-29T13:07:14.672Z"
   },
   {
    "duration": 170,
    "start_time": "2022-06-29T13:07:14.844Z"
   },
   {
    "duration": 13,
    "start_time": "2022-06-29T13:07:15.016Z"
   },
   {
    "duration": 19,
    "start_time": "2022-06-29T13:07:15.031Z"
   },
   {
    "duration": 18,
    "start_time": "2022-06-29T13:07:15.052Z"
   },
   {
    "duration": 16,
    "start_time": "2022-06-29T13:07:15.072Z"
   },
   {
    "duration": 8,
    "start_time": "2022-06-29T13:07:15.090Z"
   },
   {
    "duration": 4,
    "start_time": "2022-06-29T13:07:20.916Z"
   },
   {
    "duration": 131,
    "start_time": "2022-06-29T13:08:21.656Z"
   },
   {
    "duration": 11,
    "start_time": "2022-06-29T13:08:30.289Z"
   },
   {
    "duration": 11,
    "start_time": "2022-06-29T13:09:41.490Z"
   },
   {
    "duration": 10,
    "start_time": "2022-06-29T13:12:13.861Z"
   },
   {
    "duration": 13,
    "start_time": "2022-06-29T13:12:17.566Z"
   },
   {
    "duration": 192,
    "start_time": "2022-06-29T13:12:31.005Z"
   },
   {
    "duration": 147,
    "start_time": "2022-06-29T13:12:56.537Z"
   },
   {
    "duration": 150,
    "start_time": "2022-06-29T13:13:12.820Z"
   },
   {
    "duration": 132,
    "start_time": "2022-06-29T13:13:20.073Z"
   },
   {
    "duration": 148,
    "start_time": "2022-06-29T13:13:25.213Z"
   },
   {
    "duration": 137,
    "start_time": "2022-06-29T13:13:34.281Z"
   },
   {
    "duration": 141,
    "start_time": "2022-06-29T13:13:39.333Z"
   },
   {
    "duration": 199,
    "start_time": "2022-06-29T13:15:02.658Z"
   },
   {
    "duration": 9,
    "start_time": "2022-06-29T13:16:04.718Z"
   },
   {
    "duration": 191,
    "start_time": "2022-06-29T13:16:12.726Z"
   },
   {
    "duration": 1374,
    "start_time": "2022-06-29T17:06:50.278Z"
   },
   {
    "duration": 6,
    "start_time": "2022-06-29T17:06:51.654Z"
   },
   {
    "duration": 25,
    "start_time": "2022-06-29T17:06:51.662Z"
   },
   {
    "duration": 28,
    "start_time": "2022-06-29T17:06:51.690Z"
   },
   {
    "duration": 33,
    "start_time": "2022-06-29T17:06:51.719Z"
   },
   {
    "duration": 26,
    "start_time": "2022-06-29T17:06:51.754Z"
   },
   {
    "duration": 420,
    "start_time": "2022-06-29T17:06:51.782Z"
   },
   {
    "duration": 9,
    "start_time": "2022-06-29T17:06:52.204Z"
   },
   {
    "duration": 7,
    "start_time": "2022-06-29T17:06:52.215Z"
   },
   {
    "duration": 251,
    "start_time": "2022-06-29T17:06:52.225Z"
   },
   {
    "duration": 8,
    "start_time": "2022-06-29T17:06:52.478Z"
   },
   {
    "duration": 337,
    "start_time": "2022-06-29T17:06:52.488Z"
   },
   {
    "duration": 363,
    "start_time": "2022-06-29T17:06:52.826Z"
   },
   {
    "duration": 18,
    "start_time": "2022-06-29T17:06:53.191Z"
   },
   {
    "duration": 231,
    "start_time": "2022-06-29T17:06:53.211Z"
   },
   {
    "duration": 166,
    "start_time": "2022-06-29T17:06:53.452Z"
   },
   {
    "duration": 18,
    "start_time": "2022-06-29T17:06:53.620Z"
   },
   {
    "duration": 36,
    "start_time": "2022-06-29T17:06:53.640Z"
   },
   {
    "duration": 22,
    "start_time": "2022-06-29T17:06:53.679Z"
   },
   {
    "duration": 21,
    "start_time": "2022-06-29T17:06:53.703Z"
   },
   {
    "duration": 27,
    "start_time": "2022-06-29T17:06:53.727Z"
   },
   {
    "duration": 251,
    "start_time": "2022-06-29T17:06:53.756Z"
   },
   {
    "duration": 171,
    "start_time": "2022-06-29T17:08:44.520Z"
   },
   {
    "duration": 104,
    "start_time": "2022-06-29T17:09:09.837Z"
   },
   {
    "duration": 146,
    "start_time": "2022-06-29T17:09:20.640Z"
   },
   {
    "duration": 147,
    "start_time": "2022-06-29T17:10:19.157Z"
   },
   {
    "duration": 147,
    "start_time": "2022-06-29T17:10:24.951Z"
   },
   {
    "duration": 147,
    "start_time": "2022-06-29T17:10:29.052Z"
   },
   {
    "duration": 134,
    "start_time": "2022-06-29T17:22:35.465Z"
   },
   {
    "duration": 137,
    "start_time": "2022-06-29T17:22:44.193Z"
   },
   {
    "duration": 201,
    "start_time": "2022-06-29T17:23:33.445Z"
   },
   {
    "duration": 132,
    "start_time": "2022-06-29T17:23:55.720Z"
   },
   {
    "duration": 146,
    "start_time": "2022-06-29T17:24:41.104Z"
   },
   {
    "duration": 162,
    "start_time": "2022-06-29T17:24:54.014Z"
   },
   {
    "duration": 242,
    "start_time": "2022-06-29T17:25:17.891Z"
   },
   {
    "duration": 144,
    "start_time": "2022-06-29T17:25:36.503Z"
   },
   {
    "duration": 196,
    "start_time": "2022-06-29T17:26:40.112Z"
   },
   {
    "duration": 160,
    "start_time": "2022-06-29T17:26:51.514Z"
   },
   {
    "duration": 163,
    "start_time": "2022-06-29T17:30:14.413Z"
   },
   {
    "duration": 56,
    "start_time": "2022-06-30T19:39:00.849Z"
   },
   {
    "duration": 1632,
    "start_time": "2022-06-30T19:39:07.757Z"
   },
   {
    "duration": 9,
    "start_time": "2022-06-30T19:39:09.391Z"
   },
   {
    "duration": 36,
    "start_time": "2022-06-30T19:39:09.402Z"
   },
   {
    "duration": 36,
    "start_time": "2022-06-30T19:39:09.441Z"
   },
   {
    "duration": 25,
    "start_time": "2022-06-30T19:39:09.480Z"
   },
   {
    "duration": 29,
    "start_time": "2022-06-30T19:39:09.507Z"
   },
   {
    "duration": 397,
    "start_time": "2022-06-30T19:39:09.538Z"
   },
   {
    "duration": 9,
    "start_time": "2022-06-30T19:39:09.937Z"
   },
   {
    "duration": 2,
    "start_time": "2022-06-30T19:39:09.949Z"
   },
   {
    "duration": 276,
    "start_time": "2022-06-30T19:39:09.955Z"
   },
   {
    "duration": 7,
    "start_time": "2022-06-30T19:39:10.233Z"
   },
   {
    "duration": 305,
    "start_time": "2022-06-30T19:39:10.241Z"
   },
   {
    "duration": 274,
    "start_time": "2022-06-30T19:39:10.548Z"
   },
   {
    "duration": 14,
    "start_time": "2022-06-30T19:39:10.826Z"
   },
   {
    "duration": 189,
    "start_time": "2022-06-30T19:39:10.842Z"
   },
   {
    "duration": 166,
    "start_time": "2022-06-30T19:39:11.033Z"
   },
   {
    "duration": 16,
    "start_time": "2022-06-30T19:39:11.200Z"
   },
   {
    "duration": 14,
    "start_time": "2022-06-30T19:39:11.225Z"
   },
   {
    "duration": 16,
    "start_time": "2022-06-30T19:39:11.240Z"
   },
   {
    "duration": 16,
    "start_time": "2022-06-30T19:39:11.258Z"
   },
   {
    "duration": 8,
    "start_time": "2022-06-30T19:39:11.276Z"
   },
   {
    "duration": 342,
    "start_time": "2022-06-30T19:39:11.286Z"
   },
   {
    "duration": 117,
    "start_time": "2022-06-30T19:39:11.630Z"
   },
   {
    "duration": 191,
    "start_time": "2022-06-30T19:39:36.869Z"
   },
   {
    "duration": 194,
    "start_time": "2022-06-30T19:41:53.920Z"
   },
   {
    "duration": 183,
    "start_time": "2022-06-30T19:42:10.480Z"
   },
   {
    "duration": 11,
    "start_time": "2022-06-30T19:43:45.725Z"
   },
   {
    "duration": 9,
    "start_time": "2022-06-30T19:44:24.959Z"
   },
   {
    "duration": 17,
    "start_time": "2022-06-30T19:44:31.939Z"
   },
   {
    "duration": 14,
    "start_time": "2022-06-30T19:44:44.213Z"
   },
   {
    "duration": 21,
    "start_time": "2022-06-30T19:46:12.249Z"
   },
   {
    "duration": 15,
    "start_time": "2022-06-30T19:49:48.602Z"
   },
   {
    "duration": 22,
    "start_time": "2022-06-30T19:50:00.012Z"
   },
   {
    "duration": 17,
    "start_time": "2022-06-30T19:50:09.081Z"
   },
   {
    "duration": 14,
    "start_time": "2022-06-30T19:50:13.680Z"
   },
   {
    "duration": 151,
    "start_time": "2022-06-30T19:52:31.098Z"
   },
   {
    "duration": 152,
    "start_time": "2022-06-30T19:53:11.026Z"
   },
   {
    "duration": 15,
    "start_time": "2022-06-30T19:53:18.526Z"
   },
   {
    "duration": 149,
    "start_time": "2022-06-30T19:57:33.957Z"
   },
   {
    "duration": 15,
    "start_time": "2022-06-30T19:59:06.396Z"
   },
   {
    "duration": 22,
    "start_time": "2022-06-30T19:59:52.987Z"
   },
   {
    "duration": 15,
    "start_time": "2022-06-30T20:00:01.381Z"
   },
   {
    "duration": 20,
    "start_time": "2022-06-30T20:00:46.714Z"
   },
   {
    "duration": 14,
    "start_time": "2022-06-30T20:01:26.033Z"
   },
   {
    "duration": 14,
    "start_time": "2022-06-30T20:02:10.067Z"
   },
   {
    "duration": 17,
    "start_time": "2022-06-30T20:03:07.977Z"
   },
   {
    "duration": 17,
    "start_time": "2022-06-30T20:03:32.246Z"
   },
   {
    "duration": 289,
    "start_time": "2022-06-30T20:09:59.413Z"
   },
   {
    "duration": 307,
    "start_time": "2022-06-30T20:13:10.318Z"
   },
   {
    "duration": 411,
    "start_time": "2022-06-30T20:13:36.562Z"
   },
   {
    "duration": 324,
    "start_time": "2022-06-30T20:13:56.274Z"
   },
   {
    "duration": 14,
    "start_time": "2022-06-30T20:29:39.984Z"
   },
   {
    "duration": 15,
    "start_time": "2022-06-30T20:30:01.240Z"
   },
   {
    "duration": 22,
    "start_time": "2022-06-30T20:30:13.449Z"
   },
   {
    "duration": 7,
    "start_time": "2022-06-30T20:30:28.141Z"
   },
   {
    "duration": 137,
    "start_time": "2022-06-30T20:33:12.472Z"
   },
   {
    "duration": 369,
    "start_time": "2022-06-30T20:34:02.447Z"
   },
   {
    "duration": 150,
    "start_time": "2022-06-30T20:36:19.570Z"
   },
   {
    "duration": 397,
    "start_time": "2022-06-30T20:38:24.150Z"
   },
   {
    "duration": 518,
    "start_time": "2022-06-30T20:39:10.667Z"
   },
   {
    "duration": 383,
    "start_time": "2022-06-30T20:39:20.767Z"
   },
   {
    "duration": 397,
    "start_time": "2022-06-30T20:39:27.351Z"
   },
   {
    "duration": 429,
    "start_time": "2022-06-30T20:39:55.184Z"
   },
   {
    "duration": 398,
    "start_time": "2022-06-30T20:42:21.641Z"
   },
   {
    "duration": 445,
    "start_time": "2022-06-30T20:44:26.998Z"
   },
   {
    "duration": 585,
    "start_time": "2022-06-30T20:45:15.186Z"
   },
   {
    "duration": 419,
    "start_time": "2022-06-30T20:45:47.541Z"
   },
   {
    "duration": 435,
    "start_time": "2022-06-30T20:46:03.708Z"
   },
   {
    "duration": 1403,
    "start_time": "2022-07-01T08:13:41.214Z"
   },
   {
    "duration": 8,
    "start_time": "2022-07-01T08:13:42.619Z"
   },
   {
    "duration": 23,
    "start_time": "2022-07-01T08:13:42.628Z"
   },
   {
    "duration": 23,
    "start_time": "2022-07-01T08:13:42.653Z"
   },
   {
    "duration": 17,
    "start_time": "2022-07-01T08:13:42.677Z"
   },
   {
    "duration": 16,
    "start_time": "2022-07-01T08:13:42.696Z"
   },
   {
    "duration": 324,
    "start_time": "2022-07-01T08:13:42.727Z"
   },
   {
    "duration": 8,
    "start_time": "2022-07-01T08:13:43.052Z"
   },
   {
    "duration": 5,
    "start_time": "2022-07-01T08:13:43.062Z"
   },
   {
    "duration": 253,
    "start_time": "2022-07-01T08:13:43.069Z"
   },
   {
    "duration": 6,
    "start_time": "2022-07-01T08:13:43.324Z"
   },
   {
    "duration": 303,
    "start_time": "2022-07-01T08:13:43.331Z"
   },
   {
    "duration": 264,
    "start_time": "2022-07-01T08:13:43.636Z"
   },
   {
    "duration": 13,
    "start_time": "2022-07-01T08:13:43.902Z"
   },
   {
    "duration": 155,
    "start_time": "2022-07-01T08:13:43.927Z"
   },
   {
    "duration": 149,
    "start_time": "2022-07-01T08:13:44.084Z"
   },
   {
    "duration": 13,
    "start_time": "2022-07-01T08:13:44.234Z"
   },
   {
    "duration": 18,
    "start_time": "2022-07-01T08:13:44.248Z"
   },
   {
    "duration": 21,
    "start_time": "2022-07-01T08:13:44.268Z"
   },
   {
    "duration": 14,
    "start_time": "2022-07-01T08:13:44.290Z"
   },
   {
    "duration": 9,
    "start_time": "2022-07-01T08:13:44.306Z"
   },
   {
    "duration": 231,
    "start_time": "2022-07-01T08:13:44.327Z"
   },
   {
    "duration": 396,
    "start_time": "2022-07-01T08:13:44.560Z"
   },
   {
    "duration": 401,
    "start_time": "2022-07-01T08:13:44.958Z"
   },
   {
    "duration": 407,
    "start_time": "2022-07-01T08:13:45.361Z"
   },
   {
    "duration": 104,
    "start_time": "2022-07-01T09:13:32.488Z"
   },
   {
    "duration": 11,
    "start_time": "2022-07-01T09:14:16.701Z"
   },
   {
    "duration": 9,
    "start_time": "2022-07-01T09:14:31.841Z"
   },
   {
    "duration": 10,
    "start_time": "2022-07-01T09:15:04.372Z"
   },
   {
    "duration": 5,
    "start_time": "2022-07-01T09:17:30.421Z"
   },
   {
    "duration": 782,
    "start_time": "2022-07-01T09:18:27.471Z"
   },
   {
    "duration": 16,
    "start_time": "2022-07-01T09:19:02.927Z"
   },
   {
    "duration": 648,
    "start_time": "2022-07-01T09:19:07.321Z"
   },
   {
    "duration": 7,
    "start_time": "2022-07-01T09:19:21.655Z"
   },
   {
    "duration": 15,
    "start_time": "2022-07-01T09:20:02.513Z"
   },
   {
    "duration": 6,
    "start_time": "2022-07-01T09:21:28.619Z"
   },
   {
    "duration": 15,
    "start_time": "2022-07-01T09:27:03.402Z"
   },
   {
    "duration": 5,
    "start_time": "2022-07-01T09:28:33.157Z"
   },
   {
    "duration": 1198,
    "start_time": "2022-07-01T12:08:10.791Z"
   },
   {
    "duration": 6,
    "start_time": "2022-07-01T12:08:11.991Z"
   },
   {
    "duration": 17,
    "start_time": "2022-07-01T12:08:11.998Z"
   },
   {
    "duration": 34,
    "start_time": "2022-07-01T12:08:12.016Z"
   },
   {
    "duration": 25,
    "start_time": "2022-07-01T12:08:12.054Z"
   },
   {
    "duration": 18,
    "start_time": "2022-07-01T12:08:12.081Z"
   },
   {
    "duration": 369,
    "start_time": "2022-07-01T12:08:12.101Z"
   },
   {
    "duration": 7,
    "start_time": "2022-07-01T12:08:12.472Z"
   },
   {
    "duration": 4,
    "start_time": "2022-07-01T12:08:12.481Z"
   },
   {
    "duration": 240,
    "start_time": "2022-07-01T12:08:12.487Z"
   },
   {
    "duration": 14,
    "start_time": "2022-07-01T12:08:12.731Z"
   },
   {
    "duration": 315,
    "start_time": "2022-07-01T12:08:12.746Z"
   },
   {
    "duration": 293,
    "start_time": "2022-07-01T12:08:13.063Z"
   },
   {
    "duration": 13,
    "start_time": "2022-07-01T12:08:13.360Z"
   },
   {
    "duration": 182,
    "start_time": "2022-07-01T12:08:13.374Z"
   },
   {
    "duration": 193,
    "start_time": "2022-07-01T12:08:13.558Z"
   },
   {
    "duration": 14,
    "start_time": "2022-07-01T12:08:13.759Z"
   },
   {
    "duration": 17,
    "start_time": "2022-07-01T12:08:13.774Z"
   },
   {
    "duration": 15,
    "start_time": "2022-07-01T12:08:13.793Z"
   },
   {
    "duration": 27,
    "start_time": "2022-07-01T12:08:13.810Z"
   },
   {
    "duration": 24,
    "start_time": "2022-07-01T12:08:13.845Z"
   },
   {
    "duration": 251,
    "start_time": "2022-07-01T12:08:13.870Z"
   },
   {
    "duration": 438,
    "start_time": "2022-07-01T12:08:14.123Z"
   },
   {
    "duration": 418,
    "start_time": "2022-07-01T12:08:14.563Z"
   },
   {
    "duration": 444,
    "start_time": "2022-07-01T12:08:14.983Z"
   },
   {
    "duration": 21,
    "start_time": "2022-07-01T12:08:15.435Z"
   },
   {
    "duration": 6,
    "start_time": "2022-07-01T12:08:15.457Z"
   },
   {
    "duration": 15,
    "start_time": "2022-07-01T12:08:15.464Z"
   },
   {
    "duration": 4,
    "start_time": "2022-07-01T12:08:15.480Z"
   },
   {
    "duration": 67,
    "start_time": "2022-07-01T12:12:16.648Z"
   },
   {
    "duration": 1213,
    "start_time": "2022-07-01T12:12:32.067Z"
   },
   {
    "duration": 7,
    "start_time": "2022-07-01T12:12:33.282Z"
   },
   {
    "duration": 16,
    "start_time": "2022-07-01T12:12:33.290Z"
   },
   {
    "duration": 35,
    "start_time": "2022-07-01T12:12:33.307Z"
   },
   {
    "duration": 17,
    "start_time": "2022-07-01T12:12:33.344Z"
   },
   {
    "duration": 17,
    "start_time": "2022-07-01T12:12:33.362Z"
   },
   {
    "duration": 94,
    "start_time": "2022-07-01T12:12:33.380Z"
   },
   {
    "duration": 384,
    "start_time": "2022-07-01T12:12:33.476Z"
   },
   {
    "duration": 8,
    "start_time": "2022-07-01T12:12:33.862Z"
   },
   {
    "duration": 3,
    "start_time": "2022-07-01T12:12:33.871Z"
   },
   {
    "duration": 246,
    "start_time": "2022-07-01T12:12:33.876Z"
   },
   {
    "duration": 8,
    "start_time": "2022-07-01T12:12:34.132Z"
   },
   {
    "duration": 300,
    "start_time": "2022-07-01T12:12:34.142Z"
   },
   {
    "duration": 246,
    "start_time": "2022-07-01T12:12:34.445Z"
   },
   {
    "duration": 14,
    "start_time": "2022-07-01T12:12:34.693Z"
   },
   {
    "duration": 178,
    "start_time": "2022-07-01T12:12:34.709Z"
   },
   {
    "duration": 176,
    "start_time": "2022-07-01T12:12:34.888Z"
   },
   {
    "duration": 13,
    "start_time": "2022-07-01T12:12:35.066Z"
   },
   {
    "duration": 15,
    "start_time": "2022-07-01T12:12:35.080Z"
   },
   {
    "duration": 14,
    "start_time": "2022-07-01T12:12:35.096Z"
   },
   {
    "duration": 32,
    "start_time": "2022-07-01T12:12:35.111Z"
   },
   {
    "duration": 7,
    "start_time": "2022-07-01T12:12:35.144Z"
   },
   {
    "duration": 263,
    "start_time": "2022-07-01T12:12:35.152Z"
   },
   {
    "duration": 422,
    "start_time": "2022-07-01T12:12:35.417Z"
   },
   {
    "duration": 450,
    "start_time": "2022-07-01T12:12:35.843Z"
   },
   {
    "duration": 416,
    "start_time": "2022-07-01T12:12:36.294Z"
   },
   {
    "duration": 11,
    "start_time": "2022-07-01T12:12:36.711Z"
   },
   {
    "duration": 14,
    "start_time": "2022-07-01T12:12:36.729Z"
   },
   {
    "duration": 16,
    "start_time": "2022-07-01T12:12:36.745Z"
   },
   {
    "duration": 4,
    "start_time": "2022-07-01T12:12:36.763Z"
   },
   {
    "duration": 8,
    "start_time": "2022-07-01T12:23:00.087Z"
   },
   {
    "duration": 1473,
    "start_time": "2022-07-03T12:03:14.509Z"
   },
   {
    "duration": 100,
    "start_time": "2022-07-03T12:03:16.803Z"
   },
   {
    "duration": 8,
    "start_time": "2022-07-03T12:03:20.504Z"
   },
   {
    "duration": 16,
    "start_time": "2022-07-03T12:03:23.124Z"
   },
   {
    "duration": 14,
    "start_time": "2022-07-03T12:03:32.885Z"
   },
   {
    "duration": 67,
    "start_time": "2022-07-03T12:08:11.738Z"
   },
   {
    "duration": 97,
    "start_time": "2022-07-03T12:16:40.719Z"
   },
   {
    "duration": 1025,
    "start_time": "2022-07-03T12:16:47.376Z"
   },
   {
    "duration": 67,
    "start_time": "2022-07-03T12:16:48.403Z"
   },
   {
    "duration": 6,
    "start_time": "2022-07-03T12:16:48.471Z"
   },
   {
    "duration": 28,
    "start_time": "2022-07-03T12:16:48.479Z"
   },
   {
    "duration": 22,
    "start_time": "2022-07-03T12:16:48.509Z"
   },
   {
    "duration": 26,
    "start_time": "2022-07-03T12:16:48.532Z"
   },
   {
    "duration": 19,
    "start_time": "2022-07-03T12:16:48.559Z"
   },
   {
    "duration": 22,
    "start_time": "2022-07-03T12:16:48.579Z"
   },
   {
    "duration": 82,
    "start_time": "2022-07-03T12:16:48.603Z"
   },
   {
    "duration": 16,
    "start_time": "2022-07-03T12:16:48.686Z"
   },
   {
    "duration": 364,
    "start_time": "2022-07-03T12:16:48.703Z"
   },
   {
    "duration": 8,
    "start_time": "2022-07-03T12:16:49.068Z"
   },
   {
    "duration": 24,
    "start_time": "2022-07-03T12:16:49.077Z"
   },
   {
    "duration": 252,
    "start_time": "2022-07-03T12:16:49.103Z"
   },
   {
    "duration": 7,
    "start_time": "2022-07-03T12:16:49.356Z"
   },
   {
    "duration": 328,
    "start_time": "2022-07-03T12:16:49.364Z"
   },
   {
    "duration": 279,
    "start_time": "2022-07-03T12:16:49.694Z"
   },
   {
    "duration": 13,
    "start_time": "2022-07-03T12:16:49.975Z"
   },
   {
    "duration": 168,
    "start_time": "2022-07-03T12:16:49.989Z"
   },
   {
    "duration": 151,
    "start_time": "2022-07-03T12:16:50.159Z"
   },
   {
    "duration": 20,
    "start_time": "2022-07-03T12:16:50.312Z"
   },
   {
    "duration": 48,
    "start_time": "2022-07-03T12:16:50.333Z"
   },
   {
    "duration": 21,
    "start_time": "2022-07-03T12:16:50.383Z"
   },
   {
    "duration": 29,
    "start_time": "2022-07-03T12:16:50.406Z"
   },
   {
    "duration": 24,
    "start_time": "2022-07-03T12:16:50.436Z"
   },
   {
    "duration": 239,
    "start_time": "2022-07-03T12:16:50.461Z"
   },
   {
    "duration": 407,
    "start_time": "2022-07-03T12:16:50.701Z"
   },
   {
    "duration": 409,
    "start_time": "2022-07-03T12:16:51.110Z"
   },
   {
    "duration": 406,
    "start_time": "2022-07-03T12:16:51.526Z"
   },
   {
    "duration": 8,
    "start_time": "2022-07-03T12:16:51.933Z"
   },
   {
    "duration": 14,
    "start_time": "2022-07-03T12:16:51.943Z"
   },
   {
    "duration": 10,
    "start_time": "2022-07-03T12:16:51.959Z"
   },
   {
    "duration": 12,
    "start_time": "2022-07-03T12:16:51.970Z"
   },
   {
    "duration": 5,
    "start_time": "2022-07-03T12:16:51.983Z"
   },
   {
    "duration": 16,
    "start_time": "2022-07-03T12:17:39.191Z"
   },
   {
    "duration": 429,
    "start_time": "2022-07-03T12:21:24.276Z"
   },
   {
    "duration": 307,
    "start_time": "2022-07-03T12:22:29.238Z"
   },
   {
    "duration": 399,
    "start_time": "2022-07-03T12:22:56.689Z"
   },
   {
    "duration": 592,
    "start_time": "2022-07-03T12:26:05.969Z"
   },
   {
    "duration": 501,
    "start_time": "2022-07-03T12:26:21.975Z"
   },
   {
    "duration": 574,
    "start_time": "2022-07-03T12:26:28.121Z"
   },
   {
    "duration": 46,
    "start_time": "2022-07-03T12:37:52.110Z"
   },
   {
    "duration": 290,
    "start_time": "2022-07-03T12:42:02.969Z"
   },
   {
    "duration": 285,
    "start_time": "2022-07-03T12:42:19.307Z"
   },
   {
    "duration": 340,
    "start_time": "2022-07-03T12:42:40.869Z"
   },
   {
    "duration": 286,
    "start_time": "2022-07-03T12:43:24.132Z"
   },
   {
    "duration": 310,
    "start_time": "2022-07-03T12:43:56.641Z"
   },
   {
    "duration": 263,
    "start_time": "2022-07-03T12:44:28.403Z"
   },
   {
    "duration": 1254,
    "start_time": "2022-07-04T11:55:45.564Z"
   },
   {
    "duration": 255,
    "start_time": "2022-07-04T11:55:46.819Z"
   },
   {
    "duration": 6,
    "start_time": "2022-07-04T11:55:47.075Z"
   },
   {
    "duration": 22,
    "start_time": "2022-07-04T11:55:47.083Z"
   },
   {
    "duration": 13,
    "start_time": "2022-07-04T11:55:47.106Z"
   },
   {
    "duration": 23,
    "start_time": "2022-07-04T11:55:47.120Z"
   },
   {
    "duration": 17,
    "start_time": "2022-07-04T11:55:47.144Z"
   },
   {
    "duration": 25,
    "start_time": "2022-07-04T11:55:47.163Z"
   },
   {
    "duration": 85,
    "start_time": "2022-07-04T11:55:47.190Z"
   },
   {
    "duration": 15,
    "start_time": "2022-07-04T11:55:47.277Z"
   },
   {
    "duration": 364,
    "start_time": "2022-07-04T11:55:47.293Z"
   },
   {
    "duration": 7,
    "start_time": "2022-07-04T11:55:47.659Z"
   },
   {
    "duration": 6,
    "start_time": "2022-07-04T11:55:47.667Z"
   },
   {
    "duration": 248,
    "start_time": "2022-07-04T11:55:47.675Z"
   },
   {
    "duration": 14,
    "start_time": "2022-07-04T11:55:47.925Z"
   },
   {
    "duration": 278,
    "start_time": "2022-07-04T11:55:47.941Z"
   },
   {
    "duration": 257,
    "start_time": "2022-07-04T11:55:48.221Z"
   },
   {
    "duration": 606,
    "start_time": "2022-07-04T11:55:48.480Z"
   },
   {
    "duration": 14,
    "start_time": "2022-07-04T11:55:49.088Z"
   },
   {
    "duration": 357,
    "start_time": "2022-07-04T11:55:49.103Z"
   },
   {
    "duration": 13,
    "start_time": "2022-07-04T11:55:49.462Z"
   },
   {
    "duration": 334,
    "start_time": "2022-07-04T11:55:49.476Z"
   },
   {
    "duration": 30,
    "start_time": "2022-07-04T11:55:49.813Z"
   },
   {
    "duration": 324,
    "start_time": "2022-07-04T11:55:49.845Z"
   },
   {
    "duration": 13,
    "start_time": "2022-07-04T11:55:50.170Z"
   },
   {
    "duration": 316,
    "start_time": "2022-07-04T11:55:50.184Z"
   },
   {
    "duration": 13,
    "start_time": "2022-07-04T11:55:50.502Z"
   },
   {
    "duration": 288,
    "start_time": "2022-07-04T11:55:50.528Z"
   },
   {
    "duration": 24,
    "start_time": "2022-07-04T11:55:50.818Z"
   },
   {
    "duration": 175,
    "start_time": "2022-07-04T11:55:50.844Z"
   },
   {
    "duration": 439,
    "start_time": "2022-07-04T11:55:51.021Z"
   },
   {
    "duration": 428,
    "start_time": "2022-07-04T11:55:51.462Z"
   },
   {
    "duration": 533,
    "start_time": "2022-07-04T11:55:51.891Z"
   },
   {
    "duration": 22,
    "start_time": "2022-07-04T11:55:52.426Z"
   },
   {
    "duration": 13,
    "start_time": "2022-07-04T11:55:52.450Z"
   },
   {
    "duration": 8,
    "start_time": "2022-07-04T11:55:52.465Z"
   },
   {
    "duration": 21,
    "start_time": "2022-07-04T11:55:52.475Z"
   },
   {
    "duration": 7,
    "start_time": "2022-07-04T11:55:52.498Z"
   },
   {
    "duration": 92,
    "start_time": "2022-07-04T12:00:46.402Z"
   },
   {
    "duration": 7,
    "start_time": "2022-07-04T12:06:26.938Z"
   },
   {
    "duration": 16,
    "start_time": "2022-07-04T12:06:54.366Z"
   },
   {
    "duration": 13,
    "start_time": "2022-07-04T12:07:19.169Z"
   },
   {
    "duration": 104,
    "start_time": "2022-07-04T12:10:58.021Z"
   },
   {
    "duration": 9,
    "start_time": "2022-07-04T12:11:49.948Z"
   },
   {
    "duration": 8,
    "start_time": "2022-07-04T12:12:33.569Z"
   },
   {
    "duration": 11,
    "start_time": "2022-07-04T12:12:41.970Z"
   },
   {
    "duration": 29,
    "start_time": "2022-07-04T12:13:43.019Z"
   },
   {
    "duration": 21,
    "start_time": "2022-07-04T12:14:00.539Z"
   },
   {
    "duration": 1129,
    "start_time": "2022-07-04T12:14:08.493Z"
   },
   {
    "duration": 81,
    "start_time": "2022-07-04T12:14:09.624Z"
   },
   {
    "duration": 7,
    "start_time": "2022-07-04T12:14:09.707Z"
   },
   {
    "duration": 21,
    "start_time": "2022-07-04T12:14:09.716Z"
   },
   {
    "duration": 30,
    "start_time": "2022-07-04T12:14:09.738Z"
   },
   {
    "duration": 31,
    "start_time": "2022-07-04T12:14:09.770Z"
   },
   {
    "duration": 20,
    "start_time": "2022-07-04T12:14:09.803Z"
   },
   {
    "duration": 24,
    "start_time": "2022-07-04T12:14:09.825Z"
   },
   {
    "duration": 94,
    "start_time": "2022-07-04T12:14:09.851Z"
   },
   {
    "duration": 19,
    "start_time": "2022-07-04T12:14:09.948Z"
   },
   {
    "duration": 376,
    "start_time": "2022-07-04T12:14:09.969Z"
   },
   {
    "duration": 8,
    "start_time": "2022-07-04T12:14:10.346Z"
   },
   {
    "duration": 31,
    "start_time": "2022-07-04T12:14:10.355Z"
   },
   {
    "duration": 280,
    "start_time": "2022-07-04T12:14:10.388Z"
   },
   {
    "duration": 7,
    "start_time": "2022-07-04T12:14:10.670Z"
   },
   {
    "duration": 338,
    "start_time": "2022-07-04T12:14:10.679Z"
   },
   {
    "duration": 302,
    "start_time": "2022-07-04T12:14:11.019Z"
   },
   {
    "duration": 637,
    "start_time": "2022-07-04T12:14:11.323Z"
   },
   {
    "duration": 12,
    "start_time": "2022-07-04T12:14:11.962Z"
   },
   {
    "duration": 313,
    "start_time": "2022-07-04T12:14:11.976Z"
   },
   {
    "duration": 12,
    "start_time": "2022-07-04T12:14:12.291Z"
   },
   {
    "duration": 309,
    "start_time": "2022-07-04T12:14:12.304Z"
   },
   {
    "duration": 22,
    "start_time": "2022-07-04T12:14:12.615Z"
   },
   {
    "duration": 281,
    "start_time": "2022-07-04T12:14:12.640Z"
   },
   {
    "duration": 32,
    "start_time": "2022-07-04T12:14:12.923Z"
   },
   {
    "duration": 280,
    "start_time": "2022-07-04T12:14:12.956Z"
   },
   {
    "duration": 17,
    "start_time": "2022-07-04T12:14:13.238Z"
   },
   {
    "duration": 268,
    "start_time": "2022-07-04T12:14:13.258Z"
   },
   {
    "duration": 113,
    "start_time": "2022-07-04T12:14:13.535Z"
   },
   {
    "duration": 0,
    "start_time": "2022-07-04T12:14:13.650Z"
   },
   {
    "duration": 0,
    "start_time": "2022-07-04T12:14:13.651Z"
   },
   {
    "duration": 0,
    "start_time": "2022-07-04T12:14:13.653Z"
   },
   {
    "duration": 0,
    "start_time": "2022-07-04T12:14:13.654Z"
   },
   {
    "duration": 0,
    "start_time": "2022-07-04T12:14:13.656Z"
   },
   {
    "duration": 0,
    "start_time": "2022-07-04T12:14:13.657Z"
   },
   {
    "duration": 0,
    "start_time": "2022-07-04T12:14:13.658Z"
   },
   {
    "duration": 0,
    "start_time": "2022-07-04T12:14:13.659Z"
   },
   {
    "duration": 0,
    "start_time": "2022-07-04T12:14:13.661Z"
   },
   {
    "duration": 9,
    "start_time": "2022-07-04T12:19:26.211Z"
   },
   {
    "duration": 182,
    "start_time": "2022-07-04T12:25:45.325Z"
   },
   {
    "duration": 9,
    "start_time": "2022-07-04T12:31:20.312Z"
   },
   {
    "duration": 7,
    "start_time": "2022-07-04T12:31:27.350Z"
   },
   {
    "duration": 163,
    "start_time": "2022-07-04T12:32:13.156Z"
   },
   {
    "duration": 141,
    "start_time": "2022-07-04T12:32:32.063Z"
   },
   {
    "duration": 7,
    "start_time": "2022-07-04T12:32:36.652Z"
   },
   {
    "duration": 203,
    "start_time": "2022-07-04T12:35:51.069Z"
   },
   {
    "duration": 183,
    "start_time": "2022-07-04T12:36:58.872Z"
   },
   {
    "duration": 187,
    "start_time": "2022-07-04T12:37:13.400Z"
   },
   {
    "duration": 7,
    "start_time": "2022-07-04T12:40:26.800Z"
   },
   {
    "duration": 11,
    "start_time": "2022-07-04T12:40:59.705Z"
   },
   {
    "duration": 9,
    "start_time": "2022-07-04T12:41:37.163Z"
   },
   {
    "duration": 10,
    "start_time": "2022-07-04T12:43:22.389Z"
   },
   {
    "duration": 1514,
    "start_time": "2022-07-04T12:43:32.346Z"
   },
   {
    "duration": 85,
    "start_time": "2022-07-04T12:43:33.861Z"
   },
   {
    "duration": 10,
    "start_time": "2022-07-04T12:43:33.947Z"
   },
   {
    "duration": 17,
    "start_time": "2022-07-04T12:43:33.959Z"
   },
   {
    "duration": 15,
    "start_time": "2022-07-04T12:43:33.979Z"
   },
   {
    "duration": 42,
    "start_time": "2022-07-04T12:43:33.996Z"
   },
   {
    "duration": 22,
    "start_time": "2022-07-04T12:43:34.042Z"
   },
   {
    "duration": 18,
    "start_time": "2022-07-04T12:43:34.065Z"
   },
   {
    "duration": 165,
    "start_time": "2022-07-04T12:43:34.084Z"
   },
   {
    "duration": 19,
    "start_time": "2022-07-04T12:43:34.253Z"
   },
   {
    "duration": 1067,
    "start_time": "2022-07-04T12:43:34.273Z"
   },
   {
    "duration": 15,
    "start_time": "2022-07-04T12:43:35.343Z"
   },
   {
    "duration": 17,
    "start_time": "2022-07-04T12:43:35.360Z"
   },
   {
    "duration": 526,
    "start_time": "2022-07-04T12:43:35.381Z"
   },
   {
    "duration": 8,
    "start_time": "2022-07-04T12:43:35.934Z"
   },
   {
    "duration": 657,
    "start_time": "2022-07-04T12:43:35.944Z"
   },
   {
    "duration": 298,
    "start_time": "2022-07-04T12:43:36.603Z"
   },
   {
    "duration": 2165,
    "start_time": "2022-07-04T12:43:36.920Z"
   },
   {
    "duration": 13,
    "start_time": "2022-07-04T12:43:39.086Z"
   },
   {
    "duration": 351,
    "start_time": "2022-07-04T12:43:39.101Z"
   },
   {
    "duration": 13,
    "start_time": "2022-07-04T12:43:39.453Z"
   },
   {
    "duration": 477,
    "start_time": "2022-07-04T12:43:39.468Z"
   },
   {
    "duration": 14,
    "start_time": "2022-07-04T12:43:39.947Z"
   },
   {
    "duration": 306,
    "start_time": "2022-07-04T12:43:39.962Z"
   },
   {
    "duration": 13,
    "start_time": "2022-07-04T12:43:40.270Z"
   },
   {
    "duration": 314,
    "start_time": "2022-07-04T12:43:40.285Z"
   },
   {
    "duration": 13,
    "start_time": "2022-07-04T12:43:40.601Z"
   },
   {
    "duration": 287,
    "start_time": "2022-07-04T12:43:40.616Z"
   },
   {
    "duration": 7,
    "start_time": "2022-07-04T12:43:40.904Z"
   },
   {
    "duration": 193,
    "start_time": "2022-07-04T12:43:40.913Z"
   },
   {
    "duration": 113,
    "start_time": "2022-07-04T12:43:41.108Z"
   },
   {
    "duration": 0,
    "start_time": "2022-07-04T12:43:41.223Z"
   },
   {
    "duration": 0,
    "start_time": "2022-07-04T12:43:41.230Z"
   },
   {
    "duration": 0,
    "start_time": "2022-07-04T12:43:41.231Z"
   },
   {
    "duration": 0,
    "start_time": "2022-07-04T12:43:41.233Z"
   },
   {
    "duration": 0,
    "start_time": "2022-07-04T12:43:41.234Z"
   },
   {
    "duration": 0,
    "start_time": "2022-07-04T12:43:41.235Z"
   },
   {
    "duration": 0,
    "start_time": "2022-07-04T12:43:41.236Z"
   },
   {
    "duration": 0,
    "start_time": "2022-07-04T12:43:41.236Z"
   },
   {
    "duration": 0,
    "start_time": "2022-07-04T12:43:41.237Z"
   },
   {
    "duration": 0,
    "start_time": "2022-07-04T12:43:41.238Z"
   },
   {
    "duration": 9,
    "start_time": "2022-07-04T12:45:09.655Z"
   },
   {
    "duration": 12,
    "start_time": "2022-07-04T12:46:43.728Z"
   },
   {
    "duration": 9,
    "start_time": "2022-07-04T12:46:54.058Z"
   },
   {
    "duration": 6,
    "start_time": "2022-07-04T12:47:41.791Z"
   },
   {
    "duration": 11,
    "start_time": "2022-07-04T12:48:38.890Z"
   },
   {
    "duration": 24,
    "start_time": "2022-07-04T12:49:02.821Z"
   },
   {
    "duration": 19,
    "start_time": "2022-07-04T12:49:14.951Z"
   },
   {
    "duration": 17,
    "start_time": "2022-07-04T12:49:37.346Z"
   },
   {
    "duration": 14,
    "start_time": "2022-07-04T12:50:06.491Z"
   },
   {
    "duration": 156,
    "start_time": "2022-07-04T12:50:31.108Z"
   },
   {
    "duration": 122,
    "start_time": "2022-07-04T12:50:53.904Z"
   },
   {
    "duration": 15,
    "start_time": "2022-07-04T12:53:38.969Z"
   },
   {
    "duration": 182,
    "start_time": "2022-07-04T12:58:18.256Z"
   },
   {
    "duration": 527,
    "start_time": "2022-07-04T13:00:47.828Z"
   },
   {
    "duration": 454,
    "start_time": "2022-07-04T13:00:56.925Z"
   },
   {
    "duration": 438,
    "start_time": "2022-07-04T13:01:18.654Z"
   },
   {
    "duration": 9,
    "start_time": "2022-07-04T13:03:29.569Z"
   },
   {
    "duration": 10,
    "start_time": "2022-07-04T13:13:39.626Z"
   },
   {
    "duration": 7,
    "start_time": "2022-07-04T13:13:44.472Z"
   },
   {
    "duration": 8,
    "start_time": "2022-07-04T13:14:43.574Z"
   },
   {
    "duration": 1184,
    "start_time": "2022-07-04T13:17:50.976Z"
   },
   {
    "duration": 85,
    "start_time": "2022-07-04T13:17:52.162Z"
   },
   {
    "duration": 9,
    "start_time": "2022-07-04T13:17:52.248Z"
   },
   {
    "duration": 16,
    "start_time": "2022-07-04T13:17:52.259Z"
   },
   {
    "duration": 15,
    "start_time": "2022-07-04T13:17:52.277Z"
   },
   {
    "duration": 47,
    "start_time": "2022-07-04T13:17:52.293Z"
   },
   {
    "duration": 24,
    "start_time": "2022-07-04T13:17:52.341Z"
   },
   {
    "duration": 20,
    "start_time": "2022-07-04T13:17:52.367Z"
   },
   {
    "duration": 98,
    "start_time": "2022-07-04T13:17:52.389Z"
   },
   {
    "duration": 18,
    "start_time": "2022-07-04T13:17:52.490Z"
   },
   {
    "duration": 28,
    "start_time": "2022-07-04T13:17:52.510Z"
   },
   {
    "duration": 417,
    "start_time": "2022-07-04T13:17:52.544Z"
   },
   {
    "duration": 8,
    "start_time": "2022-07-04T13:17:52.963Z"
   },
   {
    "duration": 3,
    "start_time": "2022-07-04T13:17:52.973Z"
   },
   {
    "duration": 286,
    "start_time": "2022-07-04T13:17:52.978Z"
   },
   {
    "duration": 10,
    "start_time": "2022-07-04T13:17:53.266Z"
   },
   {
    "duration": 328,
    "start_time": "2022-07-04T13:17:53.277Z"
   },
   {
    "duration": 282,
    "start_time": "2022-07-04T13:17:53.607Z"
   },
   {
    "duration": 633,
    "start_time": "2022-07-04T13:17:53.891Z"
   },
   {
    "duration": 27,
    "start_time": "2022-07-04T13:17:54.530Z"
   },
   {
    "duration": 321,
    "start_time": "2022-07-04T13:17:54.558Z"
   },
   {
    "duration": 12,
    "start_time": "2022-07-04T13:17:54.881Z"
   },
   {
    "duration": 324,
    "start_time": "2022-07-04T13:17:54.896Z"
   },
   {
    "duration": 31,
    "start_time": "2022-07-04T13:17:55.221Z"
   },
   {
    "duration": 329,
    "start_time": "2022-07-04T13:17:55.253Z"
   },
   {
    "duration": 13,
    "start_time": "2022-07-04T13:17:55.584Z"
   },
   {
    "duration": 532,
    "start_time": "2022-07-04T13:17:55.598Z"
   },
   {
    "duration": 17,
    "start_time": "2022-07-04T13:17:56.139Z"
   },
   {
    "duration": 616,
    "start_time": "2022-07-04T13:17:56.159Z"
   },
   {
    "duration": 7,
    "start_time": "2022-07-04T13:17:56.834Z"
   },
   {
    "duration": 427,
    "start_time": "2022-07-04T13:17:56.843Z"
   },
   {
    "duration": 69,
    "start_time": "2022-07-04T13:17:57.272Z"
   },
   {
    "duration": 287,
    "start_time": "2022-07-04T13:17:57.343Z"
   },
   {
    "duration": 1,
    "start_time": "2022-07-04T13:17:57.635Z"
   },
   {
    "duration": 0,
    "start_time": "2022-07-04T13:17:57.636Z"
   },
   {
    "duration": 0,
    "start_time": "2022-07-04T13:17:57.637Z"
   },
   {
    "duration": 0,
    "start_time": "2022-07-04T13:17:57.642Z"
   },
   {
    "duration": 0,
    "start_time": "2022-07-04T13:17:57.643Z"
   },
   {
    "duration": 0,
    "start_time": "2022-07-04T13:17:57.643Z"
   },
   {
    "duration": 0,
    "start_time": "2022-07-04T13:17:57.644Z"
   },
   {
    "duration": 0,
    "start_time": "2022-07-04T13:17:57.645Z"
   },
   {
    "duration": 425,
    "start_time": "2022-07-04T13:18:18.573Z"
   },
   {
    "duration": 581,
    "start_time": "2022-07-04T13:19:03.267Z"
   },
   {
    "duration": 431,
    "start_time": "2022-07-04T13:22:07.955Z"
   },
   {
    "duration": 1075,
    "start_time": "2022-07-05T00:00:38.837Z"
   },
   {
    "duration": 63,
    "start_time": "2022-07-05T00:00:39.914Z"
   },
   {
    "duration": 6,
    "start_time": "2022-07-05T00:00:39.978Z"
   },
   {
    "duration": 15,
    "start_time": "2022-07-05T00:00:39.986Z"
   },
   {
    "duration": 12,
    "start_time": "2022-07-05T00:00:40.004Z"
   },
   {
    "duration": 32,
    "start_time": "2022-07-05T00:00:40.018Z"
   },
   {
    "duration": 17,
    "start_time": "2022-07-05T00:00:40.052Z"
   },
   {
    "duration": 15,
    "start_time": "2022-07-05T00:00:40.070Z"
   },
   {
    "duration": 84,
    "start_time": "2022-07-05T00:00:40.087Z"
   },
   {
    "duration": 14,
    "start_time": "2022-07-05T00:00:40.173Z"
   },
   {
    "duration": 8,
    "start_time": "2022-07-05T00:00:40.188Z"
   },
   {
    "duration": 337,
    "start_time": "2022-07-05T00:00:40.197Z"
   },
   {
    "duration": 11,
    "start_time": "2022-07-05T00:00:40.535Z"
   },
   {
    "duration": 2,
    "start_time": "2022-07-05T00:00:40.548Z"
   },
   {
    "duration": 245,
    "start_time": "2022-07-05T00:00:40.552Z"
   },
   {
    "duration": 6,
    "start_time": "2022-07-05T00:00:40.798Z"
   },
   {
    "duration": 260,
    "start_time": "2022-07-05T00:00:40.806Z"
   },
   {
    "duration": 235,
    "start_time": "2022-07-05T00:00:41.068Z"
   },
   {
    "duration": 569,
    "start_time": "2022-07-05T00:00:41.305Z"
   },
   {
    "duration": 13,
    "start_time": "2022-07-05T00:00:41.876Z"
   },
   {
    "duration": 282,
    "start_time": "2022-07-05T00:00:41.890Z"
   },
   {
    "duration": 12,
    "start_time": "2022-07-05T00:00:42.174Z"
   },
   {
    "duration": 276,
    "start_time": "2022-07-05T00:00:42.187Z"
   },
   {
    "duration": 13,
    "start_time": "2022-07-05T00:00:42.464Z"
   },
   {
    "duration": 274,
    "start_time": "2022-07-05T00:00:42.479Z"
   },
   {
    "duration": 13,
    "start_time": "2022-07-05T00:00:42.755Z"
   },
   {
    "duration": 262,
    "start_time": "2022-07-05T00:00:42.769Z"
   },
   {
    "duration": 17,
    "start_time": "2022-07-05T00:00:43.033Z"
   },
   {
    "duration": 247,
    "start_time": "2022-07-05T00:00:43.052Z"
   },
   {
    "duration": 6,
    "start_time": "2022-07-05T00:00:43.301Z"
   },
   {
    "duration": 160,
    "start_time": "2022-07-05T00:00:43.308Z"
   },
   {
    "duration": 11,
    "start_time": "2022-07-05T00:00:43.470Z"
   },
   {
    "duration": 112,
    "start_time": "2022-07-05T00:00:43.482Z"
   },
   {
    "duration": 0,
    "start_time": "2022-07-05T00:00:43.596Z"
   },
   {
    "duration": 0,
    "start_time": "2022-07-05T00:00:43.598Z"
   },
   {
    "duration": 0,
    "start_time": "2022-07-05T00:00:43.598Z"
   },
   {
    "duration": 0,
    "start_time": "2022-07-05T00:00:43.599Z"
   },
   {
    "duration": 0,
    "start_time": "2022-07-05T00:00:43.601Z"
   },
   {
    "duration": 0,
    "start_time": "2022-07-05T00:00:43.602Z"
   },
   {
    "duration": 0,
    "start_time": "2022-07-05T00:00:43.603Z"
   },
   {
    "duration": 0,
    "start_time": "2022-07-05T00:00:43.604Z"
   },
   {
    "duration": 6,
    "start_time": "2022-07-05T00:07:59.134Z"
   },
   {
    "duration": 9,
    "start_time": "2022-07-05T00:08:30.288Z"
   },
   {
    "duration": 10,
    "start_time": "2022-07-05T00:12:03.002Z"
   },
   {
    "duration": 1049,
    "start_time": "2022-07-05T00:16:39.063Z"
   },
   {
    "duration": 63,
    "start_time": "2022-07-05T00:16:40.113Z"
   },
   {
    "duration": 6,
    "start_time": "2022-07-05T00:16:40.177Z"
   },
   {
    "duration": 25,
    "start_time": "2022-07-05T00:16:40.184Z"
   },
   {
    "duration": 12,
    "start_time": "2022-07-05T00:16:40.211Z"
   },
   {
    "duration": 27,
    "start_time": "2022-07-05T00:16:40.225Z"
   },
   {
    "duration": 17,
    "start_time": "2022-07-05T00:16:40.254Z"
   },
   {
    "duration": 14,
    "start_time": "2022-07-05T00:16:40.272Z"
   },
   {
    "duration": 83,
    "start_time": "2022-07-05T00:16:40.288Z"
   },
   {
    "duration": 14,
    "start_time": "2022-07-05T00:16:40.373Z"
   },
   {
    "duration": 6,
    "start_time": "2022-07-05T00:16:40.388Z"
   },
   {
    "duration": 325,
    "start_time": "2022-07-05T00:16:40.395Z"
   },
   {
    "duration": 7,
    "start_time": "2022-07-05T00:16:40.722Z"
   },
   {
    "duration": 10,
    "start_time": "2022-07-05T00:16:40.732Z"
   },
   {
    "duration": 226,
    "start_time": "2022-07-05T00:16:40.743Z"
   },
   {
    "duration": 7,
    "start_time": "2022-07-05T00:16:40.971Z"
   },
   {
    "duration": 259,
    "start_time": "2022-07-05T00:16:40.980Z"
   },
   {
    "duration": 242,
    "start_time": "2022-07-05T00:16:41.242Z"
   },
   {
    "duration": 546,
    "start_time": "2022-07-05T00:16:41.487Z"
   },
   {
    "duration": 13,
    "start_time": "2022-07-05T00:16:42.034Z"
   },
   {
    "duration": 276,
    "start_time": "2022-07-05T00:16:42.049Z"
   },
   {
    "duration": 17,
    "start_time": "2022-07-05T00:16:42.326Z"
   },
   {
    "duration": 268,
    "start_time": "2022-07-05T00:16:42.345Z"
   },
   {
    "duration": 12,
    "start_time": "2022-07-05T00:16:42.615Z"
   },
   {
    "duration": 269,
    "start_time": "2022-07-05T00:16:42.628Z"
   },
   {
    "duration": 12,
    "start_time": "2022-07-05T00:16:42.899Z"
   },
   {
    "duration": 271,
    "start_time": "2022-07-05T00:16:42.912Z"
   },
   {
    "duration": 13,
    "start_time": "2022-07-05T00:16:43.184Z"
   },
   {
    "duration": 257,
    "start_time": "2022-07-05T00:16:43.198Z"
   },
   {
    "duration": 10,
    "start_time": "2022-07-05T00:16:43.456Z"
   },
   {
    "duration": 8,
    "start_time": "2022-07-05T00:16:43.467Z"
   },
   {
    "duration": 168,
    "start_time": "2022-07-05T00:16:43.477Z"
   },
   {
    "duration": 11,
    "start_time": "2022-07-05T00:16:43.646Z"
   },
   {
    "duration": 385,
    "start_time": "2022-07-05T00:16:43.659Z"
   },
   {
    "duration": 376,
    "start_time": "2022-07-05T00:16:44.046Z"
   },
   {
    "duration": 474,
    "start_time": "2022-07-05T00:16:44.424Z"
   },
   {
    "duration": 7,
    "start_time": "2022-07-05T00:16:44.900Z"
   },
   {
    "duration": 13,
    "start_time": "2022-07-05T00:16:44.908Z"
   },
   {
    "duration": 3,
    "start_time": "2022-07-05T00:16:44.923Z"
   },
   {
    "duration": 9,
    "start_time": "2022-07-05T00:16:44.942Z"
   },
   {
    "duration": 4,
    "start_time": "2022-07-05T00:16:44.954Z"
   },
   {
    "duration": 493,
    "start_time": "2022-07-05T00:17:46.839Z"
   },
   {
    "duration": 494,
    "start_time": "2022-07-05T00:19:16.228Z"
   }
  ],
  "kernelspec": {
   "display_name": "Python 3 (ipykernel)",
   "language": "python",
   "name": "python3"
  },
  "language_info": {
   "codemirror_mode": {
    "name": "ipython",
    "version": 3
   },
   "file_extension": ".py",
   "mimetype": "text/x-python",
   "name": "python",
   "nbconvert_exporter": "python",
   "pygments_lexer": "ipython3",
   "version": "3.9.12"
  },
  "toc": {
   "base_numbering": 1,
   "nav_menu": {},
   "number_sections": true,
   "sideBar": true,
   "skip_h1_title": true,
   "title_cell": "Table of Contents",
   "title_sidebar": "Contents",
   "toc_cell": false,
   "toc_position": {
    "height": "calc(100% - 180px)",
    "left": "10px",
    "top": "150px",
    "width": "212.682px"
   },
   "toc_section_display": true,
   "toc_window_display": true
  }
 },
 "nbformat": 4,
 "nbformat_minor": 2
}
