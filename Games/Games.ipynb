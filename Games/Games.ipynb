{
 "cells": [
  {
   "cell_type": "markdown",
   "metadata": {},
   "source": [
    "# Исследование закономерностей определяющих успешность игры"
   ]
  },
  {
   "cell_type": "markdown",
   "metadata": {},
   "source": [
    "Мы работаем в интернет-магазине, который продаёт компьютерные игры по всему миру. Из открытых источников нам доступны данные (до 2016 года) о продажах игр, оценки пользователей и экспертов, жанры и платформы. Нам нужно выявить определяющие успешность игры закономерности. Это позволит сделать ставку на потенциально популярный продукт в 2017 году и спланировать рекламные кампании.\n",
    "<br>\n",
    "Анализ выполнен в несколько этапов:"<br>\n",
    "1. Подготовка данных\n",
    "<br>\n",
    "2. Исследовательский анализ данных\n",
    "<br>\n",
    "3. Портрет пользователя каждого региона\n",
    "<br>\n",
    "4. Проверка гипотез\n",
    "<br>\n",
    "5. Общий вывод\n"
   ]
  },
  {
   "cell_type": "markdown",
   "metadata": {},
   "source": [
    "## Изучение данных из файла"
   ]
  },
  {
   "cell_type": "code",
   "execution_count": 1,
   "metadata": {},
   "outputs": [],
   "source": [
    "import pandas as pd\n",
    "import matplotlib.pyplot as plt\n",
    "import numpy as np\n",
    "from scipy import stats as st\n",
    "import seaborn as sns\n",
    "import warnings\n",
    "warnings.filterwarnings(\"ignore\", category=FutureWarning) "
   ]
  },
  {
   "cell_type": "code",
   "execution_count": 2,
   "metadata": {},
   "outputs": [
    {
     "name": "stdout",
     "output_type": "stream",
     "text": [
      "<class 'pandas.core.frame.DataFrame'>\n",
      "RangeIndex: 16715 entries, 0 to 16714\n",
      "Data columns (total 11 columns):\n",
      " #   Column           Non-Null Count  Dtype  \n",
      "---  ------           --------------  -----  \n",
      " 0   Name             16713 non-null  object \n",
      " 1   Platform         16715 non-null  object \n",
      " 2   Year_of_Release  16446 non-null  float64\n",
      " 3   Genre            16713 non-null  object \n",
      " 4   NA_sales         16715 non-null  float64\n",
      " 5   EU_sales         16715 non-null  float64\n",
      " 6   JP_sales         16715 non-null  float64\n",
      " 7   Other_sales      16715 non-null  float64\n",
      " 8   Critic_Score     8137 non-null   float64\n",
      " 9   User_Score       10014 non-null  object \n",
      " 10  Rating           9949 non-null   object \n",
      "dtypes: float64(6), object(5)\n",
      "memory usage: 1.4+ MB\n"
     ]
    },
    {
     "data": {
      "text/html": [
       "<div>\n",
       "<style scoped>\n",
       "    .dataframe tbody tr th:only-of-type {\n",
       "        vertical-align: middle;\n",
       "    }\n",
       "\n",
       "    .dataframe tbody tr th {\n",
       "        vertical-align: top;\n",
       "    }\n",
       "\n",
       "    .dataframe thead th {\n",
       "        text-align: right;\n",
       "    }\n",
       "</style>\n",
       "<table border=\"1\" class=\"dataframe\">\n",
       "  <thead>\n",
       "    <tr style=\"text-align: right;\">\n",
       "      <th></th>\n",
       "      <th>Name</th>\n",
       "      <th>Platform</th>\n",
       "      <th>Year_of_Release</th>\n",
       "      <th>Genre</th>\n",
       "      <th>NA_sales</th>\n",
       "      <th>EU_sales</th>\n",
       "      <th>JP_sales</th>\n",
       "      <th>Other_sales</th>\n",
       "      <th>Critic_Score</th>\n",
       "      <th>User_Score</th>\n",
       "      <th>Rating</th>\n",
       "    </tr>\n",
       "  </thead>\n",
       "  <tbody>\n",
       "    <tr>\n",
       "      <th>0</th>\n",
       "      <td>Wii Sports</td>\n",
       "      <td>Wii</td>\n",
       "      <td>2006.0</td>\n",
       "      <td>Sports</td>\n",
       "      <td>41.36</td>\n",
       "      <td>28.96</td>\n",
       "      <td>3.77</td>\n",
       "      <td>8.45</td>\n",
       "      <td>76.0</td>\n",
       "      <td>8</td>\n",
       "      <td>E</td>\n",
       "    </tr>\n",
       "    <tr>\n",
       "      <th>1</th>\n",
       "      <td>Super Mario Bros.</td>\n",
       "      <td>NES</td>\n",
       "      <td>1985.0</td>\n",
       "      <td>Platform</td>\n",
       "      <td>29.08</td>\n",
       "      <td>3.58</td>\n",
       "      <td>6.81</td>\n",
       "      <td>0.77</td>\n",
       "      <td>NaN</td>\n",
       "      <td>NaN</td>\n",
       "      <td>NaN</td>\n",
       "    </tr>\n",
       "    <tr>\n",
       "      <th>2</th>\n",
       "      <td>Mario Kart Wii</td>\n",
       "      <td>Wii</td>\n",
       "      <td>2008.0</td>\n",
       "      <td>Racing</td>\n",
       "      <td>15.68</td>\n",
       "      <td>12.76</td>\n",
       "      <td>3.79</td>\n",
       "      <td>3.29</td>\n",
       "      <td>82.0</td>\n",
       "      <td>8.3</td>\n",
       "      <td>E</td>\n",
       "    </tr>\n",
       "    <tr>\n",
       "      <th>3</th>\n",
       "      <td>Wii Sports Resort</td>\n",
       "      <td>Wii</td>\n",
       "      <td>2009.0</td>\n",
       "      <td>Sports</td>\n",
       "      <td>15.61</td>\n",
       "      <td>10.93</td>\n",
       "      <td>3.28</td>\n",
       "      <td>2.95</td>\n",
       "      <td>80.0</td>\n",
       "      <td>8</td>\n",
       "      <td>E</td>\n",
       "    </tr>\n",
       "    <tr>\n",
       "      <th>4</th>\n",
       "      <td>Pokemon Red/Pokemon Blue</td>\n",
       "      <td>GB</td>\n",
       "      <td>1996.0</td>\n",
       "      <td>Role-Playing</td>\n",
       "      <td>11.27</td>\n",
       "      <td>8.89</td>\n",
       "      <td>10.22</td>\n",
       "      <td>1.00</td>\n",
       "      <td>NaN</td>\n",
       "      <td>NaN</td>\n",
       "      <td>NaN</td>\n",
       "    </tr>\n",
       "  </tbody>\n",
       "</table>\n",
       "</div>"
      ],
      "text/plain": [
       "                       Name Platform  Year_of_Release         Genre  NA_sales  \\\n",
       "0                Wii Sports      Wii           2006.0        Sports     41.36   \n",
       "1         Super Mario Bros.      NES           1985.0      Platform     29.08   \n",
       "2            Mario Kart Wii      Wii           2008.0        Racing     15.68   \n",
       "3         Wii Sports Resort      Wii           2009.0        Sports     15.61   \n",
       "4  Pokemon Red/Pokemon Blue       GB           1996.0  Role-Playing     11.27   \n",
       "\n",
       "   EU_sales  JP_sales  Other_sales  Critic_Score User_Score Rating  \n",
       "0     28.96      3.77         8.45          76.0          8      E  \n",
       "1      3.58      6.81         0.77           NaN        NaN    NaN  \n",
       "2     12.76      3.79         3.29          82.0        8.3      E  \n",
       "3     10.93      3.28         2.95          80.0          8      E  \n",
       "4      8.89     10.22         1.00           NaN        NaN    NaN  "
      ]
     },
     "execution_count": 2,
     "metadata": {},
     "output_type": "execute_result"
    }
   ],
   "source": [
    "data = pd.read_csv('/Users/paulaschultz/Desktop/Yandex.Practicum Porfolio/games.csv')\n",
    "data.info()\n",
    "data.head(5)"
   ]
  },
  {
   "cell_type": "code",
   "execution_count": 3,
   "metadata": {},
   "outputs": [
    {
     "data": {
      "text/plain": [
       "0"
      ]
     },
     "execution_count": 3,
     "metadata": {},
     "output_type": "execute_result"
    }
   ],
   "source": [
    "data.duplicated().sum()"
   ]
  },
  {
   "cell_type": "markdown",
   "metadata": {},
   "source": [
    "При первом знакомстве с данными обнаружены пропуски: в случае с незначительным количеством (например, 2 в столбце Name) - их можно удалить, в случае с большим количеством пропущенных значений в Critic_Score и User_Score мы оставим данные без изменений. Мы также переименуем названия столбцов, и переведем некоторые столбцы в другие типы. Для дальнейшего анализа нам потребуется столбец с расчетом суммарных продаж - добавим и его.\n",
    "<br>\n",
    "Также в столбце User_Score нам встретилось значение 'tbd' - 'to be determined', а это предполагает, что пользователям только предстоит оценить игру, и, по сути, это тот же NaN, им и заменим.\n"
   ]
  },
  {
   "cell_type": "markdown",
   "metadata": {},
   "source": [
    "## Предобработка данных"
   ]
  },
  {
   "cell_type": "markdown",
   "metadata": {},
   "source": [
    "Приведем названия столбцов к нижнему регистру:"
   ]
  },
  {
   "cell_type": "code",
   "execution_count": 4,
   "metadata": {},
   "outputs": [
    {
     "data": {
      "text/html": [
       "<div>\n",
       "<style scoped>\n",
       "    .dataframe tbody tr th:only-of-type {\n",
       "        vertical-align: middle;\n",
       "    }\n",
       "\n",
       "    .dataframe tbody tr th {\n",
       "        vertical-align: top;\n",
       "    }\n",
       "\n",
       "    .dataframe thead th {\n",
       "        text-align: right;\n",
       "    }\n",
       "</style>\n",
       "<table border=\"1\" class=\"dataframe\">\n",
       "  <thead>\n",
       "    <tr style=\"text-align: right;\">\n",
       "      <th></th>\n",
       "      <th>name</th>\n",
       "      <th>platform</th>\n",
       "      <th>year_of_release</th>\n",
       "      <th>genre</th>\n",
       "      <th>NA_sales</th>\n",
       "      <th>EU_sales</th>\n",
       "      <th>JP_sales</th>\n",
       "      <th>other_sales</th>\n",
       "      <th>critic_score</th>\n",
       "      <th>user_score</th>\n",
       "      <th>rating</th>\n",
       "    </tr>\n",
       "  </thead>\n",
       "  <tbody>\n",
       "    <tr>\n",
       "      <th>0</th>\n",
       "      <td>Wii Sports</td>\n",
       "      <td>Wii</td>\n",
       "      <td>2006.0</td>\n",
       "      <td>Sports</td>\n",
       "      <td>41.36</td>\n",
       "      <td>28.96</td>\n",
       "      <td>3.77</td>\n",
       "      <td>8.45</td>\n",
       "      <td>76.0</td>\n",
       "      <td>8</td>\n",
       "      <td>E</td>\n",
       "    </tr>\n",
       "    <tr>\n",
       "      <th>1</th>\n",
       "      <td>Super Mario Bros.</td>\n",
       "      <td>NES</td>\n",
       "      <td>1985.0</td>\n",
       "      <td>Platform</td>\n",
       "      <td>29.08</td>\n",
       "      <td>3.58</td>\n",
       "      <td>6.81</td>\n",
       "      <td>0.77</td>\n",
       "      <td>NaN</td>\n",
       "      <td>NaN</td>\n",
       "      <td>NaN</td>\n",
       "    </tr>\n",
       "    <tr>\n",
       "      <th>2</th>\n",
       "      <td>Mario Kart Wii</td>\n",
       "      <td>Wii</td>\n",
       "      <td>2008.0</td>\n",
       "      <td>Racing</td>\n",
       "      <td>15.68</td>\n",
       "      <td>12.76</td>\n",
       "      <td>3.79</td>\n",
       "      <td>3.29</td>\n",
       "      <td>82.0</td>\n",
       "      <td>8.3</td>\n",
       "      <td>E</td>\n",
       "    </tr>\n",
       "    <tr>\n",
       "      <th>3</th>\n",
       "      <td>Wii Sports Resort</td>\n",
       "      <td>Wii</td>\n",
       "      <td>2009.0</td>\n",
       "      <td>Sports</td>\n",
       "      <td>15.61</td>\n",
       "      <td>10.93</td>\n",
       "      <td>3.28</td>\n",
       "      <td>2.95</td>\n",
       "      <td>80.0</td>\n",
       "      <td>8</td>\n",
       "      <td>E</td>\n",
       "    </tr>\n",
       "    <tr>\n",
       "      <th>4</th>\n",
       "      <td>Pokemon Red/Pokemon Blue</td>\n",
       "      <td>GB</td>\n",
       "      <td>1996.0</td>\n",
       "      <td>Role-Playing</td>\n",
       "      <td>11.27</td>\n",
       "      <td>8.89</td>\n",
       "      <td>10.22</td>\n",
       "      <td>1.00</td>\n",
       "      <td>NaN</td>\n",
       "      <td>NaN</td>\n",
       "      <td>NaN</td>\n",
       "    </tr>\n",
       "  </tbody>\n",
       "</table>\n",
       "</div>"
      ],
      "text/plain": [
       "                       name platform  year_of_release         genre  NA_sales  \\\n",
       "0                Wii Sports      Wii           2006.0        Sports     41.36   \n",
       "1         Super Mario Bros.      NES           1985.0      Platform     29.08   \n",
       "2            Mario Kart Wii      Wii           2008.0        Racing     15.68   \n",
       "3         Wii Sports Resort      Wii           2009.0        Sports     15.61   \n",
       "4  Pokemon Red/Pokemon Blue       GB           1996.0  Role-Playing     11.27   \n",
       "\n",
       "   EU_sales  JP_sales  other_sales  critic_score user_score rating  \n",
       "0     28.96      3.77         8.45          76.0          8      E  \n",
       "1      3.58      6.81         0.77           NaN        NaN    NaN  \n",
       "2     12.76      3.79         3.29          82.0        8.3      E  \n",
       "3     10.93      3.28         2.95          80.0          8      E  \n",
       "4      8.89     10.22         1.00           NaN        NaN    NaN  "
      ]
     },
     "execution_count": 4,
     "metadata": {},
     "output_type": "execute_result"
    }
   ],
   "source": [
    "data_columns = ['name', 'platform', 'year_of_release', 'genre', 'NA_sales', 'EU_sales', 'JP_sales', 'other_sales', 'critic_score', 'user_score', 'rating']\n",
    "data.columns = data_columns\n",
    "data.head(5)"
   ]
  },
  {
   "cell_type": "markdown",
   "metadata": {},
   "source": [
    "Удалим 2 строки, где нам неизвестно название игры:"
   ]
  },
  {
   "cell_type": "code",
   "execution_count": 5,
   "metadata": {},
   "outputs": [
    {
     "name": "stdout",
     "output_type": "stream",
     "text": [
      "<class 'pandas.core.frame.DataFrame'>\n",
      "RangeIndex: 16713 entries, 0 to 16712\n",
      "Data columns (total 11 columns):\n",
      " #   Column           Non-Null Count  Dtype  \n",
      "---  ------           --------------  -----  \n",
      " 0   name             16713 non-null  object \n",
      " 1   platform         16713 non-null  object \n",
      " 2   year_of_release  16444 non-null  float64\n",
      " 3   genre            16713 non-null  object \n",
      " 4   NA_sales         16713 non-null  float64\n",
      " 5   EU_sales         16713 non-null  float64\n",
      " 6   JP_sales         16713 non-null  float64\n",
      " 7   other_sales      16713 non-null  float64\n",
      " 8   critic_score     8137 non-null   float64\n",
      " 9   user_score       10014 non-null  object \n",
      " 10  rating           9949 non-null   object \n",
      "dtypes: float64(6), object(5)\n",
      "memory usage: 1.4+ MB\n"
     ]
    }
   ],
   "source": [
    "data.dropna(subset=['name'], inplace=True)\n",
    "data.reset_index(inplace=True,drop=True)\n",
    "data.info()"
   ]
  },
  {
   "cell_type": "markdown",
   "metadata": {},
   "source": [
    "Преобразуем тип данных:"
   ]
  },
  {
   "cell_type": "code",
   "execution_count": 6,
   "metadata": {},
   "outputs": [
    {
     "name": "stdout",
     "output_type": "stream",
     "text": [
      "<class 'pandas.core.frame.DataFrame'>\n",
      "RangeIndex: 16713 entries, 0 to 16712\n",
      "Data columns (total 11 columns):\n",
      " #   Column           Non-Null Count  Dtype  \n",
      "---  ------           --------------  -----  \n",
      " 0   name             16713 non-null  object \n",
      " 1   platform         16713 non-null  object \n",
      " 2   year_of_release  16444 non-null  float64\n",
      " 3   genre            16713 non-null  object \n",
      " 4   NA_sales         16713 non-null  float64\n",
      " 5   EU_sales         16713 non-null  float64\n",
      " 6   JP_sales         16713 non-null  float64\n",
      " 7   other_sales      16713 non-null  float64\n",
      " 8   critic_score     8137 non-null   float64\n",
      " 9   user_score       7590 non-null   float64\n",
      " 10  rating           9949 non-null   object \n",
      "dtypes: float64(7), object(4)\n",
      "memory usage: 1.4+ MB\n"
     ]
    }
   ],
   "source": [
    "data['user_score'] = data['user_score'].replace(\"tbd\", np.NaN)\n",
    "\n",
    "data['user_score'] = data['user_score'].astype('float64')\n",
    "\n",
    "#data['year_of_release'] = data['year_of_release'].astype('Int64')\n",
    "\n",
    "data['critic_score'] = data['critic_score'].astype('float64')\n",
    "\n",
    "data.info()"
   ]
  },
  {
   "cell_type": "markdown",
   "metadata": {},
   "source": [
    "Добавим столбец с суммарными продажами:"
   ]
  },
  {
   "cell_type": "code",
   "execution_count": 7,
   "metadata": {},
   "outputs": [
    {
     "data": {
      "text/html": [
       "<div>\n",
       "<style scoped>\n",
       "    .dataframe tbody tr th:only-of-type {\n",
       "        vertical-align: middle;\n",
       "    }\n",
       "\n",
       "    .dataframe tbody tr th {\n",
       "        vertical-align: top;\n",
       "    }\n",
       "\n",
       "    .dataframe thead th {\n",
       "        text-align: right;\n",
       "    }\n",
       "</style>\n",
       "<table border=\"1\" class=\"dataframe\">\n",
       "  <thead>\n",
       "    <tr style=\"text-align: right;\">\n",
       "      <th></th>\n",
       "      <th>name</th>\n",
       "      <th>platform</th>\n",
       "      <th>year_of_release</th>\n",
       "      <th>genre</th>\n",
       "      <th>NA_sales</th>\n",
       "      <th>EU_sales</th>\n",
       "      <th>JP_sales</th>\n",
       "      <th>other_sales</th>\n",
       "      <th>critic_score</th>\n",
       "      <th>user_score</th>\n",
       "      <th>rating</th>\n",
       "      <th>total_sales</th>\n",
       "    </tr>\n",
       "  </thead>\n",
       "  <tbody>\n",
       "    <tr>\n",
       "      <th>0</th>\n",
       "      <td>Wii Sports</td>\n",
       "      <td>Wii</td>\n",
       "      <td>2006.0</td>\n",
       "      <td>Sports</td>\n",
       "      <td>41.36</td>\n",
       "      <td>28.96</td>\n",
       "      <td>3.77</td>\n",
       "      <td>8.45</td>\n",
       "      <td>76.0</td>\n",
       "      <td>8.0</td>\n",
       "      <td>E</td>\n",
       "      <td>82.54</td>\n",
       "    </tr>\n",
       "    <tr>\n",
       "      <th>1</th>\n",
       "      <td>Super Mario Bros.</td>\n",
       "      <td>NES</td>\n",
       "      <td>1985.0</td>\n",
       "      <td>Platform</td>\n",
       "      <td>29.08</td>\n",
       "      <td>3.58</td>\n",
       "      <td>6.81</td>\n",
       "      <td>0.77</td>\n",
       "      <td>NaN</td>\n",
       "      <td>NaN</td>\n",
       "      <td>NaN</td>\n",
       "      <td>40.24</td>\n",
       "    </tr>\n",
       "    <tr>\n",
       "      <th>2</th>\n",
       "      <td>Mario Kart Wii</td>\n",
       "      <td>Wii</td>\n",
       "      <td>2008.0</td>\n",
       "      <td>Racing</td>\n",
       "      <td>15.68</td>\n",
       "      <td>12.76</td>\n",
       "      <td>3.79</td>\n",
       "      <td>3.29</td>\n",
       "      <td>82.0</td>\n",
       "      <td>8.3</td>\n",
       "      <td>E</td>\n",
       "      <td>35.52</td>\n",
       "    </tr>\n",
       "  </tbody>\n",
       "</table>\n",
       "</div>"
      ],
      "text/plain": [
       "                name platform  year_of_release     genre  NA_sales  EU_sales  \\\n",
       "0         Wii Sports      Wii           2006.0    Sports     41.36     28.96   \n",
       "1  Super Mario Bros.      NES           1985.0  Platform     29.08      3.58   \n",
       "2     Mario Kart Wii      Wii           2008.0    Racing     15.68     12.76   \n",
       "\n",
       "   JP_sales  other_sales  critic_score  user_score rating  total_sales  \n",
       "0      3.77         8.45          76.0         8.0      E        82.54  \n",
       "1      6.81         0.77           NaN         NaN    NaN        40.24  \n",
       "2      3.79         3.29          82.0         8.3      E        35.52  "
      ]
     },
     "execution_count": 7,
     "metadata": {},
     "output_type": "execute_result"
    }
   ],
   "source": [
    "data['total_sales'] = data[['NA_sales','EU_sales','JP_sales', 'other_sales']].sum(axis = 1)\n",
    "data.head(3)"
   ]
  },
  {
   "cell_type": "code",
   "execution_count": 8,
   "metadata": {},
   "outputs": [
    {
     "name": "stdout",
     "output_type": "stream",
     "text": [
      "<class 'pandas.core.frame.DataFrame'>\n",
      "RangeIndex: 16444 entries, 0 to 16443\n",
      "Data columns (total 12 columns):\n",
      " #   Column           Non-Null Count  Dtype  \n",
      "---  ------           --------------  -----  \n",
      " 0   name             16444 non-null  object \n",
      " 1   platform         16444 non-null  object \n",
      " 2   year_of_release  16444 non-null  float64\n",
      " 3   genre            16444 non-null  object \n",
      " 4   NA_sales         16444 non-null  float64\n",
      " 5   EU_sales         16444 non-null  float64\n",
      " 6   JP_sales         16444 non-null  float64\n",
      " 7   other_sales      16444 non-null  float64\n",
      " 8   critic_score     7983 non-null   float64\n",
      " 9   user_score       7463 non-null   float64\n",
      " 10  rating           9768 non-null   object \n",
      " 11  total_sales      16444 non-null  float64\n",
      "dtypes: float64(8), object(4)\n",
      "memory usage: 1.5+ MB\n"
     ]
    }
   ],
   "source": [
    "data.dropna(subset=['year_of_release'], inplace=True)\n",
    "data.reset_index(inplace=True,drop=True)\n",
    "data.info()"
   ]
  },
  {
   "cell_type": "markdown",
   "metadata": {},
   "source": [
    "Сделаем \"заглушку\" для пропусков в столбце rating, т.к. рейтинг ESRB (Entertainment Software Rating Board — ассоциация, определяющая возрастной рейтинг компьютерных игр), который используется в наших данных, действует, в основном, в США и Канаде, а в Японии и Европе рейтинг назначают организации CERO и PEGI соответственно."
   ]
  },
  {
   "cell_type": "code",
   "execution_count": 9,
   "metadata": {},
   "outputs": [
    {
     "data": {
      "text/plain": [
       "0"
      ]
     },
     "execution_count": 9,
     "metadata": {},
     "output_type": "execute_result"
    }
   ],
   "source": [
    "data['rating'] = data['rating'].fillna('W')\n",
    "data['rating'].isna().sum()"
   ]
  },
  {
   "cell_type": "markdown",
   "metadata": {},
   "source": [
    "## Исследовательский анализ данных"
   ]
  },
  {
   "cell_type": "markdown",
   "metadata": {},
   "source": [
    "### Продажи по годам"
   ]
  },
  {
   "cell_type": "code",
   "execution_count": 39,
   "metadata": {},
   "outputs": [
    {
     "data": {
      "image/png": "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\n",
      "text/plain": [
       "<Figure size 1008x360 with 1 Axes>"
      ]
     },
     "metadata": {
      "needs_background": "light"
     },
     "output_type": "display_data"
    }
   ],
   "source": [
    "release_year = data.groupby('year_of_release')['name'].count()\n",
    "release_year.columns = ['year_of_release', 'game_count']\n",
    "\n",
    "release_year.plot(x='year_of_release', y='game_count', kind='bar', figsize=(14, 5), grid=True)\n",
    "\n",
    "plt.ylabel(\"Кол-во релизов\")\n",
    "plt.title('Количество игровых релизов по годам')\n",
    "\n",
    "plt.show()"
   ]
  },
  {
   "cell_type": "markdown",
   "metadata": {},
   "source": [
    "На графике мы можем увидеть, что игровая индустрия переживала несколько периодов расцвета:\n",
    "<br>\n",
    "- в 1994 году суммарные релизы достигли отметки в примерно 100 игр и продолжили расти; \n",
    "- в 2002 году происходит слудующий резкий скачок в индустрии и количество реализуемых игр перешагивает через 800 игр в год;\n",
    "- следующий пик в релизах мы наблюдаем в 2008-2009 годах, когда количество игр достигает отметки 1400."
   ]
  },
  {
   "cell_type": "markdown",
   "metadata": {},
   "source": [
    "### Продажи по платформам"
   ]
  },
  {
   "cell_type": "markdown",
   "metadata": {},
   "source": [
    "Определим топ платформ с лучшими показателями продаж:"
   ]
  },
  {
   "cell_type": "code",
   "execution_count": 11,
   "metadata": {},
   "outputs": [
    {
     "data": {
      "text/plain": [
       "platform\n",
       "PS2     1233.56\n",
       "X360     961.24\n",
       "PS3      931.34\n",
       "Wii      891.18\n",
       "DS       802.78\n",
       "PS       727.58\n",
       "Name: total_sales, dtype: float64"
      ]
     },
     "execution_count": 11,
     "metadata": {},
     "output_type": "execute_result"
    }
   ],
   "source": [
    "best_data = data.groupby('platform')['total_sales'].sum().sort_values(ascending=False)\n",
    "best_data.head(6)"
   ]
  },
  {
   "cell_type": "code",
   "execution_count": 12,
   "metadata": {},
   "outputs": [],
   "source": [
    "# Создадим список с лучшими платформами:\n",
    "best_platforms = ('PS2', 'X360', 'PS3', 'Wii', 'DS', 'PS')"
   ]
  },
  {
   "cell_type": "code",
   "execution_count": 40,
   "metadata": {},
   "outputs": [
    {
     "data": {
      "image/png": "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\n",
      "text/plain": [
       "<Figure size 1080x432 with 1 Axes>"
      ]
     },
     "metadata": {
      "needs_background": "light"
     },
     "output_type": "display_data"
    }
   ],
   "source": [
    "data[data['platform'].isin(best_platforms)].groupby(['platform', 'year_of_release'])['total_sales'].sum().unstack('platform').plot(figsize=(15,6), grid=True)\n",
    "\n",
    "plt.title('Продажи по платформам')\n",
    "plt.show()"
   ]
  },
  {
   "cell_type": "markdown",
   "metadata": {},
   "source": [
    "Очевидно, что средний \"жизненный цикл\" платформы составляет, в среднем, 10 лет. Также платформы оставляют за собой небольшой \"хвостик\" в жизненном цикле следующей платформы, который составляет, в среднем, 3 года. "
   ]
  },
  {
   "cell_type": "markdown",
   "metadata": {},
   "source": [
    "### Продажи за актуальный период"
   ]
  },
  {
   "cell_type": "markdown",
   "metadata": {},
   "source": [
    "Для прогноза на 2017 год, актуальным периодом будем считать три года 2014-2016 гг., т.к. в предыдущих пунктах мы установили периоды роста игровых релизов и срок появления и исчезновения новых платформ. Также учитываем тот факт, что разработка игр - динамично развивающаяся сфера, а на разработку игр даже в крупных студиях уходит от 3 лет (https://en.wikipedia.org/wiki/Video_game_development#:~:text=Most%20modern%20PC%20or%20console,platform%20and%20number%20of%20assets)."
   ]
  },
  {
   "cell_type": "code",
   "execution_count": 14,
   "metadata": {},
   "outputs": [],
   "source": [
    "good_data = data.query('year_of_release >= 2014')"
   ]
  },
  {
   "cell_type": "markdown",
   "metadata": {},
   "source": [
    "### Лидеры продаж"
   ]
  },
  {
   "cell_type": "code",
   "execution_count": 42,
   "metadata": {},
   "outputs": [
    {
     "data": {
      "image/png": "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\n",
      "text/plain": [
       "<Figure size 1080x432 with 1 Axes>"
      ]
     },
     "metadata": {
      "needs_background": "light"
     },
     "output_type": "display_data"
    }
   ],
   "source": [
    "good_data.pivot_table(index=['platform', 'year_of_release'], values='total_sales', aggfunc='sum').unstack('platform').plot(figsize=(15, 6))\n",
    "\n",
    "plt.title('Продажи по платформам за актуальный период')\n",
    "\n",
    "plt.show()"
   ]
  },
  {
   "cell_type": "markdown",
   "metadata": {},
   "source": [
    "В отобранный нами период самыми прибыльными платформами являются PlayStation 4, Xbox One и Nintendo 3DS. При этом с 2015 года наблюдается падение продаж у всех трех компаний. У остальных платформ продажи находятся на довольно низком уровне и в них также наблюдается отрицательная динамика."
   ]
  },
  {
   "cell_type": "markdown",
   "metadata": {},
   "source": [
    "### Глобальные продажи по платформам"
   ]
  },
  {
   "cell_type": "code",
   "execution_count": 58,
   "metadata": {},
   "outputs": [
    {
     "data": {
      "image/png": "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\n",
      "text/plain": [
       "<Figure size 1080x432 with 1 Axes>"
      ]
     },
     "metadata": {
      "needs_background": "light"
     },
     "output_type": "display_data"
    }
   ],
   "source": [
    "# Диаграмма размаха с данными за весь период анализа:\n",
    "plt.figure(figsize=(15,6))\n",
    "sns.boxplot(data=data, y='total_sales', x='platform').set(ylim=(0, 3))\n",
    "\n",
    "plt.title('Продажи по платформам за все время')\n",
    "\n",
    "plt.show()"
   ]
  },
  {
   "cell_type": "code",
   "execution_count": 57,
   "metadata": {},
   "outputs": [
    {
     "data": {
      "image/png": "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\n",
      "text/plain": [
       "<Figure size 1080x432 with 1 Axes>"
      ]
     },
     "metadata": {
      "needs_background": "light"
     },
     "output_type": "display_data"
    }
   ],
   "source": [
    "# За актуальный период:\n",
    "\n",
    "plt.figure(figsize=(15,6))\n",
    "sns.boxplot(data=good_data, y='total_sales', x='platform').set(ylim=(0, 2))\n",
    "\n",
    "plt.title('Продажи по платформам за актуальный период')\n",
    "\n",
    "plt.show()"
   ]
  },
  {
   "cell_type": "markdown",
   "metadata": {},
   "source": [
    "В продажах по миру за все время лидируют японские Nintendo и Game Boy. \n",
    "<br>\n",
    "В продажах за актуальный период лидируют платформы PlayStation 4,  Xbox One, Nintendo Wii U, Xbox 360 и Nintendo Wii - у них самые большие медианные значения и \"усы\"."
   ]
  },
  {
   "cell_type": "markdown",
   "metadata": {},
   "source": [
    "### Влияние отзывов на продажи"
   ]
  },
  {
   "cell_type": "markdown",
   "metadata": {},
   "source": [
    "Выявим корреляцию между отзывами и продажами на примере самых популярных платформ за последние 3 года в рамках нашего анализа:"
   ]
  },
  {
   "cell_type": "code",
   "execution_count": 18,
   "metadata": {},
   "outputs": [
    {
     "data": {
      "text/html": [
       "<div>\n",
       "<style scoped>\n",
       "    .dataframe tbody tr th:only-of-type {\n",
       "        vertical-align: middle;\n",
       "    }\n",
       "\n",
       "    .dataframe tbody tr th {\n",
       "        vertical-align: top;\n",
       "    }\n",
       "\n",
       "    .dataframe thead th {\n",
       "        text-align: right;\n",
       "    }\n",
       "</style>\n",
       "<table border=\"1\" class=\"dataframe\">\n",
       "  <thead>\n",
       "    <tr style=\"text-align: right;\">\n",
       "      <th></th>\n",
       "      <th>total_sales</th>\n",
       "      <th>critic_score</th>\n",
       "      <th>user_score</th>\n",
       "    </tr>\n",
       "  </thead>\n",
       "  <tbody>\n",
       "    <tr>\n",
       "      <th>total_sales</th>\n",
       "      <td>1.000000</td>\n",
       "      <td>0.401903</td>\n",
       "      <td>-0.043186</td>\n",
       "    </tr>\n",
       "    <tr>\n",
       "      <th>critic_score</th>\n",
       "      <td>0.401903</td>\n",
       "      <td>1.000000</td>\n",
       "      <td>0.546434</td>\n",
       "    </tr>\n",
       "    <tr>\n",
       "      <th>user_score</th>\n",
       "      <td>-0.043186</td>\n",
       "      <td>0.546434</td>\n",
       "      <td>1.000000</td>\n",
       "    </tr>\n",
       "  </tbody>\n",
       "</table>\n",
       "</div>"
      ],
      "text/plain": [
       "              total_sales  critic_score  user_score\n",
       "total_sales      1.000000      0.401903   -0.043186\n",
       "critic_score     0.401903      1.000000    0.546434\n",
       "user_score      -0.043186      0.546434    1.000000"
      ]
     },
     "execution_count": 18,
     "metadata": {},
     "output_type": "execute_result"
    }
   ],
   "source": [
    "# PlayStation 4:\n",
    "\n",
    "ps4_corr = good_data.query('platform == \"PS4\"')[['total_sales', 'critic_score', 'user_score']].dropna().reset_index(drop=True)\n",
    "\n",
    "ps4_corr.corr()"
   ]
  },
  {
   "cell_type": "code",
   "execution_count": 19,
   "metadata": {},
   "outputs": [
    {
     "data": {
      "text/plain": [
       "Text(0.5, 1.0, 'Зависимость продаж от отзывов пользователей PS4')"
      ]
     },
     "execution_count": 19,
     "metadata": {},
     "output_type": "execute_result"
    },
    {
     "data": {
      "image/png": "iVBORw0KGgoAAAANSUhEUgAAAtEAAADhCAYAAAAOLOmDAAAAOXRFWHRTb2Z0d2FyZQBNYXRwbG90bGliIHZlcnNpb24zLjUuMSwgaHR0cHM6Ly9tYXRwbG90bGliLm9yZy/YYfK9AAAACXBIWXMAAAsTAAALEwEAmpwYAAA46ElEQVR4nO3deZxcdZ3v/9enqrvTS9IJ6SRAEghEJeybiYA6iKCiDoKjo8BVxLhw56rjNsroeB2VuW6I66gz8hODC6KCG4PKcnHcLgZJWMMSJIFAEkKSztLp7nR3ddXn98c5Vanurqpzqqurq6r7/Xw8IF3n1Pme7/meU92f+p7P+X7N3RERERERkfgSta6AiIiIiEijURAtIiIiIlImBdEiIiIiImVSEC0iIiIiUiYF0SIiIiIiZVIQLSIiIiJSJgXRIiIiIiJlUhAtUifMbI6Z3WZmz5rZXjN70sy+aGZtta6biDQeM/ukmaXMrNfM9pjZnWZ2RriuJfz9sjlc/4SZfblAGc8zswEz+8HkH4FIfVMQLVI/hoArgMXuPhtYAZwC/O+a1kpEGtmP3X0mMB/4E/AzMzPgo8By4AXALOClwL0Ftv8GcPck1VWkoSiIFqkT7t7v7n9y91R2EZABdgKY2UFmdrOZ7TCz3eHPi7Pbm9nvwh6jXjPbbmafzlt3rZn9n7zXvzYzN7Om8PVcM1tlZlvDsn8RLj/LzDbnbffGcLt3hK/fGr7+QN57Xh0uy9/fO83scTPbZWY3mdnCvHXHmdnt4bpnzexfzOyM8Dh6w560obzXh4f7/VOcdg3fm87bvtfMMmZ2Vrj+k2Z2o5n92Mz2mdk9ZnZS3vbHhG27x8weMrPzR5X/jlHlu5k9N1z3HDP7rZl1m9lOM7vOzOaE69rCnsF/Cl8fMeqcfMXMfmpmBX9Pm9n5YX32hPU7Jlz+9VF16Qt//k2Rcgoen5ldmFdOOu/a6g3Xv8/MtoVt9oCZvSSvzFwbjNrXn8zsrQXOS0/YTovy3lvqmsk/rg1m9oYS5z//fJxvZk+b2dLw9bVm9p/h9bfPzH5vZkuKbHu4me23sEfWzO4P978/vJ6ybfUvMbYdfa7fFbZ9V/h6YXjMu8I2eGdenUb3Lv/czGYVO/6s8PfKd4FDgC6CL+k/d/etHnjS3b83qu0uAvYAd0SVLzIdKYgWqTNhoNUL7AB2uHv2FmsCWAUsAQ4H9gNfH7X5e8JepxcD/2Rmxxco/yzgxFGLvw+0A8cBC4BCt3WbgX8Dnhm16nHg0rzX7wAeydvubOCzwBuBQ4FNwI/CdbOA/wvcAiwEngvc4e5/dveZ4bFcB1yZfe3uT42uWwx/ztt+JrB11PoLgBuAucAPgV+YWXN4zP8F3EbQLv8IXGdmy/KbBvhDXtmMWvfZ8NiOAQ4DPgng7vuB84HLzOzvR2xk9l7gNODN7p4ZfTBmdhRwPfB+gh7GXwP/ZWYt7v6eUXU5KXz9qgLlFD0+d/9xXjl/JLy28sr9L2AZ0Al8E/jS6PJj+HNY3gJgEPhAWK+i10yek8JtrwD+I2pHYZD/n8Cr3X1j3qo3EVzX84D7CK63Qv4N6M6+cPfs/l8FbM27vj4Tte2oel0EfAg4192z77ke2Exw3fw98BkzOydvs2zv8uHAkYz8/BVkZjOAtwKb3X0nsBr4YBjAn2BmNur9nQRt+09RZYtMVwqiReqMu7+J4PbqMcAxZvbBcHm3u/807LHeB3waeEmRYpqANLA3f2H4h/JK4F/zlh1KEAj8g7vvdveUu/++QJn/E7gLeGzU8meBJy3oPV5AEOT/JW/9m4DvuPs97j5IcBv5DDM7AjgP2ObuX3T3AXff5+53lW6hqljr7jeGvXVfAlqB08P/ZgKfc/chd/8tcDNwcd62bQSpOGO4++Pufru7D7r7jrDsl+St30nQBquAF4aLX0twfs4PA+1CLgR+FZadAq4K6/HCIu8vJs7xFeTuG909e30ZcE+Z+86XCP/LBpGlrpnRmigSoOY5BbgJeJO7Pzhq3a/c/Q/hfj4W7uew/DeY2YnAGQQ9uWWJ2PaVwDXAq9x9c/j+wwi+BP9z+Jm4D/g2cEmB7ZOMbLdC3mhme4CngecTXF8QfEn5PEFbrwG2mFl+MP5vwDXu/nT0UYpMTwqiRepQeHv1UeBzwFsAzKzdzL5lZpvMrAf4AzDHzJJ5m34t/IP5EEEQMvoP4BsJ/uD+Nm/ZYcAud99drD5hj/HlwMeLvOXbBD3QbwW+N2rdQoKexOyx9YZ1WBTue0Ox/UY4PbydvcuCtIjl4ywHggAjW78MB3oBFwJPj+oN3kRQ96xDCO4ajGFmC8zsR2a2JTxnPyDo8cz3UuAJDtxV+ArBLfRSxzO6TTPhMSwqukXxcqKOrygz+wjQTxBw3Txq9T3h+dloYcpKAaeH1+segh7Va/PqVeyayS+/lyBn94qIqn4b+Cvw8gLr8s99L7Ar3H++zxNc+ynKV2rbbwNPMvLL8EKCz+O+vGWjz0k2MN4B9BHcFSjmJ+4+x90XuPvZ7r4WwN3T7v4Nd38RMIfgS/l3LEjvORl4GQXuSInIAQqiRepbkiAvGoLbqsuA09y9EzgzXJ5/G/a97j6HIC3hxWaW36OYTcf451H7eBqYa2GubhEfJvhjvKnI+t8ALyK4rfz9Ueu2EvROB5U16yDIydwS7vs5JfZbyurwWOcDtzM2taUcuZ5HC3KQFxPUeytwmI3MSz6coO5ZpwD3Fyn3swS57SeG5+zN5J2vsOf+CoKe5feEiy8m+ELydSs+MsvoNrXwGLYUeX8xcY6vKHf/HEEa0FuBn4y6hk4Nz8/5wP8xs6MLFJE9h60EXzCuzatXsWsmv/yZBO3/TTM7vERV30/Q4/92Mzt11Lr8cz+T4LOTn+5zNsEXn5+UKL+YqG0vJjj3n87r/d5K8HnMz3MefU5+ErZbO/Ag8MVx1C3H3fe7+zeA3cCxwFnAEcBTZraNIN3k9WZWyd0GkSlHQbRInTCzY83sw3kPFx1DEPD+MHzLLII86D1mNhf4RIni0gTB2/y8ZZcAd7r7A/lvdPdnCILgb1rw8GKzmZ2Z95ZZwEqCnqqC3D1N0OP2A3ffNWr1D4GVZnZymJf5GeAud3+SoPfyEDN7v5nNMLNZZnZaieMqtu+9VPb77Plm9rrwQa/3E+TnriZIX+kDLg/b5SzgNRzI6T6B4MvMDUXKnQX0EpyzRQRfRvJ9Gfj/3P0R4M5w2Z/d/XcEecjFzvFPgL81s3PCvOZ/Cut8Z5H3F1Py+EoJr9em8GUbwZe9gQJv3ROuK3V+nOCazV6vpa6Z0dJAC0FvajF/dPdsMLgqbLOsV5vZi82sheBL5l2j7uB8Eviwu3uJ8ouJ2vaP7r4O+BrwLYBw33cCnzWz1jAd5O0UztXOMPZzHkv4mTvLggdcm8JUjlkEI3RcTfDl9uTwv/8EfgWcW+5+RKYyBdEi9WMPQQ/QfeGt/xuAb7j7VeH6rxAEK9mHgm4pUMbXw1vcTwKPEuRbZh1E8XSMSwhuNz8KbCcIJLM6ga+VSvcAcPdV7v7ZAsvvCPf7U4KHEp8DXBSu20dwi/01wDaCW+4vLbWfPCssGON2M0Fe5/tiblfILwl6BHcTtMXrwtzwIYKe1FcRtPs3gbe4+6Nhz+e9BOdkneWNXMGB2+ufAk4lCPJ/Bfwsu0MzexnB8GLFvpx8CLg0DNRHcPf1BL3a/x7W6zXAa8L6xlbq+GJs/o8E18peglziN7p7fhD9x/Dc/D/gM+7+cIEyzgjbbC/wOsLe+FLXTJ77w21/F5b/ABHc/fsEdz/+JW/xDwm+rOwiyBl+06jN7g2/1IxH3G0/Cxyal5N8MUFP8Fbg58An3P32vPdfGB57N0HPcf7xxLWfoAd7G8G5fzfw+jDXvd/dt2X/I/giOBDm9YtIyMb35VpEZGows08Cz3X3N5e53RHAte5+VoF1/9fdXzYhFZSqMbNrCUar0FjsIlI29USLiIzPMEUeKCyxXEREpoim6LeIiMho4ZBkBSf5cPfIIeJERKSxKZ1DRERERKRMSucQERERESmTgmgRERERkTI1TE70vHnz/Igjjqh1NURERERkClu7du1Od48cf71hgugjjjiCNWvW1LoaIiIiIjKFmVmx2XlHUDqHiIiIiEiZFESLiIiIiJRJQbSIiIiI1JWegRRP7OyjZyBV66oU1TA50SIiIiIy9a3e0M0XbltPJuMkEsbl5y7jtKVdta7WGOqJFhEREZG60DOQ4gu3rWdGMsHcjhZmJBNceev6uuyRVhAtIiIiInWhu3eITMZpa0kC0NaSJJ1xunuHalyzsRREi4iIiEhd6JrZQiJh7B9KA7B/KE0yYXTNbKlxzcZSEC0iIiIidaGztZnLz13GYDpDd98Qg+kMl5+7jM7W5lpXbQw9WCgiIiIideO0pV2sWrmC7t4huma21GUADVXuiTaz75jZdjNbl7fsC2b2qJk9YGY/N7M51ayDiIiIiDSWztZmjpzXUbcBNFQ/neNa4JWjlt0OHO/uJwKPAR+tch1ERERERCZUVYNod/8DsGvUstvcfTh8uRpYXM06iIiIiIhMtFo/WPg24Dc1roOIiIiISFlqFkSb2ceAYeC6Eu+5zMzWmNmaHTt2TF7lRERERERKqEkQbWaXAucBb3J3L/Y+d7/a3Ze7+/L58+dPXgVFREREREqY9CHuzOyVwD8DL3H3/snev4iIiIhIpao9xN31wJ+BZWa22czeDnwdmAXcbmb3mdl/VrMOIiIiIiITrao90e5+cYHF11RznyIiIiIi1Vbr0TlERERERBqOgmgRERERkTIpiBYRERERKZOCaBERERGRMimIFhEREREpk4JoEREREZEyKYgWERERESmTgmgRERERkTIpiBYRERERKZOCaBERERGRMimIFhEREREpk4JoEREREZEyKYgWERERESmTgmgRERERkTJVNYg2s++Y2XYzW5e3bK6Z3W5mfw3/PaiadRARERERmWjV7om+FnjlqGUfAe5w9+cBd4SvRUREREQaRlWDaHf/A7Br1OILgO+GP38XeG016yAiIiIiMtFqkRN9sLs/AxD+u6AGdRARERERGbe6frDQzC4zszVmtmbHjh21ro6IiIiICFCbIPpZMzsUIPx3e7E3uvvV7r7c3ZfPnz9/0iooIiIiIlJKLYLom4BLw58vBX5ZgzqIiIiIiIxbtYe4ux74M7DMzDab2duBzwEvN7O/Ai8PX4uIiIiINIymahbu7hcXWXVONfcrIiIiIlJNdf1goYiIiIhIPVIQLSIiIiJSJgXRIiIiIiJlUhAtIiIiIlImBdEiIiIiImVSEC0iIiIiUiYF0SIiIiIiZVIQLSIiIiJSJgXRIiIiIiJlUhAtIiIiDa1nIMUTO/voGUjVuioyjVR12m8RERGRalq9oZsv3LaeTMZJJIzLz13GaUu7al0tmQbUEy0iIiINqWcgxRduW8+MZIK5HS3MSCa48tb16pGWSaEgWkRERBpSd+8QmYzT1pIEoK0lSTrjdPcO1bhmMh0oiBYREZGG1DWzhUTC2D+UBmD/UJpkwuia2VLjmsl0ECuINrP3mVmnBa4xs3vM7BXVrpyIiIhIMZ2tzVx+7jIG0xm6+4YYTGe4/NxldLY217pqMg3EfbDwbe7+VTM7F5gPrARWAbeNd8dm9gHgHYADDwIr3X1gvOWJiIjI9HPa0i5WrVxBd+8QXTNbFEDLpImbzmHhv68GVrn7/XnLymZmi4D3Asvd/XggCVw03vJERERk+upsbebIeR0KoGVSxQ2i15rZbQRB9K1mNgvIVLjvJqDNzJqAdmBrheWJiIiIiEyKuOkcbwdOBja6e7+ZdRGkdIyLu28xs6uAp4D9wG3uPu7UEBERERGRyRS3J9qBYwlSMAA6gNbx7tTMDgIuAI4EFgIdZvbmAu+7zMzWmNmaHTt2jHd3IiIiIiITKm4Q/U3gDODi8PU+4BsV7PdlwBPuvsPdU8DPgBeOfpO7X+3uy919+fz58yvYnYiIiExXlUwLrinFpZi46RynufupZnYvgLvvNrNKBmF8CjjdzNoJ0jnOAdZUUJ6IiIjIGJVMC64pxaWUuD3RKTNLEqR1YGbzqeDBQne/C7gRuIdgeLsEcPV4yxMREREZrZJpwTWluESJG0R/Dfg5sMDMPg38CfhMJTt290+4+9Hufry7X+Lug5WUJyIiIpKvkmnBNaW4RImVzuHu15nZWoK0CwNe6+6PVLVmIiIiIhXInxa8rSVZ1rTglWwr00PJnmgzm5v9D9gOXA/8EHg2XCYiIiJSlyqZFnyiphTXg4lTl7l78ZVmTxDkQefPTph97e6+tLrVO2D58uW+Zo2ePRQREZHy9Aykxj0teCXb6sHExmRma919edT7SqZzuPuRE1clERERkcnX2do87inBx7tt/oOJbW1BOsiVt65n1coVmp58iog7xF12gpTnkTfJirv/oRqVEhEREWlkuQcT2w48mNjfl6a7d0hB9BQRK4g2s3cA7wMWA/cBpwN/Bs6uWs1EREREGpQeTJz64g5x9z5gBbDJ3V8KnAJoHm4RERGRAibqwUSpX3HTOQbcfcDMMLMZ7v6omS2ras1EREREGthpS7tYtXLFuB9MlPoWN4jebGZzgF8At5vZbmBrtSolIiIiMhVU8lCj1Le4k638XfjjJ83sv4HZwC1Vq5WIiIiISB2LlRNtZs8xsxnZl8ARQHu1KiUiIiIiUs/iPlj4UyBtZs8FrgGOJJi5UERERERk2okbRGfcfRj4O+Ar7v4B4NDqVUtEREREpH7FDaJTZnYxcClwc7hMWfIiIiIiMi3FDaJXAmcAn3b3J8zsSOAHlezYzOaY2Y1m9qiZPWJmZ1RSnoiIiExPPQMpntjZR89AqtZVkWkk7ugcDwPvzXv9BPC57Gsz+6m7v77MfX8VuMXd/97MWtCDiiIiIlKm1Ru6+cJt68lknETCuPzcZZy2tKvW1ZJpIG5PdJSl5bzZzDqBMwkeUsTdh9x9zwTVRURERKaBnoEUX7htPTOSCeZ2tDAjmeDKW9erR1omxUQF0V7m+5cSTBu+yszuNbNvm1nHBNVFREREpoHu3iEyGaetJQlAW0uSdMbp7h2qcc1kOpioILpcTcCpwH+4+ylAH/CR0W8ys8vMbI2ZrdmxY8dk11FERETqWNfMFhIJY/9QGoD9Q2mSCaNrZkuNaybTwUQF0Vbm+zcDm939rvD1jQRB9QjufrW7L3f35fPnz6+0jiIiIlJEIz6c19nazOXnLmMwnaG7b4jBdIbLz12mabZlUsR6sDCGfy7nze6+zcyeNrNl7r4eOAd4eILqIiIiImVo5IfzTlvaxaqVK+juHaJrZosCaJk0JYNoM3uQwvnOBri7n0jww23j2Pc/AteFI3NsJBhGT0RERCZR/sN5bW1J9g+lufLW9axauaJhAtLO1uaGqatMHVE90edVa8fufh+wvFrli4iISLTcw3ltBx7O6+9L0907pMB0musZSKmHv4SSQbS7b5qsioiIiMjky384r60lqYfzBGjsFJ/JEuvBQjM73czuNrNeMxsys7SZ9VS7ciIiIlJdejhPRtP42/HEfbDw68BFwA0EKRhvAZ5brUqJiIjI5NHDeZJPKT7xxB6dw90fN7Oku6cJJkm5s4r1EhERkUmkh/MkSyk+8cQdJ7o/HEXjPjO70sw+AGiGQREREZEpRik+8cTtib6EIOB+D/AB4DDgddWqlIiIiIjUjlJ8osXtiX6tuw+4e4+7f8rdP0gVh78TERERkdrqbG3myHkdCqCLiBtEX1pg2VsnsB4iIiIiIg0jasbCi4H/ARxpZjflreoEuqtZMREREZF6pwlJpq+onOg7gWeAecAX85bvAx6oVqVERERE6p0mJJneSqZzuPsmd/+du58BPArMCv/b7O7Dk1FBERERqb2egRRP7OzThBshTUgisUbnMLM3AFcBvwMM+Hcz+7C731jFuomIiEgdUI/rWJqQROI+WPi/gRXufqm7vwV4AfDx6lVLRERE6oF6XAvLn5AE0IQk01DcIDrh7tvzXneXsa2IiIg0qFyPa8uBHtd0xunuHapxzWpLE5JI3MlWfmNmtwLXh68vBH5dnSqJiIhIvdAU0MVpQpLpLW5vsgPfAk4ETgKunoidm1nSzO41s5snojwRERGZWJPR41rPDy1G1a3SCUnq+dilNHP36DeZ3ePup45a9oC7n1jRzs0+CCwHOt295AyIy5cv9zVr1lSyOxERkaqaymMGV+vY6vmhxYmoW6l2q/WxT+XrtRJmttbdl0e+r1QQbWb/C3gXsBTYkLdqFvD/3P3NFVRwMfBd4NPABxVEi4hII6t1QNSIegZSrFx1NzOSiVyqyGA6w6qVK2oe1E1E3VZv6OZztzzKYCrNjOYkH33V0blrotbHruu1uLhBdFQ6xw+B1wA3hf9m/3t+JQF06CvA5UCmwnJERERqSiNYjE/2ocXmpNE/NExz0urmocVKH6jsGUjxr79cx4btvWzZs58N23v5+C/W5a6JWj6wqet1YpR8sNDd9wJ7gYsncqdmdh6w3d3XmtlZJd53GXAZwOGHHz6RVRAREZkwGjN4fLpmttA3OMzj23sxA3c4dHZrXTy0WOkDlZu6+9myZz8tyQTJRPDlYPOe/Wzq7ueERbNr+sCmrteJUath6l4EnG9mTwI/As42sx+MfpO7X+3uy919+fz58ye7jiIiIrFozODxMyv9ulYqf6DScQimqMv/N1ha0yHydL1OjLhD3E0od/8o8FGAsCf6QxOQHiIiIlIT2YDoylvX098XBCQaMzhad+8Q7S1NnLJkDqlhp7nJ6Nk/XDc9opUMYbekq4PDDmpj654B0ua4w2EHtbGkq2NCyq+ErteJUZMgWkREZKrRmMHly/aIDg877XU6BnVna/O4zmVnazNXXHA8n/3NowwOp5nRFDxYOLqs8ZZfqTjXq0bvKC3WEHf1QKNziIiIVE+tAqa7NnZz5a3rSWc81yM6lUaJaNRAdDqP3jEhQ9zVEwXRIiIi1VHrgKlRA82pqtbD79XaRA1xJyIiIlNYPQx3Vumsf1E0K2B5ajn8XiNRTrSIiMg0NtWHO6t1L3sjquXwe41EPdEiIiLT2FQe7qweetkbUS2H32sk6okWERGZxqbycGdxe9mVkz2WRpuJpiBaRERkmpuqAVOctASlexRXq+H3GoXSOURERKTqD/eVUq0H/7K97P2pNFv37Kc/lR7Ry650D6mEeqJFRESkZqrdE5wbybfAdOJT/aFKqS71RIuIiEhNVLsnOFt+e3OShbPbaG9Ojih/Kj9UKdWnIFpERERqotrjEUeVP91HodD42ZVROoeIiIjURLXHI86Wv28gRTJhuanF88ufqg9VRtEDlZVTT7SIiIjURLV7gjtbmznvhEN46Jke7t+8l4ee6eG8Ew4ZU34tH6qsBT1QOTHUEy0iIiI1Gyu5mj3BPQMpbn5wG8ct7CRpCdKe4eYHt/H65YdNm4C5ED1QOTEURIuIiDSIagW6tb61HzUe8XiPOxsszmnLpm8k6e4bmjLB4njbRdN6T4yaBNFmdhjwPeAQIANc7e5frUVdREREJkslQfDqDd187pZHGUylmdGc5KOvOnpMoDue8vNv7be1BQHVlbeuZ9XKFXURaFYS4E/lYLGSdpnKs1ROJvPcAIqTuFOzQ4FD3f0eM5sFrAVe6+4PF9tm+fLlvmbNmkmro4iIyESqJOjpGUjx99+8k2f2DmAWjH186OxWbnzXC3OBz3jLf2JnHx/88X3M7TgQWHb3DfHlC0/myHkd4zvYCdIzkGLlqruDAD8MggfTmbIC/Ls2dnPlretzDxU22gN0hb4YTUS7FCtbwMzWuvvyqPfVpCfa3Z8Bngl/3mdmjwCLgKJBtIiISKOqtLd3U3c/W/bspyWZyI0ysXnPfjZ193PCotkVlT9ZvbXjCdgmIne32qNvVBqIltq+2Bejicpp1rTelal5TrSZHQGcAtxV46qIiIhUpXeu8qDH8fD/6Uz2VbC80vIn49b+eHvJJyrAr1awWGkueantS30xmsppKo2kpkPcmdlM4KfA+929p8D6y8xsjZmt2bFjx+RXUERECqp0koZ6neRh9YZuVq66mw/++D5WrrqbuzZ2T0i5lc6Mt6Srg7ntzfQMDNMzkKJnYJi57c0s6eqIXX6pNs/21n75wpNZtXLFhKY7VDKcWtwh8GpxPVU6TFzU9qUmipnuk8TUi5r1RJtZM0EAfZ27/6zQe9z9auBqCHKiJ7F6IiJSRDV732qpmg/YZYOez/7mUXb3D+UeDCyn3I4ZTbQ3J8EAD16PLr9Yb3KcNq9Wb202GGxuMfqHhmlJJuhPeexe+Kh0jFpdT5XeXYjaPmqimOk6SUw9qUlPtJkZcA3wiLt/qRZ1EBGR8lW7962Wqj0Fde45fhtf3dpbmjj1iIM4YdEcTj3iINpamkbUrVhvcq3bvGtmC32Dw6zdtJsHNu9l7abd9A8Ol5V6UGwylFoeW6V3F6K2jzNRzHSbJKbe1Cqd40XAJcDZZnZf+N+ra1QXERGJqdJAs9qBaiUqDYpKyQZ77c1JFs5uo705WVawl63b8LDT3pJkeHjs9NVQOKiqhzbvHxqmP5VmIJWmP5Wmf2h4Qsqt5bFVmlIRtX3+RDEnLZ7DcQs7ufnBbXXxhVMCtRqd40+M67u4iIjUUqUPNNXzA1HVfMCu0lv/ldSt1m2+qbuf3f0pZrU2kTAj486u/lRuZJFK1PrYKk2pKLX9VJ8oZiqo+egcIiLSOCoNNOt9kodq5ZlORLA33rrVvs2DsUQSZiTNcsug8kedan9sleeSF9u+1l8QJFpNJlsZD022IiJSP6o5Nu5UNRGTflTSblv29LNxRx9L53ewaE57WdtWomcgxRv+40627jkwUczCOa3c8L9eOGHnfqpeT40+UUyjijvZioJoERGZcFM1qKlUpdN+j3cUilqPiHLXxm4+9V8Ps28gxazWZj7xmmMndf+NfD02ct0bVV3PWCgiIlNXrQO2aisV1EQFPOO99V/J8HvVHLovroe27uXJ7j4y7nT3DfHw1r2Tdk2s3tDN5255lMFUOje0YCNdj5pVsH7VdLIVERGZWmo9nFq1lZqMpVoTtUBlo1DE3bZaE5Zs2dPPF29/jKaEMbOliaaEcdXtj7FlT/+E7qeQnoEU//rLdWzY3suWPfvZsL2Xj/9i3ZS5Hut10qLpQkG0iIhMmHoYTq1aSn1ByK5LGrQ2J0gaE/rlIX/ijf6h4dwEHHEeMoszdF+cLwDjDdg27ujDHZrCCUOaEoZ7sDxry55+/vjXHeMOrIvVbVN3P1v27KcpYbQkEzQljM179rOpu/oBfLVV80ubxKN0DhERmTBTeUSBUsPUAeztH2JH7yDuYAbzZs6YsOHIshNvXHX7Y7nyP/TyoyZkeLw46R6VpOgsnd9BOpNh7/40Zoa705Q0ls4Ppiz/zp828sVRx7XyxUtjt03pugUjg+QG1c0Nrjt5z4NVI6e5HlJ0RD3RIiIygSqdgGIyjLdHtVSPbkuT8UzPAO7QkkzgDtt6BmhpGjklwnj3nZ14Y9khszjq4FksO2RWWRNvFJvNEKLvHsRN0Sl2bLNam1kwqxUHMh4EtQtmtTKrtTmX6pEAZiQTJKCsVI+oOwBLujo47KA2UsMZ9qfSpIYzHHZQG0u6OmKVX6mJ6C0u1K5T+Y5PI1FPtIiITKhqjbWcVasRLkr16Hb3DrFwdhvb9w0ylM5gZhza2crQ8IEez0oecOvuHapaT3fU3YM4E8WUOrbu3iHmzZzB4XPb6RtK09GSpG8o2H7z7n5SwxkyDpABIGFBqkecYfii2qWztZmLVhzGF257jIw7CTMuWnHYpHypi9tbXOp6Lna9TuU7Po1EQbSIiIxR6S3oao0oUEkQPBFBzWlLu/jaxSePGW+5a2YLnW3NHNTRTNISpD1DOkMuqMk+4PbM3gNjJX/8F+u48V0vjLXvbE930oLc3qF0pmBPd6l2KxbkRqV7RAVsUceW3d4dujpaRmw/NJxmOOMYkEgYmYwz7LBg1oxYxxXVLtke/OMXdebOy80PbuP1y6sfSMf98lHseo66Xms9yYwoiBYRkVHiBKq1GLu20jzQSoOaUuvzg5qhzNigJvuAW0syQTJ8wC77gFt26utS+x4a9sie7mwbjT4vcQL4UncPogK27LE1JyzIeWbksZXswW8a4tDZrWzrGSCdcczg0M5WWpqSkccVp10mYurs8V7rcb58lLqeo67Xat/xkWgKokWk7mmygclT7YfMKhEnCM4eQ6HrpdKgJj//tqU5QTrjI9aXDmpKP+CWLXs4nWFoOE1LU3JE2dme7lltTWQykEiAMXaEjULnJU4AHyXq2FLpDPtTQY+yE4zEkf/wXqke/ENmt3FIZytph6QBFu+4stuXugMQN+2h2GyOqzd0c8XN45skJurLR9T1HKfuGkO6thREi0hdm+oTd9RKsUAz+4e9ucXoHxqmJZmgP+W5P+y1HBUgTlBR6nqpNKjJ5t9u3zdAOgPJBMyf1ToiiC8W1GQfcNu6Z4C0Oe6MeMCtu3eIJ3fso7t/OLfN3PamEbm9551wSHBsHuQNf/gV8UbYyAbwjpPO5MJ58oPcSvK153a04HiY15wt2ZnbEX1esufks7/J2/crxx6Xu+ME7ZZ/vUXdAYiT9lBsdJCegRTvuW4tO/uzD/Tt590/WMtvL39p7Gu91JePqOtZKRv1T0G0NBz1Sk49xc5pIwzjVMvrcbz7LtW71jWzhb7BYR7f3pu79X/o7NayHjKLU7diPX+lxB2qrVhPMRTvEc0ee3Ys5myPbX5Q09JkPL27n9Sw59pmcLg/Vl5yZ2szV1xwfBAsDqeZ0RQEqtl67e4bHBFAA+zqH2Z33yBHzuugZyDF9X95OsgdJujIvv4vT+dye0udlyVdHcxtb2br3oFcT/HC2a25AD6b7rF1z348LHt0ukepIHtXX2rsiHEeLF80J/pz7NltCzRjd+8Qz+zpZ9vewdyyg2ePfKAyKq2h1DnPjg6SNKOlKcipvur2x3jF8Yewftu+XACdbbed/SnWPLmLs48+uOT5jiNOkKyUjfqmILoEBWv1R72S9alaoyXEDdhqpZbTCY83bzlO75qNCmbyX1faGwxBz99Vo3pU444LXCogijOCRVRPdamxmHf1pchkPBhDIgz8MhnPBYtx6v6NN51SsO7rtvYU3Gbd1h5OXTKXTd39bOruYzB9IGXiye6+XEpG1BeAjhlNtCaNDEEQ3jHjwJ//bNmp9IEvB/llR+VU9w2mcqkYCTMy7qQd+gZTufOSyTiWdLr7BuloHjkcW7anGXfcR37xGRpOszUvgAZ4Zu8gQ8PpEctKpTWUOufZiWBamoIRf4M7L2k27uhj8+5gmL38DByH3PKs8YyukVXqeo5zbFJbNRsn2sxeaWbrzexxM/tIrepRTKPPBNTIU4EWq/tUn0642qJmBCt1zZRaV8lnJeqcxpmlrdJrPWr7Yu2WDSwef3YfT+3q5/Fn95U9nXAlYwZHzY63ekM3b7nmL7zrB2t5yzV/yZ2XNU/uygugA9neNQgCnvaWJo45dCaL5rRxzKEzaWtpygU82d6zfYPDPLmzj32DwwV7g4fTGQZSwwynMyPqtmVPP5+/5VEGhjKkhjMMDGX43C2Pjmjfezbt4pv//Tj3bNo15thXb+jmvdffx5due4z3Xn/fiOstO1JDKjVMajhDKjU8ZqSGUnXLjuRw3MJOTlo8h+MWdo4Yi7lvMEUqM7I+qcyBYBFg/bYebljzNOu3jQ2KV2/o5m2r1vDhG+7nbavWjKj73PbCQVJ2ed9gisF0ELlnO26H0p7bd/YLwLqte7n36T2s27qX8044JNdLvW8gxcCwMzjsDAx7LvDLLzsDpD0YaC6/7GxOdQIHh0Teg4MQBOQtyQRph1QmCKBbkolcoN41s4UdPQPcuXEXDzy9lzs37mJnzwBdM1tyaSz3b97LI9t6uX/zXp7YsS9Xtye7D8xqmG/08lKf01KflaXzOzCDoXQmbNMMZsHy047sCr40cOA/MzjtyJEPmhb7/Rfnb9bqDd28+7p7+cyvHuHd191bdqzRyH/rp4Ka9ESbWRL4BvByYDNwt5nd5O4P16I+ozXCLeRSGrm3tpF7JetZ1Ixgpdq9kiGYokSd06iewUqv9Tg9psXaLdt7N5yhYO9dpfuOardSPa6leg4f376vYJmPb9/H2UcfnAt4tvbk3frvbB3xxeWhrXvZsKM3N+7uw1v3jviclsrtXbdlL4PZESXCfwaHnXVb9rJoTjv/83t3c+vD23PbnnvsAr71lhVA9PU2NOxkhjPsT0N2zOE2z4wYqaFU3SodyeETv3yQ769+Kvf6ktMP51MXnJCr+2Xfu5uewaAHdVvPIO/87t386aPn0NnazJJ5hSf/yC7f2TtYcH12eTbdI2FGIuw6zaZ7jO7NdQr35hbnDKTSpPNSNpKWLSnI97ZR+RyG59JF9g2keLZ3IBeIAjzbO8C+gVRkGktzsnCqTP7yUp/TqM/KojntfOjlR3HV7Y/Rn0rnts/2CL/imAUjrsdXHLOAZYd0ApWPrhF32MNiGvlv/VRRq57oFwCPu/tGdx8CfgRcUKO6jNHIMwE1cm9t3F7JQrOFSXH5OX/tzUmSZiNmBCvV7lHnpNLPStQ5LdUzWOm1HrV9VLsFvZKOEdwCN5zhjI/olRzvvqNEzY6X7TlsSgRj5zYlLNdzuHB2W8Eys8v3DaTY2R+cPwvzOHb2Bz2Z+e3SlDBmtjTRlBjZLvlBUTbMyQZFMDL4yQ+PmpPGPZt25QKW7LpbH96e65GOut427+pjf3pkMLc/7Wze1RerblHX42PPFv4C8tiz+1i/rYfvr34KA5IJw4Dvr34q1yP9h8e25wLorJ7BNH94LDjePX2FPzPZ5Y9s3VtwfXb5gWHmErQ2JWlOJHLn/MnuvjGDghgje3NHh6r5r1uSCTKjlmfC5QCPP7uP/aOG2ts/7Dwette6LXtJZ6ApAc0JoykB6UywfM2m3QWPK7u8vaWpYN3aW4I+wKjPaZyZJFe+eCm3feBMvnXJ87ntA2fmAvCegRQ7+1KcvHg2xxw6i5MXz2ZnXyr277+o66nU5zRKI/+tn0pqFUQvAp7Oe705XFYXGjlYa+QvAFF1z95GrufphOtRLucveSDnzz1YDqXbvdI/ElGizml2/7NmNNPekmTWjObYdYsStX1Uu2VvYbsFk0h4ONlDfq7pePcdJTs2rpkdGBt3dlvemMHFh1NbMq8jHH7sgKaE5Xo8N+7oI2HGnPZmZrU2Mae9mYRZ7rij2mXDjiBgy9+1hcshGM2iJQyks7VtSRrzZ7WyeuOuEdXN/ptdHnW9PbilcF5xdnlU3aKux1K9+A9sDoLZRNi22X+zy//6bG/BbbPLo+re2lz4ujqwvPg5n93WjFkQ3DclLAjyDWa3BcfVMaOJGU1BqkMyEfQyz2g6cC1v3zeYC/ISCXJB3/Z9wZeP/POW377Z5dn9gIUrLbd8VpHPS3Z5ft0SNrZuUddj9GclsGhOO3/zvPljcuwzGadr5gwWzm6ja+aMsn7/Rf/NKj3sYSmN/Ld+KqnVg4WF7s+MuWrM7DLgMoDDDz+82nXKaeRhZRp5KtA4ddeTyuXLz/nLzuiVzfmD6Hav9hBMlQwBVcm1HlV2VLst6epgSVc7W3bvzz1xtChvyLJK9h1n+1Jj40YNp/ac+R08vXt/Lh0jf132uIfTXvC4o9rlxMWzcw8iJs1Ih0MvnLh4dq5uR87rYPPuAyNBLA73n1oa9Hdml2f/KJy+dC4Qfb1l30eR7aPqBqWvx5cfcwjf+3N+/8+B5Qs6WwFyt9YzmZFlv+So+Xz1jsfHbPuSo+bHqvsrjjuEL97+1zHbv+K4Q4Doc75oThtb9uwn2xe+aE4bxy48cE5KXctL53fQlAx7S5PGcNrJ4Llznq1jsfN27MLZuf1nV2b3f9jcdpoSxnDe+HhNCePMZfNj1y3q91upz0opEzEEXanrKeqcVVI3mRy16oneDByW93oxsHX0m9z9andf7u7L58+fP2mVgwMX/pcvPJlVK1c0TJ5RI/fWxq17Z2szR87raIhjqgfZnL+0O/2pNGn3ETl/pdo9zjmZiM9KsXNaad2i9llq+zjtdsUFx/Pcg2dx2Nx2nnvwLK644PhY+5+ouqczsD+VJp1hzNi4V1xwPM9ZMJNFB7XxnAUzc3XLrjvq4FkcOa+Do0bVO+q4o9YvO6STS04POj2yQeolpx+eyyPN7v95B89iSVc7z8vb/6lL5nLusQuAA4HYuccu4NQlBwLMUtdb1PZRdctv30LX498ctYAVS0bmu69YMpu/OWpBrmwH0pmghzG/7Py6ZeXXLU7dLz3j8DB1KMjtvfSMse1a7Jxf9YaTOG7hbI6c18FxC2dz1RtOGnO9FLuWs+c8gzM4nCHDyHMeVfdS+180p52Pvfpo2pqTtCSNtuYkH3v10bE/Z3F/vxX7rJQyUb//Sv1+K3bOJqJuUn3mPqYDuPo7NWsCHgPOAbYAdwP/w90fKrbN8uXLfc2aNZNUw8bXyMPzNXLd61nUuLyl2r3W56Sadat0PONK9l/tulfSblHHHbV+/bYeHti8lxMXzx4TpEbt/55Nu1i9cRenL507IoCOK2r7qLpF+eNj2/n9Yzt5yVHz+JujRgbGUWVH1a3Suldyziu9JqLqXqr8Sj9n9fw5rWb5tf7dPFWZ2Vp3Xx75vloE0QBm9mrgK0AS+I67f7rU+xVEi4iIiEi1xQ2iazbZirv/Gvh1rfYvIiIiIjJeNZtsRURERESkUSmIFhEREREpU81yostlZjuATbWuRwHzgJ21rkQDUruNj9ptfNRu46N2Gx+12/io3cZH7TY+pdptibtHDgvXMEF0vTKzNXGSz2Uktdv4qN3GR+02Pmq38VG7jY/abXzUbuMzEe2mdA4RERERkTIpiBYRERERKZOC6MpdXesKNCi12/io3cZH7TY+arfxUbuNj9ptfNRu41NxuyknWkRERESkTOqJFhEREREpk4LomMzsMDP7bzN7xMweMrP3hcvnmtntZvbX8N+Dal3XemJmrWb2FzO7P2y3T4XL1W4xmFnSzO41s5vD12q3GMzsSTN70MzuM7M14TK1XQQzm2NmN5rZo+HvujPUbqWZ2bLwOsv+12Nm71e7RTOzD4R/F9aZ2fXh3wu1WwQze1/YZg+Z2fvDZWq3UczsO2a23czW5S0r2k5m9lEze9zM1pvZuXH2oSA6vmHgn9z9GOB04N1mdizwEeAOd38ecEf4Wg4YBM5295OAk4FXmtnpqN3ieh/wSN5rtVt8L3X3k/OGMFLbRfsqcIu7Hw2cRHDtqd1KcPf14XV2MvB8oB/4OWq3ksxsEfBeYLm7Hw8kgYtQu5VkZscD7wReQPAZPc/MnofarZBrgVeOWlawncJ47iLguHCbb5pZMmoHCqJjcvdn3P2e8Od9BH9cFgEXAN8N3/Zd4LU1qWCd8kBv+LI5/M9Ru0Uys8XA3wLfzlusdhs/tV0JZtYJnAlcA+DuQ+6+B7VbOc4BNrj7JtRucTQBbWbWBLQDW1G7RTkGWO3u/e4+DPwe+DvUbmO4+x+AXaMWF2unC4Afufuguz8BPE7wRaUkBdHjYGZHAKcAdwEHu/szEATawIIaVq0uhSkJ9wHbgdvdXe0Wz1eAy4FM3jK1WzwO3GZma83ssnCZ2q60pcAOYFWYQvRtM+tA7VaOi4Drw5/VbiW4+xbgKuAp4Blgr7vfhtotyjrgTDPrMrN24NXAYajd4irWTouAp/PetzlcVpKC6DKZ2Uzgp8D73b2n1vVpBO6eDm91LgZeEN6OkhLM7Dxgu7uvrXVdGtSL3P1U4FUEqVdn1rpCDaAJOBX4D3c/BehDt4RjM7MW4HzghlrXpRGEuagXAEcCC4EOM3tzbWtV/9z9EeDzwO3ALcD9BOmmUhkrsCxy+DoF0WUws2aCAPo6d/9ZuPhZMzs0XH8oQW+rFBDeGv4dQb6R2q20FwHnm9mTwI+As83sB6jdYnH3reG/2wnyU1+A2i7KZmBzeKcI4EaCoFrtFs+rgHvc/dnwtdqttJcBT7j7DndPAT8DXojaLZK7X+Pup7r7mQTpCn9F7RZXsXbaTNCjn7WYIL2oJAXRMZmZEeQKPuLuX8pbdRNwafjzpcAvJ7tu9czM5pvZnPDnNoJfnI+idivJ3T/q7ovd/QiCW8S/dfc3o3aLZGYdZjYr+zPwCoJboGq7Etx9G/C0mS0LF50DPIzaLa6LOZDKAWq3KE8Bp5tZe/j39RyCZ43UbhHMbEH47+HA6wiuO7VbPMXa6SbgIjObYWZHAs8D/hJVmCZbicnMXgz8EXiQAzmq/0KQF/0T4HCCXwpvcPfRiezTlpmdSJC8nyT40vYTd7/CzLpQu8ViZmcBH3L389Ru0cxsKUHvMwQpCj9090+r7aKZ2ckED7K2ABuBlYSfW9RuRYW5qU8DS919b7hM11sEC4Y8vZAgHeFe4B3ATNRuJZnZH4EuIAV80N3v0PU2lpldD5wFzAOeBT4B/IIi7WRmHwPeRnA9vt/dfxO5DwXRIiIiIiLlUTqHiIiIiEiZFESLiIiIiJRJQbSIiIiISJkURIuIiIiIlElBtIiIiIhImRREi4iIiIiUSUG0iEidMbPzzewj4c+vNbNj89ZdYWYvq13tREQENE60iEhdMbMmdx/Oe30tcLO731i7Wo00uo4iItORgmgRkUlmZm8BPgQ48ACQBnYBpwD3EMyMuhz4IXAzsDf87/XAxwmDajNbAXwV6AAGgXPcfV+B/R0HrCKYiTABvN7d/zq6Hu5+iZktAb4DzAd2ACvd/akwmM+v4zeBb4Tv6wfe6e6PTmQ7iYjUs6ZaV0BEZDoJA9qPAS9y951mNhf4EnAU8DJ3T5vZWwHc/U4zu4m8nmgzy5bTAvwYuNDd7zazTmB/kd3+A/BVd78u3C5ZpB4AXwe+5+7fNbO3AV8DXhuuy6/jHcA/hMH4aQRB9dkT00oiIvVPQbSIyOQ6G7jR3XcCuPuuMDC+wd3TZZSzDHjG3e8Oy+kp8d4/Ax8zs8XAz8LAd0w9wveeAbwu/Pn7wJV55dwQBtAzgRcCN2SDemBGGXUXEWl4CqJFRCaXEaRPjNY3QeWM4e4/NLO7gL8FbjWzd5Sxff57snVMAHvc/eT41RURmVo0OoeIyOS6A3ijmXUB5KVRFLMPmFVg+aPAwjAvGjObZWYFO0bMbCmw0d2/BtwEnFiiHncCF4U/vwn40+jywl7vJ8zsDeG2ZmYnRRyHiMiUoiBaRGQSuftDwKeB35vZ/QT50KX8CPiwmd1rZs/JK2cIuBD497Cc24HWImVcCKwzs/uAowlynovV473ASjN7ALgEeF+RMt8EvD3c9iHggojjEBGZUjQ6h4iIiIhImdQTLSIiIiJSJj1YKCIyRZjZucDnRy1+wt3/rhb1ERGZypTOISIiIiJSJqVziIiIiIiUSUG0iIiIiEiZFESLiIiIiJRJQbSIiIiISJkURIuIiIiIlOn/BynXuJhc8UZiAAAAAElFTkSuQmCC\n",
      "text/plain": [
       "<Figure size 864x216 with 1 Axes>"
      ]
     },
     "metadata": {
      "needs_background": "light"
     },
     "output_type": "display_data"
    },
    {
     "data": {
      "image/png": "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\n",
      "text/plain": [
       "<Figure size 864x216 with 1 Axes>"
      ]
     },
     "metadata": {
      "needs_background": "light"
     },
     "output_type": "display_data"
    }
   ],
   "source": [
    "ps4_corr.plot(x='critic_score',y='total_sales',kind='scatter',figsize=(12,3), alpha=0.7)\n",
    "plt.title('Зависимость продаж от отзывов критиков PS4')\n",
    "\n",
    "ps4_corr.plot(x='user_score',y='total_sales',kind='scatter',figsize=(12,3), alpha=0.7)\n",
    "plt.title('Зависимость продаж от отзывов пользователей PS4')"
   ]
  },
  {
   "cell_type": "markdown",
   "metadata": {},
   "source": [
    "В то время как отзывы критиков действительно влияют на продажи игр (коэффициент корреляции Пирсона составляет 0.4), отзывы пользователей ни играют никакой роли в продажах (коэффициент -0.04)."
   ]
  },
  {
   "cell_type": "code",
   "execution_count": 20,
   "metadata": {},
   "outputs": [
    {
     "data": {
      "text/html": [
       "<div>\n",
       "<style scoped>\n",
       "    .dataframe tbody tr th:only-of-type {\n",
       "        vertical-align: middle;\n",
       "    }\n",
       "\n",
       "    .dataframe tbody tr th {\n",
       "        vertical-align: top;\n",
       "    }\n",
       "\n",
       "    .dataframe thead th {\n",
       "        text-align: right;\n",
       "    }\n",
       "</style>\n",
       "<table border=\"1\" class=\"dataframe\">\n",
       "  <thead>\n",
       "    <tr style=\"text-align: right;\">\n",
       "      <th></th>\n",
       "      <th>total_sales</th>\n",
       "      <th>critic_score</th>\n",
       "      <th>user_score</th>\n",
       "    </tr>\n",
       "  </thead>\n",
       "  <tbody>\n",
       "    <tr>\n",
       "      <th>total_sales</th>\n",
       "      <td>1.000000</td>\n",
       "      <td>0.422112</td>\n",
       "      <td>-0.091734</td>\n",
       "    </tr>\n",
       "    <tr>\n",
       "      <th>critic_score</th>\n",
       "      <td>0.422112</td>\n",
       "      <td>1.000000</td>\n",
       "      <td>0.440977</td>\n",
       "    </tr>\n",
       "    <tr>\n",
       "      <th>user_score</th>\n",
       "      <td>-0.091734</td>\n",
       "      <td>0.440977</td>\n",
       "      <td>1.000000</td>\n",
       "    </tr>\n",
       "  </tbody>\n",
       "</table>\n",
       "</div>"
      ],
      "text/plain": [
       "              total_sales  critic_score  user_score\n",
       "total_sales      1.000000      0.422112   -0.091734\n",
       "critic_score     0.422112      1.000000    0.440977\n",
       "user_score      -0.091734      0.440977    1.000000"
      ]
     },
     "execution_count": 20,
     "metadata": {},
     "output_type": "execute_result"
    }
   ],
   "source": [
    "# Xbox One:\n",
    "\n",
    "xone_corr = good_data.query('platform == \"XOne\"')[['total_sales', 'critic_score', 'user_score']].dropna().reset_index(drop=True)\n",
    "\n",
    "xone_corr.corr()"
   ]
  },
  {
   "cell_type": "code",
   "execution_count": 21,
   "metadata": {},
   "outputs": [
    {
     "data": {
      "text/plain": [
       "Text(0.5, 1.0, 'Зависимость продаж от отзывов пользователей XOne')"
      ]
     },
     "execution_count": 21,
     "metadata": {},
     "output_type": "execute_result"
    },
    {
     "data": {
      "image/png": "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\n",
      "text/plain": [
       "<Figure size 864x216 with 1 Axes>"
      ]
     },
     "metadata": {
      "needs_background": "light"
     },
     "output_type": "display_data"
    },
    {
     "data": {
      "image/png": "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\n",
      "text/plain": [
       "<Figure size 864x216 with 1 Axes>"
      ]
     },
     "metadata": {
      "needs_background": "light"
     },
     "output_type": "display_data"
    }
   ],
   "source": [
    "xone_corr.plot(x='critic_score',y='total_sales',kind='scatter',figsize=(12,3), alpha=0.7)\n",
    "plt.title('Зависимость продаж от отзывов критиков XOne')\n",
    "\n",
    "xone_corr.plot(x='user_score',y='total_sales',kind='scatter',figsize=(12,3), alpha=0.7)\n",
    "plt.title('Зависимость продаж от отзывов пользователей XOne')"
   ]
  },
  {
   "cell_type": "markdown",
   "metadata": {},
   "source": [
    "У платформы Xbox One практически идентичная ситуация: отзывы критиков и самих игроков не равнозначны, и не в пользу самих пользователей."
   ]
  },
  {
   "cell_type": "code",
   "execution_count": 22,
   "metadata": {},
   "outputs": [
    {
     "data": {
      "text/html": [
       "<div>\n",
       "<style scoped>\n",
       "    .dataframe tbody tr th:only-of-type {\n",
       "        vertical-align: middle;\n",
       "    }\n",
       "\n",
       "    .dataframe tbody tr th {\n",
       "        vertical-align: top;\n",
       "    }\n",
       "\n",
       "    .dataframe thead th {\n",
       "        text-align: right;\n",
       "    }\n",
       "</style>\n",
       "<table border=\"1\" class=\"dataframe\">\n",
       "  <thead>\n",
       "    <tr style=\"text-align: right;\">\n",
       "      <th></th>\n",
       "      <th>total_sales</th>\n",
       "      <th>critic_score</th>\n",
       "      <th>user_score</th>\n",
       "    </tr>\n",
       "  </thead>\n",
       "  <tbody>\n",
       "    <tr>\n",
       "      <th>total_sales</th>\n",
       "      <td>1.000000</td>\n",
       "      <td>0.375640</td>\n",
       "      <td>0.411451</td>\n",
       "    </tr>\n",
       "    <tr>\n",
       "      <th>critic_score</th>\n",
       "      <td>0.375640</td>\n",
       "      <td>1.000000</td>\n",
       "      <td>0.763536</td>\n",
       "    </tr>\n",
       "    <tr>\n",
       "      <th>user_score</th>\n",
       "      <td>0.411451</td>\n",
       "      <td>0.763536</td>\n",
       "      <td>1.000000</td>\n",
       "    </tr>\n",
       "  </tbody>\n",
       "</table>\n",
       "</div>"
      ],
      "text/plain": [
       "              total_sales  critic_score  user_score\n",
       "total_sales      1.000000      0.375640    0.411451\n",
       "critic_score     0.375640      1.000000    0.763536\n",
       "user_score       0.411451      0.763536    1.000000"
      ]
     },
     "execution_count": 22,
     "metadata": {},
     "output_type": "execute_result"
    }
   ],
   "source": [
    "# Nintendo Wii U:\n",
    "\n",
    "wiiu_corr = good_data.query('platform == \"WiiU\"')[['total_sales', 'critic_score', 'user_score']].dropna().reset_index(drop=True)\n",
    "\n",
    "wiiu_corr.corr()"
   ]
  },
  {
   "cell_type": "code",
   "execution_count": 23,
   "metadata": {},
   "outputs": [
    {
     "data": {
      "text/plain": [
       "Text(0.5, 1.0, 'Зависимость продаж от отзывов пользователей WiiU')"
      ]
     },
     "execution_count": 23,
     "metadata": {},
     "output_type": "execute_result"
    },
    {
     "data": {
      "image/png": "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\n",
      "text/plain": [
       "<Figure size 864x216 with 1 Axes>"
      ]
     },
     "metadata": {
      "needs_background": "light"
     },
     "output_type": "display_data"
    },
    {
     "data": {
      "image/png": "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\n",
      "text/plain": [
       "<Figure size 864x216 with 1 Axes>"
      ]
     },
     "metadata": {
      "needs_background": "light"
     },
     "output_type": "display_data"
    }
   ],
   "source": [
    "wiiu_corr.plot(x='critic_score',y='total_sales',kind='scatter',figsize=(12,3), alpha=0.7)\n",
    "plt.title('Зависимость продаж от отзывов критиков WiiU')\n",
    "\n",
    "wiiu_corr.plot(x='user_score',y='total_sales',kind='scatter',figsize=(12,3), alpha=0.7)\n",
    "plt.title('Зависимость продаж от отзывов пользователей WiiU')"
   ]
  },
  {
   "cell_type": "markdown",
   "metadata": {},
   "source": [
    "А вот у платформы Nintendo Wii U картина уже другая: здесь отзывы игроков начинают влиять на продажи, и даже больше чем критиков. Возможно, это связано с тем, что большое кол-во игроков Nintendo находятся в Японии, а этот рынок имеет свои особенности и отличия от американского и европейского."
   ]
  },
  {
   "cell_type": "code",
   "execution_count": 24,
   "metadata": {},
   "outputs": [
    {
     "data": {
      "text/html": [
       "<div>\n",
       "<style scoped>\n",
       "    .dataframe tbody tr th:only-of-type {\n",
       "        vertical-align: middle;\n",
       "    }\n",
       "\n",
       "    .dataframe tbody tr th {\n",
       "        vertical-align: top;\n",
       "    }\n",
       "\n",
       "    .dataframe thead th {\n",
       "        text-align: right;\n",
       "    }\n",
       "</style>\n",
       "<table border=\"1\" class=\"dataframe\">\n",
       "  <thead>\n",
       "    <tr style=\"text-align: right;\">\n",
       "      <th></th>\n",
       "      <th>total_sales</th>\n",
       "      <th>critic_score</th>\n",
       "      <th>user_score</th>\n",
       "    </tr>\n",
       "  </thead>\n",
       "  <tbody>\n",
       "    <tr>\n",
       "      <th>total_sales</th>\n",
       "      <td>1.000000</td>\n",
       "      <td>0.525723</td>\n",
       "      <td>0.336514</td>\n",
       "    </tr>\n",
       "    <tr>\n",
       "      <th>critic_score</th>\n",
       "      <td>0.525723</td>\n",
       "      <td>1.000000</td>\n",
       "      <td>0.625309</td>\n",
       "    </tr>\n",
       "    <tr>\n",
       "      <th>user_score</th>\n",
       "      <td>0.336514</td>\n",
       "      <td>0.625309</td>\n",
       "      <td>1.000000</td>\n",
       "    </tr>\n",
       "  </tbody>\n",
       "</table>\n",
       "</div>"
      ],
      "text/plain": [
       "              total_sales  critic_score  user_score\n",
       "total_sales      1.000000      0.525723    0.336514\n",
       "critic_score     0.525723      1.000000    0.625309\n",
       "user_score       0.336514      0.625309    1.000000"
      ]
     },
     "execution_count": 24,
     "metadata": {},
     "output_type": "execute_result"
    }
   ],
   "source": [
    "# Xbox 360:\n",
    "\n",
    "x360_corr = good_data.query('platform == \"X360\"')[['total_sales', 'critic_score', 'user_score']].dropna().reset_index(drop=True)\n",
    "\n",
    "x360_corr.corr()"
   ]
  },
  {
   "cell_type": "code",
   "execution_count": 25,
   "metadata": {},
   "outputs": [
    {
     "data": {
      "text/plain": [
       "Text(0.5, 1.0, 'Зависимость продаж от отзывов пользователей X360')"
      ]
     },
     "execution_count": 25,
     "metadata": {},
     "output_type": "execute_result"
    },
    {
     "data": {
      "image/png": "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\n",
      "text/plain": [
       "<Figure size 864x216 with 1 Axes>"
      ]
     },
     "metadata": {
      "needs_background": "light"
     },
     "output_type": "display_data"
    },
    {
     "data": {
      "image/png": "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\n",
      "text/plain": [
       "<Figure size 864x216 with 1 Axes>"
      ]
     },
     "metadata": {
      "needs_background": "light"
     },
     "output_type": "display_data"
    }
   ],
   "source": [
    "x360_corr.plot(x='critic_score',y='total_sales',kind='scatter',figsize=(12, 3), alpha=0.7)\n",
    "plt.title('Зависимость продаж от отзывов критиков X360')\n",
    "\n",
    "x360_corr.plot(x='user_score',y='total_sales',kind='scatter',figsize=(12, 3), alpha=0.7)\n",
    "plt.title('Зависимость продаж от отзывов пользователей X360')"
   ]
  },
  {
   "cell_type": "markdown",
   "metadata": {},
   "source": [
    "Тенденции PlayStation 4 сохраняются и в картине по Xbox 360: отзывы критиков влияют на продажи в большей степени чем отзывы игроков."
   ]
  },
  {
   "cell_type": "code",
   "execution_count": 26,
   "metadata": {},
   "outputs": [
    {
     "data": {
      "text/html": [
       "<div>\n",
       "<style scoped>\n",
       "    .dataframe tbody tr th:only-of-type {\n",
       "        vertical-align: middle;\n",
       "    }\n",
       "\n",
       "    .dataframe tbody tr th {\n",
       "        vertical-align: top;\n",
       "    }\n",
       "\n",
       "    .dataframe thead th {\n",
       "        text-align: right;\n",
       "    }\n",
       "</style>\n",
       "<table border=\"1\" class=\"dataframe\">\n",
       "  <thead>\n",
       "    <tr style=\"text-align: right;\">\n",
       "      <th></th>\n",
       "      <th>total_sales</th>\n",
       "      <th>critic_score</th>\n",
       "      <th>user_score</th>\n",
       "    </tr>\n",
       "  </thead>\n",
       "  <tbody>\n",
       "    <tr>\n",
       "      <th>total_sales</th>\n",
       "      <td>1.000000</td>\n",
       "      <td>0.284686</td>\n",
       "      <td>0.279850</td>\n",
       "    </tr>\n",
       "    <tr>\n",
       "      <th>critic_score</th>\n",
       "      <td>0.284686</td>\n",
       "      <td>1.000000</td>\n",
       "      <td>0.862485</td>\n",
       "    </tr>\n",
       "    <tr>\n",
       "      <th>user_score</th>\n",
       "      <td>0.279850</td>\n",
       "      <td>0.862485</td>\n",
       "      <td>1.000000</td>\n",
       "    </tr>\n",
       "  </tbody>\n",
       "</table>\n",
       "</div>"
      ],
      "text/plain": [
       "              total_sales  critic_score  user_score\n",
       "total_sales      1.000000      0.284686    0.279850\n",
       "critic_score     0.284686      1.000000    0.862485\n",
       "user_score       0.279850      0.862485    1.000000"
      ]
     },
     "execution_count": 26,
     "metadata": {},
     "output_type": "execute_result"
    }
   ],
   "source": [
    "# Nintendo DS:\n",
    "\n",
    "ds_corr = good_data.query('platform == \"3DS\"')[['total_sales', 'critic_score', 'user_score']].dropna().reset_index(drop=True)\n",
    "\n",
    "ds_corr.corr()"
   ]
  },
  {
   "cell_type": "code",
   "execution_count": 27,
   "metadata": {},
   "outputs": [
    {
     "data": {
      "text/plain": [
       "Text(0.5, 1.0, 'Зависимость продаж от отзывов пользователей 3DS')"
      ]
     },
     "execution_count": 27,
     "metadata": {},
     "output_type": "execute_result"
    },
    {
     "data": {
      "image/png": "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\n",
      "text/plain": [
       "<Figure size 864x216 with 1 Axes>"
      ]
     },
     "metadata": {
      "needs_background": "light"
     },
     "output_type": "display_data"
    },
    {
     "data": {
      "image/png": "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\n",
      "text/plain": [
       "<Figure size 864x216 with 1 Axes>"
      ]
     },
     "metadata": {
      "needs_background": "light"
     },
     "output_type": "display_data"
    }
   ],
   "source": [
    "ds_corr.plot(x='critic_score',y='total_sales',kind='scatter',figsize=(12,3), alpha=0.7)\n",
    "plt.title('Зависимость продаж от отзывов критиков 3DS')\n",
    "\n",
    "ds_corr.plot(x='user_score',y='total_sales',kind='scatter',figsize=(12,3), alpha=0.7)\n",
    "plt.title('Зависимость продаж от отзывов пользователей 3DS')"
   ]
  },
  {
   "cell_type": "markdown",
   "metadata": {},
   "source": [
    "В случае с платофрмой Nintendo DS выводы отличаются: отзывы критиков и игроков равнозначны."
   ]
  },
  {
   "cell_type": "markdown",
   "metadata": {},
   "source": [
    "### Жанры игр"
   ]
  },
  {
   "cell_type": "markdown",
   "metadata": {},
   "source": [
    "Посмотрим на какие жанры разработчики делали ставки больше всего:"
   ]
  },
  {
   "cell_type": "code",
   "execution_count": 46,
   "metadata": {},
   "outputs": [
    {
     "data": {
      "text/plain": [
       "genre\n",
       "Action          619\n",
       "Role-Playing    221\n",
       "Adventure       185\n",
       "Sports          161\n",
       "Shooter         128\n",
       "Name: name, dtype: int64"
      ]
     },
     "execution_count": 46,
     "metadata": {},
     "output_type": "execute_result"
    }
   ],
   "source": [
    "genres = good_data.groupby('genre')['name'].count().sort_values(ascending=False)\n",
    "genres.head(5)"
   ]
  },
  {
   "cell_type": "code",
   "execution_count": 45,
   "metadata": {},
   "outputs": [
    {
     "data": {
      "image/png": "iVBORw0KGgoAAAANSUhEUgAAAfIAAAHRCAYAAACRqTtIAAAAOXRFWHRTb2Z0d2FyZQBNYXRwbG90bGliIHZlcnNpb24zLjUuMSwgaHR0cHM6Ly9tYXRwbG90bGliLm9yZy/YYfK9AAAACXBIWXMAAAsTAAALEwEAmpwYAACK8ElEQVR4nOzdeXyU1fX48c+ZbCQsw74vQRAyYBQVFzZR1FqNC9YFtza2tpXW1lppv033aftrm7banUpb20pdWlyqVaLWBcGFTRBkkIkoMCg7BAhZJ8nM/f3xTDSELJNk5nlmMuf9evEimXnm3jMsOXPvc++5YoxBKaWUUsnJ5XQASimllOo8TeRKKaVUEtNErpRSSiUxTeRKKaVUEtNErpRSSiUxTeRKKaVUEtNErpRSSiUxTeQqaYnITSKyTkQqRWSviDwnIjOdjksppeykiVwlJRG5G/gt8DNgCDAa+BNwlYNhKaWU7TSRq6QjIm7gx8Adxpj/GGOqjDH1xphnjDHfjFxztoisEpGjkdH6H0Uks0kbRkTebvJ9mojsEZFdTR4LiMhFLfT/kIh4m3x/uYhsjPS1UkRObSN2IyJVkVmEShGpE5EHmjx/pYi8E2lruYh4msVT0+S1tSKyPPLcQhG5t1lfz4jIXU2+Xx55TeNrX2/y3O0isjPyXJWImGb9fltEtojIERH5h4j0iDx3ftM/s8hjr4vIrZGvb23aT5Nrxjfrwy0if4v8Xe0Wkf8nImmt/BneJSKrRSS7yfv6fOTrc0XkAxEZH/m+QEQ2iMgxEfmw2d9bbuTvI73JYx/93Ta+NxH5jogcivw53Nzk2gdE5P+1EN/nG/9elLKDJnKVjKYBPYAn27gmBHwdGBi5/kLgy82uyRSRsyJfFwBHOxqIiJwB/B24HRgA/Bl4WkSy2njZacaYXsaYXsAvm7Q1AfgXcBcwCHgWeKbpBxDgiiav/UqTxxcDN4qIK9LWQKz3/K8m17iwPvz0AuY36bcn1mxGYeS501qI+WbgEmAcMAH4XhvvrzMWAw3AeOB04BPA51u60BjzW2AV8Ejj+wUQkXHAo8A8Y8z7kYergM8AfbH+jr8kInM7ENdQrH9DI4BC4C8iMrEDr1cq7jSRq2Q0ADhkjGlo7QJjzHpjzGpjTIMxJoCVYGc3u+xvfJwsPh/5vqO+APzZGLPGGBMyxiwGgsC5nWhrHlBijHnRGFMP3ANkA9Pbe6ExZi1QjpW8AW4Alhtj9je5LBOoa+HlLiAMpLfwXKM/GmM+NMYcBn4K3NheTNESkSHApcBdkdmVA8BvsN5DaxYA7sh1YP2beA74sTFmVeNFxpjlxhifMSZsjNmE9cGm+b+D9nzfGBM0xqwASoDrO/h6peJKE7lKRmXAwKZTos2JyAQRWSoi+0TkGNa99IHNLlsKnB+Zhh0GrG+hqaci09wfisgvRUSaPT8GWBC55qiIHAVGAcM78b6GAzsbvzHGhIEPsUaD0VgM3BL5+hbgwWbP9weONH+RMaYCuA34p4hUA2+10PaHTb7eyfHvb3iz99/8Q8y5kecOR249TG32/BggA9jbpI0/A4NbeZ9gzVhMwkrK5wDeyHu7uOlFInKOiLwiIgdFpBxrJqL5v4NDTfptnqSPGGOq2njv34i8dr+I/EdEBrQRs1JxoYlcJaNVQC0wt41r7gNKgZONMX2A7wDNk3AD1vT848ADrbQz1xjTF2tUfAvW9HJTHwI/Ncb0bfIrxxjzr+YNRWEPVlIDIPKhYRSwO8rXPwRcJSKnAR7gqSZtZUba3trKa58E6oELgDNaeH5Uk69HR2L9KO6m7x9Y3ey1qyOPDwJeBP7Y7PkPsWYxBjZpp48xZnJrbxT4NfBXrMRdBjwCnAecJiKfbHLdI8DTwChjjBtYxIn/DgY2if3RZs/1i9x6aO293xN53UlADvDNNmJWKi40kaukY4wpB34ALBSRuSKSIyIZInKpiDTec+4NHAMqRSQP+FIrzf0F8AMPt9NtBVbib/5/5q/A/MjIT0SkZ2SBVe9OvLVHgQIRuVBEMrCmj4PAymhebIzZBbyJNRJ/whhTAxBZmPYD4H1jTGuJ/BfA08aYNa08f4eIjBSR/lgfipZE+6aaxBfCmv53NXt8L/ACcK+I9BERl4iME5EWp8BF5GLgLKwPUAeB94FVxpgg1oh7YeNCOKx/B4eNMbUicjZwU0fjBn4kIpkiMgu4HHishWtqgerm700pO+g/OpWUjDG/Bu7GWnR1EGtU9xU+HoV+A+uHdgVWsm0x8RhjthtjbjTGHG2lq39FVmVvjrT9fLPXr8O6T/5HrKnd94FbO/me3sUa9f8BOARcgbW4raX72q1ZDORz/LT697BmFK5t6QUiMgNrIdh32mj3Eaxkuz3y64TV2m04K7L6exfWormvtXDNZ7Du4W/B+nN8HOt2R/NYe2AtzPuyMaa2+fPGmOXAa8APIw99GfixiFRgfZhpPuJuz75IPHuwPuzNN8aUNnn+zsj7+gBrAeY9HWxfqS4TY0z7VymlkoKInIc1xZ4bucceizYDwOeNMS/For1kISLnAw8ZY0Y6HIpSbdIRuVLdRGQ6/mvA/bFK4kqpxKeJXKluQKzCMUexpqN/62gwSilb6dS6UkoplcR0RK6UUkolMU3kSimlVBLTRK6UUkolMU3kSimlVBLTRK6UUkolMU3kSimlVBLTRK6UUkolMU3kSimlVBLTRK6UUkolMU3kSimlVBLTRK6UUkolMU3kSimlVBLTRK6UUkolMU3kSimlVBLTRK6UUkolMU3kSimlVBLTRK6UUkolMU3kSimlVBLTRK6UUkolMU3kSimlVBLTRK6UUkolMU3kSimlVBLTRK6UUkolMU3kSimlVBLTRK6UUnEmIleLiBGRvHauu0tEcpp8/6yI9I17gCqpiTHG6RiUUqpbE5FHgWHAy8YYbxvXBYCpxphDNoWmugEdkSulVByJSC9gBnAbcEPksTQRuUdEfCKySUS+KiJ3AsOBV0Tklch1AREZGPn6bhHZHPl1V+SxXBHxi8hfReQdEXlBRLKdeJ/KOelOB6CUUt3cXOB5Y8xWETksImcA5wBjgdONMQ0i0t8Yc1hE7gYuaD4iF5Ezgc9GXifAGhFZARwBTgZuNMZ8ITLyvwZ4yLZ3pxynI3KllIqvG4F/R77+d+T7i4BFxpgGAGPM4XbamAk8aYypMsZUAv8BZkWe22GM2Rj5ej2QG7vQVTLQEblSKSa3qESA/sBgYFDk63Qgrcnv7f2qBY4C5ZFfTb8uDxQXhOx6P4lMRAYAc4BTRMRg/dkZrITbkQVK0sZzwSZfhwCdWk8xmsiV6iZyi0r6YU2zjsRK0INb+X0gVkKJZyyVHJ/gDwEBYAewvfFXoLigOp5xJIBrgX8aY25vfCAyJf4WMF9EljedWgcqgN5Yf15NvQo8ICLFWEn9auDTtrwDlfA0kSuVRHKLStKBCcBkYCJW4j458tgAB0Nrrlfk14i2LsotKtlPk8Qe+bUDeD9QXLA73kHa4EaguNljTwAe4ANgk4jUA38F/gj8BXhORPYaYy5ofIEx5i0ReQBYG3nofmPMBhHJjXP8Kgno9jOlElRuUclgYBpwKlbiPgUrYWc4GZeNDgHrgDcbfwWKC/Y5G5JSiUcTuVIJIreoxIO1TWlm5PfxzkaUkHbzcWJfh5XcjzgbklLO0kSulANyi0oygbP4OHFPJ7GmxpPJNqzEvgJ4LlBcsNPheJSylSZypWyQW1SShpW0L8XaNjQVyHI0qO6rFHg+8mtFoLig1uF4lIorTeRKxUluUUkO8AngKuByrNXiyl7VWCP154HnA8UFWx2OR6mY00SuVAzlFpUMAq7ASt4Xo3t6E812rKT+HPCSjtZVd6CJXKkuyi0qGY9VhvMqrHvdWjExORwDHgcexJqC1x+GKilpIleqE3KLSoYAhcBnsLaGqeT2IfAw8GCguGCL08Eo1RGayJWKUm5RiQv4JPB5rHveqbKfO9VswBql/0v3ratkoIlcqXbkFpWMwTqC8rNY5U9VaggBL2El9SdToJysSlKayJVqQWSf91ys0feF6H3vVFcJ/BP4faC44F2ng1GqKU3kSjWRW1QyEbgd60AK3S6mmjPAC8DvsYrP6A9Q5ThN5EoBuUUlZwLfwRqF6+hbReM9rIT+d512V07SRK5SWm5RyflYCfxih0NRyasM+BPwh0BxwUGng1GpRxO5Sjm5RSUCFADfxtr3rVQs1AD/AO4NFBdsdzoYlTo0kauUEal3fj1QhHU0qFLxEAL+DfxAE7qygyZy1e1FVqAXAv+HHg2q7FMP/Bn4SaC44IDTwajuSxO56rYiU+i3AD8FRjkcjkpdlcCvgXsCxQUVTgejuh9N5Kpbyi0qmQH8BuvMb6USwUHg/wGLAsUFdU4Ho7oPTeSqW8ktKskFfoF1L1ypRLQD+CHwcKC4IOx0MCr5aSJX3UJuUUlvrG1kXweyHA5HqWhsAr4dKC541ulAVHLTRK6SWuQgk9uAnwBDHA5Hqc54GZgfKC543+lAVHLSRK6SVm5RyRys++C6lUwlu1qsD6O/ChQX1DsdjEoumshV0sktKhkKLAQ+5XQsSsWYD/hioLhgtdOBqOShiVwlldyikluw6lv3czoWpeIkDNwHfCdQXHDM6WBU4tNErpJCZBT+Z+BKp2NRyia7ga8EiguecjoQldg0kauEl1tU8mngd+goXKWmp4A7AsUFe5wORCUmTeQqYeUWlQzDGoVf4XQsSjnsGNYhP/fpGeiqOU3kKiHpKFypFj0PfEaPS1VNaSJXCUVH4Uq1ay9wc6C44BWnA1GJQRO5Shi5RSVXAIvRUbhS7QljHQb0o0BxQcjpYJSzNJErx0XOCf8J1jnh4nA4SiWTV4GbAsUFu50ORDlHE7lyVG5RySDgX8CFTseiVJIqA24NFBcsdToQ5QxN5MoxuUUl5wCPAyOdjkWpbuC3wLf0iNTU43I6AJWacotK7sCaFtQkrlRs3AWszC0qGed0IMpeOiJXtsotKskB/gLc7HQsSnVTx7Dum5c4HYiyh47IlW1yi0pOBtagSVypeOoD/De3qOSrTgei7KEjcmWL3KKSq4EHsH7IKKXs8Qfg67pFrXvTEbmKu9yikiLgCTSJK2W3r2KNzns5HYiKHx2Rq7iJ7A9fCNzudCxKpbiNwBWB4oJdTgeiYk8TuYqL3KKSnsASoMDpWJRSAOzBSuZvOR2Iii2dWlcxl1tUMgRYgSZxpRLJcODV3KKSK50ORMWWJnIVDyOAiU4HoZQ6QU/gydyikq87HYiKHU3kKuYiU3fXAvVOx6KUOoEL+HVuUclvnQ5ExYbeI1dxk1tUcgvwT/QgFKUS1X3AHYHiAk0ESUxH5CpuAsUFD2GdaKaUSkxfAhblFpXoh+0kpiNyFXe5RSW/waoDrZRKTH8DvhgoLgg7HYjqOB2RKzvcjbUVTSmVmG4D/pZbVKI5IQnpiFzZIreoJBN4DpjjdCxKqVY9iHW2uY7Mk4gmcmWb3KKSPlj7y6c4HIpSqnWPAJ/R+uzJQ6dRUpXX3c/uLgPFBceAS4GA3X0rpaJ2E/BwblFJutOBqOhoIk9FXvdcYAde9wV2dx0oLtgHXAIcsrtvpVTU5gH/0mSeHDSRpxqv+zbgccANPIXXfZrdIQSKC7ZilW+tsrtvpVTUrgUe0K1piU8TeSrxuouA+4G0yCN9gOfwunPtDiVQXLAWuB5osLtvpVTUbgZ+6nQQqm2ayFOF1+0Fft7CM8OA/+F1D7Q3IAgUFzwLfMHufpVSHfLt3KKSLzodhGqdJvJUYCXxH7ZxxQRgKV53jj0BfSxQXPAA8F27+1VKdcifcotK9DTDBKXbz7o7r/tHwA+ivLoEmIu33Pbp7tyikj8AX7G7X6VU1KqA2YHigvVOB6KOpyPy7szr/jHRJ3GwFqD9JU7RtOdrWIvwlFKJqSdQkltUkut0IOp4msi7KyuJf78Tr/wsXrfti1silaRuwSoYo5RKTEOA53KLSmyvQ6Fap1Pr3ZHX/RPge11s5St4yxfGIpyOyC0qcQOvAfl2962UitprwMWB4oKg04EoTeTdj9f9beBnMWgpDFyPt/yJGLTVIblFJcOBVcBou/tWSkVtCXCjnmXuPJ1a706sYi+xSOJg/dt4GK97dozai1qguGAPVvW3w3b3rZSK2jxi9/NGdYGOyLsLr/sK4Ek+LvYSK+XALLzlvhi3267copJpwMtAtt19K6WiYoC5geKCp50OJJVpIu8OvO4ZwIvEL+HtBqbjLf8gTu23KreoJF4fUJRSsXEEOCNQXBBwOpBUpVPryc7rngw8Q3xHrSOA5/G6+8exjxYFigueAebb3a9SKmr9gEdzi0oynQ4kVWkiT2Ze92jgf1j/keLNAzyD1237NHeguOB+2q5Mp5Ry1lnAPU4Hkap0aj1ZWaPjN4A8m3v+L3AN3vKQzf2SW1RyHzo6VyqRXRcoLtDCTjbTEXky8rrTgUexP4kDXAX8yYF+Ae7Aul+ulEpMf8stKhnvdBCpRhN5croXuNDB/r8YOYjFVpHqbzcBr9vdt1IqKn2w7pf3cDqQVKKJPNl43Z8D7nQ6DOCHeN22H20YKC6oBa4E3rG7b6VUVE4Hfud0EKlE75EnE697OvAKkCirQ0NY98v/a3fHuUUlI7Gqv420u2+lVFRuCRQXPOx0EKlAE3my8LpHAuuwDi1IJDXAxXjL37C749yikklY0+x6gEM3Zxrq2PfItzAN9RAOkzNxBn1n3QzAsfXPUPHWUkTSyB43lX4XfO6E14drKyl77vfUHbJKIQy87GtkjfDY+h5SUBXW/vKtTgfS3WkiTwbWlq/XgDOdDqUVR4CZeMu32N1xblHJTKxiOHpPrhszxmDqa3FlZmNCDex7+P/of+EXMQ11lK9awuBrvUh6BqGqo6T17HvC6w+V/JqskZPpfdolmFA9pj6Iq0cv+99I6lkJzIqsb1FxovfIk8NfSdwkDtaI+Hm87hF2dxwoLngduBFrml91UyKCK9MqYWDCDRAOgQgVG56lz7nXIekZAC0m8XCwmtoP36HXqZ+w2krL0CRun+nAXU4H0d3piDzRed2fx0rkyWAzVl32o3Z3nFtUcjuwyO5+lX1MOMTexXfRcGQvvc8ooN/5n2XPP75KzvhzqdmxHknPpN8FnyNr2ITjXle3fztl//sDGQNGU3dgB1lDx9Pvwi/iytRJHJvUAFN0ij1+dESeyLzuSSTX6s9TgP/iddv+EzJQXPBn4Cd296vsI640hn/2D4z88gME926l7mAAwiHCwUqGfvpe+p3/WQ7+9xc0H5yYcIi6fdvoffplDP/s75GMLI6tfsyZN5GasoF/5BaVaL6JE/2DTVRWMlwC5DgdSgedh3X8qe3/tgLFBT8A7re7X2UvV49e9BiVT832t0jrPZCcCdMQEbKGT0RECNccO+769N4DSes9kKzhEwHImTiDuv3bnAg9lekUexxpIk9cv8Ua4SajTwF/dKjv+ViHyKhuJFRdTri2EoBwfZDanRvJGDCSnJPPpXbnJgDqD+/GhBpwZfc57rVpvfqR3mcg9WW7AKjd+TYZA0fb+wYUwE9yi0pynQ6iO9J75InI674W6A5zf9/HW/7/7O40t6gkG+sc82l2963io+7ADg6V/AZMGEyYnLxZ9J1xIyZUT9mzv6PuwHYkLYO+F3yO7DGn0VBRRtnzv2fIdT+yXr9/O2XP/x4TaiC971AGXHYXabrgzQnPB4oLLnU6iO5GE3mi8bpzgQ1AX2cDiZnP4y3/m92d5haVOHWojFKqbTcHigsecTqI7kQTeSKxDkN5DTjX6VBiKATMxVu+1O6Oc4tKRmNVfxtud99KqVYdAPICxQVHnA6ku9B75InlW3SvJA6QBizB67b9fQWKCz4APgmU2923UqpVg9Gzy2NKR+SJwtpq9haQ5XQocVIGzMBb/q7dHecWlcwG/kf3/bNVKhmdGyguWON0EN2BjsgTgdedBvyD7p1oBgD/w+seZnfHgeKCFcAtgJaJVCpx6Kg8RjSRJ4avA2c7HYQNxmCVcnXb3XGguOBx4Gt296uUatXM3KKSuU4H0R3o1LrTvO6Tgbexqh+liuXAJ/GWB+3uOLeo5GfAt+3uVynVoq3A5EBxQYPTgSQzHZE7yesW4O+kVhIHOB940KHqb98BHrC7X6VUiyYAX3Q6iGSnidxZXwFmOh2EQ67Dql7nhC8AzzrUt1LqeD/MLSrp7XQQyUwTuVO87pHAz50Ow2FfxesusrvTyDTedcBau/tWSp1gMNbWW9VJmsidcw/Q0+kgEsDP8boL7e40UFxQDRRg3aNTSjnr7tyikhFOB5GsNJE7wes+D5jndBgJ5H687k/a3WmguOAQcAmw1+6+lVLHyUaPIe40XbVuN2vP+HrgNKdDSTBVwAV4y9+0u+PcopIpwAqgTzuXKqXiJwycHigu2OR0IMlGR+T2ux1N4i3pCZREtuPZKlBcsBG4Gqizu2+l1EdcwC+dDiIZ6YjcTl53f+A9oL/ToSSwHcA0vOX77e44t6hkHvAvQOzuWyn1kVmB4oLXnQ4imeiI3F7/D03i7RkLPIfXbft2lEBxwRKsKntKKef8n9MBJBsdkdvF6z4N6954mtOhJImXgAK85bZPd+cWlfwS+Kbd/SqlADBY1d78TgeSLNodkYtISEQ2ishmEXlGRPq2c/0DInJtR4Jo1sdjIpITebyyI+00aW+4iDzemdfG0S/RJN4RFwEPRKrf2e1bwIMO9KuUsm5t6QfpDohmar3GGDPFGHMKcBi4Iw5xNO2jDpjflcaMMXuMMR36MBFX1nazTzgdRhK6EbjX7k4DxQUGuA3r6FOllP1uzi0qGe50EMmio/fIVwEjAERkioisFpFNIvKkiPRrfrGInCkiK0RkvYj8T0SiOcLyNWB8s3Z6icjLIvKWiPhE5KrI4z8Rka81ue6nInKniOSKyObIY7eKyH9E5HkReU9Eftnk+ttEZKuILBeRv4rIHzv45xGtn8ap3VTwdbzub9jdaaC4oB64Flhnd99KKTLR0wqjFnUiF5E04ELg6chD/wS+ZYw5FfABP2x2fQbwB+BaY8yZWIeDtJnQRCQduDTSXlO1wNXGmDOAC4B7RUSAvwGFkde6gBuAh1toegpWAZZ8YJ6IjBKR4cD3gXOBi4G8dv4IOsfrvpTUraceK7/E677Z7k4DxQWVWNXf3re7b6UUt+cWlWhthyhEk8izRWQjUIa14vpFEXEDfY0xKyLXLAbOa/a6icApkes3At8DRrbTxzrgA6wE3ZQAPxORTViLoEYAQ4wxAaBMRE7HmrreYIwpa6H9l40x5caYWmAL1rnYZwMrjDGHjTH1wGPt/kl0lHV/9//FvN3UI8A/8LovtrvjQHHBAazqb7Zvh1Mqxbmx6m6odkR9jxwr+WUS/T1yAd6J3PueYozJN8Z8IjIa3hj51XgvvKbJdV81xjRfqXwzMAg4MxLLfqBH5Ln7gVuBz2KN+lvS9NzrEJCOPXuFPwWcYUM/qSAD+A9e95l2dxwoLtgOXAZ0avGlUqrTvpZbVJLhdBCJLuqpdWNMOXAn8A2gGjgiIrMiT38aq8RlU+8Cg0RkGlhT7SIy2RjzYZOkvSjK7t3AAWNMvYhcgPWhotGTwCeBs+jY4qS1wGwR6ReZ0r+mA69tn3XW9o9j2qbqBTyL1z3O7o4DxQVvYX0wq7e7b6VS2AisgZxqQ4cWuxljNgBvY92LLgR+FZnunkKzpBUZVV8L/EJE3gY2AtM7GefDwFQRWYf1l1rarJ9XgEeNMaEOvJfdwM+ANVjT9VuA8k7G15KbgUkxbE9ZBgPP43UPtrvjQHHBi1gzP1p8QSn7fCO3qESrLbYh6QvCRBa5vQVcZ4x5r4Ov7WWMqYyMyJ8E/m6MebLLQVmj8S1Y6wRUfKzDOmTF9unu3KKSbwC/srtfpVLYpYHiguedDiJRJXWJVhGZhLWi+OWOJvEIb2SR3WasGt9PxSi0uWgSj7epwON43bbfPwsUF9wD/NrufpVKYbc5HUAiS/oReULyutdgrYpX8fcQ8Bm85bb+Q45M9T2MVbRGKRVfQWB4oLjgsNOBJKKkHpEnJK/7fDSJ2+kW4Bd2dxqp/nYr1voKpVR8ZaEfmluliTz29OQe+30Tr/suuzsNFBfUYa1k32B330qloM86HUCi0qn1WPK6PcA76HnWTjDAjXjLl9jdcW5RyRBgJXCS3X0rlWLyA8UFm50OItHoiDy2vo4mcacI8E+87jl2dxwoLtiPVcvgoN19K5VibnU6gESkI/JY8boHAh/yccU55YxjwGy85Rvt7ji3qOQsrJoGPe3uW6kUsR8YGSguaHA6kESiI/LYuQ1N4omgD/AcXneu3R0HigveBK4D9IeMUvExBOtgLdWEJvJYsA5H+YLTYaiPDAX+F5klsVWguOA54PN296tUCrnV6QASjSby2LgAsL3+t2rTBKAEr9v2ae5AccFi4Dt296tUirg8t6hkgNNBJBJN5LGho/HEdDbwKF53ut0dB4oLfg78we5+lUoBmcBNTgeRSDSRd5XXPQC42ukwVKsuA/7qUN93EY9z7pVSWhymCU3kXVeIVXVIJa5b8bp/anengeKCMNYRv8vt7lupbu6c3KIS29fAJCpN5F2n0+rJ4Tt43XfY3WmguCCIdYjOJrv7Vqobc2HNtik0kXeN1z0TyHM6DBW13+N1X2N3p4HignKsLTM77e5bqW6swOkAEoUm8q75nNMBqA5xAQ/jdc+2u+NAccEerOpvZXb3rVQ3dUluUYntC1kTkSbyzvK6M9FFbskoC/gvXne+3R0HigtKgcuBarv7VqobcgOznA4iEWgi77xPAH2dDkJ1ihur+ttouzsOFBesBuYBIbv7VqobutzpABKBJvLOu97pAFSXjACex+vub3fHgeKCpcDtdverVDek98nRQ1M6x+vOAg5g1fVWyW0lcBHe8hq7O84tKvk+8GO7+1Wqmzk5UFzwvtNBOElH5J3zSTSJdxfTgX/jdafZ3XGguOAnwH1296tUN5Py0+uayDtHp9W7lytxLqF+BXjSob6V6g5SPpHr1HpHed09sKbVezsdioq5H+Mt/6HdneYWlfQAXkBX4CrVGfXAgEBxQYXTgThFR+Qd90k0iXdXP8Drtn0RWqC4oBZrVmCz3X0r1Q1kAOc5HYSTNJF33JVOB6DiaiFe91y7Ow0UFxzFqv72od19K9UNnOt0AE7SRN5xlzgdgIqrNOBfeN0z7O44UFywC2vG54jdfSuV5KY5HYCTNJF3hNd9KjDc6TBU3PUAnsHrnmR3x4Higi3AFUCt3X0rlcTOyi0qSdl8lrJvvJM+6XQATvncf2sY/KsKTvlT5UePfX9ZLafeV8mURZV84sEq9lSEo35tEuiHVTBmpN0dB4oL3gBuQKu/KRWtPoDtH7wThSbyjknZRH7rlAyevyXnuMe+OSOLTV/qxcb5vbh8Qjo/XhGM+rVJYhRWMu9rd8eB4oL/ArYfu6pUEkvZ6XVN5NHyunsCtt83TRTnjUmnf7Yc91ifrI+/r6oDaf6iNl6bRCYDT0e2HdoqUFzwZ7Tym1LRStkFb5rIozcHyHQ6iETz3ZdrGfWbCh721fPjC7KcDideZgGP4HXb/v8lUFzwQ+CvdverVBLSRK7albLT6m356YU9+PDrvbk5P4M/rq1zOpx4uhpY6FDfXwKedqhvpZKFJ7eoxO10EE7QRB69i50OIJHdlJ/BE/4Gp8OIt/l43d+3u9NAcUEIa/HbSrv7ViqJCHCO00E4QRN5NLzuwcDJToeRaN4r+3hR9dPvNpA3MCX+Of0Yr/s2uzsNFBfUYG1L89vdt1JJJCWn11PiJ28MTHc6AKfd+EQ10/5WxbtlYUb+uoK/vVVH0ctBTvlTJafeV8kL2xv43Set9WB7KsJc9nB1m69Ncn/G677C7k4DxQWHsW7x7La7b6WSREomcj00JRpe9y+BbzodhkooNcCFeMtX2d1xblFJPvAq0NfuvpVKcAcCxQVDnA7Cbjoij07Kj8jVCbKxqr/l2d1xoLjAB1wFtLxxX6nUNTgVF7xpIm+P150JnOl0GCohDcAqGGN72d5AccGrwM1Ay+X0lEpdKbeeSRN5+87Aqr2tVEvGAM/hdds+CggUFzwB3Gl3v0oluAlOB2A3TeTt02l11Z5Tgafwum2viBMoLlgI/MzufpVKYDoiVydI2fq9qkPOBx50qPrbd4F/2N2vUglKE7k6wVlOB6CSxnXA7xzq+4tAiUN9K5VINJGrJrzu3lj3QJWK1lfwur9td6eB4oIG4Hpgjd19K5VgNJGr45zidAAqKf0Mr7vQ7k4DxQXVQAHwrt19K5VA+uUWlQxwOgg7aSJvmyZy1Vn343VfanengeKCMqzqb3vt7lupBJJSK9c1kbdNE7nqrHTgMbzus+3uOFBcEAAuBY7Z3bdSCSKlptc1kbct3+kAVFLrCZTgddv+QyVQXPA2MBdI+sL2SnWCJnL1ER2Rq64aCPwPr3uo3R0HigteAT4N6IEKKtWMdzoAO2kib411dOkgp8NQ3cJYrOpvfezuOFBc8Chwl939KuWwlDo4RRN563Q0rmJpCvCfSO1+WwWKC34P/NLufpVyUH+nA7CTJvLWpdQ9FmWLC4HFeN3iQN9FwD8d6FcpJ+j2MwVoIRgVHzcAv7a700BxgQFuA563u2+lHKAjcgVoIlfxcxde9zft7jRS/e1a4E27+1bKZjm5RSUpc2qlJvLWjXY6ANWt/QKv+xa7Ow0UF1RhVX973+6+lbJZyozKNZG3TkfkKp4E+Dte9yfs7jhQXHAQuATYb3ffStkoZe6TayJvidedDgx3OgzV7WUAT+B1n2l3x4Higu3AZUCF3X0rZRNN5CluJJDmdBAqJfQCnsXrHmd3x4HigreATwH1dvetlA10aj3F6f1xZafBWNXfBtvdcaC44CXgVrT6m+p+dESe4vT+uLLbOKyReS+7Ow4UFzwC2L6KXqk40xF5irN9ZKQUcCbWPfMMuzsOFBfciwP725WKIx2Rp7iU+SSnEs4nsFazO1H97RvAIw70q1Q89HY6ALtoIm9ZP6cDUCntFhyojR6p/nYr8KLdfSsVBymzYFkTect0RK6c9g287rvs7jRQXFAPXAO8ZXffSsWYJvIUpyNylQh+jdc9z+5OA8UFFVh7zLfb3bdSMZTudAB20UTeMk3kKhEI8E+87jl2dxwoLtiPVf3toN19KxUjOiJPcTq1rhJFJvAkXvcUuzsOFBe8jzUyr7K7b6ViIGUSuRijdSBO4HWXoclcJZZ9wDS85QG7O84tKpkJzLK7X6W6yB8oLnjK6SDsoIm8OWvbTwM6W6ESz1ZgBt7yQ04HopRKHJqsTpSF/rmoxDQBKMHr7ul0IEqpxKEJ60RZTgegVBvOBh6NnNCnlFKayFuQ6XQASrXjMuCvTgehlEoMmshPpCNylQxuxev+mdNBKKWcp4vdmvO6s7CmL9OBjMjv6S1839rXTj7nRH1u5ayv4i3/o9NBKKWco4m8O/G6XSTmB4x4fShSEAbm4S1/3OlAlFLO0ESukpe14CsRP2DE47m2ilsEgUvwlq/o0J+fUqpb0FGNSl7e8gasPf/dn1XfoK0PAHXOBaeUcpKOyJVSSqkkpqvWlVJKqSSmiVwppZRKYprIlVJKqSSmiVwppRKIiHxSRN4VkfdFpKiF590i8oyIvC0i74jIZ52IUyUOXeymlFIJQkTSsE65uxjYBbwJ3GiM2dLkmu8AbmPMt0RkEPAuMNQYozsXUpQmcqUUf7rz65O2Tu5z9fu1Q7P6HqnIHFh3JGOIHAkNkSNmsBxlAOWu/lKR5paq9J7UZuZQm5UmJsPpuLub/5bWD/zxq8FT13+x1zKAO0pqJgMsLMh+p/GaO0pqJu+uMDn/mZf95qb94Z6XPlx90Ydf7/XfdFdKFnZ8EW/5YqeDcJruI1dKUbP/PbnQddH0iflr0t6ZNNT1avDc9ANHBvSQw/VBOVrXQ2pDI8QwqulrMqkP9qK60i3V1W6qqvtKZbAfFXX9pLKun1SE+lER7iuVxk219JEqVy9q0nIkmNGDYFYWDVkZNPRII9xTML1E6OHUe08k9WE4fWgawM0A545MY83uEMCUxmuKL+rBlf+uZsSvKydUBA1Lrs0m3SU3OxKw844AMUnkIhICfFh50Q8UGmOqY9CuF6g0xtzT1bZao4lcKQXw7vZ9r54zJ+u2Dw/vWptx97hFh3oP3zv8xRGf3PUSl2Qcpd8wGky560hwh+tQsNx1JJgerGZIMOwee9i4BwDQhcm9NEINvamu7CPVlX2prHFLVW1fKoP9paKhn1TU96My3Fcq6EuV6S3Vrt7UpOdIbXo2dZlZ1PXIINQjjVCOy/pQkBOjPxPbtTRB2nyc/b9tDUwZksayz+Sw7Yjh4germDUmnT5ZKTkiD8ewrRpjzBQAEXkYmA/8Oobtx40m8mbyF+e/CJyFVTGsPvJ7QwvfJ+1zvkJfalRDU1FbsGRpw73zLt+1+cCL3DD4ypGPv5dVW7ejsu95ea8H5vZ/fFKF9CkvSb9yy/JBF/apHOSehYi1UDZkalxH67a7ymrLXIeDIpUNAwiZk4SOjbBDpKUfpXffo6Z33w8Y0qUPBS7CoZ7UVLqlurqPNVNQ24/KYD+pqOtLZUN/qQj3lcqwmyrcUuXqTXVaDrXp2VKX2YO6rAwastMJZbswPYFeIvYdRjSyj/DhsY9z065jhuG9j1+T/I+N9RTNyEREGN9fGNvXRemhMGePaKuKb7cVr59lrwGnisj5wDeMMZcDiMgfgXXAZuD+yLVpwCnACODZJm3kAyc1bVRExgELgUFANfAFY0xpV4PVRH6inoDb6SDiKX9xPkCIzn84SLgPJ2095yv0hWLzJ9ft+fZUv3/L0do9r94oM6b/16xbteWdObMzM6v2TZq84r0bej00/UZ5KK2MAfueMVdvfZ3ZA2rSciaHB2RNDg9ocvpv2DRIRf17rrLgAVdZsMFVUd+X+nCu2PT/KowrrYKe7grT0w2DuvShAIzpSW1FH6qr3FJV46aypq9UBvtbswT1faUi1I9K01cqTR+plt5Up/eiNi1bghk9qOuRQUOPdELZaYR7YX0oaHOn0Fkj0nivLMyOI2FG9BH+/U49j3wq+7hrRvcRXt7RwKwx6eyvDPNuWZiT+qXkaBziUJpYRNKBS4HnW7vGGLOOyO0OEfkV8LwxZk+Tx+4AZhtjdooc93fzF2C+MeY9ETkH+BMwp6sxayI/Uar8j0ij7YM4uo38xfmG7v/B5Ziv0NfVlaubAF7b//hZV4/52odX150965WMzcu31e0/f+OGy4b27Hlk+6TJrxwc0KPsnFu5f+it3M9eM+zDp/nU9tVMH1YnPSYA4JJ04848OeTOPDl0Um+rZWOMVDd84CoL7nGVBWtd5XU9CYbHCAzuYsxxJlJFdu8qsnvvNdYdhK58MMgmWN2bqiq3VFe5qarpKxV1/aQy2I/K+n5SEe5HRei687f1P/eB907GhOWqU/ocHDSoz/6fvHFkWKaEMhZMy6z79qysXrf9t8adf1+lGAO/uCiLgTkpu5M4lok8W0Q2Rr5+DfgbML2tF4jI9cAZwCeaPDYD+Dwwq9m1vSLtPdYkuWcRA7pqvZn8xfmrgHOdjkOpKIWB7/kKfT/vakP3zrv8k8BzAEN6jNk8e+g8j4ikbUwLvLEufdvZCBkAffvu8eV5XjMZGXWnNn39B4zZ/hTXfries0Y3SMbYqDqtDR1wHQ5+kHaotlKO1mVJbWg4htGSOh+oOy2Lutpe1FS6para+lBQWRtZbFj/8WLDKuOmKrLYsDYtR2ozelCXlUl9VoY1U9C42DAmCcUB38Fb3uV/+wAiUmmM6dXssZnAd4wxl0W+vx943RjzgIhMBh4HzjPGHIw8Pwx4BbjSGLM18pgXqMQajb9rjBkWi3ib0hH5ifQHiEoWR4AbfYW+/8WoPV/jF/trd56yt2bbiuE542dPCeXO6GtyNryU4TsJwX306PD81avmMWTI+2vHjV/bPy0tNB5gNDtPupN7TwJ4z0zY+hTX7t3EaePCkj6y1R57pA0OD88ZHB7eZH1afbjcdSQYcB0KHnUdCaZJdWgIYTNW9OfVcYJk9giS2aPMRO5YdGFMlk5DfWSxYdXHHwoqg32lor6/dfsg1Fcq6UslvaVami42zKS+RwYN2WmEGxcbZrffY8x0eVV5O3YCk0QkC2vdx4XA6yLiBv4NfKZJEs8AHgW+1ZjEmzLGHBORHSJynTHmMbGG5acaY97uapA6Im8mf3H+auAcp+NQqh2bgKt9hb7tsWz03nmXlwH9AVy46q4ec9fOdFfGyQCH5Nj7/81cl23EjPj4FeHQ6DG+VaNH+8aJtDzS2Ez+O09xbVkpnglG0oZ2KrCQqZXyuu1ph2rLXIeDRqoaBtBgThJsTRpx1XDsIIdKfk2o8ggiLnpNuYQ+U6867prKd17h2JonAHBl9KD/JV8mc/BJLTXnGBfhUGRbYpW12LAqMlNQUdePyoZ+zRYb9qImrafUpmcTzMqiPjOy2DAnstiwZzuLDT+Pt/xvsYi7pRF55PFfAlcB72FN5T+N9bHpD0DT/39fA/4HNF28dhnwRSLbz0RkLHAfMAzr+OF/G2N+3OXYNZEfL39x/hrgbKfjUKoN/wI+7yv0xXw0cu+8y5cDsxu/H5A1ovTCYTePi4w2qKJ2/2NZq440SDiv6evE1VA7fvzaNUOGbDtNhL4ttR1GwhuY6vsvnzq2nfGTjLgGdClYY0JSUR9wlQX3ucqCDa5j9e7IoroW+090DZWHCVUeJmvoeMLBavYuvotBn/oemQNHf3RN7S4/GQNHkdajFzXb1nH0jUcY9pmk2CHVKUI43JPaqj7WbEFNX6mo7UtlbeNiw3rSf/Wdn973tNNxOk2nqk4Uy32JSsVSCPiWr9B3bxz72ESTRF4W3J33YVXpitG9PLMBetJjyM3BWT0fy1q1rlrqpjZeZ8LpPd7bOn32ju1nHp2Y9/qKfv32nNO8yIsL4zqTN087kzcJ4WpYbaavX8rVtR8w5hSsqcqOEUkzfTLHhfpkjguN7f3xw1UNu1yHg7tch2prXcfqc6gNjRbo3EyAjdJ79Se9V38AXFk5ZAwYRaiiDJok8h4jPR99nTkij1DFIdvjtJPB5aokp3clOb33GFq6ffCT79gfVsLRRH6icqcDUKoFh4B5vkLfsjj342v+wOqDz8wYljNuS4YrcxJABum9bgjOmPJ05rrXDrkqjluZ29CQ1fedzRfOzsqq3DNp8vLtPXsemd7Slqs0wukzeP3MGbxOPenB18z5a5/lytBehp+GSJcKupie6SNDPdNHhkb1/PjBYOig63BwZ9qhYKUcDWZJTWgYhjGJuqiuoXw/dfu3kzV8YqvXVL79AtknTW31+RRx1OkAEoEm8hMdcToApZpZD3zKV+j7wIa+NjV/wGDSl+19OOsTw28NRhb94MKVPrfu7FnLM95Z8b5r33k0u48ZDPYavuGty4f37FX2/uRJy49k9ag+q7UOM2jImsNLZ8/hJWrJqlpmLl71PwrSDjHoNCL9dVlW2qDwsJxB4WFNPiM0hCtcR+q2uw7VHnUdqUuTqoZBhM1JYt27dEy4roaDT/6M/hd+AVdWy59panduonLTCwy95Zc2R5dwjjodQCLQRH6iw04HoFQTi4H5vkJfrU39bcaawDwuMR+tOzBue+WmFeN6nza76ePn10+e3T+t1xtr098/CyGzeWNVlQPGr117Df3673o7L+91V3p6fX5bnfcg2PMylk67jKVUkVP+grls3Utc0uMo/U7DKtQRO+mu3uFBPU4LD2pyByBkgnKsrjTtUPCg63DQSGV9PxrMOMGesq8m1MDBJ39Gz0nnkzOx5S3MdQd2UPb87xl83Y9Iy+5jR1iJTAde6GK3E+Qvzv8J8D2n41Aprx74uq/Qt7ArjfjzPNmeUn9NR15z77zL3wfGtfBU+OrRX9ucmdbj1OZP7HQd3PhixqaxSNvV24YO27pm3Lg3B7lc4Q4ttT5Gn7ISrtyynAv7VNI7/6MSsXYwJiyVDQHXodp9rrJgvauivjd14bEC/WLbjaGs5Ne4evSm/0VfbPGahmMH2P+v7zKg4O7j7pensMxAcUG900E4TRN5M/mL879OkhTKV93WfuBaX6Hv9a404s/zXABM95T6f9qR19077/IngbktPdc7Y8DOS0fcNkhauI99SCq2/TfzzSwjpvV94wCEQ2Ny3145atQ7J4uYDi9CK2PAvmeIlIiVnMkdfX2sSHXD7siiuhpXeX0OtaFRYm0r6pTaXe+w/+FvkTEoFyKVv/qd9xkajh0EoPfpl1H23O+pfvcN0txWQTxxpTGs8Lddfi9JqiJQXJDyUxKgifwE+YvzbwX+4XQcKmWtBq7xFfr2dKURf55nAfAL4GJPqf+Vjrz23nmX/wj4QWvPT+k/59WJ7rPOa+m5KoIHHstaVdYgoXaHiy5XQ834k9esGTx4++nSzki+NXtpoUSsk4KhskgxmwrXkbpMqWloXFSXsjVU46g0UFyg0xJoIj9B/uL8K4H/Oh2HSkl/Ab7qK/R1un60P8+Tg3Uq041Y6z2GeEr9bZ4QtXD+svQ7Fs356Jp7511+LfBYGy8xV43+yoYeaT3PaOnJehqqHs9avaVKgq0ucGsqPb32cJ7nNV/fvvvO7Uqp0E6ViLVDQ7jSdbRuu+tQ7RHX4TqXVDcMipwQd8KaAtUhLwWKCy52OohEoIvdTqSL3ZTdgsBXfIW++9u9sg3+PM9JwJNA4z3skvaSeMSnOX4W6oSV683IS3seHFIw8vZjInLC1GYG6T3nBWecsTRz/asHXOUtjtybamjo0X+z7+LZPXpU7Jo0efnOnJyj09o7JawlnSoRa4d0V6/wwB6nhgc2WVQXNnVSXvdumnVCXDiyqO4kgRMqi6lW7XI6gEShifxEmsiVnXZjTaWv6Uoj/jzPJVgV35ouwGp3Zmnh/GU5wN0cn8jfB2poo/xpVUP5iC1HV74+ud+MmS0970LSrqybet6r6VtWbE3be8L2tJbU1vYe+db6K0b26n1o66RJy49lZdV0epP0yWyd8E1+NgFgs4lBidhYc0mm6Zc1saFf1kTGRx6zFtXtsCrV1QZdx+p7UxfOFehaBbzuK2aJXES+C9yEVXQpDNwOTAP+YozpUAVFEbkVeCFyrKktdGq9mfzF+UOBvU7HoVLCa8B1vkLf/q404s/zfAf4Ccffh60FBnlK/ZVtvXbh/GVzgf8Ave9YNKeq8fF7513+JtBuIr1i1JfezEnv0+YU+ua0D1auTn/vTDo4bd5/wIcbJ058IyM9vT4mC9piXiLWLjUNe9PKgh+6yoI1rqN1PQiGRophRPsv7PbmB4oL/tzVRkRkGtYC5/ONMUERGYh122MlMNUYc0L5PBFJM8aEWmlvOfCNyJnlttAR+Yl0X6Kywx+ABb5CX6e3zvjzPL2w9pl/qoWnX24viUfMxdozfgrQdFbARxSJ/KU9D46+YtSXj4hIq1uxTgmNnt7H5Lz9Qsbbo5Hot2wdLhs1ZdXKGxg+vHT12JPWD3W5wrnRvrYlMS8Ra5fs9GGhkenDQiObVKqrCx12Ha4LuMpqK1xH6jKkpmEoYXJTbFFdrAokDQMOGWOCAMaYQyJyJzAceEVEDhljLhCRSqyEfwmwQETmAFdgzVytxBrFX4P1/+ZhEanBGtVPiryuF1aFxluNMXtF5CysM8+rgNeBS40xp4jIa8BXjTEbAUTkDeBLxphWb3npiLwF+Yvzq7CpAIRKObXA7b5C3z+70og/zzMB6374pFYu+aKn1P/XttpYOH9ZGtZWtwHAF+5YNOeje/T3zrv8LuA30cQy0X32yin9L2i5ekkTh6Vyx5OZa9ONmFHRtHu8cMPYsRtWjRi5ZaIIgzv++tbVkx58jfPfjlWJWMc0hKtcR+u2u8qCR1yHgyJV3X5RnSdQXFDa/mVtE5FeWIk0B3gJWGKMWSEiAZqMyEXEAPOMMY9Gvu9vjDkc+fpB4FFjzDNNR+SRw4ZWAFcZYw6KyDzgEmPM50RkM/BFY8xKESkGLo8k8kLgdGPMXSIyAXjEGNPmh2odkbfsMJrIVeztxCq1+lZXGvHnea4AHoRWt2wZ4JkomprBx/dfmxd5OaHmemveLV87fVzvKat6Z/Sb1tZ1/U2vsTcGZxx8LGvVlnoJtfYBpBWu9B07zpy1c+epVSdPWL1i0KDAGSL0bv917bOlRGwrQgf2UV78fcKHy0CEnMuvIeeam467pualZ6n+9wMASI9sen/9O2SMa6EGe7qrZ3hgj/xmi+rq5Vj9u66y2oNpZcGQVNb3pd6cJMTmz85BBtgRk4aMqRSRM4FZwAXAEhEpauHSEPBEk+8vEJH/w8oV/YF3OPH/3USs2a4XrePHSQP2ikhfoLcxZmXkukeAyyNfPwZ8X0S+CXwOeKC996CJvGWHAWdXuqru5mXgBl+hr9PHVfnzPAL8EGuPd1uLx9Z4Sv37omhybpOvm5dObW/l+nFe3vPQhKtG33FQxDWoretyyBp0U3BWz8ezVq+tktoOHxccDmf0fLd01uzt26YeyvO8tsHt3n+utFAatrNsLRELkJZG7/l3kzHBQ7i6isPzbyLzzHNIz/24sF7a0OH0+839uHr3IbjmdY7d+/8Y8KcHo2vfJRmmb+bEUN/MiaHGJo0xUtWw01UW3OMqqw26yut7URceI9Dm312C2RMoLgjGqrHI/e7lwHIR8QGFLVxW23hfXER6AH/CGrF/KCJeOP60vwgB3jHGHPcht61bUcaYahF5EesM9OuJ4hZXKt1P6YiDTgegupV7gEu6mMTdwNNYiby9FeBPRdnsVU2+Pi6RL1iy9CDWtHtUguHqAevLXtwWzbUZpOXcEJw+dUjY/Wq07TdXX5890LfpE+etX3flvuoq9xvGtHDAZRf1pNp9NY/PWMgXzryPz5Vfbp58rZc59jbGxOyo47QBg8iYYNU0ceX0JH30WEKHjv/xk3nKFFy9rV1+GZNOJXywS2sjrTniXhljQmN6Tas/Y+D5wQuGTQ1eMmJQ7ewh++pP6ftmaGj28nB22mojCb29a3usGhKRiSJycpOHpmDNnlXQ+sxFY9I+FJmav7bJc01f9y4wKLKgDhHJEJHJxpgjQIWInBu57oZm7d8P/B54s3H6vi06Im/Ze8CFTgehkl418DlfoW9JVxrx53kmYSXnk9u5tFE0285OAZrWOx+wcP6y4XcsmtN0y4wPGBJtnNsqNp57cp8z3nBnDprR3rWCuK6om3rea+n+Fe+m7Ylqe1pLamrco9evv3J07z4HSidNWlGdmVnbYpGarurDsQE38tCsG3nIKhFrYl8iNrRvD/Xvv0sfzymtXlPz7FNkntPuH2/n9EgfGhqRPjQ0oumiuvBR15HgDteh2mOuI3XpTRbVpcUniKjFLJFjLUL7Q2S6uwFr++UXsYoqPScie40xFzR9gTHmqIj8Fev/SAB4s8nTDwCLmix2uxb4vVgLKtOB32JNw98G/FVEqrBmAz46QtsYs15EjhFllVFN5C3r8gIKlfK2AVf7Cn1R32tuiT/Pcw3WD4ZoC4W86yn1R/Pvd24Lj50KNE3km4CLouwXgJf3PnzK3NF37nWJK6qa47MaPLP7m16rVqVvPR1pcWoyKhXHBuetWX0dAwfufGvCxJXZaWkNcSvdOYCyobdy/9BbuZ+9JjYlYsM11Rz94Tfo/eVv4OrZ8l913YY3qXnuKfr/7u+djr3DMl19w0OyTw8PaVJSIGRqXEeD212HgmWuI0GRyoYBhMw4ofNV+Tpha6waMsasB1parPmHyK/G6477izHGfI8WDtgyxjzB8ffSNwItFUZ6xxhzKkDknvxH29VEZDjWjPkL0bwHTeQt00SuuuJ54CZfoa/TWxn9eR4X8FOgpUU3bYm2vPBVLTyWjxV7ow5/CKkPB91rDpa8N23wFVEfHjI5NGpaH5Oz6X8ZG0ci9O9on00dOjTmjEOHRpsRI/yrcsduGO5yhcd0pb32DGPvqNtZOOp2FvKB6VyJWNNQT/kPv0GPiy6lx3ktTwTWb9vKsXt+TN/iP+Jy941V+J2TJtnhAT0mhwcct6iuQSrq33MdCu53Ha4NuSoa3NSHx0rrCzK7qksfkBNEgYh8GysP7wRuBRCRz2D937/bRHkbR7eftSB/cf4YrOkSpTrCAD8Hvu8r9HX6Pqo/z9MfaxXrJZ14+QxPqX9lWxcsnL9sBPAhJ95rf+iORXM+3fjNvfMuPwNY34kYuGj4Z14bkDVsVkdec1gqdzyVuTYtLGZ0Z/psTiRcP3bsW6uGj/B7ROxdyPUe0ZWINcZwrPj7uHq76f2Vb7Z4TWj/Xo4suJ0+RT8m85Qp8Qo59qxFdR+4Dgf3uA4Fg65jdb0IhkcLMdk+mBsoLtgZg3a6BU3kLchfnC9YCxZ6tnetUhEVQKGv0PdkVxrx53lOw9of3plDP/YDwz2l/jY/RCycv+xLWCtum3v7jkVzpjR+c++8y3sAlXTifmi6ZFRePeZrR1yS1qE94zXUHXo0a+X+egnF7N5zWlp95ckTVq4bOPCDqSL21zLfTOslYut8Gzjytc+RftLJHx1d2uu2rxA6YG06yLnyOsrv+RHBV18mbUhkkiMtjQGLHrH3TcRSbeiA63BwZ9qh2io5WtdDakPDxdCRD29HA8UFMT0LPtlpIm9F/uL8t4DTnY5DJYV3se6H+7vSiD/PcxPwVzpfw+B+T6n/C+1dtHD+sv8Bn2jhqTqgZ7OT0PxAXmeCGZ4zfuPMwZ86TSIbaKPVQKjm8czVb1e6as9t/+roZWRWH/R4XvX36XNwmggZsWw7GklbItYO9eFya1FdsNx1JJgu1Q2DCXNSK4vqXgsUF7R7GE8q0XvkrStFE7lq39PAp32FvmOdbcCf50kHfgXc1cVYolmt3gc4v5WnM7EKWLzT5DEfnUzke6rfn3Kw9sNXB2eP7tAP3XTSsufVTT/72Yy3VuxNOzq7M323pL4uZ9Cmtz85KDu7fOekya/syc6uOFc6uVq+M5K2RKwdMlzu8ODsKeHBxy2qq5XyunfTDtWWuQ4HkcqG/pFKdR2qcZAKNJG3The8qbYYwAv8xFfo6/S0lj/PMwh4lNaTa7SqsMpLtudS2i7ZeSrHJ/JNwHWdDerV/Y+ddfWYr+1Ik/QO3SoQxFVQf+bsN8y7r/rTds2kE8eatqamxj1m/bq5Y/q492/xeFYEMzODtn9gTyOcPoPXz5zB61aJWHP+2qQvERtradLD9M+a1NC/yWJ4Y0JS3bDWuaASkyby1mkiV60pB272FfpKutKIP88zFevksU7UHj/BC55Sf20U181t5/l8rONQG3VpdXDINGS/tu/xqtlD54VEpMP32mc0TDyvn+m5emX6u6chrR+r2hnHyodMWrP6egYN2rH+5AmreqWlhVqoexp/TpaITToiaaZnxttOh5FoNJG3LmUT+a6/7aJiYwXpfdI5+adWDZLyteUceOoAwb1Bxv1gHNljW/6ZWrGpgr2P7IUw9DuvH4MuT6aqj1F5B+t++HtdacSf57kVuI+Wyzp2xlPtXbBw/rIMrBF5W5rXXO/yNOb+2p2n7K3ZvmJ4zrhOTZNPCo08121yNj+XsWEYEvuzuQ8eHHvmwYO5ZuTId1aOyd042uUyjpVntr1EbPKp4fgZI4WWaG3LVqwD5lNOv5n9yF2Qe9xjWSOzGP3V0eRMaH3Wz4QNex7cQ+7duYz/2XjK15RTuzuaQWLSeAw4tytJ3J/nyfDneRZiVWyKVRIPAdHMDpxP+/t6m9dcD2CtyO+SN/b/Z1pDuL7Tf24jwv1Puabu3EqXkUBXY2mZyK5dp0xf+caNg/fsnviqMZTFp5/o2VEiNgm9ve+CKQ3tX5ZaNJG3wlfoq8XapJ9yek7sSVrP42dBewzvQdawtmf5arbXkDUki8zBmbjSXbjPcVOxocs5IBGEgCJfoe96X6EvmjO+W+TP8wwFlgFfjllkltc9pf5oEs/cKK4ZvXD+so+S/YIlSw2wubOBNQoTzly+b0nIGNPp89f7mZ5jbgzO7J1p0uNWDMSYtMxt284+b9XKeRmHDo1aYQzV8eqrIxpLxP6Zz572e24/cLF57tVsU52KI9N17V+SenSqpm2ldG4/b0qqP1JPRv+Pd/Wk90unZnuNgxHFxGGsU8te7Eoj/jzPNOBxYHhMojreU1Fed2WU1+Vjnc/cyIdVM7pLyoK78z6sKl0xupen0yvRs8kccFNwZs8nMtesrnDVxHR7WlOhUGYf/5bzZ2dmVu/3TFqxvnfvQ9NEuvbz8sCBBn5RfIAjR0KIQEFBHz51zYkTJBs31nDfn8poaDC43Wn8+jfH/5OJR4nYJPJm+5ekHk3kbSul/XuKqlH3K0mwEev88C6de+zP88wHfkfbq8W7IpptZ2cS/dG8zRN5zLb7rD74zIxhOeP8Ga7MTtdCTyetx/V1085+LmPDij1pR2K2Pa0ldXU5Q97eeOmQnJwjOyZNXr4/O7uy0x8e0tJg/vwBnDwhi+rqMF+av5szz8xmTO7H/ywqK0P8/neH+HnxMIYMSefIkVCbbcaiRGySWe10AIlIp9bbttHpAJJJRv8M6g9/PHPacKSBjH62192IlYeB6V1J4v48T5Y/z3M/1qK2eCVxn6fUH02MLdVWb03zBW8xm8o2mPRlex/ONMZ06SxpQVyX1Z8xe3LDqBWY+K9lqa7uN3bdm1efu2nTRe/U12d2atX0gAHpnDzBuj2Vk+Ni9JgMDh06/nbvyy9XMnNWT4YMscZY/fpFv9B/NDtPupN7Zy/mhrFe8+2tU8z6FS7TkMhHkXbUnn0XTInZYSndiY7I29bp85JTUfbYbIL7g9QdrCO9Xzrla8oZOd+xBcCd1QB801fo+21XGvHneUZinYB0diyCasNTUV43twNtNl/wFtN70kfrDozbUblp+Um9Tzu/q21Na5gwu5/pueb19NJTY709rSXlR4dNXr1qHoMHb3tz/Mlr+qalhaI9WvY4+/bV8/77QfI8x6933L2rnoYGuPvuPdRUh7n6U24+8YnWjsRu3clsnfBNfjYBYLNpvURsknnF6QASlZZobUf+4vyd0KE6wEnvw/s+pKq0iobKBtL7pDN47mDSe6Wz56E9hCpCuHJcZI/OJvcbudQfqWf3P3aTe3cuABVvW9vPTNjQb1Y/Bl8Zi/MRbHMAmOcr9C3vSiP+PM95WCvc7XjzUz2l/jYPNlk4f9lYOnZ+87E7Fs057ubtvfMu/5Dop+ajEb569NfeyUzr0fxDQ6fscR1+59mMDUMQBsaiveiY8KjRvlVjxmzKFTEjon1VTU2Yu7++h5tu7sesWccf5/CH3x/i3a1BfvWrYdTVGe786m5++tOhjBzV9QmdblAi9vP7LpjyN6eDSESayNuRvzj/n8Cn271QJbs3se6Hd2kq0p/nuRO4F3tmu3Z5Sv3tFpNZOH/ZXcBvOth27h2L5ny0a+PeeZc/S4zXi/TOGLDz0hG3DZIYVTI7KlUf/CdzTSgsxtb7wyKh4Ljxb64eOvS9U0Vo8zCPhgbDd7+7j7OmZnPtdX1PeP5f/zpKXV2YwkLrNNd7fnWQs87OZvbs2J71EsLVsJrpbydZidhx+y6Y0pEPpClD75G3b4XTAai4+zswqytJ3J/nyfbnef6JtajNrltWT0d53dxOtB3zwjDNVdSXjdl6bF3MViH3NT1H3xSc2TfTpNtai9uYtKz33zt39qqV81xlZSOWG0OLWzWMMdxzz0HGjM5oMYkDTJ+ew2ZfLaGQobY2TGlpLaNHx355RWOJ2J+zYMYD3NDjNnPf2mFm9yqMSYjtdi34QJN46/Qeefs0kXdf9cDXfIW++7rSiD/PMwbr6FG7a3Y/1d4FC+cvGwDM7ETb+cAzTb6Py97tjYeXnTem1+QNPdJyYvJn14PMfjcHZ+U8kbl61TFXTZe3zHVEKJTp3vLOnPOzsqr2eiYtX9+r1+FpIh+f3rV5c5CXXqxk7NhMbv+i9Znxc7f158ABa8HbFVf0YcyYTKaelcMXPr8LlwsuvawPY8fGa52kJUlKxL4cq4ZEJIT17zkd8AOFxphqEak0xrQ69SEifYGbjDF/avLYr4DLgGeNMS0fKG8DnVqPQv7i/N3EZ/+vcs5e4Dpfoe+NrjTiz/NcBPwbYl86tB3lwCBPqb/NAisL5y/7DLC4E+0vuWPRnBsav7l33uX5xOnUqZ7pfXcVjPxiHxHpE6s2Dcb8L2Pjil1ph8+PVZsd1bPn4W2TJi8v69GjKt4LHuOiipzyF7hsc4KUiL1h3wVTlsSioaYJW0QeBtYbY34dRSLPBZYaY05p8tgxYFC0uzBEJN0YE/PKdDq1Hh0dlXcvK4EzY5DEvwk8j/1JHOC59pJ4xNxOtt98EVop1gxGzFU1HB255ejKmB6EIYh8sv708/MbRr+Koe3N2HFSVdV/3JtrP3W2z3ehr74+M+mO3kygErFhoEsFmdrwGjC+6QMi0ktEXhaRt0TEJyKNWzeLgXEislFEfiUiTwM9gTUiMk9ExkRetyny++hIew+IyK9F5BXgF5Hv7xORV0Rku4jMFpG/i4hfRB7ozJvQEXkU8hfn3w4scjoOFROLsKbT6zrbgD/P0xP4GzAvZlF13A2eUn+bI5SF85f1AA5h/bDpqAag1x2L5nw00rh33uWbODHBx8wVo778Zk5677Ni3e67aXvWvpbuPwXB0eNBhwx5f+34k9cMcLnC45yMo6vKGLDvGa7e+jqzB9RIzmQbulyz74IpMavi1zjyFmuG4QngeWPMfc0ezzHGHBORgVhFaE4GxnDiiLzp6P4Z4HFjzGIR+RxwpTFmbiQ5DwSuMsaEIt/3AG7Eqrb4IDAD6zCYN4HbjDEbO/KedEQeHR2RJ78gcJuv0PelLibxccAqnE3idcBzUVx3EZ1L4mDdP2xefS1uNc4BXtrzz9HGmCOxbndiaPjZBXVnBDAcjHXbHbF///iz33j9xtydO/NfN0b2OhlLV0RKxJ53P5+efI/5yofnmWUrMk1tPAu1PB/j9rJFZCNW3fYPsD6UNyXAz0RkE/ASMAIYEkW704BHIl8/yPFrUx4zxjSdGXrGWKNoH7DfGOMz1kzHO0Bux96OJvKo+Ap9pcB+p+NQnbYLa1X637vSiD/PcynWJ+a4jUqjtNxT6j8WxXUdqebWkubvM67TwzWhyiFvH1m+JR5tDzP9Jl1XNy3oMuLwymdX2gc7p8xc+cYNffftG7fCGMqdjadrIiViZ/+Dmyf83Ny9/RyzckW6qe9SSeMW/C/G7dUYY6ZEfn3VGNP8g/3NwCDgTGPMFKyf/Z05qbDpdHdVs+caZ7rCTb5u/L7DaxE0kUdPq7wlpxVY98M7vc3Jn+cRf57ne8BSaHufsE2iqa3uAq7oYj9xK9XamnfL186orD8Sl3rabpMz8qbgrP5ZJj2m9+M7IxxOz35v6/TZq1ddb44cHrbCGJL+vN84lYg9AKyNRXwd4AYOGGPqReQCrCl1sI7zbavM3kqgcYHozRx/XkFcaSKPnk6vJ5/fARf5Cn0HOtuAP8/TG/gP8BMS4/+LIYpEDpxLdNOBbbF1RN7opT0PjTcmHJdp8B5k9L0pOCvPHc5ZGY/2O6qhIavv5s0XzX5z7dWHKyv7vW5sqBtvh0iJ2NkPMm/kt433HY/Z/KqY0L5ONPWffRdMsXux4sPAVBFZh5WQSwGMMWXAGyKyObLtrLk7gc9GpuQ/DXzNroB1sVuU8hfnn4INIxIVEzXAF3yFvoe70og/z5OHtT88LyZRxcY6T6m/3QVhC+cv+wXwf13sa+8di+Yct+3y3nmXH8aGWYlxvaesnjrwkrgdU2ow5oWMt1/9MK0srqendVSvXmXvTZq0/EhWj+qk3LLWlk6WiL1w3wVTlsU9uCSXCCOMZPEO1gpgldgCwIwYJPGrgDUkVhKH6Ebj0PltZ00NixSUacqWD7PbKjaeW153sEvbA9siiFxSP2X2qQ1jHNue1pLKygEnr117zdnvbL7g7YaGjM1OxxNLLozrTN487cd8e9Zi5rm/bH6zfrQJvIExra0TOIjOhEZFR+QdkL84/x/ArU7HoVr1InCjr9BX1tkG/HkeF/Aj4LtYq1cTTb6n1N/mD/iF85flYVWsioU5dyya89GpU/fOu/yPwB0xartNGa6s8rmj76x2iWtYPPvZ6tr75qsZWyYhnVvh39DQwD/+8Q9CoRDhcBiPx8MFF1xwwnWBQIDnn3+ecDhMTk4Ot956a7ttDx327ppx49YNdrnC3fV8cepJD77G+W8/y5WhvQw/jY9r7/953wVT5jsaXJLQEq0d8wSayBPVL4Hv+Ap9nR5d+fM8fbHuj10Wq6BibHt7STyiq6vVm8rn+OMjbStsUh8OutccLHlv2uAr4prIJ4SHndWnLttfkrm+v5GOrytIS0ujsLCQzMxMQqEQ//jHPzj55JMZOfLjw+Jqa2spKSnhlltuwe12U1XVfBFzy/btnXjOvr0nh8bkvv3aqFHvTBAxXV33kHBaKxFbTt9HnY4tWejUese8iLVyUSWOKuB6X6HvW11M4qdgbS1L1CQO9k6rN7J95XpTH1RtmVoW3PtavPsZavp6rqub3pBmXNs6+loRITPTqoceDocJhU78Z+jz+fB4PLjd1iFjPXt2ZPDvStsZOH3Wyjdu6L1//9ik37LWlh4Ee17G0mm/40ujH+BGnVaPkibyDvAV+oJAidNxqI+8D5zrK/Q91pVG/Hme67CqN41v71qHPdXeBQvnLxsKnBPDPpuvXN/M8ftj42753n9PCZtQV7cxtauPyR5xU3DmwB4mY0NHXxsOh1m0aBG/+tWvOOmkk44bjQOUlZVRU1PDAw88wF/+8hfefrvjO+DC4fScre/OnL161XWho0eGrjCGThc2SgL/vnDOtoRZu5DoNJF33BNOB6AAeBY4y1fo6/SCIH+eJ82f5/kl8Cidr4BmlzIgmsVfVxDbe/uTI3vSAViwZGkF1oJC2zSYut5vHHjqkLFhQU8WGe4bgzMn9w337NBCO5fLxfz587n77rvZs2cPBw4cv+MxHA6zd+9ebrrpJm655RZeffVVyso6t5SjoaFHf5/v4tnr3rzqQFWV+43usmWtmYecDiCZaCLvuOeg5fOGlS0M1p7uK3yFvqOdbcSf5xmAVfrRsaMHO2ipp9QfzQhlboz77Qmc1Owx27dh7ql+f8rB2g9tKcqUhivz2rpzZ4wJDezw1G6PHj0YM2YM77///nGP9+nTh/Hjx5OZmUlOTg6jR49m377ObKv+WG1tn5Fvrb9yxtsbP/leMJi9rkuNJZbSC+dsW+90EMlEE3kH+Qp9VcS+9q+KzjHgal+h7we+Ql+nRyH+PM8UrDrLF8UqMBtEU82tF3BhHPpufp/ckZO8Xt3/2Nkh0xDr8p+turj+tNlTGnJfw9DmsZNVVVXU1lqF2err69mxYwcDBw487pqJEyfywQcfEA6Hqa+vZ/fu3QwaNCgmcVZUDJq4ds21U7e8M3tDQ0N6XErc2qxLW0dTka5a75x/A1c7HUSKKQXm+gp973alEX+e5xbgL0B2TKKyRw3R1Zu+BMiKQ//5WNXtGjlSGClkGrJf2/dE5eyh14dEJM2OPqc2jJvVN9xz3fKMdyYiLZfnrKys5KmnniIcDmOMYfLkyUyYMIF166xB8tSpUxk0aBDjxo3jvvvuQ0Q444wzGDx4cExjLSsbffqqlaMZPrx01diT1g93ucJj2n9VwjFoIu+wDiVyEbka6z+0xxhT2sLzy4FvGGNiNs0jInOBrcaYRPqk+Qzt191VsfMkUOgr9HV6x4A/z5MO3IONZRNj6CVPqb86iutiue2sqYQYkQPsrw3k763Zvnx4zrjz7epzfHjo1N512e8uzVznNsLQ5s8PGTKE22+//YTXTZ069bjvZ8yYwYwZM+IXaMSePXnT9uyZ0DB27IZXR4zc4hEhNkN/e7xx4Zxtts26dBcdnVq/EasQ/A3tXRhDc4FJHXlB5DzZuPEV+mo4foSi4iMMfA+4potJfDDWcYTJmMQhumn1dKAgTv03X7n+Hjh3yMcb+5+c1hCuf8/OPocY98Tr66aH04zL1n47z5W+Y8eZ561844acgwfGrDAmabbN3ud0AMko6kQuIr2wDj+/jUgiF5FsEfm3iGwSkSVEpitF5Esi8ssmr71VRP4Q+foWEVkrIhtF5M+NU2QiUikiPxWRt0VktYgMEZHpWAev/ypy/TgRWS4iUyOvGSgigSZ9PBY53P0FEekpIn8XkTdFZIOIxHq0otM/8XUUuNxX6Pupr9DX6dXK/jzPWcB6IKFqandAGGsGqD2zgP5ximHcwvnLGqttsWDJ0hDg2AxZmFDWin1LGowx9Xb229tkD78pOHNwZ7anOSUczuhZWnre7DWrrw2WHx38aoJvWdsHdGkraarqyIh8LvC8MWYrcFhEzgC+BFQbY04FfgqcGbn2ceBTTV47D1giIp7I1zMi57yGsE6XAWt17GpjzGlYR4Z+wRizEnga+Gbk7Nj2ijVMAwqNMXOwSmwuM8acBVyA9WEglluMlmH9w1Ox5wOm+gp9z3WlEX+e53PAa8DI9q5NYKs8pf5oTm+L17Q6WD8nJjd7zNEDhA4Fd3s+rCq1/QSzLDLcNwVnntIv3NO2Iypjob4+e+CmTZect37dlfuqq/usNMbeWgBR+uuFc7bZ+uGsu+hIIr8Ra5EXkd9vBM4jst/PGLOJyL0zY8xBYLuInCsiA4CJWHtgL8RK9m+KyMbI941bW+qwznsGawSV24n386Ix5nDk608ARZF+lmMdDD+6E222KFJF7N/tXqg6agkwzVfo63CFrUb+PE+mP89zH/A34rP4y07RVnOLZyIHh440bcvqg8/MqA/XxaqmfNRcuDKuqTt3Zm5oUNJVHqupcY9ev+6q6ZvevqS0rq7HW07H00Q9sMjpIJJVVPeSI8l4DnCKiBggDWt14QZar/K0BLgea7Xxk8YYIyICLDbGfLuF6+ubFHwItRFbAx9/AOnR7LmmBYwFuMYY06VVzu14GLgrju2nkhBQ5Cv03dOVRvx5nmFYM0LTYxKV855q74KF85edRuc++HaEo6VaW2Iw6a/sfSTj4uGFQRGx/QPbRfWnzn4rvP31t9J3nIsk1w6gY8cGe9asvo6BAwNvTZi4KjstrcHjcEhPXjhn2x6HY0ha0Y7IrwX+aYwZY4zJNcaMAnYAbxGZGheRUzj+P/t/sKbjb8RK6gAvA9eKyODIa/qLSHtbJJqvDg/w8RT+tW287n/AVyMfHhCR09vpp8N8hb51WH8GqmvKgEtikMSnY83mdJck7veU+qNZXBXv0Tgk4Igc4Ejd/vE7Kjetdqr/M0InzZxTf8rbGI45FUNXHDqUe8bKN27I277tzJXhsHzgYCh/dLDvpBdtIr8RawtQU09gjQJ6icgm4P+AtY1PGmOOYC2IGWOMWRt5bAvWKuQXIq95EWjvZKN/A9+MLFgbh7WF6EsishIY2MbrfgJkAJtEZHPk+3j4bZzaTRUbgDN9hb6Xu9KIP8/zJaxbKHE9KctmThyS0prjRuQLlizdD0Rz7z7u3jz0/Ky6UK1jMwQnhYeceWXd1H1iknXNjMju3ZOmr3zjpmG7d+W9agyHbA5gw4VztsX9YJzuTM8j76L8xfmZWLME3SmB2OVB4PbIdr5O8ed5srC2rHw2ZlEljmmeUn+bo82F85eNBnbaFM+wOxbN+ShZ3Tvv8peITyW5DuuTMSDwyRG3DZaPz7K2XSW1ex/LWlURkvAEp2KIhbS0+ooJE1a+NWDgB1Olk2e0d9DNF87Z9ogN/XRbWqK1i3yFvjrgT07HkWQagK/5Cn2f6WISH4W1Kr07JvG9wJoorrsy3oE0kXD3yRsdqy/Lfe/Yekfrjfeix7Cbg7OGZpvMpK4THgpl9Pb7Z89es+aa6mPlg1417ZSo7aIPsA4tigkR+a6IvBPZEr1RRM4RkftFpEO1SNpoPyAibc0EIyLfafZ93HdXaCKPjUU4WCAjyRwALvQV+n7flUb8eZ7zse6HnxWLoBLQM55SfzTTZXbcH2+UkPfJG204/PKs2lC1o3u8M0nvc2NwxmkDwr2SantaS+rrcga9/fYnz3tr/RW7aqp7r4pTN7+9cM62mHxQEJFpwOXAGZEt0RcBHxpjPm9zZdDjErkxJu5rdjSRx4Cv0HcILRATjTXAGb5CX5dOsfLnee7CWl+RTKUnOyqaam59sbfQTcKOyCPkpT0PDjLGdLiKWSgc4pP/uI1bH//WCc+9X7aTqx78EuPuuZBFa/7VblsuXOlX150z86TQkKTbntaS6uq+uevWzZ226e2Lt9TXZcXyg9JR4K8xbG8YcMgYEwQwxhwyxuxpVkSsUkR+ISLrReQlETk78vx2Ebkycs2tIvLR4jsRWSoi5zfvTESeirTzjoh8MfJYMZAdmQ14uLHPyO8iIr8Skc0i4hOReZHHz4/E8LiIlIrIw42LtKOliTx2fut0AAnufmC2r9C3u7MN+PM82f48z0PAb+jeB/5UYu3waM9lWAs67dJ8RP4OJNZZ2FUNR0duObrq7Y6+7m/rHmf8gJY30PTt0YcfXXQnXzy7Y5Wp59SfMntq/UmvY+gWRU7Ky4dOWr36+tNL/TPXhUJpW2PQ5F8unLOtMgbtNHoBGCUiW0XkTyLS0ofcnsByY8yZWDui/h9wMdYhWD/uYH+fi7QzFbhTRAYYY4qAmkgBs5ubXf8pYApwGtZswa9EpHFt1elYW5knYdVW6VBRfk3kMeIr9G3GquetjlcHzPcV+r7gK/QFO9uIP8+TC6zk40qA3dnznlJ/NH9Wdk6rA0xaOH/ZR6eOLViytAZ4v43rHbH56Gszqxsq3oz2+r3HDrBs+ypuPK3lUvUDe/ZjyjAPGa6OH7g2JTR25oX1+T4M5R1+cYI6eHDs1JVv3Dh+x47T3wiHZVcnm6kDfhfLuIwxlVhbk78IHMSqJnprC/02HkPtA1ZESv366HgthjtF5G1gNTAKOLmd62cC/zLGhIwx+4EVfHxrcK0xZpcxJgxs7Ggsmshj67dOB5Bg9gDn+wp9f+5KI/48z8VY98OnxCKoJBDNtHomcKkNsTSVBTRfkZ1o0+sAvLTnwVHGmKPRXOt9+Q985/wv4ZL4/DgcGx58xlV1Zx0QQzcqeCKuXR+eMmPlGzcO2rNnwgpjONz+a47z53gUgIkkyeXGmB8CXwGuaXZJ08JjYaBxGj7Mx7N8TYuOwYmFx4hMtV8ETIuUFd/Q0nXNX9bGc00/uLdVEK1Fmshj61kgnpXkkskbWPvDu7RIxp/nKcL6BB2vA0ESTQNQEsV1c3DmGN2EOdK0LTWhiqGbjixvd4HTS++vZEDPfpw6dGJc4xlk+pw8LzjDlW5c3erngzFpWdveP2f2qpXz0ssOjVxhDNEct1uFdTZHTInIRBFpOiqeQue2ZgaAKSLiEpFRwNktXOMGjhhjqkUkDzi3yXP1ItLSLa9XgXkikiYig7BKnK9t4boO00QeQ5FTurq0Grub+BNwga/Q1+kCGf48Ty9/nudR4Oek1r/TVz2l/iNRXGf3tHqj5vfJE3JEDlBavnZ6Zf2RNvfhr9vt48X33mDafddzx9M/4o2db3HnM/GpHdWLHkNvCs4anmMyHd0mFw+hUGafLVsumL12zTUVFccGvGYMoTYu//2Fc7btj0MYvYDFIrIlUnBsEuDtRDtvYFUu9WEVIGupeufzQHqkn59gTa83+gtWIbLmC6CfxPrg+zbWoVv/Z4yJSREhLQgTY/mL83sCHwL9nI7FAbXAl3yFvge60og/zzMeq8Z48xO3UsHXPKX+Nj8MLpy/TIBdwHB7QjrO03csmvPRh4h7510+jgS8T94oy5Vz6KrRX6G9vb8Aqz7YwJ/X/psHrv1Fi8//+vW/k5ORzfxzbuxSTGHCDU9nrlt1yFUxq0sNJbCcnCM7Jk1efiA7u/KcZk8dBU66cM62aD6sqiil0kjHFr5CXxWx3VKRLD4AZsYgiRcAb5KaSRyiK8t6Fs4kcThxan07xx9WlFCC4eqB68te6PAHjQc3/JcHN1h/FQcqyzhr4TX89c1H+cOqBzlr4TVUBDv/ll240ufWnT1rXGjI8k43kuCqq/uNXffm1ef4Nl20ub4+s+kugns0iceejsjjIH9x/iisUUqm07HY5BVgnq/Qd7CzDfjzPAJ8H2sqrEN7KLuRjZ5Sf7uH+yycv+ynNCs6YSMDuO9YNOejvdr3zrt8NdB85JVQPjnitpXuzIEJd5jO22k733gz/f2zkO79s2LwkG1vjhv3Zjg9vf7CC+dsS9gPfslKR+Rx4Cv0fUjqnK37G+DiLibxPlj3j35E6iZxSJyzx9siJNF98kYv731octiEE+5Qk9NCY2ZcXH/qlu60Pa0lB/aPO2vVyhse1CQeH5rI4+cnkJxHG0apGrjJV+i721foa2thS5v8eR4P1spNJ5NToohm29l4nL/tkNClWltSHw661x4s6eye57gaEx40ZW7d2YfEdHpPdjLYCnRpG6pqnSbyOImUbW151Uzy2wFM9xX62q9X2QZ/nudqrLKt8d37kxx2ekr90ZS/TIQPPIleqrVFO6u2TD0c3JuQx2UONL3H3RCckZlu0vxOxxInRV6vN56Hr6Q0TeTx9Rug0yVJE9T/gKm+Ql+Hy2A28ud5XP48z0+xzrR3Yi90Ino6yusSIZEn3Yi80St7/z0lbEIJOfLtSdbgm4MzR+eYrKir0iWJ171e75NOB9GdaSKPo8gRnT90Oo4Y+jlwma/Q19EqTh/x53n6YRU8+Q6pfT+8uWim1QcBibBg67hEvmDJ0sOQHFXLGkxd75UH/nvQJOgq3wzSe94QnHHGoHCfLh0slEDCwNedDqK700Qefw9gHS6RzCqBa32Fvu/4Cn2dPiTDn+fJx9pa9smYRdY9HMWqu9yey4GOF/yOvb4L5y8b1eyxpBmV765+7/SDtR8m5BQ7gAtJu6rurPNObhi2AkNCfuDogEVer7fbFcBJNJrI4yyyEKzI6Ti6YCtwjq/Q90RXGvHneeYBq4BxMYmqeynxlPqjuX+YCNPqjZLyPnmjV/c/NjVkQgGn42jL7IZJs89uGL8KQ53TsXTSfpzbJplSNJHbwFfoWwosdzqOTlgKnO0r9LVbs7o1/jxPmj/Pcw/wb6wjBNWJoplWzwE+YUMs0Ura++QAIdOQ89q+xysih2UkrFNDY6Z/ov40P4ajTsfSCQu8Xm+33laXKDSR2+f/IGmmyQzWnu4rfYW+Tv9H9Od5BmItjlsQq8C6oSAfH6vYlouB7DjH0hFJPSIH2F8byN9bsz1hp9gbjQ4PPO3qurMPJ9n2tGVer7d5rXEVJx06Kk11nq/Q92b+4vzHgOudjqUd5cCnfYW+Z7rSiD/PcwbwH2BMTKLqvpZ5Sv0V7V+WUNPqcOKI3I91cluXfqbU1NXz6LpN7CuvQIDrzzqN3IEfH1vwSuk2NnxgrasLhcMcqKjkR1deTE5W5wqjvbH/yXOvHvO199JdGe2dJe2oAab3STcGZxx8LGvVlnoJTXI6nnbUAV92OohUoiVabZS/OH8c1g+8lo64SwRbgKt9hb6tXWnEn+f5DFbxh/bO51Uw31Pqb7NQxsL5y9KAfUC7B3/YqB7odceiOR/dv7133uWb6WKxmn+t2chJg/pzzkmjaQiFqQ+FyM5s+b/LO3v28+rWHXzp/HNbfD5aA7NG+OcMu/lkEUn4gU09DVWPZ61+p0qCLR2tmSj+n9fr/b7TQaQSnVq3ka/Qt43ELd36BNaitk4ncX+eJ92f5/kDsBhN4tEwRLd/fDqJlcTB+jCa1+yxLk2v19bXs/3QYc4eay2IT09ztZrEATZ+sIfTR3X97JhDwd2eXdXvvtHlhmyQQXrPecEZZw4OuxN1e9p24nDWuGqbJnL7/RgSqq5yGPiOr9B3ra/QV9nZRvx5niHAy8BXYhZZ97fWU+rfG8V1iTat3iimC97KKqvplZXJkjc38esXXuPRNzcRbGh5MX9dQ4jSfQc5deTQrnT5kVUHnp5RH65LiqpqLiTtyrqp501sGL48Abenfdnr9dY6HUSq0URus0jp1m84HUfEEawCLz/vSiP+PM85wHrgvJhEFUMPHjnMlTu2c8WO7fzz8Il1bNZWV3H2e1u5OrCDqwM7+NOhQ3aGlwyHpLQlpgvewsaw+8gxpo0bzd2fmEVmehqv+Le1eO2WPfvJHdCv0/fGmzOY9Ff2PpJhjAnGpEEbzGrwnH9uw8mrMSRKzPd7vd7/OR1EKtJE7gBfoe9+4EWHw9iEVWq1S//x/HmeL2AVMxkRk6hi6L1gkMeOHmXJmFyezB3L8qpKAnUnbsk9MzubJ3PH8mTuWL480NYZ7Gi2nU0GxtsQS2fEdETuzu6BO7sHYwZYi9tOHTmMXUdbnrza+OEeTh8d2yPZj9TtH7+j0rc6po3G2Smh0dMuqT/tXQxOn/EdAO52OIaUpYncOZ8HolmtHA//Aqb5Cn3bO9uAP8+T6c/z/AX4C5AVs8hiaFtdkNOys8l2uUgX4azsHF6ucOqP/ATveUr90ezPT9TRODQbkS9YsvQDunDbqE92D/rm9ODAMesOz3v7DzGkz4ml+Gvq6tl28DCTRwzpbFetevPQc7PqQrVJtZVuVHjgqZ+qO+eoy8gHDoVggFu9Xm/C/OdKNZrIHeIr9H0AfNPmbkPAAl+h7yZfoa+6s4348zzDsUbhX4hZZHFwcmYW66qrORoKURMO82pVJXsb6k+4bmNNDVcHdvDFXR/yXtC2Wcpkn1YHGLFw/rJ+zR7rUhKce/pkHlmzkXv/9yp7jh7jQs94Vr6/k5Xv7/zoms279zFxyECy0uOyyNz18t6HehtjOv3/wwn9Ta+xNwRnZGeYNCfKQf/O6/VGU2JYxUnCb7fo5v4CXAdcaENfB4F5vkLfK11pxJ/nmQk8BsRmlVEcjcvK4vP9B3Dbhx+Q43IxMasH6XL8OS2Tsnrw0rjx9HS5WFFZyVd37+L5k2ypIhvNtPpw4CwbYumKUzm+TrwPmNnZxkb0c3PXxce/fPr440sRnDV2FGeNbV7qPXaO1Zflvnds/asT3FMTbs1HW3LIGnRTcFbPJ7JWr6mU2nNs6tZHcpeg7hZ0RO4gX6HPYE2xd3q1eJTWY90P72oS/wqwjCRI4o2u6duXJ3LH8uDoMbjT0hiTcfziqF5pafR0Wf8NZvfqRYMxHGllpXQMHQRWRnHdlST+CXFJXaq1NRsOvzyrNlQdzfnwCSWDtJx5welnDQ33tWOEHARu9nq9ibLYLmVpIneYr9AXAL4Vxy4WAzMjU/md4s/z9PDneR4A/kDiFrNpUVkkKe+pr+elygou69PnuOcPNjTQWBRpU00NYaBvWtwPGHvGU+qPpsZ3Ik+rN0r6Uq2tkJf2PDjIGJN0930FcV1ed+bsvIYR8T49rcjr9XaXv++kplPrieE+4Frgghi2WQ983VfoW9iVRvx5ntFYpVbPjElUNvvant0cDYXIEOF7g4fgTkvj30etBb439O3HCxUV/PvoEdJFyBLh3uHDEYn7IDiaafXewJx4BxIDzUfk3eYHe1XD0ZH+8lWvTeo7fZbTsXTGzIa82f1Nr9Ur09+dgsS8QNPzwO9i3KbqJC3RmiDyF+efhDUtGYsTwvZjnR/+elca8ed5LgAeJfGqiiWzamCgp9Rf09ZFC+cvux5YYk9IXVIJ9Llj0ZyPfpDcO+/yAN2oxv4Vo768Lie991Sn4+isXa4y3/MZG4cjDIhRkzuBM7xe74mFGZQjdGo9QUS2gn07Bk2tBs6IQRJfgLXXXZN4bL3QXhKPSIZpdYBewNhmj3WL++SNXtrz4EhjzFGn4+iskeEB+dfUnVPhMrKz/avbFQSuiWUSF5GQiGxs8itXRNpdQyIiARE54eeTiJwvItObfD9fRD4Tq3gTkSbyxPJHoCs1lP8CzPYV+vZ0tgF/nifHn+d5BLgHiPvN4hQUzbR6OnCZDbHESne9Tw5ATahi6KYjK5zY1hUz/Uyv3BuDM3tlmLTNXWzqK16vd31MgvpYjTFmSpNfAWPM9PZf1qrzsc4nAMAYs8gY888uR5nANJEnkMgq9tuwpl87Igh8wVfou91X6DuxdFmU/Hmek4BVwI2dbUO1KQQsjeK684G+cY0ktrrlyvWmSsvXzKisP5pUVd+ayyZzwM3BWeN6h3t09n38zev13h/ToFohIpWR310i8icReUdElorIsyJybZNLvyoib4mIT0TyRCQXmA98PTK6nyUiXhH5RqS95SLyCxFZKyJbRWRW5PEcEXlURDaJyBIRWSMiSXM7RRN5gvEV+t6nY6UOd2ONwrv0H8yf57kEWMeJoysVOys9pf5oirkny7R6o249Im/00p4HxxtjbC3GH2vppGVfXzf97GGhfh3dnrae+B2IlN1kWv3JZs99CsjF+rD4eWBas+cPGWPOwFow/A1jTADrhMnfREb3r7XQX7ox5mzgLuCHkce+DBwxxpwK/IQkW9yriTwB+Qp9fwYeiuLS14AzfYW+NV3pz5/n+TbwLNC8SpeKraeivO7KeAYRB81H5FshYQ7yiJlguHrg+rIX3nc6jq4SxFVQf8bsSQ0jV2CIZhvkYeDaOJ5q1nRq/epmz80EHjPGhI0x+4DmtTD+E/l9PVbCj0ZLr5kJ/BvAGLOZJJtV0kSeuG4H2rqf9QfgQl+hb39nO/DneXr58zxPAD9D/y3YIZr742cAo22IJZbGL5y/7KPtTQuWLG0AkuJI0I7aVrHx3PK6Q9EU80l40xsmzp7ZkPcmhrYWX4axir4EbAqrufb2gjZ+YAwR/Xbqll6T6IWX2qQ/vBNUpBb6NcCxZk/VAIW+Qt+dvkLfiYXDo+TP80wA1mBNXan4e8dT2sqZnMdLtml1sBZFTm72WLecXgdYtvfhSWET3ud0HLGQFxpxzmX1p2/H0Notg297vd7nbQ3qeK8D10TulQ/BWj/SngrgxNN22u/negARmcSJs0wJTRN5AvMV+rYCn2vy0E6sKm1dWoHpz/NcAawFJnWlHdUhT0V5XTImckiBBW+N6sK1fdceLNnldByxMjzcf/K1dedWuYzsaPbU/V6v95eOBPWxJ4BdWLOTf8YafLR3wt4zwNWNi92i7OdPwCAR2YRVaXNTFP0kDK3sluB8hb4n8hfn/wZrQdENvkJfpxfb+PM8grW44wck+VRSEopmWj0XOC3+ocRFSix4a7SzasvUCcGzXu+fNbTTB8Qkkr6m55gbgzMPP5a1alOdNJwKvAR8yY6+jTG9WnvMGBMWkW8YYypFZADWAMQXeS63yfXriIzWjTFbOf7f42tNrju/ydeH+PgeeS1wizGmVkTGAS9jDZySgo7Ik8P/AZd0MYm7sZLJD9EkbrfdWDsC2pOso3FIoRF5o1f2/uu0sAl1m5F5Npn9bwrOnDAg3PsJrMVtcT89KEpLRWQjVkL+SWTRW6zlAK+LyNvAk8CXjDGd3sprNy3RmgL8eZ5JWP84JzgdS4q6z1Pq/3J7Fy2cv2wZsa23b6cDdyyaM6TpA/fOu/wg3bwy4IickzfMGHz1FLGhQL9NdgPTRhbP+tDpQFT0dETezfnzPNdg3VfSJO6caKbV+wFJeThHxOCF85cNbvZYt55eB9hd/d7ph4K7WtqrnIzKgUs1iScfvUfeTfnzPC7gp0CR07GkuGOcuPe1JZcTg/+P+49+yN9f+slH35cd20vB1Fu54NRrjrtu656NPLHyT4TCDfTq4eauK3/T1a7Bui/5UpPvfSTvDEPUVux7dOrVY+4KpElartOxdEEQmDuyeFa3//DVHWki74b8eZ7+wCPAJU7HonjeU+qP5l5bTO6PD+k7im9f+xcAwuEQ331oHqeNPX49VnWwkkdf+x1fvqyY/r2HUFFzJBZdg3WfvGki7/b3yQFCpiHntX2PV8ween1YRJJxltMAnxlZPGu504GozknGf3SqDf48z2lYC6s0iSeGp9q7YOH8ZVnE4e/r3d0bGNRnOP17H3frmnXvv8xpY2d99Hjv7JgV9EupletN7a8N5O+r2d6VA4+cYoAvjCye9ajTgajO00TejfjzPDcCKznxWEnljHqs0rftuQjrONCYWr/tFc4cP+eExw8c3UV1sILfPn03v3hiPmu2vhCrLpuvXN8MUZUA7RZe3//ktFC4PplKuBrg9pHFs/7mdCCqazSRdwP+PE+aP8/za6zp9Byn41EfWeEp9UdTVCLm284aQvX4dq7k9JPOO+G5sAnx4aH3+NKlP+WOy37B8+sfYv/RmKxvmrRw/rKPjr5dsGRpNbA9Fg0ngzChrOX7ltQbYxJl21ZbDDB/ZPGsvzodiOo6TeRJzp/nGQi8CHzd6VjUCZ5q74KF85cJcEWsO97y4VpGDTyZPjn9T3iub89BeEadRVZGNr2y3Ywfls/uspjk22xgfLPHUuI+eaNDwd2eXdXvvu50HO0wwJdHFs/6i9OBqNjQRJ78QsAop4NQLXo6imvOBYbGuuN17y/jzHEnTqsDnJo7nW17fYTCIerqawkcKGVov5id05Ky98kbrTrwzIz6cF0iHxrzlZHFsxY5HYSKHU3kSc5T6j+CNTVb4XQs6jhveUr90cxXx3xava6+ltJd65nSZLX6a1ue4bUtzwAwtN8YJo06i58/9nl+9eQdTM+7jOH9Y7asIuUqvDVnCGe8sveRdGNMIh7l+pWRxbP+5HQQKrZ0+1k34Cn1b/HneW7GmsrVD2eJod0iMBExT+SZGT345a1PHffYrEnHz95fNGUeF02ZF+uu4cREnnIjcoAjdftP3lHpW35S71PPdzqWJu4cWTxrodNBqNjTH/rdhKfU/wzwfafjUB95qr0LFs5fNhHIi38otmo+tb4NqHYiEKetO/T8rLpQbaJ8kLlrZPGsPzgdhIoPTeTdiKfU/zNgidNxKAKeUn80U8rJfEhKa8YunL/so610C5YsDQPvOBiPYwwm7eW9D/U2xjj5QSYE3DayeNbvHIxBxZkm8u7nszQ5tk85wrFp9QQgwCnNHkuUUantjtWX5b53bH00J9/FQw1w9cjiWX93qH9lE03k3Yyn1F+DtZ1po8OhpLKn2rsgcsDIufEPxREpv+CtqQ2HX55VG6reYHO3h4GLRhbPesbmfpUDNJF3Q5EiJJcA7zkdSwo6THQzIlfSff//pfwWtGbk5T0PDjLG2LWz5ANg5sjiWStt6k85rLv+IEl5nlL/AeBirPOFlX1KPKX+UBTXdcdp9UY6Im+msuHoSH/5qo02dLUeOHdk8axE3seuYkwTeTfmKfXvxBqZH3Y6lhTyVHsXLJy/rCdWffXu6rhEvmDJ0kPAPodiSRi+I6/Nqm6oiOf98qXA7JHFs/bGsQ+VgDSRd3OeUv87wGVApdOxpIBa4H9RXHcJ0CPOsTip/8L5y0Y0eyzlR+UAL+15cKQx5mgcmv4j1nniVXFoWyU4TeQpwFPqXwNcDURzLrbqvJc9pf5ofpB252n1RnqfvAU1oYqhm46s2BLDJuuBr44snvXVkcWzormlo7ohTeQpwlPqfwm4mRQ6VtIB7W47i5wOVmBDLE7T++StKC1fM72y/ujqGDS1G2sq/Y8xaEslMU3kKcRT6n8cmO90HN1UmOgOSZkFDIhzLIlAR+RteHnvQ+OMMYe60MQrwBkji2etilVMKnlpIk8xnlL/X4FvOh1HN7TGU+rfH8V1qTCtDieOyLcAyXBOty1qQ1WD3ip78f1OvvyXwMUji2cdiGVMKnlpIk9BnlL/PcCX0Wn2WErlam4tyVs4f1lG4zcLliwNonUNjvN+xYZzy+sOvdGBlxzDqtT2Lb0frprSRJ6iPKX++4BbsBbLqK57qr0LFs5flg/E7LzQBJcJTGz2mN4nb2bZ3ocnGxOOZibHB0wdWTzrqXjEISIhEdkoIptF5BkR6dvJdu4XkUkxDk+1QxN5CvOU+v8FzMWqyaw6711Pqf/dKK6bG+9AEoweadqOunBt3zWHnv2gncsexiryEs8ZjRpjzBRjzClYdSfu6EwjxpjPG2NiuSpfRUETeYrzlPqfxdrXXO50LElMp9Vb1nzBm47IW7Cz8p2zDgf3vd7CU5XA50cWz7plZPEsO09QWwWMABCRs0VkpYhsiPw+MfJ4mojcIyI+EdkkIl+NPL5cRKZGvq4UkZ+KyNsislpEhkQeHxf5/k0R+bGIaI2LLtJErvCU+l8DLgB08UznPNXeBQvnLxsJnBn/UBKKjsij9Mref50WNqFdTR56AzhtZPGsv9kZh4ikARfy8Q6MUuA8Y8zpwA+An0Ue/yLWbaLTjTGnYs0aNNcTWG2MOQ14FfhC5PHfAb8zxpwF7InLG0kxmsgVAJ5S/wasrVHtTfOp4+0H1kRxXaqNxqHZiHzBkqUBrAVbqpkGU9d75YGnDxpjgsC3gfNGFs/abmMI2SKyESgD+gMvRh53A4+JyGbgN8DkyOMXAYuMMQ0AxpiWykDXYZWNBasGfG7k62nAY5GvH4ndW0hdmsjVRzyl/q3ATCCa+73K8oyn1B/N6v9UTOSjFs5f1rfZY5udCCQZ7K7e6tp6bN3UkcWzikcWz7J7R0mNMWYKMAZroWLjPfKfAK9E7p1fwcelhQUw7bRZb4xpvCYEpMc0YvURTeTqOJ5S/4dYI/P1TseSJKKp5uYGzo9/KAlJp9fbVw/8CDjrwvvudvSDjjGmHLgT+IaIZGCNyBtPULy1yaUvAPNFJB1ARPp3oJvVwDWRr2/oUsAK0ESuWuAp9R/EumcezQEgqawKeCmK6y4DMtq9qnvSUq1t2wictWDJUu+CJUsTYiuoMWYD8DZWkv0l8HMReQNIa3LZ/Vi34TaJyNvATR3o4i7gbhFZCwxDF9p2mU51qBZ5Sv0V/jzPZViLW77ldDwJ6n+eUn9tFNel4rR6Iy3V2rJjWIvH/rhgyVLHi7sYY3o1+/6KJt9OaPL19yPPNwB3R341fd35LbVpjHkceDzy7W7gXGOMEZEbgHge7ZoSNJGrVkXu/Rb58zxvAX/HWoWqPhbNtHomcKkNsSQqnVo/0cPANxYsWZqqZ7SfCfxRRAQ4CnzO2XCSn3y8FkGp1vnzPPlY26xOcjiURNEADPGU+ltarfuRhfOXfYLUvkVxDOh7x6I5H/2guXfe5R8Ao5wLyTFbgDsWLFm63OlAVPei98hVVDylfh8wldROSk293l4Sj5gb70ASXB+sldBNpdp98kqsg4qmaBJX8aCJXEXNU+o/grVw6xdOx5IAoplWF+BKG2JJdKl6n9wA/wLyFixZek+iLGZT3Y/eI1cdovfNPxJNWdYziZS6THH5HH9WeyqMyF8Avr1gydK3nA5EdX+ayFWneEr9j/rzPH5S8775Jk+pf0cU182NdyBJIpVG5GuBogVLlr7idCAqdWgiV53mKfX7/HmeqcCDQIHT8dhID0npmOYr10uxyndmOhBLvLwLfHfBkqVPOB2ISj16j1x1iafUf8RT6r8cq6RjqhyHGs398ZOAU2yIJRmcvHD+sqzGbxYsWdqAlcy7g91YB4hM1iSunKKJXMWEp9T/J+B0un9p1w89pf5o3uPceAeSRNKBSc0eS/b75O9hneZ10oIlS/+aCEVdVOrSqXUVM55S/7v+PM80wAsU0T0/KD7d/iWATqs3lw9saPJ9st4nX4+1a+OJBUuW2n2wiVIt0kSuYspT6q8HvuvP8zwL/AM42eGQYi2aafUBwAwbYkkmzRe8JduIfBlQvGDJ0hfbvVIpm2kiV3HhKfW/4c/znIZVq/1OusfovBxYHsV1V3D8ARMqOUu1hrA+uP1iwZKla50ORqnWdIcfripBeUr9NZ5S/9eB87DuKSa7ZyMzDu3RafUTHTciX7Bk6W4gmsp4TjiA9QH0pAVLll6jSVwlOk3kKu48pf43gNOA3wDJfF8xmmn1bOATNsSSbIYunL9sYLPHEm1U/ipwMzBqwZKl312wZOkHTgekVDR0al3ZwlPqrwHu9ud5HgR+B8xyOKSOqgOei+K6i4CcOMeSrE7FutfcyAfMdiiWRoeAxcBfFyxZ+q7DsSjVKZrIla08pf4NwHn+PM884JfAaIdDitYrnlL/sSiumxvvQJJYPscncqcWvNUCS7HqoC9dsGRpnUNxKBUTmsiVIzyl/iX+PM/TwP8B3wKyHQ6pPdFMq7uAy22IJVk5Waq1HngRK3n/d8GSpRU29q1UXGkiV46JTLf/yJ/n+TvwK2CewyG1xhDd/vFpwOA4x5LMmq9c34z1Zytx6i+Mdd/7X1j7vsvi1I9SjhJjjNMxKAWAP88zE/g9VoW4RPKmp9R/dnsXLZy/7FfAN2yIJ1lVA73vWDTnowWP9867fBuxPXSnEngZeBZr2nxPDNtWKiHpiFwlDE+p//XIISy3AT8FBjkcUiM9JCU2coBxHL8VcRNdT+SlWIn7WeA1veetUo0m8iQmIt8FbsIqXBEGbjfGrOlim+cDdcaYlV0OsBMi553/1Z/neRT4NvBloLcTsTQRzf1xD92vil08nMrxidxHxxcIHgVeB54Hnl2wZGk0R8oq1W1pIk9SIjINa2HVGcaYoIgMpIvHQopIOnA+1vSkI4m8kafUXw4U+fM8v8SqDHcn0M+BULZ5Sv2bo7hubrwD6SbygaanhEWzcn0H8AZW8n4DeGfBkqV6T1CpCE3kyWsYcMgYEwQwxhwCEJEAsAS4IHLdTcaY90VkDPB3rOnqg8BnjTEfiMgDWBW2To/8PgMIicgtwFeBocAPsUb95caY8+x5exZPqf8w4PXnee7FOir169i7oEyn1WOrvVKtwchjK4kkb73PrVTbNJEnrxeAH4jIVuAlYIkxZkXkuWPGmLNF5DPAb7FG7n8E/mmMWSwin8NaVDY3cv0E4CJjTEhEvEClMeYeABHxAZcYY3aLSF973tqJPKX+CqDYn+f5Hdb5z98ERtjQdTTT6sOAdhfDKeDELWjvYe1Y2ARsBEoj55UrpaKkq9aTmIikYVVIuwC4HevoUC8wxxizXUQygH3GmAEicggYZoypjzy+1xgzMDIif8UYszjSppfjE/kirAVKjwL/McYkxBYef54nE7gV6z2PjVM3h4ChnlJ/m2dNL5y/7IvAn+MUQ3cTxlq5Xu10IEp1F1prPYkZY0LGmOXGmB8CXwGuaXyq6WWtvbzJ11Vt9DEf+B4wCtgoIgO6EHLMeEr9dZ5S/1+wZhMKsVYux9rS9pJ4xNw49N1duYBTnA6is0TEiMiDTb5PF5GDIrI08v2VIlLkXIQqFWkiT1IiMlFEmq6SngLsjHw9r8nvqyJfrwRuiHx9M9bCoZZU0GSVuIiMM8asMcb8AGuEOqrr0ceOp9Tf4Cn1/xOYDBQATwGxmpqNZlq9FzAnRv2liub3yZNJFXCKiDRWIrwY2N34pDHmaWNMsSORqZSliTx59QIWi8gWEdkETMKaVgfIEpE1wNewFoeBter7s5FrPx15riXPAFeLyEYRmQX8SkR8IrIZq0rW2/F5O13jKfWHPaX+Zz2l/quxPmx8G9jWhSZrsNYhtOeTQFYX+klFze+TJ5vnsD40AtyIVTkOABG5VUT+GPn6OhHZLCJvi8irkcfSROSeyP+pTSLyVdujV92OLnZLUsaY9cD05o+LCMBCY8yPml0foIWRozHm1mbfb+X4H7SvdT1ae3lK/fuwFsb9Amv9wBeAq+lYwn3RU+qP5j7u3I5HmPKSeUQO8G+shaZLsf6v/J2WT/P7AScuFP0i1pqO040xDSLS346AVfemiVx1W55Sv8E6bWuZP88zAPgMVlL3RPHyaKbV04HLuhRkakrqRG6M2SQiuVij8WfbuPQN4AEReRT4T+Sxi4BFxpiGSFuH4xmrSg06td7NGGNyG/eUq495Sv1lnlL/bzyl/knATOABWl/kF8a6xdCe83CmSE2yGxjZspfMngbuocm0enOtLBQVWl+AqlSnaCJXKcdT6n/DU+r/LFZxnKuBh7DKfjZa6Sn1H4yiqbmxjy5lJPt98r8DPzbGtHoUaysLRV8A5keqKKJT6yoWdGpdpazIMapPAU/58zwZwIVYW/jWRtmEVnPrvHzgf04H0VnGmF3A79q57FeRnSWCdSLb21hHt04ANolIPfBXrGJNSnWaFoRRqhMWzl82BdjgdBxJ7ME7Fs35jNNBKNUd6NS6Up2jo/GuSeoFb0olEk3kSnXOpU4HkOQ8kVX/Sqku0kSuVOfMwRqV3w/sdTiWZJSFda9YKdVFeo9cqS5aOH+ZAGcCnwBmYx0F29PRoJLDDXcsmrPE6SCUSnaayJWKsciU8ZlYSf08rH3rbkeDSkw/u2PRnO86HYRSyU4TuVJxtnD+MhfWoTazI7+mAYOdjClBPHPHojlXOh2EUslOE7lSDlg4f9kQ4LRmv/JIrdoOO+9YNCfX6SCUSnaayJVKEAvnL8vCOsWuMbFPBnKB0ST3CWshrAWB7wJbgHcaf92xaM4RJwNTqjvQRK5UgossphuCldTHRH41/Xo0Tc6Qd8Ax4IM2fu2+Y9GcWJ0Rr5RqRhO5Ut1AZDQ/AOjf5Hc3VoLvDfSJ/J4ZeYk0+dX8ewEasBJ0eTu/H71j0ZzK+L47pVRbNJErpZRSSUwLwiillFJJTBO5UkoplcQ0kSullFJJTBO5UkoplcQ0kSullFJJTBO5UkoplcQ0kSullFJJTBO5UkoplcQ0kSullFJJTBO5UkoplcQ0kSullFJJTBO5Ul0kIt8VkXdEZJOIbBSRc0QkICIDY9D2+SIyPRZxKqW6p3SnA1AqmYnINOBy4AxjTDCSvDPbeVlHnA9UAis7EFO6MUaPDVUqReiIXKmuGQYcMsYEAYwxh4wxeyLPfVVE3hIRn4jkAYhIfxF5KjJ6Xy0ip7b2uIjkAvOBr0dG+rNEZJCIPCEib0Z+zYi83isifxGRF4B/2v2HoJRyjiZypbrmBWCUiGwVkT+JyOwmzx0yxpwB3Ad8I/LYj4ANxphTge/wcdI94XFjTABYBPzGGDPFGPMa8LvI92cB1wD3N+nvTOAqY8xNcXmnSqmEpFPrSnWBMaZSRM4EZgEXAEtEpCjy9H8iv68HPhX5eiZWAsYYs0xEBoiIu43Hm7sImCQijd/3EZHeka+fNsbUxPDtKaWSgCZypbrIGBMClgPLRcQHFEaeCkZ+D/Hx/zXhRKaNx5tzAdOaJ+xIYq/qUOBKqW5Bp9aV6gIRmSgiJzd5aAqws42XvArcHHnt+VjT78faeLwC6N3k9S8AX2nS/5SuvQOlVLLTRK5U1/QCFovIFhHZBEwCvG1c7wWmRq4t5uPRe2uPPwNc3bjYDbiz8ToR2YK1GE4plcLEmJZm75RSSimVDHRErpRSSiUxTeRKKaVUEtNErpRSSiUxTeRKKaVUEtNErpRSSiUxTeRKKaVUEtNErpRSSiUxTeRKKaVUEtNErpRSSiUxTeRKKaVUEtNErpT6/+3VAQkAAACAoP+v2xHoCYExkQPAWMlxYpF++HAdAAAAAElFTkSuQmCC\n",
      "text/plain": [
       "<Figure size 1440x576 with 1 Axes>"
      ]
     },
     "metadata": {},
     "output_type": "display_data"
    }
   ],
   "source": [
    "myexplode = [0.1, 0.1, 0.1, 0.1, 0.1, 0.0, 0.0, 0.0, 0.0, 0.0, 0.0, 0.]\n",
    "plt.figure(figsize=(20,8))\n",
    "plt.pie(labels=genres.index, x=genres, explode=myexplode, autopct=\"%.1f\")\n",
    "\n",
    "plt.title('Самые популярные жанры')\n",
    "\n",
    "plt.show()"
   ]
  },
  {
   "cell_type": "markdown",
   "metadata": {},
   "source": [
    "По диаграмме распределения можно выделить 5 жанров, вмещающих в себя большинство игр: Action, Role-Playng, Adventure, Sports, Role-Shooter. Двумя самыми малочисленными жанрами стали стратегии и пазлы."
   ]
  },
  {
   "cell_type": "markdown",
   "metadata": {},
   "source": [
    "А теперь узнаем какой жанр игр пользовался наибольшей популярностью у пользователей и принес рвзработчикам больше всего продаж:"
   ]
  },
  {
   "cell_type": "code",
   "execution_count": 47,
   "metadata": {},
   "outputs": [
    {
     "data": {
      "text/html": [
       "<div>\n",
       "<style scoped>\n",
       "    .dataframe tbody tr th:only-of-type {\n",
       "        vertical-align: middle;\n",
       "    }\n",
       "\n",
       "    .dataframe tbody tr th {\n",
       "        vertical-align: top;\n",
       "    }\n",
       "\n",
       "    .dataframe thead th {\n",
       "        text-align: right;\n",
       "    }\n",
       "</style>\n",
       "<table border=\"1\" class=\"dataframe\">\n",
       "  <thead>\n",
       "    <tr style=\"text-align: right;\">\n",
       "      <th></th>\n",
       "      <th>sum</th>\n",
       "      <th>median</th>\n",
       "    </tr>\n",
       "    <tr>\n",
       "      <th>genre</th>\n",
       "      <th></th>\n",
       "      <th></th>\n",
       "    </tr>\n",
       "  </thead>\n",
       "  <tbody>\n",
       "    <tr>\n",
       "      <th>Shooter</th>\n",
       "      <td>170.94</td>\n",
       "      <td>0.515</td>\n",
       "    </tr>\n",
       "    <tr>\n",
       "      <th>Sports</th>\n",
       "      <td>109.48</td>\n",
       "      <td>0.180</td>\n",
       "    </tr>\n",
       "    <tr>\n",
       "      <th>Platform</th>\n",
       "      <td>18.09</td>\n",
       "      <td>0.140</td>\n",
       "    </tr>\n",
       "    <tr>\n",
       "      <th>Fighting</th>\n",
       "      <td>28.22</td>\n",
       "      <td>0.125</td>\n",
       "    </tr>\n",
       "    <tr>\n",
       "      <th>Role-Playing</th>\n",
       "      <td>101.44</td>\n",
       "      <td>0.110</td>\n",
       "    </tr>\n",
       "  </tbody>\n",
       "</table>\n",
       "</div>"
      ],
      "text/plain": [
       "                 sum  median\n",
       "genre                       \n",
       "Shooter       170.94   0.515\n",
       "Sports        109.48   0.180\n",
       "Platform       18.09   0.140\n",
       "Fighting       28.22   0.125\n",
       "Role-Playing  101.44   0.110"
      ]
     },
     "execution_count": 47,
     "metadata": {},
     "output_type": "execute_result"
    }
   ],
   "source": [
    "genre_sales = good_data.groupby('genre')['total_sales'].agg(['sum', 'median']).sort_values(by='median', ascending=False)\n",
    "genre_sales.head(5)"
   ]
  },
  {
   "cell_type": "code",
   "execution_count": 60,
   "metadata": {},
   "outputs": [
    {
     "data": {
      "image/png": "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\n",
      "text/plain": [
       "<Figure size 1080x432 with 1 Axes>"
      ]
     },
     "metadata": {
      "needs_background": "light"
     },
     "output_type": "display_data"
    }
   ],
   "source": [
    "plt.figure(figsize=(15, 6))\n",
    "\n",
    "sns.boxplot(data=good_data, y=y, x='genre').set(ylim=(0, 2.5))\n",
    "\n",
    "plt.title('Продажи по жанрам')\n",
    "\n",
    "plt.show()"
   ]
  },
  {
   "cell_type": "markdown",
   "metadata": {},
   "source": [
    "Лидером рынка становятся жанр Shooter, или \"стрелялка\"."
   ]
  },
  {
   "cell_type": "markdown",
   "metadata": {},
   "source": [
    "## Портрет пользователя каждого региона"
   ]
  },
  {
   "cell_type": "markdown",
   "metadata": {},
   "source": [
    "### Северная Америка"
   ]
  },
  {
   "cell_type": "code",
   "execution_count": 32,
   "metadata": {},
   "outputs": [
    {
     "data": {
      "text/plain": [
       "<Figure size 432x288 with 0 Axes>"
      ]
     },
     "metadata": {},
     "output_type": "display_data"
    },
    {
     "data": {
      "image/png": "iVBORw0KGgoAAAANSUhEUgAAAcEAAAHRCAYAAAASbQJzAAAAOXRFWHRTb2Z0d2FyZQBNYXRwbG90bGliIHZlcnNpb24zLjUuMSwgaHR0cHM6Ly9tYXRwbG90bGliLm9yZy/YYfK9AAAACXBIWXMAAAsTAAALEwEAmpwYAABlbElEQVR4nO3dd3wb5f0H8M/37iTZlmx5byd29nJ2mFmElpUCHUAp0IY9mtLSX0rrDqjaUgiUQiltMVBGWkbDHnELFGgGAQJkmuzl7OkhL1nz+f1xMjiJHa+THkn3fb9efmFLp7uPY6yv7+55vg8JIcAYY4yZkSI7AGOMMSYLF0HGGGOmxUWQMcaYaXERZIwxZlpcBBljjJkWF0HGGGOmxUWQMcaYaXERZAmBiGqIyENEzR0+2ojogyjnKCUiQURaNI/bH0S0OPxvVdLhsa8QUU0X29YTkS2qIRmLEC6CLJFcKIRwtH8AuFl2oDjSAuCOk21ARKUApgEQAC6KQibGIo6LIDOVDmc9J5wpEtGLRHSQiNxEtJSIRocf/3aHs8tgh9c3h5/PIKK3iOgQgB+Ed/dbIjpCRG8QUVqHY9xARNuIqC78XGGH5wQR/ZCIdhDRUSL6AxEp4eeuDj//4w7bXxB+7K7w1zOJaG8n37MW3q70JP80fwbwHSIacpJtvgfgYwBPA5hzku0YixtcBJnZKADmdnGm+B8AQwHkAlgF4FkAEEIs7HB2uQzADzp8DQC/A+AGUAqgLfzYAQADAAQBuACAiGYBuAfAZQAKAOwC8K/jMnwDwGQAEwFcDODaDs9tw7HF53oAG3v13XdtH4DH27N24XvQ/02eBXAuEeUZdGzGpOEiyMzGCsDX2RNCiCeFEE1CCC/0YjCOiJw92OeFAP4qhPAA+Hv4sUfCXz8E4Jvhx64E8KQQYlX4GD8HcPpxZ2j3CiHqhBC7AfwJwHc6PHcIQA0RnU5EuQAGAvikB/l66h4AF7afAXdERFPDx3tBCLESwHYAVxh4bMak4CLIzCYTQP3xDxKRSkTziWg7ETUCqAk/ld2DfeYBONLFc4cB5Ic/L4R+9gcAEEI0A6gFUNRh+z0dPt8Vfk1Hf4d+Bng1gH90crxCImoID15ZTUTn9iB/e54jAP4C4LedPD0HwDtCiKPhr58DXxJlCSBuRrAx1l9EZIV+NrOlk6evgH758SvQC6ATerGkHuz6CLoulrnQz+AAYH/4+O157ACyoF+KbFcCYH348wHh13T0HwD3AzgN+iCVCcc9v18IUUxEBOAaAAsAFPfge2j3BwA70OEMk4iSoV/CVYnoYPhhG4B0IhonhFjbi/0zFlP4TJCZAhElAbgTwDYhRGdFMBWAF/qZWQqAu3ux+38D+H64WFwffuyW8Nc/BPBm+LHnAFxDROPDUwzuBrBCCFHTYV+3hwfalAD4EYCFHQ8khAgCuBfAM0KIuq4CCX2NtAb08ndcCNEA4I8Aftrh4a9Dv7c5CsD48MdI6PdHv9eb/TMWa7gIMrP4FYAzAFzSxfP/gH75cR+ADdBHQfZm3znh17fPn8uHfmkzCeGpB0KI98Kfvwx94MxgAJcft6/XAawEsAZAFYAnjj+YEOIpIcQ9XWTJJ6K94VGidwG4rhffR7uHoBe9dnMAPCWE2C2EONj+Af3S6ZXxNCeSseMRL6rLmHHCg1x2ArAIIQK9fK0AMFQIsS0S2RhjJ+IzQcYYY6bFRZAxxphp8eVQxhhjpsVngowxxkyLiyBjjDHT4iLIGGPMtLgIMsYYMy0ugowxxkyLiyBjjDHT4iLIGGPMtLgIMsYYMy0ugowxxkyLiyBjjDHT4iLIGGPMtLgIMsYYMy0ugowxxkyLiyBjjDHT4iLIGGPMtLgIMsYYMy0ugowxxkyLiyBjjDHT4iLIGGPMtLgIMsYYMy0ugowxxkyLiyBjjDHT4iLIGGPMtLgIMsYYMy0ugowxxkyLiyBjjDHT4iLIGGPMtLgIMsYYMy0ugowxxkyLiyBjjDHT4iLIGGPMtLgIMsYYMy0ugowxxkyLiyBjjDHT4iLIGGPMtLgIMsYYMy0ugowxxkyLiyBjjDHT4iLIGGPMtLgIMsYYMy0ugowxxkyLiyBjjDHT4iLIGGPMtLgIMsYYMy0ugowxxkxLkx2AsURQWlGlAsgEkBX+rxNAGoDU8H/TAKSENxfhj46fi04e9wKo6/BR2/55zfzZjZH9jhILEQUBVEN/z9sIYI4QopWIfgngCgBBACEANwkhVnR43cMArhFCOCTEZlFAQojut2LMxEorqghAEYBBAAaH/zsIQCmAHADZANIBUBRj+QHU49jiuBfAdgDbwh/ba+bPbotipphFRM3thYyIngWwEsBHAB4AMFMI4SWibABWIcT+8HaTAfwIwDe4CCYuLoKM4YtCNxTAcHxZ6Nr/WwbAJi9dnwkA+xAuiPiyOG4DsK1m/uxmidmi6rgieDOAsQDehX6Wd2En26vh568AsJWLYOLiIshMqbSiahCAKQAmh/87EfqlS7MQ0IvhJx0+VtfMn+2VmipC2osgEWkAXgbwFoB/AvgA+mXqdwEsFEIsCW//IwCKEOLBjgWUJR4ugizhlVZUlUAvdu0FbxL0+3bsWH4A63BsYdxUM392SGoqA3S4JwgAywDME0L4wmd80wCcBeAmABUA3gHwAvTLpAEugomNiyBLOKUVVcUAzg1/TAOQLzdRXGuCfv9sOfSzp49q5s8Oyo3Uez0pZER0CYA5ACoBPAGg/X7qAAA7hBBDIpuSycBFkMW90oqqZAAzoBe9cwCMkpsooTUAeA/AfwC8VTN/9j65cXqmsyJIRMMBhIQQW8Nf3wUgXQjxg+5eyxIHF0EWl0orqsqhF7z2s70kuYlMqxr6GeJbAD6omT/bJzlPp7oogpMAPAx9ZG8A+j3SG4UQR7t7LUscXARZXCitqFKg37e5HMAFAArlJmKdaAbwPoB/A3i5Zv7so91sz5h0XARZTCutqJoCfZj6twEUSI7Dei4AfYDJMwBer5k/u1VyHsY6xUWQxZzSiqrh0Avfd6DP3WPxrRnAqwCeBfBuPA6sYYmLiyCLCaUVVUXQL3VeAX3OHktMBwEsBPBMzfzZn8kOwxgXQSZNuN/mRQDmQr/fxw3dzWUz9MulT9bMn71fdhhmTlwEWdSVVlRlALgBwPcBDJQch8nnB/AigAf57JBFGxdBFjWlFVVjAPwQwJX4ckUFxjr6EMCfALzC9w5ZNHARZBEVntpwEfTid5bkOCx+7AbwFwCP18yf3SA5C0tgXARZRJRWVKUDuB76Jc8yuWlYHGsBsADAn2vmz94sOwxLPFwEmaFKK6rSAPwfgB9DX0iWMSMI6K3aflczf/bHssOwxMFFkBmitKLKDv2S50/AKzSwyPoPgF/XzJ/9qewgLP5xEWT9Em5e/X0AP4O+yjpj0bIIejFcJTsIi19cBFmflFZU2QDcCODn4HZmTK6XAfyS7xmyvuAiyHqltKLKAuAaAL8CUCI5DmPtAgCeAuDiifesN7gIsh4rraj6FoD7AAySnYWxLngA/BnAfJ5awXqCiyDrVmlF1VDo666dKzsLYz10GMDtNfNn/0N2EBbbuAiyLpVWVKUA+CWAeQBskuMw1hdLAdxSM3/2BtlBWGziIsg6VVpR9Q0AD4J7e7L454f+//Jva+bPbpEdhsUWLoLsGKUVVYOh31O5QHYWxgy2G8CPaubPfk12EBY7uAgyAF/M9/s5gJ+CL32yxLYIwK0182fXyA7C5OMiyFBaUfVVAI+Ce3wy8/AAuAvA/TXzZ/tkh2HycBE0sXCrsz8AuEV2FsYk+RzAlTXzZ6+THYTJwUXQpEorqs6E3p1/sOwsjEnmBfAL6Iv68huiyXARNBuX0zq47Z+/CUL9KQBFdhzGYsh/AVzNHWfMhd8EzcTlHAngk7u0J08H/+wZO95XAawLTw9iJsFngmbhcn4fwP0AkoWA7+u+39asFUOGyY7FWIx6Avp0Cp5XmOC4CCY6lzMLemPhCzs+3CYsW8d6/z7ABwtPh2Csc1uhD5rhdQsTGBfBROZyTgTwCrro+vJBcMySq/y/mBHdUIzFlQAAF4B7aubPDknOwiKA7wslKpfzagDLcZK2Z2cqn08/V/lkddQyMRZ/NOjzCatKK6rSJWdhEcBngonG5bQCeAjAzT3ZPCCUAxO9lSmNcDgjG4yxuLcFwEW8eG9i4TPBROJyFgFYgh4WQADQKFTwitW1PnKhGEsYwwCsKK2oOl92EGYcLoKJwuWcAWAlgNN6+9Ihyv4zblCrPjQ+FGMJxwlgUWlF1U9lB2HG4MuhicDlvA16+zOtr7sQAu5pvoda9oqcQsNyMZbYngVwfc382W2yg7C+4yIYz1xOBfqyR3ON2F2tSF09yVs5HiAyYn+MmcCnAL5RM3/2PtlBWN/w5dB45XImA3gZBhVAAMiipgl3aU8uNWp/jJnAFACflVZU9fo2BIsNXATjkcuZDeB9AF83etdXqu+dNpa2bzV6v4wlsHwAi0srqr4jOwjrPS6C8cblHAzgQ/RhAExPEMG20Po7YYXfG4n9M5agbACeKa2o4mXJ4gwXwXjicp4C4CMAQyN5mGTyDXvCcv/HkTwGYwlIAfC30oqqn8sOwnqOi2C8cDkvBPA/ADnRONxUpXr6Ocqn3E2Gsd67u7Siar7sEKxneHRoPHA5vwu9CbYazcMGhLJ/orfSzt1kGOuTRwF8n3uOxjY+E4x1eg/QpxHlAggAGoUKX7a6Po/2cRlLEDdBv0/Y5/m7LPK4CMYyl/M66OuaSfs5DVX2n3md+m/uJsNY33wHwGulFVXJsoOwzvHl0Fjlct4IoBKA9InrQsA91ftQ6z7kFMjOwlicWgLgwpr5s5tkB2HH4jPBWORy3oIYKYAAQATnG7ZfHQT4LybG+mgGgPdLK6r4/nqM4SIYa1zOuQD+hhgpgO2yqGnC77SnuJsMY303Gfq6hCmyg7AvcRGMJS7nDwH8RXaMrlylvntaOe3gbjKM9d2ZAF4uraiyyA7CdFwEY4XLeT30xXBjFhFsL1h/KywI+GRnYSyOnQd91Ci//8YA/iHEApfzYuj3AGNeMvmG/d1yP48WZax/LgPwiOwQjIugfC7nNAD/goR5gH01XVk3/Wxl5RrZORiLczdyZxn5eIqETC7nGADLAKRLTtJrAaHsm+B91NEEO492Y6x/Kmrmz75Xdgiz4jNBWVzOgQDeRhwWQADQKFT0kvU33E2Gsf6bX1pRdaPsEGbFRVAGlzMLegEslB2lP4Yre8+8Vv0P3x9krP8eKa2oukx2CDPiy6HR5nLaoS+Ie4rsKEYICTRM8z7k4W4yjPWbH8DZNfNnL5MdxEz4TDCaXE4FwPNIkAIIAAoh/XXbHQe4mwxj/WYB8FJpRdUA2UHMhItgdP0WwIWyQxgtmxon/lZ7mrvJMNZ/ueCG21HFRTBaXM5LAPxSdoxI+a7631NH085tsnMwlgAmAHhSdgiz4CIYDS5nOfQ1ARMWEZJetP4myN1kGDPE5aUVVRWyQ5gBF8FIczkzAbwGwC45ScSlkG/4Y5Y/8mhRxozx+9KKqgtkh0h0XAQjyeVUAbwAYJDsKNEyU1k7fZayaq3sHIwlAAXAc6UVVcNkB0lkXAQj6w8AzpYdIpqIoDxmeSDLgdZG2VkYSwBOAG/wOoSRw0UwUlzOqwD8WHYMGTQKFb9sdVXLzsFYghgO4FledSIy+B81ElzO4QAelR1DpuHK3jPnqG99JDsHYwliNoBfyw6RiLhjjNFcTiuAj6EPcza1kED9md6HvQeQlS87C2MJIAhgRs382ctlB0kkfCZovHvABRAAoBAy3rD9ah93k2HMECqAf5ZWVKXKDpJIuAgayeU8Bya9D9iVHHJP+rX2D+4mw5gxygA8LDtEIuHLoUZxOXMArAPAl/6OIwTaZvvu3rdBlA6WnYWxBHFpzfzZL8kOkQj4TNA4T4ELYKeIkPSS9Td+7ibDmGEeLa2oKpIdIhFwETSCy/lD6KO3WBdSyDviUcsD3E2GMWNkAni6tKKKZAeJd1wE+0vvC3qf7Bjx4CxlDXeTYcw4XwFwm+wQ8Y7vCfaH3hbtYwCTZUeJFwGh7B3vfSytGSlpsrOwromADwef+xlEwA+EQkgZfibSp135xfPuFa+gYfGTKL71WagpxzYz8dfuxZE37v3i60DDQaRPvQppUy6OWn4T8QKYUjN/Njen6CMugv3hcv4YwAOyY8SbTaGSD87z3TtVdg7WNSEEhL8NijUZIhjAwWd/isyzb4StaAQCjUdQ+58/w1+3FwVz/nRCETxmP6Eg9v5tDgq++wA0Z24UvwNTqYZeCL2yg8QjvhzaVy5nKYDfyY4Rj0Yoe6Z+T32bu8nEMCKCYtXXdRWhABAKAqTffqp/73FknHUNgO5vR7XtWgtLegEXwMgqB3Cn7BDxiotg31XCBMsjRYpLWzCiALUHZedgXROhIPY/dSv2PnwVkkrHw1Y4HK1bV0BNzYI1t2cLo7RsXIqUkdMjnJQBuL20omqU7BDxiItgX7icVwI4V3aMeKYQMl7nbjIxjRQVhdc8jOLvPw3vgS3wHd4J90cLkT7tqh69XgT98Gz7BPYRfOU7CiwAKnm0aO9xEewtlzMLwIOyYySCXHJPulP7J3eTiXFKkgNJJeVo3foxAu5D2P/krdj7yLUINh3FgadvQ7C5vtPXeXashDVvMFR7RpQTm9Y0ANfKDhFvuAj23gMAcmSHSBTXqG+dMpJ2bZedgx0r2OpGqK0ZABDye9G2aw2seYNRcuuzKL7lSRTf8iTU1GwUXP0nqI7Oi1zLhiWw86XQaLuvtKKK3596gYtgb7icXwXwPdkxEgkRkl+2uvwaAn7ZWdiXgs11OPj8L7D/yR/g4D9+jKTSCUgZckqX2weaanHoxS9X+gn529BWswYpw8+IRlz2pUzwvOVe4SkSPeVyWgCsBzBUdpRE9G5wwuLr/bfPlJ2DsQQgAJxRM3/2x7KDxAM+E+y5H4ILYMScrayePlNZs052DsYSAAF4mFei7xn+R+oJfYWIO2THSGREUB63/DHTDk+T7CyMJYDJAK6THSIecBHsmd8B6LotBjOEhYLFL1p/w71FGTPG3aUVVTw0txtcBLvjco4BcL3sGGYxStk99bvqO3wvg7H+ywZfweoWF8Hu3QdAlR3CTH6jLRiWj7pDsnMwlgBu4XUHT46L4Mm4nGcDOF92DLNRSGS+YfvVHu4mw1i/JQH4lewQsYyLYFdcTgLPt5Emlxom36E9w91kGOu/60orqspkh4hVXAS7djmAibJDmNm16n+4mwxj/WcB8OtutzIpnizfGZdTgT4xfoTsKGbXImwbx3kfHxKAZpGdhbE4FgQwumb+7M2yg8QaPhPs3KXgAhgT7OQd+YjlT8tl52AszqkAfiM7RCziIng8/V4g30iOIV9RVk2brqzlbjKM9c9lpRVVY2WHiDVcBE/0dQBjZIdgXyKC+oTl/gzuJsNYvxD0xh+sAy6CJ+KzwBhkoWDJC9bfcjcZxvrnotKKqimyQ8QSLoIduZxfA48IjVmjlV1Tr1Df5W4yjPXPXbIDxBIugsfiFkMx7i7tqaF5qDssOwdjceyc0oqqcbJDxAougu1cznMAdL1qKIsJComs12137Jadg7E49yPZAWIFF8Ev/Vx2ANYz+VQ/+RfcTYax/riitKIqR3aIWMBFEABcznIAM2XHYD13g/rvKcNp907ZORiLUzYAN8kOEQu4COp+IDsA6x0iJL9idbVpCPhlZ2EsTt1SWlFl+k5MXARdznQAV8qOwXrPTm0j/2Z5iLvJMNY3hQAukR1CNi6CwDUA7LJDsL75qrJy2jRlXbXsHIzFKdMPkDF3A229RdoWAENkR2F95xfq7vHexzJakJwqOwtjcei0mvmzV8gOIYvZzwTPBRfAuGeh4ICF1t+tkZ2DsThl6rNBsxdBHhCTIMYoNdO4mwxjfXJJaUVVoewQspi3CLqcgwCcLzsGMw53k2GsTywAbpYdQhbzFkHgRpj7+0844W4yu2TnYCwOzSmtqCLZIWQwZxHQB8RcITsGM14+1U/5ufYsd5NhrHcGAJgqO4QM5iyCwHQAJbJDsMi4Ua2aPIz2cDcZxnrHlPOlzVoEr5IdgEUOEVJesf7aoyIYkJ2FsThyiRk7yJivCLqcNnCXhITnoLZRf7X8+QPZORiLI1kAzpMdItrMVwSBCwCkyw7BIu9c5dNpU5Vq7ibDWM+Z7pKoGYug6X7IZkUE9SnLfWl2eJplZ2EsTlxUWlFlqs5L5iqCLqcTwNdkx2DRY6HgwOetd62WnYOxOJEM4BuyQ0STuYqgfi/QJjsEi66xys5pl6vvm7Y3ImO9ZKrpY2Yrgt+RHYDJcbf2xOBc1B+RnYOxOPCV0oqqPNkhosU8RVC/FDpDdgwmh0Ii+w3br2pk52AsDqgAvi07RLSYpwjqK0ZoskMwefKpfkqF9hx3k2GsexfJDhAtZiqCs2UHYPLdpC7ibjKMdW9qaUWVKRYbN0cRdDkV8IoRDNxNhrEesgGYKTtENJijCAKnAMiRHYLFBge1jXrY8jB3k2Hs5EzRPcYsRZAvhbJjnK98Mu1M5fPPZedgLIZxEUwgXATZMfRuMvempqCtRXYWxmLUkNKKqkGyQ0Ra4hdBl7MIwATZMVjsserdZFbJzsFYDEv4s8HEL4J6w2zGOjVO2THtUnXxJ7JzMBajzpUdINLMUATPlh2AxbZ7tcfLstHA3WQYO9GsRF9j0AxFcKrsACy2KSRy3rD9iucOMnYiBxL8PTSxi6DLWQqgSHYMFvsKqe6U27V/LZOdg7EYlNCXRBO7CCb4XzDMWN9X35g4lPbWyM7BWIyZJTtAJHERZCyMCPZXrL9u4W4yjB1jXGlFlVV2iEjhIshYB6nkGf1ny1+4mwxjX7ICGCc7RKQkbhF0OTMAjJIdg8WfC5QVU89QPl8vOwdjMWSK7ACRkrhFEDgTAMkOweIPEbSnLfc6uJsMY1/gIhiH+FIo6zMrBQc+Z/09d5NhTMdFMA6dLjsAi2/jle3cTYYx3cjSiiqH7BCRkMhFcKzsACz+cTcZxgDotWKi7BCRkJhF0OUsAZAuOwaLfwqJnNdtd3A3GcYS9JJoYhZBoFx2AJY4iqj2lJ9oC7mbDDM7LoJxhIsgM9Rc9fWJg2nfLtk5GJPoFNkBIoGLIGM9QAT7q9Y7mxSEgrKzMCZJWWlFVZbsEEbjIshYD6WRZ8xDlr/wZVFmZiNkBzBa4hVBl1NDAv6gWGz4mvLx1NOU9dxNhpnVENkBjJZ4RRAYDr3XHWOGI4L2D8u9KcnwtsrOwpgEg2UHMFoiFkG+FMoiykqBsmetv/9Mdg7GJOAiGAeGyQ7AEt9EZdv0bylLP5Wdg7Eo4yIYBwbKDsDM4T7Lo6VZcB+VnYOxKOIiGAcGyA7AzEElkfOG7Vc7ZOdgLIqySyuqnLJDGImLIGP9UES1p8zTXuBpE8xMEupskIsgY/30A/W1CYNoP3eTYWbBRTBmuZy5AJJkx2DmQgTHa9Y7uJsMMwsugjGMzwKZFGnkGfMny1/5sigzAy6CMYxHhjJpLlQ+mnoqbdggOwdjETZIdgAjJVoR5DNBJg0RtH9a5ydzNxmW4LJlBzDSSYsgEZUQ0U4iygx/nRH+eiAR/YmIthPRViJ6nYiKoxP5pEpkB2DmZqVA2TPWu7mbDEtkmbIDGOmkRVAIsQfAIwDmhx+aD+AxALcCSAUwTAgxFMBrAF4hIopc1B7Jk3x8xjBJ2Tr9G8oy7ibDElWG7ABG6snl0AcBnEZEtwGYCuCvAK4B8GMhRBAAhBBPAfACmEVEpUS0kYgeJ6L1RPQOESUDABENJqK3iGglES0jIqNXe0iov1BY/LrfUjkwE+5a2TkYiwB7aUVVwixS0G0RFEL4AdwOvRjeBqAUwG4hRONxm34GYHT486EA/iqEGA2gAcC3wo8/BuBWIcQkAD8B8Lf+xT8BF0EWE1QSua9b79gmOwdjEZIwZ4M9HRhzPoADAMYAIACik206Pr5TCLEm/PlKAKVE5ABwBoAXiWgNgEcBFPQtdpe4CLKYUaIcPfU27SWeNsESUcK812rdbUBE4wF8FcBpAD4A8AKAgUSUKoRo6rDpRABvhj/3dng8CCAZesFtEEKM73/sLiXMD6Y7e9whfO81Dw42CygE3DjRgh+dZsOag0HcvKgNbQEBTQH+NjsZpxSpJ7y+oU3g+jc8+PxwCETAkxcl4fSSbv93YL30I/WVCa8Hz9i9UxTyyGWWSMxxJhge6PIIgNuEELsB/AHAfQAWAHiAiNTwdt8DkALg/a72Fb58upOILm3fNxGNM+S7+FKawfuLWZoC/PGcJGyc68DH19nx10/92HAkiJ/+tw2/nmHFmpsd+O1ZNvz0v22dvv5Hb7XhvCEaNv3AgbU32zEy58RCyfpP7yZzp5u7ybAEkzAnHN1dDr0B+v2//4a//huAEQBeB9AGYAsRbQVwKYBvCCE6u0za0ZUAriOitQDWA7i4z8mP53ImowdntomiIFXBxAK9cKXaCCNzFOxrFCACGsPn4e42oDD1xAG7jV6BpbsCuG6CBQBgVQnpSbIH9iYuJ7WWP2j5G18WZYkkYc4Eqfu6FSdczjwAB2XHkKGmIYTpT7Xg8+87sK8xhHOfaYUAEBLAh9faMTD92L911hwM4sY3PRiVo2LtoSAmFah46Lwk2K1cCCNFCAS+7btjyydi5CjZWRgzwG0182c/JDuEERKpY0yq7AAyNPsEvvVCK/50XhLSbIRHPvPjwXOTsOfHqXjw3CRc94bnhNcEQsCqAyHcMtmC1Tc5YLcQ5n/g7WTvzCh6N5l7uJsMSxSmuRwaTxyyA0SbP6gXwCvLLfjmSP3S5oK1PnxzpH5V+NJRGj7Zd+KtqOI0QnEa4dRifbtLRmlYdTAUveAmZaNA2T+t93A3GZYIEmb8RSIVQVON7BBC4Lo32jAyW8X/nW774vHCVAVLdumF7/2dQQzNOvFHnO9QUOJUsPmovt17OwMYlZ1I/yvErsnKlulfVz7gQsjiXcKMv0iYbwSJVdC7tXxPEP9c50d5roLxlc0AgLvPtuHxC5Pwo7faEAgBSRrw2NeSAQD7m0K4/o02/PvKFADAw+cn4cpXPPAFgUEZCp66OFna92I2f7Q8MmCpt7y2Ds4s2VnYlzw7VqLuvceAUAiOcefAedqlxzwvhED9e4/Bs/0zkMWGrAtugy1/iKS00hl20kFEQQDV0OvRRgBzhBCtRPRLAFdAn2YXAnCTEGIFES2GPse8DUAzgGuFEJv7fPwEGhhzCoAVsmMw1hO7QzkfT/c9dJrsHEwnQkHsf/wm5H77LmipWTiw4MfIvuinsGZ/Ob3Ts/1TNK5chNxLXfDt34y69x5DwfcekJhaqsdq5s++yYgdEVGzEMIR/vxZ6A1WPgLwAICZQggvEWUDsAoh9oeL4E+EEJ8R0Y0AviaEuKivx0+kM0Ee2sjixgDlyGk/Ul/+4KHgt6bKzsIA34EtUGx2HH7x10AoBC2jAJ6tHx9TBBuWP49gSz0OPP1DIBSE/+hu+I7uPmYbE4nU7adlAMYCqAFwVAjhBQAhxNEutl8KvZ1nnyXSJcRE+l6YCdymvTyulA7skZ2DAYHGI/DX70fupb9B4fV/0wvckV3HbKOmOJF94U9QeM3DSJ8xB2RzQPhNO6ra8CJIRBr0Fp3VAN4BUEJEW4job0Q0o4uXXRjevs/4TJAxSYiQeqvvyXfX+85bmelMF2qyonis7pDX0kgBS7NCmkfRNB9pmh+a5lUsql/RVJ+maQFVU/wakeA//Azy/Kaa4uVJ/vx7LnjyMwD4w3v+Ye66T22/PePuL95gf//m5pEXDn5679hJGU0PvLdxmHD67dcM//uWEWOcLfKSy9HkcxwBZvd7P0T0IICUcD9pQJ+EXyuEeISIJgF4DsBIAIuI6FYASdCXzHuWiDzQzxhv7U8GLoKMSfKUM3W5e3NDRnbyYLvn8ItpKZo9dZRjzI4B9tOUVEvmUD+FkprJc7SRPG43tba6qdXfRG3kpjZLG/ntIaUthTR/sqb5Q6rqa9M0n1fTfD7N4vNrmi+gab6gpnmFXkR9UFU/qapfVdWApihBi6IErUQhG1EoiUgkA7ATwZQjpAoyPbBZBYocB88AgMy0AIJtwS++BoChZQK2YG1GlubBjs1upKYqGD+0aVyW48S5uCZg1AopHwL4gRBiPBEpAD6FXvQghAgS0QDolztLoA+YuZCILkf4nqARARKpCPJfxSxuvGVPWflARvopv6oPfZjUtMmzp+jmUZ7Gf1avb1g+dX3DcgAQmbaCrYMcYw8UpgxxDFRzxhNRSmf7aoOvvona2hqp1eumVo9baQ02URs1kDfJC78jgGCmALJBPfl9FyFVDbSoqt+jaT6PqvnaNNXv1TSfX7N4/ZrmC1o0X1DVfCFN85Gm+qFqfkVV/aqiBDRFCVr1j5CNSCQBIgV6cY3p9ecKizS0tIRw4IAf2dkaNm5ow5jypGO2Of0MO15/zQ1AYMAACwIBICsrkd5Ce8WoicXL8eWl1dEAPgdQQERTALRAL4jjoLfwXEFELugF0TCJ9BPkM0EWF1babBtvz8kaDiJLdqOw5LirRu8tmglr2rWn+lveXBLyb5sBgOq8B4bVeQ8MQ+3bUKB6C1IGrSlzlDfkJg/I1cg6IvyXM5JgzUgS1owcEZ6/3EmrbgERaoXvSBN5jrqV1uZGam1zU2uomdqUVvIl+eBPCyCUCVB2MGhJDQYtqT5fpzW3T4hCflX1t6qqv1XV/G2a5mvTNJ8v/OHXNG/IohdWoWo+oal+RdX8iqoEVEUNWPQz15BNP3MVyR2KqyH3pmqPBuH3C1w9Zw9SUhQMHWZFWZkVb76pL5s6c6Yd/65yY9MmLz77zIP0dBV3/T7fiEPHK78ROwmP9kT4jO8M6KNCiwCcDr3wWQDcAcAHwAXgB0Yct6NEKoLc8oTFvJ0Wbdc1BbnZ0NfXRForUi1BjzO1adeyprTSaVbHRTMCbas+CngWjwe+vDQZQtC2r3Xr+H2tWwEAViWpYYB95KZSxxh/hi1vgELqwJMdl0CKHbYcu7Dl5AfTu9wuhJC/mbxHmshT30itzW5q9TaSRzRTm+ohX4oPAWcQoWwQnL35voVQLIGAzRkI2JwwcCwJUdCraf4WVfV5VM3v+eKSsObzW764JOwLaZoXquaHpl8SVhQ1oKlqwKJQyBoSAevLL7sHO52qct8fCtru+t2hlMOHgjjjDDtKS/UT2EcfrcWQoUn46c/ycOUVu1BSomH4cFs36RKaIUUw7HnoBfAM6NMiisKf/wNAFoBNACYLIY7qCxvhEaMuhQKJVQSbZQdg7GSOqMqRbxYVQBDltD+W5NO78Q/b+mLuykm3AwC0pImnK1reRl/TC+mA6HThaV+oLX1b0+rTtjWtBgA4tIw9ZaljakrsIzSHljGCiPrU5V+BYkkTyYVpIrmw6CTtIQMIepqp7UgjeRoaqbXFTa2+RvKghdosHvLb/Qg4QxA5INj7kqOnhFBtfr9q8/uTut+4C3v27EFamsCpp56K23/yVkprq4qCgrzgwYOX1b/26gqFKODfuNGTcs45o/c/+0ytpazMk7Znj9vxeXXRyrx8NRC+36poakBV1IDafkk4fL81Wb8sDDsR+h4y9hg5LPZD6EWvHPrl0D0A5gFoBPAk9EIYMYlUBJu634QxOZqJmmYXFx4NEI384kEhhBpCLgA4m2qGa/7W6oAlpRwAFK1opM15w2Fv49OfQ/jGdLv/QH1Jdf2ykur6ZQAQyrYVbxyUOvZwQcqgVJuSMpqIDD1t0aAmpwv7gHRhP+kkOR8CTU3kOdI+uKeRWgONioda4bW2kd/uRzBDQORC4j3DpqYmpKWlYejQoRg6dCjWrl2Lffv2qX5fSvakSWcBAOrr38OqVc3Dzz33Ijid+/DEE09g/foRZ9bXF/biSKFg+H5rq9b5JWH9rNXiE5rqg6r5ER7I9MVgJqKgVVHaBzKJFAApRLBE5B/m5IwsgsuhF70dQogggDoiSod+j/AGAF8z8Fgn4CLIWIT5AN/sksKtHkWZ2PHx9BbUEpDd/vXA3W83bR/8jS+eJ8WRa3Pe7PQ1PfeBCB7tzaR65ah378ij3r0jAUAlzVOYMmRlmaO8OSepOE8ly/DwgtkRZ4WWmiVSU7PEyRd58cBX10Se2kbyNLqVVk8j6YN7Wslr88KfGh7ckwOD7gF21JOuWVOnTsVbb72FyspK5OXloaCgAIrS27F4ihoMWtOCQWuaz9e3rJ0hCvpVNdCiar5WTT32knD4I6hpPqFZvEIfyOQjVQ0oemFtH8zU6f3Wk32DRk4LqYb+e/DccY85OlwCjZhEKoKNsgMwdjwBiEuKCj6rU9Uzjn8urx5H0KEIluz93+Ttgy4+ClK+eIxIs9nSvjfV3/LO4qDv8+nowyjooAgk72nZNGlPyyYAgE1JOTrQMWrrQMfoQLo1d5BCSlGfvjkDJcOamSysmbnC2eXdfX1wj/dwE7XVuZXWJje1ehqpVTRTm3rs4B5kgXo+UC4tLQ2NjV++fTQ2NiI19diibbPZcPHF+hrgQgg89NBDyMiIjXVlhVAtgYCaHgjY0o08PVOUgCc8kMmjqb5wcfX7NM0bAOjg2bOMOU747C/tuMeu7vD50wCeDn/uMuaoX0qcIuhyt8HlDCCRvicW927Iz12602rptNtFYZ045uqFIoLWrNr162uzy0/Y3mI/Z6aiFX3qb317BPq5dqY31Jq9pfGz7C2N+tiCNEtWTVnq2N3FKcOsds05koh6NeglWvTBPUm5dpGU24PBPYebqLXeTZ5m/X5lq2gmr9ZGvuTjB/cUFRWhtrYW9fX1SEtLw/r16/HNb37zmH22tbXBYrFAVVWsWrUKAwcOhM2W2ANjQiEtORTSkv3+TqeOPh7tPJGSaAWjCXrHAcak+3V25uIVyUkzu3q+6KhoO/6xYdteGvxR1pgQwtMfOlJto6eQmrPd1/RcHRA66WjQ3mj015aurftf6dq6/4FAwZykkvWDUscdyU8uy7AqSSOJKKbn+B0vPLinKE0kF53sFNePYGsLtR1tJE+Db8aVlr8//c/SoAjR+NHjDpfkFNYv/eiDEkVVHVNOmWI9cuQIXnvtNRARcnJycNFFfe7XnCgMu/3Um1UkoLdVswkhft7h9eMBPC+EGHn8vnt0/IRZRQIAXM5dAEzZzZbFlsedacv/nOE8Aye5oXH7S8HFU7aKmcc/vvy0333iTco8pavXiZCn3tv4dA2EZ4JBcbukkqWl2D5sY5ljTEuWrahQUyxDI33MWOOFv7FZL5btnXsCTYqHWuC1esnvCA/uyZE5uEeC81wu19tG7Kg3q0hAvwryHyHEoA6vnw+gRQjxu74cPxHPBBmTqsqe8tmfM5ynnqwAAkBug+h0VN/gHa+rG0Zd0+XrSEnOsDlvSvU1LVwqggem9zPuSQWF376ref3kXc3rAQBJquNwqWP0toH2UaE0a/YQhZSEnzFugyXNJixpJxvcIyBEG/x1TXqbu0a30trmptZgM3mUVvLZOnTuicjgHgnqIrTfbleRIKIGIjpVCNG+dN5lAM7t6wG5CDJmoE+TbBsqcrJGQu+If1LpLei0JUve4c8mbhzx3V1C0bq85EmkaLa070z3ty5dGvR+dgai9LvcFmzO3eRekbvJrb//pFtzt5c5yvcW24elJKupI4ioX/cr4xWBqCeDe0IQwVZ4DzWRp65R8TTpzQhaQ03UpnjIm+xFIC2IUBaAzN4M7pGg1ugddlhF4i3oq0jcSURbALwLYKEQYkl40+cBXA69jdpp0Btub+3rcROtCBr+g2Gsp7ZbtJrr8nNzQdSjCeIpXqR39jgBVHDw45r9hVO7ve9nSZk+XdEKV/tb3hgInGR2e4Q0+A4PXl333uDVde+BQIG85NLqQalja/OSSrMsim0k9eCPATNRQKoDSXkOkZRXEOx6+EIQIV8LtR1pIk/74B5vI7Wimdo0D/lS/AimBRHKAR07qjKKjHyvTe6wisQyAE8IIXzhVSSmATgLwEIiqgiPFP0XgA+JaB70Yvh8fw6eaPcEHwVwo+wYzHwOq+rhc0sKvQGiHjf3XXhPoJkAR2fP+TV7/bIz700GUY+6jISCdbt9jf/0A8HBPT1+pFnI2lhsH7GpLHVMW6atoFglbVD3r4qu/Y2HcFvV3TjSXAuFFFwx/kJcN/nSY7b5aPdqXPfyL1CSrjfvOX/YdNx25tUS0p7Ij2Cr3rmnNdy5x+NvpFa0kNfSRj67H8H0cOce4xrBAn6Xy2XY/c+O9wRPss0lCK8iEf56GYA7obdWO10Isbevx0+0v9L6/A/BWF81ETXOLi6oDxAN7+lr7B7RSOj6r3hLoCXD0bJvebOj+Mye7E9RMwfY0m9u8roXfALR3OWgmmjyC1/azuZ1p+xsXgcASNHSDpQ6xmwfYB+ppFkyhxIpOd3sIuJURcUdZ30f5fnD0extxQULrse00ikYll16zHanlIzF05fcKyfkSVigpmQI+8AMYT/pVQMv/I1N1HakiVob9cE9nkCT4kELvLY28jsCvRvcc9Cg+F0i/Xcp1OEy53gAHVc5fh7AgwC296cAAolXBPfJDsDMJdwNZnubovRqpGauG4dxkiIIAEO3vpSxesJtPd4nkS3V5rxhsr/51cWhQM3M3uSJhtZAY8GGhg8LNjR8CAAi01qwpSx17IGilMH2JNUxqquloiIpz5GNPIfem8BhS8GQrIE42HTkhCIY79oH92R3P7in9svOPS0eN3lCTeRR9M49gdSgPrgnGicbDgAPh9unBaCvX9jxKt+LAB5CPxfUBRKvCPKZIIuaEBD6ZnHBynpVPb23ry2oE+7utslwbx2lBto2BLWkUT3dLxEp1tRvzgx4ViwPtC2fDCBWZ3RTne/AsLraA8NW1gIKFF9+yqA1gxxj3bnJA7I1so6kTuZKRtIe9wGsP7QVEwpP/OdeuW89znnyGuQ5svGrs76P4Tll0YwWFeHBPVnJwpp1ssE90Ht9GqazS6FCiJXQm2p39ZojgDE9UxOtCPKZIIuaa/Nzl+2ydN4NpjvFR0WPliMfsOfdup1lve8frCWfeiZpBev9zS/nACK31zuIshBC1v2t28bvb9UXLG9fKmqgY7Qv05ZfqpAa0fm/Lb5W3PTqHXCdfStSbceOaxqTNwwf3/IC7NYUvL/9I1z/6i+w7MZ+jcWIdwl1spFoq7En1A+Hxa5fZmcuWZmc1KcCCAAFdQj0ZLsBe96dBCHq+3IM1TJgtC3tuiBg2diX18vUvlTUeweemf5izf0DqvY8undDw4fLmvx1HwkhDJ2j5g8GcOOrd+Dro76K84ef+CNNtdlht+pXamcNPh2BYBB1rQ1GRog3u2UHMFJinQm63G64nC1AZNcwY+ZWmZ72wRupjj4XQADIaxA9mjCthvzJGfWbP6nPHNGn45GaVmBLvznd1/jPj0SoodeXbWNFc6ChuLp+WXF4qSiRbSvaWJY69nBhyuBUm5Iyino4ivZ4Qgjc/p97MTRrIG485dudbnO4uRY59kwQEVbv34CQCCEjOSbbq0YLF8EYtw/AMNkhWGJ63WH/9K/pztP6u5/MJnTalbgzw7a9ULpiyh2iuw40XSGyJNuc157ua65aEvJvng7E9CTsnqCj3n0jj3r3jQQAhdS2opQhq8oc5Y05SSX5vVkq6tN91Xh5/dsYkTMI5z51LQDgZ9NvwL7GwwCA7064GP/evBj/XP06VEVFkmbDXy/6dV9/FIlij+wARkqseYIA4HK+C+Bs2TFY4vk4yfb5Dfm5g2DAKMZ//iGwxRbo+R9rH5x+92c+m3Nyf48b8K79OND6XjkS+GqJTUmpHegYtWWgY1Qg3ZpbppBaLDtTgikqnj9tv+wQRknEM8Gt4CLIDLbFYtl5Y35uoREFEAAsAfRqjtygnW+GNo24qt/H1WzjTlPU3M2+pn/ZAZGQxcEbas3a0vjZ6e1LRaVasnYNcpTvKrYPt9k154hYXSoqTvgRhXmC0ZSIZ4K3Aviz7BgscRxU1YPnlRQGgkSGFA2rX3ieuT/Y48uhACBAocXTH9ovFGPOakSo5ai38en9EN6xRuwvXoSXitpUljr2SEFyWYZVSY67paIk21Q8f1qfliyKVYl4JrhBdgCWOBoVcn+tuKApSGTYEkI5+kT5Xq0HSBBK3uHPth/MP9WQIkiKPdvmvDnN1/T8MhE8PM2IfcYDAaEebts9+nCbPrZDJUtLccrQdaWp5S3ZJl0qqpc+lx3AaFwEGeuCD/BeUFy406so443cb0GdaEAviyAADN7+6qiDeaf4YNCZC5FqtaVdNc3f+t6SoHftVCAhlvjplaDw23e1bJi8q0V/20hS7UdKHWO2DLSPQpo1e5BCSoHkiLFmvewARku8IuhyH4DLWQ9eYZ71QwgIXVxcsNqtqv0eCXq8olq09OV1Nn9TTkrrweWt9oIe9RPtKUvK2TMUrWilv+XfQwCY+n5ZW7AlZ5N7Rc5xS0XtK7IPS0pRU0eadamoDvhMME5sAGDoGwUzlzkFeR/stVgismBtYa3w9fW1Q7e9nLZ23A+MjAMAUK0jJpGavdPX+EwdEEq8nmB91MlSUesGpY6tz0sqzbAotlEmXCqKzwTjBBdB1mc/y8lavCbJNjNS+89vEH3u1JRVv7FcCXo3h1Rbj1es6ClFzS6zOW92exufXgnROsno/cc7AaEd9Owce9CzEwCgkbWpxD58Y6mj3JOVVFASi0tFGcwHffR9vxFREEA19Bq0EfoySa1ElA/gTwCmAPBCX2H+NiHEFiOO25lELoKM9drD6c5l/3bYZ0byGFmN/WtqXbJ38eFdA881vAgCAClJTpvzxvH+5peWhAJ7+9UVJ9EFhC91Z3P1KTubqwF8sVTUjgH2kUizZA6LhaWiDLa5eP60HrX76wGPEGI8ABDRswBuJqIHAbwKYIEQ4vLwc+MB5AHgIthLXARZr73qsH/yWHpal53rjZLqQb/uK5XuemvirgHnNIIoIquKEymqNfWyGX7Ph8uCbR+fCvRojTnTO26pKGRY87cOSh27vzBliD1Z0lJRBlsTof0uAzAW+gryfiFEZfsTQohIHfMLiVoE18kOwOLL8uSk6juzM8tBFPERkjY/svrzejXkszvd25e604dE5J5lO0vyGdMULX+tv/m1IgDZkTxWIqr3HRy6svbg0JW173yxVFSZo7whL3lgjkbWERSF/9cMttLoHYbvqZ4P4C0AYyJxjG4zJNxk+XYu5y4AEV1+hSWGjVbL9m8X5mcKooiPKFZCIvD8vUGF+rmCS5O9aPunU34x2KhcJxMKNuz1Nf6jFQhwT16DWBSbe4B95KZSxxhvhi1/oEpqr6fMSDCteP60D4zYUYd7goB+JjgPwM0AyoQQPzbiGD2VqGeCAPARuAiybuzX1APfKcxPjkYBBICsRhwmoLC/+0lt2TfY4mta47emjjcg1kkpanqxLf3mZl/jP1aIUOOpkT6eGfhDXuf2pjWnbm9aAwCwa+l7yxzlNSWOEUqqljGciPp1tSACQjD2cugX9wTbEdF6AJcYeIweSbT1BDv6SHYAFtvcCrkvKipoCRL1uyj1VH69cWvhldX8u82ofXWHyOqwpl13imIZsjhaxzSTlkBD8ecNy6b+Z+/jZ7xQc1/me/uf2bSjad3itmDLKiFE1H7OJ7GleP605ggf430ANiK6of0BIppCRBEdoJXoZ4KMdcpLaLuguLDGqyjjonncwlo0GbavAx9M3jL00oMgJd+ofZ4MEZHVcdHMQNvKDwOeJROAni8HxXqFjnr3jTjq3TcC0JeKKkwesrostdydk1SSr/ViqSgDrYr0AYQQgoi+AeBPRFQBoA3hKRKRPG4iF8HV0P8R+7TYJktcQSB4UVHh2kZVjfqlvaJa4TdqX4oIablH1mw+nDsxKkWwnZY06QxFzdvga34xAxDcVizCQiKYtLd184S9rZsBAFYluW6gY9TmUsfoaC4V9ZmROxNCOLp4fD+Ay4w8VncStwi63H64nCvBk+bZca4qzPtwv0WT0jS6oB6GjkQbsv3l4YdzJgQQ5c4liqV4lM15/SGve8F6wDc6msc2O1/Ik7m1ceXpWxv1gZSplqzdZY4xNSX2EVa75hwZoaWilkZgnzEhcYug7iNwEWQdzMvNXvK5zSZtEni2W1iM3F+StyE/2XPkY09KruE9TrtDSmqeLf1mp6/x2eUiVMu/Z5I0+WsHrKtfMmBd/ZL2paLWl6WOPVqQXOa0KsmjDFgqqgH6lbWEZIYiyBgA4MEM59J37ClSu6A4W9HpZaD+GLLj1aTqMTcZvdseIdKSbM45Z/pb3l4c9K2fjsQebBfzTlwqSmstShm2rkxfKqpAJW1oH+4nLi2ePy1kfNrYwEWQmcKLqfYVTzrTpJ+tJPmQafQ+c46uG6+E/NtDiiUq8wY7Y7GfO5O04k8CrW+PBPrXEYcZJygCKbtbNkzefcxSUaO3DrCPCjmtOYN7uFTU/yKbUq7EnSzfzuXcCGCE7BhMnqXJSWvn5uUMB5HcQVJCiIXzg36KQBuyLUO+tXRv8ayIdpDpiVDg0DZf0/M2IFQiO4vH58cLn63DQXcTCMBlU8ahNDvjmOefW7EGDa0ehITAjOGDcEqZ9NhR5bTk7BiUOnZvkX1oUoqaNoI6b8U3vnj+tLVRDxcliX4mCOjteLgImtR6q3Xr3LycUukFEICzBbUUofZjg3ZWjd9bdFYLiOyR2H9PKVreEJvzxjpv49NrINrGy8zy2ur1GJGfgzlnTEIgGII/GDzm+Q+37UJemgPXTZuC5jYv7n1rCSYOKIKmmueKrtt/ZNDquvcGtS8VlZs8sHqQY2xtfnJZlkWxjSQiNxK8DaVZiuBtskOw6NunqfuvKMxzIDKj5Xotvx5HEaEiqAXb0tKaapY2ppVJPxskJSXT5rwp1df0wlIRPCAlT5vfjx1H63D5Kfo0UE1VTixuBHgDAQgh4A0EkWK1QFGiPf0udggI7ZCnpvyQpwaAvlRUYcrg5y998g8JfbnQDH/yLAHgkR2CRVeDotRfVFToCRHFzDy2gjrRGMn9D9v6YlTnC54MkWqxpX1numqbtBSAUcvv9FhtcyscNisWfroOD7yzDC98ug7ewLExzhxSisONzfjtm+/hj+8sxcXjR0GJ+hz02BUQvtTdLRsT+iwQMEMRdLnbACyWHYNFTxuR5/ziwr0+haQNFOlMUa3wRnL/aU27hmn+1urut4weS8qM6Rb7hdUA6qN53JAQ2FffiNMHD8D/nTMNVk3F/zZuP2abzQePoDDdiTsvPBv/99VpeHX1erT5DetlkCjelh0g0hK/COrekh2ARUcQCF5YXFDdrCrlsrMcr7AOER9mPnD3W4a1ZTOKah06wZo2pxFQt3e/tTGcyUlwJidhYJY+EGZscQH2NriP2ebTmj0oL84HESE71Y5MewoON7ZEK2I82DRv4aLdskNEGhdBllC+U5j/4UFNO0V2js7kukXE148r2bt4MkToSKSP01uKmjXQln5zDsjxaTSOl5achPSUJBxu1Hs+bz10FHlpx87cyEhJxtZDRwEATW1eHGlqRpYj3te9NVTCnwUCZimCLvcWADtkx2CR9aPc7MUbbVYp7dB6Ir0ZER+5qYigNbv28/WRPk5fENnSbM4bJinawCXRON7XJ4zGcyvW4I9vL8X+hkacPXIIPty2Cx9u2wUA+MqoodhVW4/7316KysUfY/bYEbDbDJ+9Es9elx0gGhJ/nmA7l/OvAL4vOwaLjD9kpi/9hzNN+sjIk3n2vsBOSxBlkT6OJylr30en/iYfMbxyecCz4oNA2/IpAGyys7BOHQFQMG/homC3W8Y5c5wJ6hbJDsAi47lUx0f/SEudKjtHd7QgcqJxnOS22iKbt25lNI7VV1ryqVMtjm9tAeiw7CysU6+ZoQAC5iqC7wIwbEFTFhsWpySvuScrYyKIYvr/5ZQ20Ugwvm9oV4bseD1mzwLbqZaB5ba064KAZaPsLOwEL8sOEC0x/cZhKJfbDxP9YM2g2mrdcmtudhmIYv6SWl4DojpYJffwyokUCuyK5jH7gtS0Alv6zQNJSec+v7GjHvoq76ZgniKo+5fsAMwYezRt71WFec5Y6QbTnYI60RDN4xFABQc/qonmMfuKyJJiTbvmNMUybDFg7HqLrE/emLdwkWkmTJqtCC4GcFB2CNY/dYpSe3FxgT9ElCc7S08V1Yqody0avOONcRDRP25fEBFZHV+bqSXPWgGAJ+vJ9ZLsANFkriLococAvCg7Bus7D1HrBSWFB/1EER9laaTCWkR9kIEl0JruaN4b0wNkjqcljT/NmvqdvQDtk53FpBoB/Fd2iGgyVxHU8SXROBUAAl8rLljfoiijZWfprbwGIeV3bdi2F7NkHLc/FK1guM15oxVki6kWcCbx5ryFiyLa3i/WmLEIfgQg5gcMsBNdXpj/8WFNmyI7R19kNEPKUk7p7u0j1UDbBhnH7g9S7Dk2583DSc35QHYWk1kgO0C0ma8IutwCwELZMVjvzM3LWbzZZo35uYBdcXggbQDPgD3/jWrzaqMQqVZb2nenqtaxS4DoX042oV3Qp5KZivmKoO452QFYz92TmbFkaUryTNk5+sMSiMw6gj0xYM+7kyBE3M6Rtdi/MsOScv5qAO5uN2b98dS8hYtMNzrXnEXQ5V4LIK4GDJjVM2mpHz2X5ojZfqA9YQmINgXIlHV8NRRIyqzfGNf311TbyMnW1O/WAkqN7CwJKgTgKdkhZDBnEdQ9LjsAO7l3U5JX35uZPinWu8F0J7cB0luDDdv6YhnivFGwouUMsjlvSgelrJKdJQG9a4ZlkzoT128u/fQcgGbZIVjn1tqsm3+cmz0YRHHf1j+/Xv6lyBTP4QFWnzvur36Qkpxuc944lrSipbKzJJgnZAeQxbxF0OVuAk+XiEm7NG3P9wryMkCUJjuLEYpq0So7AwAM2vlmXJ8JtiNSNFvqt6erSacsA2CaziYRVAvgNdkhZDFvEdRVyg7AjlWrKEe/UVwQDBHlys5ilKJaERNv1AUHV0yiUHCv7BxGsSRPnWaxf30D9Ddx1nfPzFu4yCc7hCzmLoIu90oAK2THYLpWopbZJYWH/USlsrMYKa8+Nk7ACELJO/zpNtk5jKRaB42zpl3jAbStsrPEMVOPjzB3EdT9VXYABvgB/+ziwo0tijJKdhajZTXKmSjfmSHbXxsDIRKqI4iiZhTb0m8ugJL6iewsceideQsXrZcdQiYugsALQHSXuWHHEoC4tCj/k6OaOll2lkhI9URvHcHuWP1N2fbWg3E/QOZ4RFaHLe36KYpl0GLZWeLMH2UHkI2LoMvthckvB8h2S17Oku1W65myc0SKzY+Y6t85ZNtLCTHg6Hj6ShRfn6klT/8QQJvsPHGget7CRe/IDiEbF0Hdn8G/NFLclZWxZHmcd4M5GSUkAopATA3yyarfNEYJejfLzhEpWtLkM6yOS3cAxMumndwDsgPEAi6CAOByHwLwpOwYZvOUM3X5wlTHdNk5IimzCUcoBn/PSvYulj6BP5IUS8kom/N6AJa4ax4eJQfA7SMBxOAvp0T3AQjIDmEWb9lTVj6QkX4KiEh2lkiKhYnynSnd9dZECJHQvThJSc23pd8yiJTM5bKzxKC/mHlaREdcBNu53LvAfxlFxSqbdePtOVnDQGSRnSXSimrRJDtDZ9SQz57u3rpWdo5II9KSbM6rz1Sso5YAiI25KvK1gudIf4GL4LHmg39RImqnRdt1dUFeNohSZWeJhsLa2J2OMGzriyWyM0SL1X7eDC3lq5+CWyUC+moRMXmFQgYugh253Bth4vZBkXZEVY58s6gAgihHdpZoKYjhtxpHy/4yi69ptewc0aLZyk+xpl55AFD2yM4ikQ/6rR8WxkXwRHfLDpCIWoiaZxcXHg0QDZSdJZpy3CKmL/mW1VTF7JlqJCha3lCb88YUUNIa2VkkedKsq0V0hYvg8VzuzwD8V3aMRBLuBrPZoygjZWeJtrRW2GVnOJnCA8snQ4QOyM4RTaSkZNmcN40mNX+Z7CxR5gP/kX8CLoKd+53sAIlCAOKSooJPajV1kuwsMiT75C2m2xOKCGm5h1dtkZ0j2ohUiy3timmqbeISmGdU+N/nLVxk5kvBndJkB4hJLvcyuJxVAGbLjhLvbsjPXbrDapkhO4cUQgg1FFsT5TszZPurIw7nTvJHYrTuoYY9ePLdL/+mrG08gNmTr8ZZY7/1xWMebzMWvH8P6psPIyiCOHvsZTh9xHlGR+mUJWXmDEUrXOVvWTQIQHpUDiqHB8DvZYeIRVwEu/YzAOcBUGUHiVe/zs5csiI5yZwFEICzFbUEZMvO0Z0kX0NesufIR56U3NON3ndeegl+fsljAIBQKIhfPvNtjCubesw2S9e/jvyMgbj5/N+jydOA3y28GlOGng1Njc7tVNU6bCKpc2p8jc/UAcFBUTlo9P113sJF+2WHiEV8ObQrLvd6AE/LjhGvnnCmLX/FYU/objDdyauPn3Xuhmx/JSXSx9i8bzVy0gqRmZp37BNE8Po9EELA6/cgxZYKRYnu356KmlVqc96UBbJ/FtUDR0cj9OlfrBNcBE/uTiA2VgWPJ/+2p3z2pwxnwneD6U5hrWiUnaGncmqrxylB//ZIHmPl9v9h0pBZJzw+Y/TXcbBhF375zGW4+8XrcckZc6FQ9N+aSEly2pw3TlS0AUuifvDIun/ewkX9/oOMiB4kots6fP02Ef29w9d/JKI7iagi/PXNRPS98OeLiWhyh21Liejz/mYyAhfBk3G59wN4UHaMePJpkm3Dz3KyRpqhG0x3iuqER3aG3ijav3RfpPYdCPpRvetDTBh04sWBjXs/RXHWEPz+qhfw80sew4vLH4bH1xKpKCdFRIo19ZIZWtLpH0AfTRnvjHwP+xDAGYD+7wT9Uv/oDs+fAeBtIcR8ABBCVAoh/mHQsSOGi2D37gWvN9gj2y1azXX5ubkgiulpAdFSUBtf3YfKaqomQIiIdFTZsOcTlGQPRVrKiYNlP978NsaVTQURIcdZhKzUfBxqkDuIUUs+farF8c3NAMX77/7P5i1cZNTPdDnCRRB68fscQBMRZRCRDcBIAOOI6C8AQEQuIvqJQceOGC6C3XG5mwD8VnaMWHdYVQ9fUlSgCqKYHwgSLbluEVcDz7SgNzWtcWdEOsh8tu19TBp84qVQAMhw5GLzPv2wja11ONSwB9mpBZGI0SuqpbTcmnatH9DiddmpD+ctXPSMUTsTQuwHECCiAdCL4UcAVgA4HcBkAOsQh2fPXAR75lEAW2WHiFVNRI2ziwvqA0Sm6UXZE+nNSJadobeGbXsx3+h9+vxt2LR3JcZ3GBW6bMObWLbhTQDAeROvws5D6/H7F6/Hw4tux8Wn3gBHstPoGH2iqM5CW/otJaQ4P5KdpZdCAG6NwH7bzwbbi+BHHb7+8CSv6+yqSExcKYmrv1Slcbn9cDl/DGCR7Cixxgf4ZpcUbm9TlAmys8SaFG/8zTtLa9o9VPO3rAtY7GON2qfVkoT7rn7tmMemjbrwi8/T7dn4wezYbWdJZEmxpl17mr9l0eKQf+sMAPEw4OvJeQsXrYrAftvvC5ZDvxy6B8A86CNQnwSQ1cXragFkdPg6E8DRCOTrNT4T7CmXuwrAy7JjxBIBiG8WF6ysV1UugJ2wBGN/onxnSne9xSstHIeIyOq4cKaWfNbHiP0R4w0AfhGhfS8H8DUAdUKIoBCiDnqTgdOhnxV2ZTGAq+jLEeNzAPwvQhl7hYtg7/wIiM314WS4Nj936S6LxfAJ1okguU00EuCQnaMvivctngIRivcBIRGhJU043Zp6+W6AYnniuWvewkWR+vlVQx8V+vFxj7mFECc7s3sM+nvnWiJaC/134/4IZewVEiImLsvGD5fzhwAekh1Dtl9mZy5+I9UxM9rH3fvEXjStaYKWpmHo74cCAALNAex5ZA/8R/2wZFsw4PsDoNpPnGzdtK4JB547AISAjOkZyPla5FZ0Kj0ott/3VHBwxA4QYetG37jkaM4403b76Y4INR/xNj59EMJXLjvLcdYDGD9v4SKz9EPtNz4T7L2/AEjErhI9Vpme9oGMAggAGVMzUDqv9JjHjlYdhWOkA8PuHQbHSAeOVJ34R7AICez/536U/l8phtw9BO4VbrTta4tYzsI64Y7YzqNg6PaXhkKIoOwcsYoUR47NefMwUrM/kJ2lAwFgLhfA3uEi2FsudwjATQBM+QbxhiPl07+mO0+TdXz7cPsJZ3mNqxuRPjUdAJA+NR2Nq05s1OLZ4YEtzwZrrhWKpsB5qhNNqyN3ZbuwNubvG51UcltdYZK3bqXsHLGMSLPZ0r43VbWWL4E+GlO2R+YtXJRo3W4ijotgX7jcq6CfEZrKiiTb+l9mZ40GUUyNKg64A7Ck6w1qLOkWBBpP/EPYX++HJfPLJjZahgZ/vT9imQrr4v8savD212Lq5xyrLPavzrCknL8K+ghJWWqgN/1nvcRFsO/uALBXdoho2WKx7LwhP7cARBFvtBwRUb71nVcv4v53K/fIqgkUCtTIzhEPVNvIydbUq44Ayi5JEW4wsDOMqcT9L6o0eieZ78uOEQ0HVfXgZUX5FkEUkwvEak4N/gb9rM7f4IeWduIJjCXTAn/dl2d+gfoALBmRa2+a2YykiO08SgigwgMfynpTjzuKljvY5rwpDZQcifl5J/P4vIWL3o3yMRMGF8H+cLnfBPD3breLY40KuS8sLmgMEhXLztKVtPFpaPigAQDQ8EED0iaknbBNclkyvIe88B3xIRQIwb3CjdQJqRHLZG9DbLQ86adBO98YDyHi+v5mNJGSnGFz3jSWtMKlUTrkHgAx358zlnER7L/bAGyTHSISfID3guLCnW2KMkx2lnZ7HtmDHXftgPegF5t+vAl1S+qQ/bVsNK9vxpafbUHz+mZkz9bbl/rr/ah5oAYAQCqh8KpC1Nxfg60/34q0KWlIKorcyZrVH/uL6faEJeBxOpr3RPvMJq4RKZot9fLpqm3KUgCRu/Gsu3HewkVxs2RXLOJ5gkZwOU8F8AESqA1dCAjNLi74ZK/FIm0kaLyyBETbs38IGlZhF9TV4SV3AwjAMJsNv88vgE358u9XIQTuPnwYS1uakUwK7i4owKgk4wp8Q9qgjasmzhtp2A5NJOjbvsbf8voA6G3CjLZg3sJFV0dgv6bCZ4JGcLlXALhLdgwjzSnI+4ALYN/kuHHYqH0d8vvxTEM9XhxYijfKBiEI4N9Nx/7hv7SlBbv8PrxVNgi/yc/Hbw4dNOrwAID0xh0j1YBnvaE7NQnVOni8Ne2aFkAzugH/DgA/NHifpsRF0Di/x7GthOLWz3KylqxJsp24+inrkfw6UW/k/oJCoE0IBIRAWyiEXO3YAT3vNzfj4jQniAjjkpPRFAzhSMDY+dIDd/+3wdAdmoiiZpTY0m/KB6V+YtAu/QAu58ugxuAiaBSXOwDguwDiepjyX9Kdy/7tsHO7rH4oqoVhy6LnWSy4JjMTZ2/fhhnbt8GhqDjTfuyaxYcDfuRrWofXaDgUMPZW1IA9702G3iyZ9QGRLdXmvH6yYilbbMDuKuYtXPSpAfth4CJoLJd7G4Afy47RV6867J88mp52RvdbspMpqhWGVSB3MIj3m5vx30GDsXjwEHhECG+4j+3I1tldfTJ4tR9FBGyZdRuqDd2pyRCRYnV8Y6aWPG05gL727FsE4EEDY5keF0Gjudx/B/Ci7Bi9tTw5qfrO7MxyEJ3YeZr1Sl69cYPNPmptQZHFgkxNg4UIX3WkYk2b59jjaRYc7HD585A/gFzN+DFaw7a9VAYhYqE9WFzTkqacaXFcuh2gQ7186V4AV89buIhHMxqIi2BkXAtgg+wQPbXJatl+S15OMYjibiX0WJTdBJtR+yrQLFjr8cATCkEIgY9bWzDIaj1mm1kOB15vdEMIgbUeD1JVBTkRKIIpnsMDrD43T5cwgGopGW1zXhcCLD19nwgCuGLewkW1kcxlRlwEI8HlbgbwDcjtJdgjB1T1wOWF+cmCKKP7rVlPpLbCsFn445KTcU5qKi7ZVYOLa3YiBOAyZzr+1VCPfzXo42+m2+0osVhw3s4duPPgQdyRl2fU4U8weMcbfBZiEFLSCmzpN5eRkvlhDzb/zbyFi5ZFPJQJ8TzBSHI5LwbwKmDwDRqDuBVyn11SdNirKENlZ0kkz88PHFAFCmTniAQBCi2e/tA+oaglsrMkEl/LfxaHfBtnoPP3incBnDtv4SK+FB0BfCYYSS736wDulh2jM15C2wXFhTVcAI2lhERQEciVnSNSCELJP/TJDtk5Eo3Vfv5MLeUrn+DE0eU7AHybC2DkcBGMvDsBvCU7REdBIHhRUeHaRlUdJztLoslswhECEnpw0eAdr42BEF7ZORKNZht7qjX1igOA0r46TTOAi+ctXMRTUyKIi2Ck6YvwXgH9L7qY8N2CvOX7LdqpsnMkovx6kfADF6z+5ix764HPZOdIRIqWP9TmvCEJlLQWwJx5Cxd9LjtTouMiGA0udz30gTLSu/H/JCdrcTV3g4mYwlpEbrn6GDJ060sJsUpGLCLFnm1z3vLyvIWLXpGdxQy4CEaLy70OwFUApF3bfzDDufRth32mrOObQVGt8MnOEA2ZDZvHqEHvRtk5EtRzP3j07N/JDmEWXASjyeV+FZKa3r6Yal/xpDPtTBnHNpOCOnl/5ERbyZ73E/7SrwQfA7hOdggz4SIYbS73XwHcF81DLktOWvfbrMxx3A0m8rIbhbX7rRLDwN3vTIQQ7u63ZD20C8DX51bO6mtLNdYHXATlqADwXDQOtMFq2TY3L2cAiCK3giz7grMFDtkZokUN+VLSG7aulZ0jQdQCuGBu5azetlJj/cRFUAaXWwC4BsD7kTzMPk3d/53CfLsgSo/kcdiXkn1Il50hmoZtfaEE3HGjv5oAnD+3clbctFpMJFwEZXG5fdBHjK6LxO4bFKX+oqJCT4goITuXxCo1hMj1LItBjtYDZRZ/02rZOeJYG4CL51bO4qWRJOEiKJPL3QjgAgB7jNxtG5HnguLCvT6FBhu5X3ZyzhZRSzCueXa8GLSzytjFC80jAODbcytn/U92EDPjIiiby70PwHkAjhixuyAQvLC4oLpJVcqN2B/rudwGHJWdQYbCA8snQwQPyM4RZwSAa+dWznpDdhCz4yIYC1zuDQBmAf1/E/1OYf6HBzXtlP6HYr1VWCtiftWQSCAINe/wqi2yc8SZH86tnPVP2SEYF8HY4XJ/DuBs6KPE+uRHudmLN9qs04wLxXqjuFaYdmj7kO2vjoQQfFm0Z+6cWznrL7JDMB0XwViid5U5G0CvG+ben5m+9H17ykzDM7EeK6hDUHYGWWw+d26y5zAP7ujeg3MrZ3E3mBjCRTDWuNxrAXwFvSiE/0p1fLwgLXVq5EKxnshtEMYv5x5Hhm57xTRzJPvo/rmVs/5Pdgh2LC6CscjlXg3gqwDqu9t0cUrymt9nZUwAEf8sJUtvRorsDDJl130+Vgn6tsrOEaPunFs563bZIdiJ+I0zVrncqwCcA6Chq02qrdYtt+Zml4HIdMPyY1GKF6ZfWaFo31IeJXqi/+NLoLGLi2Asc7k/g35p9ITpE3s0be9VhXlpIDL9G2+ssAQTd0X5nirb9e8JEMIUy0n1QAjAjXMrZz0oOwjrGhfBWOdyrwQwDcDu9ofqFaXu4uICf4goX14w1lGyVzQRkCo7h2xa0Jua1riTO8joE+Gvmls563HZQdjJcRGMBy73ZgBnANjgIWo9v6TwgJ+oTHYs9qXcBhyWnSFWDN/6QqHsDJJ5AXxrbuWs52UHYd3jIhgv9M4y064szHu1RVFGy47DjlVYx0sKtUtt3jNE8zebdXWJFgBf404w8YOLYDxxueu2Wq03AHhNdhR2rKJatMrOEEvKdr1lxn+PQwDOnls5613ZQVjPcRGMM9Vzqj0AvgXgYdlZ2JcKa0VAdoZYUrRvyWSIkJkuEa8DcMrcylkrZAdhvcNFMA5Vz6kOVc+p/iGAn0BvxMsky2sQquwMsUQRIUv20XUbZeeIkjcAnDm3ctbubrdkMYeLYByrnlP9RwCXQ78RzyTKaDLfEkrdGbrt5WEQItFbyf0BwDfmVs5qlh2E9Q0XwThXPaf6BQDT0WEKBYs+RxtPlD9esreuIKmtNlH7ifqgL4X007mVs0Kyw7C+4yKYAKrnVH8CYCKAt2VnMSurH9myM8SiITteS8Qz5KMAvjq3ctZTsoOw/uMimCCq51TXQl+l3gW9UwWLEi0gvAqQJTtHLMo5sno8hfw7Zecw0AYAp86tnLVUdhBmDC6CCSQ8YOY3AM6HAQv0sp7JcfNE+a4QQIUHPtwjO4dBFgI4bW7lrB2ygzDjcBFMQNVzqt8BMAHAx7KzmEFBveh2tQ8zG7TzzXEQIp7nDXoBzJ1bOevyuZWzuC9qguEimKCq51TvhT5g5s+ysyS6wlrwyMCTsAQ8ztTm3Stl5+ijndCnP/xNdhAWGVwEE1j1nGp/9ZzqH0GfRsFv1BFSVCv8sjPEuqFbX8yRnaEPXgQwcW7lrHgt4KwHuAiaQPWc6oUApkC/qc8Mll8vSHaGWJfeuHOEGvB8LjtHD7UCuH5u5azL5lbOapAdhkUWF0GTqJ5TvQnAKQAeA3eZMVRWI6yyM8SDgbvfiYcm42sATJpbOesJ2UFYdHARNJHqOdUt1XOqbwJwNoDtsvMkirRWXkewJwbseX8yRKhWdo4uBAHcB3305ybZYVj0cBE0oeo51f8DMBbAA+A5hf1m8/McwZ5QRMCWWbcxFi+JroU+9+9ncytncQtCk+EiaFLVc6pbq+dUz4O+WO962XnilRISQUUgHgd9SDFs2wuDIUSs/OHlBfArAJN58It5cRE0ueo51Sugt1z7LQAe5dhLGU04QgCvINFDKZ6jxTZvQywUnI8ATJhbOev3cytn8TJYJsZFkKF6TrWvek71rwFMBvCZ7DzxJL9exOo9rpg1aOcbMkfTtgD4EYCpcytnmWWpJ3YSXATZF6rnVK8DcBqAnwLwSI4TFwrrwB1Eein/0KcTKRSQserJfwGMmVs568+88gNrx0WQHaN6TnWwek71HwCMA7BYcpyYV1QrfLIzxBuCUPIPfRLNptq7AFw+t3LWOXMrZ9VE8kBEFCSiNUT0ORG9SEQp4cd/SUTriWhd+PlTw48/QURrw4+/RESOSOZjJ+IiyDpVPad6a/Wc6rMAfB0ADxnvQkEdz7nsi8E7XiuHEG0RPkwTgF8AGDG3ctbCCB+rnUcIMV4IMQb6moM3E9HpAL4GYKIQYiyArwBobyr+YyHEuPDjuwH8IEo5WRgXQXZS1XOqXwcwBsBNAA5IjhNzctxCk50hHln9LZn2lv2RGiATAvA4gKFzK2fdM7dyVqSLbVeWARgCoADAUSGEFwCEEEeFEPvDnzcCABERgGRwI4uo4yLIuhW+RPoY9F/oOwC+D9bO2QK+fNVHQ7e9lB6B3b4HfdTnjXMrZx2KwP57hIg06EuaVQN4B0AJEW0hor8R0Yzjtn0KwEEAIwA8HPWwJsdFkPVYeG7hXQAGA/gLeEoFkn3IkJ0hXmU2bBmtBtqMGqG5BcBFcytnfWVu5ax1Bu2zL5KJaA30Uda7ATwhhGgGMAnAjQCOAFhIRFe3v0AIcQ2AQgAbAXw72oHNjosg67XqOdVHqudU3wpgFPRO+6alhpArO0M8K9n7fn+nmOwBMBf6qM83DYjUX+33BMcLIW4VQh84JYQICiEWCyF+Df2+37c6vkgIEYS+aO+3TtwliyQugqzPqudUb6ueU30Z9GkVS2Xniba0FlFHQJLsHPFs4O53JkGIvjTW3gn9zGrI3MpZf5tbOStmr0oQ0XAiGtrhofEAdpFuSHgbAnAheBBa1PFNfdZv4a4zM8oXlJ8P4OcApkmOFBV5DTgKIFN2jnimhvzJGQ1bPqnPGD6j+60B6Jc97wbwbBx1enEAeJiI0gEEAGyDXsAJwAIiSgt/vhbALbJCmhUJwYORmLHKF5SfDuBnAC6C/sudkGZUhz6duyg0RXaOeNeSkl+zYsqvBkI/G+rKegB3AXiBJ7ozI/GZIDNc9ZzqjwB8vXxB+QgAtwO4Cki8NfeKjkZ8npsp2FsPllr9Tat81rSJnTy9Bnrxe2Vu5Sz+i50Zjosgi5jwQr7XlS8ovwP6ZZ6bgMRZcaGgjpehMkrZzkWBzcOvaP8yCOBNAH+eWznrf/JSMTPgy6EsasoXlNsAfAfADwFMkByn3+59MvBB2SFMlZ0jEQhQcPH0P20SilYF4G9zK2ftkp2JmQMXQSZF+YLyadCL4cUALJLj9Mljfw6sSm9BZ5fwWO98COBRAC+M3LSRLzGzqOIiyKQqX1CeDeAyAFdCX+A3bjxzX2C7NYjBsnPEKTeAZwA8OnLTxmrZYZh5cRFkMaN8QXkZ9GJ4JfQWUjFt4T2BRgLSZOeII20A/gPgXwAWjdy0sVVyHsa4CLLYVL6gfCL0Yvgd6A2IY0qyVzQteCCYKjtHHPADeBd64Xtt5KaNjZLzMHYMLoIsppUvKFcAzIJeEL+JGDnzGnBY7Lj/ieAg2TliVAjAEuiF7+WRmzb2tzUaYxHDRZDFjfIF5UnQW0vNBvBV6E2HpThtU2j1/70aivsRrgbyAlgO4DUAL47ctPGg3DiM9QwXQRa3yheUj4ZeDL8KYAYAe7SO/a0PQsu/vSx0ZrSOF6M2Angb+lJBS/geH4tHXARZQihfUG4FcDr0gngO9KVrItYg/tY3gounrRczI7X/GFUL/f7eOwDeGblp417JeRjrNy6CLCGVLyjPhH4vsf1MsczI/d+1ILBs2P6EbxR+AMAnAFZAL34rR27ayF1yWELhImgCRFQCfamjSUKIOiLKALAKwEwArwBQoU9Yf1gIURl+DUHv2Xgp9DZWjwgh/hx+/CEAFwBoBXC1EGJVlL+lXitfUJ4LvUvN+A4fw9DHs8W//SXwaXYTEql5dgP0hWA/DX98MnLTxn1SEzEWBVwETYKIfgpgiBDiRiJ6FEANgD9C/3/AS0QOAJ8DOEMIsZ+IrgFwFvQiFyKiXCHEYSK6AMCt0IvgqQAeEkKcKuWb6qfyBeUpAMqhF8T2AlkOIKW71/7j/sCmJH/sz2XswmEAmwGsRrjgAdg6ctNGfjNgpsNF0CSIyAJgJYAnAdwAYEL7qtfh57OgvymeFi6CnwC4Qgix7bj9PApgsRDi+fDXmwHMFEIciNK3ElHhKRnDoBfE0QAGdvgohn7WjH/dEziqANmSYvZEPYAd4Y/t0IveZgCbRm7aWC8zGGOxhFeRMAkhhJ+IbgfwFoBz2gtg+FJpFYAhAG4XQuwPv2QwgG8T0TcAHAHwQyHEVgBFAPZ02PXe8GMJUQSr51SHoK/ufcIK3+ULylXo32tp+L+F0Cfyt3/kAUiFPkrVAeOXj2qC/rM4AuBoF//dD2AHFzrGeoaLoLmcD71YjQHwXwAQQuwBMJaICgG8RkQvCSEOAbABaBNCTCaib0I/g5yGzhfJNcXlhOo51UEAuwHsxpzut984YqQGvRjaO/lvEvRVxv09+K8HwNGRmzZ6Df2GGGNcBM2CiMZDHyV5GoAPiOhfHS9hhi+Brode6F6Cfob3cvjpVwE8Ff58L4CSDrsuhn72wY4zctPGAPQBJw1ykzDGuhKxeVQsdoRHdD4C4DYhxG4AfwBwPxEVE1FyeJsMAGdCv28E6J0/ZoU/nwFgS/jzNwB8j3SnAXAnyv1Axpj58MAYEyCiGwGcLYT4dvhrFfqIwDcAfAv65UwC8BchxGPhbdIBPAtgAIBmADcLIdaGC+pfAJwHfYrENUKIz6L7HTHGmDG4CDLGGDMtvhzKGGPMtLgIMsYYMy0ugowxxkyLiyBjjDHT4iLIGGPMtLgIMsYYMy0ugoyZDBElEdEnRLSWiNYT0W/Cjz9NRDvDj28hon8QUVGH111LRNVEtI6IPieii+V9F4wZg9umMWY+XgCzhBDN4dVFPiCi/4Sfu10I8VK4KcJtAP5HRGMA5AL4JYCJQgh3eOmtHBnhGTMSnwkyZjJC1xz+0hL+EJ1s8yCAg9Abr+dCX8WiOfx8sxBiZ/RSMxYZXAQZMyEiUoloDfQFdv8rhFjRxaarAIwAsBbAIQA7iegpIrowOkkZiywugoyZkBAiKIQYD30VkFPClzw7Q+3bQ+8Xewn0ZuoPEpErClEZiygugoyZmBCiAcBi6AWuMxMAbAxvK4QQnwgh7gFwOfTm64zFNS6CjJkMEeWEVwlBeCmtrwDYdNw2REQ/BFAA4C0iKiSiiR02GQ9gV3QSMxY5PDqUMfMpALAgvKSWAuAFIcQiIroEwB+I6A4AKQA+BnCWEMIXHkV6PxEVAmgDcATAzZLyM2YYXkqJMcaYafHlUMYYY6bFRZAxxphpcRFkjDFmWlwEGWOMmRYXQcYYY6bFRZAxxphpcRFkjDFmWlwEGWOMmRYXQcYYY6bFRZAxxphpcRFkjDFmWlwEGWOMmRYXQcYYY6bFRZAxxphpcRFkjDFmWlwEGWOMmRYXQcYYY6bFRZAxxphpcRFkjDFmWlwEGWOMmRYXQcYYY6bFRZAxxphpcRFkjDFmWlwEGWOMmRYXQcYYY6bFRZAxxphpcRFkjDFmWlwEGWOMmRYXQcYYY6bFRZAxxphpcRFkjDFmWv8PPD9nPG19N6IAAAAASUVORK5CYII=\n",
      "text/plain": [
       "<Figure size 576x576 with 1 Axes>"
      ]
     },
     "metadata": {},
     "output_type": "display_data"
    },
    {
     "data": {
      "image/png": "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\n",
      "text/plain": [
       "<Figure size 576x576 with 1 Axes>"
      ]
     },
     "metadata": {},
     "output_type": "display_data"
    },
    {
     "data": {
      "image/png": "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\n",
      "text/plain": [
       "<Figure size 576x576 with 1 Axes>"
      ]
     },
     "metadata": {},
     "output_type": "display_data"
    }
   ],
   "source": [
    "NA_sales_platform = good_data.groupby('platform')['NA_sales'].sum().sort_values(ascending=False)\n",
    "NA_sales_genre = good_data.groupby('genre')['NA_sales'].sum().sort_values(ascending=False)\n",
    "NA_sales_rating = good_data.groupby('rating')['NA_sales'].sum().sort_values(ascending=False)\n",
    "\n",
    "plt.figure(0)\n",
    "plt.figure(figsize=(8,8))\n",
    "plt.pie(labels=NA_sales_platform.index, x=NA_sales_platform, autopct=\"%.1f\")\n",
    "plt.title('Платформы NA')\n",
    "\n",
    "plt.figure(1)\n",
    "plt.figure(figsize=(8,8))\n",
    "plt.pie(labels=NA_sales_genre.index, x=NA_sales_genre, autopct=\"%.1f\")\n",
    "plt.title('Жанры NA')\n",
    "\n",
    "plt.figure(2)\n",
    "plt.figure(figsize=(8,8))\n",
    "plt.pie(labels=NA_sales_rating.index, x=NA_sales_rating, autopct=\"%.1f\")\n",
    "plt.title('Рейтинг NA')\n",
    "\n",
    "plt.show()"
   ]
  },
  {
   "cell_type": "markdown",
   "metadata": {},
   "source": [
    "По платформам в Северной Америке лидируют PlayStation 4,  Xbox One, Xbox 360, Nintendo 3DS и PlayStation 3. По жанрам игр картина не отличается от общей по миру: в лидерах все те же Shooter, Action, Sports и Role-Playing. Популярнее всего в странах Северной Америки игры с рейтингом «М» («Mature»). \n",
    "<br>\n",
    "Необходимо отметить, что более 20% информации по рейтингу отмечено как \"W\", а это наша \"заглушка\" для пропущенных значений, хотя рейтинг ESRB как раз используется для стран Северной Америки, поэтому из всего этого можно сделать вывод, что данные по рейтингу были собраны плохо, и в других странах количество пропусков, возможно, будет только увеличиваться, т.к. там существуют свои рейтинги."
   ]
  },
  {
   "cell_type": "markdown",
   "metadata": {},
   "source": [
    "### Европа"
   ]
  },
  {
   "cell_type": "code",
   "execution_count": 33,
   "metadata": {},
   "outputs": [
    {
     "data": {
      "text/plain": [
       "<Figure size 432x288 with 0 Axes>"
      ]
     },
     "metadata": {},
     "output_type": "display_data"
    },
    {
     "data": {
      "image/png": "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\n",
      "text/plain": [
       "<Figure size 576x576 with 1 Axes>"
      ]
     },
     "metadata": {},
     "output_type": "display_data"
    },
    {
     "data": {
      "image/png": "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\n",
      "text/plain": [
       "<Figure size 576x576 with 1 Axes>"
      ]
     },
     "metadata": {},
     "output_type": "display_data"
    },
    {
     "data": {
      "image/png": "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\n",
      "text/plain": [
       "<Figure size 576x576 with 1 Axes>"
      ]
     },
     "metadata": {},
     "output_type": "display_data"
    }
   ],
   "source": [
    "EU_sales_platform = good_data.groupby('platform')['EU_sales'].sum().sort_values(ascending=False)\n",
    "EU_sales_genre = good_data.groupby('genre')['EU_sales'].sum().sort_values(ascending=False)\n",
    "EU_sales_rating = good_data.groupby('rating')['EU_sales'].sum().sort_values(ascending=False)\n",
    "\n",
    "plt.figure(0)\n",
    "plt.figure(figsize=(8,8))\n",
    "plt.pie(labels=EU_sales_platform.index, x=EU_sales_platform, autopct=\"%.1f\")\n",
    "plt.title('Платформы EU')\n",
    "\n",
    "plt.figure(1)\n",
    "plt.figure(figsize=(8,8))\n",
    "plt.pie(labels=EU_sales_genre.index, x=EU_sales_genre, autopct=\"%.1f\")\n",
    "plt.title('Жанры EU')\n",
    "\n",
    "plt.figure(2)\n",
    "plt.figure(figsize=(8,8))\n",
    "plt.pie(labels=EU_sales_rating.index, x=EU_sales_rating, autopct=\"%.1f\")\n",
    "plt.title('Рейтинг EU')\n",
    "\n",
    "plt.show()"
   ]
  },
  {
   "cell_type": "markdown",
   "metadata": {},
   "source": [
    "Европейский рынок не сильно отличается от западного: в Европе лидируют  платформы PlayStation 4, Xbox One, PlayStation 3, PlayStation и Nintendo 3DS. По жанрам игр и рейтингу картина также остается неизменной. "
   ]
  },
  {
   "cell_type": "markdown",
   "metadata": {},
   "source": [
    "### Япония"
   ]
  },
  {
   "cell_type": "code",
   "execution_count": 34,
   "metadata": {},
   "outputs": [
    {
     "data": {
      "text/plain": [
       "<Figure size 432x288 with 0 Axes>"
      ]
     },
     "metadata": {},
     "output_type": "display_data"
    },
    {
     "data": {
      "image/png": "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\n",
      "text/plain": [
       "<Figure size 576x576 with 1 Axes>"
      ]
     },
     "metadata": {},
     "output_type": "display_data"
    },
    {
     "data": {
      "image/png": "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\n",
      "text/plain": [
       "<Figure size 576x576 with 1 Axes>"
      ]
     },
     "metadata": {},
     "output_type": "display_data"
    },
    {
     "data": {
      "image/png": "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\n",
      "text/plain": [
       "<Figure size 576x576 with 1 Axes>"
      ]
     },
     "metadata": {},
     "output_type": "display_data"
    }
   ],
   "source": [
    "JP_sales_platform = good_data.groupby('platform')['JP_sales'].sum().sort_values(ascending=False)\n",
    "JP_sales_genre = good_data.groupby('genre')['JP_sales'].sum().sort_values(ascending=False)\n",
    "JP_sales_rating = good_data.groupby('rating')['JP_sales'].sum().sort_values(ascending=False)\n",
    "\n",
    "plt.figure(0)\n",
    "plt.figure(figsize=(8,8))\n",
    "plt.pie(labels=JP_sales_platform.index, x=JP_sales_platform, autopct=\"%.1f\")\n",
    "plt.title('Платформы JP')\n",
    "\n",
    "plt.figure(1)\n",
    "plt.figure(figsize=(8,8))\n",
    "plt.pie(labels=JP_sales_genre.index, x=JP_sales_genre, autopct=\"%.1f\")\n",
    "plt.title('Жанры JP')\n",
    "\n",
    "plt.figure(2)\n",
    "plt.figure(figsize=(8,8))\n",
    "plt.pie(labels=JP_sales_rating.index, x=JP_sales_rating, autopct=\"%.1f\")\n",
    "plt.title('Рейтинг JP')\n",
    "\n",
    "plt.show()"
   ]
  },
  {
   "cell_type": "markdown",
   "metadata": {},
   "source": [
    "А вот картина по Японии уже существенно отличается от мировой: здесь со значительным перевесом лидирует платофрма Nintendo 3DS (японская компания), а уже за ней платформы семейства  PlayStation. По игровым жанрам в лидеры вырывается RPG. \n",
    "<br>\n",
    "Т.к. рейтинг ESRB не предназначен для Японии, самый популярный рейтинг в Японии из имеющихся данных - «T» («Teen»), затем «E» («Everyone»), и «М» («Mature»), но нам не следует полностью полагаться на этот вывод, ведь более 60% \"местных\" данных по рейтингу не были собраны."
   ]
  },
  {
   "cell_type": "markdown",
   "metadata": {},
   "source": [
    "## Проверка гипотез"
   ]
  },
  {
   "cell_type": "markdown",
   "metadata": {},
   "source": [
    "### Пользовательские рейтинги платформ Xbox One и PC "
   ]
  },
  {
   "cell_type": "markdown",
   "metadata": {},
   "source": [
    "Выдвенем нулевую и альтернативную гипотезы для первого утверждения «Средние пользовательские рейтинги платформ Xbox One и PC одинаковые»:\n",
    "<br>\n",
    "H0 - «Средние рейтинги платформ Xbox One и PC одинаковые»\n",
    "<br>\n",
    "H1 - «Средние рейтинги платформ Xbox One и PC различаются»\n",
    "<br>\n",
    "Наши две генеральные совокупности по двум платформам никак не зависят друг от друга, поэтому выбираем метод ttest_ind."
   ]
  },
  {
   "cell_type": "code",
   "execution_count": 35,
   "metadata": {},
   "outputs": [
    {
     "name": "stdout",
     "output_type": "stream",
     "text": [
      "165\n",
      "122\n"
     ]
    }
   ],
   "source": [
    "# Избавимся от пропусков перед проведением теста:\n",
    "data_xone = good_data[good_data['platform']==\"XOne\"]['user_score'].dropna() \n",
    "data_pc = good_data[good_data['platform']==\"PC\"]['user_score'].dropna()\n",
    "\n",
    "# Узнаем размеры совокупностей:\n",
    "print(good_data.query('platform == \"XOne\"')['user_score'].count())\n",
    "print(good_data.query('platform == \"PC\"')['user_score'].count())\n"
   ]
  },
  {
   "cell_type": "markdown",
   "metadata": {},
   "source": [
    "И так как данные не сильно различаются по размеру, устанавливаем параметр equal_var = True."
   ]
  },
  {
   "cell_type": "code",
   "execution_count": 36,
   "metadata": {},
   "outputs": [
    {
     "name": "stdout",
     "output_type": "stream",
     "text": [
      "p-значение: 0.10450507919348415\n",
      "Не получилось отвергнуть нулевую гипотезу\n"
     ]
    }
   ],
   "source": [
    "alpha = 0.05\n",
    "\n",
    "results = st.ttest_ind(\n",
    "    data_xone, \n",
    "    data_pc, equal_var = True)\n",
    "\n",
    "print('p-значение:', results.pvalue)\n",
    "\n",
    "if results.pvalue < alpha:\n",
    "    print(\"Отвергаем нулевую гипотезу\")\n",
    "else:\n",
    "    print(\"Не получилось отвергнуть нулевую гипотезу\") \n"
   ]
  },
  {
   "cell_type": "markdown",
   "metadata": {},
   "source": [
    "###  Пользовательские рейтинги жанров Action и Sports"
   ]
  },
  {
   "cell_type": "markdown",
   "metadata": {},
   "source": [
    "Выдвенем нулевую и альтернативную гипотезы для второго утверждения «Средние пользовательские рейтинги жанров Action и Sports разные»:\n",
    "<br>\n",
    "H0 - «Средние  рейтинги жанров Action и Sports одинаковы»\n",
    "<br>\n",
    "H1 - «Средние  рейтинги жанров Action и Sports разные»\n",
    "<br>\n",
    "Наши две генеральные совокупности по двум платформам никак не зависят друг от друга, поэтому выбираем метод ttest_ind."
   ]
  },
  {
   "cell_type": "code",
   "execution_count": 37,
   "metadata": {},
   "outputs": [
    {
     "name": "stdout",
     "output_type": "stream",
     "text": [
      "297\n",
      "127\n"
     ]
    }
   ],
   "source": [
    "# Избавимся от пропусков перед проведением теста:\n",
    "data_action = good_data[good_data['genre']==\"Action\"]['user_score'].dropna() \n",
    "data_sports = good_data[good_data['genre']==\"Sports\"]['user_score'].dropna()\n",
    "\n",
    "# Узнаем размеры совокупностей:\n",
    "print(good_data.query('genre == \"Action\"')['user_score'].count())\n",
    "print(good_data.query('genre == \"Sports\"')['user_score'].count())\n"
   ]
  },
  {
   "cell_type": "markdown",
   "metadata": {},
   "source": [
    "Данные сильно различаются по размеру, устанавливаем параметр equal_var = False."
   ]
  },
  {
   "cell_type": "code",
   "execution_count": 38,
   "metadata": {},
   "outputs": [
    {
     "name": "stdout",
     "output_type": "stream",
     "text": [
      "p-значение: 1.1825550382644557e-14\n",
      "Отвергаем нулевую гипотезу\n"
     ]
    }
   ],
   "source": [
    "alpha = 0.05\n",
    "\n",
    "results = st.ttest_ind(\n",
    "    data_action, \n",
    "    data_sports, equal_var = False)\n",
    "\n",
    "print('p-значение:', results.pvalue)\n",
    "\n",
    "if results.pvalue < alpha:\n",
    "    print(\"Отвергаем нулевую гипотезу\")\n",
    "else:\n",
    "    print(\"Не получилось отвергнуть нулевую гипотезу\") \n"
   ]
  },
  {
   "cell_type": "markdown",
   "metadata": {},
   "source": [
    "## Общий вывод"
   ]
  },
  {
   "cell_type": "markdown",
   "metadata": {},
   "source": [
    "Анализ данных о продаже игр мы начали с предобработки: переименовали столбцы, изменили тип некоторых данных, удалили несколько строк с пропусками, добавили дополнительный столбец с расчетами. На их основе был произведен сравнительный анализ показателей.\n",
    "<br>\n",
    "Мы пришли к следующим выводам:\n",
    "   - проанализировав периоды роста игровых релизов и срок появления и исчезновения новых платформ, мы пришли к заключению, что актуальный период для анализа игрового рынка на 2017 год - 3 года (2014, 2015, 2016);\n",
    "   - самыми прибыльными платформами являются PlayStation 4, Xbox One и Nintendo 3DS. При этом с 2015 года наблюдается падение продаж у всех трех компаний;\n",
    "   - в то время как отзывы критиков имеют влияние на игровые продажи, отзывы самих игроков практически не влияют на коммерческий успех релиза;\n",
    "   - жанр Shooter является наиболее прибыльным;\n",
    "   - мы также составили портреты пользователей трех регионов продаж: Северной Америки, Европы и Японии. Игроки из Японии сильно отличаются от остальных регоионов в своих предподчетиниях по всем параметрам, в то время как покупатели из Северной Америки и Европы практически идентичны.\n",
    "   \n",
    "<br>\n",
    "Нами также было проверено 2 утверждения: «Средние рейтинги платформ Xbox One и PC одинаковые» и «Средние  рейтинги жанров Action и Sports одинаковые». Первое утверждение можно считать верными, второе  - не подтвердилось.\n",
    "<br>\n",
    "<br>\n",
    "Итогом нашего исследования стало понимание, что в 2017 году к коммерческому успеху приведут продажи платформ PlayStation 4 и Xbox One. Маркетологам стоит сконцентрироваться на беспроигрышных \"стрелялках\", либо, если компания готова рискнуть, на  \"платформерых\" или спортивных симуляторах с рейтингом \"M\". Внимание стоит обратить на отзывы экспертов; отзывы пользователей не критичны для продаж.  Для японского рынка картина чуть другая: лидером по платформам останется Nintendo 3DS, и наиболее прибыльными станет жанр Role-Playing. Здесть поработать придется и с отзывами игроков, и критиков.\n"
   ]
  }
 ],
 "metadata": {
  "ExecuteTimeLog": [
   {
    "duration": 1279,
    "start_time": "2022-06-27T11:24:50.395Z"
   },
   {
    "duration": 49,
    "start_time": "2022-06-27T11:25:19.259Z"
   },
   {
    "duration": 63,
    "start_time": "2022-06-27T11:25:43.118Z"
   },
   {
    "duration": 5,
    "start_time": "2022-06-27T11:35:58.694Z"
   },
   {
    "duration": 95,
    "start_time": "2022-06-27T11:36:05.609Z"
   },
   {
    "duration": 7,
    "start_time": "2022-06-27T11:37:04.359Z"
   },
   {
    "duration": 10,
    "start_time": "2022-06-27T11:37:19.254Z"
   },
   {
    "duration": 13,
    "start_time": "2022-06-27T11:38:02.906Z"
   },
   {
    "duration": 10,
    "start_time": "2022-06-27T11:41:50.529Z"
   },
   {
    "duration": 5,
    "start_time": "2022-06-27T11:41:56.672Z"
   },
   {
    "duration": 22,
    "start_time": "2022-06-27T11:43:07.294Z"
   },
   {
    "duration": 27,
    "start_time": "2022-06-27T11:43:11.127Z"
   },
   {
    "duration": 11,
    "start_time": "2022-06-27T11:46:38.816Z"
   },
   {
    "duration": 12,
    "start_time": "2022-06-27T12:18:44.772Z"
   },
   {
    "duration": 14,
    "start_time": "2022-06-27T12:27:25.779Z"
   },
   {
    "duration": 1497,
    "start_time": "2022-06-29T08:25:25.817Z"
   },
   {
    "duration": 8,
    "start_time": "2022-06-29T08:25:31.466Z"
   },
   {
    "duration": 14,
    "start_time": "2022-06-29T08:25:35.390Z"
   },
   {
    "duration": 26,
    "start_time": "2022-06-29T08:32:30.696Z"
   },
   {
    "duration": 112,
    "start_time": "2022-06-29T08:44:16.358Z"
   },
   {
    "duration": 10,
    "start_time": "2022-06-29T08:45:57.817Z"
   },
   {
    "duration": 20,
    "start_time": "2022-06-29T08:46:14.275Z"
   },
   {
    "duration": 39,
    "start_time": "2022-06-29T08:47:16.735Z"
   },
   {
    "duration": 50,
    "start_time": "2022-06-29T08:47:44.399Z"
   },
   {
    "duration": 18,
    "start_time": "2022-06-29T08:48:30.734Z"
   },
   {
    "duration": 26,
    "start_time": "2022-06-29T08:52:31.445Z"
   },
   {
    "duration": 9,
    "start_time": "2022-06-29T09:10:16.294Z"
   },
   {
    "duration": 0,
    "start_time": "2022-06-29T09:24:42.397Z"
   },
   {
    "duration": 16,
    "start_time": "2022-06-29T09:25:02.673Z"
   },
   {
    "duration": 13,
    "start_time": "2022-06-29T09:25:05.243Z"
   },
   {
    "duration": 7,
    "start_time": "2022-06-29T09:25:20.720Z"
   },
   {
    "duration": 9,
    "start_time": "2022-06-29T09:26:03.388Z"
   },
   {
    "duration": 8,
    "start_time": "2022-06-29T09:26:31.132Z"
   },
   {
    "duration": 15,
    "start_time": "2022-06-29T09:26:38.382Z"
   },
   {
    "duration": 9,
    "start_time": "2022-06-29T09:26:50.586Z"
   },
   {
    "duration": 1153,
    "start_time": "2022-06-29T09:26:58.708Z"
   },
   {
    "duration": 7,
    "start_time": "2022-06-29T09:26:59.863Z"
   },
   {
    "duration": 17,
    "start_time": "2022-06-29T09:26:59.871Z"
   },
   {
    "duration": 20,
    "start_time": "2022-06-29T09:26:59.890Z"
   },
   {
    "duration": 37,
    "start_time": "2022-06-29T09:26:59.912Z"
   },
   {
    "duration": 17,
    "start_time": "2022-06-29T09:26:59.950Z"
   },
   {
    "duration": 9,
    "start_time": "2022-06-29T09:26:59.968Z"
   },
   {
    "duration": 8,
    "start_time": "2022-06-29T09:27:31.079Z"
   },
   {
    "duration": 100,
    "start_time": "2022-06-29T09:27:47.855Z"
   },
   {
    "duration": 85,
    "start_time": "2022-06-29T09:31:22.149Z"
   },
   {
    "duration": 324,
    "start_time": "2022-06-29T09:31:39.629Z"
   },
   {
    "duration": 403,
    "start_time": "2022-06-29T09:33:56.576Z"
   },
   {
    "duration": 8,
    "start_time": "2022-06-29T09:50:53.062Z"
   },
   {
    "duration": 12,
    "start_time": "2022-06-29T09:51:08.591Z"
   },
   {
    "duration": 9,
    "start_time": "2022-06-29T09:51:57.308Z"
   },
   {
    "duration": 7,
    "start_time": "2022-06-29T09:52:10.019Z"
   },
   {
    "duration": 7,
    "start_time": "2022-06-29T09:52:38.865Z"
   },
   {
    "duration": 7,
    "start_time": "2022-06-29T09:59:10.490Z"
   },
   {
    "duration": 7,
    "start_time": "2022-06-29T09:59:17.471Z"
   },
   {
    "duration": 11,
    "start_time": "2022-06-29T10:02:21.071Z"
   },
   {
    "duration": 11,
    "start_time": "2022-06-29T10:02:48.304Z"
   },
   {
    "duration": 16,
    "start_time": "2022-06-29T10:12:22.278Z"
   },
   {
    "duration": 460,
    "start_time": "2022-06-29T10:12:42.637Z"
   },
   {
    "duration": 12,
    "start_time": "2022-06-29T10:12:58.284Z"
   },
   {
    "duration": 3,
    "start_time": "2022-06-29T10:18:02.079Z"
   },
   {
    "duration": 2,
    "start_time": "2022-06-29T10:18:08.968Z"
   },
   {
    "duration": 19,
    "start_time": "2022-06-29T10:19:50.186Z"
   },
   {
    "duration": 1369,
    "start_time": "2022-06-29T10:20:17.335Z"
   },
   {
    "duration": 8,
    "start_time": "2022-06-29T10:20:18.706Z"
   },
   {
    "duration": 27,
    "start_time": "2022-06-29T10:20:18.716Z"
   },
   {
    "duration": 21,
    "start_time": "2022-06-29T10:20:18.746Z"
   },
   {
    "duration": 19,
    "start_time": "2022-06-29T10:20:18.769Z"
   },
   {
    "duration": 17,
    "start_time": "2022-06-29T10:20:18.789Z"
   },
   {
    "duration": 417,
    "start_time": "2022-06-29T10:20:18.807Z"
   },
   {
    "duration": 17,
    "start_time": "2022-06-29T10:20:19.226Z"
   },
   {
    "duration": 3,
    "start_time": "2022-06-29T10:20:19.245Z"
   },
   {
    "duration": 124,
    "start_time": "2022-06-29T10:20:19.250Z"
   },
   {
    "duration": 17,
    "start_time": "2022-06-29T10:22:43.802Z"
   },
   {
    "duration": 20,
    "start_time": "2022-06-29T10:23:22.018Z"
   },
   {
    "duration": 9,
    "start_time": "2022-06-29T10:23:37.847Z"
   },
   {
    "duration": 3,
    "start_time": "2022-06-29T10:23:41.776Z"
   },
   {
    "duration": 16,
    "start_time": "2022-06-29T10:23:44.793Z"
   },
   {
    "duration": 155,
    "start_time": "2022-06-29T10:24:17.008Z"
   },
   {
    "duration": 95,
    "start_time": "2022-06-29T10:24:26.504Z"
   },
   {
    "duration": 273,
    "start_time": "2022-06-29T10:24:59.389Z"
   },
   {
    "duration": 226,
    "start_time": "2022-06-29T10:42:49.331Z"
   },
   {
    "duration": 12,
    "start_time": "2022-06-29T11:26:39.979Z"
   },
   {
    "duration": 6,
    "start_time": "2022-06-29T11:26:55.458Z"
   },
   {
    "duration": 82,
    "start_time": "2022-06-29T11:30:01.488Z"
   },
   {
    "duration": 7,
    "start_time": "2022-06-29T11:30:35.612Z"
   },
   {
    "duration": 78,
    "start_time": "2022-06-29T11:30:38.065Z"
   },
   {
    "duration": 161,
    "start_time": "2022-06-29T11:32:02.122Z"
   },
   {
    "duration": 28,
    "start_time": "2022-06-29T11:32:22.284Z"
   },
   {
    "duration": 13,
    "start_time": "2022-06-29T11:44:01.970Z"
   },
   {
    "duration": 345,
    "start_time": "2022-06-29T11:44:26.708Z"
   },
   {
    "duration": 301,
    "start_time": "2022-06-29T11:46:24.913Z"
   },
   {
    "duration": 284,
    "start_time": "2022-06-29T11:47:15.075Z"
   },
   {
    "duration": 397,
    "start_time": "2022-06-29T11:47:39.007Z"
   },
   {
    "duration": 108,
    "start_time": "2022-06-29T12:03:50.306Z"
   },
   {
    "duration": 9,
    "start_time": "2022-06-29T12:06:34.578Z"
   },
   {
    "duration": 1143,
    "start_time": "2022-06-29T12:07:05.489Z"
   },
   {
    "duration": 6,
    "start_time": "2022-06-29T12:07:06.634Z"
   },
   {
    "duration": 27,
    "start_time": "2022-06-29T12:07:06.642Z"
   },
   {
    "duration": 35,
    "start_time": "2022-06-29T12:07:06.671Z"
   },
   {
    "duration": 16,
    "start_time": "2022-06-29T12:07:06.708Z"
   },
   {
    "duration": 15,
    "start_time": "2022-06-29T12:07:06.725Z"
   },
   {
    "duration": 361,
    "start_time": "2022-06-29T12:07:06.742Z"
   },
   {
    "duration": 9,
    "start_time": "2022-06-29T12:07:07.105Z"
   },
   {
    "duration": 9,
    "start_time": "2022-06-29T12:07:07.116Z"
   },
   {
    "duration": 304,
    "start_time": "2022-06-29T12:07:07.141Z"
   },
   {
    "duration": 7,
    "start_time": "2022-06-29T12:07:07.448Z"
   },
   {
    "duration": 323,
    "start_time": "2022-06-29T12:07:07.457Z"
   },
   {
    "duration": 108,
    "start_time": "2022-06-29T12:07:07.782Z"
   },
   {
    "duration": 1221,
    "start_time": "2022-06-29T12:08:10.969Z"
   },
   {
    "duration": 7,
    "start_time": "2022-06-29T12:08:12.192Z"
   },
   {
    "duration": 23,
    "start_time": "2022-06-29T12:08:12.200Z"
   },
   {
    "duration": 28,
    "start_time": "2022-06-29T12:08:12.225Z"
   },
   {
    "duration": 20,
    "start_time": "2022-06-29T12:08:12.255Z"
   },
   {
    "duration": 17,
    "start_time": "2022-06-29T12:08:12.276Z"
   },
   {
    "duration": 382,
    "start_time": "2022-06-29T12:08:12.295Z"
   },
   {
    "duration": 8,
    "start_time": "2022-06-29T12:08:12.679Z"
   },
   {
    "duration": 14,
    "start_time": "2022-06-29T12:08:12.690Z"
   },
   {
    "duration": 258,
    "start_time": "2022-06-29T12:08:12.707Z"
   },
   {
    "duration": 8,
    "start_time": "2022-06-29T12:08:12.967Z"
   },
   {
    "duration": 299,
    "start_time": "2022-06-29T12:08:12.977Z"
   },
   {
    "duration": 247,
    "start_time": "2022-06-29T12:08:13.277Z"
   },
   {
    "duration": 112,
    "start_time": "2022-06-29T12:09:00.446Z"
   },
   {
    "duration": 219,
    "start_time": "2022-06-29T12:09:25.842Z"
   },
   {
    "duration": 311,
    "start_time": "2022-06-29T12:09:34.737Z"
   },
   {
    "duration": 195,
    "start_time": "2022-06-29T12:09:56.425Z"
   },
   {
    "duration": 125,
    "start_time": "2022-06-29T12:10:25.942Z"
   },
   {
    "duration": 225,
    "start_time": "2022-06-29T12:10:33.110Z"
   },
   {
    "duration": 219,
    "start_time": "2022-06-29T12:10:56.090Z"
   },
   {
    "duration": 102,
    "start_time": "2022-06-29T12:13:53.890Z"
   },
   {
    "duration": 258,
    "start_time": "2022-06-29T12:14:01.700Z"
   },
   {
    "duration": 349,
    "start_time": "2022-06-29T12:14:16.053Z"
   },
   {
    "duration": 16,
    "start_time": "2022-06-29T12:30:38.472Z"
   },
   {
    "duration": 1829,
    "start_time": "2022-06-29T12:33:18.966Z"
   },
   {
    "duration": 14,
    "start_time": "2022-06-29T12:33:42.652Z"
   },
   {
    "duration": 171,
    "start_time": "2022-06-29T12:34:00.792Z"
   },
   {
    "duration": 187,
    "start_time": "2022-06-29T12:34:07.850Z"
   },
   {
    "duration": 183,
    "start_time": "2022-06-29T12:34:21.185Z"
   },
   {
    "duration": 180,
    "start_time": "2022-06-29T12:34:33.703Z"
   },
   {
    "duration": 178,
    "start_time": "2022-06-29T12:34:52.088Z"
   },
   {
    "duration": 176,
    "start_time": "2022-06-29T12:35:00.674Z"
   },
   {
    "duration": 198,
    "start_time": "2022-06-29T12:36:43.434Z"
   },
   {
    "duration": 184,
    "start_time": "2022-06-29T12:36:48.577Z"
   },
   {
    "duration": 17,
    "start_time": "2022-06-29T12:42:23.932Z"
   },
   {
    "duration": 1197,
    "start_time": "2022-06-29T12:52:10.516Z"
   },
   {
    "duration": 7,
    "start_time": "2022-06-29T12:52:11.714Z"
   },
   {
    "duration": 19,
    "start_time": "2022-06-29T12:52:11.723Z"
   },
   {
    "duration": 16,
    "start_time": "2022-06-29T12:52:11.744Z"
   },
   {
    "duration": 17,
    "start_time": "2022-06-29T12:52:11.762Z"
   },
   {
    "duration": 15,
    "start_time": "2022-06-29T12:52:11.781Z"
   },
   {
    "duration": 352,
    "start_time": "2022-06-29T12:52:11.798Z"
   },
   {
    "duration": 8,
    "start_time": "2022-06-29T12:52:12.152Z"
   },
   {
    "duration": 8,
    "start_time": "2022-06-29T12:52:12.161Z"
   },
   {
    "duration": 234,
    "start_time": "2022-06-29T12:52:12.171Z"
   },
   {
    "duration": 7,
    "start_time": "2022-06-29T12:52:12.407Z"
   },
   {
    "duration": 291,
    "start_time": "2022-06-29T12:52:12.416Z"
   },
   {
    "duration": 265,
    "start_time": "2022-06-29T12:52:12.708Z"
   },
   {
    "duration": 15,
    "start_time": "2022-06-29T12:52:12.975Z"
   },
   {
    "duration": 170,
    "start_time": "2022-06-29T12:52:12.991Z"
   },
   {
    "duration": 157,
    "start_time": "2022-06-29T12:52:13.162Z"
   },
   {
    "duration": 21,
    "start_time": "2022-06-29T12:52:13.321Z"
   },
   {
    "duration": 15,
    "start_time": "2022-06-29T12:53:33.986Z"
   },
   {
    "duration": 13,
    "start_time": "2022-06-29T12:54:27.653Z"
   },
   {
    "duration": 12,
    "start_time": "2022-06-29T12:55:09.949Z"
   },
   {
    "duration": 12,
    "start_time": "2022-06-29T12:56:01.917Z"
   },
   {
    "duration": 13,
    "start_time": "2022-06-29T12:56:49.365Z"
   },
   {
    "duration": 107,
    "start_time": "2022-06-29T12:58:04.017Z"
   },
   {
    "duration": 76,
    "start_time": "2022-06-29T12:58:10.988Z"
   },
   {
    "duration": 14,
    "start_time": "2022-06-29T12:58:27.486Z"
   },
   {
    "duration": 5,
    "start_time": "2022-06-29T13:05:24.231Z"
   },
   {
    "duration": 6,
    "start_time": "2022-06-29T13:06:06.339Z"
   },
   {
    "duration": 5,
    "start_time": "2022-06-29T13:06:14.708Z"
   },
   {
    "duration": 4,
    "start_time": "2022-06-29T13:06:43.580Z"
   },
   {
    "duration": 5,
    "start_time": "2022-06-29T13:06:54.447Z"
   },
   {
    "duration": 63,
    "start_time": "2022-06-29T13:07:05.363Z"
   },
   {
    "duration": 1207,
    "start_time": "2022-06-29T13:07:12.093Z"
   },
   {
    "duration": 7,
    "start_time": "2022-06-29T13:07:13.302Z"
   },
   {
    "duration": 16,
    "start_time": "2022-06-29T13:07:13.311Z"
   },
   {
    "duration": 27,
    "start_time": "2022-06-29T13:07:13.330Z"
   },
   {
    "duration": 18,
    "start_time": "2022-06-29T13:07:13.358Z"
   },
   {
    "duration": 23,
    "start_time": "2022-06-29T13:07:13.377Z"
   },
   {
    "duration": 391,
    "start_time": "2022-06-29T13:07:13.401Z"
   },
   {
    "duration": 8,
    "start_time": "2022-06-29T13:07:13.793Z"
   },
   {
    "duration": 6,
    "start_time": "2022-06-29T13:07:13.803Z"
   },
   {
    "duration": 261,
    "start_time": "2022-06-29T13:07:13.812Z"
   },
   {
    "duration": 8,
    "start_time": "2022-06-29T13:07:14.075Z"
   },
   {
    "duration": 302,
    "start_time": "2022-06-29T13:07:14.085Z"
   },
   {
    "duration": 267,
    "start_time": "2022-06-29T13:07:14.388Z"
   },
   {
    "duration": 14,
    "start_time": "2022-06-29T13:07:14.657Z"
   },
   {
    "duration": 171,
    "start_time": "2022-06-29T13:07:14.672Z"
   },
   {
    "duration": 170,
    "start_time": "2022-06-29T13:07:14.844Z"
   },
   {
    "duration": 13,
    "start_time": "2022-06-29T13:07:15.016Z"
   },
   {
    "duration": 19,
    "start_time": "2022-06-29T13:07:15.031Z"
   },
   {
    "duration": 18,
    "start_time": "2022-06-29T13:07:15.052Z"
   },
   {
    "duration": 16,
    "start_time": "2022-06-29T13:07:15.072Z"
   },
   {
    "duration": 8,
    "start_time": "2022-06-29T13:07:15.090Z"
   },
   {
    "duration": 4,
    "start_time": "2022-06-29T13:07:20.916Z"
   },
   {
    "duration": 131,
    "start_time": "2022-06-29T13:08:21.656Z"
   },
   {
    "duration": 11,
    "start_time": "2022-06-29T13:08:30.289Z"
   },
   {
    "duration": 11,
    "start_time": "2022-06-29T13:09:41.490Z"
   },
   {
    "duration": 10,
    "start_time": "2022-06-29T13:12:13.861Z"
   },
   {
    "duration": 13,
    "start_time": "2022-06-29T13:12:17.566Z"
   },
   {
    "duration": 192,
    "start_time": "2022-06-29T13:12:31.005Z"
   },
   {
    "duration": 147,
    "start_time": "2022-06-29T13:12:56.537Z"
   },
   {
    "duration": 150,
    "start_time": "2022-06-29T13:13:12.820Z"
   },
   {
    "duration": 132,
    "start_time": "2022-06-29T13:13:20.073Z"
   },
   {
    "duration": 148,
    "start_time": "2022-06-29T13:13:25.213Z"
   },
   {
    "duration": 137,
    "start_time": "2022-06-29T13:13:34.281Z"
   },
   {
    "duration": 141,
    "start_time": "2022-06-29T13:13:39.333Z"
   },
   {
    "duration": 199,
    "start_time": "2022-06-29T13:15:02.658Z"
   },
   {
    "duration": 9,
    "start_time": "2022-06-29T13:16:04.718Z"
   },
   {
    "duration": 191,
    "start_time": "2022-06-29T13:16:12.726Z"
   },
   {
    "duration": 1374,
    "start_time": "2022-06-29T17:06:50.278Z"
   },
   {
    "duration": 6,
    "start_time": "2022-06-29T17:06:51.654Z"
   },
   {
    "duration": 25,
    "start_time": "2022-06-29T17:06:51.662Z"
   },
   {
    "duration": 28,
    "start_time": "2022-06-29T17:06:51.690Z"
   },
   {
    "duration": 33,
    "start_time": "2022-06-29T17:06:51.719Z"
   },
   {
    "duration": 26,
    "start_time": "2022-06-29T17:06:51.754Z"
   },
   {
    "duration": 420,
    "start_time": "2022-06-29T17:06:51.782Z"
   },
   {
    "duration": 9,
    "start_time": "2022-06-29T17:06:52.204Z"
   },
   {
    "duration": 7,
    "start_time": "2022-06-29T17:06:52.215Z"
   },
   {
    "duration": 251,
    "start_time": "2022-06-29T17:06:52.225Z"
   },
   {
    "duration": 8,
    "start_time": "2022-06-29T17:06:52.478Z"
   },
   {
    "duration": 337,
    "start_time": "2022-06-29T17:06:52.488Z"
   },
   {
    "duration": 363,
    "start_time": "2022-06-29T17:06:52.826Z"
   },
   {
    "duration": 18,
    "start_time": "2022-06-29T17:06:53.191Z"
   },
   {
    "duration": 231,
    "start_time": "2022-06-29T17:06:53.211Z"
   },
   {
    "duration": 166,
    "start_time": "2022-06-29T17:06:53.452Z"
   },
   {
    "duration": 18,
    "start_time": "2022-06-29T17:06:53.620Z"
   },
   {
    "duration": 36,
    "start_time": "2022-06-29T17:06:53.640Z"
   },
   {
    "duration": 22,
    "start_time": "2022-06-29T17:06:53.679Z"
   },
   {
    "duration": 21,
    "start_time": "2022-06-29T17:06:53.703Z"
   },
   {
    "duration": 27,
    "start_time": "2022-06-29T17:06:53.727Z"
   },
   {
    "duration": 251,
    "start_time": "2022-06-29T17:06:53.756Z"
   },
   {
    "duration": 171,
    "start_time": "2022-06-29T17:08:44.520Z"
   },
   {
    "duration": 104,
    "start_time": "2022-06-29T17:09:09.837Z"
   },
   {
    "duration": 146,
    "start_time": "2022-06-29T17:09:20.640Z"
   },
   {
    "duration": 147,
    "start_time": "2022-06-29T17:10:19.157Z"
   },
   {
    "duration": 147,
    "start_time": "2022-06-29T17:10:24.951Z"
   },
   {
    "duration": 147,
    "start_time": "2022-06-29T17:10:29.052Z"
   },
   {
    "duration": 134,
    "start_time": "2022-06-29T17:22:35.465Z"
   },
   {
    "duration": 137,
    "start_time": "2022-06-29T17:22:44.193Z"
   },
   {
    "duration": 201,
    "start_time": "2022-06-29T17:23:33.445Z"
   },
   {
    "duration": 132,
    "start_time": "2022-06-29T17:23:55.720Z"
   },
   {
    "duration": 146,
    "start_time": "2022-06-29T17:24:41.104Z"
   },
   {
    "duration": 162,
    "start_time": "2022-06-29T17:24:54.014Z"
   },
   {
    "duration": 242,
    "start_time": "2022-06-29T17:25:17.891Z"
   },
   {
    "duration": 144,
    "start_time": "2022-06-29T17:25:36.503Z"
   },
   {
    "duration": 196,
    "start_time": "2022-06-29T17:26:40.112Z"
   },
   {
    "duration": 160,
    "start_time": "2022-06-29T17:26:51.514Z"
   },
   {
    "duration": 163,
    "start_time": "2022-06-29T17:30:14.413Z"
   },
   {
    "duration": 56,
    "start_time": "2022-06-30T19:39:00.849Z"
   },
   {
    "duration": 1632,
    "start_time": "2022-06-30T19:39:07.757Z"
   },
   {
    "duration": 9,
    "start_time": "2022-06-30T19:39:09.391Z"
   },
   {
    "duration": 36,
    "start_time": "2022-06-30T19:39:09.402Z"
   },
   {
    "duration": 36,
    "start_time": "2022-06-30T19:39:09.441Z"
   },
   {
    "duration": 25,
    "start_time": "2022-06-30T19:39:09.480Z"
   },
   {
    "duration": 29,
    "start_time": "2022-06-30T19:39:09.507Z"
   },
   {
    "duration": 397,
    "start_time": "2022-06-30T19:39:09.538Z"
   },
   {
    "duration": 9,
    "start_time": "2022-06-30T19:39:09.937Z"
   },
   {
    "duration": 2,
    "start_time": "2022-06-30T19:39:09.949Z"
   },
   {
    "duration": 276,
    "start_time": "2022-06-30T19:39:09.955Z"
   },
   {
    "duration": 7,
    "start_time": "2022-06-30T19:39:10.233Z"
   },
   {
    "duration": 305,
    "start_time": "2022-06-30T19:39:10.241Z"
   },
   {
    "duration": 274,
    "start_time": "2022-06-30T19:39:10.548Z"
   },
   {
    "duration": 14,
    "start_time": "2022-06-30T19:39:10.826Z"
   },
   {
    "duration": 189,
    "start_time": "2022-06-30T19:39:10.842Z"
   },
   {
    "duration": 166,
    "start_time": "2022-06-30T19:39:11.033Z"
   },
   {
    "duration": 16,
    "start_time": "2022-06-30T19:39:11.200Z"
   },
   {
    "duration": 14,
    "start_time": "2022-06-30T19:39:11.225Z"
   },
   {
    "duration": 16,
    "start_time": "2022-06-30T19:39:11.240Z"
   },
   {
    "duration": 16,
    "start_time": "2022-06-30T19:39:11.258Z"
   },
   {
    "duration": 8,
    "start_time": "2022-06-30T19:39:11.276Z"
   },
   {
    "duration": 342,
    "start_time": "2022-06-30T19:39:11.286Z"
   },
   {
    "duration": 117,
    "start_time": "2022-06-30T19:39:11.630Z"
   },
   {
    "duration": 191,
    "start_time": "2022-06-30T19:39:36.869Z"
   },
   {
    "duration": 194,
    "start_time": "2022-06-30T19:41:53.920Z"
   },
   {
    "duration": 183,
    "start_time": "2022-06-30T19:42:10.480Z"
   },
   {
    "duration": 11,
    "start_time": "2022-06-30T19:43:45.725Z"
   },
   {
    "duration": 9,
    "start_time": "2022-06-30T19:44:24.959Z"
   },
   {
    "duration": 17,
    "start_time": "2022-06-30T19:44:31.939Z"
   },
   {
    "duration": 14,
    "start_time": "2022-06-30T19:44:44.213Z"
   },
   {
    "duration": 21,
    "start_time": "2022-06-30T19:46:12.249Z"
   },
   {
    "duration": 15,
    "start_time": "2022-06-30T19:49:48.602Z"
   },
   {
    "duration": 22,
    "start_time": "2022-06-30T19:50:00.012Z"
   },
   {
    "duration": 17,
    "start_time": "2022-06-30T19:50:09.081Z"
   },
   {
    "duration": 14,
    "start_time": "2022-06-30T19:50:13.680Z"
   },
   {
    "duration": 151,
    "start_time": "2022-06-30T19:52:31.098Z"
   },
   {
    "duration": 152,
    "start_time": "2022-06-30T19:53:11.026Z"
   },
   {
    "duration": 15,
    "start_time": "2022-06-30T19:53:18.526Z"
   },
   {
    "duration": 149,
    "start_time": "2022-06-30T19:57:33.957Z"
   },
   {
    "duration": 15,
    "start_time": "2022-06-30T19:59:06.396Z"
   },
   {
    "duration": 22,
    "start_time": "2022-06-30T19:59:52.987Z"
   },
   {
    "duration": 15,
    "start_time": "2022-06-30T20:00:01.381Z"
   },
   {
    "duration": 20,
    "start_time": "2022-06-30T20:00:46.714Z"
   },
   {
    "duration": 14,
    "start_time": "2022-06-30T20:01:26.033Z"
   },
   {
    "duration": 14,
    "start_time": "2022-06-30T20:02:10.067Z"
   },
   {
    "duration": 17,
    "start_time": "2022-06-30T20:03:07.977Z"
   },
   {
    "duration": 17,
    "start_time": "2022-06-30T20:03:32.246Z"
   },
   {
    "duration": 289,
    "start_time": "2022-06-30T20:09:59.413Z"
   },
   {
    "duration": 307,
    "start_time": "2022-06-30T20:13:10.318Z"
   },
   {
    "duration": 411,
    "start_time": "2022-06-30T20:13:36.562Z"
   },
   {
    "duration": 324,
    "start_time": "2022-06-30T20:13:56.274Z"
   },
   {
    "duration": 14,
    "start_time": "2022-06-30T20:29:39.984Z"
   },
   {
    "duration": 15,
    "start_time": "2022-06-30T20:30:01.240Z"
   },
   {
    "duration": 22,
    "start_time": "2022-06-30T20:30:13.449Z"
   },
   {
    "duration": 7,
    "start_time": "2022-06-30T20:30:28.141Z"
   },
   {
    "duration": 137,
    "start_time": "2022-06-30T20:33:12.472Z"
   },
   {
    "duration": 369,
    "start_time": "2022-06-30T20:34:02.447Z"
   },
   {
    "duration": 150,
    "start_time": "2022-06-30T20:36:19.570Z"
   },
   {
    "duration": 397,
    "start_time": "2022-06-30T20:38:24.150Z"
   },
   {
    "duration": 518,
    "start_time": "2022-06-30T20:39:10.667Z"
   },
   {
    "duration": 383,
    "start_time": "2022-06-30T20:39:20.767Z"
   },
   {
    "duration": 397,
    "start_time": "2022-06-30T20:39:27.351Z"
   },
   {
    "duration": 429,
    "start_time": "2022-06-30T20:39:55.184Z"
   },
   {
    "duration": 398,
    "start_time": "2022-06-30T20:42:21.641Z"
   },
   {
    "duration": 445,
    "start_time": "2022-06-30T20:44:26.998Z"
   },
   {
    "duration": 585,
    "start_time": "2022-06-30T20:45:15.186Z"
   },
   {
    "duration": 419,
    "start_time": "2022-06-30T20:45:47.541Z"
   },
   {
    "duration": 435,
    "start_time": "2022-06-30T20:46:03.708Z"
   },
   {
    "duration": 1403,
    "start_time": "2022-07-01T08:13:41.214Z"
   },
   {
    "duration": 8,
    "start_time": "2022-07-01T08:13:42.619Z"
   },
   {
    "duration": 23,
    "start_time": "2022-07-01T08:13:42.628Z"
   },
   {
    "duration": 23,
    "start_time": "2022-07-01T08:13:42.653Z"
   },
   {
    "duration": 17,
    "start_time": "2022-07-01T08:13:42.677Z"
   },
   {
    "duration": 16,
    "start_time": "2022-07-01T08:13:42.696Z"
   },
   {
    "duration": 324,
    "start_time": "2022-07-01T08:13:42.727Z"
   },
   {
    "duration": 8,
    "start_time": "2022-07-01T08:13:43.052Z"
   },
   {
    "duration": 5,
    "start_time": "2022-07-01T08:13:43.062Z"
   },
   {
    "duration": 253,
    "start_time": "2022-07-01T08:13:43.069Z"
   },
   {
    "duration": 6,
    "start_time": "2022-07-01T08:13:43.324Z"
   },
   {
    "duration": 303,
    "start_time": "2022-07-01T08:13:43.331Z"
   },
   {
    "duration": 264,
    "start_time": "2022-07-01T08:13:43.636Z"
   },
   {
    "duration": 13,
    "start_time": "2022-07-01T08:13:43.902Z"
   },
   {
    "duration": 155,
    "start_time": "2022-07-01T08:13:43.927Z"
   },
   {
    "duration": 149,
    "start_time": "2022-07-01T08:13:44.084Z"
   },
   {
    "duration": 13,
    "start_time": "2022-07-01T08:13:44.234Z"
   },
   {
    "duration": 18,
    "start_time": "2022-07-01T08:13:44.248Z"
   },
   {
    "duration": 21,
    "start_time": "2022-07-01T08:13:44.268Z"
   },
   {
    "duration": 14,
    "start_time": "2022-07-01T08:13:44.290Z"
   },
   {
    "duration": 9,
    "start_time": "2022-07-01T08:13:44.306Z"
   },
   {
    "duration": 231,
    "start_time": "2022-07-01T08:13:44.327Z"
   },
   {
    "duration": 396,
    "start_time": "2022-07-01T08:13:44.560Z"
   },
   {
    "duration": 401,
    "start_time": "2022-07-01T08:13:44.958Z"
   },
   {
    "duration": 407,
    "start_time": "2022-07-01T08:13:45.361Z"
   },
   {
    "duration": 104,
    "start_time": "2022-07-01T09:13:32.488Z"
   },
   {
    "duration": 11,
    "start_time": "2022-07-01T09:14:16.701Z"
   },
   {
    "duration": 9,
    "start_time": "2022-07-01T09:14:31.841Z"
   },
   {
    "duration": 10,
    "start_time": "2022-07-01T09:15:04.372Z"
   },
   {
    "duration": 5,
    "start_time": "2022-07-01T09:17:30.421Z"
   },
   {
    "duration": 782,
    "start_time": "2022-07-01T09:18:27.471Z"
   },
   {
    "duration": 16,
    "start_time": "2022-07-01T09:19:02.927Z"
   },
   {
    "duration": 648,
    "start_time": "2022-07-01T09:19:07.321Z"
   },
   {
    "duration": 7,
    "start_time": "2022-07-01T09:19:21.655Z"
   },
   {
    "duration": 15,
    "start_time": "2022-07-01T09:20:02.513Z"
   },
   {
    "duration": 6,
    "start_time": "2022-07-01T09:21:28.619Z"
   },
   {
    "duration": 15,
    "start_time": "2022-07-01T09:27:03.402Z"
   },
   {
    "duration": 5,
    "start_time": "2022-07-01T09:28:33.157Z"
   },
   {
    "duration": 1198,
    "start_time": "2022-07-01T12:08:10.791Z"
   },
   {
    "duration": 6,
    "start_time": "2022-07-01T12:08:11.991Z"
   },
   {
    "duration": 17,
    "start_time": "2022-07-01T12:08:11.998Z"
   },
   {
    "duration": 34,
    "start_time": "2022-07-01T12:08:12.016Z"
   },
   {
    "duration": 25,
    "start_time": "2022-07-01T12:08:12.054Z"
   },
   {
    "duration": 18,
    "start_time": "2022-07-01T12:08:12.081Z"
   },
   {
    "duration": 369,
    "start_time": "2022-07-01T12:08:12.101Z"
   },
   {
    "duration": 7,
    "start_time": "2022-07-01T12:08:12.472Z"
   },
   {
    "duration": 4,
    "start_time": "2022-07-01T12:08:12.481Z"
   },
   {
    "duration": 240,
    "start_time": "2022-07-01T12:08:12.487Z"
   },
   {
    "duration": 14,
    "start_time": "2022-07-01T12:08:12.731Z"
   },
   {
    "duration": 315,
    "start_time": "2022-07-01T12:08:12.746Z"
   },
   {
    "duration": 293,
    "start_time": "2022-07-01T12:08:13.063Z"
   },
   {
    "duration": 13,
    "start_time": "2022-07-01T12:08:13.360Z"
   },
   {
    "duration": 182,
    "start_time": "2022-07-01T12:08:13.374Z"
   },
   {
    "duration": 193,
    "start_time": "2022-07-01T12:08:13.558Z"
   },
   {
    "duration": 14,
    "start_time": "2022-07-01T12:08:13.759Z"
   },
   {
    "duration": 17,
    "start_time": "2022-07-01T12:08:13.774Z"
   },
   {
    "duration": 15,
    "start_time": "2022-07-01T12:08:13.793Z"
   },
   {
    "duration": 27,
    "start_time": "2022-07-01T12:08:13.810Z"
   },
   {
    "duration": 24,
    "start_time": "2022-07-01T12:08:13.845Z"
   },
   {
    "duration": 251,
    "start_time": "2022-07-01T12:08:13.870Z"
   },
   {
    "duration": 438,
    "start_time": "2022-07-01T12:08:14.123Z"
   },
   {
    "duration": 418,
    "start_time": "2022-07-01T12:08:14.563Z"
   },
   {
    "duration": 444,
    "start_time": "2022-07-01T12:08:14.983Z"
   },
   {
    "duration": 21,
    "start_time": "2022-07-01T12:08:15.435Z"
   },
   {
    "duration": 6,
    "start_time": "2022-07-01T12:08:15.457Z"
   },
   {
    "duration": 15,
    "start_time": "2022-07-01T12:08:15.464Z"
   },
   {
    "duration": 4,
    "start_time": "2022-07-01T12:08:15.480Z"
   },
   {
    "duration": 67,
    "start_time": "2022-07-01T12:12:16.648Z"
   },
   {
    "duration": 1213,
    "start_time": "2022-07-01T12:12:32.067Z"
   },
   {
    "duration": 7,
    "start_time": "2022-07-01T12:12:33.282Z"
   },
   {
    "duration": 16,
    "start_time": "2022-07-01T12:12:33.290Z"
   },
   {
    "duration": 35,
    "start_time": "2022-07-01T12:12:33.307Z"
   },
   {
    "duration": 17,
    "start_time": "2022-07-01T12:12:33.344Z"
   },
   {
    "duration": 17,
    "start_time": "2022-07-01T12:12:33.362Z"
   },
   {
    "duration": 94,
    "start_time": "2022-07-01T12:12:33.380Z"
   },
   {
    "duration": 384,
    "start_time": "2022-07-01T12:12:33.476Z"
   },
   {
    "duration": 8,
    "start_time": "2022-07-01T12:12:33.862Z"
   },
   {
    "duration": 3,
    "start_time": "2022-07-01T12:12:33.871Z"
   },
   {
    "duration": 246,
    "start_time": "2022-07-01T12:12:33.876Z"
   },
   {
    "duration": 8,
    "start_time": "2022-07-01T12:12:34.132Z"
   },
   {
    "duration": 300,
    "start_time": "2022-07-01T12:12:34.142Z"
   },
   {
    "duration": 246,
    "start_time": "2022-07-01T12:12:34.445Z"
   },
   {
    "duration": 14,
    "start_time": "2022-07-01T12:12:34.693Z"
   },
   {
    "duration": 178,
    "start_time": "2022-07-01T12:12:34.709Z"
   },
   {
    "duration": 176,
    "start_time": "2022-07-01T12:12:34.888Z"
   },
   {
    "duration": 13,
    "start_time": "2022-07-01T12:12:35.066Z"
   },
   {
    "duration": 15,
    "start_time": "2022-07-01T12:12:35.080Z"
   },
   {
    "duration": 14,
    "start_time": "2022-07-01T12:12:35.096Z"
   },
   {
    "duration": 32,
    "start_time": "2022-07-01T12:12:35.111Z"
   },
   {
    "duration": 7,
    "start_time": "2022-07-01T12:12:35.144Z"
   },
   {
    "duration": 263,
    "start_time": "2022-07-01T12:12:35.152Z"
   },
   {
    "duration": 422,
    "start_time": "2022-07-01T12:12:35.417Z"
   },
   {
    "duration": 450,
    "start_time": "2022-07-01T12:12:35.843Z"
   },
   {
    "duration": 416,
    "start_time": "2022-07-01T12:12:36.294Z"
   },
   {
    "duration": 11,
    "start_time": "2022-07-01T12:12:36.711Z"
   },
   {
    "duration": 14,
    "start_time": "2022-07-01T12:12:36.729Z"
   },
   {
    "duration": 16,
    "start_time": "2022-07-01T12:12:36.745Z"
   },
   {
    "duration": 4,
    "start_time": "2022-07-01T12:12:36.763Z"
   },
   {
    "duration": 8,
    "start_time": "2022-07-01T12:23:00.087Z"
   },
   {
    "duration": 1473,
    "start_time": "2022-07-03T12:03:14.509Z"
   },
   {
    "duration": 100,
    "start_time": "2022-07-03T12:03:16.803Z"
   },
   {
    "duration": 8,
    "start_time": "2022-07-03T12:03:20.504Z"
   },
   {
    "duration": 16,
    "start_time": "2022-07-03T12:03:23.124Z"
   },
   {
    "duration": 14,
    "start_time": "2022-07-03T12:03:32.885Z"
   },
   {
    "duration": 67,
    "start_time": "2022-07-03T12:08:11.738Z"
   },
   {
    "duration": 97,
    "start_time": "2022-07-03T12:16:40.719Z"
   },
   {
    "duration": 1025,
    "start_time": "2022-07-03T12:16:47.376Z"
   },
   {
    "duration": 67,
    "start_time": "2022-07-03T12:16:48.403Z"
   },
   {
    "duration": 6,
    "start_time": "2022-07-03T12:16:48.471Z"
   },
   {
    "duration": 28,
    "start_time": "2022-07-03T12:16:48.479Z"
   },
   {
    "duration": 22,
    "start_time": "2022-07-03T12:16:48.509Z"
   },
   {
    "duration": 26,
    "start_time": "2022-07-03T12:16:48.532Z"
   },
   {
    "duration": 19,
    "start_time": "2022-07-03T12:16:48.559Z"
   },
   {
    "duration": 22,
    "start_time": "2022-07-03T12:16:48.579Z"
   },
   {
    "duration": 82,
    "start_time": "2022-07-03T12:16:48.603Z"
   },
   {
    "duration": 16,
    "start_time": "2022-07-03T12:16:48.686Z"
   },
   {
    "duration": 364,
    "start_time": "2022-07-03T12:16:48.703Z"
   },
   {
    "duration": 8,
    "start_time": "2022-07-03T12:16:49.068Z"
   },
   {
    "duration": 24,
    "start_time": "2022-07-03T12:16:49.077Z"
   },
   {
    "duration": 252,
    "start_time": "2022-07-03T12:16:49.103Z"
   },
   {
    "duration": 7,
    "start_time": "2022-07-03T12:16:49.356Z"
   },
   {
    "duration": 328,
    "start_time": "2022-07-03T12:16:49.364Z"
   },
   {
    "duration": 279,
    "start_time": "2022-07-03T12:16:49.694Z"
   },
   {
    "duration": 13,
    "start_time": "2022-07-03T12:16:49.975Z"
   },
   {
    "duration": 168,
    "start_time": "2022-07-03T12:16:49.989Z"
   },
   {
    "duration": 151,
    "start_time": "2022-07-03T12:16:50.159Z"
   },
   {
    "duration": 20,
    "start_time": "2022-07-03T12:16:50.312Z"
   },
   {
    "duration": 48,
    "start_time": "2022-07-03T12:16:50.333Z"
   },
   {
    "duration": 21,
    "start_time": "2022-07-03T12:16:50.383Z"
   },
   {
    "duration": 29,
    "start_time": "2022-07-03T12:16:50.406Z"
   },
   {
    "duration": 24,
    "start_time": "2022-07-03T12:16:50.436Z"
   },
   {
    "duration": 239,
    "start_time": "2022-07-03T12:16:50.461Z"
   },
   {
    "duration": 407,
    "start_time": "2022-07-03T12:16:50.701Z"
   },
   {
    "duration": 409,
    "start_time": "2022-07-03T12:16:51.110Z"
   },
   {
    "duration": 406,
    "start_time": "2022-07-03T12:16:51.526Z"
   },
   {
    "duration": 8,
    "start_time": "2022-07-03T12:16:51.933Z"
   },
   {
    "duration": 14,
    "start_time": "2022-07-03T12:16:51.943Z"
   },
   {
    "duration": 10,
    "start_time": "2022-07-03T12:16:51.959Z"
   },
   {
    "duration": 12,
    "start_time": "2022-07-03T12:16:51.970Z"
   },
   {
    "duration": 5,
    "start_time": "2022-07-03T12:16:51.983Z"
   },
   {
    "duration": 16,
    "start_time": "2022-07-03T12:17:39.191Z"
   },
   {
    "duration": 429,
    "start_time": "2022-07-03T12:21:24.276Z"
   },
   {
    "duration": 307,
    "start_time": "2022-07-03T12:22:29.238Z"
   },
   {
    "duration": 399,
    "start_time": "2022-07-03T12:22:56.689Z"
   },
   {
    "duration": 592,
    "start_time": "2022-07-03T12:26:05.969Z"
   },
   {
    "duration": 501,
    "start_time": "2022-07-03T12:26:21.975Z"
   },
   {
    "duration": 574,
    "start_time": "2022-07-03T12:26:28.121Z"
   },
   {
    "duration": 46,
    "start_time": "2022-07-03T12:37:52.110Z"
   },
   {
    "duration": 290,
    "start_time": "2022-07-03T12:42:02.969Z"
   },
   {
    "duration": 285,
    "start_time": "2022-07-03T12:42:19.307Z"
   },
   {
    "duration": 340,
    "start_time": "2022-07-03T12:42:40.869Z"
   },
   {
    "duration": 286,
    "start_time": "2022-07-03T12:43:24.132Z"
   },
   {
    "duration": 310,
    "start_time": "2022-07-03T12:43:56.641Z"
   },
   {
    "duration": 263,
    "start_time": "2022-07-03T12:44:28.403Z"
   },
   {
    "duration": 1254,
    "start_time": "2022-07-04T11:55:45.564Z"
   },
   {
    "duration": 255,
    "start_time": "2022-07-04T11:55:46.819Z"
   },
   {
    "duration": 6,
    "start_time": "2022-07-04T11:55:47.075Z"
   },
   {
    "duration": 22,
    "start_time": "2022-07-04T11:55:47.083Z"
   },
   {
    "duration": 13,
    "start_time": "2022-07-04T11:55:47.106Z"
   },
   {
    "duration": 23,
    "start_time": "2022-07-04T11:55:47.120Z"
   },
   {
    "duration": 17,
    "start_time": "2022-07-04T11:55:47.144Z"
   },
   {
    "duration": 25,
    "start_time": "2022-07-04T11:55:47.163Z"
   },
   {
    "duration": 85,
    "start_time": "2022-07-04T11:55:47.190Z"
   },
   {
    "duration": 15,
    "start_time": "2022-07-04T11:55:47.277Z"
   },
   {
    "duration": 364,
    "start_time": "2022-07-04T11:55:47.293Z"
   },
   {
    "duration": 7,
    "start_time": "2022-07-04T11:55:47.659Z"
   },
   {
    "duration": 6,
    "start_time": "2022-07-04T11:55:47.667Z"
   },
   {
    "duration": 248,
    "start_time": "2022-07-04T11:55:47.675Z"
   },
   {
    "duration": 14,
    "start_time": "2022-07-04T11:55:47.925Z"
   },
   {
    "duration": 278,
    "start_time": "2022-07-04T11:55:47.941Z"
   },
   {
    "duration": 257,
    "start_time": "2022-07-04T11:55:48.221Z"
   },
   {
    "duration": 606,
    "start_time": "2022-07-04T11:55:48.480Z"
   },
   {
    "duration": 14,
    "start_time": "2022-07-04T11:55:49.088Z"
   },
   {
    "duration": 357,
    "start_time": "2022-07-04T11:55:49.103Z"
   },
   {
    "duration": 13,
    "start_time": "2022-07-04T11:55:49.462Z"
   },
   {
    "duration": 334,
    "start_time": "2022-07-04T11:55:49.476Z"
   },
   {
    "duration": 30,
    "start_time": "2022-07-04T11:55:49.813Z"
   },
   {
    "duration": 324,
    "start_time": "2022-07-04T11:55:49.845Z"
   },
   {
    "duration": 13,
    "start_time": "2022-07-04T11:55:50.170Z"
   },
   {
    "duration": 316,
    "start_time": "2022-07-04T11:55:50.184Z"
   },
   {
    "duration": 13,
    "start_time": "2022-07-04T11:55:50.502Z"
   },
   {
    "duration": 288,
    "start_time": "2022-07-04T11:55:50.528Z"
   },
   {
    "duration": 24,
    "start_time": "2022-07-04T11:55:50.818Z"
   },
   {
    "duration": 175,
    "start_time": "2022-07-04T11:55:50.844Z"
   },
   {
    "duration": 439,
    "start_time": "2022-07-04T11:55:51.021Z"
   },
   {
    "duration": 428,
    "start_time": "2022-07-04T11:55:51.462Z"
   },
   {
    "duration": 533,
    "start_time": "2022-07-04T11:55:51.891Z"
   },
   {
    "duration": 22,
    "start_time": "2022-07-04T11:55:52.426Z"
   },
   {
    "duration": 13,
    "start_time": "2022-07-04T11:55:52.450Z"
   },
   {
    "duration": 8,
    "start_time": "2022-07-04T11:55:52.465Z"
   },
   {
    "duration": 21,
    "start_time": "2022-07-04T11:55:52.475Z"
   },
   {
    "duration": 7,
    "start_time": "2022-07-04T11:55:52.498Z"
   },
   {
    "duration": 92,
    "start_time": "2022-07-04T12:00:46.402Z"
   },
   {
    "duration": 7,
    "start_time": "2022-07-04T12:06:26.938Z"
   },
   {
    "duration": 16,
    "start_time": "2022-07-04T12:06:54.366Z"
   },
   {
    "duration": 13,
    "start_time": "2022-07-04T12:07:19.169Z"
   },
   {
    "duration": 104,
    "start_time": "2022-07-04T12:10:58.021Z"
   },
   {
    "duration": 9,
    "start_time": "2022-07-04T12:11:49.948Z"
   },
   {
    "duration": 8,
    "start_time": "2022-07-04T12:12:33.569Z"
   },
   {
    "duration": 11,
    "start_time": "2022-07-04T12:12:41.970Z"
   },
   {
    "duration": 29,
    "start_time": "2022-07-04T12:13:43.019Z"
   },
   {
    "duration": 21,
    "start_time": "2022-07-04T12:14:00.539Z"
   },
   {
    "duration": 1129,
    "start_time": "2022-07-04T12:14:08.493Z"
   },
   {
    "duration": 81,
    "start_time": "2022-07-04T12:14:09.624Z"
   },
   {
    "duration": 7,
    "start_time": "2022-07-04T12:14:09.707Z"
   },
   {
    "duration": 21,
    "start_time": "2022-07-04T12:14:09.716Z"
   },
   {
    "duration": 30,
    "start_time": "2022-07-04T12:14:09.738Z"
   },
   {
    "duration": 31,
    "start_time": "2022-07-04T12:14:09.770Z"
   },
   {
    "duration": 20,
    "start_time": "2022-07-04T12:14:09.803Z"
   },
   {
    "duration": 24,
    "start_time": "2022-07-04T12:14:09.825Z"
   },
   {
    "duration": 94,
    "start_time": "2022-07-04T12:14:09.851Z"
   },
   {
    "duration": 19,
    "start_time": "2022-07-04T12:14:09.948Z"
   },
   {
    "duration": 376,
    "start_time": "2022-07-04T12:14:09.969Z"
   },
   {
    "duration": 8,
    "start_time": "2022-07-04T12:14:10.346Z"
   },
   {
    "duration": 31,
    "start_time": "2022-07-04T12:14:10.355Z"
   },
   {
    "duration": 280,
    "start_time": "2022-07-04T12:14:10.388Z"
   },
   {
    "duration": 7,
    "start_time": "2022-07-04T12:14:10.670Z"
   },
   {
    "duration": 338,
    "start_time": "2022-07-04T12:14:10.679Z"
   },
   {
    "duration": 302,
    "start_time": "2022-07-04T12:14:11.019Z"
   },
   {
    "duration": 637,
    "start_time": "2022-07-04T12:14:11.323Z"
   },
   {
    "duration": 12,
    "start_time": "2022-07-04T12:14:11.962Z"
   },
   {
    "duration": 313,
    "start_time": "2022-07-04T12:14:11.976Z"
   },
   {
    "duration": 12,
    "start_time": "2022-07-04T12:14:12.291Z"
   },
   {
    "duration": 309,
    "start_time": "2022-07-04T12:14:12.304Z"
   },
   {
    "duration": 22,
    "start_time": "2022-07-04T12:14:12.615Z"
   },
   {
    "duration": 281,
    "start_time": "2022-07-04T12:14:12.640Z"
   },
   {
    "duration": 32,
    "start_time": "2022-07-04T12:14:12.923Z"
   },
   {
    "duration": 280,
    "start_time": "2022-07-04T12:14:12.956Z"
   },
   {
    "duration": 17,
    "start_time": "2022-07-04T12:14:13.238Z"
   },
   {
    "duration": 268,
    "start_time": "2022-07-04T12:14:13.258Z"
   },
   {
    "duration": 113,
    "start_time": "2022-07-04T12:14:13.535Z"
   },
   {
    "duration": 0,
    "start_time": "2022-07-04T12:14:13.650Z"
   },
   {
    "duration": 0,
    "start_time": "2022-07-04T12:14:13.651Z"
   },
   {
    "duration": 0,
    "start_time": "2022-07-04T12:14:13.653Z"
   },
   {
    "duration": 0,
    "start_time": "2022-07-04T12:14:13.654Z"
   },
   {
    "duration": 0,
    "start_time": "2022-07-04T12:14:13.656Z"
   },
   {
    "duration": 0,
    "start_time": "2022-07-04T12:14:13.657Z"
   },
   {
    "duration": 0,
    "start_time": "2022-07-04T12:14:13.658Z"
   },
   {
    "duration": 0,
    "start_time": "2022-07-04T12:14:13.659Z"
   },
   {
    "duration": 0,
    "start_time": "2022-07-04T12:14:13.661Z"
   },
   {
    "duration": 9,
    "start_time": "2022-07-04T12:19:26.211Z"
   },
   {
    "duration": 182,
    "start_time": "2022-07-04T12:25:45.325Z"
   },
   {
    "duration": 9,
    "start_time": "2022-07-04T12:31:20.312Z"
   },
   {
    "duration": 7,
    "start_time": "2022-07-04T12:31:27.350Z"
   },
   {
    "duration": 163,
    "start_time": "2022-07-04T12:32:13.156Z"
   },
   {
    "duration": 141,
    "start_time": "2022-07-04T12:32:32.063Z"
   },
   {
    "duration": 7,
    "start_time": "2022-07-04T12:32:36.652Z"
   },
   {
    "duration": 203,
    "start_time": "2022-07-04T12:35:51.069Z"
   },
   {
    "duration": 183,
    "start_time": "2022-07-04T12:36:58.872Z"
   },
   {
    "duration": 187,
    "start_time": "2022-07-04T12:37:13.400Z"
   },
   {
    "duration": 7,
    "start_time": "2022-07-04T12:40:26.800Z"
   },
   {
    "duration": 11,
    "start_time": "2022-07-04T12:40:59.705Z"
   },
   {
    "duration": 9,
    "start_time": "2022-07-04T12:41:37.163Z"
   },
   {
    "duration": 10,
    "start_time": "2022-07-04T12:43:22.389Z"
   },
   {
    "duration": 1514,
    "start_time": "2022-07-04T12:43:32.346Z"
   },
   {
    "duration": 85,
    "start_time": "2022-07-04T12:43:33.861Z"
   },
   {
    "duration": 10,
    "start_time": "2022-07-04T12:43:33.947Z"
   },
   {
    "duration": 17,
    "start_time": "2022-07-04T12:43:33.959Z"
   },
   {
    "duration": 15,
    "start_time": "2022-07-04T12:43:33.979Z"
   },
   {
    "duration": 42,
    "start_time": "2022-07-04T12:43:33.996Z"
   },
   {
    "duration": 22,
    "start_time": "2022-07-04T12:43:34.042Z"
   },
   {
    "duration": 18,
    "start_time": "2022-07-04T12:43:34.065Z"
   },
   {
    "duration": 165,
    "start_time": "2022-07-04T12:43:34.084Z"
   },
   {
    "duration": 19,
    "start_time": "2022-07-04T12:43:34.253Z"
   },
   {
    "duration": 1067,
    "start_time": "2022-07-04T12:43:34.273Z"
   },
   {
    "duration": 15,
    "start_time": "2022-07-04T12:43:35.343Z"
   },
   {
    "duration": 17,
    "start_time": "2022-07-04T12:43:35.360Z"
   },
   {
    "duration": 526,
    "start_time": "2022-07-04T12:43:35.381Z"
   },
   {
    "duration": 8,
    "start_time": "2022-07-04T12:43:35.934Z"
   },
   {
    "duration": 657,
    "start_time": "2022-07-04T12:43:35.944Z"
   },
   {
    "duration": 298,
    "start_time": "2022-07-04T12:43:36.603Z"
   },
   {
    "duration": 2165,
    "start_time": "2022-07-04T12:43:36.920Z"
   },
   {
    "duration": 13,
    "start_time": "2022-07-04T12:43:39.086Z"
   },
   {
    "duration": 351,
    "start_time": "2022-07-04T12:43:39.101Z"
   },
   {
    "duration": 13,
    "start_time": "2022-07-04T12:43:39.453Z"
   },
   {
    "duration": 477,
    "start_time": "2022-07-04T12:43:39.468Z"
   },
   {
    "duration": 14,
    "start_time": "2022-07-04T12:43:39.947Z"
   },
   {
    "duration": 306,
    "start_time": "2022-07-04T12:43:39.962Z"
   },
   {
    "duration": 13,
    "start_time": "2022-07-04T12:43:40.270Z"
   },
   {
    "duration": 314,
    "start_time": "2022-07-04T12:43:40.285Z"
   },
   {
    "duration": 13,
    "start_time": "2022-07-04T12:43:40.601Z"
   },
   {
    "duration": 287,
    "start_time": "2022-07-04T12:43:40.616Z"
   },
   {
    "duration": 7,
    "start_time": "2022-07-04T12:43:40.904Z"
   },
   {
    "duration": 193,
    "start_time": "2022-07-04T12:43:40.913Z"
   },
   {
    "duration": 113,
    "start_time": "2022-07-04T12:43:41.108Z"
   },
   {
    "duration": 0,
    "start_time": "2022-07-04T12:43:41.223Z"
   },
   {
    "duration": 0,
    "start_time": "2022-07-04T12:43:41.230Z"
   },
   {
    "duration": 0,
    "start_time": "2022-07-04T12:43:41.231Z"
   },
   {
    "duration": 0,
    "start_time": "2022-07-04T12:43:41.233Z"
   },
   {
    "duration": 0,
    "start_time": "2022-07-04T12:43:41.234Z"
   },
   {
    "duration": 0,
    "start_time": "2022-07-04T12:43:41.235Z"
   },
   {
    "duration": 0,
    "start_time": "2022-07-04T12:43:41.236Z"
   },
   {
    "duration": 0,
    "start_time": "2022-07-04T12:43:41.236Z"
   },
   {
    "duration": 0,
    "start_time": "2022-07-04T12:43:41.237Z"
   },
   {
    "duration": 0,
    "start_time": "2022-07-04T12:43:41.238Z"
   },
   {
    "duration": 9,
    "start_time": "2022-07-04T12:45:09.655Z"
   },
   {
    "duration": 12,
    "start_time": "2022-07-04T12:46:43.728Z"
   },
   {
    "duration": 9,
    "start_time": "2022-07-04T12:46:54.058Z"
   },
   {
    "duration": 6,
    "start_time": "2022-07-04T12:47:41.791Z"
   },
   {
    "duration": 11,
    "start_time": "2022-07-04T12:48:38.890Z"
   },
   {
    "duration": 24,
    "start_time": "2022-07-04T12:49:02.821Z"
   },
   {
    "duration": 19,
    "start_time": "2022-07-04T12:49:14.951Z"
   },
   {
    "duration": 17,
    "start_time": "2022-07-04T12:49:37.346Z"
   },
   {
    "duration": 14,
    "start_time": "2022-07-04T12:50:06.491Z"
   },
   {
    "duration": 156,
    "start_time": "2022-07-04T12:50:31.108Z"
   },
   {
    "duration": 122,
    "start_time": "2022-07-04T12:50:53.904Z"
   },
   {
    "duration": 15,
    "start_time": "2022-07-04T12:53:38.969Z"
   },
   {
    "duration": 182,
    "start_time": "2022-07-04T12:58:18.256Z"
   },
   {
    "duration": 527,
    "start_time": "2022-07-04T13:00:47.828Z"
   },
   {
    "duration": 454,
    "start_time": "2022-07-04T13:00:56.925Z"
   },
   {
    "duration": 438,
    "start_time": "2022-07-04T13:01:18.654Z"
   },
   {
    "duration": 9,
    "start_time": "2022-07-04T13:03:29.569Z"
   },
   {
    "duration": 10,
    "start_time": "2022-07-04T13:13:39.626Z"
   },
   {
    "duration": 7,
    "start_time": "2022-07-04T13:13:44.472Z"
   },
   {
    "duration": 8,
    "start_time": "2022-07-04T13:14:43.574Z"
   },
   {
    "duration": 1184,
    "start_time": "2022-07-04T13:17:50.976Z"
   },
   {
    "duration": 85,
    "start_time": "2022-07-04T13:17:52.162Z"
   },
   {
    "duration": 9,
    "start_time": "2022-07-04T13:17:52.248Z"
   },
   {
    "duration": 16,
    "start_time": "2022-07-04T13:17:52.259Z"
   },
   {
    "duration": 15,
    "start_time": "2022-07-04T13:17:52.277Z"
   },
   {
    "duration": 47,
    "start_time": "2022-07-04T13:17:52.293Z"
   },
   {
    "duration": 24,
    "start_time": "2022-07-04T13:17:52.341Z"
   },
   {
    "duration": 20,
    "start_time": "2022-07-04T13:17:52.367Z"
   },
   {
    "duration": 98,
    "start_time": "2022-07-04T13:17:52.389Z"
   },
   {
    "duration": 18,
    "start_time": "2022-07-04T13:17:52.490Z"
   },
   {
    "duration": 28,
    "start_time": "2022-07-04T13:17:52.510Z"
   },
   {
    "duration": 417,
    "start_time": "2022-07-04T13:17:52.544Z"
   },
   {
    "duration": 8,
    "start_time": "2022-07-04T13:17:52.963Z"
   },
   {
    "duration": 3,
    "start_time": "2022-07-04T13:17:52.973Z"
   },
   {
    "duration": 286,
    "start_time": "2022-07-04T13:17:52.978Z"
   },
   {
    "duration": 10,
    "start_time": "2022-07-04T13:17:53.266Z"
   },
   {
    "duration": 328,
    "start_time": "2022-07-04T13:17:53.277Z"
   },
   {
    "duration": 282,
    "start_time": "2022-07-04T13:17:53.607Z"
   },
   {
    "duration": 633,
    "start_time": "2022-07-04T13:17:53.891Z"
   },
   {
    "duration": 27,
    "start_time": "2022-07-04T13:17:54.530Z"
   },
   {
    "duration": 321,
    "start_time": "2022-07-04T13:17:54.558Z"
   },
   {
    "duration": 12,
    "start_time": "2022-07-04T13:17:54.881Z"
   },
   {
    "duration": 324,
    "start_time": "2022-07-04T13:17:54.896Z"
   },
   {
    "duration": 31,
    "start_time": "2022-07-04T13:17:55.221Z"
   },
   {
    "duration": 329,
    "start_time": "2022-07-04T13:17:55.253Z"
   },
   {
    "duration": 13,
    "start_time": "2022-07-04T13:17:55.584Z"
   },
   {
    "duration": 532,
    "start_time": "2022-07-04T13:17:55.598Z"
   },
   {
    "duration": 17,
    "start_time": "2022-07-04T13:17:56.139Z"
   },
   {
    "duration": 616,
    "start_time": "2022-07-04T13:17:56.159Z"
   },
   {
    "duration": 7,
    "start_time": "2022-07-04T13:17:56.834Z"
   },
   {
    "duration": 427,
    "start_time": "2022-07-04T13:17:56.843Z"
   },
   {
    "duration": 69,
    "start_time": "2022-07-04T13:17:57.272Z"
   },
   {
    "duration": 287,
    "start_time": "2022-07-04T13:17:57.343Z"
   },
   {
    "duration": 1,
    "start_time": "2022-07-04T13:17:57.635Z"
   },
   {
    "duration": 0,
    "start_time": "2022-07-04T13:17:57.636Z"
   },
   {
    "duration": 0,
    "start_time": "2022-07-04T13:17:57.637Z"
   },
   {
    "duration": 0,
    "start_time": "2022-07-04T13:17:57.642Z"
   },
   {
    "duration": 0,
    "start_time": "2022-07-04T13:17:57.643Z"
   },
   {
    "duration": 0,
    "start_time": "2022-07-04T13:17:57.643Z"
   },
   {
    "duration": 0,
    "start_time": "2022-07-04T13:17:57.644Z"
   },
   {
    "duration": 0,
    "start_time": "2022-07-04T13:17:57.645Z"
   },
   {
    "duration": 425,
    "start_time": "2022-07-04T13:18:18.573Z"
   },
   {
    "duration": 581,
    "start_time": "2022-07-04T13:19:03.267Z"
   },
   {
    "duration": 431,
    "start_time": "2022-07-04T13:22:07.955Z"
   },
   {
    "duration": 1075,
    "start_time": "2022-07-05T00:00:38.837Z"
   },
   {
    "duration": 63,
    "start_time": "2022-07-05T00:00:39.914Z"
   },
   {
    "duration": 6,
    "start_time": "2022-07-05T00:00:39.978Z"
   },
   {
    "duration": 15,
    "start_time": "2022-07-05T00:00:39.986Z"
   },
   {
    "duration": 12,
    "start_time": "2022-07-05T00:00:40.004Z"
   },
   {
    "duration": 32,
    "start_time": "2022-07-05T00:00:40.018Z"
   },
   {
    "duration": 17,
    "start_time": "2022-07-05T00:00:40.052Z"
   },
   {
    "duration": 15,
    "start_time": "2022-07-05T00:00:40.070Z"
   },
   {
    "duration": 84,
    "start_time": "2022-07-05T00:00:40.087Z"
   },
   {
    "duration": 14,
    "start_time": "2022-07-05T00:00:40.173Z"
   },
   {
    "duration": 8,
    "start_time": "2022-07-05T00:00:40.188Z"
   },
   {
    "duration": 337,
    "start_time": "2022-07-05T00:00:40.197Z"
   },
   {
    "duration": 11,
    "start_time": "2022-07-05T00:00:40.535Z"
   },
   {
    "duration": 2,
    "start_time": "2022-07-05T00:00:40.548Z"
   },
   {
    "duration": 245,
    "start_time": "2022-07-05T00:00:40.552Z"
   },
   {
    "duration": 6,
    "start_time": "2022-07-05T00:00:40.798Z"
   },
   {
    "duration": 260,
    "start_time": "2022-07-05T00:00:40.806Z"
   },
   {
    "duration": 235,
    "start_time": "2022-07-05T00:00:41.068Z"
   },
   {
    "duration": 569,
    "start_time": "2022-07-05T00:00:41.305Z"
   },
   {
    "duration": 13,
    "start_time": "2022-07-05T00:00:41.876Z"
   },
   {
    "duration": 282,
    "start_time": "2022-07-05T00:00:41.890Z"
   },
   {
    "duration": 12,
    "start_time": "2022-07-05T00:00:42.174Z"
   },
   {
    "duration": 276,
    "start_time": "2022-07-05T00:00:42.187Z"
   },
   {
    "duration": 13,
    "start_time": "2022-07-05T00:00:42.464Z"
   },
   {
    "duration": 274,
    "start_time": "2022-07-05T00:00:42.479Z"
   },
   {
    "duration": 13,
    "start_time": "2022-07-05T00:00:42.755Z"
   },
   {
    "duration": 262,
    "start_time": "2022-07-05T00:00:42.769Z"
   },
   {
    "duration": 17,
    "start_time": "2022-07-05T00:00:43.033Z"
   },
   {
    "duration": 247,
    "start_time": "2022-07-05T00:00:43.052Z"
   },
   {
    "duration": 6,
    "start_time": "2022-07-05T00:00:43.301Z"
   },
   {
    "duration": 160,
    "start_time": "2022-07-05T00:00:43.308Z"
   },
   {
    "duration": 11,
    "start_time": "2022-07-05T00:00:43.470Z"
   },
   {
    "duration": 112,
    "start_time": "2022-07-05T00:00:43.482Z"
   },
   {
    "duration": 0,
    "start_time": "2022-07-05T00:00:43.596Z"
   },
   {
    "duration": 0,
    "start_time": "2022-07-05T00:00:43.598Z"
   },
   {
    "duration": 0,
    "start_time": "2022-07-05T00:00:43.598Z"
   },
   {
    "duration": 0,
    "start_time": "2022-07-05T00:00:43.599Z"
   },
   {
    "duration": 0,
    "start_time": "2022-07-05T00:00:43.601Z"
   },
   {
    "duration": 0,
    "start_time": "2022-07-05T00:00:43.602Z"
   },
   {
    "duration": 0,
    "start_time": "2022-07-05T00:00:43.603Z"
   },
   {
    "duration": 0,
    "start_time": "2022-07-05T00:00:43.604Z"
   },
   {
    "duration": 6,
    "start_time": "2022-07-05T00:07:59.134Z"
   },
   {
    "duration": 9,
    "start_time": "2022-07-05T00:08:30.288Z"
   },
   {
    "duration": 10,
    "start_time": "2022-07-05T00:12:03.002Z"
   },
   {
    "duration": 1049,
    "start_time": "2022-07-05T00:16:39.063Z"
   },
   {
    "duration": 63,
    "start_time": "2022-07-05T00:16:40.113Z"
   },
   {
    "duration": 6,
    "start_time": "2022-07-05T00:16:40.177Z"
   },
   {
    "duration": 25,
    "start_time": "2022-07-05T00:16:40.184Z"
   },
   {
    "duration": 12,
    "start_time": "2022-07-05T00:16:40.211Z"
   },
   {
    "duration": 27,
    "start_time": "2022-07-05T00:16:40.225Z"
   },
   {
    "duration": 17,
    "start_time": "2022-07-05T00:16:40.254Z"
   },
   {
    "duration": 14,
    "start_time": "2022-07-05T00:16:40.272Z"
   },
   {
    "duration": 83,
    "start_time": "2022-07-05T00:16:40.288Z"
   },
   {
    "duration": 14,
    "start_time": "2022-07-05T00:16:40.373Z"
   },
   {
    "duration": 6,
    "start_time": "2022-07-05T00:16:40.388Z"
   },
   {
    "duration": 325,
    "start_time": "2022-07-05T00:16:40.395Z"
   },
   {
    "duration": 7,
    "start_time": "2022-07-05T00:16:40.722Z"
   },
   {
    "duration": 10,
    "start_time": "2022-07-05T00:16:40.732Z"
   },
   {
    "duration": 226,
    "start_time": "2022-07-05T00:16:40.743Z"
   },
   {
    "duration": 7,
    "start_time": "2022-07-05T00:16:40.971Z"
   },
   {
    "duration": 259,
    "start_time": "2022-07-05T00:16:40.980Z"
   },
   {
    "duration": 242,
    "start_time": "2022-07-05T00:16:41.242Z"
   },
   {
    "duration": 546,
    "start_time": "2022-07-05T00:16:41.487Z"
   },
   {
    "duration": 13,
    "start_time": "2022-07-05T00:16:42.034Z"
   },
   {
    "duration": 276,
    "start_time": "2022-07-05T00:16:42.049Z"
   },
   {
    "duration": 17,
    "start_time": "2022-07-05T00:16:42.326Z"
   },
   {
    "duration": 268,
    "start_time": "2022-07-05T00:16:42.345Z"
   },
   {
    "duration": 12,
    "start_time": "2022-07-05T00:16:42.615Z"
   },
   {
    "duration": 269,
    "start_time": "2022-07-05T00:16:42.628Z"
   },
   {
    "duration": 12,
    "start_time": "2022-07-05T00:16:42.899Z"
   },
   {
    "duration": 271,
    "start_time": "2022-07-05T00:16:42.912Z"
   },
   {
    "duration": 13,
    "start_time": "2022-07-05T00:16:43.184Z"
   },
   {
    "duration": 257,
    "start_time": "2022-07-05T00:16:43.198Z"
   },
   {
    "duration": 10,
    "start_time": "2022-07-05T00:16:43.456Z"
   },
   {
    "duration": 8,
    "start_time": "2022-07-05T00:16:43.467Z"
   },
   {
    "duration": 168,
    "start_time": "2022-07-05T00:16:43.477Z"
   },
   {
    "duration": 11,
    "start_time": "2022-07-05T00:16:43.646Z"
   },
   {
    "duration": 385,
    "start_time": "2022-07-05T00:16:43.659Z"
   },
   {
    "duration": 376,
    "start_time": "2022-07-05T00:16:44.046Z"
   },
   {
    "duration": 474,
    "start_time": "2022-07-05T00:16:44.424Z"
   },
   {
    "duration": 7,
    "start_time": "2022-07-05T00:16:44.900Z"
   },
   {
    "duration": 13,
    "start_time": "2022-07-05T00:16:44.908Z"
   },
   {
    "duration": 3,
    "start_time": "2022-07-05T00:16:44.923Z"
   },
   {
    "duration": 9,
    "start_time": "2022-07-05T00:16:44.942Z"
   },
   {
    "duration": 4,
    "start_time": "2022-07-05T00:16:44.954Z"
   },
   {
    "duration": 493,
    "start_time": "2022-07-05T00:17:46.839Z"
   },
   {
    "duration": 494,
    "start_time": "2022-07-05T00:19:16.228Z"
   }
  ],
  "kernelspec": {
   "display_name": "Python 3 (ipykernel)",
   "language": "python",
   "name": "python3"
  },
  "language_info": {
   "codemirror_mode": {
    "name": "ipython",
    "version": 3
   },
   "file_extension": ".py",
   "mimetype": "text/x-python",
   "name": "python",
   "nbconvert_exporter": "python",
   "pygments_lexer": "ipython3",
   "version": "3.9.12"
  },
  "toc": {
   "base_numbering": 1,
   "nav_menu": {},
   "number_sections": true,
   "sideBar": true,
   "skip_h1_title": true,
   "title_cell": "Table of Contents",
   "title_sidebar": "Contents",
   "toc_cell": false,
   "toc_position": {
    "height": "calc(100% - 180px)",
    "left": "10px",
    "top": "150px",
    "width": "212.682px"
   },
   "toc_section_display": true,
   "toc_window_display": true
  }
 },
 "nbformat": 4,
 "nbformat_minor": 2
}
